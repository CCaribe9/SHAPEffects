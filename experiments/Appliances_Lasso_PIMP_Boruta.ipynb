{
 "cells": [
  {
   "cell_type": "markdown",
   "metadata": {},
   "source": [
    "### Libraries and functions"
   ]
  },
  {
   "cell_type": "code",
   "execution_count": 1,
   "metadata": {
    "ExecuteTime": {
     "end_time": "2023-01-05T10:23:08.314727Z",
     "start_time": "2023-01-05T10:22:35.299079Z"
    }
   },
   "outputs": [
    {
     "name": "stderr",
     "output_type": "stream",
     "text": [
      "C:\\Users\\csebastian\\.conda\\envs\\BrainEN_v1\\lib\\site-packages\\tqdm\\auto.py:22: TqdmWarning: IProgress not found. Please update jupyter and ipywidgets. See https://ipywidgets.readthedocs.io/en/stable/user_install.html\n",
      "  from .autonotebook import tqdm as notebook_tqdm\n"
     ]
    }
   ],
   "source": [
    "import pandas as pd\n",
    "import numpy as np\n",
    "from catboost import CatBoostRegressor\n",
    "from sklearn.model_selection import train_test_split\n",
    "from sklearn.metrics import r2_score,mean_squared_error, mean_absolute_error\n",
    "from sklearn.preprocessing import MinMaxScaler\n",
    "from sklearn.linear_model import Lasso\n",
    "from tabulate import tabulate\n",
    "import seaborn as sns\n",
    "import matplotlib.pyplot as plt\n",
    "from BorutaShap import BorutaShap\n",
    "from powershap  import PowerShap\n",
    "import shapicant\n",
    "from tqdm import tqdm\n",
    "from SHAPEffects import FeatureSelector\n",
    "import random\n",
    "import shap\n",
    "import os\n",
    "import sys\n",
    "from eli5.sklearn import PermutationImportance\n",
    "from sklearn.feature_selection import SelectFromModel\n",
    "os.environ['PYTHONHASHSEED'] = str(1234)\n",
    "random.seed(1234)\n",
    "np.random.seed(1234)\n",
    "plt.style.use('seaborn-whitegrid')\n",
    "plt.rcParams['font.family'] = 'serif'"
   ]
  },
  {
   "cell_type": "code",
   "execution_count": 2,
   "metadata": {
    "ExecuteTime": {
     "end_time": "2023-01-05T10:23:08.364204Z",
     "start_time": "2023-01-05T10:23:08.314727Z"
    }
   },
   "outputs": [],
   "source": [
    "# Taken from PowerSHAP paper\n",
    "def scores_calc_print(Y,Y_pred,print_bool):\n",
    "    if len(Y_pred) > 1:\n",
    "        R2_total = r2_score(Y,Y_pred)\n",
    "    else:\n",
    "        R2_total = -1\n",
    "    RMSE_total = mean_squared_error(Y,Y_pred, squared=False)\n",
    "    MAE_total = mean_absolute_error(Y,Y_pred)\n",
    "    \n",
    "    if print_bool:\n",
    "        print(tabulate([[RMSE_total, MAE_total,R2_total]], [\"RMSE\",\"MAE\",\"R²\"], tablefmt=\"grid\"))\n",
    "    else:\n",
    "        return {\"R2\":R2_total,\"RMSE\":RMSE_total,\"MAE\":MAE_total}"
   ]
  },
  {
   "cell_type": "markdown",
   "metadata": {},
   "source": [
    "### Data"
   ]
  },
  {
   "cell_type": "code",
   "execution_count": 3,
   "metadata": {
    "ExecuteTime": {
     "end_time": "2023-01-05T10:23:08.630198Z",
     "start_time": "2023-01-05T10:23:08.365243Z"
    }
   },
   "outputs": [],
   "source": [
    "current_db = pd.read_csv(r\"Data/energydata_complete.csv\")\n",
    "# current_db = current_db.reset_index()\n",
    "current_db['index'] = current_db.index\n",
    "Index_col = \"index\"\n",
    "target_col = \"Appliances\""
   ]
  },
  {
   "cell_type": "markdown",
   "metadata": {},
   "source": [
    "Train-test split"
   ]
  },
  {
   "cell_type": "code",
   "execution_count": 4,
   "metadata": {
    "ExecuteTime": {
     "end_time": "2023-01-05T10:23:08.670496Z",
     "start_time": "2023-01-05T10:23:08.631991Z"
    }
   },
   "outputs": [],
   "source": [
    "train_idx,test_idx = train_test_split(current_db[Index_col].unique(),test_size=0.25,random_state = 1)\n",
    "current_db_train = current_db[current_db[Index_col].isin(train_idx)]\n",
    "train_idx, val_idx = train_test_split(current_db_train[Index_col].unique(),test_size=0.37,random_state = 1)\n",
    "current_db_val = current_db_train[current_db_train[Index_col].isin(val_idx)]\n",
    "current_db_train = current_db[current_db[Index_col].isin(train_idx)]\n",
    "current_db_test = current_db[current_db[Index_col].isin(test_idx)]"
   ]
  },
  {
   "cell_type": "code",
   "execution_count": 5,
   "metadata": {
    "ExecuteTime": {
     "end_time": "2023-01-05T10:23:08.692318Z",
     "start_time": "2023-01-05T10:23:08.670496Z"
    }
   },
   "outputs": [],
   "source": [
    "current_db_val_test = current_db_val.append(current_db_test)"
   ]
  },
  {
   "cell_type": "code",
   "execution_count": 6,
   "metadata": {
    "ExecuteTime": {
     "end_time": "2023-01-05T10:23:08.721821Z",
     "start_time": "2023-01-05T10:23:08.692318Z"
    }
   },
   "outputs": [
    {
     "data": {
      "text/plain": [
       "(9324, 5477, 4934, 19735, 19735)"
      ]
     },
     "execution_count": 6,
     "metadata": {},
     "output_type": "execute_result"
    }
   ],
   "source": [
    "len(current_db_train), len(current_db_val), len(current_db_test), len(current_db), len(current_db_train) + len(current_db_val) + len(current_db_test)"
   ]
  },
  {
   "cell_type": "markdown",
   "metadata": {},
   "source": [
    "Modelo con todas las variables"
   ]
  },
  {
   "cell_type": "code",
   "execution_count": 8,
   "metadata": {
    "ExecuteTime": {
     "end_time": "2023-01-05T10:23:08.763833Z",
     "start_time": "2023-01-05T10:23:08.739296Z"
    }
   },
   "outputs": [],
   "source": [
    "X_train = current_db_train[list(current_db_train.columns.values[2:-1])]\n",
    "y_train = current_db_train[target_col]\n",
    "\n",
    "X_val = current_db_val[list(current_db_val.columns.values[2:-1])]\n",
    "y_val = current_db_val[target_col]\n",
    "\n",
    "X_test = current_db_test[list(current_db_test.columns.values[2:-1])]\n",
    "y_test = current_db_test[target_col]"
   ]
  },
  {
   "cell_type": "code",
   "execution_count": 10,
   "metadata": {
    "ExecuteTime": {
     "end_time": "2023-01-05T10:23:08.805894Z",
     "start_time": "2023-01-05T10:23:08.780269Z"
    }
   },
   "outputs": [],
   "source": [
    "X_train_val = X_train.append(X_val)\n",
    "y_train_val = y_train.append(y_val)"
   ]
  },
  {
   "cell_type": "code",
   "execution_count": 11,
   "metadata": {
    "ExecuteTime": {
     "end_time": "2023-01-05T10:23:08.824697Z",
     "start_time": "2023-01-05T10:23:08.805894Z"
    }
   },
   "outputs": [],
   "source": [
    "current_db_train_val = current_db_train.append(current_db_val)"
   ]
  },
  {
   "cell_type": "code",
   "execution_count": 12,
   "metadata": {
    "ExecuteTime": {
     "end_time": "2023-01-05T10:23:08.834238Z",
     "start_time": "2023-01-05T10:23:08.824697Z"
    }
   },
   "outputs": [],
   "source": [
    "seeds = np.random.randint(1, 999999, 50)"
   ]
  },
  {
   "cell_type": "code",
   "execution_count": 13,
   "metadata": {
    "ExecuteTime": {
     "end_time": "2023-01-05T10:23:08.880814Z",
     "start_time": "2023-01-05T10:23:08.839581Z"
    }
   },
   "outputs": [],
   "source": [
    "scaler = MinMaxScaler()\n",
    "scaler_obj = MinMaxScaler()\n",
    "scaler.fit(X_train)\n",
    "scaler_obj.fit(y_train.to_numpy().reshape(-1, 1))\n",
    "\n",
    "X_train_norm = scaler.transform(X_train)\n",
    "X_val_norm = scaler.transform(X_val)\n",
    "X_test_norm = scaler.transform(X_test)\n",
    "\n",
    "y_train_norm = scaler_obj.transform(y_train.to_numpy().reshape(-1, 1)).reshape(len(y_train))\n",
    "y_val_norm = scaler_obj.transform(y_val.to_numpy().reshape(-1, 1)).reshape(len(y_val))\n",
    "y_test_norm = scaler_obj.transform(y_test.to_numpy().reshape(-1, 1)).reshape(len(y_test))"
   ]
  },
  {
   "cell_type": "markdown",
   "metadata": {},
   "source": [
    "## Lasso 0.01"
   ]
  },
  {
   "cell_type": "code",
   "execution_count": 14,
   "metadata": {
    "ExecuteTime": {
     "end_time": "2023-01-05T10:23:08.970645Z",
     "start_time": "2023-01-05T10:23:08.883558Z"
    }
   },
   "outputs": [
    {
     "data": {
      "text/html": [
       "<style>#sk-container-id-1 {color: black;background-color: white;}#sk-container-id-1 pre{padding: 0;}#sk-container-id-1 div.sk-toggleable {background-color: white;}#sk-container-id-1 label.sk-toggleable__label {cursor: pointer;display: block;width: 100%;margin-bottom: 0;padding: 0.3em;box-sizing: border-box;text-align: center;}#sk-container-id-1 label.sk-toggleable__label-arrow:before {content: \"▸\";float: left;margin-right: 0.25em;color: #696969;}#sk-container-id-1 label.sk-toggleable__label-arrow:hover:before {color: black;}#sk-container-id-1 div.sk-estimator:hover label.sk-toggleable__label-arrow:before {color: black;}#sk-container-id-1 div.sk-toggleable__content {max-height: 0;max-width: 0;overflow: hidden;text-align: left;background-color: #f0f8ff;}#sk-container-id-1 div.sk-toggleable__content pre {margin: 0.2em;color: black;border-radius: 0.25em;background-color: #f0f8ff;}#sk-container-id-1 input.sk-toggleable__control:checked~div.sk-toggleable__content {max-height: 200px;max-width: 100%;overflow: auto;}#sk-container-id-1 input.sk-toggleable__control:checked~label.sk-toggleable__label-arrow:before {content: \"▾\";}#sk-container-id-1 div.sk-estimator input.sk-toggleable__control:checked~label.sk-toggleable__label {background-color: #d4ebff;}#sk-container-id-1 div.sk-label input.sk-toggleable__control:checked~label.sk-toggleable__label {background-color: #d4ebff;}#sk-container-id-1 input.sk-hidden--visually {border: 0;clip: rect(1px 1px 1px 1px);clip: rect(1px, 1px, 1px, 1px);height: 1px;margin: -1px;overflow: hidden;padding: 0;position: absolute;width: 1px;}#sk-container-id-1 div.sk-estimator {font-family: monospace;background-color: #f0f8ff;border: 1px dotted black;border-radius: 0.25em;box-sizing: border-box;margin-bottom: 0.5em;}#sk-container-id-1 div.sk-estimator:hover {background-color: #d4ebff;}#sk-container-id-1 div.sk-parallel-item::after {content: \"\";width: 100%;border-bottom: 1px solid gray;flex-grow: 1;}#sk-container-id-1 div.sk-label:hover label.sk-toggleable__label {background-color: #d4ebff;}#sk-container-id-1 div.sk-serial::before {content: \"\";position: absolute;border-left: 1px solid gray;box-sizing: border-box;top: 0;bottom: 0;left: 50%;z-index: 0;}#sk-container-id-1 div.sk-serial {display: flex;flex-direction: column;align-items: center;background-color: white;padding-right: 0.2em;padding-left: 0.2em;position: relative;}#sk-container-id-1 div.sk-item {position: relative;z-index: 1;}#sk-container-id-1 div.sk-parallel {display: flex;align-items: stretch;justify-content: center;background-color: white;position: relative;}#sk-container-id-1 div.sk-item::before, #sk-container-id-1 div.sk-parallel-item::before {content: \"\";position: absolute;border-left: 1px solid gray;box-sizing: border-box;top: 0;bottom: 0;left: 50%;z-index: -1;}#sk-container-id-1 div.sk-parallel-item {display: flex;flex-direction: column;z-index: 1;position: relative;background-color: white;}#sk-container-id-1 div.sk-parallel-item:first-child::after {align-self: flex-end;width: 50%;}#sk-container-id-1 div.sk-parallel-item:last-child::after {align-self: flex-start;width: 50%;}#sk-container-id-1 div.sk-parallel-item:only-child::after {width: 0;}#sk-container-id-1 div.sk-dashed-wrapped {border: 1px dashed gray;margin: 0 0.4em 0.5em 0.4em;box-sizing: border-box;padding-bottom: 0.4em;background-color: white;}#sk-container-id-1 div.sk-label label {font-family: monospace;font-weight: bold;display: inline-block;line-height: 1.2em;}#sk-container-id-1 div.sk-label-container {text-align: center;}#sk-container-id-1 div.sk-container {/* jupyter's `normalize.less` sets `[hidden] { display: none; }` but bootstrap.min.css set `[hidden] { display: none !important; }` so we also need the `!important` here to be able to override the default hidden behavior on the sphinx rendered scikit-learn.org. See: https://github.com/scikit-learn/scikit-learn/issues/21755 */display: inline-block !important;position: relative;}#sk-container-id-1 div.sk-text-repr-fallback {display: none;}</style><div id=\"sk-container-id-1\" class=\"sk-top-container\"><div class=\"sk-text-repr-fallback\"><pre>Lasso(alpha=0.01)</pre><b>In a Jupyter environment, please rerun this cell to show the HTML representation or trust the notebook. <br />On GitHub, the HTML representation is unable to render, please try loading this page with nbviewer.org.</b></div><div class=\"sk-container\" hidden><div class=\"sk-item\"><div class=\"sk-estimator sk-toggleable\"><input class=\"sk-toggleable__control sk-hidden--visually\" id=\"sk-estimator-id-1\" type=\"checkbox\" checked><label for=\"sk-estimator-id-1\" class=\"sk-toggleable__label sk-toggleable__label-arrow\">Lasso</label><div class=\"sk-toggleable__content\"><pre>Lasso(alpha=0.01)</pre></div></div></div></div></div>"
      ],
      "text/plain": [
       "Lasso(alpha=0.01)"
      ]
     },
     "execution_count": 14,
     "metadata": {},
     "output_type": "execute_result"
    }
   ],
   "source": [
    "model = Lasso(alpha = 0.01)\n",
    "model.fit(X_train_norm, y_train_norm)"
   ]
  },
  {
   "cell_type": "code",
   "execution_count": 15,
   "metadata": {
    "ExecuteTime": {
     "end_time": "2023-01-05T10:23:08.991430Z",
     "start_time": "2023-01-05T10:23:08.971768Z"
    }
   },
   "outputs": [
    {
     "data": {
      "text/plain": [
       "[]"
      ]
     },
     "execution_count": 15,
     "metadata": {},
     "output_type": "execute_result"
    }
   ],
   "source": [
    "features_lasso_001 = sorted(list(X_train.columns[np.abs(model.coef_) > sys.float_info.epsilon]))\n",
    "features_lasso_001"
   ]
  },
  {
   "cell_type": "code",
   "execution_count": 16,
   "metadata": {
    "ExecuteTime": {
     "end_time": "2023-01-05T10:23:09.008677Z",
     "start_time": "2023-01-05T10:23:08.992456Z"
    }
   },
   "outputs": [],
   "source": [
    "# dict_results_lasso_001 = {'rmse':[], 'mae':[], 'r2':[]}"
   ]
  },
  {
   "cell_type": "code",
   "execution_count": 17,
   "metadata": {
    "ExecuteTime": {
     "end_time": "2023-01-05T10:23:09.027485Z",
     "start_time": "2023-01-05T10:23:09.008677Z"
    },
    "scrolled": true
   },
   "outputs": [],
   "source": [
    "# X_test_lasso_001 = X_test[features_lasso_001]\n",
    "# X_train_lasso_001= X_train[features_lasso_001]\n",
    "# X_val_lasso_001 = X_val[features_lasso_001]\n",
    "# for iteration in range(50):\n",
    "#     print(iteration)\n",
    "#     model = CatBoostRegressor(verbose=0, n_estimators=250,use_best_model=True, random_seed=seeds[iteration])\n",
    "#     model.fit(\n",
    "#         X_train_lasso_001, y_train,\n",
    "#         eval_set=(X_val_lasso_001, y_val),\n",
    "#         verbose = 0,\n",
    "#         plot=False\n",
    "#     );\n",
    "    \n",
    "#     test_results = scores_calc_print(y_test, model.predict(X_test_lasso_001), print_bool=False)\n",
    "    \n",
    "#     dict_results_lasso_001[\"r2\"].append(test_results[\"R2\"])\n",
    "#     dict_results_lasso_001[\"rmse\"].append(test_results[\"RMSE\"])\n",
    "#     dict_results_lasso_001[\"mae\"].append(test_results[\"MAE\"])"
   ]
  },
  {
   "cell_type": "code",
   "execution_count": 18,
   "metadata": {
    "ExecuteTime": {
     "end_time": "2023-01-05T10:23:09.044140Z",
     "start_time": "2023-01-05T10:23:09.027485Z"
    }
   },
   "outputs": [],
   "source": [
    "# results_lasso_001_df = pd.DataFrame(dict_results_lasso_001)\n",
    "# mean_lasso_001_test = results_lasso_001_df.mean()\n",
    "# std_lasso_001_test = results_lasso_001_df.std()\n",
    "# max_lasso_001_test = results_lasso_001_df.max()\n",
    "# min_lasso_001_test = results_lasso_001_df.min()"
   ]
  },
  {
   "cell_type": "code",
   "execution_count": 19,
   "metadata": {
    "ExecuteTime": {
     "end_time": "2023-01-05T10:23:09.065444Z",
     "start_time": "2023-01-05T10:23:09.048485Z"
    }
   },
   "outputs": [],
   "source": [
    "# mean_lasso_001_test, std_lasso_001_test, max_lasso_001_test, min_lasso_001_test"
   ]
  },
  {
   "cell_type": "markdown",
   "metadata": {},
   "source": [
    "## Lasso 0.001"
   ]
  },
  {
   "cell_type": "code",
   "execution_count": 20,
   "metadata": {
    "ExecuteTime": {
     "end_time": "2023-01-05T10:23:09.097629Z",
     "start_time": "2023-01-05T10:23:09.066588Z"
    }
   },
   "outputs": [
    {
     "data": {
      "text/html": [
       "<style>#sk-container-id-2 {color: black;background-color: white;}#sk-container-id-2 pre{padding: 0;}#sk-container-id-2 div.sk-toggleable {background-color: white;}#sk-container-id-2 label.sk-toggleable__label {cursor: pointer;display: block;width: 100%;margin-bottom: 0;padding: 0.3em;box-sizing: border-box;text-align: center;}#sk-container-id-2 label.sk-toggleable__label-arrow:before {content: \"▸\";float: left;margin-right: 0.25em;color: #696969;}#sk-container-id-2 label.sk-toggleable__label-arrow:hover:before {color: black;}#sk-container-id-2 div.sk-estimator:hover label.sk-toggleable__label-arrow:before {color: black;}#sk-container-id-2 div.sk-toggleable__content {max-height: 0;max-width: 0;overflow: hidden;text-align: left;background-color: #f0f8ff;}#sk-container-id-2 div.sk-toggleable__content pre {margin: 0.2em;color: black;border-radius: 0.25em;background-color: #f0f8ff;}#sk-container-id-2 input.sk-toggleable__control:checked~div.sk-toggleable__content {max-height: 200px;max-width: 100%;overflow: auto;}#sk-container-id-2 input.sk-toggleable__control:checked~label.sk-toggleable__label-arrow:before {content: \"▾\";}#sk-container-id-2 div.sk-estimator input.sk-toggleable__control:checked~label.sk-toggleable__label {background-color: #d4ebff;}#sk-container-id-2 div.sk-label input.sk-toggleable__control:checked~label.sk-toggleable__label {background-color: #d4ebff;}#sk-container-id-2 input.sk-hidden--visually {border: 0;clip: rect(1px 1px 1px 1px);clip: rect(1px, 1px, 1px, 1px);height: 1px;margin: -1px;overflow: hidden;padding: 0;position: absolute;width: 1px;}#sk-container-id-2 div.sk-estimator {font-family: monospace;background-color: #f0f8ff;border: 1px dotted black;border-radius: 0.25em;box-sizing: border-box;margin-bottom: 0.5em;}#sk-container-id-2 div.sk-estimator:hover {background-color: #d4ebff;}#sk-container-id-2 div.sk-parallel-item::after {content: \"\";width: 100%;border-bottom: 1px solid gray;flex-grow: 1;}#sk-container-id-2 div.sk-label:hover label.sk-toggleable__label {background-color: #d4ebff;}#sk-container-id-2 div.sk-serial::before {content: \"\";position: absolute;border-left: 1px solid gray;box-sizing: border-box;top: 0;bottom: 0;left: 50%;z-index: 0;}#sk-container-id-2 div.sk-serial {display: flex;flex-direction: column;align-items: center;background-color: white;padding-right: 0.2em;padding-left: 0.2em;position: relative;}#sk-container-id-2 div.sk-item {position: relative;z-index: 1;}#sk-container-id-2 div.sk-parallel {display: flex;align-items: stretch;justify-content: center;background-color: white;position: relative;}#sk-container-id-2 div.sk-item::before, #sk-container-id-2 div.sk-parallel-item::before {content: \"\";position: absolute;border-left: 1px solid gray;box-sizing: border-box;top: 0;bottom: 0;left: 50%;z-index: -1;}#sk-container-id-2 div.sk-parallel-item {display: flex;flex-direction: column;z-index: 1;position: relative;background-color: white;}#sk-container-id-2 div.sk-parallel-item:first-child::after {align-self: flex-end;width: 50%;}#sk-container-id-2 div.sk-parallel-item:last-child::after {align-self: flex-start;width: 50%;}#sk-container-id-2 div.sk-parallel-item:only-child::after {width: 0;}#sk-container-id-2 div.sk-dashed-wrapped {border: 1px dashed gray;margin: 0 0.4em 0.5em 0.4em;box-sizing: border-box;padding-bottom: 0.4em;background-color: white;}#sk-container-id-2 div.sk-label label {font-family: monospace;font-weight: bold;display: inline-block;line-height: 1.2em;}#sk-container-id-2 div.sk-label-container {text-align: center;}#sk-container-id-2 div.sk-container {/* jupyter's `normalize.less` sets `[hidden] { display: none; }` but bootstrap.min.css set `[hidden] { display: none !important; }` so we also need the `!important` here to be able to override the default hidden behavior on the sphinx rendered scikit-learn.org. See: https://github.com/scikit-learn/scikit-learn/issues/21755 */display: inline-block !important;position: relative;}#sk-container-id-2 div.sk-text-repr-fallback {display: none;}</style><div id=\"sk-container-id-2\" class=\"sk-top-container\"><div class=\"sk-text-repr-fallback\"><pre>Lasso(alpha=0.001)</pre><b>In a Jupyter environment, please rerun this cell to show the HTML representation or trust the notebook. <br />On GitHub, the HTML representation is unable to render, please try loading this page with nbviewer.org.</b></div><div class=\"sk-container\" hidden><div class=\"sk-item\"><div class=\"sk-estimator sk-toggleable\"><input class=\"sk-toggleable__control sk-hidden--visually\" id=\"sk-estimator-id-2\" type=\"checkbox\" checked><label for=\"sk-estimator-id-2\" class=\"sk-toggleable__label sk-toggleable__label-arrow\">Lasso</label><div class=\"sk-toggleable__content\"><pre>Lasso(alpha=0.001)</pre></div></div></div></div></div>"
      ],
      "text/plain": [
       "Lasso(alpha=0.001)"
      ]
     },
     "execution_count": 20,
     "metadata": {},
     "output_type": "execute_result"
    }
   ],
   "source": [
    "model = Lasso(alpha = 0.001)\n",
    "model.fit(X_train_norm, y_train_norm)"
   ]
  },
  {
   "cell_type": "code",
   "execution_count": 21,
   "metadata": {
    "ExecuteTime": {
     "end_time": "2023-01-05T10:23:09.119400Z",
     "start_time": "2023-01-05T10:23:09.098763Z"
    }
   },
   "outputs": [
    {
     "data": {
      "text/plain": [
       "['RH_out', 'T3', 'T6', 'Windspeed', 'lights']"
      ]
     },
     "execution_count": 21,
     "metadata": {},
     "output_type": "execute_result"
    }
   ],
   "source": [
    "features_lasso_0001 = sorted(list(X_train.columns[np.abs(model.coef_) > sys.float_info.epsilon]))\n",
    "features_lasso_0001"
   ]
  },
  {
   "cell_type": "code",
   "execution_count": 22,
   "metadata": {
    "ExecuteTime": {
     "end_time": "2023-01-05T10:23:09.140807Z",
     "start_time": "2023-01-05T10:23:09.123164Z"
    }
   },
   "outputs": [],
   "source": [
    "dict_results_lasso_0001 = {'rmse':[], 'mae':[], 'r2':[]}"
   ]
  },
  {
   "cell_type": "code",
   "execution_count": 23,
   "metadata": {
    "ExecuteTime": {
     "end_time": "2023-01-05T10:24:14.688851Z",
     "start_time": "2023-01-05T10:23:09.140807Z"
    },
    "scrolled": true
   },
   "outputs": [
    {
     "name": "stdout",
     "output_type": "stream",
     "text": [
      "0\n",
      "1\n",
      "2\n",
      "3\n",
      "4\n",
      "5\n",
      "6\n",
      "7\n",
      "8\n",
      "9\n",
      "10\n",
      "11\n",
      "12\n",
      "13\n",
      "14\n",
      "15\n",
      "16\n",
      "17\n",
      "18\n",
      "19\n",
      "20\n",
      "21\n",
      "22\n",
      "23\n",
      "24\n",
      "25\n",
      "26\n",
      "27\n",
      "28\n",
      "29\n",
      "30\n",
      "31\n",
      "32\n",
      "33\n",
      "34\n",
      "35\n",
      "36\n",
      "37\n",
      "38\n",
      "39\n",
      "40\n",
      "41\n",
      "42\n",
      "43\n",
      "44\n",
      "45\n",
      "46\n",
      "47\n",
      "48\n",
      "49\n"
     ]
    }
   ],
   "source": [
    "X_test_lasso_0001 = X_test[features_lasso_0001]\n",
    "X_train_lasso_0001= X_train[features_lasso_0001]\n",
    "X_val_lasso_0001 = X_val[features_lasso_0001]\n",
    "for iteration in range(50):\n",
    "    print(iteration)\n",
    "    model = CatBoostRegressor(verbose=0, n_estimators=250,use_best_model=True, random_seed=seeds[iteration])\n",
    "    model.fit(\n",
    "        X_train_lasso_0001, y_train,\n",
    "        eval_set=(X_val_lasso_0001, y_val),\n",
    "        verbose = 0,\n",
    "        plot=False\n",
    "    );\n",
    "    \n",
    "    test_results = scores_calc_print(y_test, model.predict(X_test_lasso_0001), print_bool=False)\n",
    "    \n",
    "    dict_results_lasso_0001[\"r2\"].append(test_results[\"R2\"])\n",
    "    dict_results_lasso_0001[\"rmse\"].append(test_results[\"RMSE\"])\n",
    "    dict_results_lasso_0001[\"mae\"].append(test_results[\"MAE\"])"
   ]
  },
  {
   "cell_type": "code",
   "execution_count": 24,
   "metadata": {
    "ExecuteTime": {
     "end_time": "2023-01-05T10:24:14.706630Z",
     "start_time": "2023-01-05T10:24:14.688851Z"
    }
   },
   "outputs": [],
   "source": [
    "results_lasso_0001_df = pd.DataFrame(dict_results_lasso_0001)\n",
    "mean_lasso_0001_test = results_lasso_0001_df.mean()\n",
    "std_lasso_0001_test = results_lasso_0001_df.std()\n",
    "max_lasso_0001_test = results_lasso_0001_df.max()\n",
    "min_lasso_0001_test = results_lasso_0001_df.min()"
   ]
  },
  {
   "cell_type": "code",
   "execution_count": 25,
   "metadata": {
    "ExecuteTime": {
     "end_time": "2023-01-05T10:24:14.729433Z",
     "start_time": "2023-01-05T10:24:14.706630Z"
    }
   },
   "outputs": [
    {
     "data": {
      "text/plain": [
       "(rmse    92.288391\n",
       " mae     50.971419\n",
       " r2       0.220799\n",
       " dtype: float64,\n",
       " rmse    0.231491\n",
       " mae     0.178012\n",
       " r2      0.003911\n",
       " dtype: float64,\n",
       " rmse    92.857542\n",
       " mae     51.444192\n",
       " r2       0.228903\n",
       " dtype: float64,\n",
       " rmse    91.807521\n",
       " mae     50.611726\n",
       " r2       0.211164\n",
       " dtype: float64)"
      ]
     },
     "execution_count": 25,
     "metadata": {},
     "output_type": "execute_result"
    }
   ],
   "source": [
    "mean_lasso_0001_test, std_lasso_0001_test, max_lasso_0001_test, min_lasso_0001_test"
   ]
  },
  {
   "cell_type": "markdown",
   "metadata": {},
   "source": [
    "## Lasso 0.0001"
   ]
  },
  {
   "cell_type": "code",
   "execution_count": 26,
   "metadata": {
    "ExecuteTime": {
     "end_time": "2023-01-05T10:24:14.797657Z",
     "start_time": "2023-01-05T10:24:14.731379Z"
    }
   },
   "outputs": [
    {
     "data": {
      "text/html": [
       "<style>#sk-container-id-3 {color: black;background-color: white;}#sk-container-id-3 pre{padding: 0;}#sk-container-id-3 div.sk-toggleable {background-color: white;}#sk-container-id-3 label.sk-toggleable__label {cursor: pointer;display: block;width: 100%;margin-bottom: 0;padding: 0.3em;box-sizing: border-box;text-align: center;}#sk-container-id-3 label.sk-toggleable__label-arrow:before {content: \"▸\";float: left;margin-right: 0.25em;color: #696969;}#sk-container-id-3 label.sk-toggleable__label-arrow:hover:before {color: black;}#sk-container-id-3 div.sk-estimator:hover label.sk-toggleable__label-arrow:before {color: black;}#sk-container-id-3 div.sk-toggleable__content {max-height: 0;max-width: 0;overflow: hidden;text-align: left;background-color: #f0f8ff;}#sk-container-id-3 div.sk-toggleable__content pre {margin: 0.2em;color: black;border-radius: 0.25em;background-color: #f0f8ff;}#sk-container-id-3 input.sk-toggleable__control:checked~div.sk-toggleable__content {max-height: 200px;max-width: 100%;overflow: auto;}#sk-container-id-3 input.sk-toggleable__control:checked~label.sk-toggleable__label-arrow:before {content: \"▾\";}#sk-container-id-3 div.sk-estimator input.sk-toggleable__control:checked~label.sk-toggleable__label {background-color: #d4ebff;}#sk-container-id-3 div.sk-label input.sk-toggleable__control:checked~label.sk-toggleable__label {background-color: #d4ebff;}#sk-container-id-3 input.sk-hidden--visually {border: 0;clip: rect(1px 1px 1px 1px);clip: rect(1px, 1px, 1px, 1px);height: 1px;margin: -1px;overflow: hidden;padding: 0;position: absolute;width: 1px;}#sk-container-id-3 div.sk-estimator {font-family: monospace;background-color: #f0f8ff;border: 1px dotted black;border-radius: 0.25em;box-sizing: border-box;margin-bottom: 0.5em;}#sk-container-id-3 div.sk-estimator:hover {background-color: #d4ebff;}#sk-container-id-3 div.sk-parallel-item::after {content: \"\";width: 100%;border-bottom: 1px solid gray;flex-grow: 1;}#sk-container-id-3 div.sk-label:hover label.sk-toggleable__label {background-color: #d4ebff;}#sk-container-id-3 div.sk-serial::before {content: \"\";position: absolute;border-left: 1px solid gray;box-sizing: border-box;top: 0;bottom: 0;left: 50%;z-index: 0;}#sk-container-id-3 div.sk-serial {display: flex;flex-direction: column;align-items: center;background-color: white;padding-right: 0.2em;padding-left: 0.2em;position: relative;}#sk-container-id-3 div.sk-item {position: relative;z-index: 1;}#sk-container-id-3 div.sk-parallel {display: flex;align-items: stretch;justify-content: center;background-color: white;position: relative;}#sk-container-id-3 div.sk-item::before, #sk-container-id-3 div.sk-parallel-item::before {content: \"\";position: absolute;border-left: 1px solid gray;box-sizing: border-box;top: 0;bottom: 0;left: 50%;z-index: -1;}#sk-container-id-3 div.sk-parallel-item {display: flex;flex-direction: column;z-index: 1;position: relative;background-color: white;}#sk-container-id-3 div.sk-parallel-item:first-child::after {align-self: flex-end;width: 50%;}#sk-container-id-3 div.sk-parallel-item:last-child::after {align-self: flex-start;width: 50%;}#sk-container-id-3 div.sk-parallel-item:only-child::after {width: 0;}#sk-container-id-3 div.sk-dashed-wrapped {border: 1px dashed gray;margin: 0 0.4em 0.5em 0.4em;box-sizing: border-box;padding-bottom: 0.4em;background-color: white;}#sk-container-id-3 div.sk-label label {font-family: monospace;font-weight: bold;display: inline-block;line-height: 1.2em;}#sk-container-id-3 div.sk-label-container {text-align: center;}#sk-container-id-3 div.sk-container {/* jupyter's `normalize.less` sets `[hidden] { display: none; }` but bootstrap.min.css set `[hidden] { display: none !important; }` so we also need the `!important` here to be able to override the default hidden behavior on the sphinx rendered scikit-learn.org. See: https://github.com/scikit-learn/scikit-learn/issues/21755 */display: inline-block !important;position: relative;}#sk-container-id-3 div.sk-text-repr-fallback {display: none;}</style><div id=\"sk-container-id-3\" class=\"sk-top-container\"><div class=\"sk-text-repr-fallback\"><pre>Lasso(alpha=0.0001)</pre><b>In a Jupyter environment, please rerun this cell to show the HTML representation or trust the notebook. <br />On GitHub, the HTML representation is unable to render, please try loading this page with nbviewer.org.</b></div><div class=\"sk-container\" hidden><div class=\"sk-item\"><div class=\"sk-estimator sk-toggleable\"><input class=\"sk-toggleable__control sk-hidden--visually\" id=\"sk-estimator-id-3\" type=\"checkbox\" checked><label for=\"sk-estimator-id-3\" class=\"sk-toggleable__label sk-toggleable__label-arrow\">Lasso</label><div class=\"sk-toggleable__content\"><pre>Lasso(alpha=0.0001)</pre></div></div></div></div></div>"
      ],
      "text/plain": [
       "Lasso(alpha=0.0001)"
      ]
     },
     "execution_count": 26,
     "metadata": {},
     "output_type": "execute_result"
    }
   ],
   "source": [
    "model = Lasso(alpha = 0.0001)\n",
    "model.fit(X_train_norm, y_train_norm)"
   ]
  },
  {
   "cell_type": "code",
   "execution_count": 27,
   "metadata": {
    "ExecuteTime": {
     "end_time": "2023-01-05T10:24:14.814530Z",
     "start_time": "2023-01-05T10:24:14.798151Z"
    }
   },
   "outputs": [
    {
     "data": {
      "text/plain": [
       "['RH_1',\n",
       " 'RH_2',\n",
       " 'RH_3',\n",
       " 'RH_5',\n",
       " 'RH_6',\n",
       " 'RH_7',\n",
       " 'RH_8',\n",
       " 'RH_9',\n",
       " 'T1',\n",
       " 'T3',\n",
       " 'T4',\n",
       " 'T6',\n",
       " 'T8',\n",
       " 'T9',\n",
       " 'Tdewpoint',\n",
       " 'Visibility',\n",
       " 'Windspeed',\n",
       " 'lights',\n",
       " 'rv1']"
      ]
     },
     "execution_count": 27,
     "metadata": {},
     "output_type": "execute_result"
    }
   ],
   "source": [
    "features_lasso_00001 = sorted(list(X_train.columns[np.abs(model.coef_) > sys.float_info.epsilon]))\n",
    "features_lasso_00001"
   ]
  },
  {
   "cell_type": "code",
   "execution_count": 28,
   "metadata": {
    "ExecuteTime": {
     "end_time": "2023-01-05T10:24:14.831115Z",
     "start_time": "2023-01-05T10:24:14.815034Z"
    }
   },
   "outputs": [],
   "source": [
    "dict_results_lasso_00001 = {'rmse':[], 'mae':[], 'r2':[]}"
   ]
  },
  {
   "cell_type": "code",
   "execution_count": 29,
   "metadata": {
    "ExecuteTime": {
     "end_time": "2023-01-05T10:25:58.803913Z",
     "start_time": "2023-01-05T10:24:14.834271Z"
    },
    "scrolled": true
   },
   "outputs": [
    {
     "name": "stdout",
     "output_type": "stream",
     "text": [
      "0\n",
      "1\n",
      "2\n",
      "3\n",
      "4\n",
      "5\n",
      "6\n",
      "7\n",
      "8\n",
      "9\n",
      "10\n",
      "11\n",
      "12\n",
      "13\n",
      "14\n",
      "15\n",
      "16\n",
      "17\n",
      "18\n",
      "19\n",
      "20\n",
      "21\n",
      "22\n",
      "23\n",
      "24\n",
      "25\n",
      "26\n",
      "27\n",
      "28\n",
      "29\n",
      "30\n",
      "31\n",
      "32\n",
      "33\n",
      "34\n",
      "35\n",
      "36\n",
      "37\n",
      "38\n",
      "39\n",
      "40\n",
      "41\n",
      "42\n",
      "43\n",
      "44\n",
      "45\n",
      "46\n",
      "47\n",
      "48\n",
      "49\n"
     ]
    }
   ],
   "source": [
    "X_test_lasso_00001 = X_test[features_lasso_00001]\n",
    "X_train_lasso_00001= X_train[features_lasso_00001]\n",
    "X_val_lasso_00001 = X_val[features_lasso_00001]\n",
    "for iteration in range(50):\n",
    "    print(iteration)\n",
    "    model = CatBoostRegressor(verbose=0, n_estimators=250,use_best_model=True, random_seed=seeds[iteration])\n",
    "    model.fit(\n",
    "        X_train_lasso_00001, y_train,\n",
    "        eval_set=(X_val_lasso_00001, y_val),\n",
    "        verbose = 0,\n",
    "        plot=False\n",
    "    );\n",
    "    \n",
    "    test_results = scores_calc_print(y_test, model.predict(X_test_lasso_00001), print_bool=False)\n",
    "    \n",
    "    dict_results_lasso_00001[\"r2\"].append(test_results[\"R2\"])\n",
    "    dict_results_lasso_00001[\"rmse\"].append(test_results[\"RMSE\"])\n",
    "    dict_results_lasso_00001[\"mae\"].append(test_results[\"MAE\"])"
   ]
  },
  {
   "cell_type": "code",
   "execution_count": 30,
   "metadata": {
    "ExecuteTime": {
     "end_time": "2023-01-05T10:25:58.819870Z",
     "start_time": "2023-01-05T10:25:58.803913Z"
    }
   },
   "outputs": [],
   "source": [
    "results_lasso_00001_df = pd.DataFrame(dict_results_lasso_00001)\n",
    "mean_lasso_00001_test = results_lasso_00001_df.mean()\n",
    "std_lasso_00001_test = results_lasso_00001_df.std()\n",
    "max_lasso_00001_test = results_lasso_00001_df.max()\n",
    "min_lasso_00001_test = results_lasso_00001_df.min()"
   ]
  },
  {
   "cell_type": "code",
   "execution_count": 31,
   "metadata": {
    "ExecuteTime": {
     "end_time": "2023-01-05T10:25:58.845721Z",
     "start_time": "2023-01-05T10:25:58.820669Z"
    }
   },
   "outputs": [
    {
     "data": {
      "text/plain": [
       "(rmse    82.841637\n",
       " mae     43.316147\n",
       " r2       0.372149\n",
       " dtype: float64,\n",
       " rmse    0.322259\n",
       " mae     0.223991\n",
       " r2      0.004884\n",
       " dtype: float64,\n",
       " rmse    83.523932\n",
       " mae     43.806062\n",
       " r2       0.385382\n",
       " dtype: float64,\n",
       " rmse    81.964587\n",
       " mae     42.807206\n",
       " r2       0.361774\n",
       " dtype: float64)"
      ]
     },
     "execution_count": 31,
     "metadata": {},
     "output_type": "execute_result"
    }
   ],
   "source": [
    "mean_lasso_00001_test, std_lasso_00001_test, max_lasso_00001_test, min_lasso_00001_test"
   ]
  },
  {
   "cell_type": "markdown",
   "metadata": {},
   "source": [
    "## Lasso 0.00001"
   ]
  },
  {
   "cell_type": "code",
   "execution_count": 32,
   "metadata": {
    "ExecuteTime": {
     "end_time": "2023-01-05T10:25:59.062092Z",
     "start_time": "2023-01-05T10:25:58.845721Z"
    }
   },
   "outputs": [
    {
     "data": {
      "text/html": [
       "<style>#sk-container-id-4 {color: black;background-color: white;}#sk-container-id-4 pre{padding: 0;}#sk-container-id-4 div.sk-toggleable {background-color: white;}#sk-container-id-4 label.sk-toggleable__label {cursor: pointer;display: block;width: 100%;margin-bottom: 0;padding: 0.3em;box-sizing: border-box;text-align: center;}#sk-container-id-4 label.sk-toggleable__label-arrow:before {content: \"▸\";float: left;margin-right: 0.25em;color: #696969;}#sk-container-id-4 label.sk-toggleable__label-arrow:hover:before {color: black;}#sk-container-id-4 div.sk-estimator:hover label.sk-toggleable__label-arrow:before {color: black;}#sk-container-id-4 div.sk-toggleable__content {max-height: 0;max-width: 0;overflow: hidden;text-align: left;background-color: #f0f8ff;}#sk-container-id-4 div.sk-toggleable__content pre {margin: 0.2em;color: black;border-radius: 0.25em;background-color: #f0f8ff;}#sk-container-id-4 input.sk-toggleable__control:checked~div.sk-toggleable__content {max-height: 200px;max-width: 100%;overflow: auto;}#sk-container-id-4 input.sk-toggleable__control:checked~label.sk-toggleable__label-arrow:before {content: \"▾\";}#sk-container-id-4 div.sk-estimator input.sk-toggleable__control:checked~label.sk-toggleable__label {background-color: #d4ebff;}#sk-container-id-4 div.sk-label input.sk-toggleable__control:checked~label.sk-toggleable__label {background-color: #d4ebff;}#sk-container-id-4 input.sk-hidden--visually {border: 0;clip: rect(1px 1px 1px 1px);clip: rect(1px, 1px, 1px, 1px);height: 1px;margin: -1px;overflow: hidden;padding: 0;position: absolute;width: 1px;}#sk-container-id-4 div.sk-estimator {font-family: monospace;background-color: #f0f8ff;border: 1px dotted black;border-radius: 0.25em;box-sizing: border-box;margin-bottom: 0.5em;}#sk-container-id-4 div.sk-estimator:hover {background-color: #d4ebff;}#sk-container-id-4 div.sk-parallel-item::after {content: \"\";width: 100%;border-bottom: 1px solid gray;flex-grow: 1;}#sk-container-id-4 div.sk-label:hover label.sk-toggleable__label {background-color: #d4ebff;}#sk-container-id-4 div.sk-serial::before {content: \"\";position: absolute;border-left: 1px solid gray;box-sizing: border-box;top: 0;bottom: 0;left: 50%;z-index: 0;}#sk-container-id-4 div.sk-serial {display: flex;flex-direction: column;align-items: center;background-color: white;padding-right: 0.2em;padding-left: 0.2em;position: relative;}#sk-container-id-4 div.sk-item {position: relative;z-index: 1;}#sk-container-id-4 div.sk-parallel {display: flex;align-items: stretch;justify-content: center;background-color: white;position: relative;}#sk-container-id-4 div.sk-item::before, #sk-container-id-4 div.sk-parallel-item::before {content: \"\";position: absolute;border-left: 1px solid gray;box-sizing: border-box;top: 0;bottom: 0;left: 50%;z-index: -1;}#sk-container-id-4 div.sk-parallel-item {display: flex;flex-direction: column;z-index: 1;position: relative;background-color: white;}#sk-container-id-4 div.sk-parallel-item:first-child::after {align-self: flex-end;width: 50%;}#sk-container-id-4 div.sk-parallel-item:last-child::after {align-self: flex-start;width: 50%;}#sk-container-id-4 div.sk-parallel-item:only-child::after {width: 0;}#sk-container-id-4 div.sk-dashed-wrapped {border: 1px dashed gray;margin: 0 0.4em 0.5em 0.4em;box-sizing: border-box;padding-bottom: 0.4em;background-color: white;}#sk-container-id-4 div.sk-label label {font-family: monospace;font-weight: bold;display: inline-block;line-height: 1.2em;}#sk-container-id-4 div.sk-label-container {text-align: center;}#sk-container-id-4 div.sk-container {/* jupyter's `normalize.less` sets `[hidden] { display: none; }` but bootstrap.min.css set `[hidden] { display: none !important; }` so we also need the `!important` here to be able to override the default hidden behavior on the sphinx rendered scikit-learn.org. See: https://github.com/scikit-learn/scikit-learn/issues/21755 */display: inline-block !important;position: relative;}#sk-container-id-4 div.sk-text-repr-fallback {display: none;}</style><div id=\"sk-container-id-4\" class=\"sk-top-container\"><div class=\"sk-text-repr-fallback\"><pre>Lasso(alpha=1e-05)</pre><b>In a Jupyter environment, please rerun this cell to show the HTML representation or trust the notebook. <br />On GitHub, the HTML representation is unable to render, please try loading this page with nbviewer.org.</b></div><div class=\"sk-container\" hidden><div class=\"sk-item\"><div class=\"sk-estimator sk-toggleable\"><input class=\"sk-toggleable__control sk-hidden--visually\" id=\"sk-estimator-id-4\" type=\"checkbox\" checked><label for=\"sk-estimator-id-4\" class=\"sk-toggleable__label sk-toggleable__label-arrow\">Lasso</label><div class=\"sk-toggleable__content\"><pre>Lasso(alpha=1e-05)</pre></div></div></div></div></div>"
      ],
      "text/plain": [
       "Lasso(alpha=1e-05)"
      ]
     },
     "execution_count": 32,
     "metadata": {},
     "output_type": "execute_result"
    }
   ],
   "source": [
    "model = Lasso(alpha = 0.00001)\n",
    "model.fit(X_train_norm, y_train_norm)"
   ]
  },
  {
   "cell_type": "code",
   "execution_count": 33,
   "metadata": {
    "ExecuteTime": {
     "end_time": "2023-01-05T10:25:59.075108Z",
     "start_time": "2023-01-05T10:25:59.062092Z"
    }
   },
   "outputs": [
    {
     "data": {
      "text/plain": [
       "['Press_mm_hg',\n",
       " 'RH_1',\n",
       " 'RH_2',\n",
       " 'RH_3',\n",
       " 'RH_4',\n",
       " 'RH_5',\n",
       " 'RH_6',\n",
       " 'RH_7',\n",
       " 'RH_8',\n",
       " 'RH_9',\n",
       " 'RH_out',\n",
       " 'T1',\n",
       " 'T2',\n",
       " 'T3',\n",
       " 'T4',\n",
       " 'T5',\n",
       " 'T6',\n",
       " 'T7',\n",
       " 'T8',\n",
       " 'T9',\n",
       " 'T_out',\n",
       " 'Tdewpoint',\n",
       " 'Visibility',\n",
       " 'Windspeed',\n",
       " 'lights',\n",
       " 'rv1']"
      ]
     },
     "execution_count": 33,
     "metadata": {},
     "output_type": "execute_result"
    }
   ],
   "source": [
    "features_lasso_000001 = sorted(list(X_train.columns[np.abs(model.coef_) > sys.float_info.epsilon]))\n",
    "features_lasso_000001"
   ]
  },
  {
   "cell_type": "code",
   "execution_count": 34,
   "metadata": {
    "ExecuteTime": {
     "end_time": "2023-01-05T10:25:59.102717Z",
     "start_time": "2023-01-05T10:25:59.078248Z"
    }
   },
   "outputs": [],
   "source": [
    "dict_results_lasso_000001 = {'rmse':[], 'mae':[], 'r2':[]}"
   ]
  },
  {
   "cell_type": "code",
   "execution_count": 35,
   "metadata": {
    "ExecuteTime": {
     "end_time": "2023-01-05T10:28:01.210973Z",
     "start_time": "2023-01-05T10:25:59.106279Z"
    },
    "scrolled": true
   },
   "outputs": [
    {
     "name": "stdout",
     "output_type": "stream",
     "text": [
      "0\n",
      "1\n",
      "2\n",
      "3\n",
      "4\n",
      "5\n",
      "6\n",
      "7\n",
      "8\n",
      "9\n",
      "10\n",
      "11\n",
      "12\n",
      "13\n",
      "14\n",
      "15\n",
      "16\n",
      "17\n",
      "18\n",
      "19\n",
      "20\n",
      "21\n",
      "22\n",
      "23\n",
      "24\n",
      "25\n",
      "26\n",
      "27\n",
      "28\n",
      "29\n",
      "30\n",
      "31\n",
      "32\n",
      "33\n",
      "34\n",
      "35\n",
      "36\n",
      "37\n",
      "38\n",
      "39\n",
      "40\n",
      "41\n",
      "42\n",
      "43\n",
      "44\n",
      "45\n",
      "46\n",
      "47\n",
      "48\n",
      "49\n"
     ]
    }
   ],
   "source": [
    "X_test_lasso_000001 = X_test[features_lasso_000001]\n",
    "X_train_lasso_000001= X_train[features_lasso_000001]\n",
    "X_val_lasso_000001 = X_val[features_lasso_000001]\n",
    "for iteration in range(50):\n",
    "    print(iteration)\n",
    "    model = CatBoostRegressor(verbose=0, n_estimators=250,use_best_model=True, random_seed=seeds[iteration])\n",
    "    model.fit(\n",
    "        X_train_lasso_000001, y_train,\n",
    "        eval_set=(X_val_lasso_000001, y_val),\n",
    "        verbose = 0,\n",
    "        plot=False\n",
    "    );\n",
    "    \n",
    "    test_results = scores_calc_print(y_test, model.predict(X_test_lasso_000001), print_bool=False)\n",
    "    \n",
    "    dict_results_lasso_000001[\"r2\"].append(test_results[\"R2\"])\n",
    "    dict_results_lasso_000001[\"rmse\"].append(test_results[\"RMSE\"])\n",
    "    dict_results_lasso_000001[\"mae\"].append(test_results[\"MAE\"])"
   ]
  },
  {
   "cell_type": "code",
   "execution_count": 36,
   "metadata": {
    "ExecuteTime": {
     "end_time": "2023-01-05T10:28:01.227612Z",
     "start_time": "2023-01-05T10:28:01.210973Z"
    }
   },
   "outputs": [],
   "source": [
    "results_lasso_000001_df = pd.DataFrame(dict_results_lasso_000001)\n",
    "mean_lasso_000001_test = results_lasso_000001_df.mean()\n",
    "std_lasso_000001_test = results_lasso_000001_df.std()\n",
    "max_lasso_000001_test = results_lasso_000001_df.max()\n",
    "min_lasso_000001_test = results_lasso_000001_df.min()"
   ]
  },
  {
   "cell_type": "code",
   "execution_count": 37,
   "metadata": {
    "ExecuteTime": {
     "end_time": "2023-01-05T10:28:01.244875Z",
     "start_time": "2023-01-05T10:28:01.227612Z"
    }
   },
   "outputs": [
    {
     "data": {
      "text/plain": [
       "(rmse    82.330244\n",
       " mae     42.702079\n",
       " r2       0.379875\n",
       " dtype: float64,\n",
       " rmse    0.357084\n",
       " mae     0.247437\n",
       " r2      0.005380\n",
       " dtype: float64,\n",
       " rmse    83.281745\n",
       " mae     43.233425\n",
       " r2       0.391632\n",
       " dtype: float64,\n",
       " rmse    81.546777\n",
       " mae     42.214952\n",
       " r2       0.365470\n",
       " dtype: float64)"
      ]
     },
     "execution_count": 37,
     "metadata": {},
     "output_type": "execute_result"
    }
   ],
   "source": [
    "mean_lasso_000001_test, std_lasso_000001_test, max_lasso_000001_test, min_lasso_000001_test"
   ]
  },
  {
   "cell_type": "markdown",
   "metadata": {},
   "source": [
    "## Boruta"
   ]
  },
  {
   "cell_type": "code",
   "execution_count": 38,
   "metadata": {
    "ExecuteTime": {
     "end_time": "2023-01-05T10:29:19.210858Z",
     "start_time": "2023-01-05T10:28:01.246484Z"
    }
   },
   "outputs": [
    {
     "name": "stderr",
     "output_type": "stream",
     "text": [
      "100%|██████████████████████████████████████████████████████████████████████████████████| 20/20 [01:17<00:00,  3.90s/it]"
     ]
    },
    {
     "name": "stdout",
     "output_type": "stream",
     "text": [
      "24 attributes confirmed important: ['RH_3', 'Tdewpoint', 'RH_out', 'T5', 'T1', 'RH_6', 'RH_7', 'RH_4', 'T9', 'T6', 'T2', 'T8', 'T3', 'lights', 'T4', 'RH_2', 'RH_1', 'RH_8', 'Press_mm_hg', 'RH_5', 'T7', 'Windspeed', 'T_out', 'RH_9']\n",
      "3 attributes confirmed unimportant: ['rv1', 'Visibility', 'rv2']\n",
      "0 tentative attributes remains: []\n"
     ]
    },
    {
     "name": "stderr",
     "output_type": "stream",
     "text": [
      "\n"
     ]
    }
   ],
   "source": [
    "model = CatBoostRegressor(verbose=0, n_estimators=250,use_best_model=False, random_seed = 123)\n",
    "\n",
    "# if classification is False it is a Regression problem\n",
    "Feature_Selector = BorutaShap(model=model,\n",
    "                              importance_measure='gini',\n",
    "                              classification=False)\n",
    "\n",
    "Feature_Selector.fit(X=X_train_val, y=y_train_val, sample=False,\n",
    "                        train_or_test = 'test', normalize=True,verbose=True)\n",
    "\n",
    "# 1 minutos 46 segundos"
   ]
  },
  {
   "cell_type": "code",
   "execution_count": 39,
   "metadata": {
    "ExecuteTime": {
     "end_time": "2023-01-05T10:29:19.234540Z",
     "start_time": "2023-01-05T10:29:19.210858Z"
    }
   },
   "outputs": [
    {
     "data": {
      "text/plain": [
       "['Press_mm_hg',\n",
       " 'RH_1',\n",
       " 'RH_2',\n",
       " 'RH_3',\n",
       " 'RH_4',\n",
       " 'RH_5',\n",
       " 'RH_6',\n",
       " 'RH_7',\n",
       " 'RH_8',\n",
       " 'RH_9',\n",
       " 'RH_out',\n",
       " 'T1',\n",
       " 'T2',\n",
       " 'T3',\n",
       " 'T4',\n",
       " 'T5',\n",
       " 'T6',\n",
       " 'T7',\n",
       " 'T8',\n",
       " 'T9',\n",
       " 'T_out',\n",
       " 'Tdewpoint',\n",
       " 'Windspeed',\n",
       " 'lights']"
      ]
     },
     "execution_count": 39,
     "metadata": {},
     "output_type": "execute_result"
    }
   ],
   "source": [
    "subset = Feature_Selector.Subset()\n",
    "selected_features_boruta = sorted(subset.columns.values)\n",
    "selected_features_boruta"
   ]
  },
  {
   "cell_type": "code",
   "execution_count": 40,
   "metadata": {
    "ExecuteTime": {
     "end_time": "2023-01-05T10:29:19.247494Z",
     "start_time": "2023-01-05T10:29:19.237806Z"
    }
   },
   "outputs": [],
   "source": [
    "dict_results_boruta = {'rmse':[], 'mae':[], 'r2':[]}"
   ]
  },
  {
   "cell_type": "code",
   "execution_count": 41,
   "metadata": {
    "ExecuteTime": {
     "end_time": "2023-01-05T10:31:15.940398Z",
     "start_time": "2023-01-05T10:29:19.249860Z"
    },
    "scrolled": true
   },
   "outputs": [
    {
     "name": "stdout",
     "output_type": "stream",
     "text": [
      "0\n",
      "1\n",
      "2\n",
      "3\n",
      "4\n",
      "5\n",
      "6\n",
      "7\n",
      "8\n",
      "9\n",
      "10\n",
      "11\n",
      "12\n",
      "13\n",
      "14\n",
      "15\n",
      "16\n",
      "17\n",
      "18\n",
      "19\n",
      "20\n",
      "21\n",
      "22\n",
      "23\n",
      "24\n",
      "25\n",
      "26\n",
      "27\n",
      "28\n",
      "29\n",
      "30\n",
      "31\n",
      "32\n",
      "33\n",
      "34\n",
      "35\n",
      "36\n",
      "37\n",
      "38\n",
      "39\n",
      "40\n",
      "41\n",
      "42\n",
      "43\n",
      "44\n",
      "45\n",
      "46\n",
      "47\n",
      "48\n",
      "49\n"
     ]
    }
   ],
   "source": [
    "X_test_boruta = X_test[selected_features_boruta]\n",
    "X_train_boruta = X_train[selected_features_boruta]\n",
    "X_val_boruta = X_val[selected_features_boruta]\n",
    "for iteration in range(50):\n",
    "    print(iteration)\n",
    "    model = CatBoostRegressor(verbose=0, n_estimators=250,use_best_model=True, random_seed=seeds[iteration])\n",
    "    model.fit(\n",
    "        X_train_boruta, y_train,\n",
    "        eval_set=(X_val_boruta, y_val),\n",
    "        verbose = 0,\n",
    "        plot=False\n",
    "    );\n",
    "    \n",
    "    test_results = scores_calc_print(y_test, model.predict(X_test_boruta), print_bool=False)\n",
    "    \n",
    "    dict_results_boruta[\"r2\"].append(test_results[\"R2\"])\n",
    "    dict_results_boruta[\"rmse\"].append(test_results[\"RMSE\"])\n",
    "    dict_results_boruta[\"mae\"].append(test_results[\"MAE\"])"
   ]
  },
  {
   "cell_type": "code",
   "execution_count": 42,
   "metadata": {
    "ExecuteTime": {
     "end_time": "2023-01-05T10:31:15.963366Z",
     "start_time": "2023-01-05T10:31:15.943457Z"
    }
   },
   "outputs": [],
   "source": [
    "results_boruta_df = pd.DataFrame(dict_results_boruta)\n",
    "mean_boruta_test = results_boruta_df.mean()\n",
    "std_boruta_test = results_boruta_df.std()\n",
    "max_boruta_test = results_boruta_df.max()\n",
    "min_boruta_test = results_boruta_df.min()"
   ]
  },
  {
   "cell_type": "code",
   "execution_count": 43,
   "metadata": {
    "ExecuteTime": {
     "end_time": "2023-01-05T10:31:15.992388Z",
     "start_time": "2023-01-05T10:31:15.963366Z"
    },
    "scrolled": true
   },
   "outputs": [
    {
     "data": {
      "text/plain": [
       "(rmse    81.848339\n",
       " mae     42.239443\n",
       " r2       0.387110\n",
       " dtype: float64,\n",
       " rmse    0.405236\n",
       " mae     0.232121\n",
       " r2      0.006071\n",
       " dtype: float64,\n",
       " rmse    82.787452\n",
       " mae     42.744082\n",
       " r2       0.399485\n",
       " dtype: float64,\n",
       " rmse    81.018772\n",
       " mae     41.709519\n",
       " r2       0.372980\n",
       " dtype: float64)"
      ]
     },
     "execution_count": 43,
     "metadata": {},
     "output_type": "execute_result"
    }
   ],
   "source": [
    "mean_boruta_test, std_boruta_test, max_boruta_test, min_boruta_test"
   ]
  },
  {
   "cell_type": "markdown",
   "metadata": {},
   "source": [
    "## PIMP"
   ]
  },
  {
   "cell_type": "code",
   "execution_count": 44,
   "metadata": {
    "ExecuteTime": {
     "end_time": "2023-01-05T10:31:18.328079Z",
     "start_time": "2023-01-05T10:31:15.992388Z"
    }
   },
   "outputs": [],
   "source": [
    "model = CatBoostRegressor(verbose=0, n_estimators=250,use_best_model=False, random_seed = 123)\n",
    "model = model.fit(\n",
    "    X_train, y_train,\n",
    "    verbose = 0,\n",
    "    plot=False\n",
    ")"
   ]
  },
  {
   "cell_type": "code",
   "execution_count": 45,
   "metadata": {
    "ExecuteTime": {
     "end_time": "2023-01-05T10:31:19.806680Z",
     "start_time": "2023-01-05T10:31:18.328079Z"
    }
   },
   "outputs": [],
   "source": [
    "pimp = PermutationImportance(model, cv='prefit').fit(X_val, y_val)"
   ]
  },
  {
   "cell_type": "code",
   "execution_count": 46,
   "metadata": {
    "ExecuteTime": {
     "end_time": "2023-01-05T10:31:19.829494Z",
     "start_time": "2023-01-05T10:31:19.806680Z"
    }
   },
   "outputs": [
    {
     "data": {
      "text/plain": [
       "array([ 0.0730192 ,  0.14750276,  0.19629666,  0.02332221,  0.24595059,\n",
       "        0.214292  ,  0.20594123,  0.21560476,  0.07925663,  0.06579435,\n",
       "        0.06114344,  0.13890411,  0.0906771 ,  0.12133299,  0.05817698,\n",
       "        0.07795005,  0.07493696,  0.10612082,  0.03632082,  0.02277289,\n",
       "        0.05740692,  0.03537493,  0.01702146,  0.00650282,  0.0470966 ,\n",
       "       -0.00030919,  0.00122247])"
      ]
     },
     "execution_count": 46,
     "metadata": {},
     "output_type": "execute_result"
    }
   ],
   "source": [
    "pimp.feature_importances_"
   ]
  },
  {
   "cell_type": "code",
   "execution_count": 47,
   "metadata": {
    "ExecuteTime": {
     "end_time": "2023-01-05T10:32:05.963444Z",
     "start_time": "2023-01-05T10:32:05.954020Z"
    }
   },
   "outputs": [],
   "source": [
    "sel = SelectFromModel(pimp,threshold=None, prefit=True)"
   ]
  },
  {
   "cell_type": "code",
   "execution_count": 48,
   "metadata": {
    "ExecuteTime": {
     "end_time": "2023-01-05T10:32:06.870677Z",
     "start_time": "2023-01-05T10:32:06.848069Z"
    }
   },
   "outputs": [
    {
     "data": {
      "text/plain": [
       "(9324, 10)"
      ]
     },
     "execution_count": 48,
     "metadata": {},
     "output_type": "execute_result"
    }
   ],
   "source": [
    "sel.transform(X_train).shape"
   ]
  },
  {
   "cell_type": "code",
   "execution_count": 49,
   "metadata": {
    "ExecuteTime": {
     "end_time": "2023-01-05T10:32:10.130862Z",
     "start_time": "2023-01-05T10:32:10.106219Z"
    }
   },
   "outputs": [
    {
     "data": {
      "text/plain": [
       "['RH_1', 'RH_2', 'RH_3', 'RH_6', 'T1', 'T3', 'T4', 'T6', 'T7', 'T9']"
      ]
     },
     "execution_count": 49,
     "metadata": {},
     "output_type": "execute_result"
    }
   ],
   "source": [
    "selected_features_pimp = sorted(list(X_train.columns[sel.get_support()]))\n",
    "selected_features_pimp"
   ]
  },
  {
   "cell_type": "code",
   "execution_count": 50,
   "metadata": {
    "ExecuteTime": {
     "end_time": "2023-01-05T10:32:15.740915Z",
     "start_time": "2023-01-05T10:32:15.732793Z"
    }
   },
   "outputs": [],
   "source": [
    "dict_results_pimp = {'rmse':[], 'mae':[], 'r2':[]}"
   ]
  },
  {
   "cell_type": "code",
   "execution_count": 51,
   "metadata": {
    "ExecuteTime": {
     "end_time": "2023-01-05T10:33:57.188749Z",
     "start_time": "2023-01-05T10:32:17.984164Z"
    },
    "scrolled": true
   },
   "outputs": [
    {
     "name": "stdout",
     "output_type": "stream",
     "text": [
      "0\n",
      "1\n",
      "2\n",
      "3\n",
      "4\n",
      "5\n",
      "6\n",
      "7\n",
      "8\n",
      "9\n",
      "10\n",
      "11\n",
      "12\n",
      "13\n",
      "14\n",
      "15\n",
      "16\n",
      "17\n",
      "18\n",
      "19\n",
      "20\n",
      "21\n",
      "22\n",
      "23\n",
      "24\n",
      "25\n",
      "26\n",
      "27\n",
      "28\n",
      "29\n",
      "30\n",
      "31\n",
      "32\n",
      "33\n",
      "34\n",
      "35\n",
      "36\n",
      "37\n",
      "38\n",
      "39\n",
      "40\n",
      "41\n",
      "42\n",
      "43\n",
      "44\n",
      "45\n",
      "46\n",
      "47\n",
      "48\n",
      "49\n"
     ]
    }
   ],
   "source": [
    "X_test_pimp = X_test[selected_features_pimp]\n",
    "X_train_pimp = X_train[selected_features_pimp]\n",
    "X_val_pimp = X_val[selected_features_pimp]\n",
    "for iteration in range(50):\n",
    "    print(iteration)\n",
    "    model = CatBoostRegressor(verbose=0, n_estimators=250,use_best_model=True, random_seed=seeds[iteration])\n",
    "    model.fit(\n",
    "        X_train_pimp, y_train,\n",
    "        eval_set=(X_val_pimp, y_val),\n",
    "        verbose = 0,\n",
    "        plot=False\n",
    "    );\n",
    "    \n",
    "    test_results = scores_calc_print(y_test, model.predict(X_test_pimp), print_bool=False)\n",
    "    \n",
    "    dict_results_pimp[\"r2\"].append(test_results[\"R2\"])\n",
    "    dict_results_pimp[\"rmse\"].append(test_results[\"RMSE\"])\n",
    "    dict_results_pimp[\"mae\"].append(test_results[\"MAE\"])"
   ]
  },
  {
   "cell_type": "code",
   "execution_count": 52,
   "metadata": {
    "ExecuteTime": {
     "end_time": "2023-01-05T10:33:57.223064Z",
     "start_time": "2023-01-05T10:33:57.189240Z"
    }
   },
   "outputs": [],
   "source": [
    "results_pimp_df = pd.DataFrame(dict_results_pimp)\n",
    "mean_pimp_test = results_pimp_df.mean()\n",
    "std_pimp_test = results_pimp_df.std()\n",
    "max_pimp_test = results_pimp_df.max()\n",
    "min_pimp_test = results_pimp_df.min()"
   ]
  },
  {
   "cell_type": "code",
   "execution_count": 53,
   "metadata": {
    "ExecuteTime": {
     "end_time": "2023-01-05T10:33:57.266528Z",
     "start_time": "2023-01-05T10:33:57.225771Z"
    },
    "scrolled": true
   },
   "outputs": [
    {
     "data": {
      "text/plain": [
       "(rmse    85.533628\n",
       " mae     45.179332\n",
       " r2       0.330682\n",
       " dtype: float64,\n",
       " rmse    0.332803\n",
       " mae     0.211039\n",
       " r2      0.005197\n",
       " dtype: float64,\n",
       " rmse    86.216908\n",
       " mae     45.517751\n",
       " r2       0.350127\n",
       " dtype: float64,\n",
       " rmse    84.282634\n",
       " mae     44.563778\n",
       " r2       0.319955\n",
       " dtype: float64)"
      ]
     },
     "execution_count": 53,
     "metadata": {},
     "output_type": "execute_result"
    }
   ],
   "source": [
    "mean_pimp_test, std_pimp_test, max_pimp_test, min_pimp_test"
   ]
  },
  {
   "cell_type": "markdown",
   "metadata": {},
   "source": [
    "# Results"
   ]
  },
  {
   "cell_type": "code",
   "execution_count": 54,
   "metadata": {
    "ExecuteTime": {
     "end_time": "2023-01-05T10:33:57.316138Z",
     "start_time": "2023-01-05T10:33:57.271749Z"
    }
   },
   "outputs": [],
   "source": [
    "nombres = ['Lasso_0.001', 'Lasso_0.0001', 'Lasso_0.00001', 'Boruta', 'PIMP']"
   ]
  },
  {
   "cell_type": "markdown",
   "metadata": {},
   "source": [
    "## MAE"
   ]
  },
  {
   "cell_type": "code",
   "execution_count": 55,
   "metadata": {
    "ExecuteTime": {
     "end_time": "2023-01-05T10:33:57.331545Z",
     "start_time": "2023-01-05T10:33:57.319198Z"
    }
   },
   "outputs": [],
   "source": [
    "resultados_mae_mean = [mean_lasso_0001_test['mae'], mean_lasso_00001_test['mae'], mean_lasso_000001_test['mae'], mean_boruta_test['mae'], mean_pimp_test['mae']]\n",
    "resultados_mae_std = [std_lasso_0001_test['mae'], std_lasso_00001_test['mae'], std_lasso_000001_test['mae'], std_boruta_test['mae'], std_pimp_test['mae']]\n",
    "resultados_mae_max = [max_lasso_0001_test['mae'], max_lasso_00001_test['mae'], max_lasso_000001_test['mae'], max_boruta_test['mae'], max_pimp_test['mae']]\n",
    "resultados_mae_min = [min_lasso_0001_test['mae'], min_lasso_00001_test['mae'], min_lasso_000001_test['mae'], min_boruta_test['mae'], min_pimp_test['mae']]"
   ]
  },
  {
   "cell_type": "code",
   "execution_count": 56,
   "metadata": {
    "ExecuteTime": {
     "end_time": "2023-01-05T10:33:57.960721Z",
     "start_time": "2023-01-05T10:33:57.334573Z"
    },
    "scrolled": false
   },
   "outputs": [
    {
     "data": {
      "text/plain": [
       "(40.0, 52.0)"
      ]
     },
     "execution_count": 56,
     "metadata": {},
     "output_type": "execute_result"
    },
    {
     "data": {
      "image/png": "[encoded data removed]",
      "text/plain": [
       "<Figure size 2000x1000 with 1 Axes>"
      ]
     },
     "metadata": {},
     "output_type": "display_data"
    }
   ],
   "source": [
    "fig, ax = plt.subplots(1, 1, figsize = (20, 10))\n",
    "ax.bar(nombres, resultados_mae_mean, alpha = 0.7, width=0.3)\n",
    "ax.errorbar(nombres, resultados_mae_mean, resultados_mae_std, fmt='.', color='Black', elinewidth=2,capthick=10,errorevery=1, alpha=0.5, ms=4, capsize = 2)\n",
    "ax.plot(nombres, resultados_mae_max, color='red', alpha=0.8, linestyle='-', marker='.', markersize=10)\n",
    "ax.plot(nombres, resultados_mae_min, color='lime', alpha=0.8, linestyle='-', marker='.', markersize=10)\n",
    "ax.yaxis.grid(True,linestyle='--')\n",
    "ax.xaxis.grid(False)\n",
    "ax.title.set_text(\"MAE\")\n",
    "ax.title.set_size(15)\n",
    "for index,data in enumerate(resultados_mae_mean):\n",
    "    ax.text(x=index , y =data+0.01 , s=f\"{round(data, 3)}\" , fontdict=dict(fontsize=10), ha='center')\n",
    "ax.set_ylim([40, 52])"
   ]
  },
  {
   "cell_type": "markdown",
   "metadata": {},
   "source": [
    "## RMSE"
   ]
  },
  {
   "cell_type": "code",
   "execution_count": 57,
   "metadata": {
    "ExecuteTime": {
     "end_time": "2023-01-05T10:33:57.976183Z",
     "start_time": "2023-01-05T10:33:57.960721Z"
    }
   },
   "outputs": [],
   "source": [
    "resultados_rmse_mean = [mean_lasso_0001_test['rmse'], mean_lasso_00001_test['rmse'], mean_lasso_000001_test['rmse'], mean_boruta_test['rmse'], mean_pimp_test['rmse']]\n",
    "resultados_rmse_std = [std_lasso_0001_test['rmse'], std_lasso_00001_test['rmse'], std_lasso_000001_test['rmse'], std_boruta_test['rmse'], std_pimp_test['rmse']]\n",
    "resultados_rmse_max = [max_lasso_0001_test['rmse'], max_lasso_00001_test['rmse'], max_lasso_000001_test['rmse'], max_boruta_test['rmse'], max_pimp_test['rmse']]\n",
    "resultados_rmse_min = [min_lasso_0001_test['rmse'], min_lasso_00001_test['rmse'], min_lasso_000001_test['rmse'], min_boruta_test['rmse'], min_pimp_test['rmse']]"
   ]
  },
  {
   "cell_type": "code",
   "execution_count": 58,
   "metadata": {
    "ExecuteTime": {
     "end_time": "2023-01-05T10:33:58.612252Z",
     "start_time": "2023-01-05T10:33:57.980219Z"
    },
    "scrolled": false
   },
   "outputs": [
    {
     "data": {
      "text/plain": [
       "(80.0, 94.0)"
      ]
     },
     "execution_count": 58,
     "metadata": {},
     "output_type": "execute_result"
    },
    {
     "data": {
      "image/png": "[encoded data removed]",
      "text/plain": [
       "<Figure size 2000x1000 with 1 Axes>"
      ]
     },
     "metadata": {},
     "output_type": "display_data"
    }
   ],
   "source": [
    "fig, ax = plt.subplots(1, 1, figsize = (20, 10))\n",
    "ax.bar(nombres, resultados_rmse_mean, alpha = 0.7, width=0.3)\n",
    "ax.errorbar(nombres, resultados_rmse_mean, resultados_rmse_std, fmt='.', color='Black', elinewidth=2,capthick=10,errorevery=1, alpha=0.5, ms=4, capsize = 2)\n",
    "ax.plot(nombres, resultados_rmse_max, color='red', alpha=0.8, linestyle='-', marker='.', markersize=10)\n",
    "ax.plot(nombres, resultados_rmse_min, color='lime', alpha=0.8, linestyle='-', marker='.', markersize=10)\n",
    "ax.yaxis.grid(True,linestyle='--')\n",
    "ax.xaxis.grid(False)\n",
    "ax.title.set_text(\"RMSE\")\n",
    "ax.title.set_size(15)\n",
    "for index,data in enumerate(resultados_rmse_mean):\n",
    "    ax.text(x=index , y =data+0.01 , s=f\"{round(data, 3)}\" , fontdict=dict(fontsize=10), ha='center')\n",
    "ax.set_ylim([80, 94])"
   ]
  },
  {
   "cell_type": "markdown",
   "metadata": {},
   "source": [
    "## R2"
   ]
  },
  {
   "cell_type": "code",
   "execution_count": 59,
   "metadata": {
    "ExecuteTime": {
     "end_time": "2023-01-05T10:33:58.627880Z",
     "start_time": "2023-01-05T10:33:58.614436Z"
    }
   },
   "outputs": [],
   "source": [
    "resultados_r2_mean = [mean_lasso_0001_test['r2'], mean_lasso_00001_test['r2'], mean_lasso_000001_test['r2'], mean_boruta_test['r2'], mean_pimp_test['r2']]\n",
    "resultados_r2_std = [std_lasso_0001_test['r2'], std_lasso_00001_test['r2'], std_lasso_000001_test['r2'], std_boruta_test['r2'], std_pimp_test['r2']]\n",
    "resultados_r2_max = [max_lasso_0001_test['r2'], max_lasso_00001_test['r2'], max_lasso_000001_test['r2'], max_boruta_test['r2'], max_pimp_test['r2']]\n",
    "resultados_r2_min = [min_lasso_0001_test['r2'], min_lasso_00001_test['r2'], min_lasso_000001_test['r2'], min_boruta_test['r2'], min_pimp_test['r2']]"
   ]
  },
  {
   "cell_type": "code",
   "execution_count": 60,
   "metadata": {
    "ExecuteTime": {
     "end_time": "2023-01-05T10:33:58.694019Z",
     "start_time": "2023-01-05T10:33:58.633451Z"
    }
   },
   "outputs": [
    {
     "data": {
      "text/plain": [
       "([0.22890296182982817,\n",
       "  0.3853823545218603,\n",
       "  0.39163234138817826,\n",
       "  0.39948504396234763,\n",
       "  0.3501266754697516],\n",
       " [0.21116371037411252,\n",
       "  0.36177417535579626,\n",
       "  0.3654700167204773,\n",
       "  0.37297978593329784,\n",
       "  0.3199553973368042])"
      ]
     },
     "execution_count": 60,
     "metadata": {},
     "output_type": "execute_result"
    }
   ],
   "source": [
    "resultados_r2_max, resultados_r2_min"
   ]
  },
  {
   "cell_type": "code",
   "execution_count": 61,
   "metadata": {
    "ExecuteTime": {
     "end_time": "2023-01-05T10:33:59.214447Z",
     "start_time": "2023-01-05T10:33:58.695513Z"
    }
   },
   "outputs": [
    {
     "data": {
      "text/plain": [
       "(0.0, 0.45)"
      ]
     },
     "execution_count": 61,
     "metadata": {},
     "output_type": "execute_result"
    },
    {
     "data": {
      "image/png": "[encoded data removed]",
      "text/plain": [
       "<Figure size 2000x1000 with 1 Axes>"
      ]
     },
     "metadata": {},
     "output_type": "display_data"
    }
   ],
   "source": [
    "fig, ax = plt.subplots(1, 1, figsize = (20, 10))\n",
    "ax.bar(nombres, resultados_r2_mean, alpha = 0.7, width=0.3)\n",
    "ax.errorbar(nombres, resultados_r2_mean, resultados_r2_std, fmt='.', color='Black', elinewidth=2,capthick=10,errorevery=1, alpha=0.5, ms=4, capsize = 2)\n",
    "ax.plot(nombres, resultados_r2_max, color='lime', alpha=0.8, linestyle='-', marker='.', markersize=10)\n",
    "ax.plot(nombres, resultados_r2_min, color='red', alpha=0.8, linestyle='-', marker='.', markersize=10)\n",
    "ax.yaxis.grid(True,linestyle='--')\n",
    "ax.xaxis.grid(False)\n",
    "ax.title.set_text(\"R2\")\n",
    "ax.title.set_size(15)\n",
    "for index,data in enumerate(resultados_r2_mean):\n",
    "    ax.text(x=index , y =data+0.001 , s=f\"{round(data, 3)}\" , fontdict=dict(fontsize=10), ha='center')\n",
    "ax.set_ylim([0, 0.45])"
   ]
  },
  {
   "cell_type": "markdown",
   "metadata": {},
   "source": [
    "## Number of variables"
   ]
  },
  {
   "cell_type": "code",
   "execution_count": 62,
   "metadata": {
    "ExecuteTime": {
     "end_time": "2023-01-05T10:33:59.229948Z",
     "start_time": "2023-01-05T10:33:59.214943Z"
    }
   },
   "outputs": [],
   "source": [
    "n_var = [len(features_lasso_0001), len(features_lasso_00001), len(features_lasso_000001), len(selected_features_boruta), len(selected_features_pimp)]"
   ]
  },
  {
   "cell_type": "code",
   "execution_count": 63,
   "metadata": {
    "ExecuteTime": {
     "end_time": "2023-01-05T10:33:59.665460Z",
     "start_time": "2023-01-05T10:33:59.233650Z"
    }
   },
   "outputs": [
    {
     "data": {
      "text/plain": [
       "(0.0, 28.0)"
      ]
     },
     "execution_count": 63,
     "metadata": {},
     "output_type": "execute_result"
    },
    {
     "data": {
      "image/png": "[encoded data removed]",
      "text/plain": [
       "<Figure size 2000x1000 with 1 Axes>"
      ]
     },
     "metadata": {},
     "output_type": "display_data"
    }
   ],
   "source": [
    "fig, ax = plt.subplots(1, 1, figsize = (20, 10))\n",
    "bars = ax.bar(nombres, n_var, alpha = 0.7, width=0.3)\n",
    "ax.yaxis.grid(True,linestyle='--')\n",
    "ax.xaxis.grid(False)\n",
    "ax.title.set_text(\"N Var\")\n",
    "ax.title.set_size(15)\n",
    "for index,data in enumerate(n_var):\n",
    "    ax.text(x=index , y =data+0.01 , s=f\"{round(data, 3)}\" , fontdict=dict(fontsize=10), ha='center')\n",
    "ax.set_ylim([0, 28])"
   ]
  },
  {
   "cell_type": "code",
   "execution_count": null,
   "metadata": {},
   "outputs": [],
   "source": []
  },
  {
   "cell_type": "code",
   "execution_count": null,
   "metadata": {},
   "outputs": [],
   "source": []
  }
 ],
 "metadata": {
  "kernelspec": {
   "display_name": "BrainEN_v1",
   "language": "python",
   "name": "brainen_v1"
  },
  "language_info": {
   "codemirror_mode": {
    "name": "ipython",
    "version": 3
   },
   "file_extension": ".py",
   "mimetype": "text/x-python",
   "name": "python",
   "nbconvert_exporter": "python",
   "pygments_lexer": "ipython3",
   "version": "3.9.7"
  }
 },
 "nbformat": 4,
 "nbformat_minor": 4
}
