{
 "cells": [
  {
   "cell_type": "markdown",
   "metadata": {},
   "source": [
    "### Libraries and functions"
   ]
  },
  {
   "cell_type": "code",
   "execution_count": 1,
   "metadata": {
    "ExecuteTime": {
     "end_time": "2023-01-05T10:33:00.115068Z",
     "start_time": "2023-01-05T10:32:51.073290Z"
    }
   },
   "outputs": [
    {
     "name": "stderr",
     "output_type": "stream",
     "text": [
      "C:\\Users\\csebastian\\.conda\\envs\\BrainEN_v1\\lib\\site-packages\\tqdm\\auto.py:22: TqdmWarning: IProgress not found. Please update jupyter and ipywidgets. See https://ipywidgets.readthedocs.io/en/stable/user_install.html\n",
      "  from .autonotebook import tqdm as notebook_tqdm\n"
     ]
    }
   ],
   "source": [
    "import pandas as pd\n",
    "import numpy as np\n",
    "from catboost import CatBoostRegressor\n",
    "from sklearn.model_selection import train_test_split\n",
    "from sklearn.metrics import r2_score,mean_squared_error, mean_absolute_error\n",
    "from sklearn.preprocessing import MinMaxScaler\n",
    "from sklearn.linear_model import Lasso\n",
    "from tabulate import tabulate\n",
    "import seaborn as sns\n",
    "import matplotlib.pyplot as plt\n",
    "from BorutaShap import BorutaShap\n",
    "from powershap  import PowerShap\n",
    "import shapicant\n",
    "from tqdm import tqdm\n",
    "from SHAPEffects import FeatureSelector\n",
    "import random\n",
    "import shap\n",
    "import os\n",
    "import sys\n",
    "from eli5.sklearn import PermutationImportance\n",
    "from sklearn.feature_selection import SelectFromModel\n",
    "os.environ['PYTHONHASHSEED'] = str(1234)\n",
    "random.seed(1234)\n",
    "np.random.seed(1234)\n",
    "plt.style.use('seaborn-whitegrid')\n",
    "plt.rcParams['font.family'] = 'serif'"
   ]
  },
  {
   "cell_type": "code",
   "execution_count": 2,
   "metadata": {
    "ExecuteTime": {
     "end_time": "2023-01-05T10:33:00.148345Z",
     "start_time": "2023-01-05T10:33:00.118562Z"
    }
   },
   "outputs": [],
   "source": [
    "# Taken from PowerSHAP paper\n",
    "def scores_calc_print(Y,Y_pred,print_bool):\n",
    "    if len(Y_pred) > 1:\n",
    "        R2_total = r2_score(Y,Y_pred)\n",
    "    else:\n",
    "        R2_total = -1\n",
    "    RMSE_total = mean_squared_error(Y,Y_pred, squared=False)\n",
    "    MAE_total = mean_absolute_error(Y,Y_pred)\n",
    "    \n",
    "    if print_bool:\n",
    "        print(tabulate([[RMSE_total, MAE_total,R2_total]], [\"RMSE\",\"MAE\",\"R²\"], tablefmt=\"grid\"))\n",
    "    else:\n",
    "        return {\"R2\":R2_total,\"RMSE\":RMSE_total,\"MAE\":MAE_total}"
   ]
  },
  {
   "cell_type": "markdown",
   "metadata": {},
   "source": [
    "### Data"
   ]
  },
  {
   "cell_type": "code",
   "execution_count": 3,
   "metadata": {
    "ExecuteTime": {
     "end_time": "2023-01-05T10:33:03.915398Z",
     "start_time": "2023-01-05T10:33:00.150375Z"
    }
   },
   "outputs": [],
   "source": [
    "current_db = pd.read_csv(r\"Data/slice_localization_data.csv\")\n",
    "# current_db = current_db.reset_index()\n",
    "\n",
    "Index_col = \"patientId\"\n",
    "target_col = \"reference\""
   ]
  },
  {
   "cell_type": "markdown",
   "metadata": {},
   "source": [
    "Train-test split"
   ]
  },
  {
   "cell_type": "code",
   "execution_count": 4,
   "metadata": {
    "ExecuteTime": {
     "end_time": "2023-01-05T10:33:04.232211Z",
     "start_time": "2023-01-05T10:33:03.919498Z"
    }
   },
   "outputs": [],
   "source": [
    "train_idx,test_idx = train_test_split(current_db[Index_col].unique(),test_size=0.25,random_state = 1)\n",
    "current_db_train = current_db[current_db[Index_col].isin(train_idx)]\n",
    "train_idx, val_idx = train_test_split(current_db_train[Index_col].unique(),test_size=0.37,random_state = 1)\n",
    "current_db_val = current_db_train[current_db_train[Index_col].isin(val_idx)]\n",
    "current_db_train = current_db[current_db[Index_col].isin(train_idx)]\n",
    "current_db_test = current_db[current_db[Index_col].isin(test_idx)]"
   ]
  },
  {
   "cell_type": "code",
   "execution_count": 5,
   "metadata": {
    "ExecuteTime": {
     "end_time": "2023-01-05T10:33:04.302462Z",
     "start_time": "2023-01-05T10:33:04.237917Z"
    }
   },
   "outputs": [],
   "source": [
    "current_db_val_test = current_db_val.append(current_db_test)"
   ]
  },
  {
   "cell_type": "code",
   "execution_count": 6,
   "metadata": {
    "ExecuteTime": {
     "end_time": "2023-01-05T10:33:04.328607Z",
     "start_time": "2023-01-05T10:33:04.306456Z"
    }
   },
   "outputs": [
    {
     "data": {
      "text/plain": [
       "(29372, 11975, 12153, 53500, 53500)"
      ]
     },
     "execution_count": 6,
     "metadata": {},
     "output_type": "execute_result"
    }
   ],
   "source": [
    "len(current_db_train), len(current_db_val), len(current_db_test), len(current_db), len(current_db_train) + len(current_db_val) + len(current_db_test)"
   ]
  },
  {
   "cell_type": "code",
   "execution_count": 8,
   "metadata": {
    "ExecuteTime": {
     "end_time": "2023-01-05T10:33:04.452052Z",
     "start_time": "2023-01-05T10:33:04.345315Z"
    }
   },
   "outputs": [],
   "source": [
    "X_train = current_db_train[list(current_db_train.columns.values[2:-1])]\n",
    "y_train = current_db_train[target_col]\n",
    "\n",
    "X_val = current_db_val[list(current_db_val.columns.values[2:-1])]\n",
    "y_val = current_db_val[target_col]\n",
    "\n",
    "X_test = current_db_test[list(current_db_test.columns.values[2:-1])]\n",
    "y_test = current_db_test[target_col]"
   ]
  },
  {
   "cell_type": "code",
   "execution_count": 10,
   "metadata": {
    "ExecuteTime": {
     "end_time": "2023-01-05T10:33:04.572409Z",
     "start_time": "2023-01-05T10:33:04.478690Z"
    }
   },
   "outputs": [],
   "source": [
    "X_train_val = X_train.append(X_val)\n",
    "y_train_val = y_train.append(y_val)"
   ]
  },
  {
   "cell_type": "code",
   "execution_count": 11,
   "metadata": {
    "ExecuteTime": {
     "end_time": "2023-01-05T10:33:04.664010Z",
     "start_time": "2023-01-05T10:33:04.576008Z"
    }
   },
   "outputs": [],
   "source": [
    "current_db_train_val = current_db_train.append(current_db_val)"
   ]
  },
  {
   "cell_type": "code",
   "execution_count": 12,
   "metadata": {
    "ExecuteTime": {
     "end_time": "2023-01-05T10:33:04.679444Z",
     "start_time": "2023-01-05T10:33:04.667011Z"
    }
   },
   "outputs": [],
   "source": [
    "seeds = np.random.randint(1, 999999, 50)"
   ]
  },
  {
   "cell_type": "code",
   "execution_count": 13,
   "metadata": {
    "ExecuteTime": {
     "end_time": "2023-01-05T10:33:05.001635Z",
     "start_time": "2023-01-05T10:33:04.679944Z"
    }
   },
   "outputs": [],
   "source": [
    "scaler = MinMaxScaler()\n",
    "scaler_obj = MinMaxScaler()\n",
    "scaler.fit(X_train)\n",
    "scaler_obj.fit(y_train.to_numpy().reshape(-1, 1))\n",
    "\n",
    "X_train_norm = scaler.transform(X_train)\n",
    "X_val_norm = scaler.transform(X_val)\n",
    "X_test_norm = scaler.transform(X_test)\n",
    "\n",
    "y_train_norm = scaler_obj.transform(y_train.to_numpy().reshape(-1, 1)).reshape(len(y_train))\n",
    "y_val_norm = scaler_obj.transform(y_val.to_numpy().reshape(-1, 1)).reshape(len(y_val))\n",
    "y_test_norm = scaler_obj.transform(y_test.to_numpy().reshape(-1, 1)).reshape(len(y_test))"
   ]
  },
  {
   "cell_type": "markdown",
   "metadata": {},
   "source": [
    "## Lasso 0.01"
   ]
  },
  {
   "cell_type": "code",
   "execution_count": 14,
   "metadata": {
    "ExecuteTime": {
     "end_time": "2023-01-05T10:33:06.517879Z",
     "start_time": "2023-01-05T10:33:05.005439Z"
    }
   },
   "outputs": [
    {
     "data": {
      "text/html": [
       "<style>#sk-container-id-1 {color: black;background-color: white;}#sk-container-id-1 pre{padding: 0;}#sk-container-id-1 div.sk-toggleable {background-color: white;}#sk-container-id-1 label.sk-toggleable__label {cursor: pointer;display: block;width: 100%;margin-bottom: 0;padding: 0.3em;box-sizing: border-box;text-align: center;}#sk-container-id-1 label.sk-toggleable__label-arrow:before {content: \"▸\";float: left;margin-right: 0.25em;color: #696969;}#sk-container-id-1 label.sk-toggleable__label-arrow:hover:before {color: black;}#sk-container-id-1 div.sk-estimator:hover label.sk-toggleable__label-arrow:before {color: black;}#sk-container-id-1 div.sk-toggleable__content {max-height: 0;max-width: 0;overflow: hidden;text-align: left;background-color: #f0f8ff;}#sk-container-id-1 div.sk-toggleable__content pre {margin: 0.2em;color: black;border-radius: 0.25em;background-color: #f0f8ff;}#sk-container-id-1 input.sk-toggleable__control:checked~div.sk-toggleable__content {max-height: 200px;max-width: 100%;overflow: auto;}#sk-container-id-1 input.sk-toggleable__control:checked~label.sk-toggleable__label-arrow:before {content: \"▾\";}#sk-container-id-1 div.sk-estimator input.sk-toggleable__control:checked~label.sk-toggleable__label {background-color: #d4ebff;}#sk-container-id-1 div.sk-label input.sk-toggleable__control:checked~label.sk-toggleable__label {background-color: #d4ebff;}#sk-container-id-1 input.sk-hidden--visually {border: 0;clip: rect(1px 1px 1px 1px);clip: rect(1px, 1px, 1px, 1px);height: 1px;margin: -1px;overflow: hidden;padding: 0;position: absolute;width: 1px;}#sk-container-id-1 div.sk-estimator {font-family: monospace;background-color: #f0f8ff;border: 1px dotted black;border-radius: 0.25em;box-sizing: border-box;margin-bottom: 0.5em;}#sk-container-id-1 div.sk-estimator:hover {background-color: #d4ebff;}#sk-container-id-1 div.sk-parallel-item::after {content: \"\";width: 100%;border-bottom: 1px solid gray;flex-grow: 1;}#sk-container-id-1 div.sk-label:hover label.sk-toggleable__label {background-color: #d4ebff;}#sk-container-id-1 div.sk-serial::before {content: \"\";position: absolute;border-left: 1px solid gray;box-sizing: border-box;top: 0;bottom: 0;left: 50%;z-index: 0;}#sk-container-id-1 div.sk-serial {display: flex;flex-direction: column;align-items: center;background-color: white;padding-right: 0.2em;padding-left: 0.2em;position: relative;}#sk-container-id-1 div.sk-item {position: relative;z-index: 1;}#sk-container-id-1 div.sk-parallel {display: flex;align-items: stretch;justify-content: center;background-color: white;position: relative;}#sk-container-id-1 div.sk-item::before, #sk-container-id-1 div.sk-parallel-item::before {content: \"\";position: absolute;border-left: 1px solid gray;box-sizing: border-box;top: 0;bottom: 0;left: 50%;z-index: -1;}#sk-container-id-1 div.sk-parallel-item {display: flex;flex-direction: column;z-index: 1;position: relative;background-color: white;}#sk-container-id-1 div.sk-parallel-item:first-child::after {align-self: flex-end;width: 50%;}#sk-container-id-1 div.sk-parallel-item:last-child::after {align-self: flex-start;width: 50%;}#sk-container-id-1 div.sk-parallel-item:only-child::after {width: 0;}#sk-container-id-1 div.sk-dashed-wrapped {border: 1px dashed gray;margin: 0 0.4em 0.5em 0.4em;box-sizing: border-box;padding-bottom: 0.4em;background-color: white;}#sk-container-id-1 div.sk-label label {font-family: monospace;font-weight: bold;display: inline-block;line-height: 1.2em;}#sk-container-id-1 div.sk-label-container {text-align: center;}#sk-container-id-1 div.sk-container {/* jupyter's `normalize.less` sets `[hidden] { display: none; }` but bootstrap.min.css set `[hidden] { display: none !important; }` so we also need the `!important` here to be able to override the default hidden behavior on the sphinx rendered scikit-learn.org. See: https://github.com/scikit-learn/scikit-learn/issues/21755 */display: inline-block !important;position: relative;}#sk-container-id-1 div.sk-text-repr-fallback {display: none;}</style><div id=\"sk-container-id-1\" class=\"sk-top-container\"><div class=\"sk-text-repr-fallback\"><pre>Lasso(alpha=0.01)</pre><b>In a Jupyter environment, please rerun this cell to show the HTML representation or trust the notebook. <br />On GitHub, the HTML representation is unable to render, please try loading this page with nbviewer.org.</b></div><div class=\"sk-container\" hidden><div class=\"sk-item\"><div class=\"sk-estimator sk-toggleable\"><input class=\"sk-toggleable__control sk-hidden--visually\" id=\"sk-estimator-id-1\" type=\"checkbox\" checked><label for=\"sk-estimator-id-1\" class=\"sk-toggleable__label sk-toggleable__label-arrow\">Lasso</label><div class=\"sk-toggleable__content\"><pre>Lasso(alpha=0.01)</pre></div></div></div></div></div>"
      ],
      "text/plain": [
       "Lasso(alpha=0.01)"
      ]
     },
     "execution_count": 14,
     "metadata": {},
     "output_type": "execute_result"
    }
   ],
   "source": [
    "model = Lasso(alpha = 0.01)\n",
    "model.fit(X_train_norm, y_train_norm)"
   ]
  },
  {
   "cell_type": "code",
   "execution_count": 15,
   "metadata": {
    "ExecuteTime": {
     "end_time": "2023-01-05T10:33:06.541596Z",
     "start_time": "2023-01-05T10:33:06.521381Z"
    }
   },
   "outputs": [
    {
     "data": {
      "text/plain": [
       "['value114',\n",
       " 'value135',\n",
       " 'value222',\n",
       " 'value225',\n",
       " 'value241',\n",
       " 'value272',\n",
       " 'value273',\n",
       " 'value280',\n",
       " 'value281',\n",
       " 'value3',\n",
       " 'value314',\n",
       " 'value370',\n",
       " 'value378',\n",
       " 'value4',\n",
       " 'value48',\n",
       " 'value78',\n",
       " 'value89']"
      ]
     },
     "execution_count": 15,
     "metadata": {},
     "output_type": "execute_result"
    }
   ],
   "source": [
    "features_lasso_001 = sorted(list(X_train.columns[np.abs(model.coef_) > sys.float_info.epsilon]))\n",
    "features_lasso_001"
   ]
  },
  {
   "cell_type": "code",
   "execution_count": 16,
   "metadata": {
    "ExecuteTime": {
     "end_time": "2023-01-05T10:33:06.569275Z",
     "start_time": "2023-01-05T10:33:06.542097Z"
    }
   },
   "outputs": [],
   "source": [
    "dict_results_lasso_001 = {'rmse':[], 'mae':[], 'r2':[]}"
   ]
  },
  {
   "cell_type": "code",
   "execution_count": 17,
   "metadata": {
    "ExecuteTime": {
     "end_time": "2023-01-05T10:36:05.767823Z",
     "start_time": "2023-01-05T10:33:06.572926Z"
    },
    "scrolled": true
   },
   "outputs": [
    {
     "name": "stdout",
     "output_type": "stream",
     "text": [
      "0\n",
      "1\n",
      "2\n",
      "3\n",
      "4\n",
      "5\n",
      "6\n",
      "7\n",
      "8\n",
      "9\n",
      "10\n",
      "11\n",
      "12\n",
      "13\n",
      "14\n",
      "15\n",
      "16\n",
      "17\n",
      "18\n",
      "19\n",
      "20\n",
      "21\n",
      "22\n",
      "23\n",
      "24\n",
      "25\n",
      "26\n",
      "27\n",
      "28\n",
      "29\n",
      "30\n",
      "31\n",
      "32\n",
      "33\n",
      "34\n",
      "35\n",
      "36\n",
      "37\n",
      "38\n",
      "39\n",
      "40\n",
      "41\n",
      "42\n",
      "43\n",
      "44\n",
      "45\n",
      "46\n",
      "47\n",
      "48\n",
      "49\n"
     ]
    }
   ],
   "source": [
    "X_test_lasso_001 = X_test[features_lasso_001]\n",
    "X_train_lasso_001= X_train[features_lasso_001]\n",
    "X_val_lasso_001 = X_val[features_lasso_001]\n",
    "for iteration in range(50):\n",
    "    print(iteration)\n",
    "    model = CatBoostRegressor(verbose=0, n_estimators=250,use_best_model=True, random_seed=seeds[iteration])\n",
    "    model.fit(\n",
    "        X_train_lasso_001, y_train,\n",
    "        eval_set=(X_val_lasso_001, y_val),\n",
    "        verbose = 0,\n",
    "        plot=False\n",
    "    );\n",
    "    \n",
    "    test_results = scores_calc_print(y_test, model.predict(X_test_lasso_001), print_bool=False)\n",
    "    \n",
    "    dict_results_lasso_001[\"r2\"].append(test_results[\"R2\"])\n",
    "    dict_results_lasso_001[\"rmse\"].append(test_results[\"RMSE\"])\n",
    "    dict_results_lasso_001[\"mae\"].append(test_results[\"MAE\"])"
   ]
  },
  {
   "cell_type": "code",
   "execution_count": 18,
   "metadata": {
    "ExecuteTime": {
     "end_time": "2023-01-05T10:36:05.784559Z",
     "start_time": "2023-01-05T10:36:05.768436Z"
    }
   },
   "outputs": [],
   "source": [
    "results_lasso_001_df = pd.DataFrame(dict_results_lasso_001)\n",
    "mean_lasso_001_test = results_lasso_001_df.mean()\n",
    "std_lasso_001_test = results_lasso_001_df.std()\n",
    "max_lasso_001_test = results_lasso_001_df.max()\n",
    "min_lasso_001_test = results_lasso_001_df.min()"
   ]
  },
  {
   "cell_type": "code",
   "execution_count": 19,
   "metadata": {
    "ExecuteTime": {
     "end_time": "2023-01-05T10:36:05.808281Z",
     "start_time": "2023-01-05T10:36:05.788489Z"
    }
   },
   "outputs": [
    {
     "data": {
      "text/plain": [
       "(rmse    11.307152\n",
       " mae      6.813716\n",
       " r2       0.716072\n",
       " dtype: float64,\n",
       " rmse    0.117583\n",
       " mae     0.125006\n",
       " r2      0.005919\n",
       " dtype: float64,\n",
       " rmse    11.673765\n",
       " mae      7.087381\n",
       " r2       0.728348\n",
       " dtype: float64,\n",
       " rmse    11.060613\n",
       " mae      6.586466\n",
       " r2       0.697394\n",
       " dtype: float64)"
      ]
     },
     "execution_count": 19,
     "metadata": {},
     "output_type": "execute_result"
    }
   ],
   "source": [
    "mean_lasso_001_test, std_lasso_001_test, max_lasso_001_test, min_lasso_001_test"
   ]
  },
  {
   "cell_type": "markdown",
   "metadata": {},
   "source": [
    "## Lasso 0.001"
   ]
  },
  {
   "cell_type": "code",
   "execution_count": 20,
   "metadata": {
    "ExecuteTime": {
     "end_time": "2023-01-05T10:36:08.521275Z",
     "start_time": "2023-01-05T10:36:05.808781Z"
    }
   },
   "outputs": [
    {
     "data": {
      "text/html": [
       "<style>#sk-container-id-2 {color: black;background-color: white;}#sk-container-id-2 pre{padding: 0;}#sk-container-id-2 div.sk-toggleable {background-color: white;}#sk-container-id-2 label.sk-toggleable__label {cursor: pointer;display: block;width: 100%;margin-bottom: 0;padding: 0.3em;box-sizing: border-box;text-align: center;}#sk-container-id-2 label.sk-toggleable__label-arrow:before {content: \"▸\";float: left;margin-right: 0.25em;color: #696969;}#sk-container-id-2 label.sk-toggleable__label-arrow:hover:before {color: black;}#sk-container-id-2 div.sk-estimator:hover label.sk-toggleable__label-arrow:before {color: black;}#sk-container-id-2 div.sk-toggleable__content {max-height: 0;max-width: 0;overflow: hidden;text-align: left;background-color: #f0f8ff;}#sk-container-id-2 div.sk-toggleable__content pre {margin: 0.2em;color: black;border-radius: 0.25em;background-color: #f0f8ff;}#sk-container-id-2 input.sk-toggleable__control:checked~div.sk-toggleable__content {max-height: 200px;max-width: 100%;overflow: auto;}#sk-container-id-2 input.sk-toggleable__control:checked~label.sk-toggleable__label-arrow:before {content: \"▾\";}#sk-container-id-2 div.sk-estimator input.sk-toggleable__control:checked~label.sk-toggleable__label {background-color: #d4ebff;}#sk-container-id-2 div.sk-label input.sk-toggleable__control:checked~label.sk-toggleable__label {background-color: #d4ebff;}#sk-container-id-2 input.sk-hidden--visually {border: 0;clip: rect(1px 1px 1px 1px);clip: rect(1px, 1px, 1px, 1px);height: 1px;margin: -1px;overflow: hidden;padding: 0;position: absolute;width: 1px;}#sk-container-id-2 div.sk-estimator {font-family: monospace;background-color: #f0f8ff;border: 1px dotted black;border-radius: 0.25em;box-sizing: border-box;margin-bottom: 0.5em;}#sk-container-id-2 div.sk-estimator:hover {background-color: #d4ebff;}#sk-container-id-2 div.sk-parallel-item::after {content: \"\";width: 100%;border-bottom: 1px solid gray;flex-grow: 1;}#sk-container-id-2 div.sk-label:hover label.sk-toggleable__label {background-color: #d4ebff;}#sk-container-id-2 div.sk-serial::before {content: \"\";position: absolute;border-left: 1px solid gray;box-sizing: border-box;top: 0;bottom: 0;left: 50%;z-index: 0;}#sk-container-id-2 div.sk-serial {display: flex;flex-direction: column;align-items: center;background-color: white;padding-right: 0.2em;padding-left: 0.2em;position: relative;}#sk-container-id-2 div.sk-item {position: relative;z-index: 1;}#sk-container-id-2 div.sk-parallel {display: flex;align-items: stretch;justify-content: center;background-color: white;position: relative;}#sk-container-id-2 div.sk-item::before, #sk-container-id-2 div.sk-parallel-item::before {content: \"\";position: absolute;border-left: 1px solid gray;box-sizing: border-box;top: 0;bottom: 0;left: 50%;z-index: -1;}#sk-container-id-2 div.sk-parallel-item {display: flex;flex-direction: column;z-index: 1;position: relative;background-color: white;}#sk-container-id-2 div.sk-parallel-item:first-child::after {align-self: flex-end;width: 50%;}#sk-container-id-2 div.sk-parallel-item:last-child::after {align-self: flex-start;width: 50%;}#sk-container-id-2 div.sk-parallel-item:only-child::after {width: 0;}#sk-container-id-2 div.sk-dashed-wrapped {border: 1px dashed gray;margin: 0 0.4em 0.5em 0.4em;box-sizing: border-box;padding-bottom: 0.4em;background-color: white;}#sk-container-id-2 div.sk-label label {font-family: monospace;font-weight: bold;display: inline-block;line-height: 1.2em;}#sk-container-id-2 div.sk-label-container {text-align: center;}#sk-container-id-2 div.sk-container {/* jupyter's `normalize.less` sets `[hidden] { display: none; }` but bootstrap.min.css set `[hidden] { display: none !important; }` so we also need the `!important` here to be able to override the default hidden behavior on the sphinx rendered scikit-learn.org. See: https://github.com/scikit-learn/scikit-learn/issues/21755 */display: inline-block !important;position: relative;}#sk-container-id-2 div.sk-text-repr-fallback {display: none;}</style><div id=\"sk-container-id-2\" class=\"sk-top-container\"><div class=\"sk-text-repr-fallback\"><pre>Lasso(alpha=0.001)</pre><b>In a Jupyter environment, please rerun this cell to show the HTML representation or trust the notebook. <br />On GitHub, the HTML representation is unable to render, please try loading this page with nbviewer.org.</b></div><div class=\"sk-container\" hidden><div class=\"sk-item\"><div class=\"sk-estimator sk-toggleable\"><input class=\"sk-toggleable__control sk-hidden--visually\" id=\"sk-estimator-id-2\" type=\"checkbox\" checked><label for=\"sk-estimator-id-2\" class=\"sk-toggleable__label sk-toggleable__label-arrow\">Lasso</label><div class=\"sk-toggleable__content\"><pre>Lasso(alpha=0.001)</pre></div></div></div></div></div>"
      ],
      "text/plain": [
       "Lasso(alpha=0.001)"
      ]
     },
     "execution_count": 20,
     "metadata": {},
     "output_type": "execute_result"
    }
   ],
   "source": [
    "model = Lasso(alpha = 0.001)\n",
    "model.fit(X_train_norm, y_train_norm)"
   ]
  },
  {
   "cell_type": "code",
   "execution_count": 21,
   "metadata": {
    "ExecuteTime": {
     "end_time": "2023-01-05T10:36:08.538192Z",
     "start_time": "2023-01-05T10:36:08.523616Z"
    }
   },
   "outputs": [
    {
     "data": {
      "text/plain": [
       "['value106',\n",
       " 'value110',\n",
       " 'value113',\n",
       " 'value114',\n",
       " 'value115',\n",
       " 'value116',\n",
       " 'value118',\n",
       " 'value120',\n",
       " 'value125',\n",
       " 'value126',\n",
       " 'value130',\n",
       " 'value132',\n",
       " 'value134',\n",
       " 'value135',\n",
       " 'value136',\n",
       " 'value137',\n",
       " 'value140',\n",
       " 'value145',\n",
       " 'value146',\n",
       " 'value150',\n",
       " 'value153',\n",
       " 'value163',\n",
       " 'value170',\n",
       " 'value174',\n",
       " 'value180',\n",
       " 'value182',\n",
       " 'value186',\n",
       " 'value190',\n",
       " 'value191',\n",
       " 'value192',\n",
       " 'value200',\n",
       " 'value210',\n",
       " 'value212',\n",
       " 'value213',\n",
       " 'value215',\n",
       " 'value220',\n",
       " 'value222',\n",
       " 'value224',\n",
       " 'value225',\n",
       " 'value226',\n",
       " 'value227',\n",
       " 'value230',\n",
       " 'value236',\n",
       " 'value237',\n",
       " 'value241',\n",
       " 'value242',\n",
       " 'value25',\n",
       " 'value250',\n",
       " 'value251',\n",
       " 'value252',\n",
       " 'value265',\n",
       " 'value266',\n",
       " 'value268',\n",
       " 'value272',\n",
       " 'value273',\n",
       " 'value274',\n",
       " 'value277',\n",
       " 'value280',\n",
       " 'value281',\n",
       " 'value291',\n",
       " 'value297',\n",
       " 'value299',\n",
       " 'value3',\n",
       " 'value300',\n",
       " 'value307',\n",
       " 'value312',\n",
       " 'value314',\n",
       " 'value319',\n",
       " 'value322',\n",
       " 'value323',\n",
       " 'value329',\n",
       " 'value330',\n",
       " 'value331',\n",
       " 'value336',\n",
       " 'value338',\n",
       " 'value339',\n",
       " 'value35',\n",
       " 'value362',\n",
       " 'value369',\n",
       " 'value371',\n",
       " 'value377',\n",
       " 'value378',\n",
       " 'value39',\n",
       " 'value4',\n",
       " 'value48',\n",
       " 'value5',\n",
       " 'value53',\n",
       " 'value63',\n",
       " 'value64',\n",
       " 'value66',\n",
       " 'value76',\n",
       " 'value78',\n",
       " 'value8',\n",
       " 'value82',\n",
       " 'value85',\n",
       " 'value89',\n",
       " 'value94',\n",
       " 'value99']"
      ]
     },
     "execution_count": 21,
     "metadata": {},
     "output_type": "execute_result"
    }
   ],
   "source": [
    "features_lasso_0001 = sorted(list(X_train.columns[np.abs(model.coef_) > sys.float_info.epsilon]))\n",
    "features_lasso_0001"
   ]
  },
  {
   "cell_type": "code",
   "execution_count": 22,
   "metadata": {
    "ExecuteTime": {
     "end_time": "2023-01-05T10:36:08.584838Z",
     "start_time": "2023-01-05T10:36:08.541868Z"
    }
   },
   "outputs": [],
   "source": [
    "dict_results_lasso_0001 = {'rmse':[], 'mae':[], 'r2':[]}"
   ]
  },
  {
   "cell_type": "code",
   "execution_count": 23,
   "metadata": {
    "ExecuteTime": {
     "end_time": "2023-01-05T10:45:40.789410Z",
     "start_time": "2023-01-05T10:36:08.585332Z"
    },
    "scrolled": true
   },
   "outputs": [
    {
     "name": "stdout",
     "output_type": "stream",
     "text": [
      "0\n",
      "1\n",
      "2\n",
      "3\n",
      "4\n",
      "5\n",
      "6\n",
      "7\n",
      "8\n",
      "9\n",
      "10\n",
      "11\n",
      "12\n",
      "13\n",
      "14\n",
      "15\n",
      "16\n",
      "17\n",
      "18\n",
      "19\n",
      "20\n",
      "21\n",
      "22\n",
      "23\n",
      "24\n",
      "25\n",
      "26\n",
      "27\n",
      "28\n",
      "29\n",
      "30\n",
      "31\n",
      "32\n",
      "33\n",
      "34\n",
      "35\n",
      "36\n",
      "37\n",
      "38\n",
      "39\n",
      "40\n",
      "41\n",
      "42\n",
      "43\n",
      "44\n",
      "45\n",
      "46\n",
      "47\n",
      "48\n",
      "49\n"
     ]
    }
   ],
   "source": [
    "X_test_lasso_0001 = X_test[features_lasso_0001]\n",
    "X_train_lasso_0001= X_train[features_lasso_0001]\n",
    "X_val_lasso_0001 = X_val[features_lasso_0001]\n",
    "for iteration in range(50):\n",
    "    print(iteration)\n",
    "    model = CatBoostRegressor(verbose=0, n_estimators=250,use_best_model=True, random_seed=seeds[iteration])\n",
    "    model.fit(\n",
    "        X_train_lasso_0001, y_train,\n",
    "        eval_set=(X_val_lasso_0001, y_val),\n",
    "        verbose = 0,\n",
    "        plot=False\n",
    "    );\n",
    "    \n",
    "    test_results = scores_calc_print(y_test, model.predict(X_test_lasso_0001), print_bool=False)\n",
    "    \n",
    "    dict_results_lasso_0001[\"r2\"].append(test_results[\"R2\"])\n",
    "    dict_results_lasso_0001[\"rmse\"].append(test_results[\"RMSE\"])\n",
    "    dict_results_lasso_0001[\"mae\"].append(test_results[\"MAE\"])"
   ]
  },
  {
   "cell_type": "code",
   "execution_count": 24,
   "metadata": {
    "ExecuteTime": {
     "end_time": "2023-01-05T10:45:40.821510Z",
     "start_time": "2023-01-05T10:45:40.791459Z"
    }
   },
   "outputs": [],
   "source": [
    "results_lasso_0001_df = pd.DataFrame(dict_results_lasso_0001)\n",
    "mean_lasso_0001_test = results_lasso_0001_df.mean()\n",
    "std_lasso_0001_test = results_lasso_0001_df.std()\n",
    "max_lasso_0001_test = results_lasso_0001_df.max()\n",
    "min_lasso_0001_test = results_lasso_0001_df.min()"
   ]
  },
  {
   "cell_type": "code",
   "execution_count": 25,
   "metadata": {
    "ExecuteTime": {
     "end_time": "2023-01-05T10:45:42.435506Z",
     "start_time": "2023-01-05T10:45:40.822509Z"
    }
   },
   "outputs": [
    {
     "data": {
      "text/plain": [
       "(rmse    7.014769\n",
       " mae     4.323011\n",
       " r2      0.890686\n",
       " dtype: float64,\n",
       " rmse    0.149314\n",
       " mae     0.084552\n",
       " r2      0.004622\n",
       " dtype: float64,\n",
       " rmse    7.312140\n",
       " mae     4.470591\n",
       " r2      0.904984\n",
       " dtype: float64,\n",
       " rmse    6.541387\n",
       " mae     4.125335\n",
       " r2      0.881274\n",
       " dtype: float64)"
      ]
     },
     "execution_count": 25,
     "metadata": {},
     "output_type": "execute_result"
    }
   ],
   "source": [
    "mean_lasso_0001_test, std_lasso_0001_test, max_lasso_0001_test, min_lasso_0001_test"
   ]
  },
  {
   "cell_type": "markdown",
   "metadata": {},
   "source": [
    "## Lasso 0.0001"
   ]
  },
  {
   "cell_type": "code",
   "execution_count": 26,
   "metadata": {
    "ExecuteTime": {
     "end_time": "2023-01-05T10:46:29.934775Z",
     "start_time": "2023-01-05T10:45:42.438647Z"
    }
   },
   "outputs": [
    {
     "data": {
      "text/html": [
       "<style>#sk-container-id-3 {color: black;background-color: white;}#sk-container-id-3 pre{padding: 0;}#sk-container-id-3 div.sk-toggleable {background-color: white;}#sk-container-id-3 label.sk-toggleable__label {cursor: pointer;display: block;width: 100%;margin-bottom: 0;padding: 0.3em;box-sizing: border-box;text-align: center;}#sk-container-id-3 label.sk-toggleable__label-arrow:before {content: \"▸\";float: left;margin-right: 0.25em;color: #696969;}#sk-container-id-3 label.sk-toggleable__label-arrow:hover:before {color: black;}#sk-container-id-3 div.sk-estimator:hover label.sk-toggleable__label-arrow:before {color: black;}#sk-container-id-3 div.sk-toggleable__content {max-height: 0;max-width: 0;overflow: hidden;text-align: left;background-color: #f0f8ff;}#sk-container-id-3 div.sk-toggleable__content pre {margin: 0.2em;color: black;border-radius: 0.25em;background-color: #f0f8ff;}#sk-container-id-3 input.sk-toggleable__control:checked~div.sk-toggleable__content {max-height: 200px;max-width: 100%;overflow: auto;}#sk-container-id-3 input.sk-toggleable__control:checked~label.sk-toggleable__label-arrow:before {content: \"▾\";}#sk-container-id-3 div.sk-estimator input.sk-toggleable__control:checked~label.sk-toggleable__label {background-color: #d4ebff;}#sk-container-id-3 div.sk-label input.sk-toggleable__control:checked~label.sk-toggleable__label {background-color: #d4ebff;}#sk-container-id-3 input.sk-hidden--visually {border: 0;clip: rect(1px 1px 1px 1px);clip: rect(1px, 1px, 1px, 1px);height: 1px;margin: -1px;overflow: hidden;padding: 0;position: absolute;width: 1px;}#sk-container-id-3 div.sk-estimator {font-family: monospace;background-color: #f0f8ff;border: 1px dotted black;border-radius: 0.25em;box-sizing: border-box;margin-bottom: 0.5em;}#sk-container-id-3 div.sk-estimator:hover {background-color: #d4ebff;}#sk-container-id-3 div.sk-parallel-item::after {content: \"\";width: 100%;border-bottom: 1px solid gray;flex-grow: 1;}#sk-container-id-3 div.sk-label:hover label.sk-toggleable__label {background-color: #d4ebff;}#sk-container-id-3 div.sk-serial::before {content: \"\";position: absolute;border-left: 1px solid gray;box-sizing: border-box;top: 0;bottom: 0;left: 50%;z-index: 0;}#sk-container-id-3 div.sk-serial {display: flex;flex-direction: column;align-items: center;background-color: white;padding-right: 0.2em;padding-left: 0.2em;position: relative;}#sk-container-id-3 div.sk-item {position: relative;z-index: 1;}#sk-container-id-3 div.sk-parallel {display: flex;align-items: stretch;justify-content: center;background-color: white;position: relative;}#sk-container-id-3 div.sk-item::before, #sk-container-id-3 div.sk-parallel-item::before {content: \"\";position: absolute;border-left: 1px solid gray;box-sizing: border-box;top: 0;bottom: 0;left: 50%;z-index: -1;}#sk-container-id-3 div.sk-parallel-item {display: flex;flex-direction: column;z-index: 1;position: relative;background-color: white;}#sk-container-id-3 div.sk-parallel-item:first-child::after {align-self: flex-end;width: 50%;}#sk-container-id-3 div.sk-parallel-item:last-child::after {align-self: flex-start;width: 50%;}#sk-container-id-3 div.sk-parallel-item:only-child::after {width: 0;}#sk-container-id-3 div.sk-dashed-wrapped {border: 1px dashed gray;margin: 0 0.4em 0.5em 0.4em;box-sizing: border-box;padding-bottom: 0.4em;background-color: white;}#sk-container-id-3 div.sk-label label {font-family: monospace;font-weight: bold;display: inline-block;line-height: 1.2em;}#sk-container-id-3 div.sk-label-container {text-align: center;}#sk-container-id-3 div.sk-container {/* jupyter's `normalize.less` sets `[hidden] { display: none; }` but bootstrap.min.css set `[hidden] { display: none !important; }` so we also need the `!important` here to be able to override the default hidden behavior on the sphinx rendered scikit-learn.org. See: https://github.com/scikit-learn/scikit-learn/issues/21755 */display: inline-block !important;position: relative;}#sk-container-id-3 div.sk-text-repr-fallback {display: none;}</style><div id=\"sk-container-id-3\" class=\"sk-top-container\"><div class=\"sk-text-repr-fallback\"><pre>Lasso(alpha=0.0001)</pre><b>In a Jupyter environment, please rerun this cell to show the HTML representation or trust the notebook. <br />On GitHub, the HTML representation is unable to render, please try loading this page with nbviewer.org.</b></div><div class=\"sk-container\" hidden><div class=\"sk-item\"><div class=\"sk-estimator sk-toggleable\"><input class=\"sk-toggleable__control sk-hidden--visually\" id=\"sk-estimator-id-3\" type=\"checkbox\" checked><label for=\"sk-estimator-id-3\" class=\"sk-toggleable__label sk-toggleable__label-arrow\">Lasso</label><div class=\"sk-toggleable__content\"><pre>Lasso(alpha=0.0001)</pre></div></div></div></div></div>"
      ],
      "text/plain": [
       "Lasso(alpha=0.0001)"
      ]
     },
     "execution_count": 26,
     "metadata": {},
     "output_type": "execute_result"
    }
   ],
   "source": [
    "model = Lasso(alpha = 0.0001)\n",
    "model.fit(X_train_norm, y_train_norm)"
   ]
  },
  {
   "cell_type": "code",
   "execution_count": 27,
   "metadata": {
    "ExecuteTime": {
     "end_time": "2023-01-05T10:46:29.970602Z",
     "start_time": "2023-01-05T10:46:29.936935Z"
    }
   },
   "outputs": [
    {
     "data": {
      "text/plain": [
       "['value1',\n",
       " 'value10',\n",
       " 'value100',\n",
       " 'value101',\n",
       " 'value102',\n",
       " 'value103',\n",
       " 'value105',\n",
       " 'value106',\n",
       " 'value107',\n",
       " 'value110',\n",
       " 'value111',\n",
       " 'value113',\n",
       " 'value114',\n",
       " 'value115',\n",
       " 'value116',\n",
       " 'value118',\n",
       " 'value119',\n",
       " 'value120',\n",
       " 'value121',\n",
       " 'value122',\n",
       " 'value123',\n",
       " 'value125',\n",
       " 'value126',\n",
       " 'value127',\n",
       " 'value13',\n",
       " 'value130',\n",
       " 'value132',\n",
       " 'value133',\n",
       " 'value134',\n",
       " 'value135',\n",
       " 'value136',\n",
       " 'value137',\n",
       " 'value139',\n",
       " 'value14',\n",
       " 'value140',\n",
       " 'value141',\n",
       " 'value142',\n",
       " 'value143',\n",
       " 'value144',\n",
       " 'value145',\n",
       " 'value146',\n",
       " 'value15',\n",
       " 'value150',\n",
       " 'value151',\n",
       " 'value152',\n",
       " 'value153',\n",
       " 'value154',\n",
       " 'value155',\n",
       " 'value156',\n",
       " 'value157',\n",
       " 'value16',\n",
       " 'value160',\n",
       " 'value161',\n",
       " 'value162',\n",
       " 'value163',\n",
       " 'value164',\n",
       " 'value166',\n",
       " 'value17',\n",
       " 'value170',\n",
       " 'value171',\n",
       " 'value172',\n",
       " 'value173',\n",
       " 'value174',\n",
       " 'value175',\n",
       " 'value176',\n",
       " 'value177',\n",
       " 'value178',\n",
       " 'value18',\n",
       " 'value180',\n",
       " 'value182',\n",
       " 'value183',\n",
       " 'value186',\n",
       " 'value187',\n",
       " 'value188',\n",
       " 'value19',\n",
       " 'value190',\n",
       " 'value191',\n",
       " 'value192',\n",
       " 'value193',\n",
       " 'value194',\n",
       " 'value195',\n",
       " 'value2',\n",
       " 'value200',\n",
       " 'value201',\n",
       " 'value202',\n",
       " 'value203',\n",
       " 'value204',\n",
       " 'value21',\n",
       " 'value210',\n",
       " 'value211',\n",
       " 'value212',\n",
       " 'value213',\n",
       " 'value214',\n",
       " 'value215',\n",
       " 'value218',\n",
       " 'value219',\n",
       " 'value22',\n",
       " 'value220',\n",
       " 'value221',\n",
       " 'value222',\n",
       " 'value223',\n",
       " 'value224',\n",
       " 'value225',\n",
       " 'value226',\n",
       " 'value227',\n",
       " 'value228',\n",
       " 'value229',\n",
       " 'value23',\n",
       " 'value230',\n",
       " 'value232',\n",
       " 'value233',\n",
       " 'value235',\n",
       " 'value236',\n",
       " 'value237',\n",
       " 'value238',\n",
       " 'value24',\n",
       " 'value242',\n",
       " 'value243',\n",
       " 'value244',\n",
       " 'value245',\n",
       " 'value246',\n",
       " 'value247',\n",
       " 'value248',\n",
       " 'value249',\n",
       " 'value25',\n",
       " 'value250',\n",
       " 'value251',\n",
       " 'value252',\n",
       " 'value256',\n",
       " 'value257',\n",
       " 'value258',\n",
       " 'value26',\n",
       " 'value262',\n",
       " 'value264',\n",
       " 'value265',\n",
       " 'value266',\n",
       " 'value267',\n",
       " 'value268',\n",
       " 'value269',\n",
       " 'value272',\n",
       " 'value273',\n",
       " 'value274',\n",
       " 'value275',\n",
       " 'value277',\n",
       " 'value280',\n",
       " 'value281',\n",
       " 'value282',\n",
       " 'value283',\n",
       " 'value284',\n",
       " 'value288',\n",
       " 'value289',\n",
       " 'value290',\n",
       " 'value291',\n",
       " 'value292',\n",
       " 'value293',\n",
       " 'value296',\n",
       " 'value297',\n",
       " 'value298',\n",
       " 'value299',\n",
       " 'value3',\n",
       " 'value30',\n",
       " 'value300',\n",
       " 'value301',\n",
       " 'value304',\n",
       " 'value305',\n",
       " 'value306',\n",
       " 'value307',\n",
       " 'value308',\n",
       " 'value31',\n",
       " 'value310',\n",
       " 'value312',\n",
       " 'value314',\n",
       " 'value318',\n",
       " 'value319',\n",
       " 'value321',\n",
       " 'value322',\n",
       " 'value323',\n",
       " 'value324',\n",
       " 'value328',\n",
       " 'value329',\n",
       " 'value33',\n",
       " 'value331',\n",
       " 'value335',\n",
       " 'value336',\n",
       " 'value337',\n",
       " 'value338',\n",
       " 'value339',\n",
       " 'value34',\n",
       " 'value340',\n",
       " 'value341',\n",
       " 'value343',\n",
       " 'value344',\n",
       " 'value345',\n",
       " 'value35',\n",
       " 'value352',\n",
       " 'value353',\n",
       " 'value355',\n",
       " 'value356',\n",
       " 'value357',\n",
       " 'value358',\n",
       " 'value359',\n",
       " 'value36',\n",
       " 'value361',\n",
       " 'value362',\n",
       " 'value363',\n",
       " 'value364',\n",
       " 'value365',\n",
       " 'value367',\n",
       " 'value368',\n",
       " 'value369',\n",
       " 'value371',\n",
       " 'value372',\n",
       " 'value374',\n",
       " 'value377',\n",
       " 'value378',\n",
       " 'value38',\n",
       " 'value381',\n",
       " 'value382',\n",
       " 'value4',\n",
       " 'value41',\n",
       " 'value42',\n",
       " 'value43',\n",
       " 'value44',\n",
       " 'value45',\n",
       " 'value48',\n",
       " 'value5',\n",
       " 'value50',\n",
       " 'value51',\n",
       " 'value52',\n",
       " 'value53',\n",
       " 'value54',\n",
       " 'value61',\n",
       " 'value62',\n",
       " 'value63',\n",
       " 'value64',\n",
       " 'value65',\n",
       " 'value66',\n",
       " 'value7',\n",
       " 'value71',\n",
       " 'value72',\n",
       " 'value73',\n",
       " 'value75',\n",
       " 'value76',\n",
       " 'value77',\n",
       " 'value78',\n",
       " 'value8',\n",
       " 'value80',\n",
       " 'value81',\n",
       " 'value82',\n",
       " 'value83',\n",
       " 'value84',\n",
       " 'value85',\n",
       " 'value86',\n",
       " 'value89',\n",
       " 'value9',\n",
       " 'value91',\n",
       " 'value92',\n",
       " 'value93',\n",
       " 'value94',\n",
       " 'value95',\n",
       " 'value96',\n",
       " 'value98',\n",
       " 'value99']"
      ]
     },
     "execution_count": 27,
     "metadata": {},
     "output_type": "execute_result"
    }
   ],
   "source": [
    "features_lasso_00001 = sorted(list(X_train.columns[np.abs(model.coef_) > sys.float_info.epsilon]))\n",
    "features_lasso_00001"
   ]
  },
  {
   "cell_type": "code",
   "execution_count": 28,
   "metadata": {
    "ExecuteTime": {
     "end_time": "2023-01-05T10:46:30.138304Z",
     "start_time": "2023-01-05T10:46:29.977957Z"
    }
   },
   "outputs": [],
   "source": [
    "dict_results_lasso_00001 = {'rmse':[], 'mae':[], 'r2':[]}"
   ]
  },
  {
   "cell_type": "code",
   "execution_count": 29,
   "metadata": {
    "ExecuteTime": {
     "end_time": "2023-01-05T11:18:16.010316Z",
     "start_time": "2023-01-05T10:46:30.140764Z"
    },
    "scrolled": true
   },
   "outputs": [
    {
     "name": "stdout",
     "output_type": "stream",
     "text": [
      "0\n",
      "1\n",
      "2\n",
      "3\n",
      "4\n",
      "5\n",
      "6\n",
      "7\n",
      "8\n",
      "9\n",
      "10\n",
      "11\n",
      "12\n",
      "13\n",
      "14\n",
      "15\n",
      "16\n",
      "17\n",
      "18\n",
      "19\n",
      "20\n",
      "21\n",
      "22\n",
      "23\n",
      "24\n",
      "25\n",
      "26\n",
      "27\n",
      "28\n",
      "29\n",
      "30\n",
      "31\n",
      "32\n",
      "33\n",
      "34\n",
      "35\n",
      "36\n",
      "37\n",
      "38\n",
      "39\n",
      "40\n",
      "41\n",
      "42\n",
      "43\n",
      "44\n",
      "45\n",
      "46\n",
      "47\n",
      "48\n",
      "49\n"
     ]
    }
   ],
   "source": [
    "X_test_lasso_00001 = X_test[features_lasso_00001]\n",
    "X_train_lasso_00001= X_train[features_lasso_00001]\n",
    "X_val_lasso_00001 = X_val[features_lasso_00001]\n",
    "for iteration in range(50):\n",
    "    print(iteration)\n",
    "    model = CatBoostRegressor(verbose=0, n_estimators=250,use_best_model=True, random_seed=seeds[iteration])\n",
    "    model.fit(\n",
    "        X_train_lasso_00001, y_train,\n",
    "        eval_set=(X_val_lasso_00001, y_val),\n",
    "        verbose = 0,\n",
    "        plot=False\n",
    "    );\n",
    "    \n",
    "    test_results = scores_calc_print(y_test, model.predict(X_test_lasso_00001), print_bool=False)\n",
    "    \n",
    "    dict_results_lasso_00001[\"r2\"].append(test_results[\"R2\"])\n",
    "    dict_results_lasso_00001[\"rmse\"].append(test_results[\"RMSE\"])\n",
    "    dict_results_lasso_00001[\"mae\"].append(test_results[\"MAE\"])"
   ]
  },
  {
   "cell_type": "code",
   "execution_count": 30,
   "metadata": {
    "ExecuteTime": {
     "end_time": "2023-01-05T11:18:16.043070Z",
     "start_time": "2023-01-05T11:18:16.014248Z"
    }
   },
   "outputs": [],
   "source": [
    "results_lasso_00001_df = pd.DataFrame(dict_results_lasso_00001)\n",
    "mean_lasso_00001_test = results_lasso_00001_df.mean()\n",
    "std_lasso_00001_test = results_lasso_00001_df.std()\n",
    "max_lasso_00001_test = results_lasso_00001_df.max()\n",
    "min_lasso_00001_test = results_lasso_00001_df.min()"
   ]
  },
  {
   "cell_type": "code",
   "execution_count": 31,
   "metadata": {
    "ExecuteTime": {
     "end_time": "2023-01-05T11:18:29.955464Z",
     "start_time": "2023-01-05T11:18:16.046713Z"
    }
   },
   "outputs": [
    {
     "data": {
      "text/plain": [
       "(rmse    7.102244\n",
       " mae     4.397759\n",
       " r2      0.887935\n",
       " dtype: float64,\n",
       " rmse    0.163322\n",
       " mae     0.096686\n",
       " r2      0.005137\n",
       " dtype: float64,\n",
       " rmse    7.440628\n",
       " mae     4.641669\n",
       " r2      0.899327\n",
       " dtype: float64,\n",
       " rmse    6.733316\n",
       " mae     4.208981\n",
       " r2      0.877065\n",
       " dtype: float64)"
      ]
     },
     "execution_count": 31,
     "metadata": {},
     "output_type": "execute_result"
    }
   ],
   "source": [
    "mean_lasso_00001_test, std_lasso_00001_test, max_lasso_00001_test, min_lasso_00001_test"
   ]
  },
  {
   "cell_type": "markdown",
   "metadata": {},
   "source": [
    "## Lasso 0.00001"
   ]
  },
  {
   "cell_type": "code",
   "execution_count": 32,
   "metadata": {
    "ExecuteTime": {
     "end_time": "2023-01-05T11:20:55.254693Z",
     "start_time": "2023-01-05T11:18:29.958818Z"
    }
   },
   "outputs": [
    {
     "data": {
      "text/html": [
       "<style>#sk-container-id-4 {color: black;background-color: white;}#sk-container-id-4 pre{padding: 0;}#sk-container-id-4 div.sk-toggleable {background-color: white;}#sk-container-id-4 label.sk-toggleable__label {cursor: pointer;display: block;width: 100%;margin-bottom: 0;padding: 0.3em;box-sizing: border-box;text-align: center;}#sk-container-id-4 label.sk-toggleable__label-arrow:before {content: \"▸\";float: left;margin-right: 0.25em;color: #696969;}#sk-container-id-4 label.sk-toggleable__label-arrow:hover:before {color: black;}#sk-container-id-4 div.sk-estimator:hover label.sk-toggleable__label-arrow:before {color: black;}#sk-container-id-4 div.sk-toggleable__content {max-height: 0;max-width: 0;overflow: hidden;text-align: left;background-color: #f0f8ff;}#sk-container-id-4 div.sk-toggleable__content pre {margin: 0.2em;color: black;border-radius: 0.25em;background-color: #f0f8ff;}#sk-container-id-4 input.sk-toggleable__control:checked~div.sk-toggleable__content {max-height: 200px;max-width: 100%;overflow: auto;}#sk-container-id-4 input.sk-toggleable__control:checked~label.sk-toggleable__label-arrow:before {content: \"▾\";}#sk-container-id-4 div.sk-estimator input.sk-toggleable__control:checked~label.sk-toggleable__label {background-color: #d4ebff;}#sk-container-id-4 div.sk-label input.sk-toggleable__control:checked~label.sk-toggleable__label {background-color: #d4ebff;}#sk-container-id-4 input.sk-hidden--visually {border: 0;clip: rect(1px 1px 1px 1px);clip: rect(1px, 1px, 1px, 1px);height: 1px;margin: -1px;overflow: hidden;padding: 0;position: absolute;width: 1px;}#sk-container-id-4 div.sk-estimator {font-family: monospace;background-color: #f0f8ff;border: 1px dotted black;border-radius: 0.25em;box-sizing: border-box;margin-bottom: 0.5em;}#sk-container-id-4 div.sk-estimator:hover {background-color: #d4ebff;}#sk-container-id-4 div.sk-parallel-item::after {content: \"\";width: 100%;border-bottom: 1px solid gray;flex-grow: 1;}#sk-container-id-4 div.sk-label:hover label.sk-toggleable__label {background-color: #d4ebff;}#sk-container-id-4 div.sk-serial::before {content: \"\";position: absolute;border-left: 1px solid gray;box-sizing: border-box;top: 0;bottom: 0;left: 50%;z-index: 0;}#sk-container-id-4 div.sk-serial {display: flex;flex-direction: column;align-items: center;background-color: white;padding-right: 0.2em;padding-left: 0.2em;position: relative;}#sk-container-id-4 div.sk-item {position: relative;z-index: 1;}#sk-container-id-4 div.sk-parallel {display: flex;align-items: stretch;justify-content: center;background-color: white;position: relative;}#sk-container-id-4 div.sk-item::before, #sk-container-id-4 div.sk-parallel-item::before {content: \"\";position: absolute;border-left: 1px solid gray;box-sizing: border-box;top: 0;bottom: 0;left: 50%;z-index: -1;}#sk-container-id-4 div.sk-parallel-item {display: flex;flex-direction: column;z-index: 1;position: relative;background-color: white;}#sk-container-id-4 div.sk-parallel-item:first-child::after {align-self: flex-end;width: 50%;}#sk-container-id-4 div.sk-parallel-item:last-child::after {align-self: flex-start;width: 50%;}#sk-container-id-4 div.sk-parallel-item:only-child::after {width: 0;}#sk-container-id-4 div.sk-dashed-wrapped {border: 1px dashed gray;margin: 0 0.4em 0.5em 0.4em;box-sizing: border-box;padding-bottom: 0.4em;background-color: white;}#sk-container-id-4 div.sk-label label {font-family: monospace;font-weight: bold;display: inline-block;line-height: 1.2em;}#sk-container-id-4 div.sk-label-container {text-align: center;}#sk-container-id-4 div.sk-container {/* jupyter's `normalize.less` sets `[hidden] { display: none; }` but bootstrap.min.css set `[hidden] { display: none !important; }` so we also need the `!important` here to be able to override the default hidden behavior on the sphinx rendered scikit-learn.org. See: https://github.com/scikit-learn/scikit-learn/issues/21755 */display: inline-block !important;position: relative;}#sk-container-id-4 div.sk-text-repr-fallback {display: none;}</style><div id=\"sk-container-id-4\" class=\"sk-top-container\"><div class=\"sk-text-repr-fallback\"><pre>Lasso(alpha=1e-05)</pre><b>In a Jupyter environment, please rerun this cell to show the HTML representation or trust the notebook. <br />On GitHub, the HTML representation is unable to render, please try loading this page with nbviewer.org.</b></div><div class=\"sk-container\" hidden><div class=\"sk-item\"><div class=\"sk-estimator sk-toggleable\"><input class=\"sk-toggleable__control sk-hidden--visually\" id=\"sk-estimator-id-4\" type=\"checkbox\" checked><label for=\"sk-estimator-id-4\" class=\"sk-toggleable__label sk-toggleable__label-arrow\">Lasso</label><div class=\"sk-toggleable__content\"><pre>Lasso(alpha=1e-05)</pre></div></div></div></div></div>"
      ],
      "text/plain": [
       "Lasso(alpha=1e-05)"
      ]
     },
     "execution_count": 32,
     "metadata": {},
     "output_type": "execute_result"
    }
   ],
   "source": [
    "model = Lasso(alpha = 0.00001)\n",
    "model.fit(X_train_norm, y_train_norm)"
   ]
  },
  {
   "cell_type": "code",
   "execution_count": 33,
   "metadata": {
    "ExecuteTime": {
     "end_time": "2023-01-05T11:20:55.288961Z",
     "start_time": "2023-01-05T11:20:55.256936Z"
    }
   },
   "outputs": [
    {
     "data": {
      "text/plain": [
       "['value1',\n",
       " 'value10',\n",
       " 'value100',\n",
       " 'value101',\n",
       " 'value102',\n",
       " 'value103',\n",
       " 'value104',\n",
       " 'value105',\n",
       " 'value106',\n",
       " 'value107',\n",
       " 'value108',\n",
       " 'value109',\n",
       " 'value11',\n",
       " 'value110',\n",
       " 'value111',\n",
       " 'value112',\n",
       " 'value113',\n",
       " 'value114',\n",
       " 'value115',\n",
       " 'value116',\n",
       " 'value117',\n",
       " 'value118',\n",
       " 'value119',\n",
       " 'value120',\n",
       " 'value121',\n",
       " 'value122',\n",
       " 'value123',\n",
       " 'value124',\n",
       " 'value125',\n",
       " 'value126',\n",
       " 'value127',\n",
       " 'value129',\n",
       " 'value13',\n",
       " 'value130',\n",
       " 'value131',\n",
       " 'value132',\n",
       " 'value133',\n",
       " 'value134',\n",
       " 'value135',\n",
       " 'value136',\n",
       " 'value137',\n",
       " 'value138',\n",
       " 'value139',\n",
       " 'value14',\n",
       " 'value140',\n",
       " 'value141',\n",
       " 'value142',\n",
       " 'value143',\n",
       " 'value144',\n",
       " 'value145',\n",
       " 'value146',\n",
       " 'value147',\n",
       " 'value149',\n",
       " 'value15',\n",
       " 'value150',\n",
       " 'value151',\n",
       " 'value152',\n",
       " 'value153',\n",
       " 'value154',\n",
       " 'value155',\n",
       " 'value156',\n",
       " 'value157',\n",
       " 'value16',\n",
       " 'value160',\n",
       " 'value161',\n",
       " 'value162',\n",
       " 'value163',\n",
       " 'value164',\n",
       " 'value165',\n",
       " 'value166',\n",
       " 'value167',\n",
       " 'value17',\n",
       " 'value170',\n",
       " 'value171',\n",
       " 'value172',\n",
       " 'value173',\n",
       " 'value174',\n",
       " 'value175',\n",
       " 'value176',\n",
       " 'value177',\n",
       " 'value178',\n",
       " 'value18',\n",
       " 'value180',\n",
       " 'value181',\n",
       " 'value182',\n",
       " 'value183',\n",
       " 'value184',\n",
       " 'value185',\n",
       " 'value186',\n",
       " 'value187',\n",
       " 'value188',\n",
       " 'value19',\n",
       " 'value190',\n",
       " 'value191',\n",
       " 'value192',\n",
       " 'value193',\n",
       " 'value194',\n",
       " 'value195',\n",
       " 'value196',\n",
       " 'value197',\n",
       " 'value2',\n",
       " 'value20',\n",
       " 'value200',\n",
       " 'value201',\n",
       " 'value202',\n",
       " 'value203',\n",
       " 'value204',\n",
       " 'value205',\n",
       " 'value206',\n",
       " 'value207',\n",
       " 'value208',\n",
       " 'value21',\n",
       " 'value210',\n",
       " 'value211',\n",
       " 'value212',\n",
       " 'value213',\n",
       " 'value214',\n",
       " 'value215',\n",
       " 'value218',\n",
       " 'value219',\n",
       " 'value22',\n",
       " 'value220',\n",
       " 'value221',\n",
       " 'value222',\n",
       " 'value223',\n",
       " 'value224',\n",
       " 'value225',\n",
       " 'value226',\n",
       " 'value227',\n",
       " 'value228',\n",
       " 'value229',\n",
       " 'value23',\n",
       " 'value230',\n",
       " 'value231',\n",
       " 'value232',\n",
       " 'value233',\n",
       " 'value234',\n",
       " 'value235',\n",
       " 'value236',\n",
       " 'value237',\n",
       " 'value238',\n",
       " 'value239',\n",
       " 'value24',\n",
       " 'value240',\n",
       " 'value241',\n",
       " 'value242',\n",
       " 'value243',\n",
       " 'value244',\n",
       " 'value245',\n",
       " 'value246',\n",
       " 'value247',\n",
       " 'value248',\n",
       " 'value249',\n",
       " 'value25',\n",
       " 'value250',\n",
       " 'value251',\n",
       " 'value252',\n",
       " 'value253',\n",
       " 'value254',\n",
       " 'value256',\n",
       " 'value257',\n",
       " 'value258',\n",
       " 'value259',\n",
       " 'value26',\n",
       " 'value262',\n",
       " 'value263',\n",
       " 'value264',\n",
       " 'value265',\n",
       " 'value266',\n",
       " 'value267',\n",
       " 'value268',\n",
       " 'value269',\n",
       " 'value27',\n",
       " 'value271',\n",
       " 'value272',\n",
       " 'value273',\n",
       " 'value274',\n",
       " 'value275',\n",
       " 'value276',\n",
       " 'value277',\n",
       " 'value278',\n",
       " 'value28',\n",
       " 'value280',\n",
       " 'value281',\n",
       " 'value282',\n",
       " 'value283',\n",
       " 'value284',\n",
       " 'value285',\n",
       " 'value286',\n",
       " 'value287',\n",
       " 'value288',\n",
       " 'value289',\n",
       " 'value29',\n",
       " 'value290',\n",
       " 'value291',\n",
       " 'value292',\n",
       " 'value293',\n",
       " 'value295',\n",
       " 'value296',\n",
       " 'value297',\n",
       " 'value298',\n",
       " 'value299',\n",
       " 'value3',\n",
       " 'value30',\n",
       " 'value300',\n",
       " 'value301',\n",
       " 'value302',\n",
       " 'value304',\n",
       " 'value305',\n",
       " 'value306',\n",
       " 'value307',\n",
       " 'value308',\n",
       " 'value309',\n",
       " 'value31',\n",
       " 'value310',\n",
       " 'value312',\n",
       " 'value313',\n",
       " 'value314',\n",
       " 'value315',\n",
       " 'value316',\n",
       " 'value317',\n",
       " 'value318',\n",
       " 'value319',\n",
       " 'value32',\n",
       " 'value320',\n",
       " 'value321',\n",
       " 'value322',\n",
       " 'value323',\n",
       " 'value324',\n",
       " 'value325',\n",
       " 'value326',\n",
       " 'value328',\n",
       " 'value329',\n",
       " 'value33',\n",
       " 'value330',\n",
       " 'value331',\n",
       " 'value333',\n",
       " 'value334',\n",
       " 'value335',\n",
       " 'value336',\n",
       " 'value337',\n",
       " 'value338',\n",
       " 'value339',\n",
       " 'value34',\n",
       " 'value340',\n",
       " 'value341',\n",
       " 'value343',\n",
       " 'value344',\n",
       " 'value345',\n",
       " 'value346',\n",
       " 'value348',\n",
       " 'value349',\n",
       " 'value35',\n",
       " 'value350',\n",
       " 'value352',\n",
       " 'value353',\n",
       " 'value354',\n",
       " 'value355',\n",
       " 'value356',\n",
       " 'value357',\n",
       " 'value358',\n",
       " 'value359',\n",
       " 'value36',\n",
       " 'value360',\n",
       " 'value361',\n",
       " 'value362',\n",
       " 'value363',\n",
       " 'value364',\n",
       " 'value365',\n",
       " 'value366',\n",
       " 'value367',\n",
       " 'value368',\n",
       " 'value369',\n",
       " 'value37',\n",
       " 'value370',\n",
       " 'value371',\n",
       " 'value372',\n",
       " 'value373',\n",
       " 'value374',\n",
       " 'value376',\n",
       " 'value377',\n",
       " 'value378',\n",
       " 'value379',\n",
       " 'value38',\n",
       " 'value380',\n",
       " 'value381',\n",
       " 'value382',\n",
       " 'value383',\n",
       " 'value39',\n",
       " 'value4',\n",
       " 'value40',\n",
       " 'value41',\n",
       " 'value42',\n",
       " 'value43',\n",
       " 'value44',\n",
       " 'value45',\n",
       " 'value46',\n",
       " 'value48',\n",
       " 'value5',\n",
       " 'value50',\n",
       " 'value51',\n",
       " 'value52',\n",
       " 'value53',\n",
       " 'value54',\n",
       " 'value55',\n",
       " 'value56',\n",
       " 'value57',\n",
       " 'value6',\n",
       " 'value60',\n",
       " 'value61',\n",
       " 'value62',\n",
       " 'value63',\n",
       " 'value64',\n",
       " 'value65',\n",
       " 'value66',\n",
       " 'value67',\n",
       " 'value7',\n",
       " 'value71',\n",
       " 'value72',\n",
       " 'value73',\n",
       " 'value74',\n",
       " 'value75',\n",
       " 'value76',\n",
       " 'value77',\n",
       " 'value78',\n",
       " 'value8',\n",
       " 'value80',\n",
       " 'value81',\n",
       " 'value82',\n",
       " 'value83',\n",
       " 'value84',\n",
       " 'value85',\n",
       " 'value86',\n",
       " 'value87',\n",
       " 'value88',\n",
       " 'value89',\n",
       " 'value9',\n",
       " 'value91',\n",
       " 'value92',\n",
       " 'value93',\n",
       " 'value94',\n",
       " 'value95',\n",
       " 'value96',\n",
       " 'value97',\n",
       " 'value98',\n",
       " 'value99']"
      ]
     },
     "execution_count": 33,
     "metadata": {},
     "output_type": "execute_result"
    }
   ],
   "source": [
    "features_lasso_000001 = sorted(list(X_train.columns[np.abs(model.coef_) > sys.float_info.epsilon]))\n",
    "features_lasso_000001"
   ]
  },
  {
   "cell_type": "code",
   "execution_count": 34,
   "metadata": {
    "ExecuteTime": {
     "end_time": "2023-01-05T11:20:57.985885Z",
     "start_time": "2023-01-05T11:20:55.293187Z"
    }
   },
   "outputs": [],
   "source": [
    "dict_results_lasso_000001 = {'rmse':[], 'mae':[], 'r2':[]}"
   ]
  },
  {
   "cell_type": "code",
   "execution_count": 35,
   "metadata": {
    "ExecuteTime": {
     "end_time": "2023-01-05T11:45:39.729279Z",
     "start_time": "2023-01-05T11:20:57.986876Z"
    },
    "scrolled": true
   },
   "outputs": [
    {
     "name": "stdout",
     "output_type": "stream",
     "text": [
      "0\n",
      "1\n",
      "2\n",
      "3\n",
      "4\n",
      "5\n",
      "6\n",
      "7\n",
      "8\n",
      "9\n",
      "10\n",
      "11\n",
      "12\n",
      "13\n",
      "14\n",
      "15\n",
      "16\n",
      "17\n",
      "18\n",
      "19\n",
      "20\n",
      "21\n",
      "22\n",
      "23\n",
      "24\n",
      "25\n",
      "26\n",
      "27\n",
      "28\n",
      "29\n",
      "30\n",
      "31\n",
      "32\n",
      "33\n",
      "34\n",
      "35\n",
      "36\n",
      "37\n",
      "38\n",
      "39\n",
      "40\n",
      "41\n",
      "42\n",
      "43\n",
      "44\n",
      "45\n",
      "46\n",
      "47\n",
      "48\n",
      "49\n"
     ]
    }
   ],
   "source": [
    "X_test_lasso_000001 = X_test[features_lasso_000001]\n",
    "X_train_lasso_000001= X_train[features_lasso_000001]\n",
    "X_val_lasso_000001 = X_val[features_lasso_000001]\n",
    "for iteration in range(50):\n",
    "    print(iteration)\n",
    "    model = CatBoostRegressor(verbose=0, n_estimators=250,use_best_model=True, random_seed=seeds[iteration])\n",
    "    model.fit(\n",
    "        X_train_lasso_000001, y_train,\n",
    "        eval_set=(X_val_lasso_000001, y_val),\n",
    "        verbose = 0,\n",
    "        plot=False\n",
    "    );\n",
    "    \n",
    "    test_results = scores_calc_print(y_test, model.predict(X_test_lasso_000001), print_bool=False)\n",
    "    \n",
    "    dict_results_lasso_000001[\"r2\"].append(test_results[\"R2\"])\n",
    "    dict_results_lasso_000001[\"rmse\"].append(test_results[\"RMSE\"])\n",
    "    dict_results_lasso_000001[\"mae\"].append(test_results[\"MAE\"])"
   ]
  },
  {
   "cell_type": "code",
   "execution_count": 36,
   "metadata": {
    "ExecuteTime": {
     "end_time": "2023-01-05T11:45:39.757614Z",
     "start_time": "2023-01-05T11:45:39.732580Z"
    }
   },
   "outputs": [],
   "source": [
    "results_lasso_000001_df = pd.DataFrame(dict_results_lasso_000001)\n",
    "mean_lasso_000001_test = results_lasso_000001_df.mean()\n",
    "std_lasso_000001_test = results_lasso_000001_df.std()\n",
    "max_lasso_000001_test = results_lasso_000001_df.max()\n",
    "min_lasso_000001_test = results_lasso_000001_df.min()"
   ]
  },
  {
   "cell_type": "code",
   "execution_count": 37,
   "metadata": {
    "ExecuteTime": {
     "end_time": "2023-01-05T11:45:39.921070Z",
     "start_time": "2023-01-05T11:45:39.760552Z"
    }
   },
   "outputs": [
    {
     "data": {
      "text/plain": [
       "(rmse    7.134556\n",
       " mae     4.363900\n",
       " r2      0.886901\n",
       " dtype: float64,\n",
       " rmse    0.179122\n",
       " mae     0.090692\n",
       " r2      0.005702\n",
       " dtype: float64,\n",
       " rmse    7.502714\n",
       " mae     4.577743\n",
       " r2      0.899454\n",
       " dtype: float64,\n",
       " rmse    6.729083\n",
       " mae     4.206471\n",
       " r2      0.875005\n",
       " dtype: float64)"
      ]
     },
     "execution_count": 37,
     "metadata": {},
     "output_type": "execute_result"
    }
   ],
   "source": [
    "mean_lasso_000001_test, std_lasso_000001_test, max_lasso_000001_test, min_lasso_000001_test"
   ]
  },
  {
   "cell_type": "markdown",
   "metadata": {},
   "source": [
    "## Boruta"
   ]
  },
  {
   "cell_type": "code",
   "execution_count": 38,
   "metadata": {
    "ExecuteTime": {
     "end_time": "2023-01-05T11:58:23.649095Z",
     "start_time": "2023-01-05T11:45:39.924071Z"
    }
   },
   "outputs": [
    {
     "name": "stderr",
     "output_type": "stream",
     "text": [
      "100%|██████████████████████████████████████████████████████████████████████████████████| 20/20 [12:41<00:00, 38.05s/it]"
     ]
    },
    {
     "name": "stdout",
     "output_type": "stream",
     "text": [
      "182 attributes confirmed important: ['value160', 'value122', 'value113', 'value120', 'value265', 'value300', 'value23', 'value47', 'value308', 'value273', 'value61', 'value200', 'value84', 'value126', 'value6', 'value373', 'value202', 'value162', 'value276', 'value2', 'value258', 'value145', 'value339', 'value123', 'value192', 'value246', 'value228', 'value116', 'value44', 'value125', 'value320', 'value329', 'value362', 'value52', 'value18', 'value136', 'value213', 'value237', 'value108', 'value4', 'value130', 'value182', 'value230', 'value382', 'value219', 'value184', 'value190', 'value124', 'value191', 'value231', 'value102', 'value117', 'value377', 'value100', 'value331', 'value222', 'value26', 'value5', 'value266', 'value142', 'value10', 'value233', 'value64', 'value105', 'value249', 'value17', 'value203', 'value112', 'value121', 'value106', 'value171', 'value111', 'value256', 'value314', 'value96', 'value232', 'value223', 'value54', 'value210', 'value25', 'value298', 'value242', 'value151', 'value181', 'value22', 'value91', 'value251', 'value378', 'value7', 'value131', 'value224', 'value133', 'value85', 'value282', 'value21', 'value161', 'value135', 'value127', 'value252', 'value274', 'value94', 'value260', 'value291', 'value313', 'value211', 'value248', 'value35', 'value40', 'value264', 'value330', 'value338', 'value63', 'value355', 'value281', 'value220', 'value201', 'value183', 'value12', 'value143', 'value60', 'value234', 'value280', 'value299', 'value215', 'value235', 'value101', 'value118', 'value221', 'value3', 'value225', 'value140', 'value146', 'value307', 'value81', 'value241', 'value226', 'value32', 'value16', 'value8', 'value158', 'value172', 'value292', 'value170', 'value275', 'value33', 'value53', 'value110', 'value1', 'value132', 'value236', 'value250', 'value128', 'value41', 'value293', 'value370', 'value356', 'value207', 'value150', 'value104', 'value134', 'value114', 'value141', 'value174', 'value13', 'value216', 'value90', 'value14', 'value42', 'value214', 'value212', 'value138', 'value173', 'value272', 'value267', 'value238', 'value227', 'value115', 'value30', 'value244', 'value180', 'value218', 'value283']\n",
      "33 attributes confirmed unimportant: ['value199', 'value375', 'value189', 'value287', 'value97', 'value303', 'value169', 'value350', 'value343', 'value179', 'value255', 'value79', 'value374', 'value185', 'value271', 'value178', 'value359', 'value198', 'value165', 'value58', 'value188', 'value68', 'value168', 'value99', 'value69', 'value351', 'value279', 'value302', 'value49', 'value59', 'value347', 'value254', 'value78']\n",
      "168 tentative attributes remains: ['value80', 'value66', 'value204', 'value209', 'value306', 'value245', 'value217', 'value159', 'value167', 'value383', 'value367', 'value55', 'value154', 'value163', 'value152', 'value164', 'value240', 'value290', 'value261', 'value27', 'value270', 'value137', 'value253', 'value344', 'value195', 'value379', 'value72', 'value361', 'value62', 'value43', 'value28', 'value310', 'value15', 'value346', 'value301', 'value349', 'value153', 'value335', 'value376', 'value286', 'value77', 'value119', 'value259', 'value324', 'value36', 'value268', 'value277', 'value98', 'value342', 'value352', 'value38', 'value353', 'value380', 'value327', 'value263', 'value45', 'value316', 'value83', 'value73', 'value157', 'value285', 'value337', 'value65', 'value187', 'value56', 'value321', 'value24', 'value34', 'value262', 'value336', 'value148', 'value37', 'value76', 'value366', 'value305', 'value147', 'value19', 'value196', 'value257', 'value243', 'value284', 'value20', 'value296', 'value360', 'value334', 'value354', 'value75', 'value323', 'value328', 'value29', 'value332', 'value82', 'value95', 'value295', 'value46', 'value186', 'value176', 'value93', 'value206', 'value247', 'value193', 'value369', 'value74', 'value48', 'value312', 'value278', 'value340', 'value318', 'value50', 'value341', 'value86', 'value197', 'value205', 'value326', 'value139', 'value317', 'value31', 'value177', 'value88', 'value92', 'value208', 'value155', 'value358', 'value289', 'value87', 'value372', 'value194', 'value381', 'value371', 'value51', 'value315', 'value149', 'value166', 'value144', 'value129', 'value368', 'value11', 'value103', 'value57', 'value363', 'value345', 'value67', 'value39', 'value297', 'value322', 'value288', 'value294', 'value71', 'value156', 'value107', 'value309', 'value348', 'value269', 'value89', 'value311', 'value109', 'value9', 'value365', 'value319', 'value364', 'value70', 'value229', 'value333', 'value304', 'value239', 'value175', 'value325', 'value357']\n"
     ]
    },
    {
     "name": "stderr",
     "output_type": "stream",
     "text": [
      "\n"
     ]
    }
   ],
   "source": [
    "model = CatBoostRegressor(verbose=0, n_estimators=250,use_best_model=False, random_seed = 123)\n",
    "\n",
    "# if classification is False it is a Regression problem\n",
    "Feature_Selector = BorutaShap(model=model,\n",
    "                              importance_measure='gini',\n",
    "                              classification=False)\n",
    "\n",
    "Feature_Selector.fit(X=X_train_val, y=y_train_val, sample=False,\n",
    "                        train_or_test = 'test', normalize=True,verbose=True)\n",
    "\n",
    "# 1 minutos 46 segundos"
   ]
  },
  {
   "cell_type": "code",
   "execution_count": 39,
   "metadata": {
    "ExecuteTime": {
     "end_time": "2023-01-05T11:58:23.714883Z",
     "start_time": "2023-01-05T11:58:23.651940Z"
    }
   },
   "outputs": [
    {
     "data": {
      "text/plain": [
       "['value1',\n",
       " 'value10',\n",
       " 'value100',\n",
       " 'value101',\n",
       " 'value102',\n",
       " 'value104',\n",
       " 'value105',\n",
       " 'value106',\n",
       " 'value108',\n",
       " 'value110',\n",
       " 'value111',\n",
       " 'value112',\n",
       " 'value113',\n",
       " 'value114',\n",
       " 'value115',\n",
       " 'value116',\n",
       " 'value117',\n",
       " 'value118',\n",
       " 'value12',\n",
       " 'value120',\n",
       " 'value121',\n",
       " 'value122',\n",
       " 'value123',\n",
       " 'value124',\n",
       " 'value125',\n",
       " 'value126',\n",
       " 'value127',\n",
       " 'value128',\n",
       " 'value13',\n",
       " 'value130',\n",
       " 'value131',\n",
       " 'value132',\n",
       " 'value133',\n",
       " 'value134',\n",
       " 'value135',\n",
       " 'value136',\n",
       " 'value138',\n",
       " 'value14',\n",
       " 'value140',\n",
       " 'value141',\n",
       " 'value142',\n",
       " 'value143',\n",
       " 'value145',\n",
       " 'value146',\n",
       " 'value150',\n",
       " 'value151',\n",
       " 'value158',\n",
       " 'value16',\n",
       " 'value160',\n",
       " 'value161',\n",
       " 'value162',\n",
       " 'value17',\n",
       " 'value170',\n",
       " 'value171',\n",
       " 'value172',\n",
       " 'value173',\n",
       " 'value174',\n",
       " 'value18',\n",
       " 'value180',\n",
       " 'value181',\n",
       " 'value182',\n",
       " 'value183',\n",
       " 'value184',\n",
       " 'value190',\n",
       " 'value191',\n",
       " 'value192',\n",
       " 'value2',\n",
       " 'value200',\n",
       " 'value201',\n",
       " 'value202',\n",
       " 'value203',\n",
       " 'value207',\n",
       " 'value21',\n",
       " 'value210',\n",
       " 'value211',\n",
       " 'value212',\n",
       " 'value213',\n",
       " 'value214',\n",
       " 'value215',\n",
       " 'value216',\n",
       " 'value218',\n",
       " 'value219',\n",
       " 'value22',\n",
       " 'value220',\n",
       " 'value221',\n",
       " 'value222',\n",
       " 'value223',\n",
       " 'value224',\n",
       " 'value225',\n",
       " 'value226',\n",
       " 'value227',\n",
       " 'value228',\n",
       " 'value23',\n",
       " 'value230',\n",
       " 'value231',\n",
       " 'value232',\n",
       " 'value233',\n",
       " 'value234',\n",
       " 'value235',\n",
       " 'value236',\n",
       " 'value237',\n",
       " 'value238',\n",
       " 'value241',\n",
       " 'value242',\n",
       " 'value244',\n",
       " 'value246',\n",
       " 'value248',\n",
       " 'value249',\n",
       " 'value25',\n",
       " 'value250',\n",
       " 'value251',\n",
       " 'value252',\n",
       " 'value256',\n",
       " 'value258',\n",
       " 'value26',\n",
       " 'value260',\n",
       " 'value264',\n",
       " 'value265',\n",
       " 'value266',\n",
       " 'value267',\n",
       " 'value272',\n",
       " 'value273',\n",
       " 'value274',\n",
       " 'value275',\n",
       " 'value276',\n",
       " 'value280',\n",
       " 'value281',\n",
       " 'value282',\n",
       " 'value283',\n",
       " 'value291',\n",
       " 'value292',\n",
       " 'value293',\n",
       " 'value298',\n",
       " 'value299',\n",
       " 'value3',\n",
       " 'value30',\n",
       " 'value300',\n",
       " 'value307',\n",
       " 'value308',\n",
       " 'value313',\n",
       " 'value314',\n",
       " 'value32',\n",
       " 'value320',\n",
       " 'value329',\n",
       " 'value33',\n",
       " 'value330',\n",
       " 'value331',\n",
       " 'value338',\n",
       " 'value339',\n",
       " 'value35',\n",
       " 'value355',\n",
       " 'value356',\n",
       " 'value362',\n",
       " 'value370',\n",
       " 'value373',\n",
       " 'value377',\n",
       " 'value378',\n",
       " 'value382',\n",
       " 'value4',\n",
       " 'value40',\n",
       " 'value41',\n",
       " 'value42',\n",
       " 'value44',\n",
       " 'value47',\n",
       " 'value5',\n",
       " 'value52',\n",
       " 'value53',\n",
       " 'value54',\n",
       " 'value6',\n",
       " 'value60',\n",
       " 'value61',\n",
       " 'value63',\n",
       " 'value64',\n",
       " 'value7',\n",
       " 'value8',\n",
       " 'value81',\n",
       " 'value84',\n",
       " 'value85',\n",
       " 'value90',\n",
       " 'value91',\n",
       " 'value94',\n",
       " 'value96']"
      ]
     },
     "execution_count": 39,
     "metadata": {},
     "output_type": "execute_result"
    }
   ],
   "source": [
    "subset = Feature_Selector.Subset()\n",
    "selected_features_boruta = sorted(subset.columns.values)\n",
    "selected_features_boruta"
   ]
  },
  {
   "cell_type": "code",
   "execution_count": 40,
   "metadata": {
    "ExecuteTime": {
     "end_time": "2023-01-05T11:58:23.839755Z",
     "start_time": "2023-01-05T11:58:23.715926Z"
    }
   },
   "outputs": [],
   "source": [
    "dict_results_boruta = {'rmse':[], 'mae':[], 'r2':[]}"
   ]
  },
  {
   "cell_type": "code",
   "execution_count": 41,
   "metadata": {
    "ExecuteTime": {
     "end_time": "2023-01-05T12:08:29.908127Z",
     "start_time": "2023-01-05T11:58:23.843168Z"
    },
    "scrolled": true
   },
   "outputs": [
    {
     "name": "stdout",
     "output_type": "stream",
     "text": [
      "0\n",
      "1\n",
      "2\n",
      "3\n",
      "4\n",
      "5\n",
      "6\n",
      "7\n",
      "8\n",
      "9\n",
      "10\n",
      "11\n",
      "12\n",
      "13\n",
      "14\n",
      "15\n",
      "16\n",
      "17\n",
      "18\n",
      "19\n",
      "20\n",
      "21\n",
      "22\n",
      "23\n",
      "24\n",
      "25\n",
      "26\n",
      "27\n",
      "28\n",
      "29\n",
      "30\n",
      "31\n",
      "32\n",
      "33\n",
      "34\n",
      "35\n",
      "36\n",
      "37\n",
      "38\n",
      "39\n",
      "40\n",
      "41\n",
      "42\n",
      "43\n",
      "44\n",
      "45\n",
      "46\n",
      "47\n",
      "48\n",
      "49\n"
     ]
    }
   ],
   "source": [
    "X_test_boruta = X_test[selected_features_boruta]\n",
    "X_train_boruta = X_train[selected_features_boruta]\n",
    "X_val_boruta = X_val[selected_features_boruta]\n",
    "for iteration in range(50):\n",
    "    print(iteration)\n",
    "    model = CatBoostRegressor(verbose=0, n_estimators=250,use_best_model=True, random_seed=seeds[iteration])\n",
    "    model.fit(\n",
    "        X_train_boruta, y_train,\n",
    "        eval_set=(X_val_boruta, y_val),\n",
    "        verbose = 0,\n",
    "        plot=False\n",
    "    );\n",
    "    \n",
    "    test_results = scores_calc_print(y_test, model.predict(X_test_boruta), print_bool=False)\n",
    "    \n",
    "    dict_results_boruta[\"r2\"].append(test_results[\"R2\"])\n",
    "    dict_results_boruta[\"rmse\"].append(test_results[\"RMSE\"])\n",
    "    dict_results_boruta[\"mae\"].append(test_results[\"MAE\"])"
   ]
  },
  {
   "cell_type": "code",
   "execution_count": 42,
   "metadata": {
    "ExecuteTime": {
     "end_time": "2023-01-05T12:08:29.938747Z",
     "start_time": "2023-01-05T12:08:29.913283Z"
    }
   },
   "outputs": [],
   "source": [
    "results_boruta_df = pd.DataFrame(dict_results_boruta)\n",
    "mean_boruta_test = results_boruta_df.mean()\n",
    "std_boruta_test = results_boruta_df.std()\n",
    "max_boruta_test = results_boruta_df.max()\n",
    "min_boruta_test = results_boruta_df.min()"
   ]
  },
  {
   "cell_type": "code",
   "execution_count": 43,
   "metadata": {
    "ExecuteTime": {
     "end_time": "2023-01-05T12:08:29.984695Z",
     "start_time": "2023-01-05T12:08:29.942432Z"
    },
    "scrolled": true
   },
   "outputs": [
    {
     "data": {
      "text/plain": [
       "(rmse    7.192086\n",
       " mae     4.409453\n",
       " r2      0.885066\n",
       " dtype: float64,\n",
       " rmse    0.185222\n",
       " mae     0.108955\n",
       " r2      0.005894\n",
       " dtype: float64,\n",
       " rmse    7.554016\n",
       " mae     4.670831\n",
       " r2      0.902571\n",
       " dtype: float64,\n",
       " rmse    6.623942\n",
       " mae     4.122980\n",
       " r2      0.873290\n",
       " dtype: float64)"
      ]
     },
     "execution_count": 43,
     "metadata": {},
     "output_type": "execute_result"
    }
   ],
   "source": [
    "mean_boruta_test, std_boruta_test, max_boruta_test, min_boruta_test"
   ]
  },
  {
   "cell_type": "markdown",
   "metadata": {},
   "source": [
    "## PIMP"
   ]
  },
  {
   "cell_type": "code",
   "execution_count": 44,
   "metadata": {
    "ExecuteTime": {
     "end_time": "2023-01-05T12:08:48.969301Z",
     "start_time": "2023-01-05T12:08:29.988160Z"
    }
   },
   "outputs": [],
   "source": [
    "model = CatBoostRegressor(verbose=0, n_estimators=250,use_best_model=False, random_seed = 123)\n",
    "model = model.fit(\n",
    "    X_train, y_train,\n",
    "    verbose = 0,\n",
    "    plot=False\n",
    ")"
   ]
  },
  {
   "cell_type": "code",
   "execution_count": 45,
   "metadata": {
    "ExecuteTime": {
     "end_time": "2023-01-05T12:11:44.806302Z",
     "start_time": "2023-01-05T12:08:48.972361Z"
    }
   },
   "outputs": [],
   "source": [
    "pimp = PermutationImportance(model, cv='prefit').fit(X_val, y_val)"
   ]
  },
  {
   "cell_type": "code",
   "execution_count": 46,
   "metadata": {
    "ExecuteTime": {
     "end_time": "2023-01-05T12:11:44.836245Z",
     "start_time": "2023-01-05T12:11:44.806302Z"
    }
   },
   "outputs": [
    {
     "data": {
      "text/plain": [
       "array([ 3.62829962e-05,  6.78945455e-05,  5.89116633e-03,  1.62190980e-02,\n",
       "       -9.56784776e-05,  1.08728059e-04,  7.74227986e-06,  1.10373300e-03,\n",
       "       -6.76121277e-06,  1.01695928e-03,  4.23806868e-05,  7.33232452e-05,\n",
       "       -1.38079205e-04,  1.42816835e-04,  9.71902627e-04, -1.30116096e-03,\n",
       "        2.48405815e-05,  4.45468886e-03, -2.52272854e-05,  0.00000000e+00,\n",
       "       -1.37023779e-04,  5.45813221e-05, -4.69828835e-04, -4.77582316e-05,\n",
       "       -6.53676348e-04,  6.91126193e-05,  0.00000000e+00,  0.00000000e+00,\n",
       "        0.00000000e+00,  3.51351232e-04,  0.00000000e+00,  3.17268283e-04,\n",
       "        4.96926147e-04,  0.00000000e+00,  7.40849318e-05,  7.81490080e-05,\n",
       "        0.00000000e+00,  0.00000000e+00,  0.00000000e+00,  2.13003667e-05,\n",
       "        0.00000000e+00,  2.45281054e-04, -4.74445141e-05,  1.89398540e-04,\n",
       "        7.47989366e-04,  0.00000000e+00,  7.69441386e-04,  0.00000000e+00,\n",
       "        0.00000000e+00,  1.30509345e-04, -5.94284475e-05,  1.27319636e-04,\n",
       "        2.26706411e-04,  5.23109773e-04,  9.95874428e-04,  1.09626850e-03,\n",
       "        0.00000000e+00,  0.00000000e+00,  0.00000000e+00,  4.32282075e-04,\n",
       "        2.39888483e-05,  5.39847571e-05,  3.37896877e-04, -1.23072965e-03,\n",
       "        3.01577105e-05, -1.13593859e-05,  1.73435584e-04,  0.00000000e+00,\n",
       "        0.00000000e+00,  7.81125268e-05,  2.02049986e-04, -9.95518769e-05,\n",
       "        0.00000000e+00, -2.94089412e-04,  1.17423117e-03, -8.42977008e-05,\n",
       "        2.58575977e-04,  2.16189897e-04,  0.00000000e+00,  4.89977785e-05,\n",
       "        1.03716276e-04,  0.00000000e+00,  6.19951021e-04,  7.10438143e-06,\n",
       "       -2.30496453e-04,  2.49286946e-05,  0.00000000e+00,  0.00000000e+00,\n",
       "        0.00000000e+00,  1.12429600e-04, -1.04865183e-05,  2.99930314e-04,\n",
       "        9.46194903e-06,  1.19198343e-03, -8.96249511e-05, -2.81354173e-05,\n",
       "        0.00000000e+00, -9.20036987e-05,  0.00000000e+00,  3.90564904e-04,\n",
       "        8.43480374e-05,  1.34386072e-04, -5.22867001e-05,  1.38096608e-04,\n",
       "        1.74706240e-04,  7.26755990e-04,  9.56084810e-05,  2.31396008e-01,\n",
       "        0.00000000e+00,  3.40252937e-03,  6.91671000e-05,  7.89917559e-05,\n",
       "        1.06783397e-04,  1.08614592e-02,  1.77547470e-03,  1.95803808e-03,\n",
       "        4.46268539e-04,  1.00149711e-02, -1.48069897e-06,  5.04604932e-04,\n",
       "        8.11207945e-04,  2.27618346e-03,  1.16200771e-03, -3.26028690e-04,\n",
       "       -3.82302930e-04,  1.34526784e-03,  2.85908880e-04, -1.72958206e-05,\n",
       "        1.44568636e-04,  4.98235559e-05,  1.71326782e-04,  1.33124950e-03,\n",
       "       -5.55980122e-04,  1.00814541e-03,  8.74330420e-03,  3.47886491e-03,\n",
       "        7.01219565e-05,  6.60085412e-05,  1.36870688e-05,  1.03716353e-03,\n",
       "        1.08822476e-03,  5.24548982e-05,  6.03840471e-05,  1.87861563e-04,\n",
       "        3.20574616e-03,  1.02880955e-04,  0.00000000e+00, -6.94665632e-05,\n",
       "        0.00000000e+00,  1.92920325e-04,  2.29824654e-04,  8.37632311e-04,\n",
       "        0.00000000e+00,  1.19199930e-04,  2.37812419e-05,  0.00000000e+00,\n",
       "       -4.02529458e-06, -1.70035533e-05, -5.17327483e-06,  3.91348016e-05,\n",
       "        2.13110602e-04,  1.79141518e-04,  1.56483231e-04, -4.25831728e-05,\n",
       "        0.00000000e+00,  0.00000000e+00,  0.00000000e+00,  0.00000000e+00,\n",
       "        0.00000000e+00,  4.88425739e-03, -1.60553945e-04,  2.96640567e-03,\n",
       "        3.77488644e-04,  0.00000000e+00,  3.76682344e-03, -1.09219697e-05,\n",
       "        0.00000000e+00,  0.00000000e+00,  0.00000000e+00,  1.04580382e-04,\n",
       "        2.14018792e-04,  1.15476425e-03,  8.53437832e-05, -9.87748562e-05,\n",
       "        0.00000000e+00,  9.39703408e-05,  0.00000000e+00,  0.00000000e+00,\n",
       "        0.00000000e+00, -2.83461169e-04,  6.55181029e-04,  9.67948017e-04,\n",
       "        1.46778635e-05, -1.35943804e-05,  0.00000000e+00,  0.00000000e+00,\n",
       "        0.00000000e+00,  0.00000000e+00,  0.00000000e+00, -3.34313106e-05,\n",
       "        5.07861634e-04,  9.32433579e-05,  5.93650863e-04, -6.22560891e-05,\n",
       "        0.00000000e+00,  8.33823973e-05,  7.51358355e-04,  0.00000000e+00,\n",
       "        0.00000000e+00,  1.51578256e-03,  1.94817569e-04,  4.42500275e-04,\n",
       "        5.06250904e-04,  3.73050497e-04,  3.49176422e-03,  5.22354605e-05,\n",
       "       -5.65654373e-05,  2.14494530e-04,  2.41045204e-04,  1.40949505e-04,\n",
       "        1.03778335e-04,  2.08180434e-04,  1.75968083e-04,  2.59522307e-04,\n",
       "        3.06899919e-04,  1.01855695e-02,  5.03036215e-03,  2.11759993e-03,\n",
       "       -1.66791690e-05,  1.67347470e-03, -1.51915049e-04,  1.45704779e-03,\n",
       "        3.11280849e-04,  6.58178885e-04,  2.38080305e-04,  6.32377250e-04,\n",
       "        1.10552672e-02,  1.31483742e-03,  8.32166966e-06,  1.96901790e-04,\n",
       "        1.20442059e-03,  2.81215002e-03,  4.05716721e-04,  0.00000000e+00,\n",
       "        4.74853909e-05,  0.00000000e+00,  0.00000000e+00,  3.66242947e-04,\n",
       "        1.19070130e-03,  0.00000000e+00,  3.77222350e-04, -3.93400533e-04,\n",
       "       -4.67912349e-06,  0.00000000e+00,  0.00000000e+00,  1.62252539e-04,\n",
       "        1.49516269e-04,  3.53313586e-05, -2.40864092e-05,  6.13327658e-05,\n",
       "        2.12145788e-04,  0.00000000e+00,  4.86475892e-04,  4.62228821e-05,\n",
       "        2.32216159e-04, -4.43415615e-06,  1.82763988e-04, -2.41011358e-05,\n",
       "        0.00000000e+00,  1.35710897e-03,  0.00000000e+00,  7.12618549e-05,\n",
       "        3.24861812e-02,  1.35495800e-03, -9.60628056e-05,  2.73530816e-04,\n",
       "       -2.23979228e-04,  0.00000000e+00,  0.00000000e+00,  1.20498136e-03,\n",
       "        9.48551549e-04,  3.89828601e-04, -3.42550021e-04,  0.00000000e+00,\n",
       "        2.08483368e-04,  1.07525153e-04,  0.00000000e+00,  1.30040238e-04,\n",
       "        6.95370601e-05,  5.59797794e-04,  1.74993528e-04,  0.00000000e+00,\n",
       "       -8.30282957e-06,  2.78686079e-05,  2.66630701e-04,  0.00000000e+00,\n",
       "        1.13984520e-04,  5.27349076e-04,  2.58443026e-03,  3.36339843e-03,\n",
       "        0.00000000e+00,  0.00000000e+00,  0.00000000e+00,  0.00000000e+00,\n",
       "        8.36175843e-04,  1.38641602e-03,  1.20115276e-03,  1.05238941e-03,\n",
       "        1.46269451e-05,  7.09237420e-04,  0.00000000e+00,  4.67898286e-05,\n",
       "        2.72649534e-04,  2.35917184e-03,  0.00000000e+00,  0.00000000e+00,\n",
       "        0.00000000e+00,  1.01827815e-03,  0.00000000e+00,  0.00000000e+00,\n",
       "        1.13547614e-05,  0.00000000e+00, -4.29389588e-06,  0.00000000e+00,\n",
       "        1.12828244e-05,  4.16813142e-06,  0.00000000e+00,  3.07147947e-05,\n",
       "        9.28949333e-05,  1.01938410e-04, -2.59862579e-04,  1.19584282e-04,\n",
       "        4.44481616e-06,  4.81478388e-04,  5.58648534e-05,  0.00000000e+00,\n",
       "       -1.67173077e-04,  5.61800015e-05,  4.16996354e-04,  0.00000000e+00,\n",
       "        5.48948685e-03,  0.00000000e+00,  0.00000000e+00,  6.00445625e-05,\n",
       "       -1.00679737e-05,  0.00000000e+00,  0.00000000e+00,  0.00000000e+00,\n",
       "        1.97261221e-05,  0.00000000e+00,  0.00000000e+00,  0.00000000e+00,\n",
       "       -1.11028106e-05, -9.34992797e-06, -1.41032534e-05,  3.80467355e-05,\n",
       "        3.87276162e-04,  0.00000000e+00,  0.00000000e+00,  2.56181989e-06,\n",
       "        3.18568318e-05,  9.64564638e-04,  0.00000000e+00,  0.00000000e+00,\n",
       "        7.60086574e-05,  1.42868475e-04,  0.00000000e+00, -7.44436014e-06,\n",
       "        8.33320296e-05,  1.52040649e-02,  2.39209458e-04,  0.00000000e+00,\n",
       "        2.14759767e-05,  5.72530189e-07,  0.00000000e+00,  6.96275145e-05,\n",
       "        6.76783306e-04,  3.41842025e-02, -1.67586680e-05,  2.76895421e-04,\n",
       "       -9.76370177e-06,  1.45083168e-02,  0.00000000e+00])"
      ]
     },
     "execution_count": 46,
     "metadata": {},
     "output_type": "execute_result"
    }
   ],
   "source": [
    "pimp.feature_importances_"
   ]
  },
  {
   "cell_type": "code",
   "execution_count": 47,
   "metadata": {
    "ExecuteTime": {
     "end_time": "2023-01-05T12:11:44.860875Z",
     "start_time": "2023-01-05T12:11:44.838996Z"
    }
   },
   "outputs": [],
   "source": [
    "sel = SelectFromModel(pimp,threshold=None, prefit=True)"
   ]
  },
  {
   "cell_type": "code",
   "execution_count": 48,
   "metadata": {
    "ExecuteTime": {
     "end_time": "2023-01-05T12:11:44.915178Z",
     "start_time": "2023-01-05T12:11:44.861521Z"
    }
   },
   "outputs": [
    {
     "data": {
      "text/plain": [
       "(29372, 33)"
      ]
     },
     "execution_count": 48,
     "metadata": {},
     "output_type": "execute_result"
    }
   ],
   "source": [
    "sel.transform(X_train).shape"
   ]
  },
  {
   "cell_type": "code",
   "execution_count": 49,
   "metadata": {
    "ExecuteTime": {
     "end_time": "2023-01-05T12:11:44.938529Z",
     "start_time": "2023-01-05T12:11:44.918298Z"
    }
   },
   "outputs": [
    {
     "data": {
      "text/plain": [
       "['value108',\n",
       " 'value110',\n",
       " 'value114',\n",
       " 'value115',\n",
       " 'value116',\n",
       " 'value118',\n",
       " 'value122',\n",
       " 'value135',\n",
       " 'value136',\n",
       " 'value145',\n",
       " 'value170',\n",
       " 'value172',\n",
       " 'value175',\n",
       " 'value18',\n",
       " 'value210',\n",
       " 'value215',\n",
       " 'value226',\n",
       " 'value227',\n",
       " 'value228',\n",
       " 'value230',\n",
       " 'value232',\n",
       " 'value237',\n",
       " 'value242',\n",
       " 'value273',\n",
       " 'value299',\n",
       " 'value3',\n",
       " 'value300',\n",
       " 'value314',\n",
       " 'value341',\n",
       " 'value370',\n",
       " 'value378',\n",
       " 'value382',\n",
       " 'value4']"
      ]
     },
     "execution_count": 49,
     "metadata": {},
     "output_type": "execute_result"
    }
   ],
   "source": [
    "selected_features_pimp = sorted(list(X_train.columns[sel.get_support()]))\n",
    "selected_features_pimp"
   ]
  },
  {
   "cell_type": "code",
   "execution_count": 50,
   "metadata": {
    "ExecuteTime": {
     "end_time": "2023-01-05T12:11:44.954741Z",
     "start_time": "2023-01-05T12:11:44.941070Z"
    }
   },
   "outputs": [],
   "source": [
    "dict_results_pimp = {'rmse':[], 'mae':[], 'r2':[]}"
   ]
  },
  {
   "cell_type": "code",
   "execution_count": 51,
   "metadata": {
    "ExecuteTime": {
     "end_time": "2023-01-05T12:13:55.703686Z",
     "start_time": "2023-01-05T12:11:44.958262Z"
    },
    "scrolled": true
   },
   "outputs": [
    {
     "name": "stdout",
     "output_type": "stream",
     "text": [
      "0\n",
      "1\n",
      "2\n",
      "3\n",
      "4\n",
      "5\n",
      "6\n",
      "7\n",
      "8\n",
      "9\n",
      "10\n",
      "11\n",
      "12\n",
      "13\n",
      "14\n",
      "15\n",
      "16\n",
      "17\n",
      "18\n",
      "19\n",
      "20\n",
      "21\n",
      "22\n",
      "23\n",
      "24\n",
      "25\n",
      "26\n",
      "27\n",
      "28\n",
      "29\n",
      "30\n",
      "31\n",
      "32\n",
      "33\n",
      "34\n",
      "35\n",
      "36\n",
      "37\n",
      "38\n",
      "39\n",
      "40\n",
      "41\n",
      "42\n",
      "43\n",
      "44\n",
      "45\n",
      "46\n",
      "47\n",
      "48\n",
      "49\n"
     ]
    }
   ],
   "source": [
    "X_test_pimp = X_test[selected_features_pimp]\n",
    "X_train_pimp = X_train[selected_features_pimp]\n",
    "X_val_pimp = X_val[selected_features_pimp]\n",
    "for iteration in range(50):\n",
    "    print(iteration)\n",
    "    model = CatBoostRegressor(verbose=0, n_estimators=250,use_best_model=True, random_seed=seeds[iteration])\n",
    "    model.fit(\n",
    "        X_train_pimp, y_train,\n",
    "        eval_set=(X_val_pimp, y_val),\n",
    "        verbose = 0,\n",
    "        plot=False\n",
    "    );\n",
    "    \n",
    "    test_results = scores_calc_print(y_test, model.predict(X_test_pimp), print_bool=False)\n",
    "    \n",
    "    dict_results_pimp[\"r2\"].append(test_results[\"R2\"])\n",
    "    dict_results_pimp[\"rmse\"].append(test_results[\"RMSE\"])\n",
    "    dict_results_pimp[\"mae\"].append(test_results[\"MAE\"])"
   ]
  },
  {
   "cell_type": "code",
   "execution_count": 52,
   "metadata": {
    "ExecuteTime": {
     "end_time": "2023-01-05T12:13:55.722124Z",
     "start_time": "2023-01-05T12:13:55.703686Z"
    }
   },
   "outputs": [],
   "source": [
    "results_pimp_df = pd.DataFrame(dict_results_pimp)\n",
    "mean_pimp_test = results_pimp_df.mean()\n",
    "std_pimp_test = results_pimp_df.std()\n",
    "max_pimp_test = results_pimp_df.max()\n",
    "min_pimp_test = results_pimp_df.min()"
   ]
  },
  {
   "cell_type": "code",
   "execution_count": 53,
   "metadata": {
    "ExecuteTime": {
     "end_time": "2023-01-05T12:13:55.737492Z",
     "start_time": "2023-01-05T12:13:55.726128Z"
    },
    "scrolled": true
   },
   "outputs": [
    {
     "data": {
      "text/plain": [
       "(rmse    7.941774\n",
       " mae     4.818047\n",
       " r2      0.859892\n",
       " dtype: float64,\n",
       " rmse    0.160419\n",
       " mae     0.075246\n",
       " r2      0.005672\n",
       " dtype: float64,\n",
       " rmse    8.334552\n",
       " mae     4.973614\n",
       " r2      0.871301\n",
       " dtype: float64,\n",
       " rmse    7.613086\n",
       " mae     4.640289\n",
       " r2      0.845752\n",
       " dtype: float64)"
      ]
     },
     "execution_count": 53,
     "metadata": {},
     "output_type": "execute_result"
    }
   ],
   "source": [
    "mean_pimp_test, std_pimp_test, max_pimp_test, min_pimp_test"
   ]
  },
  {
   "cell_type": "markdown",
   "metadata": {},
   "source": [
    "# Results"
   ]
  },
  {
   "cell_type": "code",
   "execution_count": 54,
   "metadata": {
    "ExecuteTime": {
     "end_time": "2023-01-05T12:13:55.753259Z",
     "start_time": "2023-01-05T12:13:55.740819Z"
    }
   },
   "outputs": [],
   "source": [
    "nombres = ['Lasso_0.01', 'Lasso_0.001', 'Lasso_0.0001', 'Lasso_0.00001', 'Boruta', 'PIMP']"
   ]
  },
  {
   "cell_type": "markdown",
   "metadata": {},
   "source": [
    "## MAE"
   ]
  },
  {
   "cell_type": "code",
   "execution_count": 55,
   "metadata": {
    "ExecuteTime": {
     "end_time": "2023-01-05T12:13:55.772737Z",
     "start_time": "2023-01-05T12:13:55.756331Z"
    }
   },
   "outputs": [],
   "source": [
    "resultados_mae_mean = [mean_lasso_001_test['mae'], mean_lasso_0001_test['mae'], mean_lasso_00001_test['mae'], mean_lasso_000001_test['mae'], mean_boruta_test['mae'], mean_pimp_test['mae']]\n",
    "resultados_mae_std = [std_lasso_001_test['mae'], std_lasso_0001_test['mae'], std_lasso_00001_test['mae'], std_lasso_000001_test['mae'], std_boruta_test['mae'], std_pimp_test['mae']]\n",
    "resultados_mae_max = [max_lasso_001_test['mae'], max_lasso_0001_test['mae'], max_lasso_00001_test['mae'], max_lasso_000001_test['mae'], max_boruta_test['mae'], max_pimp_test['mae']]\n",
    "resultados_mae_min = [min_lasso_001_test['mae'], min_lasso_0001_test['mae'], min_lasso_00001_test['mae'], min_lasso_000001_test['mae'], min_boruta_test['mae'], min_pimp_test['mae']]"
   ]
  },
  {
   "cell_type": "code",
   "execution_count": 67,
   "metadata": {
    "ExecuteTime": {
     "end_time": "2023-01-05T12:17:43.136799Z",
     "start_time": "2023-01-05T12:17:42.984191Z"
    },
    "scrolled": false
   },
   "outputs": [
    {
     "data": {
      "text/plain": [
       "(4.0, 7.5)"
      ]
     },
     "execution_count": 67,
     "metadata": {},
     "output_type": "execute_result"
    },
    {
     "data": {
      "image/png": "[encoded data removed]",
      "text/plain": [
       "<Figure size 2000x1000 with 1 Axes>"
      ]
     },
     "metadata": {},
     "output_type": "display_data"
    }
   ],
   "source": [
    "fig, ax = plt.subplots(1, 1, figsize = (20, 10))\n",
    "ax.bar(nombres, resultados_mae_mean, alpha = 0.7, width=0.3)\n",
    "ax.errorbar(nombres, resultados_mae_mean, resultados_mae_std, fmt='.', color='Black', elinewidth=2,capthick=10,errorevery=1, alpha=0.5, ms=4, capsize = 2)\n",
    "ax.plot(nombres, resultados_mae_max, color='red', alpha=0.8, linestyle='-', marker='.', markersize=10)\n",
    "ax.plot(nombres, resultados_mae_min, color='lime', alpha=0.8, linestyle='-', marker='.', markersize=10)\n",
    "ax.yaxis.grid(True,linestyle='--')\n",
    "ax.xaxis.grid(False)\n",
    "ax.title.set_text(\"MAE\")\n",
    "ax.title.set_size(15)\n",
    "for index,data in enumerate(resultados_mae_mean):\n",
    "    ax.text(x=index , y =data+0.01 , s=f\"{round(data, 3)}\" , fontdict=dict(fontsize=10), ha='center')\n",
    "ax.set_ylim([4, 7.5])\n"
   ]
  },
  {
   "cell_type": "markdown",
   "metadata": {},
   "source": [
    "## RMSE"
   ]
  },
  {
   "cell_type": "code",
   "execution_count": 57,
   "metadata": {
    "ExecuteTime": {
     "end_time": "2023-01-05T12:13:56.195685Z",
     "start_time": "2023-01-05T12:13:56.177929Z"
    }
   },
   "outputs": [],
   "source": [
    "resultados_rmse_mean = [mean_lasso_001_test['rmse'], mean_lasso_0001_test['rmse'], mean_lasso_00001_test['rmse'], mean_lasso_000001_test['rmse'], mean_boruta_test['rmse'], mean_pimp_test['rmse']]\n",
    "resultados_rmse_std = [std_lasso_001_test['rmse'], std_lasso_0001_test['rmse'], std_lasso_00001_test['rmse'], std_lasso_000001_test['rmse'], std_boruta_test['rmse'], std_pimp_test['rmse']]\n",
    "resultados_rmse_max = [max_lasso_001_test['rmse'], max_lasso_0001_test['rmse'], max_lasso_00001_test['rmse'], max_lasso_000001_test['rmse'], max_boruta_test['rmse'], max_pimp_test['rmse']]\n",
    "resultados_rmse_min = [min_lasso_001_test['rmse'], min_lasso_0001_test['rmse'], min_lasso_00001_test['rmse'], min_lasso_000001_test['rmse'], min_boruta_test['rmse'], min_pimp_test['rmse']]"
   ]
  },
  {
   "cell_type": "code",
   "execution_count": 65,
   "metadata": {
    "ExecuteTime": {
     "end_time": "2023-01-05T12:17:29.937926Z",
     "start_time": "2023-01-05T12:17:29.774154Z"
    },
    "scrolled": false
   },
   "outputs": [
    {
     "data": {
      "text/plain": [
       "(6.5, 12.0)"
      ]
     },
     "execution_count": 65,
     "metadata": {},
     "output_type": "execute_result"
    },
    {
     "data": {
      "image/png": "[encoded data removed]",
      "text/plain": [
       "<Figure size 2000x1000 with 1 Axes>"
      ]
     },
     "metadata": {},
     "output_type": "display_data"
    }
   ],
   "source": [
    "fig, ax = plt.subplots(1, 1, figsize = (20, 10))\n",
    "ax.bar(nombres, resultados_rmse_mean, alpha = 0.7, width=0.3)\n",
    "ax.errorbar(nombres, resultados_rmse_mean, resultados_rmse_std, fmt='.', color='Black', elinewidth=2,capthick=10,errorevery=1, alpha=0.5, ms=4, capsize = 2)\n",
    "ax.plot(nombres, resultados_rmse_max, color='red', alpha=0.8, linestyle='-', marker='.', markersize=10)\n",
    "ax.plot(nombres, resultados_rmse_min, color='lime', alpha=0.8, linestyle='-', marker='.', markersize=10)\n",
    "ax.yaxis.grid(True,linestyle='--')\n",
    "ax.xaxis.grid(False)\n",
    "ax.title.set_text(\"RMSE\")\n",
    "ax.title.set_size(15)\n",
    "for index,data in enumerate(resultados_rmse_mean):\n",
    "    ax.text(x=index , y =data+0.01 , s=f\"{round(data, 3)}\" , fontdict=dict(fontsize=10), ha='center')\n",
    "ax.set_ylim([6.5, 12])"
   ]
  },
  {
   "cell_type": "markdown",
   "metadata": {},
   "source": [
    "## R2"
   ]
  },
  {
   "cell_type": "code",
   "execution_count": 59,
   "metadata": {
    "ExecuteTime": {
     "end_time": "2023-01-05T12:13:56.447842Z",
     "start_time": "2023-01-05T12:13:56.426630Z"
    }
   },
   "outputs": [],
   "source": [
    "resultados_r2_mean = [mean_lasso_001_test['r2'], mean_lasso_0001_test['r2'], mean_lasso_00001_test['r2'], mean_lasso_000001_test['r2'], mean_boruta_test['r2'], mean_pimp_test['r2']]\n",
    "resultados_r2_std = [std_lasso_001_test['r2'], std_lasso_0001_test['r2'], std_lasso_00001_test['r2'], std_lasso_000001_test['r2'], std_boruta_test['r2'], std_pimp_test['r2']]\n",
    "resultados_r2_max = [max_lasso_001_test['r2'], max_lasso_0001_test['r2'], max_lasso_00001_test['r2'], max_lasso_000001_test['r2'], max_boruta_test['r2'], max_pimp_test['r2']]\n",
    "resultados_r2_min = [min_lasso_001_test['r2'], min_lasso_0001_test['r2'], min_lasso_00001_test['r2'], min_lasso_000001_test['r2'], min_boruta_test['r2'], min_pimp_test['r2']]"
   ]
  },
  {
   "cell_type": "code",
   "execution_count": 60,
   "metadata": {
    "ExecuteTime": {
     "end_time": "2023-01-05T12:13:56.471115Z",
     "start_time": "2023-01-05T12:13:56.449158Z"
    }
   },
   "outputs": [
    {
     "data": {
      "text/plain": [
       "([0.7283477140162204,\n",
       "  0.904984462346938,\n",
       "  0.8993269984101486,\n",
       "  0.8994535388566154,\n",
       "  0.902571031292214,\n",
       "  0.8713006027143375],\n",
       " [0.6973944371214218,\n",
       "  0.8812744927298166,\n",
       "  0.8770653985849344,\n",
       "  0.875005231004745,\n",
       "  0.8732900295957418,\n",
       "  0.8457520133660061])"
      ]
     },
     "execution_count": 60,
     "metadata": {},
     "output_type": "execute_result"
    }
   ],
   "source": [
    "resultados_r2_max, resultados_r2_min"
   ]
  },
  {
   "cell_type": "code",
   "execution_count": 64,
   "metadata": {
    "ExecuteTime": {
     "end_time": "2023-01-05T12:17:24.314066Z",
     "start_time": "2023-01-05T12:17:24.135268Z"
    }
   },
   "outputs": [
    {
     "data": {
      "text/plain": [
       "(0.65, 0.95)"
      ]
     },
     "execution_count": 64,
     "metadata": {},
     "output_type": "execute_result"
    },
    {
     "data": {
      "image/png": "[encoded data removed]",
      "text/plain": [
       "<Figure size 2000x1000 with 1 Axes>"
      ]
     },
     "metadata": {},
     "output_type": "display_data"
    }
   ],
   "source": [
    "fig, ax = plt.subplots(1, 1, figsize = (20, 10))\n",
    "ax.bar(nombres, resultados_r2_mean, alpha = 0.7, width=0.3)\n",
    "ax.errorbar(nombres, resultados_r2_mean, resultados_r2_std, fmt='.', color='Black', elinewidth=2,capthick=10,errorevery=1, alpha=0.5, ms=4, capsize = 2)\n",
    "ax.plot(nombres, resultados_r2_max, color='lime', alpha=0.8, linestyle='-', marker='.', markersize=10)\n",
    "ax.plot(nombres, resultados_r2_min, color='red', alpha=0.8, linestyle='-', marker='.', markersize=10)\n",
    "ax.yaxis.grid(True,linestyle='--')\n",
    "ax.xaxis.grid(False)\n",
    "ax.title.set_text(\"R2\")\n",
    "ax.title.set_size(15)\n",
    "for index,data in enumerate(resultados_r2_mean):\n",
    "    ax.text(x=index , y =data+0.001 , s=f\"{round(data, 3)}\" , fontdict=dict(fontsize=10), ha='center')\n",
    "ax.set_ylim([0.65, 0.95])"
   ]
  },
  {
   "cell_type": "markdown",
   "metadata": {},
   "source": [
    "## Number of variables"
   ]
  },
  {
   "cell_type": "code",
   "execution_count": 62,
   "metadata": {
    "ExecuteTime": {
     "end_time": "2023-01-05T12:13:56.712908Z",
     "start_time": "2023-01-05T12:13:56.691733Z"
    }
   },
   "outputs": [],
   "source": [
    "n_var = [len(features_lasso_001), len(features_lasso_0001), len(features_lasso_00001), len(features_lasso_000001), len(selected_features_boruta), len(selected_features_pimp)]"
   ]
  },
  {
   "cell_type": "code",
   "execution_count": 63,
   "metadata": {
    "ExecuteTime": {
     "end_time": "2023-01-05T12:13:56.943231Z",
     "start_time": "2023-01-05T12:13:56.712908Z"
    }
   },
   "outputs": [
    {
     "data": {
      "text/plain": [
       "(0.0, 355.0)"
      ]
     },
     "execution_count": 63,
     "metadata": {},
     "output_type": "execute_result"
    },
    {
     "data": {
      "image/png": "[encoded data removed]",
      "text/plain": [
       "<Figure size 2000x1000 with 1 Axes>"
      ]
     },
     "metadata": {},
     "output_type": "display_data"
    }
   ],
   "source": [
    "fig, ax = plt.subplots(1, 1, figsize = (20, 10))\n",
    "bars = ax.bar(nombres, n_var, alpha = 0.7, width=0.3)\n",
    "ax.yaxis.grid(True,linestyle='--')\n",
    "ax.xaxis.grid(False)\n",
    "ax.title.set_text(\"N Var\")\n",
    "ax.title.set_size(15)\n",
    "for index,data in enumerate(n_var):\n",
    "    ax.text(x=index , y =data+0.01 , s=f\"{round(data, 3)}\" , fontdict=dict(fontsize=10), ha='center')\n",
    "ax.set_ylim([0, 355])"
   ]
  },
  {
   "cell_type": "code",
   "execution_count": null,
   "metadata": {},
   "outputs": [],
   "source": []
  },
  {
   "cell_type": "code",
   "execution_count": null,
   "metadata": {},
   "outputs": [],
   "source": []
  }
 ],
 "metadata": {
  "kernelspec": {
   "display_name": "BrainEN_v1",
   "language": "python",
   "name": "brainen_v1"
  },
  "language_info": {
   "codemirror_mode": {
    "name": "ipython",
    "version": 3
   },
   "file_extension": ".py",
   "mimetype": "text/x-python",
   "name": "python",
   "nbconvert_exporter": "python",
   "pygments_lexer": "ipython3",
   "version": "3.9.7"
  }
 },
 "nbformat": 4,
 "nbformat_minor": 4
}
