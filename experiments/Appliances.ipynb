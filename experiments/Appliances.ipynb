{
 "cells": [
  {
   "cell_type": "markdown",
   "metadata": {},
   "source": [
    "### Libraries and functions"
   ]
  },
  {
   "cell_type": "code",
   "execution_count": 1,
   "metadata": {
    "ExecuteTime": {
     "end_time": "2023-01-04T11:08:40.625586Z",
     "start_time": "2023-01-04T11:08:35.525592Z"
    }
   },
   "outputs": [
    {
     "name": "stderr",
     "output_type": "stream",
     "text": [
      "C:\\Users\\csebastian\\.conda\\envs\\BrainEN_v1\\lib\\site-packages\\tqdm\\auto.py:22: TqdmWarning: IProgress not found. Please update jupyter and ipywidgets. See https://ipywidgets.readthedocs.io/en/stable/user_install.html\n",
      "  from .autonotebook import tqdm as notebook_tqdm\n"
     ]
    }
   ],
   "source": [
    "import pandas as pd\n",
    "import numpy as np\n",
    "from catboost import CatBoostRegressor\n",
    "from sklearn.model_selection import train_test_split\n",
    "from sklearn.metrics import r2_score,mean_squared_error, mean_absolute_error\n",
    "from tabulate import tabulate\n",
    "import seaborn as sns\n",
    "import matplotlib.pyplot as plt\n",
    "from BorutaShap import BorutaShap\n",
    "from powershap  import PowerShap\n",
    "import shapicant\n",
    "from tqdm import tqdm\n",
    "from SHAPEffects import FeatureSelector\n",
    "import random\n",
    "import shap\n",
    "import os\n",
    "os.environ['PYTHONHASHSEED'] = str(1234)\n",
    "random.seed(1234)\n",
    "np.random.seed(1234)\n",
    "plt.style.use('seaborn-whitegrid')\n",
    "plt.rcParams['font.family'] = 'serif'"
   ]
  },
  {
   "cell_type": "code",
   "execution_count": 2,
   "metadata": {
    "ExecuteTime": {
     "end_time": "2023-01-04T11:08:40.638019Z",
     "start_time": "2023-01-04T11:08:40.625586Z"
    }
   },
   "outputs": [],
   "source": [
    "# Taken from PowerSHAP paper\n",
    "def scores_calc_print(Y,Y_pred,print_bool):\n",
    "    if len(Y_pred) > 1:\n",
    "        R2_total = r2_score(Y,Y_pred)\n",
    "    else:\n",
    "        R2_total = -1\n",
    "    RMSE_total = mean_squared_error(Y,Y_pred, squared=False)\n",
    "    MAE_total = mean_absolute_error(Y,Y_pred)\n",
    "    \n",
    "    if print_bool:\n",
    "        print(tabulate([[RMSE_total, MAE_total,R2_total]], [\"RMSE\",\"MAE\",\"R²\"], tablefmt=\"grid\"))\n",
    "    else:\n",
    "        return {\"R2\":R2_total,\"RMSE\":RMSE_total,\"MAE\":MAE_total}"
   ]
  },
  {
   "cell_type": "markdown",
   "metadata": {},
   "source": [
    "### Data"
   ]
  },
  {
   "cell_type": "code",
   "execution_count": 3,
   "metadata": {
    "ExecuteTime": {
     "end_time": "2023-01-04T11:08:40.805260Z",
     "start_time": "2023-01-04T11:08:40.643466Z"
    }
   },
   "outputs": [],
   "source": [
    "current_db = pd.read_csv(\"Data/energydata_complete.csv\")\n",
    "current_db['index'] = current_db.index\n",
    "Index_col = \"index\"\n",
    "target_col = \"Appliances\""
   ]
  },
  {
   "cell_type": "code",
   "execution_count": 4,
   "metadata": {
    "ExecuteTime": {
     "end_time": "2023-01-03T15:38:59.690077Z",
     "start_time": "2023-01-03T15:38:59.660824Z"
    }
   },
   "outputs": [],
   "source": [
    "train_idx,test_idx = train_test_split(current_db[Index_col].unique(),test_size=0.25,random_state = 1)\n",
    "current_db_train = current_db[current_db[Index_col].isin(train_idx)]\n",
    "train_idx, val_idx = train_test_split(current_db_train[Index_col].unique(),test_size=0.37,random_state = 1)\n",
    "current_db_val = current_db_train[current_db_train[Index_col].isin(val_idx)]\n",
    "current_db_train = current_db[current_db[Index_col].isin(train_idx)]\n",
    "current_db_test = current_db[current_db[Index_col].isin(test_idx)]"
   ]
  },
  {
   "cell_type": "code",
   "execution_count": 5,
   "metadata": {
    "ExecuteTime": {
     "end_time": "2023-01-03T15:38:59.705239Z",
     "start_time": "2023-01-03T15:38:59.691066Z"
    }
   },
   "outputs": [],
   "source": [
    "current_db_val_test = current_db_val.append(current_db_test)"
   ]
  },
  {
   "cell_type": "code",
   "execution_count": 6,
   "metadata": {
    "ExecuteTime": {
     "end_time": "2023-01-03T15:38:59.721221Z",
     "start_time": "2023-01-03T15:38:59.707243Z"
    }
   },
   "outputs": [
    {
     "data": {
      "text/plain": [
       "(9324, 5477, 4934, 19735, 19735)"
      ]
     },
     "execution_count": 6,
     "metadata": {},
     "output_type": "execute_result"
    }
   ],
   "source": [
    "len(current_db_train), len(current_db_val), len(current_db_test), len(current_db), len(current_db_train) + len(current_db_val) + len(current_db_test)"
   ]
  },
  {
   "cell_type": "code",
   "execution_count": 7,
   "metadata": {
    "ExecuteTime": {
     "end_time": "2023-01-03T15:38:59.737153Z",
     "start_time": "2023-01-03T15:38:59.724190Z"
    }
   },
   "outputs": [],
   "source": [
    "X_train = current_db_train[list(current_db_train.columns.values[2:-1])]\n",
    "y_train = current_db_train[target_col]\n",
    "\n",
    "X_val = current_db_val[list(current_db_val.columns.values[2:-1])]\n",
    "y_val = current_db_val[target_col]\n",
    "\n",
    "X_test = current_db_test[list(current_db_test.columns.values[2:-1])]\n",
    "y_test = current_db_test[target_col]"
   ]
  },
  {
   "cell_type": "code",
   "execution_count": 8,
   "metadata": {
    "ExecuteTime": {
     "end_time": "2023-01-03T15:38:59.753113Z",
     "start_time": "2023-01-03T15:38:59.739147Z"
    }
   },
   "outputs": [],
   "source": [
    "selected_columns = list(current_db_test.columns.values[2:-1])"
   ]
  },
  {
   "cell_type": "code",
   "execution_count": 9,
   "metadata": {
    "ExecuteTime": {
     "end_time": "2023-01-03T15:38:59.769069Z",
     "start_time": "2023-01-03T15:38:59.755104Z"
    }
   },
   "outputs": [],
   "source": [
    "X_train_val = X_train.append(X_val)\n",
    "y_train_val = y_train.append(y_val)"
   ]
  },
  {
   "cell_type": "code",
   "execution_count": 10,
   "metadata": {
    "ExecuteTime": {
     "end_time": "2023-01-03T15:38:59.784463Z",
     "start_time": "2023-01-03T15:38:59.771041Z"
    }
   },
   "outputs": [],
   "source": [
    "current_db_train_val = current_db_train.append(current_db_val)"
   ]
  },
  {
   "cell_type": "code",
   "execution_count": 11,
   "metadata": {
    "ExecuteTime": {
     "end_time": "2023-01-03T15:38:59.799594Z",
     "start_time": "2023-01-03T15:38:59.786636Z"
    }
   },
   "outputs": [],
   "source": [
    "seeds = np.random.randint(1, 999999, 50)"
   ]
  },
  {
   "cell_type": "markdown",
   "metadata": {},
   "source": [
    "## SHAPEffects 0.75-0.25"
   ]
  },
  {
   "cell_type": "code",
   "execution_count": 12,
   "metadata": {
    "ExecuteTime": {
     "end_time": "2023-01-02T14:06:24.308261Z",
     "start_time": "2023-01-02T13:59:35.682052Z"
    },
    "scrolled": true
   },
   "outputs": [
    {
     "name": "stdout",
     "output_type": "stream",
     "text": [
      "Preprocessing\n",
      "-------------\n",
      "\n",
      "Introducing a random variable\n",
      "Calculating Shapley values\n",
      "Removing the first features\n",
      "2 features have been removed\n",
      "['rv1', 'rv2', 'RandomVariable']\n",
      "\n",
      "Starting core module\n",
      "--------------------\n",
      "\n",
      "Iteration 1\n",
      "\tClasifying residuals\n",
      "\tGiving weights to features\n",
      "\tSelecting features\n",
      "\t1 features have been removed\n",
      "\t ['lights']\n",
      "\t24 features left\n",
      "\n",
      "Iteration 2\n",
      "\tClasifying residuals\n",
      "\tGiving weights to features\n",
      "\tSelecting features\n",
      "\t1 features have been removed\n",
      "\t ['RH_1']\n",
      "\t23 features left\n",
      "\n",
      "Iteration 3\n",
      "\tClasifying residuals\n",
      "\tGiving weights to features\n",
      "\tSelecting features\n",
      "\t1 features have been removed\n",
      "\t ['T7']\n",
      "\t22 features left\n",
      "\n",
      "Iteration 4\n",
      "\tClasifying residuals\n",
      "\tGiving weights to features\n",
      "\tSelecting features\n",
      "\t1 features have been removed\n",
      "\t ['RH_out']\n",
      "\t21 features left\n",
      "\n",
      "Iteration 5\n",
      "\tClasifying residuals\n",
      "\tGiving weights to features\n",
      "\tSelecting features\n",
      "\t1 features have been removed\n",
      "\t ['Windspeed']\n",
      "\t20 features left\n",
      "\n",
      "Iteration 6\n",
      "\tClasifying residuals\n",
      "\tGiving weights to features\n",
      "\tSelecting features\n",
      "\t1 features have been removed\n",
      "\t ['RH_8']\n",
      "\t19 features left\n",
      "\n",
      "Iteration 7\n",
      "\tClasifying residuals\n",
      "\tGiving weights to features\n",
      "\tSelecting features\n",
      "\t1 features have been removed\n",
      "\t ['RH_6']\n",
      "\t18 features left\n",
      "\n",
      "Iteration 8\n",
      "\tClasifying residuals\n",
      "\tGiving weights to features\n",
      "\tSelecting features\n",
      "\t1 features have been removed\n",
      "\t ['Press_mm_hg']\n",
      "\t17 features left\n",
      "\n",
      "Iteration 9\n",
      "\tClasifying residuals\n",
      "\tGiving weights to features\n",
      "\tSelecting features\n",
      "\t1 features have been removed\n",
      "\t ['RH_7']\n",
      "\t16 features left\n",
      "\n",
      "Iteration 10\n",
      "\tClasifying residuals\n",
      "\tGiving weights to features\n",
      "\tSelecting features\n",
      "\t1 features have been removed\n",
      "\t ['T6']\n",
      "\t15 features left\n",
      "\n",
      "Iteration 11\n",
      "\tClasifying residuals\n",
      "\tGiving weights to features\n",
      "\tSelecting features\n",
      "\t1 features have been removed\n",
      "\t ['RH_3']\n",
      "\t14 features left\n",
      "\n",
      "Iteration 12\n",
      "\tClasifying residuals\n",
      "\tGiving weights to features\n",
      "\tSelecting features\n",
      "\t1 features have been removed\n",
      "\t ['RH_9']\n",
      "\t13 features left\n",
      "\n",
      "Iteration 13\n",
      "\tClasifying residuals\n",
      "\tGiving weights to features\n",
      "\tSelecting features\n",
      "\t1 features have been removed\n",
      "\t ['T3']\n",
      "\t12 features left\n",
      "\n",
      "Iteration 14\n",
      "\tClasifying residuals\n",
      "\tGiving weights to features\n",
      "\tSelecting features\n",
      "\t1 features have been removed\n",
      "\t ['T9']\n",
      "\t11 features left\n",
      "\n",
      "Iteration 15\n",
      "\tClasifying residuals\n",
      "\tGiving weights to features\n",
      "\tSelecting features\n",
      "\t1 features have been removed\n",
      "\t ['T2']\n",
      "\t10 features left\n",
      "\n",
      "Iteration 16\n",
      "\tClasifying residuals\n",
      "\tGiving weights to features\n",
      "\tSelecting features\n",
      "\t1 features have been removed\n",
      "\t ['T_out']\n",
      "\t9 features left\n",
      "\n",
      "Iteration 17\n",
      "\tClasifying residuals\n",
      "\tGiving weights to features\n",
      "\tSelecting features\n",
      "\t1 features have been removed\n",
      "\t ['RH_2']\n",
      "\t8 features left\n",
      "\n",
      "Iteration 18\n",
      "\tClasifying residuals\n",
      "\tGiving weights to features\n",
      "\tSelecting features\n",
      "\t1 features have been removed\n",
      "\t ['Tdewpoint']\n",
      "\t7 features left\n",
      "\n",
      "Iteration 19\n",
      "\tClasifying residuals\n",
      "\tGiving weights to features\n",
      "\tSelecting features\n",
      "\t1 features have been removed\n",
      "\t ['T5']\n",
      "\t6 features left\n",
      "\n",
      "Iteration 20\n",
      "\tClasifying residuals\n",
      "\tGiving weights to features\n",
      "\tSelecting features\n",
      "\t1 features have been removed\n",
      "\t ['T4']\n",
      "\t5 features left\n",
      "\n",
      "Iteration 21\n",
      "\tClasifying residuals\n",
      "\tGiving weights to features\n",
      "\tSelecting features\n",
      "\t1 features have been removed\n",
      "\t ['T1']\n",
      "\t4 features left\n",
      "\n",
      "Iteration 22\n",
      "\tClasifying residuals\n",
      "\tGiving weights to features\n",
      "\tSelecting features\n",
      "\t0 features have been removed\n",
      "\t4 features left\n",
      "4 features have been selected out of 28\n"
     ]
    }
   ],
   "source": [
    "model = CatBoostRegressor(verbose=0, n_estimators=250,use_best_model=False, random_seed = 123)\n",
    "feat_sel = FeatureSelector()\n",
    "selected_features_shapeffects_075_025 = feat_sel.fit(X_train, y_train, X_val, y_val, model, 30, 0.25, 0.75)\n",
    "selected_features_shapeffects_075_025 = sorted(list(selected_features_shapeffects_075_025))"
   ]
  },
  {
   "cell_type": "code",
   "execution_count": 13,
   "metadata": {
    "ExecuteTime": {
     "end_time": "2023-01-02T14:06:24.328208Z",
     "start_time": "2023-01-02T14:06:24.310256Z"
    }
   },
   "outputs": [
    {
     "data": {
      "text/plain": [
       "41.337756041736355"
      ]
     },
     "execution_count": 13,
     "metadata": {},
     "output_type": "execute_result"
    }
   ],
   "source": [
    "feat_sel.best_mae"
   ]
  },
  {
   "cell_type": "code",
   "execution_count": 14,
   "metadata": {
    "ExecuteTime": {
     "end_time": "2023-01-02T14:06:24.764059Z",
     "start_time": "2023-01-02T14:06:24.335189Z"
    }
   },
   "outputs": [
    {
     "data": {
      "text/plain": [
       "<matplotlib.lines.Line2D at 0x2b88ac6b0d0>"
      ]
     },
     "execution_count": 14,
     "metadata": {},
     "output_type": "execute_result"
    },
    {
     "data": {
      "image/png": "[encoded data removed]",
      "text/plain": [
       "<Figure size 1440x720 with 1 Axes>"
      ]
     },
     "metadata": {},
     "output_type": "display_data"
    }
   ],
   "source": [
    "fig, ax = plt.subplots(1, 1, figsize=(20, 10))\n",
    "ax.plot(range(len(feat_sel.maes)), feat_sel.maes.keys(), '-o')\n",
    "ax.title.set_text(\"MAE Change\")\n",
    "ax.title.set_size(15)\n",
    "plt.axvline(np.argmin(list(feat_sel.maes.keys())), color='red', linestyle='dashed', linewidth=1)"
   ]
  },
  {
   "cell_type": "code",
   "execution_count": 15,
   "metadata": {
    "ExecuteTime": {
     "end_time": "2023-01-02T14:06:24.780017Z",
     "start_time": "2023-01-02T14:06:24.767052Z"
    }
   },
   "outputs": [
    {
     "data": {
      "text/plain": [
       "['Press_mm_hg',\n",
       " 'RH_2',\n",
       " 'RH_3',\n",
       " 'RH_4',\n",
       " 'RH_5',\n",
       " 'RH_6',\n",
       " 'RH_7',\n",
       " 'RH_8',\n",
       " 'RH_9',\n",
       " 'RH_out',\n",
       " 'T1',\n",
       " 'T2',\n",
       " 'T3',\n",
       " 'T4',\n",
       " 'T5',\n",
       " 'T6',\n",
       " 'T7',\n",
       " 'T8',\n",
       " 'T9',\n",
       " 'T_out',\n",
       " 'Tdewpoint',\n",
       " 'Visibility',\n",
       " 'Windspeed']"
      ]
     },
     "execution_count": 15,
     "metadata": {},
     "output_type": "execute_result"
    }
   ],
   "source": [
    "selected_features_shapeffects_075_025"
   ]
  },
  {
   "cell_type": "code",
   "execution_count": 16,
   "metadata": {
    "ExecuteTime": {
     "end_time": "2023-01-02T14:06:24.795973Z",
     "start_time": "2023-01-02T14:06:24.782011Z"
    }
   },
   "outputs": [],
   "source": [
    "dict_results_shapeffects_075_025 = {'rmse':[], 'mae':[], 'r2':[]}"
   ]
  },
  {
   "cell_type": "code",
   "execution_count": 17,
   "metadata": {
    "ExecuteTime": {
     "end_time": "2023-01-02T14:11:06.468853Z",
     "start_time": "2023-01-02T14:06:24.797969Z"
    },
    "scrolled": true
   },
   "outputs": [
    {
     "name": "stdout",
     "output_type": "stream",
     "text": [
      "0\n",
      "1\n",
      "2\n",
      "3\n",
      "4\n",
      "5\n",
      "6\n",
      "7\n",
      "8\n",
      "9\n",
      "10\n",
      "11\n",
      "12\n",
      "13\n",
      "14\n",
      "15\n",
      "16\n",
      "17\n",
      "18\n",
      "19\n",
      "20\n",
      "21\n",
      "22\n",
      "23\n",
      "24\n",
      "25\n",
      "26\n",
      "27\n",
      "28\n",
      "29\n",
      "30\n",
      "31\n",
      "32\n",
      "33\n",
      "34\n",
      "35\n",
      "36\n",
      "37\n",
      "38\n",
      "39\n",
      "40\n",
      "41\n",
      "42\n",
      "43\n",
      "44\n",
      "45\n",
      "46\n",
      "47\n",
      "48\n",
      "49\n"
     ]
    }
   ],
   "source": [
    "X_test_shapeffects = X_test[selected_features_shapeffects_075_025]\n",
    "X_train_shapeffects= X_train[selected_features_shapeffects_075_025]\n",
    "X_val_shapeffects = X_val[selected_features_shapeffects_075_025]\n",
    "for iteration in range(50):\n",
    "    print(iteration)\n",
    "    model = CatBoostRegressor(verbose=0, n_estimators=250,use_best_model=True, random_seed=seeds[iteration])\n",
    "    model.fit(\n",
    "        X_train_shapeffects, y_train,\n",
    "        eval_set=(X_val_shapeffects, y_val),\n",
    "        verbose = 0,\n",
    "        plot=False\n",
    "    );\n",
    "    \n",
    "    test_results = scores_calc_print(y_test, model.predict(X_test_shapeffects), print_bool=False)\n",
    "    \n",
    "    dict_results_shapeffects_075_025[\"r2\"].append(test_results[\"R2\"])\n",
    "    dict_results_shapeffects_075_025[\"rmse\"].append(test_results[\"RMSE\"])\n",
    "    dict_results_shapeffects_075_025[\"mae\"].append(test_results[\"MAE\"])"
   ]
  },
  {
   "cell_type": "code",
   "execution_count": 18,
   "metadata": {
    "ExecuteTime": {
     "end_time": "2023-01-02T14:11:06.484810Z",
     "start_time": "2023-01-02T14:11:06.470847Z"
    }
   },
   "outputs": [],
   "source": [
    "results_shapeffects_075_025_df = pd.DataFrame(dict_results_shapeffects_075_025)\n",
    "mean_shapeffects_075_025_test = results_shapeffects_075_025_df.mean()\n",
    "std_shapeffects_075_025_test = results_shapeffects_075_025_df.std()\n",
    "max_shapeffects_075_025_test = results_shapeffects_075_025_df.max()\n",
    "min_shapeffects_075_025_test = results_shapeffects_075_025_df.min()"
   ]
  },
  {
   "cell_type": "code",
   "execution_count": 19,
   "metadata": {
    "ExecuteTime": {
     "end_time": "2023-01-02T14:11:06.531684Z",
     "start_time": "2023-01-02T14:11:06.486805Z"
    }
   },
   "outputs": [
    {
     "data": {
      "text/plain": [
       "(rmse    82.613837\n",
       " mae     42.569814\n",
       " r2       0.375597\n",
       " dtype: float64,\n",
       " rmse    0.335029\n",
       " mae     0.189054\n",
       " r2      0.005068\n",
       " dtype: float64,\n",
       " rmse    83.375908\n",
       " mae     43.011403\n",
       " r2       0.385244\n",
       " dtype: float64,\n",
       " rmse    81.973838\n",
       " mae     42.096426\n",
       " r2       0.364034\n",
       " dtype: float64)"
      ]
     },
     "execution_count": 19,
     "metadata": {},
     "output_type": "execute_result"
    }
   ],
   "source": [
    "mean_shapeffects_075_025_test, std_shapeffects_075_025_test, max_shapeffects_075_025_test, min_shapeffects_075_025_test"
   ]
  },
  {
   "cell_type": "markdown",
   "metadata": {},
   "source": [
    "## SHAPEffects 0.8-0.2"
   ]
  },
  {
   "cell_type": "code",
   "execution_count": 20,
   "metadata": {
    "ExecuteTime": {
     "end_time": "2023-01-02T14:17:01.803897Z",
     "start_time": "2023-01-02T14:11:06.533679Z"
    },
    "scrolled": true
   },
   "outputs": [
    {
     "name": "stdout",
     "output_type": "stream",
     "text": [
      "Preprocessing\n",
      "-------------\n",
      "\n",
      "Introducing a random variable\n",
      "Calculating Shapley values\n",
      "Removing the first features\n",
      "2 features have been removed\n",
      "['rv1', 'rv2', 'RandomVariable']\n",
      "\n",
      "Starting core module\n",
      "--------------------\n",
      "\n",
      "Iteration 1\n",
      "\tClasifying residuals\n",
      "\tGiving weights to features\n",
      "\tSelecting features\n",
      "\t1 features have been removed\n",
      "\t ['lights']\n",
      "\t24 features left\n",
      "\n",
      "Iteration 2\n",
      "\tClasifying residuals\n",
      "\tGiving weights to features\n",
      "\tSelecting features\n",
      "\t1 features have been removed\n",
      "\t ['RH_1']\n",
      "\t23 features left\n",
      "\n",
      "Iteration 3\n",
      "\tClasifying residuals\n",
      "\tGiving weights to features\n",
      "\tSelecting features\n",
      "\t1 features have been removed\n",
      "\t ['T3']\n",
      "\t22 features left\n",
      "\n",
      "Iteration 4\n",
      "\tClasifying residuals\n",
      "\tGiving weights to features\n",
      "\tSelecting features\n",
      "\t1 features have been removed\n",
      "\t ['RH_6']\n",
      "\t21 features left\n",
      "\n",
      "Iteration 5\n",
      "\tClasifying residuals\n",
      "\tGiving weights to features\n",
      "\tSelecting features\n",
      "\t1 features have been removed\n",
      "\t ['RH_7']\n",
      "\t20 features left\n",
      "\n",
      "Iteration 6\n",
      "\tClasifying residuals\n",
      "\tGiving weights to features\n",
      "\tSelecting features\n",
      "\t1 features have been removed\n",
      "\t ['Press_mm_hg']\n",
      "\t19 features left\n",
      "\n",
      "Iteration 7\n",
      "\tClasifying residuals\n",
      "\tGiving weights to features\n",
      "\tSelecting features\n",
      "\t1 features have been removed\n",
      "\t ['Windspeed']\n",
      "\t18 features left\n",
      "\n",
      "Iteration 8\n",
      "\tClasifying residuals\n",
      "\tGiving weights to features\n",
      "\tSelecting features\n",
      "\t1 features have been removed\n",
      "\t ['RH_out']\n",
      "\t17 features left\n",
      "\n",
      "Iteration 9\n",
      "\tClasifying residuals\n",
      "\tGiving weights to features\n",
      "\tSelecting features\n",
      "\t1 features have been removed\n",
      "\t ['RH_3']\n",
      "\t16 features left\n",
      "\n",
      "Iteration 10\n",
      "\tClasifying residuals\n",
      "\tGiving weights to features\n",
      "\tSelecting features\n",
      "\t1 features have been removed\n",
      "\t ['RH_8']\n",
      "\t15 features left\n",
      "\n",
      "Iteration 11\n",
      "\tClasifying residuals\n",
      "\tGiving weights to features\n",
      "\tSelecting features\n",
      "\t1 features have been removed\n",
      "\t ['T7']\n",
      "\t14 features left\n",
      "\n",
      "Iteration 12\n",
      "\tClasifying residuals\n",
      "\tGiving weights to features\n",
      "\tSelecting features\n",
      "\t1 features have been removed\n",
      "\t ['RH_9']\n",
      "\t13 features left\n",
      "\n",
      "Iteration 13\n",
      "\tClasifying residuals\n",
      "\tGiving weights to features\n",
      "\tSelecting features\n",
      "\t1 features have been removed\n",
      "\t ['T6']\n",
      "\t12 features left\n",
      "\n",
      "Iteration 14\n",
      "\tClasifying residuals\n",
      "\tGiving weights to features\n",
      "\tSelecting features\n",
      "\t1 features have been removed\n",
      "\t ['T_out']\n",
      "\t11 features left\n",
      "\n",
      "Iteration 15\n",
      "\tClasifying residuals\n",
      "\tGiving weights to features\n",
      "\tSelecting features\n",
      "\t1 features have been removed\n",
      "\t ['RH_2']\n",
      "\t10 features left\n",
      "\n",
      "Iteration 16\n",
      "\tClasifying residuals\n",
      "\tGiving weights to features\n",
      "\tSelecting features\n",
      "\t1 features have been removed\n",
      "\t ['T2']\n",
      "\t9 features left\n",
      "\n",
      "Iteration 17\n",
      "\tClasifying residuals\n",
      "\tGiving weights to features\n",
      "\tSelecting features\n",
      "\t1 features have been removed\n",
      "\t ['T9']\n",
      "\t8 features left\n",
      "\n",
      "Iteration 18\n",
      "\tClasifying residuals\n",
      "\tGiving weights to features\n",
      "\tSelecting features\n",
      "\t0 features have been removed\n",
      "\t8 features left\n",
      "8 features have been selected out of 28\n"
     ]
    }
   ],
   "source": [
    "model = CatBoostRegressor(verbose=0, n_estimators=250,use_best_model=False, random_seed = 123)\n",
    "feat_sel = FeatureSelector()\n",
    "selected_features_shapeffects_08_02 = feat_sel.fit(X_train, y_train, X_val, y_val, model, 30, 0.2, 0.8)\n",
    "selected_features_shapeffects_08_02 = sorted(list(selected_features_shapeffects_08_02))"
   ]
  },
  {
   "cell_type": "code",
   "execution_count": 21,
   "metadata": {
    "ExecuteTime": {
     "end_time": "2023-01-02T14:17:02.255705Z",
     "start_time": "2023-01-02T14:17:01.813871Z"
    }
   },
   "outputs": [
    {
     "data": {
      "text/plain": [
       "<matplotlib.lines.Line2D at 0x2b88acaa520>"
      ]
     },
     "execution_count": 21,
     "metadata": {},
     "output_type": "execute_result"
    },
    {
     "data": {
      "image/png": "[encoded data removed]",
      "text/plain": [
       "<Figure size 1440x720 with 1 Axes>"
      ]
     },
     "metadata": {},
     "output_type": "display_data"
    }
   ],
   "source": [
    "fig, ax = plt.subplots(1, 1, figsize=(20, 10))\n",
    "ax.plot(range(len(feat_sel.maes)), feat_sel.maes.keys(), '-o')\n",
    "ax.title.set_text(\"MAE Change\")\n",
    "ax.title.set_size(15)\n",
    "plt.axvline(np.argmin(list(feat_sel.maes.keys())), color='red', linestyle='dashed', linewidth=1)"
   ]
  },
  {
   "cell_type": "code",
   "execution_count": 22,
   "metadata": {
    "ExecuteTime": {
     "end_time": "2023-01-02T14:17:02.271664Z",
     "start_time": "2023-01-02T14:17:02.257700Z"
    }
   },
   "outputs": [
    {
     "data": {
      "text/plain": [
       "['Press_mm_hg',\n",
       " 'RH_2',\n",
       " 'RH_3',\n",
       " 'RH_4',\n",
       " 'RH_5',\n",
       " 'RH_6',\n",
       " 'RH_7',\n",
       " 'RH_8',\n",
       " 'RH_9',\n",
       " 'RH_out',\n",
       " 'T1',\n",
       " 'T2',\n",
       " 'T3',\n",
       " 'T4',\n",
       " 'T5',\n",
       " 'T6',\n",
       " 'T7',\n",
       " 'T8',\n",
       " 'T9',\n",
       " 'T_out',\n",
       " 'Tdewpoint',\n",
       " 'Visibility',\n",
       " 'Windspeed']"
      ]
     },
     "execution_count": 22,
     "metadata": {},
     "output_type": "execute_result"
    }
   ],
   "source": [
    "selected_features_shapeffects_08_02"
   ]
  },
  {
   "cell_type": "code",
   "execution_count": 23,
   "metadata": {
    "ExecuteTime": {
     "end_time": "2023-01-02T14:17:02.302580Z",
     "start_time": "2023-01-02T14:17:02.284628Z"
    }
   },
   "outputs": [],
   "source": [
    "dict_results_shapeffects_08_02 = {'rmse':[], 'mae':[], 'r2':[]}"
   ]
  },
  {
   "cell_type": "code",
   "execution_count": 24,
   "metadata": {
    "ExecuteTime": {
     "end_time": "2023-01-02T14:20:57.063387Z",
     "start_time": "2023-01-02T14:17:02.313552Z"
    },
    "scrolled": true
   },
   "outputs": [
    {
     "name": "stdout",
     "output_type": "stream",
     "text": [
      "0\n",
      "1\n",
      "2\n",
      "3\n",
      "4\n",
      "5\n",
      "6\n",
      "7\n",
      "8\n",
      "9\n",
      "10\n",
      "11\n",
      "12\n",
      "13\n",
      "14\n",
      "15\n",
      "16\n",
      "17\n",
      "18\n",
      "19\n",
      "20\n",
      "21\n",
      "22\n",
      "23\n",
      "24\n",
      "25\n",
      "26\n",
      "27\n",
      "28\n",
      "29\n",
      "30\n",
      "31\n",
      "32\n",
      "33\n",
      "34\n",
      "35\n",
      "36\n",
      "37\n",
      "38\n",
      "39\n",
      "40\n",
      "41\n",
      "42\n",
      "43\n",
      "44\n",
      "45\n",
      "46\n",
      "47\n",
      "48\n",
      "49\n"
     ]
    }
   ],
   "source": [
    "X_test_shapeffects = X_test[selected_features_shapeffects_08_02]\n",
    "X_train_shapeffects= X_train[selected_features_shapeffects_08_02]\n",
    "X_val_shapeffects = X_val[selected_features_shapeffects_08_02]\n",
    "for iteration in range(50):\n",
    "    print(iteration)\n",
    "    model = CatBoostRegressor(verbose=0, n_estimators=250,use_best_model=True, random_seed=seeds[iteration])\n",
    "    model.fit(\n",
    "        X_train_shapeffects, y_train,\n",
    "        eval_set=(X_val_shapeffects, y_val),\n",
    "        verbose = 0,\n",
    "        plot=False\n",
    "    );\n",
    "    \n",
    "    test_results = scores_calc_print(y_test, model.predict(X_test_shapeffects), print_bool=False)\n",
    "    \n",
    "    dict_results_shapeffects_08_02[\"r2\"].append(test_results[\"R2\"])\n",
    "    dict_results_shapeffects_08_02[\"rmse\"].append(test_results[\"RMSE\"])\n",
    "    dict_results_shapeffects_08_02[\"mae\"].append(test_results[\"MAE\"])"
   ]
  },
  {
   "cell_type": "code",
   "execution_count": 25,
   "metadata": {
    "ExecuteTime": {
     "end_time": "2023-01-02T14:20:57.079374Z",
     "start_time": "2023-01-02T14:20:57.065382Z"
    }
   },
   "outputs": [],
   "source": [
    "results_shapeffects_08_02_df = pd.DataFrame(dict_results_shapeffects_08_02)\n",
    "mean_shapeffects_08_02_test = results_shapeffects_08_02_df.mean()\n",
    "std_shapeffects_08_02_test = results_shapeffects_08_02_df.std()\n",
    "max_shapeffects_08_02_test = results_shapeffects_08_02_df.max()\n",
    "min_shapeffects_08_02_test = results_shapeffects_08_02_df.min()"
   ]
  },
  {
   "cell_type": "code",
   "execution_count": 26,
   "metadata": {
    "ExecuteTime": {
     "end_time": "2023-01-02T14:20:57.127399Z",
     "start_time": "2023-01-02T14:20:57.081394Z"
    }
   },
   "outputs": [
    {
     "data": {
      "text/plain": [
       "(rmse    82.613837\n",
       " mae     42.569814\n",
       " r2       0.375597\n",
       " dtype: float64,\n",
       " rmse    0.335029\n",
       " mae     0.189054\n",
       " r2      0.005068\n",
       " dtype: float64,\n",
       " rmse    83.375908\n",
       " mae     43.011403\n",
       " r2       0.385244\n",
       " dtype: float64,\n",
       " rmse    81.973838\n",
       " mae     42.096426\n",
       " r2       0.364034\n",
       " dtype: float64)"
      ]
     },
     "execution_count": 26,
     "metadata": {},
     "output_type": "execute_result"
    }
   ],
   "source": [
    "mean_shapeffects_08_02_test, std_shapeffects_08_02_test, max_shapeffects_08_02_test, min_shapeffects_08_02_test"
   ]
  },
  {
   "cell_type": "markdown",
   "metadata": {},
   "source": [
    "## SHAPEffects 0.85-0.15"
   ]
  },
  {
   "cell_type": "code",
   "execution_count": 27,
   "metadata": {
    "ExecuteTime": {
     "end_time": "2023-01-02T14:26:41.179349Z",
     "start_time": "2023-01-02T14:20:57.129394Z"
    },
    "scrolled": true
   },
   "outputs": [
    {
     "name": "stdout",
     "output_type": "stream",
     "text": [
      "Preprocessing\n",
      "-------------\n",
      "\n",
      "Introducing a random variable\n",
      "Calculating Shapley values\n",
      "Removing the first features\n",
      "2 features have been removed\n",
      "['rv1', 'rv2', 'RandomVariable']\n",
      "\n",
      "Starting core module\n",
      "--------------------\n",
      "\n",
      "Iteration 1\n",
      "\tClasifying residuals\n",
      "\tGiving weights to features\n",
      "\tSelecting features\n",
      "\t1 features have been removed\n",
      "\t ['lights']\n",
      "\t24 features left\n",
      "\n",
      "Iteration 2\n",
      "\tClasifying residuals\n",
      "\tGiving weights to features\n",
      "\tSelecting features\n",
      "\t1 features have been removed\n",
      "\t ['RH_1']\n",
      "\t23 features left\n",
      "\n",
      "Iteration 3\n",
      "\tClasifying residuals\n",
      "\tGiving weights to features\n",
      "\tSelecting features\n",
      "\t1 features have been removed\n",
      "\t ['RH_out']\n",
      "\t22 features left\n",
      "\n",
      "Iteration 4\n",
      "\tClasifying residuals\n",
      "\tGiving weights to features\n",
      "\tSelecting features\n",
      "\t1 features have been removed\n",
      "\t ['RH_6']\n",
      "\t21 features left\n",
      "\n",
      "Iteration 5\n",
      "\tClasifying residuals\n",
      "\tGiving weights to features\n",
      "\tSelecting features\n",
      "\t1 features have been removed\n",
      "\t ['Windspeed']\n",
      "\t20 features left\n",
      "\n",
      "Iteration 6\n",
      "\tClasifying residuals\n",
      "\tGiving weights to features\n",
      "\tSelecting features\n",
      "\t1 features have been removed\n",
      "\t ['T6']\n",
      "\t19 features left\n",
      "\n",
      "Iteration 7\n",
      "\tClasifying residuals\n",
      "\tGiving weights to features\n",
      "\tSelecting features\n",
      "\t1 features have been removed\n",
      "\t ['Press_mm_hg']\n",
      "\t18 features left\n",
      "\n",
      "Iteration 8\n",
      "\tClasifying residuals\n",
      "\tGiving weights to features\n",
      "\tSelecting features\n",
      "\t1 features have been removed\n",
      "\t ['Tdewpoint']\n",
      "\t17 features left\n",
      "\n",
      "Iteration 9\n",
      "\tClasifying residuals\n",
      "\tGiving weights to features\n",
      "\tSelecting features\n",
      "\t1 features have been removed\n",
      "\t ['T7']\n",
      "\t16 features left\n",
      "\n",
      "Iteration 10\n",
      "\tClasifying residuals\n",
      "\tGiving weights to features\n",
      "\tSelecting features\n",
      "\t1 features have been removed\n",
      "\t ['T3']\n",
      "\t15 features left\n",
      "\n",
      "Iteration 11\n",
      "\tClasifying residuals\n",
      "\tGiving weights to features\n",
      "\tSelecting features\n",
      "\t1 features have been removed\n",
      "\t ['T2']\n",
      "\t14 features left\n",
      "\n",
      "Iteration 12\n",
      "\tClasifying residuals\n",
      "\tGiving weights to features\n",
      "\tSelecting features\n",
      "\t1 features have been removed\n",
      "\t ['Visibility']\n",
      "\t13 features left\n",
      "\n",
      "Iteration 13\n",
      "\tClasifying residuals\n",
      "\tGiving weights to features\n",
      "\tSelecting features\n",
      "\t1 features have been removed\n",
      "\t ['RH_2']\n",
      "\t12 features left\n",
      "\n",
      "Iteration 14\n",
      "\tClasifying residuals\n",
      "\tGiving weights to features\n",
      "\tSelecting features\n",
      "\t1 features have been removed\n",
      "\t ['T9']\n",
      "\t11 features left\n",
      "\n",
      "Iteration 15\n",
      "\tClasifying residuals\n",
      "\tGiving weights to features\n",
      "\tSelecting features\n",
      "\t1 features have been removed\n",
      "\t ['RH_5']\n",
      "\t10 features left\n",
      "\n",
      "Iteration 16\n",
      "\tClasifying residuals\n",
      "\tGiving weights to features\n",
      "\tSelecting features\n",
      "\t0 features have been removed\n",
      "\t10 features left\n",
      "10 features have been selected out of 28\n"
     ]
    }
   ],
   "source": [
    "model = CatBoostRegressor(verbose=0, n_estimators=250,use_best_model=False, random_seed = 123)\n",
    "feat_sel = FeatureSelector()\n",
    "selected_features_shapeffects_085_015 = feat_sel.fit(X_train, y_train, X_val, y_val, model, 30, 0.15, 0.85)\n",
    "selected_features_shapeffects_085_015 = sorted(list(selected_features_shapeffects_085_015))"
   ]
  },
  {
   "cell_type": "code",
   "execution_count": 28,
   "metadata": {
    "ExecuteTime": {
     "end_time": "2023-01-02T14:26:41.495523Z",
     "start_time": "2023-01-02T14:26:41.181345Z"
    }
   },
   "outputs": [
    {
     "data": {
      "text/plain": [
       "<matplotlib.lines.Line2D at 0x2b88adac910>"
      ]
     },
     "execution_count": 28,
     "metadata": {},
     "output_type": "execute_result"
    },
    {
     "data": {
      "image/png": "[encoded data removed]",
      "text/plain": [
       "<Figure size 1440x720 with 1 Axes>"
      ]
     },
     "metadata": {},
     "output_type": "display_data"
    }
   ],
   "source": [
    "fig, ax = plt.subplots(1, 1, figsize=(20, 10))\n",
    "ax.plot(range(len(feat_sel.maes)), feat_sel.maes.keys(), '-o')\n",
    "ax.title.set_text(\"MAE Change\")\n",
    "ax.title.set_size(15)\n",
    "plt.axvline(np.argmin(list(feat_sel.maes.keys())), color='red', linestyle='dashed', linewidth=1)"
   ]
  },
  {
   "cell_type": "code",
   "execution_count": 29,
   "metadata": {
    "ExecuteTime": {
     "end_time": "2023-01-02T14:26:41.511479Z",
     "start_time": "2023-01-02T14:26:41.497518Z"
    }
   },
   "outputs": [
    {
     "data": {
      "text/plain": [
       "['Press_mm_hg',\n",
       " 'RH_2',\n",
       " 'RH_3',\n",
       " 'RH_4',\n",
       " 'RH_5',\n",
       " 'RH_6',\n",
       " 'RH_7',\n",
       " 'RH_8',\n",
       " 'RH_9',\n",
       " 'RH_out',\n",
       " 'T1',\n",
       " 'T2',\n",
       " 'T3',\n",
       " 'T4',\n",
       " 'T5',\n",
       " 'T6',\n",
       " 'T7',\n",
       " 'T8',\n",
       " 'T9',\n",
       " 'T_out',\n",
       " 'Tdewpoint',\n",
       " 'Visibility',\n",
       " 'Windspeed']"
      ]
     },
     "execution_count": 29,
     "metadata": {},
     "output_type": "execute_result"
    }
   ],
   "source": [
    "selected_features_shapeffects_085_015"
   ]
  },
  {
   "cell_type": "code",
   "execution_count": 30,
   "metadata": {
    "ExecuteTime": {
     "end_time": "2023-01-02T14:26:41.527437Z",
     "start_time": "2023-01-02T14:26:41.513473Z"
    }
   },
   "outputs": [],
   "source": [
    "dict_results_shapeffects_085_015 = {'rmse':[], 'mae':[], 'r2':[]}"
   ]
  },
  {
   "cell_type": "code",
   "execution_count": 31,
   "metadata": {
    "ExecuteTime": {
     "end_time": "2023-01-02T14:31:17.985993Z",
     "start_time": "2023-01-02T14:26:41.529431Z"
    },
    "scrolled": true
   },
   "outputs": [
    {
     "name": "stdout",
     "output_type": "stream",
     "text": [
      "0\n",
      "1\n",
      "2\n",
      "3\n",
      "4\n",
      "5\n",
      "6\n",
      "7\n",
      "8\n",
      "9\n",
      "10\n",
      "11\n",
      "12\n",
      "13\n",
      "14\n",
      "15\n",
      "16\n",
      "17\n",
      "18\n",
      "19\n",
      "20\n",
      "21\n",
      "22\n",
      "23\n",
      "24\n",
      "25\n",
      "26\n",
      "27\n",
      "28\n",
      "29\n",
      "30\n",
      "31\n",
      "32\n",
      "33\n",
      "34\n",
      "35\n",
      "36\n",
      "37\n",
      "38\n",
      "39\n",
      "40\n",
      "41\n",
      "42\n",
      "43\n",
      "44\n",
      "45\n",
      "46\n",
      "47\n",
      "48\n",
      "49\n"
     ]
    }
   ],
   "source": [
    "X_test_shapeffects = X_test[selected_features_shapeffects_085_015]\n",
    "X_train_shapeffects= X_train[selected_features_shapeffects_085_015]\n",
    "X_val_shapeffects = X_val[selected_features_shapeffects_085_015]\n",
    "for iteration in range(50):\n",
    "    print(iteration)\n",
    "    model = CatBoostRegressor(verbose=0, n_estimators=250,use_best_model=True, random_seed=seeds[iteration])\n",
    "    model.fit(\n",
    "        X_train_shapeffects, y_train,\n",
    "        eval_set=(X_val_shapeffects, y_val),\n",
    "        verbose = 0,\n",
    "        plot=False\n",
    "    );\n",
    "    \n",
    "    test_results = scores_calc_print(y_test, model.predict(X_test_shapeffects), print_bool=False)\n",
    "    \n",
    "    dict_results_shapeffects_085_015[\"r2\"].append(test_results[\"R2\"])\n",
    "    dict_results_shapeffects_085_015[\"rmse\"].append(test_results[\"RMSE\"])\n",
    "    dict_results_shapeffects_085_015[\"mae\"].append(test_results[\"MAE\"])"
   ]
  },
  {
   "cell_type": "code",
   "execution_count": 32,
   "metadata": {
    "ExecuteTime": {
     "end_time": "2023-01-02T14:31:18.001998Z",
     "start_time": "2023-01-02T14:31:17.987988Z"
    }
   },
   "outputs": [],
   "source": [
    "results_shapeffects_085_015_df = pd.DataFrame(dict_results_shapeffects_085_015)\n",
    "mean_shapeffects_085_015_test = results_shapeffects_085_015_df.mean()\n",
    "std_shapeffects_085_015_test = results_shapeffects_085_015_df.std()\n",
    "max_shapeffects_085_015_test = results_shapeffects_085_015_df.max()\n",
    "min_shapeffects_085_015_test = results_shapeffects_085_015_df.min()"
   ]
  },
  {
   "cell_type": "code",
   "execution_count": 33,
   "metadata": {
    "ExecuteTime": {
     "end_time": "2023-01-02T14:31:18.032996Z",
     "start_time": "2023-01-02T14:31:18.003993Z"
    }
   },
   "outputs": [
    {
     "data": {
      "text/plain": [
       "(rmse    82.613837\n",
       " mae     42.569814\n",
       " r2       0.375597\n",
       " dtype: float64,\n",
       " rmse    0.335029\n",
       " mae     0.189054\n",
       " r2      0.005068\n",
       " dtype: float64,\n",
       " rmse    83.375908\n",
       " mae     43.011403\n",
       " r2       0.385244\n",
       " dtype: float64,\n",
       " rmse    81.973838\n",
       " mae     42.096426\n",
       " r2       0.364034\n",
       " dtype: float64)"
      ]
     },
     "execution_count": 33,
     "metadata": {},
     "output_type": "execute_result"
    }
   ],
   "source": [
    "mean_shapeffects_085_015_test, std_shapeffects_085_015_test, max_shapeffects_085_015_test, min_shapeffects_085_015_test"
   ]
  },
  {
   "cell_type": "markdown",
   "metadata": {},
   "source": [
    "## SHAPEffects 0.9-0.1"
   ]
  },
  {
   "cell_type": "code",
   "execution_count": 34,
   "metadata": {
    "ExecuteTime": {
     "end_time": "2023-01-02T14:34:35.338024Z",
     "start_time": "2023-01-02T14:31:18.034991Z"
    },
    "scrolled": true
   },
   "outputs": [
    {
     "name": "stdout",
     "output_type": "stream",
     "text": [
      "Preprocessing\n",
      "-------------\n",
      "\n",
      "Introducing a random variable\n",
      "Calculating Shapley values\n",
      "Removing the first features\n",
      "2 features have been removed\n",
      "['rv1', 'rv2', 'RandomVariable']\n",
      "\n",
      "Starting core module\n",
      "--------------------\n",
      "\n",
      "Iteration 1\n",
      "\tClasifying residuals\n",
      "\tGiving weights to features\n",
      "\tSelecting features\n",
      "\t0 features have been removed\n",
      "\t25 features left\n",
      "25 features have been selected out of 28\n"
     ]
    }
   ],
   "source": [
    "model = CatBoostRegressor(verbose=0, n_estimators=250,use_best_model=False, random_seed = 123)\n",
    "feat_sel = FeatureSelector()\n",
    "selected_features_shapeffects_09_01 = feat_sel.fit(X_train, y_train, X_val, y_val, model, 30, 0.1, 0.9)\n",
    "selected_features_shapeffects_09_01 = sorted(list(selected_features_shapeffects_09_01))"
   ]
  },
  {
   "cell_type": "code",
   "execution_count": 35,
   "metadata": {
    "ExecuteTime": {
     "end_time": "2023-01-02T14:34:35.590369Z",
     "start_time": "2023-01-02T14:34:35.340019Z"
    }
   },
   "outputs": [
    {
     "data": {
      "text/plain": [
       "<matplotlib.lines.Line2D at 0x2b88aedaee0>"
      ]
     },
     "execution_count": 35,
     "metadata": {},
     "output_type": "execute_result"
    },
    {
     "data": {
      "image/png": "[encoded data removed]",
      "text/plain": [
       "<Figure size 1440x720 with 1 Axes>"
      ]
     },
     "metadata": {},
     "output_type": "display_data"
    }
   ],
   "source": [
    "fig, ax = plt.subplots(1, 1, figsize=(20, 10))\n",
    "ax.plot(range(len(feat_sel.maes)), feat_sel.maes.keys(), '-o')\n",
    "ax.title.set_text(\"MAE Change\")\n",
    "ax.title.set_size(15)\n",
    "plt.axvline(np.argmin(list(feat_sel.maes.keys())), color='red', linestyle='dashed', linewidth=1)"
   ]
  },
  {
   "cell_type": "code",
   "execution_count": 36,
   "metadata": {
    "ExecuteTime": {
     "end_time": "2023-01-02T14:34:35.605328Z",
     "start_time": "2023-01-02T14:34:35.592364Z"
    }
   },
   "outputs": [
    {
     "data": {
      "text/plain": [
       "['Press_mm_hg',\n",
       " 'RH_1',\n",
       " 'RH_2',\n",
       " 'RH_3',\n",
       " 'RH_4',\n",
       " 'RH_5',\n",
       " 'RH_6',\n",
       " 'RH_7',\n",
       " 'RH_8',\n",
       " 'RH_9',\n",
       " 'RH_out',\n",
       " 'T1',\n",
       " 'T2',\n",
       " 'T3',\n",
       " 'T4',\n",
       " 'T5',\n",
       " 'T6',\n",
       " 'T7',\n",
       " 'T8',\n",
       " 'T9',\n",
       " 'T_out',\n",
       " 'Tdewpoint',\n",
       " 'Visibility',\n",
       " 'Windspeed',\n",
       " 'lights']"
      ]
     },
     "execution_count": 36,
     "metadata": {},
     "output_type": "execute_result"
    }
   ],
   "source": [
    "selected_features_shapeffects_09_01"
   ]
  },
  {
   "cell_type": "code",
   "execution_count": 37,
   "metadata": {
    "ExecuteTime": {
     "end_time": "2023-01-02T14:34:35.620288Z",
     "start_time": "2023-01-02T14:34:35.607324Z"
    }
   },
   "outputs": [],
   "source": [
    "dict_results_shapeffects_09_01 = {'rmse':[], 'mae':[], 'r2':[]}"
   ]
  },
  {
   "cell_type": "code",
   "execution_count": 38,
   "metadata": {
    "ExecuteTime": {
     "end_time": "2023-01-02T14:38:22.983277Z",
     "start_time": "2023-01-02T14:34:35.622283Z"
    },
    "scrolled": true
   },
   "outputs": [
    {
     "name": "stdout",
     "output_type": "stream",
     "text": [
      "0\n",
      "1\n",
      "2\n",
      "3\n",
      "4\n",
      "5\n",
      "6\n",
      "7\n",
      "8\n",
      "9\n",
      "10\n",
      "11\n",
      "12\n",
      "13\n",
      "14\n",
      "15\n",
      "16\n",
      "17\n",
      "18\n",
      "19\n",
      "20\n",
      "21\n",
      "22\n",
      "23\n",
      "24\n",
      "25\n",
      "26\n",
      "27\n",
      "28\n",
      "29\n",
      "30\n",
      "31\n",
      "32\n",
      "33\n",
      "34\n",
      "35\n",
      "36\n",
      "37\n",
      "38\n",
      "39\n",
      "40\n",
      "41\n",
      "42\n",
      "43\n",
      "44\n",
      "45\n",
      "46\n",
      "47\n",
      "48\n",
      "49\n"
     ]
    }
   ],
   "source": [
    "X_test_shapeffects = X_test[selected_features_shapeffects_09_01]\n",
    "X_train_shapeffects= X_train[selected_features_shapeffects_09_01]\n",
    "X_val_shapeffects = X_val[selected_features_shapeffects_09_01]\n",
    "for iteration in range(50):\n",
    "    print(iteration)\n",
    "    model = CatBoostRegressor(verbose=0, n_estimators=250,use_best_model=True, random_seed=seeds[iteration])\n",
    "    model.fit(\n",
    "        X_train_shapeffects, y_train,\n",
    "        eval_set=(X_val_shapeffects, y_val),\n",
    "        verbose = 0,\n",
    "        plot=False\n",
    "    );\n",
    "    \n",
    "    test_results = scores_calc_print(y_test, model.predict(X_test_shapeffects), print_bool=False)\n",
    "    \n",
    "    dict_results_shapeffects_09_01[\"r2\"].append(test_results[\"R2\"])\n",
    "    dict_results_shapeffects_09_01[\"rmse\"].append(test_results[\"RMSE\"])\n",
    "    dict_results_shapeffects_09_01[\"mae\"].append(test_results[\"MAE\"])"
   ]
  },
  {
   "cell_type": "code",
   "execution_count": 39,
   "metadata": {
    "ExecuteTime": {
     "end_time": "2023-01-02T14:38:23.001229Z",
     "start_time": "2023-01-02T14:38:22.985271Z"
    }
   },
   "outputs": [],
   "source": [
    "results_shapeffects_09_01_df = pd.DataFrame(dict_results_shapeffects_09_01)\n",
    "mean_shapeffects_09_01_test = results_shapeffects_09_01_df.mean()\n",
    "std_shapeffects_09_01_test = results_shapeffects_09_01_df.std()\n",
    "max_shapeffects_09_01_test = results_shapeffects_09_01_df.max()\n",
    "min_shapeffects_09_01_test = results_shapeffects_09_01_df.min()"
   ]
  },
  {
   "cell_type": "code",
   "execution_count": 40,
   "metadata": {
    "ExecuteTime": {
     "end_time": "2023-01-02T14:38:23.046110Z",
     "start_time": "2023-01-02T14:38:23.007214Z"
    }
   },
   "outputs": [
    {
     "data": {
      "text/plain": [
       "(rmse    81.940827\n",
       " mae     42.355304\n",
       " r2       0.385728\n",
       " dtype: float64,\n",
       " rmse    0.351559\n",
       " mae     0.212130\n",
       " r2      0.005269\n",
       " dtype: float64,\n",
       " rmse    82.586724\n",
       " mae     42.778391\n",
       " r2       0.396864\n",
       " dtype: float64,\n",
       " rmse    81.195394\n",
       " mae     41.802593\n",
       " r2       0.376017\n",
       " dtype: float64)"
      ]
     },
     "execution_count": 40,
     "metadata": {},
     "output_type": "execute_result"
    }
   ],
   "source": [
    "mean_shapeffects_09_01_test, std_shapeffects_09_01_test, max_shapeffects_09_01_test, min_shapeffects_09_01_test"
   ]
  },
  {
   "cell_type": "markdown",
   "metadata": {},
   "source": [
    "## SHAPEffects 0.95-0.05"
   ]
  },
  {
   "cell_type": "code",
   "execution_count": 41,
   "metadata": {
    "ExecuteTime": {
     "end_time": "2023-01-02T14:44:26.450421Z",
     "start_time": "2023-01-02T14:38:23.048105Z"
    },
    "scrolled": true
   },
   "outputs": [
    {
     "name": "stdout",
     "output_type": "stream",
     "text": [
      "Preprocessing\n",
      "-------------\n",
      "\n",
      "Introducing a random variable\n",
      "Calculating Shapley values\n",
      "Removing the first features\n",
      "3 features have been removed\n",
      "['Visibility', 'rv1', 'rv2', 'RandomVariable']\n",
      "\n",
      "Starting core module\n",
      "--------------------\n",
      "\n",
      "Iteration 1\n",
      "\tClasifying residuals\n",
      "\tGiving weights to features\n",
      "\tSelecting features\n",
      "\t1 features have been removed\n",
      "\t ['RH_2']\n",
      "\t23 features left\n",
      "\n",
      "Iteration 2\n",
      "\tClasifying residuals\n",
      "\tGiving weights to features\n",
      "\tSelecting features\n",
      "\t1 features have been removed\n",
      "\t ['RH_out']\n",
      "\t22 features left\n",
      "\n",
      "Iteration 3\n",
      "\tClasifying residuals\n",
      "\tGiving weights to features\n",
      "\tSelecting features\n",
      "\t1 features have been removed\n",
      "\t ['RH_7']\n",
      "\t21 features left\n",
      "\n",
      "Iteration 4\n",
      "\tClasifying residuals\n",
      "\tGiving weights to features\n",
      "\tSelecting features\n",
      "\t1 features have been removed\n",
      "\t ['Tdewpoint']\n",
      "\t20 features left\n",
      "\n",
      "Iteration 5\n",
      "\tClasifying residuals\n",
      "\tGiving weights to features\n",
      "\tSelecting features\n",
      "\t1 features have been removed\n",
      "\t ['RH_8']\n",
      "\t19 features left\n",
      "\n",
      "Iteration 6\n",
      "\tClasifying residuals\n",
      "\tGiving weights to features\n",
      "\tSelecting features\n",
      "\t1 features have been removed\n",
      "\t ['T5']\n",
      "\t18 features left\n",
      "\n",
      "Iteration 7\n",
      "\tClasifying residuals\n",
      "\tGiving weights to features\n",
      "\tSelecting features\n",
      "\t1 features have been removed\n",
      "\t ['RH_1']\n",
      "\t17 features left\n",
      "\n",
      "Iteration 8\n",
      "\tClasifying residuals\n",
      "\tGiving weights to features\n",
      "\tSelecting features\n",
      "\t1 features have been removed\n",
      "\t ['T7']\n",
      "\t16 features left\n",
      "\n",
      "Iteration 9\n",
      "\tClasifying residuals\n",
      "\tGiving weights to features\n",
      "\tSelecting features\n",
      "\t1 features have been removed\n",
      "\t ['T9']\n",
      "\t15 features left\n",
      "\n",
      "Iteration 10\n",
      "\tClasifying residuals\n",
      "\tGiving weights to features\n",
      "\tSelecting features\n",
      "\t1 features have been removed\n",
      "\t ['RH_5']\n",
      "\t14 features left\n",
      "\n",
      "Iteration 11\n",
      "\tClasifying residuals\n",
      "\tGiving weights to features\n",
      "\tSelecting features\n",
      "\t1 features have been removed\n",
      "\t ['RH_4']\n",
      "\t13 features left\n",
      "\n",
      "Iteration 12\n",
      "\tClasifying residuals\n",
      "\tGiving weights to features\n",
      "\tSelecting features\n",
      "\t1 features have been removed\n",
      "\t ['Windspeed']\n",
      "\t12 features left\n",
      "\n",
      "Iteration 13\n",
      "\tClasifying residuals\n",
      "\tGiving weights to features\n",
      "\tSelecting features\n",
      "\t1 features have been removed\n",
      "\t ['RH_9']\n",
      "\t11 features left\n",
      "\n",
      "Iteration 14\n",
      "\tClasifying residuals\n",
      "\tGiving weights to features\n",
      "\tSelecting features\n",
      "\t0 features have been removed\n",
      "\t11 features left\n",
      "11 features have been selected out of 28\n"
     ]
    }
   ],
   "source": [
    "model = CatBoostRegressor(verbose=0, n_estimators=250,use_best_model=False, random_seed = 123)\n",
    "feat_sel = FeatureSelector()\n",
    "selected_features_shapeffects_095_005 = feat_sel.fit(X_train, y_train, X_val, y_val, model, 30, 0.05, 0.95)\n",
    "selected_features_shapeffects_095_005 = sorted(list(selected_features_shapeffects_095_005))"
   ]
  },
  {
   "cell_type": "code",
   "execution_count": 42,
   "metadata": {
    "ExecuteTime": {
     "end_time": "2023-01-02T14:44:26.793425Z",
     "start_time": "2023-01-02T14:44:26.453413Z"
    }
   },
   "outputs": [
    {
     "data": {
      "text/plain": [
       "<matplotlib.lines.Line2D at 0x2b88858d310>"
      ]
     },
     "execution_count": 42,
     "metadata": {},
     "output_type": "execute_result"
    },
    {
     "data": {
      "image/png": "[encoded data removed]",
      "text/plain": [
       "<Figure size 1440x720 with 1 Axes>"
      ]
     },
     "metadata": {},
     "output_type": "display_data"
    }
   ],
   "source": [
    "fig, ax = plt.subplots(1, 1, figsize=(20, 10))\n",
    "ax.plot(range(len(feat_sel.maes)), feat_sel.maes.keys(), '-o')\n",
    "ax.title.set_text(\"MAE Change\")\n",
    "ax.title.set_size(15)\n",
    "plt.axvline(np.argmin(list(feat_sel.maes.keys())), color='red', linestyle='dashed', linewidth=1)"
   ]
  },
  {
   "cell_type": "code",
   "execution_count": 43,
   "metadata": {
    "ExecuteTime": {
     "end_time": "2023-01-02T14:44:26.815416Z",
     "start_time": "2023-01-02T14:44:26.796934Z"
    }
   },
   "outputs": [
    {
     "data": {
      "text/plain": [
       "['Press_mm_hg',\n",
       " 'RH_1',\n",
       " 'RH_3',\n",
       " 'RH_4',\n",
       " 'RH_5',\n",
       " 'RH_6',\n",
       " 'RH_9',\n",
       " 'T1',\n",
       " 'T2',\n",
       " 'T3',\n",
       " 'T4',\n",
       " 'T5',\n",
       " 'T6',\n",
       " 'T7',\n",
       " 'T8',\n",
       " 'T9',\n",
       " 'T_out',\n",
       " 'Windspeed',\n",
       " 'lights']"
      ]
     },
     "execution_count": 43,
     "metadata": {},
     "output_type": "execute_result"
    }
   ],
   "source": [
    "selected_features_shapeffects_095_005"
   ]
  },
  {
   "cell_type": "code",
   "execution_count": 44,
   "metadata": {
    "ExecuteTime": {
     "end_time": "2023-01-02T14:44:26.831432Z",
     "start_time": "2023-01-02T14:44:26.817455Z"
    }
   },
   "outputs": [],
   "source": [
    "dict_results_shapeffects_095_005 = {'rmse':[], 'mae':[], 'r2':[]}"
   ]
  },
  {
   "cell_type": "code",
   "execution_count": 45,
   "metadata": {
    "ExecuteTime": {
     "end_time": "2023-01-02T14:48:57.571304Z",
     "start_time": "2023-01-02T14:44:26.835423Z"
    },
    "scrolled": true
   },
   "outputs": [
    {
     "name": "stdout",
     "output_type": "stream",
     "text": [
      "0\n",
      "1\n",
      "2\n",
      "3\n",
      "4\n",
      "5\n",
      "6\n",
      "7\n",
      "8\n",
      "9\n",
      "10\n",
      "11\n",
      "12\n",
      "13\n",
      "14\n",
      "15\n",
      "16\n",
      "17\n",
      "18\n",
      "19\n",
      "20\n",
      "21\n",
      "22\n",
      "23\n",
      "24\n",
      "25\n",
      "26\n",
      "27\n",
      "28\n",
      "29\n",
      "30\n",
      "31\n",
      "32\n",
      "33\n",
      "34\n",
      "35\n",
      "36\n",
      "37\n",
      "38\n",
      "39\n",
      "40\n",
      "41\n",
      "42\n",
      "43\n",
      "44\n",
      "45\n",
      "46\n",
      "47\n",
      "48\n",
      "49\n"
     ]
    }
   ],
   "source": [
    "X_test_shapeffects = X_test[selected_features_shapeffects_095_005]\n",
    "X_train_shapeffects= X_train[selected_features_shapeffects_095_005]\n",
    "X_val_shapeffects = X_val[selected_features_shapeffects_095_005]\n",
    "for iteration in range(50):\n",
    "    print(iteration)\n",
    "    model = CatBoostRegressor(verbose=0, n_estimators=250,use_best_model=True, random_seed=seeds[iteration])\n",
    "    model.fit(\n",
    "        X_train_shapeffects, y_train,\n",
    "        eval_set=(X_val_shapeffects, y_val),\n",
    "        verbose = 0,\n",
    "        plot=False\n",
    "    );\n",
    "    \n",
    "    test_results = scores_calc_print(y_test, model.predict(X_test_shapeffects), print_bool=False)\n",
    "    \n",
    "    dict_results_shapeffects_095_005[\"r2\"].append(test_results[\"R2\"])\n",
    "    dict_results_shapeffects_095_005[\"rmse\"].append(test_results[\"RMSE\"])\n",
    "    dict_results_shapeffects_095_005[\"mae\"].append(test_results[\"MAE\"])"
   ]
  },
  {
   "cell_type": "code",
   "execution_count": 46,
   "metadata": {
    "ExecuteTime": {
     "end_time": "2023-01-02T14:48:57.586264Z",
     "start_time": "2023-01-02T14:48:57.573298Z"
    }
   },
   "outputs": [],
   "source": [
    "results_shapeffects_095_005_df = pd.DataFrame(dict_results_shapeffects_095_005)\n",
    "mean_shapeffects_095_005_test = results_shapeffects_095_005_df.mean()\n",
    "std_shapeffects_095_005_test = results_shapeffects_095_005_df.std()\n",
    "max_shapeffects_095_005_test = results_shapeffects_095_005_df.max()\n",
    "min_shapeffects_095_005_test = results_shapeffects_095_005_df.min()"
   ]
  },
  {
   "cell_type": "code",
   "execution_count": 47,
   "metadata": {
    "ExecuteTime": {
     "end_time": "2023-01-02T14:48:57.648290Z",
     "start_time": "2023-01-02T14:48:57.588287Z"
    }
   },
   "outputs": [
    {
     "data": {
      "text/plain": [
       "(rmse    82.939156\n",
       " mae     43.215691\n",
       " r2       0.370665\n",
       " dtype: float64,\n",
       " rmse    0.407251\n",
       " mae     0.193148\n",
       " r2      0.006178\n",
       " dtype: float64,\n",
       " rmse    84.040078\n",
       " mae     43.795774\n",
       " r2       0.384872\n",
       " dtype: float64,\n",
       " rmse    81.998599\n",
       " mae     42.822165\n",
       " r2       0.353862\n",
       " dtype: float64)"
      ]
     },
     "execution_count": 47,
     "metadata": {},
     "output_type": "execute_result"
    }
   ],
   "source": [
    "mean_shapeffects_095_005_test, std_shapeffects_095_005_test, max_shapeffects_095_005_test, min_shapeffects_095_005_test"
   ]
  },
  {
   "cell_type": "markdown",
   "metadata": {},
   "source": [
    "## PowerSHAP"
   ]
  },
  {
   "cell_type": "code",
   "execution_count": 48,
   "metadata": {
    "ExecuteTime": {
     "end_time": "2023-01-02T14:50:20.740267Z",
     "start_time": "2023-01-02T14:48:57.650285Z"
    }
   },
   "outputs": [
    {
     "name": "stdout",
     "output_type": "stream",
     "text": [
      "Starting powershap\n",
      "Automatic mode enabled: Finding the minimal required powershap iterations for significance of 0.01.\n"
     ]
    },
    {
     "data": {
      "application/vnd.jupyter.widget-view+json": {
       "model_id": "f6fb5f8aaaf54746ad2306eb1e4a8a00",
       "version_major": 2,
       "version_minor": 0
      },
      "text/plain": [
       "HBox(children=(HTML(value=''), FloatProgress(value=0.0, max=10.0), HTML(value='')))"
      ]
     },
     "metadata": {},
     "output_type": "display_data"
    },
    {
     "name": "stdout",
     "output_type": "stream",
     "text": [
      "\n",
      "10 iterations were already sufficient as only 6 iterations were required for the current  power_alpha = 0.01.\n",
      "Done!\n"
     ]
    },
    {
     "data": {
      "text/plain": [
       "PowerShap(model=<catboost.core.CatBoostRegressor object at 0x000002B88AB53AF0>,\n",
       "          verbose=True)"
      ]
     },
     "execution_count": 48,
     "metadata": {},
     "output_type": "execute_result"
    }
   ],
   "source": [
    "selector = PowerShap(\n",
    "    model = CatBoostRegressor(verbose=0, n_estimators=250,use_best_model=False, random_seed = 123),\n",
    "    power_iterations=10,automatic=True, limit_automatic=10,verbose=True,target_col=target_col,index_col=Index_col,\n",
    ")\n",
    "selector.fit(current_db_train_val[list(selected_columns)], current_db_train_val[target_col])"
   ]
  },
  {
   "cell_type": "code",
   "execution_count": 49,
   "metadata": {
    "ExecuteTime": {
     "end_time": "2023-01-02T14:50:20.756224Z",
     "start_time": "2023-01-02T14:50:20.742262Z"
    }
   },
   "outputs": [
    {
     "data": {
      "text/plain": [
       "array(['RH_1', 'lights', 'RH_2', 'T6', 'T3', 'RH_8', 'T4', 'RH_6', 'RH_3',\n",
       "       'T1', 'RH_5', 'RH_7', 'RH_4', 'RH_out', 'T9', 'T8', 'T5', 'T2',\n",
       "       'T7', 'Windspeed', 'Tdewpoint', 'Press_mm_hg', 'T_out', 'RH_9'],\n",
       "      dtype=object)"
      ]
     },
     "execution_count": 49,
     "metadata": {},
     "output_type": "execute_result"
    }
   ],
   "source": [
    "t = selector._processed_shaps_df\n",
    "selected_features_powershap = t[(t.p_value<0.01)].index.values\n",
    "selected_features_powershap"
   ]
  },
  {
   "cell_type": "code",
   "execution_count": 50,
   "metadata": {
    "ExecuteTime": {
     "end_time": "2023-01-02T14:50:20.772236Z",
     "start_time": "2023-01-02T14:50:20.758220Z"
    }
   },
   "outputs": [],
   "source": [
    "selected_features_powershap = sorted(selected_features_powershap)"
   ]
  },
  {
   "cell_type": "code",
   "execution_count": 12,
   "metadata": {
    "ExecuteTime": {
     "end_time": "2023-01-03T15:39:21.004772Z",
     "start_time": "2023-01-03T15:39:20.995772Z"
    }
   },
   "outputs": [],
   "source": [
    "selected_features_powershap = sorted(['RH_1', 'lights', 'RH_2', 'T6', 'T3', 'RH_8', 'T4', 'RH_6', 'RH_3',\n",
    "       'T1', 'RH_5', 'RH_7', 'RH_4', 'RH_out', 'T9', 'T8', 'T5', 'T2',\n",
    "       'T7', 'Windspeed', 'Tdewpoint', 'Press_mm_hg', 'T_out', 'RH_9'])"
   ]
  },
  {
   "cell_type": "code",
   "execution_count": 13,
   "metadata": {
    "ExecuteTime": {
     "end_time": "2023-01-03T15:39:23.203838Z",
     "start_time": "2023-01-03T15:39:23.195834Z"
    }
   },
   "outputs": [],
   "source": [
    "dict_results_powershap = {'rmse':[], 'mae':[], 'r2':[]}"
   ]
  },
  {
   "cell_type": "code",
   "execution_count": 14,
   "metadata": {
    "ExecuteTime": {
     "end_time": "2023-01-03T15:40:19.523500Z",
     "start_time": "2023-01-03T15:39:23.559489Z"
    },
    "scrolled": true
   },
   "outputs": [
    {
     "name": "stdout",
     "output_type": "stream",
     "text": [
      "0\n",
      "1\n",
      "2\n",
      "3\n",
      "4\n",
      "5\n",
      "6\n",
      "7\n",
      "8\n",
      "9\n",
      "10\n",
      "11\n",
      "12\n",
      "13\n",
      "14\n",
      "15\n",
      "16\n",
      "17\n",
      "18\n",
      "19\n",
      "20\n",
      "21\n",
      "22\n",
      "23\n",
      "24\n",
      "25\n",
      "26\n",
      "27\n",
      "28\n",
      "29\n",
      "30\n",
      "31\n",
      "32\n",
      "33\n",
      "34\n",
      "35\n",
      "36\n",
      "37\n",
      "38\n",
      "39\n",
      "40\n",
      "41\n",
      "42\n",
      "43\n",
      "44\n",
      "45\n",
      "46\n",
      "47\n",
      "48\n",
      "49\n"
     ]
    }
   ],
   "source": [
    "X_test_powershap = X_test[selected_features_powershap]\n",
    "X_train_powershap = X_train[selected_features_powershap]\n",
    "X_val_powershap = X_val[selected_features_powershap]\n",
    "for iteration in range(50):\n",
    "    print(iteration)\n",
    "    model = CatBoostRegressor(verbose=0, n_estimators=250,use_best_model=True, random_seed=seeds[iteration])\n",
    "    model.fit(\n",
    "        X_train_powershap, y_train,\n",
    "        eval_set=(X_val_powershap, y_val),\n",
    "        verbose = 0,\n",
    "        plot=False\n",
    "    );\n",
    "    \n",
    "    test_results = scores_calc_print(y_test, model.predict(X_test_powershap), print_bool=False)\n",
    "    \n",
    "    dict_results_powershap[\"r2\"].append(test_results[\"R2\"])\n",
    "    dict_results_powershap[\"rmse\"].append(test_results[\"RMSE\"])\n",
    "    dict_results_powershap[\"mae\"].append(test_results[\"MAE\"])"
   ]
  },
  {
   "cell_type": "code",
   "execution_count": 15,
   "metadata": {
    "ExecuteTime": {
     "end_time": "2023-01-03T15:40:19.538461Z",
     "start_time": "2023-01-03T15:40:19.525495Z"
    }
   },
   "outputs": [],
   "source": [
    "results_powershap_df = pd.DataFrame(dict_results_powershap)\n",
    "mean_powershap_test = results_powershap_df.mean()\n",
    "std_powershap_test = results_powershap_df.std()\n",
    "max_powershap_test = results_powershap_df.max()\n",
    "min_powershap_test = results_powershap_df.min()"
   ]
  },
  {
   "cell_type": "code",
   "execution_count": 16,
   "metadata": {
    "ExecuteTime": {
     "end_time": "2023-01-03T15:40:19.554418Z",
     "start_time": "2023-01-03T15:40:19.540457Z"
    }
   },
   "outputs": [
    {
     "data": {
      "text/plain": [
       "(rmse    81.848339\n",
       " mae     42.239443\n",
       " r2       0.387110\n",
       " dtype: float64,\n",
       " rmse    0.405236\n",
       " mae     0.232121\n",
       " r2      0.006071\n",
       " dtype: float64,\n",
       " rmse    82.787452\n",
       " mae     42.744082\n",
       " r2       0.399485\n",
       " dtype: float64,\n",
       " rmse    81.018772\n",
       " mae     41.709519\n",
       " r2       0.372980\n",
       " dtype: float64)"
      ]
     },
     "execution_count": 16,
     "metadata": {},
     "output_type": "execute_result"
    }
   ],
   "source": [
    "mean_powershap_test, std_powershap_test, max_powershap_test, min_powershap_test"
   ]
  },
  {
   "cell_type": "markdown",
   "metadata": {},
   "source": [
    "## BorutaSHAP"
   ]
  },
  {
   "cell_type": "code",
   "execution_count": 56,
   "metadata": {
    "ExecuteTime": {
     "end_time": "2023-01-02T14:59:44.421910Z",
     "start_time": "2023-01-02T14:55:38.862873Z"
    }
   },
   "outputs": [
    {
     "data": {
      "application/vnd.jupyter.widget-view+json": {
       "model_id": "e695910cfaad4ce582bc1cbedd40d265",
       "version_major": 2,
       "version_minor": 0
      },
      "text/plain": [
       "HBox(children=(HTML(value=''), FloatProgress(value=0.0, max=20.0), HTML(value='')))"
      ]
     },
     "metadata": {},
     "output_type": "display_data"
    },
    {
     "name": "stdout",
     "output_type": "stream",
     "text": [
      "\n",
      "24 attributes confirmed important: ['RH_4', 'RH_9', 'RH_out', 'T1', 'T2', 'lights', 'T_out', 'RH_3', 'RH_2', 'RH_7', 'RH_1', 'Windspeed', 'T3', 'RH_5', 'T6', 'T7', 'T8', 'T9', 'RH_8', 'Tdewpoint', 'T5', 'Press_mm_hg', 'RH_6', 'T4']\n",
      "3 attributes confirmed unimportant: ['rv1', 'rv2', 'Visibility']\n",
      "0 tentative attributes remains: []\n"
     ]
    }
   ],
   "source": [
    "model = CatBoostRegressor(verbose=0, n_estimators=250,use_best_model=False, random_seed = 123)\n",
    "\n",
    "# if classification is False it is a Regression problem\n",
    "Feature_Selector = BorutaShap(model=model,\n",
    "                              importance_measure='shap',\n",
    "                              classification=False)\n",
    "\n",
    "Feature_Selector.fit(X=X_train_val, y=y_train_val, sample=False,\n",
    "                        train_or_test = 'test', normalize=True,verbose=True)"
   ]
  },
  {
   "cell_type": "code",
   "execution_count": 57,
   "metadata": {
    "ExecuteTime": {
     "end_time": "2023-01-02T14:59:44.437929Z",
     "start_time": "2023-01-02T14:59:44.424902Z"
    }
   },
   "outputs": [
    {
     "data": {
      "text/plain": [
       "['Press_mm_hg',\n",
       " 'RH_1',\n",
       " 'RH_2',\n",
       " 'RH_3',\n",
       " 'RH_4',\n",
       " 'RH_5',\n",
       " 'RH_6',\n",
       " 'RH_7',\n",
       " 'RH_8',\n",
       " 'RH_9',\n",
       " 'RH_out',\n",
       " 'T1',\n",
       " 'T2',\n",
       " 'T3',\n",
       " 'T4',\n",
       " 'T5',\n",
       " 'T6',\n",
       " 'T7',\n",
       " 'T8',\n",
       " 'T9',\n",
       " 'T_out',\n",
       " 'Tdewpoint',\n",
       " 'Windspeed',\n",
       " 'lights']"
      ]
     },
     "execution_count": 57,
     "metadata": {},
     "output_type": "execute_result"
    }
   ],
   "source": [
    "subset = Feature_Selector.Subset()\n",
    "selected_features_borutashap = sorted(subset.columns.values)\n",
    "selected_features_borutashap"
   ]
  },
  {
   "cell_type": "code",
   "execution_count": 17,
   "metadata": {
    "ExecuteTime": {
     "end_time": "2023-01-03T15:40:19.569377Z",
     "start_time": "2023-01-03T15:40:19.556414Z"
    }
   },
   "outputs": [],
   "source": [
    "selected_features_borutashap = sorted(['RH_4', 'RH_9', 'RH_out', 'T1', 'T2', 'lights', 'T_out', 'RH_3', 'RH_2', 'RH_7', 'RH_1', 'Windspeed', 'T3', 'RH_5', 'T6', 'T7', 'T8', 'T9', 'RH_8', 'Tdewpoint', 'T5', 'Press_mm_hg', 'RH_6', 'T4'])"
   ]
  },
  {
   "cell_type": "code",
   "execution_count": 18,
   "metadata": {
    "ExecuteTime": {
     "end_time": "2023-01-03T15:40:19.585335Z",
     "start_time": "2023-01-03T15:40:19.571374Z"
    }
   },
   "outputs": [],
   "source": [
    "dict_results_borutashap = {'rmse':[], 'mae':[], 'r2':[]}"
   ]
  },
  {
   "cell_type": "code",
   "execution_count": 19,
   "metadata": {
    "ExecuteTime": {
     "end_time": "2023-01-03T15:41:17.044245Z",
     "start_time": "2023-01-03T15:40:19.587210Z"
    },
    "scrolled": true
   },
   "outputs": [
    {
     "name": "stdout",
     "output_type": "stream",
     "text": [
      "0\n",
      "1\n",
      "2\n",
      "3\n",
      "4\n",
      "5\n",
      "6\n",
      "7\n",
      "8\n",
      "9\n",
      "10\n",
      "11\n",
      "12\n",
      "13\n",
      "14\n",
      "15\n",
      "16\n",
      "17\n",
      "18\n",
      "19\n",
      "20\n",
      "21\n",
      "22\n",
      "23\n",
      "24\n",
      "25\n",
      "26\n",
      "27\n",
      "28\n",
      "29\n",
      "30\n",
      "31\n",
      "32\n",
      "33\n",
      "34\n",
      "35\n",
      "36\n",
      "37\n",
      "38\n",
      "39\n",
      "40\n",
      "41\n",
      "42\n",
      "43\n",
      "44\n",
      "45\n",
      "46\n",
      "47\n",
      "48\n",
      "49\n"
     ]
    }
   ],
   "source": [
    "X_test_borutashap = X_test[selected_features_borutashap]\n",
    "X_train_borutashap = X_train[selected_features_borutashap]\n",
    "X_val_borutashap = X_val[selected_features_borutashap]\n",
    "for iteration in range(50):\n",
    "    print(iteration)\n",
    "    model = CatBoostRegressor(verbose=0, n_estimators=250,use_best_model=True, random_seed=seeds[iteration])\n",
    "    model.fit(\n",
    "        X_train_borutashap, y_train,\n",
    "        eval_set=(X_val_borutashap, y_val),\n",
    "        verbose = 0,\n",
    "        plot=False\n",
    "    );\n",
    "    \n",
    "    test_results = scores_calc_print(y_test, model.predict(X_test_borutashap), print_bool=False)\n",
    "    \n",
    "    dict_results_borutashap[\"r2\"].append(test_results[\"R2\"])\n",
    "    dict_results_borutashap[\"rmse\"].append(test_results[\"RMSE\"])\n",
    "    dict_results_borutashap[\"mae\"].append(test_results[\"MAE\"])"
   ]
  },
  {
   "cell_type": "code",
   "execution_count": 20,
   "metadata": {
    "ExecuteTime": {
     "end_time": "2023-01-03T15:41:17.060202Z",
     "start_time": "2023-01-03T15:41:17.046241Z"
    }
   },
   "outputs": [],
   "source": [
    "results_borutashap_df = pd.DataFrame(dict_results_borutashap)\n",
    "mean_borutashap_test = results_borutashap_df.mean()\n",
    "std_borutashap_test = results_borutashap_df.std()\n",
    "max_borutashap_test = results_borutashap_df.max()\n",
    "min_borutashap_test = results_borutashap_df.min()"
   ]
  },
  {
   "cell_type": "code",
   "execution_count": 21,
   "metadata": {
    "ExecuteTime": {
     "end_time": "2023-01-03T15:41:17.076159Z",
     "start_time": "2023-01-03T15:41:17.063195Z"
    }
   },
   "outputs": [
    {
     "data": {
      "text/plain": [
       "(rmse    81.848339\n",
       " mae     42.239443\n",
       " r2       0.387110\n",
       " dtype: float64,\n",
       " rmse    0.405236\n",
       " mae     0.232121\n",
       " r2      0.006071\n",
       " dtype: float64,\n",
       " rmse    82.787452\n",
       " mae     42.744082\n",
       " r2       0.399485\n",
       " dtype: float64,\n",
       " rmse    81.018772\n",
       " mae     41.709519\n",
       " r2       0.372980\n",
       " dtype: float64)"
      ]
     },
     "execution_count": 21,
     "metadata": {},
     "output_type": "execute_result"
    }
   ],
   "source": [
    "mean_borutashap_test, std_borutashap_test, max_borutashap_test, min_borutashap_test"
   ]
  },
  {
   "cell_type": "markdown",
   "metadata": {},
   "source": [
    "## Shapicant"
   ]
  },
  {
   "cell_type": "code",
   "execution_count": 63,
   "metadata": {
    "ExecuteTime": {
     "end_time": "2023-01-02T15:17:37.419210Z",
     "start_time": "2023-01-02T15:05:04.037053Z"
    }
   },
   "outputs": [
    {
     "name": "stderr",
     "output_type": "stream",
     "text": [
      "Computing null SHAP values: 100%|████████████████████████████████████████████████████| 100/100 [12:33<00:00,  7.53s/it]\n"
     ]
    }
   ],
   "source": [
    "# LightGBM in RandomForest-like mode (with rows subsampling), without columns subsampling\n",
    "model = CatBoostRegressor(verbose=0, n_estimators=250,use_best_model=False, random_seed = 123)\n",
    "\n",
    "\n",
    "# This is the class (not its instance) of SHAP's TreeExplainer\n",
    "explainer_type = shap.TreeExplainer\n",
    "\n",
    "# Use PandasSelector with 100 iterations\n",
    "selector = shapicant.PandasSelector(model, explainer_type, random_state=42)\n",
    "\n",
    "# Run the feature selection\n",
    "# If we provide a validation set, SHAP values are computed on it, otherwise they are computed on the training set\n",
    "# We can also provide additional parameters to the underlying estimator's fit method through estimator_params\n",
    "selector.fit(X_train, y_train, X_validation=X_val)#, estimator_params={\"categorical_feature\": None})\n",
    "\n",
    "# Just get the features list\n",
    "selected_features = selector.get_features()\n",
    "\n",
    "# We can also get the p-values as pandas Series\n",
    "p_values = selector.p_values_\n",
    "\n",
    "selected_features_shapicant = sorted(np.array(selected_features))"
   ]
  },
  {
   "cell_type": "code",
   "execution_count": 64,
   "metadata": {
    "ExecuteTime": {
     "end_time": "2023-01-02T15:17:37.435202Z",
     "start_time": "2023-01-02T15:17:37.422202Z"
    }
   },
   "outputs": [
    {
     "data": {
      "text/plain": [
       "['Press_mm_hg',\n",
       " 'RH_1',\n",
       " 'RH_2',\n",
       " 'RH_6',\n",
       " 'RH_out',\n",
       " 'T1',\n",
       " 'T3',\n",
       " 'T4',\n",
       " 'Windspeed',\n",
       " 'lights']"
      ]
     },
     "execution_count": 64,
     "metadata": {},
     "output_type": "execute_result"
    }
   ],
   "source": [
    "selected_features_shapicant"
   ]
  },
  {
   "cell_type": "code",
   "execution_count": 22,
   "metadata": {
    "ExecuteTime": {
     "end_time": "2023-01-03T15:41:17.091977Z",
     "start_time": "2023-01-03T15:41:17.078019Z"
    }
   },
   "outputs": [],
   "source": [
    "selected_features_shapicant = sorted(['Press_mm_hg',\n",
    " 'RH_1',\n",
    " 'RH_2',\n",
    " 'RH_6',\n",
    " 'RH_out',\n",
    " 'T1',\n",
    " 'T3',\n",
    " 'T4',\n",
    " 'Windspeed',\n",
    " 'lights'])"
   ]
  },
  {
   "cell_type": "code",
   "execution_count": 23,
   "metadata": {
    "ExecuteTime": {
     "end_time": "2023-01-03T15:41:17.107934Z",
     "start_time": "2023-01-03T15:41:17.093973Z"
    }
   },
   "outputs": [],
   "source": [
    "dict_results_shapicant = {'rmse':[], 'mae':[], 'r2':[]}"
   ]
  },
  {
   "cell_type": "code",
   "execution_count": 24,
   "metadata": {
    "ExecuteTime": {
     "end_time": "2023-01-03T15:41:56.591328Z",
     "start_time": "2023-01-03T15:41:17.108932Z"
    },
    "scrolled": true
   },
   "outputs": [
    {
     "name": "stdout",
     "output_type": "stream",
     "text": [
      "0\n",
      "1\n",
      "2\n",
      "3\n",
      "4\n",
      "5\n",
      "6\n",
      "7\n",
      "8\n",
      "9\n",
      "10\n",
      "11\n",
      "12\n",
      "13\n",
      "14\n",
      "15\n",
      "16\n",
      "17\n",
      "18\n",
      "19\n",
      "20\n",
      "21\n",
      "22\n",
      "23\n",
      "24\n",
      "25\n",
      "26\n",
      "27\n",
      "28\n",
      "29\n",
      "30\n",
      "31\n",
      "32\n",
      "33\n",
      "34\n",
      "35\n",
      "36\n",
      "37\n",
      "38\n",
      "39\n",
      "40\n",
      "41\n",
      "42\n",
      "43\n",
      "44\n",
      "45\n",
      "46\n",
      "47\n",
      "48\n",
      "49\n"
     ]
    }
   ],
   "source": [
    "X_test_shapicant = X_test[selected_features_shapicant]\n",
    "X_train_shapicant= X_train[selected_features_shapicant]\n",
    "X_val_shapicant = X_val[selected_features_shapicant]\n",
    "for iteration in range(50):\n",
    "    print(iteration)\n",
    "    model = CatBoostRegressor(verbose=0, n_estimators=250,use_best_model=True, random_seed=seeds[iteration])\n",
    "    model.fit(\n",
    "        X_train_shapicant, y_train,\n",
    "        eval_set=(X_val_shapicant, y_val),\n",
    "        verbose = 0,\n",
    "        plot=False\n",
    "    );\n",
    "    \n",
    "    test_results = scores_calc_print(y_test, model.predict(X_test_shapicant), print_bool=False)\n",
    "    \n",
    "    dict_results_shapicant[\"r2\"].append(test_results[\"R2\"])\n",
    "    dict_results_shapicant[\"rmse\"].append(test_results[\"RMSE\"])\n",
    "    dict_results_shapicant[\"mae\"].append(test_results[\"MAE\"])"
   ]
  },
  {
   "cell_type": "code",
   "execution_count": 25,
   "metadata": {
    "ExecuteTime": {
     "end_time": "2023-01-03T15:41:56.606645Z",
     "start_time": "2023-01-03T15:41:56.593293Z"
    }
   },
   "outputs": [],
   "source": [
    "results_shapicant_df = pd.DataFrame(dict_results_shapicant)\n",
    "mean_shapicant_test = results_shapicant_df.mean()\n",
    "std_shapicant_test = results_shapicant_df.std()\n",
    "max_shapicant_test = results_shapicant_df.max()\n",
    "min_shapicant_test = results_shapicant_df.min()"
   ]
  },
  {
   "cell_type": "code",
   "execution_count": 26,
   "metadata": {
    "ExecuteTime": {
     "end_time": "2023-01-03T15:41:56.622181Z",
     "start_time": "2023-01-03T15:41:56.608666Z"
    }
   },
   "outputs": [
    {
     "data": {
      "text/plain": [
       "(rmse    84.736612\n",
       " mae     45.044876\n",
       " r2       0.343097\n",
       " dtype: float64,\n",
       " rmse    0.333896\n",
       " mae     0.221856\n",
       " r2      0.005180\n",
       " dtype: float64,\n",
       " rmse    85.566843\n",
       " mae     45.505549\n",
       " r2       0.354568\n",
       " dtype: float64,\n",
       " rmse    83.994154\n",
       " mae     44.662541\n",
       " r2       0.330172\n",
       " dtype: float64)"
      ]
     },
     "execution_count": 26,
     "metadata": {},
     "output_type": "execute_result"
    }
   ],
   "source": [
    "mean_shapicant_test, std_shapicant_test, max_shapicant_test, min_shapicant_test"
   ]
  },
  {
   "cell_type": "markdown",
   "metadata": {},
   "source": [
    "# Results"
   ]
  },
  {
   "cell_type": "code",
   "execution_count": 70,
   "metadata": {
    "ExecuteTime": {
     "end_time": "2023-01-02T15:19:56.194926Z",
     "start_time": "2023-01-02T15:19:56.183954Z"
    }
   },
   "outputs": [],
   "source": [
    "nombres = ['PowerSHAP', 'BorutaSHAP', 'Shapicant', 'SHAPEffects_075_025', 'SHAPEffects_08_02', 'SHAPEffects_085_015', 'SHAPEffects_09_01', 'SHAPEffects_095_005']"
   ]
  },
  {
   "cell_type": "markdown",
   "metadata": {},
   "source": [
    "## MAE"
   ]
  },
  {
   "cell_type": "code",
   "execution_count": 71,
   "metadata": {
    "ExecuteTime": {
     "end_time": "2023-01-02T15:19:56.224846Z",
     "start_time": "2023-01-02T15:19:56.198916Z"
    }
   },
   "outputs": [],
   "source": [
    "resultados_mae_mean = [mean_powershap_test['mae'], mean_borutashap_test['mae'], mean_shapicant_test['mae'], mean_shapeffects_075_025_test['mae'], mean_shapeffects_08_02_test['mae'], mean_shapeffects_085_015_test['mae'], mean_shapeffects_09_01_test['mae'], mean_shapeffects_095_005_test['mae']]\n",
    "resultados_mae_std = [std_powershap_test['mae'], std_borutashap_test['mae'], std_shapicant_test['mae'], std_shapeffects_075_025_test['mae'], std_shapeffects_08_02_test['mae'], std_shapeffects_085_015_test['mae'], std_shapeffects_09_01_test['mae'], std_shapeffects_095_005_test['mae']]\n",
    "resultados_mae_max = [max_powershap_test['mae'], max_borutashap_test['mae'], max_shapicant_test['mae'], max_shapeffects_075_025_test['mae'], max_shapeffects_08_02_test['mae'], max_shapeffects_085_015_test['mae'], max_shapeffects_09_01_test['mae'], max_shapeffects_095_005_test['mae']]\n",
    "resultados_mae_min = [min_powershap_test['mae'], min_borutashap_test['mae'], min_shapicant_test['mae'], min_shapeffects_075_025_test['mae'], min_shapeffects_08_02_test['mae'], min_shapeffects_085_015_test['mae'], min_shapeffects_09_01_test['mae'], min_shapeffects_095_005_test['mae']]"
   ]
  },
  {
   "cell_type": "code",
   "execution_count": 72,
   "metadata": {
    "ExecuteTime": {
     "end_time": "2023-01-02T15:19:56.787437Z",
     "start_time": "2023-01-02T15:19:56.226840Z"
    },
    "scrolled": false
   },
   "outputs": [
    {
     "data": {
      "text/plain": [
       "(40.0, 46.0)"
      ]
     },
     "execution_count": 72,
     "metadata": {},
     "output_type": "execute_result"
    },
    {
     "data": {
      "image/png": "[encoded data removed]",
      "text/plain": [
       "<Figure size 1440x720 with 1 Axes>"
      ]
     },
     "metadata": {},
     "output_type": "display_data"
    }
   ],
   "source": [
    "fig, ax = plt.subplots(1, 1, figsize = (20, 10))\n",
    "ax.bar(nombres, resultados_mae_mean, alpha = 0.7, width=0.3)\n",
    "ax.errorbar(nombres, resultados_mae_mean, resultados_mae_std, fmt='.', color='Black', elinewidth=2,capthick=10,errorevery=1, alpha=0.5, ms=4, capsize = 2)\n",
    "ax.plot(nombres, resultados_mae_max, color='red', alpha=0.8, linestyle='-', marker='.', markersize=10)\n",
    "ax.plot(nombres, resultados_mae_min, color='lime', alpha=0.8, linestyle='-', marker='.', markersize=10)\n",
    "ax.yaxis.grid(True,linestyle='--')\n",
    "ax.xaxis.grid(False)\n",
    "ax.title.set_text(\"MAE\")\n",
    "ax.title.set_size(15)\n",
    "for index,data in enumerate(resultados_mae_mean):\n",
    "    ax.text(x=index , y =data+0.01 , s=f\"{round(data, 3)}\" , fontdict=dict(fontsize=10), ha='center')\n",
    "ax.set_ylim([40, 46])"
   ]
  },
  {
   "cell_type": "markdown",
   "metadata": {},
   "source": [
    "## RMSE"
   ]
  },
  {
   "cell_type": "code",
   "execution_count": 73,
   "metadata": {
    "ExecuteTime": {
     "end_time": "2023-01-02T15:19:56.803428Z",
     "start_time": "2023-01-02T15:19:56.789432Z"
    }
   },
   "outputs": [],
   "source": [
    "resultados_rmse_mean = [mean_powershap_test['rmse'], mean_borutashap_test['rmse'], mean_shapicant_test['rmse'], mean_shapeffects_075_025_test['rmse'], mean_shapeffects_08_02_test['rmse'], mean_shapeffects_085_015_test['rmse'], mean_shapeffects_09_01_test['rmse'], mean_shapeffects_095_005_test['rmse']]\n",
    "resultados_rmse_std = [std_powershap_test['rmse'], std_borutashap_test['rmse'], std_shapicant_test['rmse'], std_shapeffects_075_025_test['rmse'], std_shapeffects_08_02_test['rmse'], std_shapeffects_085_015_test['rmse'], std_shapeffects_09_01_test['rmse'], std_shapeffects_095_005_test['rmse']]\n",
    "resultados_rmse_max = [max_powershap_test['rmse'], max_borutashap_test['rmse'], max_shapicant_test['rmse'], max_shapeffects_075_025_test['rmse'], max_shapeffects_08_02_test['rmse'], max_shapeffects_085_015_test['rmse'], max_shapeffects_09_01_test['rmse'], max_shapeffects_095_005_test['rmse']]\n",
    "resultados_rmse_min = [min_powershap_test['rmse'], min_borutashap_test['rmse'], min_shapicant_test['rmse'], min_shapeffects_075_025_test['rmse'], min_shapeffects_08_02_test['rmse'], min_shapeffects_085_015_test['rmse'], min_shapeffects_09_01_test['rmse'], min_shapeffects_095_005_test['rmse']]"
   ]
  },
  {
   "cell_type": "code",
   "execution_count": 74,
   "metadata": {
    "ExecuteTime": {
     "end_time": "2023-01-02T15:19:57.201436Z",
     "start_time": "2023-01-02T15:19:56.805941Z"
    },
    "scrolled": false
   },
   "outputs": [
    {
     "data": {
      "text/plain": [
       "(80.0, 86.0)"
      ]
     },
     "execution_count": 74,
     "metadata": {},
     "output_type": "execute_result"
    },
    {
     "data": {
      "image/png": "[encoded data removed]",
      "text/plain": [
       "<Figure size 1440x720 with 1 Axes>"
      ]
     },
     "metadata": {},
     "output_type": "display_data"
    }
   ],
   "source": [
    "fig, ax = plt.subplots(1, 1, figsize = (20, 10))\n",
    "ax.bar(nombres, resultados_rmse_mean, alpha = 0.7, width=0.3)\n",
    "ax.errorbar(nombres, resultados_rmse_mean, resultados_rmse_std, fmt='.', color='Black', elinewidth=2,capthick=10,errorevery=1, alpha=0.5, ms=4, capsize = 2)\n",
    "ax.plot(nombres, resultados_rmse_max, color='red', alpha=0.8, linestyle='-', marker='.', markersize=10)\n",
    "ax.plot(nombres, resultados_rmse_min, color='lime', alpha=0.8, linestyle='-', marker='.', markersize=10)\n",
    "ax.yaxis.grid(True,linestyle='--')\n",
    "ax.xaxis.grid(False)\n",
    "ax.title.set_text(\"RMSE\")\n",
    "ax.title.set_size(15)\n",
    "for index,data in enumerate(resultados_rmse_mean):\n",
    "    ax.text(x=index , y =data+0.01 , s=f\"{round(data, 3)}\" , fontdict=dict(fontsize=10), ha='center')\n",
    "ax.set_ylim([80, 86])"
   ]
  },
  {
   "cell_type": "markdown",
   "metadata": {},
   "source": [
    "## R2"
   ]
  },
  {
   "cell_type": "code",
   "execution_count": 75,
   "metadata": {
    "ExecuteTime": {
     "end_time": "2023-01-02T15:19:57.217559Z",
     "start_time": "2023-01-02T15:19:57.203431Z"
    }
   },
   "outputs": [],
   "source": [
    "resultados_r2_mean = [mean_powershap_test['r2'], mean_borutashap_test['r2'], mean_shapicant_test['r2'], mean_shapeffects_075_025_test['r2'], mean_shapeffects_08_02_test['r2'], mean_shapeffects_085_015_test['r2'], mean_shapeffects_09_01_test['r2'], mean_shapeffects_095_005_test['r2']]\n",
    "resultados_r2_std = [std_powershap_test['r2'], std_borutashap_test['r2'], std_shapicant_test['r2'], std_shapeffects_075_025_test['r2'], std_shapeffects_08_02_test['r2'], std_shapeffects_085_015_test['r2'], std_shapeffects_09_01_test['r2'], std_shapeffects_095_005_test['r2']]\n",
    "resultados_r2_max = [max_powershap_test['r2'], max_borutashap_test['r2'], max_shapicant_test['r2'], max_shapeffects_075_025_test['r2'], max_shapeffects_08_02_test['r2'], max_shapeffects_085_015_test['r2'], max_shapeffects_09_01_test['r2'], max_shapeffects_095_005_test['r2']]\n",
    "resultados_r2_min = [min_powershap_test['r2'], min_borutashap_test['r2'], min_shapicant_test['r2'], min_shapeffects_075_025_test['r2'], min_shapeffects_08_02_test['r2'], min_shapeffects_085_015_test['r2'], min_shapeffects_09_01_test['r2'], min_shapeffects_095_005_test['r2']]"
   ]
  },
  {
   "cell_type": "code",
   "execution_count": 76,
   "metadata": {
    "ExecuteTime": {
     "end_time": "2023-01-02T15:19:57.232386Z",
     "start_time": "2023-01-02T15:19:57.219420Z"
    }
   },
   "outputs": [
    {
     "data": {
      "text/plain": [
       "([0.39948504396234763,\n",
       "  0.39948504396234763,\n",
       "  0.3545677857610604,\n",
       "  0.38524360248334777,\n",
       "  0.38524360248334777,\n",
       "  0.38524360248334777,\n",
       "  0.39686393577813384,\n",
       "  0.38487216155522674],\n",
       " [0.37297978593329784,\n",
       "  0.37297978593329784,\n",
       "  0.33017164086078477,\n",
       "  0.364034334587526,\n",
       "  0.364034334587526,\n",
       "  0.364034334587526,\n",
       "  0.3760166550502072,\n",
       "  0.35386180918552557])"
      ]
     },
     "execution_count": 76,
     "metadata": {},
     "output_type": "execute_result"
    }
   ],
   "source": [
    "resultados_r2_max, resultados_r2_min"
   ]
  },
  {
   "cell_type": "code",
   "execution_count": 77,
   "metadata": {
    "ExecuteTime": {
     "end_time": "2023-01-02T15:19:57.657414Z",
     "start_time": "2023-01-02T15:19:57.234379Z"
    }
   },
   "outputs": [
    {
     "data": {
      "text/plain": [
       "(0.3, 0.5)"
      ]
     },
     "execution_count": 77,
     "metadata": {},
     "output_type": "execute_result"
    },
    {
     "data": {
      "image/png": "[encoded data removed]",
      "text/plain": [
       "<Figure size 1440x720 with 1 Axes>"
      ]
     },
     "metadata": {},
     "output_type": "display_data"
    }
   ],
   "source": [
    "fig, ax = plt.subplots(1, 1, figsize = (20, 10))\n",
    "ax.bar(nombres, resultados_r2_mean, alpha = 0.7, width=0.3)\n",
    "ax.errorbar(nombres, resultados_r2_mean, resultados_r2_std, fmt='.', color='Black', elinewidth=2,capthick=10,errorevery=1, alpha=0.5, ms=4, capsize = 2)\n",
    "ax.plot(nombres, resultados_r2_max, color='lime', alpha=0.8, linestyle='-', marker='.', markersize=10)\n",
    "ax.plot(nombres, resultados_r2_min, color='red', alpha=0.8, linestyle='-', marker='.', markersize=10)\n",
    "ax.yaxis.grid(True,linestyle='--')\n",
    "ax.xaxis.grid(False)\n",
    "ax.title.set_text(\"R2\")\n",
    "ax.title.set_size(15)\n",
    "for index,data in enumerate(resultados_r2_mean):\n",
    "    ax.text(x=index , y =data+0.001 , s=f\"{round(data, 3)}\" , fontdict=dict(fontsize=10), ha='center')\n",
    "ax.set_ylim([0.3, 0.5])"
   ]
  },
  {
   "cell_type": "markdown",
   "metadata": {},
   "source": [
    "## Number of variables"
   ]
  },
  {
   "cell_type": "code",
   "execution_count": 78,
   "metadata": {
    "ExecuteTime": {
     "end_time": "2023-01-02T15:19:57.672408Z",
     "start_time": "2023-01-02T15:19:57.659409Z"
    }
   },
   "outputs": [],
   "source": [
    "n_var = [len(selected_features_powershap), len(selected_features_borutashap), len(selected_features_shapicant), len(selected_features_shapeffects_075_025), len(selected_features_shapeffects_08_02), len(selected_features_shapeffects_085_015), len(selected_features_shapeffects_09_01), len(selected_features_shapeffects_095_005)]"
   ]
  },
  {
   "cell_type": "code",
   "execution_count": 79,
   "metadata": {
    "ExecuteTime": {
     "end_time": "2023-01-02T15:19:58.049455Z",
     "start_time": "2023-01-02T15:19:57.675400Z"
    }
   },
   "outputs": [
    {
     "data": {
      "text/plain": [
       "(0.0, 28.0)"
      ]
     },
     "execution_count": 79,
     "metadata": {},
     "output_type": "execute_result"
    },
    {
     "data": {
      "image/png": "[encoded data removed]",
      "text/plain": [
       "<Figure size 1440x720 with 1 Axes>"
      ]
     },
     "metadata": {},
     "output_type": "display_data"
    }
   ],
   "source": [
    "fig, ax = plt.subplots(1, 1, figsize = (20, 10))\n",
    "bars = ax.bar(nombres, n_var, alpha = 0.7, width=0.3)\n",
    "ax.yaxis.grid(True,linestyle='--')\n",
    "ax.xaxis.grid(False)\n",
    "ax.title.set_text(\"N Var\")\n",
    "ax.title.set_size(15)\n",
    "for index,data in enumerate(n_var):\n",
    "    ax.text(x=index , y =data+0.01 , s=f\"{round(data, 3)}\" , fontdict=dict(fontsize=10), ha='center')\n",
    "ax.set_ylim([0, 28])"
   ]
  }
 ],
 "metadata": {
  "kernelspec": {
   "display_name": "BrainEN_v1",
   "language": "python",
   "name": "brainen_v1"
  },
  "language_info": {
   "codemirror_mode": {
    "name": "ipython",
    "version": 3
   },
   "file_extension": ".py",
   "mimetype": "text/x-python",
   "name": "python",
   "nbconvert_exporter": "python",
   "pygments_lexer": "ipython3",
   "version": "3.9.7"
  }
 },
 "nbformat": 4,
 "nbformat_minor": 4
}
