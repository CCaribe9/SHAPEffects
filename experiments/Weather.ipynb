{
 "cells": [
  {
   "cell_type": "markdown",
   "metadata": {},
   "source": [
    "### Libraries and functions"
   ]
  },
  {
   "cell_type": "code",
   "execution_count": 1,
   "metadata": {
    "ExecuteTime": {
     "end_time": "2023-01-04T12:33:58.714133Z",
     "start_time": "2023-01-04T12:33:56.406343Z"
    }
   },
   "outputs": [
    {
     "name": "stderr",
     "output_type": "stream",
     "text": [
      "C:\\Users\\csebastian\\.conda\\envs\\BrainEN_v1\\lib\\site-packages\\tqdm\\auto.py:22: TqdmWarning: IProgress not found. Please update jupyter and ipywidgets. See https://ipywidgets.readthedocs.io/en/stable/user_install.html\n",
      "  from .autonotebook import tqdm as notebook_tqdm\n"
     ]
    }
   ],
   "source": [
    "import pandas as pd\n",
    "import numpy as np\n",
    "from catboost import CatBoostRegressor\n",
    "from sklearn.model_selection import train_test_split\n",
    "from sklearn.metrics import r2_score,mean_squared_error, mean_absolute_error\n",
    "from tabulate import tabulate\n",
    "import seaborn as sns\n",
    "import matplotlib.pyplot as plt\n",
    "from BorutaShap import BorutaShap\n",
    "from powershap  import PowerShap\n",
    "import shapicant\n",
    "from tqdm import tqdm\n",
    "from SHAPEffects import FeatureSelector\n",
    "import random\n",
    "import shap\n",
    "import os\n",
    "os.environ['PYTHONHASHSEED'] = str(1234)\n",
    "random.seed(1234)\n",
    "np.random.seed(1234)\n",
    "plt.style.use('seaborn-whitegrid')\n",
    "plt.rcParams['font.family'] = 'serif'"
   ]
  },
  {
   "cell_type": "code",
   "execution_count": 2,
   "metadata": {
    "ExecuteTime": {
     "end_time": "2023-01-04T12:33:58.725384Z",
     "start_time": "2023-01-04T12:33:58.714570Z"
    }
   },
   "outputs": [],
   "source": [
    "# Taken from PowerSHAP paper\n",
    "def scores_calc_print(Y,Y_pred,print_bool):\n",
    "    if len(Y_pred) > 1:\n",
    "        R2_total = r2_score(Y,Y_pred)\n",
    "    else:\n",
    "        R2_total = -1\n",
    "    RMSE_total = mean_squared_error(Y,Y_pred, squared=False)\n",
    "    MAE_total = mean_absolute_error(Y,Y_pred)\n",
    "    \n",
    "    if print_bool:\n",
    "        print(tabulate([[RMSE_total, MAE_total,R2_total]], [\"RMSE\",\"MAE\",\"R²\"], tablefmt=\"grid\"))\n",
    "    else:\n",
    "        return {\"R2\":R2_total,\"RMSE\":RMSE_total,\"MAE\":MAE_total}"
   ]
  },
  {
   "cell_type": "markdown",
   "metadata": {},
   "source": [
    "### Lectura de datos"
   ]
  },
  {
   "cell_type": "code",
   "execution_count": 3,
   "metadata": {
    "ExecuteTime": {
     "end_time": "2023-01-04T12:34:44.788585Z",
     "start_time": "2023-01-04T12:33:58.728833Z"
    }
   },
   "outputs": [],
   "source": [
    "current_db = pd.read_csv(r\"Data/max_planck_weather_ts.csv\")\n",
    "current_db['Date Time'] = pd.to_datetime(current_db['Date Time'])"
   ]
  },
  {
   "cell_type": "code",
   "execution_count": 4,
   "metadata": {
    "ExecuteTime": {
     "end_time": "2023-01-04T12:34:44.804053Z",
     "start_time": "2023-01-04T12:34:44.788585Z"
    }
   },
   "outputs": [],
   "source": [
    "current_db.columns = ['fecha_completa', 'presion', 'temperatura', 'temperaturaK', 'temperaturaDew', 'humedad_relativa', 'VPmax', 'VPact', 'VPdef', 'humedad_especifica', 'concentracion_vapor_agua', 'rho', 'velocidad_viento', 'max_valocidad_viento', 'direccion_viento']"
   ]
  },
  {
   "cell_type": "code",
   "execution_count": 5,
   "metadata": {
    "ExecuteTime": {
     "end_time": "2023-01-04T12:34:44.848502Z",
     "start_time": "2023-01-04T12:34:44.806369Z"
    }
   },
   "outputs": [
    {
     "data": {
      "text/html": [
       "<div>\n",
       "<style scoped>\n",
       "    .dataframe tbody tr th:only-of-type {\n",
       "        vertical-align: middle;\n",
       "    }\n",
       "\n",
       "    .dataframe tbody tr th {\n",
       "        vertical-align: top;\n",
       "    }\n",
       "\n",
       "    .dataframe thead th {\n",
       "        text-align: right;\n",
       "    }\n",
       "</style>\n",
       "<table border=\"1\" class=\"dataframe\">\n",
       "  <thead>\n",
       "    <tr style=\"text-align: right;\">\n",
       "      <th></th>\n",
       "      <th>fecha_completa</th>\n",
       "      <th>presion</th>\n",
       "      <th>temperatura</th>\n",
       "      <th>temperaturaK</th>\n",
       "      <th>temperaturaDew</th>\n",
       "      <th>humedad_relativa</th>\n",
       "      <th>VPmax</th>\n",
       "      <th>VPact</th>\n",
       "      <th>VPdef</th>\n",
       "      <th>humedad_especifica</th>\n",
       "      <th>concentracion_vapor_agua</th>\n",
       "      <th>rho</th>\n",
       "      <th>velocidad_viento</th>\n",
       "      <th>max_valocidad_viento</th>\n",
       "      <th>direccion_viento</th>\n",
       "    </tr>\n",
       "  </thead>\n",
       "  <tbody>\n",
       "    <tr>\n",
       "      <th>0</th>\n",
       "      <td>2009-01-01 00:10:00</td>\n",
       "      <td>996.52</td>\n",
       "      <td>-8.02</td>\n",
       "      <td>265.40</td>\n",
       "      <td>-8.90</td>\n",
       "      <td>93.30</td>\n",
       "      <td>3.33</td>\n",
       "      <td>3.11</td>\n",
       "      <td>0.22</td>\n",
       "      <td>1.94</td>\n",
       "      <td>3.12</td>\n",
       "      <td>1307.75</td>\n",
       "      <td>1.03</td>\n",
       "      <td>1.75</td>\n",
       "      <td>152.3</td>\n",
       "    </tr>\n",
       "    <tr>\n",
       "      <th>1</th>\n",
       "      <td>2009-01-01 00:20:00</td>\n",
       "      <td>996.57</td>\n",
       "      <td>-8.41</td>\n",
       "      <td>265.01</td>\n",
       "      <td>-9.28</td>\n",
       "      <td>93.40</td>\n",
       "      <td>3.23</td>\n",
       "      <td>3.02</td>\n",
       "      <td>0.21</td>\n",
       "      <td>1.89</td>\n",
       "      <td>3.03</td>\n",
       "      <td>1309.80</td>\n",
       "      <td>0.72</td>\n",
       "      <td>1.50</td>\n",
       "      <td>136.1</td>\n",
       "    </tr>\n",
       "    <tr>\n",
       "      <th>2</th>\n",
       "      <td>2009-01-01 00:30:00</td>\n",
       "      <td>996.53</td>\n",
       "      <td>-8.51</td>\n",
       "      <td>264.91</td>\n",
       "      <td>-9.31</td>\n",
       "      <td>93.90</td>\n",
       "      <td>3.21</td>\n",
       "      <td>3.01</td>\n",
       "      <td>0.20</td>\n",
       "      <td>1.88</td>\n",
       "      <td>3.02</td>\n",
       "      <td>1310.24</td>\n",
       "      <td>0.19</td>\n",
       "      <td>0.63</td>\n",
       "      <td>171.6</td>\n",
       "    </tr>\n",
       "    <tr>\n",
       "      <th>3</th>\n",
       "      <td>2009-01-01 00:40:00</td>\n",
       "      <td>996.51</td>\n",
       "      <td>-8.31</td>\n",
       "      <td>265.12</td>\n",
       "      <td>-9.07</td>\n",
       "      <td>94.20</td>\n",
       "      <td>3.26</td>\n",
       "      <td>3.07</td>\n",
       "      <td>0.19</td>\n",
       "      <td>1.92</td>\n",
       "      <td>3.08</td>\n",
       "      <td>1309.19</td>\n",
       "      <td>0.34</td>\n",
       "      <td>0.50</td>\n",
       "      <td>198.0</td>\n",
       "    </tr>\n",
       "    <tr>\n",
       "      <th>4</th>\n",
       "      <td>2009-01-01 00:50:00</td>\n",
       "      <td>996.51</td>\n",
       "      <td>-8.27</td>\n",
       "      <td>265.15</td>\n",
       "      <td>-9.04</td>\n",
       "      <td>94.10</td>\n",
       "      <td>3.27</td>\n",
       "      <td>3.08</td>\n",
       "      <td>0.19</td>\n",
       "      <td>1.92</td>\n",
       "      <td>3.09</td>\n",
       "      <td>1309.00</td>\n",
       "      <td>0.32</td>\n",
       "      <td>0.63</td>\n",
       "      <td>214.3</td>\n",
       "    </tr>\n",
       "    <tr>\n",
       "      <th>...</th>\n",
       "      <td>...</td>\n",
       "      <td>...</td>\n",
       "      <td>...</td>\n",
       "      <td>...</td>\n",
       "      <td>...</td>\n",
       "      <td>...</td>\n",
       "      <td>...</td>\n",
       "      <td>...</td>\n",
       "      <td>...</td>\n",
       "      <td>...</td>\n",
       "      <td>...</td>\n",
       "      <td>...</td>\n",
       "      <td>...</td>\n",
       "      <td>...</td>\n",
       "      <td>...</td>\n",
       "    </tr>\n",
       "    <tr>\n",
       "      <th>420546</th>\n",
       "      <td>2016-12-31 23:20:00</td>\n",
       "      <td>1000.07</td>\n",
       "      <td>-4.05</td>\n",
       "      <td>269.10</td>\n",
       "      <td>-8.13</td>\n",
       "      <td>73.10</td>\n",
       "      <td>4.52</td>\n",
       "      <td>3.30</td>\n",
       "      <td>1.22</td>\n",
       "      <td>2.06</td>\n",
       "      <td>3.30</td>\n",
       "      <td>1292.98</td>\n",
       "      <td>0.67</td>\n",
       "      <td>1.52</td>\n",
       "      <td>240.0</td>\n",
       "    </tr>\n",
       "    <tr>\n",
       "      <th>420547</th>\n",
       "      <td>2016-12-31 23:30:00</td>\n",
       "      <td>999.93</td>\n",
       "      <td>-3.35</td>\n",
       "      <td>269.81</td>\n",
       "      <td>-8.06</td>\n",
       "      <td>69.71</td>\n",
       "      <td>4.77</td>\n",
       "      <td>3.32</td>\n",
       "      <td>1.44</td>\n",
       "      <td>2.07</td>\n",
       "      <td>3.32</td>\n",
       "      <td>1289.44</td>\n",
       "      <td>1.14</td>\n",
       "      <td>1.92</td>\n",
       "      <td>234.3</td>\n",
       "    </tr>\n",
       "    <tr>\n",
       "      <th>420548</th>\n",
       "      <td>2016-12-31 23:40:00</td>\n",
       "      <td>999.82</td>\n",
       "      <td>-3.16</td>\n",
       "      <td>270.01</td>\n",
       "      <td>-8.21</td>\n",
       "      <td>67.91</td>\n",
       "      <td>4.84</td>\n",
       "      <td>3.28</td>\n",
       "      <td>1.55</td>\n",
       "      <td>2.05</td>\n",
       "      <td>3.28</td>\n",
       "      <td>1288.39</td>\n",
       "      <td>1.08</td>\n",
       "      <td>2.00</td>\n",
       "      <td>215.2</td>\n",
       "    </tr>\n",
       "    <tr>\n",
       "      <th>420549</th>\n",
       "      <td>2016-12-31 23:50:00</td>\n",
       "      <td>999.81</td>\n",
       "      <td>-4.23</td>\n",
       "      <td>268.94</td>\n",
       "      <td>-8.53</td>\n",
       "      <td>71.80</td>\n",
       "      <td>4.46</td>\n",
       "      <td>3.20</td>\n",
       "      <td>1.26</td>\n",
       "      <td>1.99</td>\n",
       "      <td>3.20</td>\n",
       "      <td>1293.56</td>\n",
       "      <td>1.49</td>\n",
       "      <td>2.16</td>\n",
       "      <td>225.8</td>\n",
       "    </tr>\n",
       "    <tr>\n",
       "      <th>420550</th>\n",
       "      <td>2017-01-01 00:00:00</td>\n",
       "      <td>999.82</td>\n",
       "      <td>-4.82</td>\n",
       "      <td>268.36</td>\n",
       "      <td>-8.42</td>\n",
       "      <td>75.70</td>\n",
       "      <td>4.27</td>\n",
       "      <td>3.23</td>\n",
       "      <td>1.04</td>\n",
       "      <td>2.01</td>\n",
       "      <td>3.23</td>\n",
       "      <td>1296.38</td>\n",
       "      <td>1.23</td>\n",
       "      <td>1.96</td>\n",
       "      <td>184.9</td>\n",
       "    </tr>\n",
       "  </tbody>\n",
       "</table>\n",
       "<p>420551 rows × 15 columns</p>\n",
       "</div>"
      ],
      "text/plain": [
       "            fecha_completa  presion  temperatura  temperaturaK  \\\n",
       "0      2009-01-01 00:10:00   996.52        -8.02        265.40   \n",
       "1      2009-01-01 00:20:00   996.57        -8.41        265.01   \n",
       "2      2009-01-01 00:30:00   996.53        -8.51        264.91   \n",
       "3      2009-01-01 00:40:00   996.51        -8.31        265.12   \n",
       "4      2009-01-01 00:50:00   996.51        -8.27        265.15   \n",
       "...                    ...      ...          ...           ...   \n",
       "420546 2016-12-31 23:20:00  1000.07        -4.05        269.10   \n",
       "420547 2016-12-31 23:30:00   999.93        -3.35        269.81   \n",
       "420548 2016-12-31 23:40:00   999.82        -3.16        270.01   \n",
       "420549 2016-12-31 23:50:00   999.81        -4.23        268.94   \n",
       "420550 2017-01-01 00:00:00   999.82        -4.82        268.36   \n",
       "\n",
       "        temperaturaDew  humedad_relativa  VPmax  VPact  VPdef  \\\n",
       "0                -8.90             93.30   3.33   3.11   0.22   \n",
       "1                -9.28             93.40   3.23   3.02   0.21   \n",
       "2                -9.31             93.90   3.21   3.01   0.20   \n",
       "3                -9.07             94.20   3.26   3.07   0.19   \n",
       "4                -9.04             94.10   3.27   3.08   0.19   \n",
       "...                ...               ...    ...    ...    ...   \n",
       "420546           -8.13             73.10   4.52   3.30   1.22   \n",
       "420547           -8.06             69.71   4.77   3.32   1.44   \n",
       "420548           -8.21             67.91   4.84   3.28   1.55   \n",
       "420549           -8.53             71.80   4.46   3.20   1.26   \n",
       "420550           -8.42             75.70   4.27   3.23   1.04   \n",
       "\n",
       "        humedad_especifica  concentracion_vapor_agua      rho  \\\n",
       "0                     1.94                      3.12  1307.75   \n",
       "1                     1.89                      3.03  1309.80   \n",
       "2                     1.88                      3.02  1310.24   \n",
       "3                     1.92                      3.08  1309.19   \n",
       "4                     1.92                      3.09  1309.00   \n",
       "...                    ...                       ...      ...   \n",
       "420546                2.06                      3.30  1292.98   \n",
       "420547                2.07                      3.32  1289.44   \n",
       "420548                2.05                      3.28  1288.39   \n",
       "420549                1.99                      3.20  1293.56   \n",
       "420550                2.01                      3.23  1296.38   \n",
       "\n",
       "        velocidad_viento  max_valocidad_viento  direccion_viento  \n",
       "0                   1.03                  1.75             152.3  \n",
       "1                   0.72                  1.50             136.1  \n",
       "2                   0.19                  0.63             171.6  \n",
       "3                   0.34                  0.50             198.0  \n",
       "4                   0.32                  0.63             214.3  \n",
       "...                  ...                   ...               ...  \n",
       "420546              0.67                  1.52             240.0  \n",
       "420547              1.14                  1.92             234.3  \n",
       "420548              1.08                  2.00             215.2  \n",
       "420549              1.49                  2.16             225.8  \n",
       "420550              1.23                  1.96             184.9  \n",
       "\n",
       "[420551 rows x 15 columns]"
      ]
     },
     "execution_count": 5,
     "metadata": {},
     "output_type": "execute_result"
    }
   ],
   "source": [
    "current_db"
   ]
  },
  {
   "cell_type": "code",
   "execution_count": 6,
   "metadata": {
    "ExecuteTime": {
     "end_time": "2023-01-04T12:34:45.382971Z",
     "start_time": "2023-01-04T12:34:44.850204Z"
    }
   },
   "outputs": [],
   "source": [
    "current_db = current_db[~current_db.duplicated()]"
   ]
  },
  {
   "cell_type": "code",
   "execution_count": 7,
   "metadata": {
    "ExecuteTime": {
     "end_time": "2023-01-04T12:34:45.441034Z",
     "start_time": "2023-01-04T12:34:45.382971Z"
    }
   },
   "outputs": [],
   "source": [
    "current_db['hora'] = current_db.fecha_completa.dt.hour\n",
    "current_db['mes'] = current_db.fecha_completa.dt.month"
   ]
  },
  {
   "cell_type": "code",
   "execution_count": 8,
   "metadata": {
    "ExecuteTime": {
     "end_time": "2023-01-04T12:34:45.502176Z",
     "start_time": "2023-01-04T12:34:45.443023Z"
    }
   },
   "outputs": [],
   "source": [
    "current_db = current_db[(current_db.fecha_completa.dt.minute == 0)]\n",
    "current_db = current_db.drop('temperaturaK', axis = 1)\n",
    "current_db = current_db.reset_index(drop=True)"
   ]
  },
  {
   "cell_type": "code",
   "execution_count": 9,
   "metadata": {
    "ExecuteTime": {
     "end_time": "2023-01-04T12:34:45.517258Z",
     "start_time": "2023-01-04T12:34:45.503259Z"
    }
   },
   "outputs": [],
   "source": [
    "lags = sorted(([24, 48, 72, 96, 120, 144, 168])*len(current_db.columns))"
   ]
  },
  {
   "cell_type": "code",
   "execution_count": 10,
   "metadata": {
    "ExecuteTime": {
     "end_time": "2023-01-04T12:34:45.580794Z",
     "start_time": "2023-01-04T12:34:45.520259Z"
    }
   },
   "outputs": [],
   "source": [
    "for col, lag in list(zip(list(current_db.columns)*6, lags)):\n",
    "    if col not in ['fecha_completa', 'hora', 'mes']:\n",
    "        current_db[col+\"_\"+str(lag)] = current_db[col].shift(lag)"
   ]
  },
  {
   "cell_type": "code",
   "execution_count": 11,
   "metadata": {
    "ExecuteTime": {
     "end_time": "2023-01-04T12:34:45.697741Z",
     "start_time": "2023-01-04T12:34:45.582011Z"
    }
   },
   "outputs": [],
   "source": [
    "current_db = current_db.dropna()"
   ]
  },
  {
   "cell_type": "code",
   "execution_count": 12,
   "metadata": {
    "ExecuteTime": {
     "end_time": "2023-01-04T12:34:45.786781Z",
     "start_time": "2023-01-04T12:34:45.699898Z"
    }
   },
   "outputs": [
    {
     "data": {
      "text/html": [
       "<div>\n",
       "<style scoped>\n",
       "    .dataframe tbody tr th:only-of-type {\n",
       "        vertical-align: middle;\n",
       "    }\n",
       "\n",
       "    .dataframe tbody tr th {\n",
       "        vertical-align: top;\n",
       "    }\n",
       "\n",
       "    .dataframe thead th {\n",
       "        text-align: right;\n",
       "    }\n",
       "</style>\n",
       "<table border=\"1\" class=\"dataframe\">\n",
       "  <thead>\n",
       "    <tr style=\"text-align: right;\">\n",
       "      <th></th>\n",
       "      <th>fecha_completa</th>\n",
       "      <th>velocidad_viento</th>\n",
       "      <th>hora</th>\n",
       "      <th>mes</th>\n",
       "      <th>presion_24</th>\n",
       "      <th>temperatura_24</th>\n",
       "      <th>temperaturaDew_24</th>\n",
       "      <th>humedad_relativa_24</th>\n",
       "      <th>VPmax_24</th>\n",
       "      <th>VPact_24</th>\n",
       "      <th>...</th>\n",
       "      <th>humedad_relativa_144</th>\n",
       "      <th>VPmax_144</th>\n",
       "      <th>VPact_144</th>\n",
       "      <th>VPdef_144</th>\n",
       "      <th>humedad_especifica_144</th>\n",
       "      <th>concentracion_vapor_agua_144</th>\n",
       "      <th>rho_144</th>\n",
       "      <th>velocidad_viento_144</th>\n",
       "      <th>max_valocidad_viento_144</th>\n",
       "      <th>direccion_viento_144</th>\n",
       "    </tr>\n",
       "  </thead>\n",
       "  <tbody>\n",
       "    <tr>\n",
       "      <th>144</th>\n",
       "      <td>2009-07-01 01:00:00</td>\n",
       "      <td>0.68</td>\n",
       "      <td>1</td>\n",
       "      <td>7</td>\n",
       "      <td>997.71</td>\n",
       "      <td>-13.34</td>\n",
       "      <td>-15.46</td>\n",
       "      <td>83.9</td>\n",
       "      <td>2.18</td>\n",
       "      <td>1.83</td>\n",
       "      <td>...</td>\n",
       "      <td>94.4</td>\n",
       "      <td>3.33</td>\n",
       "      <td>3.14</td>\n",
       "      <td>0.19</td>\n",
       "      <td>1.96</td>\n",
       "      <td>3.15</td>\n",
       "      <td>1307.86</td>\n",
       "      <td>0.21</td>\n",
       "      <td>0.63</td>\n",
       "      <td>192.7</td>\n",
       "    </tr>\n",
       "    <tr>\n",
       "      <th>145</th>\n",
       "      <td>2009-07-01 02:00:00</td>\n",
       "      <td>0.38</td>\n",
       "      <td>2</td>\n",
       "      <td>7</td>\n",
       "      <td>997.96</td>\n",
       "      <td>-13.64</td>\n",
       "      <td>-15.63</td>\n",
       "      <td>84.8</td>\n",
       "      <td>2.12</td>\n",
       "      <td>1.80</td>\n",
       "      <td>...</td>\n",
       "      <td>93.2</td>\n",
       "      <td>3.12</td>\n",
       "      <td>2.90</td>\n",
       "      <td>0.21</td>\n",
       "      <td>1.81</td>\n",
       "      <td>2.91</td>\n",
       "      <td>1312.25</td>\n",
       "      <td>0.25</td>\n",
       "      <td>0.63</td>\n",
       "      <td>190.3</td>\n",
       "    </tr>\n",
       "    <tr>\n",
       "      <th>146</th>\n",
       "      <td>2009-07-01 03:00:00</td>\n",
       "      <td>1.83</td>\n",
       "      <td>3</td>\n",
       "      <td>7</td>\n",
       "      <td>998.22</td>\n",
       "      <td>-13.89</td>\n",
       "      <td>-15.80</td>\n",
       "      <td>85.3</td>\n",
       "      <td>2.08</td>\n",
       "      <td>1.77</td>\n",
       "      <td>...</td>\n",
       "      <td>93.5</td>\n",
       "      <td>3.13</td>\n",
       "      <td>2.93</td>\n",
       "      <td>0.20</td>\n",
       "      <td>1.83</td>\n",
       "      <td>2.94</td>\n",
       "      <td>1312.18</td>\n",
       "      <td>0.18</td>\n",
       "      <td>0.63</td>\n",
       "      <td>167.2</td>\n",
       "    </tr>\n",
       "    <tr>\n",
       "      <th>147</th>\n",
       "      <td>2009-07-01 04:00:00</td>\n",
       "      <td>1.10</td>\n",
       "      <td>4</td>\n",
       "      <td>7</td>\n",
       "      <td>998.24</td>\n",
       "      <td>-14.29</td>\n",
       "      <td>-16.03</td>\n",
       "      <td>86.5</td>\n",
       "      <td>2.01</td>\n",
       "      <td>1.74</td>\n",
       "      <td>...</td>\n",
       "      <td>92.6</td>\n",
       "      <td>3.07</td>\n",
       "      <td>2.85</td>\n",
       "      <td>0.23</td>\n",
       "      <td>1.78</td>\n",
       "      <td>2.85</td>\n",
       "      <td>1313.61</td>\n",
       "      <td>0.10</td>\n",
       "      <td>0.38</td>\n",
       "      <td>240.0</td>\n",
       "    </tr>\n",
       "    <tr>\n",
       "      <th>148</th>\n",
       "      <td>2009-07-01 05:00:00</td>\n",
       "      <td>0.70</td>\n",
       "      <td>5</td>\n",
       "      <td>7</td>\n",
       "      <td>998.14</td>\n",
       "      <td>-15.13</td>\n",
       "      <td>-16.75</td>\n",
       "      <td>87.3</td>\n",
       "      <td>1.88</td>\n",
       "      <td>1.64</td>\n",
       "      <td>...</td>\n",
       "      <td>92.2</td>\n",
       "      <td>2.94</td>\n",
       "      <td>2.71</td>\n",
       "      <td>0.23</td>\n",
       "      <td>1.69</td>\n",
       "      <td>2.71</td>\n",
       "      <td>1317.19</td>\n",
       "      <td>0.40</td>\n",
       "      <td>0.88</td>\n",
       "      <td>157.0</td>\n",
       "    </tr>\n",
       "    <tr>\n",
       "      <th>...</th>\n",
       "      <td>...</td>\n",
       "      <td>...</td>\n",
       "      <td>...</td>\n",
       "      <td>...</td>\n",
       "      <td>...</td>\n",
       "      <td>...</td>\n",
       "      <td>...</td>\n",
       "      <td>...</td>\n",
       "      <td>...</td>\n",
       "      <td>...</td>\n",
       "      <td>...</td>\n",
       "      <td>...</td>\n",
       "      <td>...</td>\n",
       "      <td>...</td>\n",
       "      <td>...</td>\n",
       "      <td>...</td>\n",
       "      <td>...</td>\n",
       "      <td>...</td>\n",
       "      <td>...</td>\n",
       "      <td>...</td>\n",
       "      <td>...</td>\n",
       "    </tr>\n",
       "    <tr>\n",
       "      <th>70032</th>\n",
       "      <td>2016-12-31 20:00:00</td>\n",
       "      <td>1.24</td>\n",
       "      <td>20</td>\n",
       "      <td>12</td>\n",
       "      <td>1008.99</td>\n",
       "      <td>-1.80</td>\n",
       "      <td>-2.78</td>\n",
       "      <td>93.0</td>\n",
       "      <td>5.35</td>\n",
       "      <td>4.98</td>\n",
       "      <td>...</td>\n",
       "      <td>80.5</td>\n",
       "      <td>11.81</td>\n",
       "      <td>9.51</td>\n",
       "      <td>2.30</td>\n",
       "      <td>5.96</td>\n",
       "      <td>9.54</td>\n",
       "      <td>1223.53</td>\n",
       "      <td>1.93</td>\n",
       "      <td>4.65</td>\n",
       "      <td>224.3</td>\n",
       "    </tr>\n",
       "    <tr>\n",
       "      <th>70033</th>\n",
       "      <td>2016-12-31 21:00:00</td>\n",
       "      <td>0.61</td>\n",
       "      <td>21</td>\n",
       "      <td>12</td>\n",
       "      <td>1009.24</td>\n",
       "      <td>-2.21</td>\n",
       "      <td>-3.75</td>\n",
       "      <td>89.1</td>\n",
       "      <td>5.19</td>\n",
       "      <td>4.62</td>\n",
       "      <td>...</td>\n",
       "      <td>82.1</td>\n",
       "      <td>11.60</td>\n",
       "      <td>9.53</td>\n",
       "      <td>2.08</td>\n",
       "      <td>5.97</td>\n",
       "      <td>9.56</td>\n",
       "      <td>1224.99</td>\n",
       "      <td>1.91</td>\n",
       "      <td>4.18</td>\n",
       "      <td>342.9</td>\n",
       "    </tr>\n",
       "    <tr>\n",
       "      <th>70034</th>\n",
       "      <td>2016-12-31 22:00:00</td>\n",
       "      <td>0.38</td>\n",
       "      <td>22</td>\n",
       "      <td>12</td>\n",
       "      <td>1008.93</td>\n",
       "      <td>-2.63</td>\n",
       "      <td>-4.99</td>\n",
       "      <td>83.7</td>\n",
       "      <td>5.03</td>\n",
       "      <td>4.21</td>\n",
       "      <td>...</td>\n",
       "      <td>83.0</td>\n",
       "      <td>11.38</td>\n",
       "      <td>9.44</td>\n",
       "      <td>1.93</td>\n",
       "      <td>5.91</td>\n",
       "      <td>9.47</td>\n",
       "      <td>1227.02</td>\n",
       "      <td>2.58</td>\n",
       "      <td>6.25</td>\n",
       "      <td>236.7</td>\n",
       "    </tr>\n",
       "    <tr>\n",
       "      <th>70035</th>\n",
       "      <td>2016-12-31 23:00:00</td>\n",
       "      <td>0.89</td>\n",
       "      <td>23</td>\n",
       "      <td>12</td>\n",
       "      <td>1008.82</td>\n",
       "      <td>-2.98</td>\n",
       "      <td>-4.85</td>\n",
       "      <td>86.9</td>\n",
       "      <td>4.90</td>\n",
       "      <td>4.26</td>\n",
       "      <td>...</td>\n",
       "      <td>82.1</td>\n",
       "      <td>11.35</td>\n",
       "      <td>9.32</td>\n",
       "      <td>2.03</td>\n",
       "      <td>5.83</td>\n",
       "      <td>9.34</td>\n",
       "      <td>1227.50</td>\n",
       "      <td>2.80</td>\n",
       "      <td>4.61</td>\n",
       "      <td>239.6</td>\n",
       "    </tr>\n",
       "    <tr>\n",
       "      <th>70036</th>\n",
       "      <td>2017-01-01 00:00:00</td>\n",
       "      <td>1.23</td>\n",
       "      <td>0</td>\n",
       "      <td>1</td>\n",
       "      <td>1008.67</td>\n",
       "      <td>-4.09</td>\n",
       "      <td>-5.22</td>\n",
       "      <td>91.8</td>\n",
       "      <td>4.51</td>\n",
       "      <td>4.14</td>\n",
       "      <td>...</td>\n",
       "      <td>79.8</td>\n",
       "      <td>11.43</td>\n",
       "      <td>9.12</td>\n",
       "      <td>2.31</td>\n",
       "      <td>5.71</td>\n",
       "      <td>9.15</td>\n",
       "      <td>1227.11</td>\n",
       "      <td>2.98</td>\n",
       "      <td>5.49</td>\n",
       "      <td>234.8</td>\n",
       "    </tr>\n",
       "  </tbody>\n",
       "</table>\n",
       "<p>69893 rows × 82 columns</p>\n",
       "</div>"
      ],
      "text/plain": [
       "           fecha_completa  velocidad_viento  hora  mes  presion_24  \\\n",
       "144   2009-07-01 01:00:00              0.68     1    7      997.71   \n",
       "145   2009-07-01 02:00:00              0.38     2    7      997.96   \n",
       "146   2009-07-01 03:00:00              1.83     3    7      998.22   \n",
       "147   2009-07-01 04:00:00              1.10     4    7      998.24   \n",
       "148   2009-07-01 05:00:00              0.70     5    7      998.14   \n",
       "...                   ...               ...   ...  ...         ...   \n",
       "70032 2016-12-31 20:00:00              1.24    20   12     1008.99   \n",
       "70033 2016-12-31 21:00:00              0.61    21   12     1009.24   \n",
       "70034 2016-12-31 22:00:00              0.38    22   12     1008.93   \n",
       "70035 2016-12-31 23:00:00              0.89    23   12     1008.82   \n",
       "70036 2017-01-01 00:00:00              1.23     0    1     1008.67   \n",
       "\n",
       "       temperatura_24  temperaturaDew_24  humedad_relativa_24  VPmax_24  \\\n",
       "144            -13.34             -15.46                 83.9      2.18   \n",
       "145            -13.64             -15.63                 84.8      2.12   \n",
       "146            -13.89             -15.80                 85.3      2.08   \n",
       "147            -14.29             -16.03                 86.5      2.01   \n",
       "148            -15.13             -16.75                 87.3      1.88   \n",
       "...               ...                ...                  ...       ...   \n",
       "70032           -1.80              -2.78                 93.0      5.35   \n",
       "70033           -2.21              -3.75                 89.1      5.19   \n",
       "70034           -2.63              -4.99                 83.7      5.03   \n",
       "70035           -2.98              -4.85                 86.9      4.90   \n",
       "70036           -4.09              -5.22                 91.8      4.51   \n",
       "\n",
       "       VPact_24  ...  humedad_relativa_144  VPmax_144  VPact_144  VPdef_144  \\\n",
       "144        1.83  ...                  94.4       3.33       3.14       0.19   \n",
       "145        1.80  ...                  93.2       3.12       2.90       0.21   \n",
       "146        1.77  ...                  93.5       3.13       2.93       0.20   \n",
       "147        1.74  ...                  92.6       3.07       2.85       0.23   \n",
       "148        1.64  ...                  92.2       2.94       2.71       0.23   \n",
       "...         ...  ...                   ...        ...        ...        ...   \n",
       "70032      4.98  ...                  80.5      11.81       9.51       2.30   \n",
       "70033      4.62  ...                  82.1      11.60       9.53       2.08   \n",
       "70034      4.21  ...                  83.0      11.38       9.44       1.93   \n",
       "70035      4.26  ...                  82.1      11.35       9.32       2.03   \n",
       "70036      4.14  ...                  79.8      11.43       9.12       2.31   \n",
       "\n",
       "       humedad_especifica_144  concentracion_vapor_agua_144  rho_144  \\\n",
       "144                      1.96                          3.15  1307.86   \n",
       "145                      1.81                          2.91  1312.25   \n",
       "146                      1.83                          2.94  1312.18   \n",
       "147                      1.78                          2.85  1313.61   \n",
       "148                      1.69                          2.71  1317.19   \n",
       "...                       ...                           ...      ...   \n",
       "70032                    5.96                          9.54  1223.53   \n",
       "70033                    5.97                          9.56  1224.99   \n",
       "70034                    5.91                          9.47  1227.02   \n",
       "70035                    5.83                          9.34  1227.50   \n",
       "70036                    5.71                          9.15  1227.11   \n",
       "\n",
       "       velocidad_viento_144  max_valocidad_viento_144  direccion_viento_144  \n",
       "144                    0.21                      0.63                 192.7  \n",
       "145                    0.25                      0.63                 190.3  \n",
       "146                    0.18                      0.63                 167.2  \n",
       "147                    0.10                      0.38                 240.0  \n",
       "148                    0.40                      0.88                 157.0  \n",
       "...                     ...                       ...                   ...  \n",
       "70032                  1.93                      4.65                 224.3  \n",
       "70033                  1.91                      4.18                 342.9  \n",
       "70034                  2.58                      6.25                 236.7  \n",
       "70035                  2.80                      4.61                 239.6  \n",
       "70036                  2.98                      5.49                 234.8  \n",
       "\n",
       "[69893 rows x 82 columns]"
      ]
     },
     "execution_count": 12,
     "metadata": {},
     "output_type": "execute_result"
    }
   ],
   "source": [
    "current_db.drop(['temperatura', 'presion', 'temperaturaDew', 'humedad_relativa', 'VPmax', 'VPact', 'VPdef', 'humedad_especifica', 'concentracion_vapor_agua', 'rho', 'max_valocidad_viento', 'direccion_viento'],\n",
    "                axis = 1)"
   ]
  },
  {
   "cell_type": "code",
   "execution_count": 13,
   "metadata": {
    "ExecuteTime": {
     "end_time": "2023-01-04T12:34:45.840917Z",
     "start_time": "2023-01-04T12:34:45.788782Z"
    }
   },
   "outputs": [],
   "source": [
    "current_db = current_db.sort_values('fecha_completa')"
   ]
  },
  {
   "cell_type": "code",
   "execution_count": 14,
   "metadata": {
    "ExecuteTime": {
     "end_time": "2023-01-04T12:34:45.888170Z",
     "start_time": "2023-01-04T12:34:45.842917Z"
    }
   },
   "outputs": [],
   "source": [
    "current_db = current_db.reset_index(drop=True)"
   ]
  },
  {
   "cell_type": "code",
   "execution_count": 15,
   "metadata": {
    "ExecuteTime": {
     "end_time": "2023-01-04T12:34:45.903807Z",
     "start_time": "2023-01-04T12:34:45.891100Z"
    }
   },
   "outputs": [],
   "source": [
    "Index_col = \"fecha_completa\"\n",
    "target_col = \"velocidad_viento\""
   ]
  },
  {
   "cell_type": "code",
   "execution_count": 16,
   "metadata": {
    "ExecuteTime": {
     "end_time": "2023-01-04T12:34:45.918953Z",
     "start_time": "2023-01-04T12:34:45.905405Z"
    }
   },
   "outputs": [
    {
     "data": {
      "text/plain": [
       "Series([], Name: fecha_completa, dtype: datetime64[ns])"
      ]
     },
     "execution_count": 16,
     "metadata": {},
     "output_type": "execute_result"
    }
   ],
   "source": [
    "current_db.fecha_completa[current_db.fecha_completa.duplicated()]"
   ]
  },
  {
   "cell_type": "code",
   "execution_count": 17,
   "metadata": {
    "ExecuteTime": {
     "end_time": "2023-01-04T12:34:45.941505Z",
     "start_time": "2023-01-04T12:34:45.920972Z"
    }
   },
   "outputs": [
    {
     "data": {
      "text/plain": [
       "57066   -9999.00\n",
       "57064   -9999.00\n",
       "57065   -9999.00\n",
       "631         0.00\n",
       "6282        0.00\n",
       "          ...   \n",
       "57354      12.05\n",
       "45586      12.21\n",
       "10022      12.37\n",
       "42131      12.49\n",
       "27591      12.58\n",
       "Name: velocidad_viento, Length: 69893, dtype: float64"
      ]
     },
     "execution_count": 17,
     "metadata": {},
     "output_type": "execute_result"
    }
   ],
   "source": [
    "current_db.velocidad_viento.sort_values()"
   ]
  },
  {
   "cell_type": "code",
   "execution_count": 18,
   "metadata": {
    "ExecuteTime": {
     "end_time": "2023-01-04T12:34:46.005299Z",
     "start_time": "2023-01-04T12:34:45.941505Z"
    }
   },
   "outputs": [],
   "source": [
    "current_db = current_db[current_db.velocidad_viento >= 0]"
   ]
  },
  {
   "cell_type": "code",
   "execution_count": 19,
   "metadata": {
    "ExecuteTime": {
     "end_time": "2023-01-04T12:34:46.838379Z",
     "start_time": "2023-01-04T12:34:46.008300Z"
    }
   },
   "outputs": [
    {
     "data": {
      "text/plain": [
       "[<matplotlib.lines.Line2D at 0x194f57241f0>]"
      ]
     },
     "execution_count": 19,
     "metadata": {},
     "output_type": "execute_result"
    },
    {
     "data": {
      "image/png": "[encoded data removed]",
      "text/plain": [
       "<Figure size 2000x1000 with 1 Axes>"
      ]
     },
     "metadata": {},
     "output_type": "display_data"
    }
   ],
   "source": [
    "fig, ax = plt.subplots(1, 1, figsize = (20, 10))\n",
    "ax.plot(current_db.fecha_completa, current_db.velocidad_viento)"
   ]
  },
  {
   "cell_type": "code",
   "execution_count": 20,
   "metadata": {
    "ExecuteTime": {
     "end_time": "2023-01-04T12:34:46.853855Z",
     "start_time": "2023-01-04T12:34:46.840494Z"
    }
   },
   "outputs": [],
   "source": [
    "# current_db['mes'] = pd.Categorical(current_db['mes'])\n",
    "# current_db['hora'] = pd.Categorical(current_db['hora'])"
   ]
  },
  {
   "cell_type": "code",
   "execution_count": 21,
   "metadata": {
    "ExecuteTime": {
     "end_time": "2023-01-04T12:34:46.917075Z",
     "start_time": "2023-01-04T12:34:46.854355Z"
    }
   },
   "outputs": [],
   "source": [
    "current_db_train = current_db[current_db.fecha_completa.dt.year < 2015]\n",
    "current_db_val = current_db[current_db.fecha_completa.dt.year == 2015]\n",
    "current_db_test = current_db[current_db.fecha_completa.dt.year == 2016]\n",
    "\n",
    "train_idx = current_db_train[Index_col].unique()\n",
    "val_idx = current_db_val[Index_col].unique()\n",
    "test_idx = current_db_test[Index_col].unique()"
   ]
  },
  {
   "cell_type": "code",
   "execution_count": 22,
   "metadata": {
    "ExecuteTime": {
     "end_time": "2023-01-04T12:34:47.701451Z",
     "start_time": "2023-01-04T12:34:46.919714Z"
    }
   },
   "outputs": [
    {
     "data": {
      "text/plain": [
       "[<matplotlib.lines.Line2D at 0x194f4cad5b0>]"
      ]
     },
     "execution_count": 22,
     "metadata": {},
     "output_type": "execute_result"
    },
    {
     "data": {
      "image/png": "[encoded data removed]",
      "text/plain": [
       "<Figure size 2000x1000 with 1 Axes>"
      ]
     },
     "metadata": {},
     "output_type": "display_data"
    }
   ],
   "source": [
    "fig, ax = plt.subplots(1, 1, figsize = (20, 10))\n",
    "ax.plot(current_db_train.fecha_completa, current_db_train.velocidad_viento)\n",
    "ax.plot(current_db_val.fecha_completa, current_db_val.velocidad_viento)\n",
    "ax.plot(current_db_test.fecha_completa, current_db_test.velocidad_viento)"
   ]
  },
  {
   "cell_type": "code",
   "execution_count": 23,
   "metadata": {
    "ExecuteTime": {
     "end_time": "2023-01-04T12:34:47.714367Z",
     "start_time": "2023-01-04T12:34:47.702705Z"
    }
   },
   "outputs": [],
   "source": [
    "selected_columns = list(current_db.columns)\n",
    "selected_columns.remove('fecha_completa')\n",
    "selected_columns.remove('temperatura')\n",
    "selected_columns.remove('presion')\n",
    "selected_columns.remove('temperaturaDew')\n",
    "selected_columns.remove('humedad_relativa')\n",
    "selected_columns.remove('VPmax')\n",
    "selected_columns.remove('VPact')\n",
    "selected_columns.remove('VPdef')\n",
    "selected_columns.remove('humedad_especifica')\n",
    "selected_columns.remove('concentracion_vapor_agua')\n",
    "selected_columns.remove('rho')\n",
    "selected_columns.remove('velocidad_viento')\n",
    "selected_columns.remove('direccion_viento')\n",
    "selected_columns.remove('max_valocidad_viento')"
   ]
  },
  {
   "cell_type": "code",
   "execution_count": 24,
   "metadata": {
    "ExecuteTime": {
     "end_time": "2023-01-04T12:34:47.730026Z",
     "start_time": "2023-01-04T12:34:47.714868Z"
    }
   },
   "outputs": [
    {
     "data": {
      "text/plain": [
       "['hora',\n",
       " 'mes',\n",
       " 'presion_24',\n",
       " 'temperatura_24',\n",
       " 'temperaturaDew_24',\n",
       " 'humedad_relativa_24',\n",
       " 'VPmax_24',\n",
       " 'VPact_24',\n",
       " 'VPdef_24',\n",
       " 'humedad_especifica_24',\n",
       " 'concentracion_vapor_agua_24',\n",
       " 'rho_24',\n",
       " 'velocidad_viento_24',\n",
       " 'max_valocidad_viento_24',\n",
       " 'direccion_viento_24',\n",
       " 'presion_48',\n",
       " 'temperatura_48',\n",
       " 'temperaturaDew_48',\n",
       " 'humedad_relativa_48',\n",
       " 'VPmax_48',\n",
       " 'VPact_48',\n",
       " 'VPdef_48',\n",
       " 'humedad_especifica_48',\n",
       " 'concentracion_vapor_agua_48',\n",
       " 'rho_48',\n",
       " 'velocidad_viento_48',\n",
       " 'max_valocidad_viento_48',\n",
       " 'direccion_viento_48',\n",
       " 'presion_72',\n",
       " 'temperatura_72',\n",
       " 'temperaturaDew_72',\n",
       " 'humedad_relativa_72',\n",
       " 'VPmax_72',\n",
       " 'VPact_72',\n",
       " 'VPdef_72',\n",
       " 'humedad_especifica_72',\n",
       " 'concentracion_vapor_agua_72',\n",
       " 'rho_72',\n",
       " 'velocidad_viento_72',\n",
       " 'max_valocidad_viento_72',\n",
       " 'direccion_viento_72',\n",
       " 'presion_96',\n",
       " 'temperatura_96',\n",
       " 'temperaturaDew_96',\n",
       " 'humedad_relativa_96',\n",
       " 'VPmax_96',\n",
       " 'VPact_96',\n",
       " 'VPdef_96',\n",
       " 'humedad_especifica_96',\n",
       " 'concentracion_vapor_agua_96',\n",
       " 'rho_96',\n",
       " 'velocidad_viento_96',\n",
       " 'max_valocidad_viento_96',\n",
       " 'direccion_viento_96',\n",
       " 'presion_120',\n",
       " 'temperatura_120',\n",
       " 'temperaturaDew_120',\n",
       " 'humedad_relativa_120',\n",
       " 'VPmax_120',\n",
       " 'VPact_120',\n",
       " 'VPdef_120',\n",
       " 'humedad_especifica_120',\n",
       " 'concentracion_vapor_agua_120',\n",
       " 'rho_120',\n",
       " 'velocidad_viento_120',\n",
       " 'max_valocidad_viento_120',\n",
       " 'direccion_viento_120',\n",
       " 'presion_144',\n",
       " 'temperatura_144',\n",
       " 'temperaturaDew_144',\n",
       " 'humedad_relativa_144',\n",
       " 'VPmax_144',\n",
       " 'VPact_144',\n",
       " 'VPdef_144',\n",
       " 'humedad_especifica_144',\n",
       " 'concentracion_vapor_agua_144',\n",
       " 'rho_144',\n",
       " 'velocidad_viento_144',\n",
       " 'max_valocidad_viento_144',\n",
       " 'direccion_viento_144']"
      ]
     },
     "execution_count": 24,
     "metadata": {},
     "output_type": "execute_result"
    }
   ],
   "source": [
    "selected_columns"
   ]
  },
  {
   "cell_type": "code",
   "execution_count": 25,
   "metadata": {
    "ExecuteTime": {
     "end_time": "2023-01-03T16:51:55.921698Z",
     "start_time": "2023-01-03T16:51:55.893774Z"
    }
   },
   "outputs": [],
   "source": [
    "X_train = current_db_train[selected_columns]\n",
    "y_train = current_db_train[target_col]\n",
    "\n",
    "X_val = current_db_val[selected_columns]\n",
    "y_val = current_db_val[target_col]\n",
    "\n",
    "X_test = current_db_test[selected_columns]\n",
    "y_test = current_db_test[target_col]"
   ]
  },
  {
   "cell_type": "code",
   "execution_count": 26,
   "metadata": {
    "ExecuteTime": {
     "end_time": "2023-01-03T16:51:55.953658Z",
     "start_time": "2023-01-03T16:51:55.924691Z"
    }
   },
   "outputs": [],
   "source": [
    "X_train_val = X_train.append(X_val)\n",
    "y_train_val = y_train.append(y_val)"
   ]
  },
  {
   "cell_type": "code",
   "execution_count": 27,
   "metadata": {
    "ExecuteTime": {
     "end_time": "2023-01-03T16:51:56.000323Z",
     "start_time": "2023-01-03T16:51:55.954634Z"
    }
   },
   "outputs": [],
   "source": [
    "current_db_train_val = current_db_train.append(current_db_val)"
   ]
  },
  {
   "cell_type": "code",
   "execution_count": 28,
   "metadata": {
    "ExecuteTime": {
     "end_time": "2023-01-03T16:51:56.015862Z",
     "start_time": "2023-01-03T16:51:56.001294Z"
    }
   },
   "outputs": [],
   "source": [
    "seeds = np.random.randint(1, 999999, 50)"
   ]
  },
  {
   "cell_type": "markdown",
   "metadata": {},
   "source": [
    "## SHAPEffects 0.75-0.25"
   ]
  },
  {
   "cell_type": "code",
   "execution_count": 29,
   "metadata": {
    "ExecuteTime": {
     "end_time": "2023-01-02T14:44:12.937406Z",
     "start_time": "2023-01-02T14:00:50.657976Z"
    },
    "scrolled": true
   },
   "outputs": [
    {
     "name": "stdout",
     "output_type": "stream",
     "text": [
      "Preprocessing\n",
      "-------------\n",
      "\n",
      "Introducing a random variable\n",
      "Calculating Shapley values\n",
      "Removing the first features\n",
      "0 features have been removed\n",
      "\n",
      "Starting core module\n",
      "--------------------\n",
      "\n",
      "Iteration 1\n",
      "\tClasifying residuals\n",
      "\tGiving weights to features\n",
      "\tSelecting features\n",
      "\t1 features have been removed\n",
      "\t ['presion_72']\n",
      "\t79 features left\n",
      "\n",
      "Iteration 2\n",
      "\tClasifying residuals\n",
      "\tGiving weights to features\n",
      "\tSelecting features\n",
      "\t1 features have been removed\n",
      "\t ['presion_96']\n",
      "\t78 features left\n",
      "\n",
      "Iteration 3\n",
      "\tClasifying residuals\n",
      "\tGiving weights to features\n",
      "\tSelecting features\n",
      "\t1 features have been removed\n",
      "\t ['presion_120']\n",
      "\t77 features left\n",
      "\n",
      "Iteration 4\n",
      "\tClasifying residuals\n",
      "\tGiving weights to features\n",
      "\tSelecting features\n",
      "\t1 features have been removed\n",
      "\t ['presion_144']\n",
      "\t76 features left\n",
      "\n",
      "Iteration 5\n",
      "\tClasifying residuals\n",
      "\tGiving weights to features\n",
      "\tSelecting features\n",
      "\t1 features have been removed\n",
      "\t ['mes']\n",
      "\t75 features left\n",
      "\n",
      "Iteration 6\n",
      "\tClasifying residuals\n",
      "\tGiving weights to features\n",
      "\tSelecting features\n",
      "\t1 features have been removed\n",
      "\t ['velocidad_viento_120']\n",
      "\t74 features left\n",
      "\n",
      "Iteration 7\n",
      "\tClasifying residuals\n",
      "\tGiving weights to features\n",
      "\tSelecting features\n",
      "\t1 features have been removed\n",
      "\t ['max_valocidad_viento_24']\n",
      "\t73 features left\n",
      "\n",
      "Iteration 8\n",
      "\tClasifying residuals\n",
      "\tGiving weights to features\n",
      "\tSelecting features\n",
      "\t1 features have been removed\n",
      "\t ['velocidad_viento_24']\n",
      "\t72 features left\n",
      "\n",
      "Iteration 9\n",
      "\tClasifying residuals\n",
      "\tGiving weights to features\n",
      "\tSelecting features\n",
      "\t1 features have been removed\n",
      "\t ['presion_48']\n",
      "\t71 features left\n",
      "\n",
      "Iteration 10\n",
      "\tClasifying residuals\n",
      "\tGiving weights to features\n",
      "\tSelecting features\n",
      "\t1 features have been removed\n",
      "\t ['max_valocidad_viento_120']\n",
      "\t70 features left\n",
      "\n",
      "Iteration 11\n",
      "\tClasifying residuals\n",
      "\tGiving weights to features\n",
      "\tSelecting features\n",
      "\t1 features have been removed\n",
      "\t ['VPact_72']\n",
      "\t69 features left\n",
      "\n",
      "Iteration 12\n",
      "\tClasifying residuals\n",
      "\tGiving weights to features\n",
      "\tSelecting features\n",
      "\t1 features have been removed\n",
      "\t ['rho_72']\n",
      "\t68 features left\n",
      "\n",
      "Iteration 13\n",
      "\tClasifying residuals\n",
      "\tGiving weights to features\n",
      "\tSelecting features\n",
      "\t1 features have been removed\n",
      "\t ['max_valocidad_viento_48']\n",
      "\t67 features left\n",
      "\n",
      "Iteration 14\n",
      "\tClasifying residuals\n",
      "\tGiving weights to features\n",
      "\tSelecting features\n",
      "\t1 features have been removed\n",
      "\t ['velocidad_viento_48']\n",
      "\t66 features left\n",
      "\n",
      "Iteration 15\n",
      "\tClasifying residuals\n",
      "\tGiving weights to features\n",
      "\tSelecting features\n",
      "\t1 features have been removed\n",
      "\t ['rho_144']\n",
      "\t65 features left\n",
      "\n",
      "Iteration 16\n",
      "\tClasifying residuals\n",
      "\tGiving weights to features\n",
      "\tSelecting features\n",
      "\t1 features have been removed\n",
      "\t ['rho_96']\n",
      "\t64 features left\n",
      "\n",
      "Iteration 17\n",
      "\tClasifying residuals\n",
      "\tGiving weights to features\n",
      "\tSelecting features\n",
      "\t1 features have been removed\n",
      "\t ['temperaturaDew_72']\n",
      "\t63 features left\n",
      "\n",
      "Iteration 18\n",
      "\tClasifying residuals\n",
      "\tGiving weights to features\n",
      "\tSelecting features\n",
      "\t1 features have been removed\n",
      "\t ['temperaturaDew_24']\n",
      "\t62 features left\n",
      "\n",
      "Iteration 19\n",
      "\tClasifying residuals\n",
      "\tGiving weights to features\n",
      "\tSelecting features\n",
      "\t1 features have been removed\n",
      "\t ['concentracion_vapor_agua_72']\n",
      "\t61 features left\n",
      "\n",
      "Iteration 20\n",
      "\tClasifying residuals\n",
      "\tGiving weights to features\n",
      "\tSelecting features\n",
      "\t1 features have been removed\n",
      "\t ['temperatura_96']\n",
      "\t60 features left\n",
      "\n",
      "Iteration 21\n",
      "\tClasifying residuals\n",
      "\tGiving weights to features\n",
      "\tSelecting features\n",
      "\t1 features have been removed\n",
      "\t ['temperatura_72']\n",
      "\t59 features left\n",
      "\n",
      "Iteration 22\n",
      "\tClasifying residuals\n",
      "\tGiving weights to features\n",
      "\tSelecting features\n",
      "\t1 features have been removed\n",
      "\t ['VPact_24']\n",
      "\t58 features left\n",
      "\n",
      "Iteration 23\n",
      "\tClasifying residuals\n",
      "\tGiving weights to features\n",
      "\tSelecting features\n",
      "\t1 features have been removed\n",
      "\t ['humedad_especifica_24']\n",
      "\t57 features left\n",
      "\n",
      "Iteration 24\n",
      "\tClasifying residuals\n",
      "\tGiving weights to features\n",
      "\tSelecting features\n",
      "\t1 features have been removed\n",
      "\t ['concentracion_vapor_agua_24']\n",
      "\t56 features left\n",
      "\n",
      "Iteration 25\n",
      "\tClasifying residuals\n",
      "\tGiving weights to features\n",
      "\tSelecting features\n",
      "\t1 features have been removed\n",
      "\t ['VPmax_96']\n",
      "\t55 features left\n",
      "\n",
      "Iteration 26\n",
      "\tClasifying residuals\n",
      "\tGiving weights to features\n",
      "\tSelecting features\n",
      "\t1 features have been removed\n",
      "\t ['concentracion_vapor_agua_48']\n",
      "\t54 features left\n",
      "\n",
      "Iteration 27\n",
      "\tClasifying residuals\n",
      "\tGiving weights to features\n",
      "\tSelecting features\n",
      "\t1 features have been removed\n",
      "\t ['rho_48']\n",
      "\t53 features left\n",
      "\n",
      "Iteration 28\n",
      "\tClasifying residuals\n",
      "\tGiving weights to features\n",
      "\tSelecting features\n",
      "\t1 features have been removed\n",
      "\t ['max_valocidad_viento_144']\n",
      "\t52 features left\n",
      "\n",
      "Iteration 29\n",
      "\tClasifying residuals\n",
      "\tGiving weights to features\n",
      "\tSelecting features\n",
      "\t1 features have been removed\n",
      "\t ['humedad_especifica_72']\n",
      "\t51 features left\n",
      "\n",
      "Iteration 30\n",
      "\tClasifying residuals\n",
      "\tGiving weights to features\n",
      "\tSelecting features\n",
      "\t1 features have been removed\n",
      "\t ['VPmax_72']\n",
      "\t50 features left\n",
      "\n",
      "Iteration 31\n",
      "\tClasifying residuals\n",
      "\tGiving weights to features\n",
      "\tSelecting features\n",
      "\t1 features have been removed\n",
      "\t ['humedad_relativa_72']\n",
      "\t49 features left\n",
      "\n",
      "Iteration 32\n",
      "\tClasifying residuals\n",
      "\tGiving weights to features\n",
      "\tSelecting features\n",
      "\t1 features have been removed\n",
      "\t ['temperaturaDew_96']\n",
      "\t48 features left\n",
      "\n",
      "Iteration 33\n",
      "\tClasifying residuals\n",
      "\tGiving weights to features\n",
      "\tSelecting features\n",
      "\t1 features have been removed\n",
      "\t ['temperatura_24']\n",
      "\t47 features left\n",
      "\n",
      "Iteration 34\n",
      "\tClasifying residuals\n",
      "\tGiving weights to features\n",
      "\tSelecting features\n",
      "\t1 features have been removed\n",
      "\t ['VPmax_24']\n",
      "\t46 features left\n",
      "\n",
      "Iteration 35\n",
      "\tClasifying residuals\n",
      "\tGiving weights to features\n",
      "\tSelecting features\n",
      "\t1 features have been removed\n",
      "\t ['rho_24']\n",
      "\t45 features left\n",
      "\n",
      "Iteration 36\n",
      "\tClasifying residuals\n",
      "\tGiving weights to features\n",
      "\tSelecting features\n",
      "\t1 features have been removed\n",
      "\t ['VPdef_72']\n",
      "\t44 features left\n",
      "\n",
      "Iteration 37\n",
      "\tClasifying residuals\n",
      "\tGiving weights to features\n",
      "\tSelecting features\n",
      "\t1 features have been removed\n",
      "\t ['VPmax_48']\n",
      "\t43 features left\n",
      "\n",
      "Iteration 38\n",
      "\tClasifying residuals\n",
      "\tGiving weights to features\n",
      "\tSelecting features\n",
      "\t1 features have been removed\n",
      "\t ['VPact_96']\n",
      "\t42 features left\n",
      "\n",
      "Iteration 39\n",
      "\tClasifying residuals\n",
      "\tGiving weights to features\n",
      "\tSelecting features\n",
      "\t1 features have been removed\n",
      "\t ['humedad_relativa_24']\n",
      "\t41 features left\n",
      "\n",
      "Iteration 40\n",
      "\tClasifying residuals\n",
      "\tGiving weights to features\n",
      "\tSelecting features\n",
      "\t1 features have been removed\n",
      "\t ['humedad_especifica_48']\n",
      "\t40 features left\n",
      "\n",
      "Iteration 41\n",
      "\tClasifying residuals\n",
      "\tGiving weights to features\n",
      "\tSelecting features\n",
      "\t1 features have been removed\n",
      "\t ['temperaturaDew_48']\n",
      "\t39 features left\n",
      "\n",
      "Iteration 42\n",
      "\tClasifying residuals\n",
      "\tGiving weights to features\n",
      "\tSelecting features\n",
      "\t1 features have been removed\n",
      "\t ['VPact_48']\n",
      "\t38 features left\n",
      "\n",
      "Iteration 43\n",
      "\tClasifying residuals\n",
      "\tGiving weights to features\n",
      "\tSelecting features\n",
      "\t1 features have been removed\n",
      "\t ['humedad_especifica_96']\n",
      "\t37 features left\n",
      "\n",
      "Iteration 44\n",
      "\tClasifying residuals\n",
      "\tGiving weights to features\n",
      "\tSelecting features\n",
      "\t1 features have been removed\n",
      "\t ['concentracion_vapor_agua_96']\n",
      "\t36 features left\n",
      "\n",
      "Iteration 45\n",
      "\tClasifying residuals\n",
      "\tGiving weights to features\n",
      "\tSelecting features\n",
      "\t1 features have been removed\n",
      "\t ['direccion_viento_96']\n",
      "\t35 features left\n",
      "\n",
      "Iteration 46\n",
      "\tClasifying residuals\n",
      "\tGiving weights to features\n",
      "\tSelecting features\n",
      "\t1 features have been removed\n",
      "\t ['VPmax_120']\n",
      "\t34 features left\n",
      "\n",
      "Iteration 47\n",
      "\tClasifying residuals\n",
      "\tGiving weights to features\n",
      "\tSelecting features\n",
      "\t1 features have been removed\n",
      "\t ['humedad_relativa_48']\n",
      "\t33 features left\n",
      "\n",
      "Iteration 48\n",
      "\tClasifying residuals\n",
      "\tGiving weights to features\n",
      "\tSelecting features\n",
      "\t1 features have been removed\n",
      "\t ['VPact_120']\n",
      "\t32 features left\n",
      "\n",
      "Iteration 49\n",
      "\tClasifying residuals\n",
      "\tGiving weights to features\n",
      "\tSelecting features\n",
      "\t1 features have been removed\n",
      "\t ['temperatura_48']\n",
      "\t31 features left\n",
      "\n",
      "Iteration 50\n",
      "\tClasifying residuals\n",
      "\tGiving weights to features\n",
      "\tSelecting features\n",
      "\t1 features have been removed\n",
      "\t ['velocidad_viento_72']\n",
      "\t30 features left\n",
      "\n",
      "Iteration 51\n",
      "\tClasifying residuals\n",
      "\tGiving weights to features\n",
      "\tSelecting features\n",
      "\t1 features have been removed\n",
      "\t ['VPdef_96']\n",
      "\t29 features left\n",
      "\n",
      "Iteration 52\n",
      "\tClasifying residuals\n",
      "\tGiving weights to features\n",
      "\tSelecting features\n",
      "\t1 features have been removed\n",
      "\t ['VPmax_144']\n",
      "\t28 features left\n",
      "\n",
      "Iteration 53\n",
      "\tClasifying residuals\n",
      "\tGiving weights to features\n",
      "\tSelecting features\n",
      "\t1 features have been removed\n",
      "\t ['temperaturaDew_120']\n",
      "\t27 features left\n"
     ]
    },
    {
     "name": "stdout",
     "output_type": "stream",
     "text": [
      "\n",
      "Iteration 54\n",
      "\tClasifying residuals\n",
      "\tGiving weights to features\n",
      "\tSelecting features\n",
      "\t1 features have been removed\n",
      "\t ['VPdef_48']\n",
      "\t26 features left\n",
      "\n",
      "Iteration 55\n",
      "\tClasifying residuals\n",
      "\tGiving weights to features\n",
      "\tSelecting features\n",
      "\t1 features have been removed\n",
      "\t ['temperatura_120']\n",
      "\t25 features left\n",
      "\n",
      "Iteration 56\n",
      "\tClasifying residuals\n",
      "\tGiving weights to features\n",
      "\tSelecting features\n",
      "\t1 features have been removed\n",
      "\t ['rho_120']\n",
      "\t24 features left\n",
      "\n",
      "Iteration 57\n",
      "\tClasifying residuals\n",
      "\tGiving weights to features\n",
      "\tSelecting features\n",
      "\t1 features have been removed\n",
      "\t ['velocidad_viento_144']\n",
      "\t23 features left\n",
      "\n",
      "Iteration 58\n",
      "\tClasifying residuals\n",
      "\tGiving weights to features\n",
      "\tSelecting features\n",
      "\t1 features have been removed\n",
      "\t ['max_valocidad_viento_72']\n",
      "\t22 features left\n",
      "\n",
      "Iteration 59\n",
      "\tClasifying residuals\n",
      "\tGiving weights to features\n",
      "\tSelecting features\n",
      "\t1 features have been removed\n",
      "\t ['humedad_especifica_120']\n",
      "\t21 features left\n",
      "\n",
      "Iteration 60\n",
      "\tClasifying residuals\n",
      "\tGiving weights to features\n",
      "\tSelecting features\n",
      "\t1 features have been removed\n",
      "\t ['concentracion_vapor_agua_120']\n",
      "\t20 features left\n",
      "\n",
      "Iteration 61\n",
      "\tClasifying residuals\n",
      "\tGiving weights to features\n",
      "\tSelecting features\n",
      "\t1 features have been removed\n",
      "\t ['humedad_especifica_144']\n",
      "\t19 features left\n",
      "\n",
      "Iteration 62\n",
      "\tClasifying residuals\n",
      "\tGiving weights to features\n",
      "\tSelecting features\n",
      "\t1 features have been removed\n",
      "\t ['concentracion_vapor_agua_144']\n",
      "\t18 features left\n",
      "\n",
      "Iteration 63\n",
      "\tClasifying residuals\n",
      "\tGiving weights to features\n",
      "\tSelecting features\n",
      "\t1 features have been removed\n",
      "\t ['temperaturaDew_144']\n",
      "\t17 features left\n",
      "\n",
      "Iteration 64\n",
      "\tClasifying residuals\n",
      "\tGiving weights to features\n",
      "\tSelecting features\n",
      "\t1 features have been removed\n",
      "\t ['temperatura_144']\n",
      "\t16 features left\n",
      "\n",
      "Iteration 65\n",
      "\tClasifying residuals\n",
      "\tGiving weights to features\n",
      "\tSelecting features\n",
      "\t1 features have been removed\n",
      "\t ['VPact_144']\n",
      "\t15 features left\n",
      "\n",
      "Iteration 66\n",
      "\tClasifying residuals\n",
      "\tGiving weights to features\n",
      "\tSelecting features\n",
      "\t1 features have been removed\n",
      "\t ['VPdef_24']\n",
      "\t14 features left\n",
      "\n",
      "Iteration 67\n",
      "\tClasifying residuals\n",
      "\tGiving weights to features\n",
      "\tSelecting features\n",
      "\t1 features have been removed\n",
      "\t ['direccion_viento_48']\n",
      "\t13 features left\n",
      "\n",
      "Iteration 68\n",
      "\tClasifying residuals\n",
      "\tGiving weights to features\n",
      "\tSelecting features\n",
      "\t1 features have been removed\n",
      "\t ['VPdef_144']\n",
      "\t12 features left\n",
      "\n",
      "Iteration 69\n",
      "\tClasifying residuals\n",
      "\tGiving weights to features\n",
      "\tSelecting features\n",
      "\t1 features have been removed\n",
      "\t ['VPdef_120']\n",
      "\t11 features left\n",
      "\n",
      "Iteration 70\n",
      "\tClasifying residuals\n",
      "\tGiving weights to features\n",
      "\tSelecting features\n",
      "\t1 features have been removed\n",
      "\t ['max_valocidad_viento_96']\n",
      "\t10 features left\n",
      "\n",
      "Iteration 71\n",
      "\tClasifying residuals\n",
      "\tGiving weights to features\n",
      "\tSelecting features\n",
      "\t1 features have been removed\n",
      "\t ['velocidad_viento_96']\n",
      "\t9 features left\n",
      "\n",
      "Iteration 72\n",
      "\tClasifying residuals\n",
      "\tGiving weights to features\n",
      "\tSelecting features\n",
      "\t1 features have been removed\n",
      "\t ['direccion_viento_24']\n",
      "\t8 features left\n",
      "\n",
      "Iteration 73\n",
      "\tClasifying residuals\n",
      "\tGiving weights to features\n",
      "\tSelecting features\n",
      "\t1 features have been removed\n",
      "\t ['direccion_viento_120']\n",
      "\t7 features left\n",
      "\n",
      "Iteration 74\n",
      "\tClasifying residuals\n",
      "\tGiving weights to features\n",
      "\tSelecting features\n",
      "\t1 features have been removed\n",
      "\t ['humedad_relativa_96']\n",
      "\t6 features left\n",
      "\n",
      "Iteration 75\n",
      "\tClasifying residuals\n",
      "\tGiving weights to features\n",
      "\tSelecting features\n",
      "\t1 features have been removed\n",
      "\t ['direccion_viento_144']\n",
      "\t5 features left\n",
      "\n",
      "Iteration 76\n",
      "\tClasifying residuals\n",
      "\tGiving weights to features\n",
      "\tSelecting features\n",
      "\t1 features have been removed\n",
      "\t ['humedad_relativa_120']\n",
      "\t4 features left\n",
      "\n",
      "Iteration 77\n",
      "\tClasifying residuals\n",
      "\tGiving weights to features\n",
      "\tSelecting features\n",
      "\t1 features have been removed\n",
      "\t ['direccion_viento_72']\n",
      "\t3 features left\n",
      "\n",
      "Iteration 78\n",
      "\tClasifying residuals\n",
      "\tGiving weights to features\n",
      "\tSelecting features\n",
      "\t1 features have been removed\n",
      "\t ['humedad_relativa_144']\n",
      "\t2 features left\n",
      "\n",
      "Iteration 79\n",
      "\tClasifying residuals\n",
      "\tGiving weights to features\n",
      "\tSelecting features\n",
      "\t1 features have been removed\n",
      "\t ['hora']\n",
      "\t1 features left\n",
      "\n",
      "Iteration 80\n",
      "\tClasifying residuals\n",
      "\tGiving weights to features\n",
      "\tSelecting features\n",
      "\t0 features have been removed\n",
      "\t1 features left\n",
      "1 features have been selected out of 81\n"
     ]
    }
   ],
   "source": [
    "model = CatBoostRegressor(verbose=0, n_estimators=250,use_best_model=False, random_seed = 123)\n",
    "feat_sel = FeatureSelector()\n",
    "selected_features_shapeffects_075_025 = feat_sel.fit(X_train, y_train, X_val, y_val, model, 30, 0.25, 0.75)\n",
    "selected_features_shapeffects_075_025 = sorted(list(selected_features_shapeffects_075_025))"
   ]
  },
  {
   "cell_type": "code",
   "execution_count": 30,
   "metadata": {
    "ExecuteTime": {
     "end_time": "2023-01-02T14:44:12.985386Z",
     "start_time": "2023-01-02T14:44:12.950402Z"
    }
   },
   "outputs": [
    {
     "data": {
      "text/plain": [
       "1.0891496688301963"
      ]
     },
     "execution_count": 30,
     "metadata": {},
     "output_type": "execute_result"
    }
   ],
   "source": [
    "feat_sel.best_mae"
   ]
  },
  {
   "cell_type": "code",
   "execution_count": 31,
   "metadata": {
    "ExecuteTime": {
     "end_time": "2023-01-02T14:44:13.506303Z",
     "start_time": "2023-01-02T14:44:12.989404Z"
    }
   },
   "outputs": [
    {
     "data": {
      "text/plain": [
       "<matplotlib.lines.Line2D at 0x29dbb341910>"
      ]
     },
     "execution_count": 31,
     "metadata": {},
     "output_type": "execute_result"
    },
    {
     "data": {
      "image/png": "[encoded data removed]",
      "text/plain": [
       "<Figure size 1440x720 with 1 Axes>"
      ]
     },
     "metadata": {},
     "output_type": "display_data"
    }
   ],
   "source": [
    "fig, ax = plt.subplots(1, 1, figsize=(20, 10))\n",
    "ax.plot(range(len(feat_sel.maes)), feat_sel.maes.keys(), '-o')\n",
    "ax.title.set_text(\"MAE Change\")\n",
    "ax.title.set_size(15)\n",
    "plt.axvline(np.argmin(list(feat_sel.maes.keys())), color='red', linestyle='dashed', linewidth=1)"
   ]
  },
  {
   "cell_type": "code",
   "execution_count": 32,
   "metadata": {
    "ExecuteTime": {
     "end_time": "2023-01-02T14:44:13.538309Z",
     "start_time": "2023-01-02T14:44:13.521328Z"
    }
   },
   "outputs": [
    {
     "data": {
      "text/plain": [
       "['VPact_120',\n",
       " 'VPact_144',\n",
       " 'VPact_24',\n",
       " 'VPact_48',\n",
       " 'VPact_72',\n",
       " 'VPact_96',\n",
       " 'VPdef_120',\n",
       " 'VPdef_144',\n",
       " 'VPdef_24',\n",
       " 'VPdef_48',\n",
       " 'VPdef_72',\n",
       " 'VPdef_96',\n",
       " 'VPmax_120',\n",
       " 'VPmax_144',\n",
       " 'VPmax_24',\n",
       " 'VPmax_48',\n",
       " 'VPmax_72',\n",
       " 'VPmax_96',\n",
       " 'concentracion_vapor_agua_120',\n",
       " 'concentracion_vapor_agua_144',\n",
       " 'concentracion_vapor_agua_24',\n",
       " 'concentracion_vapor_agua_48',\n",
       " 'concentracion_vapor_agua_72',\n",
       " 'concentracion_vapor_agua_96',\n",
       " 'direccion_viento_120',\n",
       " 'direccion_viento_144',\n",
       " 'direccion_viento_24',\n",
       " 'direccion_viento_48',\n",
       " 'direccion_viento_72',\n",
       " 'direccion_viento_96',\n",
       " 'hora',\n",
       " 'humedad_especifica_120',\n",
       " 'humedad_especifica_144',\n",
       " 'humedad_especifica_24',\n",
       " 'humedad_especifica_48',\n",
       " 'humedad_especifica_72',\n",
       " 'humedad_especifica_96',\n",
       " 'humedad_relativa_120',\n",
       " 'humedad_relativa_144',\n",
       " 'humedad_relativa_24',\n",
       " 'humedad_relativa_48',\n",
       " 'humedad_relativa_72',\n",
       " 'humedad_relativa_96',\n",
       " 'max_valocidad_viento_120',\n",
       " 'max_valocidad_viento_144',\n",
       " 'max_valocidad_viento_24',\n",
       " 'max_valocidad_viento_48',\n",
       " 'max_valocidad_viento_72',\n",
       " 'max_valocidad_viento_96',\n",
       " 'presion_24',\n",
       " 'presion_48',\n",
       " 'rho_120',\n",
       " 'rho_144',\n",
       " 'rho_24',\n",
       " 'rho_48',\n",
       " 'rho_72',\n",
       " 'rho_96',\n",
       " 'temperaturaDew_120',\n",
       " 'temperaturaDew_144',\n",
       " 'temperaturaDew_24',\n",
       " 'temperaturaDew_48',\n",
       " 'temperaturaDew_72',\n",
       " 'temperaturaDew_96',\n",
       " 'temperatura_120',\n",
       " 'temperatura_144',\n",
       " 'temperatura_24',\n",
       " 'temperatura_48',\n",
       " 'temperatura_72',\n",
       " 'temperatura_96',\n",
       " 'velocidad_viento_120',\n",
       " 'velocidad_viento_144',\n",
       " 'velocidad_viento_24',\n",
       " 'velocidad_viento_48',\n",
       " 'velocidad_viento_72',\n",
       " 'velocidad_viento_96']"
      ]
     },
     "execution_count": 32,
     "metadata": {},
     "output_type": "execute_result"
    }
   ],
   "source": [
    "selected_features_shapeffects_075_025"
   ]
  },
  {
   "cell_type": "code",
   "execution_count": 33,
   "metadata": {
    "ExecuteTime": {
     "end_time": "2023-01-02T14:44:13.554295Z",
     "start_time": "2023-01-02T14:44:13.541301Z"
    }
   },
   "outputs": [],
   "source": [
    "dict_results_shapeffects_075_025 = {'rmse':[], 'mae':[], 'r2':[]}"
   ]
  },
  {
   "cell_type": "code",
   "execution_count": 34,
   "metadata": {
    "ExecuteTime": {
     "end_time": "2023-01-02T15:01:06.309034Z",
     "start_time": "2023-01-02T14:44:13.558315Z"
    },
    "scrolled": true
   },
   "outputs": [
    {
     "name": "stdout",
     "output_type": "stream",
     "text": [
      "0\n",
      "1\n",
      "2\n",
      "3\n",
      "4\n",
      "5\n",
      "6\n",
      "7\n",
      "8\n",
      "9\n",
      "10\n",
      "11\n",
      "12\n",
      "13\n",
      "14\n",
      "15\n",
      "16\n",
      "17\n",
      "18\n",
      "19\n",
      "20\n",
      "21\n",
      "22\n",
      "23\n",
      "24\n",
      "25\n",
      "26\n",
      "27\n",
      "28\n",
      "29\n",
      "30\n",
      "31\n",
      "32\n",
      "33\n",
      "34\n",
      "35\n",
      "36\n",
      "37\n",
      "38\n",
      "39\n",
      "40\n",
      "41\n",
      "42\n",
      "43\n",
      "44\n",
      "45\n",
      "46\n",
      "47\n",
      "48\n",
      "49\n"
     ]
    }
   ],
   "source": [
    "X_test_shapeffects = X_test[selected_features_shapeffects_075_025]\n",
    "X_train_shapeffects= X_train[selected_features_shapeffects_075_025]\n",
    "X_val_shapeffects = X_val[selected_features_shapeffects_075_025]\n",
    "for iteration in range(50):\n",
    "    print(iteration)\n",
    "    model = CatBoostRegressor(verbose=0, n_estimators=250,use_best_model=True, random_seed=seeds[iteration])\n",
    "    model.fit(\n",
    "        X_train_shapeffects, y_train,\n",
    "        eval_set=(X_val_shapeffects, y_val),\n",
    "        verbose = 0,\n",
    "        plot=False\n",
    "    );\n",
    "    \n",
    "    test_results = scores_calc_print(y_test, model.predict(X_test_shapeffects), print_bool=False)\n",
    "    \n",
    "    dict_results_shapeffects_075_025[\"r2\"].append(test_results[\"R2\"])\n",
    "    dict_results_shapeffects_075_025[\"rmse\"].append(test_results[\"RMSE\"])\n",
    "    dict_results_shapeffects_075_025[\"mae\"].append(test_results[\"MAE\"])"
   ]
  },
  {
   "cell_type": "code",
   "execution_count": 35,
   "metadata": {
    "ExecuteTime": {
     "end_time": "2023-01-02T15:01:06.324991Z",
     "start_time": "2023-01-02T15:01:06.312027Z"
    }
   },
   "outputs": [],
   "source": [
    "results_shapeffects_075_025_df = pd.DataFrame(dict_results_shapeffects_075_025)\n",
    "mean_shapeffects_075_025_test = results_shapeffects_075_025_df.mean()\n",
    "std_shapeffects_075_025_test = results_shapeffects_075_025_df.std()\n",
    "max_shapeffects_075_025_test = results_shapeffects_075_025_df.max()\n",
    "min_shapeffects_075_025_test = results_shapeffects_075_025_df.min()"
   ]
  },
  {
   "cell_type": "code",
   "execution_count": 36,
   "metadata": {
    "ExecuteTime": {
     "end_time": "2023-01-02T15:01:06.355909Z",
     "start_time": "2023-01-02T15:01:06.326986Z"
    }
   },
   "outputs": [
    {
     "data": {
      "text/plain": [
       "(rmse    1.394002\n",
       " mae     1.038946\n",
       " r2      0.177321\n",
       " dtype: float64,\n",
       " rmse    0.002695\n",
       " mae     0.002195\n",
       " r2      0.003182\n",
       " dtype: float64,\n",
       " rmse    1.400444\n",
       " mae     1.045100\n",
       " r2      0.183675\n",
       " dtype: float64,\n",
       " rmse    1.388611\n",
       " mae     1.034301\n",
       " r2      0.169703\n",
       " dtype: float64)"
      ]
     },
     "execution_count": 36,
     "metadata": {},
     "output_type": "execute_result"
    }
   ],
   "source": [
    "mean_shapeffects_075_025_test, std_shapeffects_075_025_test, max_shapeffects_075_025_test, min_shapeffects_075_025_test"
   ]
  },
  {
   "cell_type": "markdown",
   "metadata": {},
   "source": [
    "## SHAPEffects 0.8-0.2"
   ]
  },
  {
   "cell_type": "code",
   "execution_count": 37,
   "metadata": {
    "ExecuteTime": {
     "end_time": "2023-01-02T15:32:43.397265Z",
     "start_time": "2023-01-02T15:01:06.357903Z"
    },
    "scrolled": true
   },
   "outputs": [
    {
     "name": "stdout",
     "output_type": "stream",
     "text": [
      "Preprocessing\n",
      "-------------\n",
      "\n",
      "Introducing a random variable\n",
      "Calculating Shapley values\n",
      "Removing the first features\n",
      "0 features have been removed\n",
      "\n",
      "Starting core module\n",
      "--------------------\n",
      "\n",
      "Iteration 1\n",
      "\tClasifying residuals\n",
      "\tGiving weights to features\n",
      "\tSelecting features\n",
      "\t1 features have been removed\n",
      "\t ['presion_72']\n",
      "\t79 features left\n",
      "\n",
      "Iteration 2\n",
      "\tClasifying residuals\n",
      "\tGiving weights to features\n",
      "\tSelecting features\n",
      "\t1 features have been removed\n",
      "\t ['presion_96']\n",
      "\t78 features left\n",
      "\n",
      "Iteration 3\n",
      "\tClasifying residuals\n",
      "\tGiving weights to features\n",
      "\tSelecting features\n",
      "\t1 features have been removed\n",
      "\t ['mes']\n",
      "\t77 features left\n",
      "\n",
      "Iteration 4\n",
      "\tClasifying residuals\n",
      "\tGiving weights to features\n",
      "\tSelecting features\n",
      "\t1 features have been removed\n",
      "\t ['max_valocidad_viento_24']\n",
      "\t76 features left\n",
      "\n",
      "Iteration 5\n",
      "\tClasifying residuals\n",
      "\tGiving weights to features\n",
      "\tSelecting features\n",
      "\t1 features have been removed\n",
      "\t ['presion_120']\n",
      "\t75 features left\n",
      "\n",
      "Iteration 6\n",
      "\tClasifying residuals\n",
      "\tGiving weights to features\n",
      "\tSelecting features\n",
      "\t1 features have been removed\n",
      "\t ['presion_144']\n",
      "\t74 features left\n",
      "\n",
      "Iteration 7\n",
      "\tClasifying residuals\n",
      "\tGiving weights to features\n",
      "\tSelecting features\n",
      "\t1 features have been removed\n",
      "\t ['hora']\n",
      "\t73 features left\n",
      "\n",
      "Iteration 8\n",
      "\tClasifying residuals\n",
      "\tGiving weights to features\n",
      "\tSelecting features\n",
      "\t1 features have been removed\n",
      "\t ['velocidad_viento_24']\n",
      "\t72 features left\n",
      "\n",
      "Iteration 9\n",
      "\tClasifying residuals\n",
      "\tGiving weights to features\n",
      "\tSelecting features\n",
      "\t1 features have been removed\n",
      "\t ['velocidad_viento_144']\n",
      "\t71 features left\n",
      "\n",
      "Iteration 10\n",
      "\tClasifying residuals\n",
      "\tGiving weights to features\n",
      "\tSelecting features\n",
      "\t1 features have been removed\n",
      "\t ['presion_48']\n",
      "\t70 features left\n",
      "\n",
      "Iteration 11\n",
      "\tClasifying residuals\n",
      "\tGiving weights to features\n",
      "\tSelecting features\n",
      "\t1 features have been removed\n",
      "\t ['max_valocidad_viento_72']\n",
      "\t69 features left\n",
      "\n",
      "Iteration 12\n",
      "\tClasifying residuals\n",
      "\tGiving weights to features\n",
      "\tSelecting features\n",
      "\t1 features have been removed\n",
      "\t ['rho_96']\n",
      "\t68 features left\n",
      "\n",
      "Iteration 13\n",
      "\tClasifying residuals\n",
      "\tGiving weights to features\n",
      "\tSelecting features\n",
      "\t1 features have been removed\n",
      "\t ['max_valocidad_viento_48']\n",
      "\t67 features left\n",
      "\n",
      "Iteration 14\n",
      "\tClasifying residuals\n",
      "\tGiving weights to features\n",
      "\tSelecting features\n",
      "\t1 features have been removed\n",
      "\t ['velocidad_viento_48']\n",
      "\t66 features left\n",
      "\n",
      "Iteration 15\n",
      "\tClasifying residuals\n",
      "\tGiving weights to features\n",
      "\tSelecting features\n",
      "\t1 features have been removed\n",
      "\t ['max_valocidad_viento_144']\n",
      "\t65 features left\n",
      "\n",
      "Iteration 16\n",
      "\tClasifying residuals\n",
      "\tGiving weights to features\n",
      "\tSelecting features\n",
      "\t1 features have been removed\n",
      "\t ['VPmax_72']\n",
      "\t64 features left\n",
      "\n",
      "Iteration 17\n",
      "\tClasifying residuals\n",
      "\tGiving weights to features\n",
      "\tSelecting features\n",
      "\t1 features have been removed\n",
      "\t ['temperatura_72']\n",
      "\t63 features left\n",
      "\n",
      "Iteration 18\n",
      "\tClasifying residuals\n",
      "\tGiving weights to features\n",
      "\tSelecting features\n",
      "\t1 features have been removed\n",
      "\t ['velocidad_viento_120']\n",
      "\t62 features left\n",
      "\n",
      "Iteration 19\n",
      "\tClasifying residuals\n",
      "\tGiving weights to features\n",
      "\tSelecting features\n",
      "\t1 features have been removed\n",
      "\t ['max_valocidad_viento_120']\n",
      "\t61 features left\n",
      "\n",
      "Iteration 20\n",
      "\tClasifying residuals\n",
      "\tGiving weights to features\n",
      "\tSelecting features\n",
      "\t1 features have been removed\n",
      "\t ['VPmax_144']\n",
      "\t60 features left\n",
      "\n",
      "Iteration 21\n",
      "\tClasifying residuals\n",
      "\tGiving weights to features\n",
      "\tSelecting features\n",
      "\t1 features have been removed\n",
      "\t ['max_valocidad_viento_96']\n",
      "\t59 features left\n",
      "\n",
      "Iteration 22\n",
      "\tClasifying residuals\n",
      "\tGiving weights to features\n",
      "\tSelecting features\n",
      "\t1 features have been removed\n",
      "\t ['rho_72']\n",
      "\t58 features left\n",
      "\n",
      "Iteration 23\n",
      "\tClasifying residuals\n",
      "\tGiving weights to features\n",
      "\tSelecting features\n",
      "\t1 features have been removed\n",
      "\t ['rho_144']\n",
      "\t57 features left\n",
      "\n",
      "Iteration 24\n",
      "\tClasifying residuals\n",
      "\tGiving weights to features\n",
      "\tSelecting features\n",
      "\t1 features have been removed\n",
      "\t ['direccion_viento_72']\n",
      "\t56 features left\n",
      "\n",
      "Iteration 25\n",
      "\tClasifying residuals\n",
      "\tGiving weights to features\n",
      "\tSelecting features\n",
      "\t1 features have been removed\n",
      "\t ['temperaturaDew_72']\n",
      "\t55 features left\n",
      "\n",
      "Iteration 26\n",
      "\tClasifying residuals\n",
      "\tGiving weights to features\n",
      "\tSelecting features\n",
      "\t1 features have been removed\n",
      "\t ['concentracion_vapor_agua_48']\n",
      "\t54 features left\n",
      "\n",
      "Iteration 27\n",
      "\tClasifying residuals\n",
      "\tGiving weights to features\n",
      "\tSelecting features\n",
      "\t1 features have been removed\n",
      "\t ['VPdef_96']\n",
      "\t53 features left\n",
      "\n",
      "Iteration 28\n",
      "\tClasifying residuals\n",
      "\tGiving weights to features\n",
      "\tSelecting features\n",
      "\t1 features have been removed\n",
      "\t ['humedad_relativa_72']\n",
      "\t52 features left\n",
      "\n",
      "Iteration 29\n",
      "\tClasifying residuals\n",
      "\tGiving weights to features\n",
      "\tSelecting features\n",
      "\t1 features have been removed\n",
      "\t ['rho_120']\n",
      "\t51 features left\n",
      "\n",
      "Iteration 30\n",
      "\tClasifying residuals\n",
      "\tGiving weights to features\n",
      "\tSelecting features\n",
      "\t1 features have been removed\n",
      "\t ['temperatura_96']\n",
      "\t50 features left\n",
      "\n",
      "Iteration 31\n",
      "\tClasifying residuals\n",
      "\tGiving weights to features\n",
      "\tSelecting features\n",
      "\t1 features have been removed\n",
      "\t ['VPmax_96']\n",
      "\t49 features left\n",
      "\n",
      "Iteration 32\n",
      "\tClasifying residuals\n",
      "\tGiving weights to features\n",
      "\tSelecting features\n",
      "\t1 features have been removed\n",
      "\t ['temperaturaDew_24']\n",
      "\t48 features left\n",
      "\n",
      "Iteration 33\n",
      "\tClasifying residuals\n",
      "\tGiving weights to features\n",
      "\tSelecting features\n",
      "\t1 features have been removed\n",
      "\t ['VPact_24']\n",
      "\t47 features left\n",
      "\n",
      "Iteration 34\n",
      "\tClasifying residuals\n",
      "\tGiving weights to features\n",
      "\tSelecting features\n",
      "\t1 features have been removed\n",
      "\t ['humedad_relativa_96']\n",
      "\t46 features left\n",
      "\n",
      "Iteration 35\n",
      "\tClasifying residuals\n",
      "\tGiving weights to features\n",
      "\tSelecting features\n",
      "\t1 features have been removed\n",
      "\t ['VPact_72']\n",
      "\t45 features left\n",
      "\n",
      "Iteration 36\n",
      "\tClasifying residuals\n",
      "\tGiving weights to features\n",
      "\tSelecting features\n",
      "\t1 features have been removed\n",
      "\t ['humedad_especifica_24']\n",
      "\t44 features left\n",
      "\n",
      "Iteration 37\n",
      "\tClasifying residuals\n",
      "\tGiving weights to features\n",
      "\tSelecting features\n",
      "\t1 features have been removed\n",
      "\t ['VPdef_72']\n",
      "\t43 features left\n",
      "\n",
      "Iteration 38\n",
      "\tClasifying residuals\n",
      "\tGiving weights to features\n",
      "\tSelecting features\n",
      "\t1 features have been removed\n",
      "\t ['rho_24']\n",
      "\t42 features left\n",
      "\n",
      "Iteration 39\n",
      "\tClasifying residuals\n",
      "\tGiving weights to features\n",
      "\tSelecting features\n",
      "\t1 features have been removed\n",
      "\t ['velocidad_viento_72']\n",
      "\t41 features left\n",
      "\n",
      "Iteration 40\n",
      "\tClasifying residuals\n",
      "\tGiving weights to features\n",
      "\tSelecting features\n",
      "\t1 features have been removed\n",
      "\t ['VPact_96']\n",
      "\t40 features left\n",
      "\n",
      "Iteration 41\n",
      "\tClasifying residuals\n",
      "\tGiving weights to features\n",
      "\tSelecting features\n",
      "\t1 features have been removed\n",
      "\t ['VPdef_120']\n",
      "\t39 features left\n",
      "\n",
      "Iteration 42\n",
      "\tClasifying residuals\n",
      "\tGiving weights to features\n",
      "\tSelecting features\n",
      "\t1 features have been removed\n",
      "\t ['concentracion_vapor_agua_24']\n",
      "\t38 features left\n",
      "\n",
      "Iteration 43\n",
      "\tClasifying residuals\n",
      "\tGiving weights to features\n",
      "\tSelecting features\n",
      "\t1 features have been removed\n",
      "\t ['temperaturaDew_144']\n",
      "\t37 features left\n",
      "\n",
      "Iteration 44\n",
      "\tClasifying residuals\n",
      "\tGiving weights to features\n",
      "\tSelecting features\n",
      "\t1 features have been removed\n",
      "\t ['VPact_48']\n",
      "\t36 features left\n",
      "\n",
      "Iteration 45\n",
      "\tClasifying residuals\n",
      "\tGiving weights to features\n",
      "\tSelecting features\n",
      "\t1 features have been removed\n",
      "\t ['humedad_especifica_48']\n",
      "\t35 features left\n",
      "\n",
      "Iteration 46\n",
      "\tClasifying residuals\n",
      "\tGiving weights to features\n",
      "\tSelecting features\n",
      "\t1 features have been removed\n",
      "\t ['humedad_especifica_72']\n",
      "\t34 features left\n",
      "\n",
      "Iteration 47\n",
      "\tClasifying residuals\n",
      "\tGiving weights to features\n",
      "\tSelecting features\n",
      "\t1 features have been removed\n",
      "\t ['VPmax_24']\n",
      "\t33 features left\n",
      "\n",
      "Iteration 48\n",
      "\tClasifying residuals\n",
      "\tGiving weights to features\n",
      "\tSelecting features\n",
      "\t1 features have been removed\n",
      "\t ['concentracion_vapor_agua_72']\n",
      "\t32 features left\n",
      "\n",
      "Iteration 49\n",
      "\tClasifying residuals\n",
      "\tGiving weights to features\n",
      "\tSelecting features\n",
      "\t1 features have been removed\n",
      "\t ['temperaturaDew_96']\n",
      "\t31 features left\n",
      "\n",
      "Iteration 50\n",
      "\tClasifying residuals\n",
      "\tGiving weights to features\n",
      "\tSelecting features\n",
      "\t1 features have been removed\n",
      "\t ['temperatura_24']\n",
      "\t30 features left\n",
      "\n",
      "Iteration 51\n",
      "\tClasifying residuals\n",
      "\tGiving weights to features\n",
      "\tSelecting features\n",
      "\t1 features have been removed\n",
      "\t ['VPdef_48']\n",
      "\t29 features left\n",
      "\n",
      "Iteration 52\n",
      "\tClasifying residuals\n",
      "\tGiving weights to features\n",
      "\tSelecting features\n",
      "\t1 features have been removed\n",
      "\t ['temperatura_120']\n",
      "\t28 features left\n",
      "\n",
      "Iteration 53\n",
      "\tClasifying residuals\n",
      "\tGiving weights to features\n",
      "\tSelecting features\n",
      "\t1 features have been removed\n",
      "\t ['VPmax_120']\n",
      "\t27 features left\n"
     ]
    },
    {
     "name": "stdout",
     "output_type": "stream",
     "text": [
      "\n",
      "Iteration 54\n",
      "\tClasifying residuals\n",
      "\tGiving weights to features\n",
      "\tSelecting features\n",
      "\t1 features have been removed\n",
      "\t ['direccion_viento_24']\n",
      "\t26 features left\n",
      "\n",
      "Iteration 55\n",
      "\tClasifying residuals\n",
      "\tGiving weights to features\n",
      "\tSelecting features\n",
      "\t1 features have been removed\n",
      "\t ['humedad_relativa_48']\n",
      "\t25 features left\n",
      "\n",
      "Iteration 56\n",
      "\tClasifying residuals\n",
      "\tGiving weights to features\n",
      "\tSelecting features\n",
      "\t1 features have been removed\n",
      "\t ['humedad_relativa_120']\n",
      "\t24 features left\n",
      "\n",
      "Iteration 57\n",
      "\tClasifying residuals\n",
      "\tGiving weights to features\n",
      "\tSelecting features\n",
      "\t1 features have been removed\n",
      "\t ['VPact_144']\n",
      "\t23 features left\n",
      "\n",
      "Iteration 58\n",
      "\tClasifying residuals\n",
      "\tGiving weights to features\n",
      "\tSelecting features\n",
      "\t1 features have been removed\n",
      "\t ['humedad_relativa_144']\n",
      "\t22 features left\n",
      "\n",
      "Iteration 59\n",
      "\tClasifying residuals\n",
      "\tGiving weights to features\n",
      "\tSelecting features\n",
      "\t1 features have been removed\n",
      "\t ['rho_48']\n",
      "\t21 features left\n",
      "\n",
      "Iteration 60\n",
      "\tClasifying residuals\n",
      "\tGiving weights to features\n",
      "\tSelecting features\n",
      "\t1 features have been removed\n",
      "\t ['temperatura_144']\n",
      "\t20 features left\n",
      "\n",
      "Iteration 61\n",
      "\tClasifying residuals\n",
      "\tGiving weights to features\n",
      "\tSelecting features\n",
      "\t1 features have been removed\n",
      "\t ['humedad_especifica_144']\n",
      "\t19 features left\n",
      "\n",
      "Iteration 62\n",
      "\tClasifying residuals\n",
      "\tGiving weights to features\n",
      "\tSelecting features\n",
      "\t1 features have been removed\n",
      "\t ['temperaturaDew_48']\n",
      "\t18 features left\n",
      "\n",
      "Iteration 63\n",
      "\tClasifying residuals\n",
      "\tGiving weights to features\n",
      "\tSelecting features\n",
      "\t1 features have been removed\n",
      "\t ['VPmax_48']\n",
      "\t17 features left\n",
      "\n",
      "Iteration 64\n",
      "\tClasifying residuals\n",
      "\tGiving weights to features\n",
      "\tSelecting features\n",
      "\t1 features have been removed\n",
      "\t ['temperatura_48']\n",
      "\t16 features left\n",
      "\n",
      "Iteration 65\n",
      "\tClasifying residuals\n",
      "\tGiving weights to features\n",
      "\tSelecting features\n",
      "\t1 features have been removed\n",
      "\t ['direccion_viento_96']\n",
      "\t15 features left\n",
      "\n",
      "Iteration 66\n",
      "\tClasifying residuals\n",
      "\tGiving weights to features\n",
      "\tSelecting features\n",
      "\t1 features have been removed\n",
      "\t ['humedad_especifica_96']\n",
      "\t14 features left\n",
      "\n",
      "Iteration 67\n",
      "\tClasifying residuals\n",
      "\tGiving weights to features\n",
      "\tSelecting features\n",
      "\t1 features have been removed\n",
      "\t ['concentracion_vapor_agua_144']\n",
      "\t13 features left\n",
      "\n",
      "Iteration 68\n",
      "\tClasifying residuals\n",
      "\tGiving weights to features\n",
      "\tSelecting features\n",
      "\t1 features have been removed\n",
      "\t ['concentracion_vapor_agua_96']\n",
      "\t12 features left\n",
      "\n",
      "Iteration 69\n",
      "\tClasifying residuals\n",
      "\tGiving weights to features\n",
      "\tSelecting features\n",
      "\t1 features have been removed\n",
      "\t ['humedad_relativa_24']\n",
      "\t11 features left\n",
      "\n",
      "Iteration 70\n",
      "\tClasifying residuals\n",
      "\tGiving weights to features\n",
      "\tSelecting features\n",
      "\t1 features have been removed\n",
      "\t ['velocidad_viento_96']\n",
      "\t10 features left\n",
      "\n",
      "Iteration 71\n",
      "\tClasifying residuals\n",
      "\tGiving weights to features\n",
      "\tSelecting features\n",
      "\t0 features have been removed\n",
      "\t10 features left\n",
      "10 features have been selected out of 81\n"
     ]
    }
   ],
   "source": [
    "model = CatBoostRegressor(verbose=0, n_estimators=250,use_best_model=False, random_seed = 123)\n",
    "feat_sel = FeatureSelector()\n",
    "selected_features_shapeffects_08_02 = feat_sel.fit(X_train, y_train, X_val, y_val, model, 30, 0.2, 0.8)\n",
    "selected_features_shapeffects_08_02 = sorted(list(selected_features_shapeffects_08_02))"
   ]
  },
  {
   "cell_type": "code",
   "execution_count": 38,
   "metadata": {
    "ExecuteTime": {
     "end_time": "2023-01-02T15:32:43.761412Z",
     "start_time": "2023-01-02T15:32:43.399259Z"
    }
   },
   "outputs": [
    {
     "data": {
      "text/plain": [
       "<matplotlib.lines.Line2D at 0x29db6f19370>"
      ]
     },
     "execution_count": 38,
     "metadata": {},
     "output_type": "execute_result"
    },
    {
     "data": {
      "image/png": "[encoded data removed]",
      "text/plain": [
       "<Figure size 1440x720 with 1 Axes>"
      ]
     },
     "metadata": {},
     "output_type": "display_data"
    }
   ],
   "source": [
    "fig, ax = plt.subplots(1, 1, figsize=(20, 10))\n",
    "ax.plot(range(len(feat_sel.maes)), feat_sel.maes.keys(), '-o')\n",
    "ax.title.set_text(\"MAE Change\")\n",
    "ax.title.set_size(15)\n",
    "plt.axvline(np.argmin(list(feat_sel.maes.keys())), color='red', linestyle='dashed', linewidth=1)"
   ]
  },
  {
   "cell_type": "code",
   "execution_count": 39,
   "metadata": {
    "ExecuteTime": {
     "end_time": "2023-01-02T15:32:43.777371Z",
     "start_time": "2023-01-02T15:32:43.763407Z"
    }
   },
   "outputs": [
    {
     "data": {
      "text/plain": [
       "['VPact_120',\n",
       " 'VPact_144',\n",
       " 'VPact_24',\n",
       " 'VPact_48',\n",
       " 'VPact_72',\n",
       " 'VPact_96',\n",
       " 'VPdef_120',\n",
       " 'VPdef_144',\n",
       " 'VPdef_24',\n",
       " 'VPdef_48',\n",
       " 'VPdef_72',\n",
       " 'VPdef_96',\n",
       " 'VPmax_120',\n",
       " 'VPmax_144',\n",
       " 'VPmax_24',\n",
       " 'VPmax_48',\n",
       " 'VPmax_72',\n",
       " 'VPmax_96',\n",
       " 'concentracion_vapor_agua_120',\n",
       " 'concentracion_vapor_agua_144',\n",
       " 'concentracion_vapor_agua_24',\n",
       " 'concentracion_vapor_agua_48',\n",
       " 'concentracion_vapor_agua_72',\n",
       " 'concentracion_vapor_agua_96',\n",
       " 'direccion_viento_120',\n",
       " 'direccion_viento_144',\n",
       " 'direccion_viento_24',\n",
       " 'direccion_viento_48',\n",
       " 'direccion_viento_72',\n",
       " 'direccion_viento_96',\n",
       " 'hora',\n",
       " 'humedad_especifica_120',\n",
       " 'humedad_especifica_144',\n",
       " 'humedad_especifica_24',\n",
       " 'humedad_especifica_48',\n",
       " 'humedad_especifica_72',\n",
       " 'humedad_especifica_96',\n",
       " 'humedad_relativa_120',\n",
       " 'humedad_relativa_144',\n",
       " 'humedad_relativa_24',\n",
       " 'humedad_relativa_48',\n",
       " 'humedad_relativa_72',\n",
       " 'humedad_relativa_96',\n",
       " 'max_valocidad_viento_120',\n",
       " 'max_valocidad_viento_144',\n",
       " 'max_valocidad_viento_48',\n",
       " 'max_valocidad_viento_72',\n",
       " 'max_valocidad_viento_96',\n",
       " 'presion_24',\n",
       " 'presion_48',\n",
       " 'rho_120',\n",
       " 'rho_144',\n",
       " 'rho_24',\n",
       " 'rho_48',\n",
       " 'rho_72',\n",
       " 'rho_96',\n",
       " 'temperaturaDew_120',\n",
       " 'temperaturaDew_144',\n",
       " 'temperaturaDew_24',\n",
       " 'temperaturaDew_48',\n",
       " 'temperaturaDew_72',\n",
       " 'temperaturaDew_96',\n",
       " 'temperatura_120',\n",
       " 'temperatura_144',\n",
       " 'temperatura_24',\n",
       " 'temperatura_48',\n",
       " 'temperatura_72',\n",
       " 'temperatura_96',\n",
       " 'velocidad_viento_120',\n",
       " 'velocidad_viento_144',\n",
       " 'velocidad_viento_24',\n",
       " 'velocidad_viento_48',\n",
       " 'velocidad_viento_72',\n",
       " 'velocidad_viento_96']"
      ]
     },
     "execution_count": 39,
     "metadata": {},
     "output_type": "execute_result"
    }
   ],
   "source": [
    "selected_features_shapeffects_08_02"
   ]
  },
  {
   "cell_type": "code",
   "execution_count": 42,
   "metadata": {
    "ExecuteTime": {
     "end_time": "2023-01-02T15:41:42.739756Z",
     "start_time": "2023-01-02T15:41:42.729781Z"
    }
   },
   "outputs": [],
   "source": [
    "dict_results_shapeffects_08_02 = {'rmse':[], 'mae':[], 'r2':[]}"
   ]
  },
  {
   "cell_type": "code",
   "execution_count": 43,
   "metadata": {
    "ExecuteTime": {
     "end_time": "2023-01-02T15:50:44.061356Z",
     "start_time": "2023-01-02T15:41:42.741750Z"
    },
    "scrolled": true
   },
   "outputs": [
    {
     "name": "stdout",
     "output_type": "stream",
     "text": [
      "0\n",
      "1\n",
      "2\n",
      "3\n",
      "4\n",
      "5\n",
      "6\n",
      "7\n",
      "8\n",
      "9\n",
      "10\n",
      "11\n",
      "12\n",
      "13\n",
      "14\n",
      "15\n",
      "16\n",
      "17\n",
      "18\n",
      "19\n",
      "20\n",
      "21\n",
      "22\n",
      "23\n",
      "24\n",
      "25\n",
      "26\n",
      "27\n",
      "28\n",
      "29\n",
      "30\n",
      "31\n",
      "32\n",
      "33\n",
      "34\n",
      "35\n",
      "36\n",
      "37\n",
      "38\n",
      "39\n",
      "40\n",
      "41\n",
      "42\n",
      "43\n",
      "44\n",
      "45\n",
      "46\n",
      "47\n",
      "48\n",
      "49\n"
     ]
    }
   ],
   "source": [
    "X_test_shapeffects = X_test[selected_features_shapeffects_08_02]\n",
    "X_train_shapeffects= X_train[selected_features_shapeffects_08_02]\n",
    "X_val_shapeffects = X_val[selected_features_shapeffects_08_02]\n",
    "for iteration in range(50):\n",
    "    print(iteration)\n",
    "    model = CatBoostRegressor(verbose=0, n_estimators=250,use_best_model=True, random_seed=seeds[iteration])\n",
    "    model.fit(\n",
    "        X_train_shapeffects, y_train,\n",
    "        eval_set=(X_val_shapeffects, y_val),\n",
    "        verbose = 0,\n",
    "        plot=False\n",
    "    );\n",
    "    \n",
    "    test_results = scores_calc_print(y_test, model.predict(X_test_shapeffects), print_bool=False)\n",
    "    \n",
    "    dict_results_shapeffects_08_02[\"r2\"].append(test_results[\"R2\"])\n",
    "    dict_results_shapeffects_08_02[\"rmse\"].append(test_results[\"RMSE\"])\n",
    "    dict_results_shapeffects_08_02[\"mae\"].append(test_results[\"MAE\"])"
   ]
  },
  {
   "cell_type": "code",
   "execution_count": 44,
   "metadata": {
    "ExecuteTime": {
     "end_time": "2023-01-02T15:50:44.081334Z",
     "start_time": "2023-01-02T15:50:44.064868Z"
    }
   },
   "outputs": [],
   "source": [
    "results_shapeffects_08_02_df = pd.DataFrame(dict_results_shapeffects_08_02)\n",
    "mean_shapeffects_08_02_test = results_shapeffects_08_02_df.mean()\n",
    "std_shapeffects_08_02_test = results_shapeffects_08_02_df.std()\n",
    "max_shapeffects_08_02_test = results_shapeffects_08_02_df.max()\n",
    "min_shapeffects_08_02_test = results_shapeffects_08_02_df.min()"
   ]
  },
  {
   "cell_type": "code",
   "execution_count": 45,
   "metadata": {
    "ExecuteTime": {
     "end_time": "2023-01-02T15:50:44.108263Z",
     "start_time": "2023-01-02T15:50:44.086320Z"
    }
   },
   "outputs": [
    {
     "data": {
      "text/plain": [
       "(rmse    1.398647\n",
       " mae     1.042341\n",
       " r2      0.171825\n",
       " dtype: float64,\n",
       " rmse    0.004062\n",
       " mae     0.002846\n",
       " r2      0.004814\n",
       " dtype: float64,\n",
       " rmse    1.412900\n",
       " mae     1.054017\n",
       " r2      0.181939\n",
       " dtype: float64,\n",
       " rmse    1.390086\n",
       " mae     1.036749\n",
       " r2      0.154868\n",
       " dtype: float64)"
      ]
     },
     "execution_count": 45,
     "metadata": {},
     "output_type": "execute_result"
    }
   ],
   "source": [
    "mean_shapeffects_08_02_test, std_shapeffects_08_02_test, max_shapeffects_08_02_test, min_shapeffects_08_02_test"
   ]
  },
  {
   "cell_type": "markdown",
   "metadata": {},
   "source": [
    "## SHAPEffects 0.85-0.15"
   ]
  },
  {
   "cell_type": "code",
   "execution_count": 46,
   "metadata": {
    "ExecuteTime": {
     "end_time": "2023-01-02T16:14:19.097206Z",
     "start_time": "2023-01-02T15:50:44.110770Z"
    },
    "scrolled": true
   },
   "outputs": [
    {
     "name": "stdout",
     "output_type": "stream",
     "text": [
      "Preprocessing\n",
      "-------------\n",
      "\n",
      "Introducing a random variable\n",
      "Calculating Shapley values\n",
      "Removing the first features\n",
      "0 features have been removed\n",
      "\n",
      "Starting core module\n",
      "--------------------\n",
      "\n",
      "Iteration 1\n",
      "\tClasifying residuals\n",
      "\tGiving weights to features\n",
      "\tSelecting features\n",
      "\t1 features have been removed\n",
      "\t ['presion_72']\n",
      "\t79 features left\n",
      "\n",
      "Iteration 2\n",
      "\tClasifying residuals\n",
      "\tGiving weights to features\n",
      "\tSelecting features\n",
      "\t1 features have been removed\n",
      "\t ['mes']\n",
      "\t78 features left\n",
      "\n",
      "Iteration 3\n",
      "\tClasifying residuals\n",
      "\tGiving weights to features\n",
      "\tSelecting features\n",
      "\t1 features have been removed\n",
      "\t ['presion_96']\n",
      "\t77 features left\n",
      "\n",
      "Iteration 4\n",
      "\tClasifying residuals\n",
      "\tGiving weights to features\n",
      "\tSelecting features\n",
      "\t1 features have been removed\n",
      "\t ['hora']\n",
      "\t76 features left\n",
      "\n",
      "Iteration 5\n",
      "\tClasifying residuals\n",
      "\tGiving weights to features\n",
      "\tSelecting features\n",
      "\t1 features have been removed\n",
      "\t ['max_valocidad_viento_24']\n",
      "\t75 features left\n",
      "\n",
      "Iteration 6\n",
      "\tClasifying residuals\n",
      "\tGiving weights to features\n",
      "\tSelecting features\n",
      "\t1 features have been removed\n",
      "\t ['velocidad_viento_24']\n",
      "\t74 features left\n",
      "\n",
      "Iteration 7\n",
      "\tClasifying residuals\n",
      "\tGiving weights to features\n",
      "\tSelecting features\n",
      "\t1 features have been removed\n",
      "\t ['presion_120']\n",
      "\t73 features left\n",
      "\n",
      "Iteration 8\n",
      "\tClasifying residuals\n",
      "\tGiving weights to features\n",
      "\tSelecting features\n",
      "\t1 features have been removed\n",
      "\t ['max_valocidad_viento_48']\n",
      "\t72 features left\n",
      "\n",
      "Iteration 9\n",
      "\tClasifying residuals\n",
      "\tGiving weights to features\n",
      "\tSelecting features\n",
      "\t1 features have been removed\n",
      "\t ['presion_144']\n",
      "\t71 features left\n",
      "\n",
      "Iteration 10\n",
      "\tClasifying residuals\n",
      "\tGiving weights to features\n",
      "\tSelecting features\n",
      "\t1 features have been removed\n",
      "\t ['velocidad_viento_48']\n",
      "\t70 features left\n",
      "\n",
      "Iteration 11\n",
      "\tClasifying residuals\n",
      "\tGiving weights to features\n",
      "\tSelecting features\n",
      "\t1 features have been removed\n",
      "\t ['max_valocidad_viento_120']\n",
      "\t69 features left\n",
      "\n",
      "Iteration 12\n",
      "\tClasifying residuals\n",
      "\tGiving weights to features\n",
      "\tSelecting features\n",
      "\t1 features have been removed\n",
      "\t ['velocidad_viento_120']\n",
      "\t68 features left\n",
      "\n",
      "Iteration 13\n",
      "\tClasifying residuals\n",
      "\tGiving weights to features\n",
      "\tSelecting features\n",
      "\t1 features have been removed\n",
      "\t ['presion_48']\n",
      "\t67 features left\n",
      "\n",
      "Iteration 14\n",
      "\tClasifying residuals\n",
      "\tGiving weights to features\n",
      "\tSelecting features\n",
      "\t1 features have been removed\n",
      "\t ['VPmax_72']\n",
      "\t66 features left\n",
      "\n",
      "Iteration 15\n",
      "\tClasifying residuals\n",
      "\tGiving weights to features\n",
      "\tSelecting features\n",
      "\t1 features have been removed\n",
      "\t ['max_valocidad_viento_144']\n",
      "\t65 features left\n",
      "\n",
      "Iteration 16\n",
      "\tClasifying residuals\n",
      "\tGiving weights to features\n",
      "\tSelecting features\n",
      "\t1 features have been removed\n",
      "\t ['velocidad_viento_144']\n",
      "\t64 features left\n",
      "\n",
      "Iteration 17\n",
      "\tClasifying residuals\n",
      "\tGiving weights to features\n",
      "\tSelecting features\n",
      "\t1 features have been removed\n",
      "\t ['rho_144']\n",
      "\t63 features left\n",
      "\n",
      "Iteration 18\n",
      "\tClasifying residuals\n",
      "\tGiving weights to features\n",
      "\tSelecting features\n",
      "\t1 features have been removed\n",
      "\t ['max_valocidad_viento_72']\n",
      "\t62 features left\n",
      "\n",
      "Iteration 19\n",
      "\tClasifying residuals\n",
      "\tGiving weights to features\n",
      "\tSelecting features\n",
      "\t1 features have been removed\n",
      "\t ['temperatura_72']\n",
      "\t61 features left\n",
      "\n",
      "Iteration 20\n",
      "\tClasifying residuals\n",
      "\tGiving weights to features\n",
      "\tSelecting features\n",
      "\t1 features have been removed\n",
      "\t ['max_valocidad_viento_96']\n",
      "\t60 features left\n",
      "\n",
      "Iteration 21\n",
      "\tClasifying residuals\n",
      "\tGiving weights to features\n",
      "\tSelecting features\n",
      "\t1 features have been removed\n",
      "\t ['temperatura_96']\n",
      "\t59 features left\n",
      "\n",
      "Iteration 22\n",
      "\tClasifying residuals\n",
      "\tGiving weights to features\n",
      "\tSelecting features\n",
      "\t1 features have been removed\n",
      "\t ['rho_72']\n",
      "\t58 features left\n",
      "\n",
      "Iteration 23\n",
      "\tClasifying residuals\n",
      "\tGiving weights to features\n",
      "\tSelecting features\n",
      "\t1 features have been removed\n",
      "\t ['temperaturaDew_24']\n",
      "\t57 features left\n",
      "\n",
      "Iteration 24\n",
      "\tClasifying residuals\n",
      "\tGiving weights to features\n",
      "\tSelecting features\n",
      "\t1 features have been removed\n",
      "\t ['velocidad_viento_72']\n",
      "\t56 features left\n",
      "\n",
      "Iteration 25\n",
      "\tClasifying residuals\n",
      "\tGiving weights to features\n",
      "\tSelecting features\n",
      "\t1 features have been removed\n",
      "\t ['rho_48']\n",
      "\t55 features left\n",
      "\n",
      "Iteration 26\n",
      "\tClasifying residuals\n",
      "\tGiving weights to features\n",
      "\tSelecting features\n",
      "\t1 features have been removed\n",
      "\t ['VPdef_72']\n",
      "\t54 features left\n",
      "\n",
      "Iteration 27\n",
      "\tClasifying residuals\n",
      "\tGiving weights to features\n",
      "\tSelecting features\n",
      "\t1 features have been removed\n",
      "\t ['VPact_72']\n",
      "\t53 features left\n",
      "\n",
      "Iteration 28\n",
      "\tClasifying residuals\n",
      "\tGiving weights to features\n",
      "\tSelecting features\n",
      "\t1 features have been removed\n",
      "\t ['temperaturaDew_96']\n",
      "\t52 features left\n",
      "\n",
      "Iteration 29\n",
      "\tClasifying residuals\n",
      "\tGiving weights to features\n",
      "\tSelecting features\n",
      "\t1 features have been removed\n",
      "\t ['rho_96']\n",
      "\t51 features left\n",
      "\n",
      "Iteration 30\n",
      "\tClasifying residuals\n",
      "\tGiving weights to features\n",
      "\tSelecting features\n",
      "\t1 features have been removed\n",
      "\t ['rho_120']\n",
      "\t50 features left\n",
      "\n",
      "Iteration 31\n",
      "\tClasifying residuals\n",
      "\tGiving weights to features\n",
      "\tSelecting features\n",
      "\t1 features have been removed\n",
      "\t ['direccion_viento_24']\n",
      "\t49 features left\n",
      "\n",
      "Iteration 32\n",
      "\tClasifying residuals\n",
      "\tGiving weights to features\n",
      "\tSelecting features\n",
      "\t1 features have been removed\n",
      "\t ['humedad_relativa_24']\n",
      "\t48 features left\n",
      "\n",
      "Iteration 33\n",
      "\tClasifying residuals\n",
      "\tGiving weights to features\n",
      "\tSelecting features\n",
      "\t1 features have been removed\n",
      "\t ['VPdef_96']\n",
      "\t47 features left\n",
      "\n",
      "Iteration 34\n",
      "\tClasifying residuals\n",
      "\tGiving weights to features\n",
      "\tSelecting features\n",
      "\t1 features have been removed\n",
      "\t ['humedad_relativa_72']\n",
      "\t46 features left\n",
      "\n",
      "Iteration 35\n",
      "\tClasifying residuals\n",
      "\tGiving weights to features\n",
      "\tSelecting features\n",
      "\t1 features have been removed\n",
      "\t ['VPact_96']\n",
      "\t45 features left\n",
      "\n",
      "Iteration 36\n",
      "\tClasifying residuals\n",
      "\tGiving weights to features\n",
      "\tSelecting features\n",
      "\t1 features have been removed\n",
      "\t ['VPmax_48']\n",
      "\t44 features left\n",
      "\n",
      "Iteration 37\n",
      "\tClasifying residuals\n",
      "\tGiving weights to features\n",
      "\tSelecting features\n",
      "\t1 features have been removed\n",
      "\t ['VPmax_96']\n",
      "\t43 features left\n",
      "\n",
      "Iteration 38\n",
      "\tClasifying residuals\n",
      "\tGiving weights to features\n",
      "\tSelecting features\n",
      "\t1 features have been removed\n",
      "\t ['temperatura_48']\n",
      "\t42 features left\n",
      "\n",
      "Iteration 39\n",
      "\tClasifying residuals\n",
      "\tGiving weights to features\n",
      "\tSelecting features\n",
      "\t1 features have been removed\n",
      "\t ['humedad_especifica_24']\n",
      "\t41 features left\n",
      "\n",
      "Iteration 40\n",
      "\tClasifying residuals\n",
      "\tGiving weights to features\n",
      "\tSelecting features\n",
      "\t1 features have been removed\n",
      "\t ['VPdef_48']\n",
      "\t40 features left\n",
      "\n",
      "Iteration 41\n",
      "\tClasifying residuals\n",
      "\tGiving weights to features\n",
      "\tSelecting features\n",
      "\t1 features have been removed\n",
      "\t ['humedad_especifica_96']\n",
      "\t39 features left\n",
      "\n",
      "Iteration 42\n",
      "\tClasifying residuals\n",
      "\tGiving weights to features\n",
      "\tSelecting features\n",
      "\t1 features have been removed\n",
      "\t ['VPact_24']\n",
      "\t38 features left\n",
      "\n",
      "Iteration 43\n",
      "\tClasifying residuals\n",
      "\tGiving weights to features\n",
      "\tSelecting features\n",
      "\t1 features have been removed\n",
      "\t ['temperaturaDew_72']\n",
      "\t37 features left\n",
      "\n",
      "Iteration 44\n",
      "\tClasifying residuals\n",
      "\tGiving weights to features\n",
      "\tSelecting features\n",
      "\t1 features have been removed\n",
      "\t ['humedad_relativa_96']\n",
      "\t36 features left\n",
      "\n",
      "Iteration 45\n",
      "\tClasifying residuals\n",
      "\tGiving weights to features\n",
      "\tSelecting features\n",
      "\t1 features have been removed\n",
      "\t ['temperatura_144']\n",
      "\t35 features left\n",
      "\n",
      "Iteration 46\n",
      "\tClasifying residuals\n",
      "\tGiving weights to features\n",
      "\tSelecting features\n",
      "\t1 features have been removed\n",
      "\t ['concentracion_vapor_agua_24']\n",
      "\t34 features left\n",
      "\n",
      "Iteration 47\n",
      "\tClasifying residuals\n",
      "\tGiving weights to features\n",
      "\tSelecting features\n",
      "\t1 features have been removed\n",
      "\t ['concentracion_vapor_agua_96']\n",
      "\t33 features left\n",
      "\n",
      "Iteration 48\n",
      "\tClasifying residuals\n",
      "\tGiving weights to features\n",
      "\tSelecting features\n",
      "\t1 features have been removed\n",
      "\t ['temperaturaDew_120']\n",
      "\t32 features left\n",
      "\n",
      "Iteration 49\n",
      "\tClasifying residuals\n",
      "\tGiving weights to features\n",
      "\tSelecting features\n",
      "\t1 features have been removed\n",
      "\t ['velocidad_viento_96']\n",
      "\t31 features left\n",
      "\n",
      "Iteration 50\n",
      "\tClasifying residuals\n",
      "\tGiving weights to features\n",
      "\tSelecting features\n",
      "\t1 features have been removed\n",
      "\t ['concentracion_vapor_agua_48']\n",
      "\t30 features left\n",
      "\n",
      "Iteration 51\n",
      "\tClasifying residuals\n",
      "\tGiving weights to features\n",
      "\tSelecting features\n",
      "\t1 features have been removed\n",
      "\t ['humedad_especifica_120']\n",
      "\t29 features left\n",
      "\n",
      "Iteration 52\n",
      "\tClasifying residuals\n",
      "\tGiving weights to features\n",
      "\tSelecting features\n",
      "\t1 features have been removed\n",
      "\t ['humedad_relativa_48']\n",
      "\t28 features left\n",
      "\n",
      "Iteration 53\n"
     ]
    },
    {
     "name": "stdout",
     "output_type": "stream",
     "text": [
      "\tClasifying residuals\n",
      "\tGiving weights to features\n",
      "\tSelecting features\n",
      "\t1 features have been removed\n",
      "\t ['VPact_120']\n",
      "\t27 features left\n",
      "\n",
      "Iteration 54\n",
      "\tClasifying residuals\n",
      "\tGiving weights to features\n",
      "\tSelecting features\n",
      "\t1 features have been removed\n",
      "\t ['humedad_especifica_72']\n",
      "\t26 features left\n",
      "\n",
      "Iteration 55\n",
      "\tClasifying residuals\n",
      "\tGiving weights to features\n",
      "\tSelecting features\n",
      "\t1 features have been removed\n",
      "\t ['temperatura_120']\n",
      "\t25 features left\n",
      "\n",
      "Iteration 56\n",
      "\tClasifying residuals\n",
      "\tGiving weights to features\n",
      "\tSelecting features\n",
      "\t1 features have been removed\n",
      "\t ['temperaturaDew_144']\n",
      "\t24 features left\n",
      "\n",
      "Iteration 57\n",
      "\tClasifying residuals\n",
      "\tGiving weights to features\n",
      "\tSelecting features\n",
      "\t1 features have been removed\n",
      "\t ['concentracion_vapor_agua_72']\n",
      "\t23 features left\n",
      "\n",
      "Iteration 58\n",
      "\tClasifying residuals\n",
      "\tGiving weights to features\n",
      "\tSelecting features\n",
      "\t1 features have been removed\n",
      "\t ['VPdef_120']\n",
      "\t22 features left\n",
      "\n",
      "Iteration 59\n",
      "\tClasifying residuals\n",
      "\tGiving weights to features\n",
      "\tSelecting features\n",
      "\t1 features have been removed\n",
      "\t ['temperatura_24']\n",
      "\t21 features left\n",
      "\n",
      "Iteration 60\n",
      "\tClasifying residuals\n",
      "\tGiving weights to features\n",
      "\tSelecting features\n",
      "\t1 features have been removed\n",
      "\t ['concentracion_vapor_agua_144']\n",
      "\t20 features left\n",
      "\n",
      "Iteration 61\n",
      "\tClasifying residuals\n",
      "\tGiving weights to features\n",
      "\tSelecting features\n",
      "\t1 features have been removed\n",
      "\t ['VPmax_120']\n",
      "\t19 features left\n",
      "\n",
      "Iteration 62\n",
      "\tClasifying residuals\n",
      "\tGiving weights to features\n",
      "\tSelecting features\n",
      "\t1 features have been removed\n",
      "\t ['temperaturaDew_48']\n",
      "\t18 features left\n",
      "\n",
      "Iteration 63\n",
      "\tClasifying residuals\n",
      "\tGiving weights to features\n",
      "\tSelecting features\n",
      "\t1 features have been removed\n",
      "\t ['humedad_relativa_120']\n",
      "\t17 features left\n",
      "\n",
      "Iteration 64\n",
      "\tClasifying residuals\n",
      "\tGiving weights to features\n",
      "\tSelecting features\n",
      "\t0 features have been removed\n",
      "\t17 features left\n",
      "17 features have been selected out of 81\n"
     ]
    }
   ],
   "source": [
    "model = CatBoostRegressor(verbose=0, n_estimators=250,use_best_model=False, random_seed = 123)\n",
    "feat_sel = FeatureSelector()\n",
    "selected_features_shapeffects_085_015 = feat_sel.fit(X_train, y_train, X_val, y_val, model, 30, 0.15, 0.85)\n",
    "selected_features_shapeffects_085_015 = sorted(list(selected_features_shapeffects_085_015))"
   ]
  },
  {
   "cell_type": "code",
   "execution_count": 47,
   "metadata": {
    "ExecuteTime": {
     "end_time": "2023-01-02T16:14:19.412849Z",
     "start_time": "2023-01-02T16:14:19.099200Z"
    }
   },
   "outputs": [
    {
     "data": {
      "text/plain": [
       "<matplotlib.lines.Line2D at 0x29d9b071a60>"
      ]
     },
     "execution_count": 47,
     "metadata": {},
     "output_type": "execute_result"
    },
    {
     "data": {
      "image/png": "[encoded data removed]",
      "text/plain": [
       "<Figure size 1440x720 with 1 Axes>"
      ]
     },
     "metadata": {},
     "output_type": "display_data"
    }
   ],
   "source": [
    "fig, ax = plt.subplots(1, 1, figsize=(20, 10))\n",
    "ax.plot(range(len(feat_sel.maes)), feat_sel.maes.keys(), '-o')\n",
    "ax.title.set_text(\"MAE Change\")\n",
    "ax.title.set_size(15)\n",
    "plt.axvline(np.argmin(list(feat_sel.maes.keys())), color='red', linestyle='dashed', linewidth=1)"
   ]
  },
  {
   "cell_type": "code",
   "execution_count": 48,
   "metadata": {
    "ExecuteTime": {
     "end_time": "2023-01-02T16:14:19.426810Z",
     "start_time": "2023-01-02T16:14:19.415841Z"
    }
   },
   "outputs": [
    {
     "data": {
      "text/plain": [
       "['VPact_120',\n",
       " 'VPact_144',\n",
       " 'VPact_24',\n",
       " 'VPact_48',\n",
       " 'VPact_72',\n",
       " 'VPact_96',\n",
       " 'VPdef_120',\n",
       " 'VPdef_144',\n",
       " 'VPdef_24',\n",
       " 'VPdef_48',\n",
       " 'VPdef_72',\n",
       " 'VPdef_96',\n",
       " 'VPmax_120',\n",
       " 'VPmax_144',\n",
       " 'VPmax_24',\n",
       " 'VPmax_48',\n",
       " 'VPmax_72',\n",
       " 'VPmax_96',\n",
       " 'concentracion_vapor_agua_120',\n",
       " 'concentracion_vapor_agua_144',\n",
       " 'concentracion_vapor_agua_24',\n",
       " 'concentracion_vapor_agua_48',\n",
       " 'concentracion_vapor_agua_72',\n",
       " 'concentracion_vapor_agua_96',\n",
       " 'direccion_viento_120',\n",
       " 'direccion_viento_144',\n",
       " 'direccion_viento_24',\n",
       " 'direccion_viento_48',\n",
       " 'direccion_viento_72',\n",
       " 'direccion_viento_96',\n",
       " 'hora',\n",
       " 'humedad_especifica_120',\n",
       " 'humedad_especifica_144',\n",
       " 'humedad_especifica_24',\n",
       " 'humedad_especifica_48',\n",
       " 'humedad_especifica_72',\n",
       " 'humedad_especifica_96',\n",
       " 'humedad_relativa_120',\n",
       " 'humedad_relativa_144',\n",
       " 'humedad_relativa_24',\n",
       " 'humedad_relativa_48',\n",
       " 'humedad_relativa_72',\n",
       " 'humedad_relativa_96',\n",
       " 'max_valocidad_viento_120',\n",
       " 'max_valocidad_viento_144',\n",
       " 'max_valocidad_viento_24',\n",
       " 'max_valocidad_viento_48',\n",
       " 'max_valocidad_viento_72',\n",
       " 'max_valocidad_viento_96',\n",
       " 'mes',\n",
       " 'presion_120',\n",
       " 'presion_144',\n",
       " 'presion_24',\n",
       " 'presion_48',\n",
       " 'presion_96',\n",
       " 'rho_120',\n",
       " 'rho_144',\n",
       " 'rho_24',\n",
       " 'rho_48',\n",
       " 'rho_72',\n",
       " 'rho_96',\n",
       " 'temperaturaDew_120',\n",
       " 'temperaturaDew_144',\n",
       " 'temperaturaDew_24',\n",
       " 'temperaturaDew_48',\n",
       " 'temperaturaDew_72',\n",
       " 'temperaturaDew_96',\n",
       " 'temperatura_120',\n",
       " 'temperatura_144',\n",
       " 'temperatura_24',\n",
       " 'temperatura_48',\n",
       " 'temperatura_72',\n",
       " 'temperatura_96',\n",
       " 'velocidad_viento_120',\n",
       " 'velocidad_viento_144',\n",
       " 'velocidad_viento_24',\n",
       " 'velocidad_viento_48',\n",
       " 'velocidad_viento_72',\n",
       " 'velocidad_viento_96']"
      ]
     },
     "execution_count": 48,
     "metadata": {},
     "output_type": "execute_result"
    }
   ],
   "source": [
    "selected_features_shapeffects_085_015"
   ]
  },
  {
   "cell_type": "code",
   "execution_count": 49,
   "metadata": {
    "ExecuteTime": {
     "end_time": "2023-01-02T16:14:19.441800Z",
     "start_time": "2023-01-02T16:14:19.430800Z"
    }
   },
   "outputs": [],
   "source": [
    "dict_results_shapeffects_085_015 = {'rmse':[], 'mae':[], 'r2':[]}"
   ]
  },
  {
   "cell_type": "code",
   "execution_count": 50,
   "metadata": {
    "ExecuteTime": {
     "end_time": "2023-01-02T16:21:34.490665Z",
     "start_time": "2023-01-02T16:14:19.444837Z"
    },
    "scrolled": true
   },
   "outputs": [
    {
     "name": "stdout",
     "output_type": "stream",
     "text": [
      "0\n",
      "1\n",
      "2\n",
      "3\n",
      "4\n",
      "5\n",
      "6\n",
      "7\n",
      "8\n",
      "9\n",
      "10\n",
      "11\n",
      "12\n",
      "13\n",
      "14\n",
      "15\n",
      "16\n",
      "17\n",
      "18\n",
      "19\n",
      "20\n",
      "21\n",
      "22\n",
      "23\n",
      "24\n",
      "25\n",
      "26\n",
      "27\n",
      "28\n",
      "29\n",
      "30\n",
      "31\n",
      "32\n",
      "33\n",
      "34\n",
      "35\n",
      "36\n",
      "37\n",
      "38\n",
      "39\n",
      "40\n",
      "41\n",
      "42\n",
      "43\n",
      "44\n",
      "45\n",
      "46\n",
      "47\n",
      "48\n",
      "49\n"
     ]
    }
   ],
   "source": [
    "X_test_shapeffects = X_test[selected_features_shapeffects_085_015]\n",
    "X_train_shapeffects= X_train[selected_features_shapeffects_085_015]\n",
    "X_val_shapeffects = X_val[selected_features_shapeffects_085_015]\n",
    "for iteration in range(50):\n",
    "    print(iteration)\n",
    "    model = CatBoostRegressor(verbose=0, n_estimators=250,use_best_model=True, random_seed=seeds[iteration])\n",
    "    model.fit(\n",
    "        X_train_shapeffects, y_train,\n",
    "        eval_set=(X_val_shapeffects, y_val),\n",
    "        verbose = 0,\n",
    "        plot=False\n",
    "    );\n",
    "    \n",
    "    test_results = scores_calc_print(y_test, model.predict(X_test_shapeffects), print_bool=False)\n",
    "    \n",
    "    dict_results_shapeffects_085_015[\"r2\"].append(test_results[\"R2\"])\n",
    "    dict_results_shapeffects_085_015[\"rmse\"].append(test_results[\"RMSE\"])\n",
    "    dict_results_shapeffects_085_015[\"mae\"].append(test_results[\"MAE\"])"
   ]
  },
  {
   "cell_type": "code",
   "execution_count": 51,
   "metadata": {
    "ExecuteTime": {
     "end_time": "2023-01-02T16:21:34.505655Z",
     "start_time": "2023-01-02T16:21:34.492659Z"
    }
   },
   "outputs": [],
   "source": [
    "results_shapeffects_085_015_df = pd.DataFrame(dict_results_shapeffects_085_015)\n",
    "mean_shapeffects_085_015_test = results_shapeffects_085_015_df.mean()\n",
    "std_shapeffects_085_015_test = results_shapeffects_085_015_df.std()\n",
    "max_shapeffects_085_015_test = results_shapeffects_085_015_df.max()\n",
    "min_shapeffects_085_015_test = results_shapeffects_085_015_df.min()"
   ]
  },
  {
   "cell_type": "code",
   "execution_count": 52,
   "metadata": {
    "ExecuteTime": {
     "end_time": "2023-01-02T16:21:34.521644Z",
     "start_time": "2023-01-02T16:21:34.508647Z"
    }
   },
   "outputs": [
    {
     "data": {
      "text/plain": [
       "(rmse    1.399090\n",
       " mae     1.041792\n",
       " r2      0.171303\n",
       " dtype: float64,\n",
       " rmse    0.003499\n",
       " mae     0.002535\n",
       " r2      0.004151\n",
       " dtype: float64,\n",
       " rmse    1.410870\n",
       " mae     1.051223\n",
       " r2      0.178527\n",
       " dtype: float64,\n",
       " rmse    1.392983\n",
       " mae     1.037934\n",
       " r2      0.157295\n",
       " dtype: float64)"
      ]
     },
     "execution_count": 52,
     "metadata": {},
     "output_type": "execute_result"
    }
   ],
   "source": [
    "mean_shapeffects_085_015_test, std_shapeffects_085_015_test, max_shapeffects_085_015_test, min_shapeffects_085_015_test"
   ]
  },
  {
   "cell_type": "markdown",
   "metadata": {},
   "source": [
    "## SHAPEffects 0.9-0.1"
   ]
  },
  {
   "cell_type": "code",
   "execution_count": 53,
   "metadata": {
    "ExecuteTime": {
     "end_time": "2023-01-02T16:34:40.049292Z",
     "start_time": "2023-01-02T16:21:34.524161Z"
    },
    "scrolled": true
   },
   "outputs": [
    {
     "name": "stdout",
     "output_type": "stream",
     "text": [
      "Preprocessing\n",
      "-------------\n",
      "\n",
      "Introducing a random variable\n",
      "Calculating Shapley values\n",
      "Removing the first features\n",
      "0 features have been removed\n",
      "\n",
      "Starting core module\n",
      "--------------------\n",
      "\n",
      "Iteration 1\n",
      "\tClasifying residuals\n",
      "\tGiving weights to features\n",
      "\tSelecting features\n",
      "\t1 features have been removed\n",
      "\t ['hora']\n",
      "\t79 features left\n",
      "\n",
      "Iteration 2\n",
      "\tClasifying residuals\n",
      "\tGiving weights to features\n",
      "\tSelecting features\n",
      "\t1 features have been removed\n",
      "\t ['max_valocidad_viento_24']\n",
      "\t78 features left\n",
      "\n",
      "Iteration 3\n",
      "\tClasifying residuals\n",
      "\tGiving weights to features\n",
      "\tSelecting features\n",
      "\t1 features have been removed\n",
      "\t ['presion_72']\n",
      "\t77 features left\n",
      "\n",
      "Iteration 4\n",
      "\tClasifying residuals\n",
      "\tGiving weights to features\n",
      "\tSelecting features\n",
      "\t1 features have been removed\n",
      "\t ['presion_96']\n",
      "\t76 features left\n",
      "\n",
      "Iteration 5\n",
      "\tClasifying residuals\n",
      "\tGiving weights to features\n",
      "\tSelecting features\n",
      "\t1 features have been removed\n",
      "\t ['max_valocidad_viento_120']\n",
      "\t75 features left\n",
      "\n",
      "Iteration 6\n",
      "\tClasifying residuals\n",
      "\tGiving weights to features\n",
      "\tSelecting features\n",
      "\t1 features have been removed\n",
      "\t ['presion_120']\n",
      "\t74 features left\n",
      "\n",
      "Iteration 7\n",
      "\tClasifying residuals\n",
      "\tGiving weights to features\n",
      "\tSelecting features\n",
      "\t1 features have been removed\n",
      "\t ['max_valocidad_viento_48']\n",
      "\t73 features left\n",
      "\n",
      "Iteration 8\n",
      "\tClasifying residuals\n",
      "\tGiving weights to features\n",
      "\tSelecting features\n",
      "\t1 features have been removed\n",
      "\t ['velocidad_viento_120']\n",
      "\t72 features left\n",
      "\n",
      "Iteration 9\n",
      "\tClasifying residuals\n",
      "\tGiving weights to features\n",
      "\tSelecting features\n",
      "\t1 features have been removed\n",
      "\t ['presion_48']\n",
      "\t71 features left\n",
      "\n",
      "Iteration 10\n",
      "\tClasifying residuals\n",
      "\tGiving weights to features\n",
      "\tSelecting features\n",
      "\t1 features have been removed\n",
      "\t ['velocidad_viento_48']\n",
      "\t70 features left\n",
      "\n",
      "Iteration 11\n",
      "\tClasifying residuals\n",
      "\tGiving weights to features\n",
      "\tSelecting features\n",
      "\t1 features have been removed\n",
      "\t ['velocidad_viento_24']\n",
      "\t69 features left\n",
      "\n",
      "Iteration 12\n",
      "\tClasifying residuals\n",
      "\tGiving weights to features\n",
      "\tSelecting features\n",
      "\t1 features have been removed\n",
      "\t ['presion_144']\n",
      "\t68 features left\n",
      "\n",
      "Iteration 13\n",
      "\tClasifying residuals\n",
      "\tGiving weights to features\n",
      "\tSelecting features\n",
      "\t1 features have been removed\n",
      "\t ['humedad_especifica_144']\n",
      "\t67 features left\n",
      "\n",
      "Iteration 14\n",
      "\tClasifying residuals\n",
      "\tGiving weights to features\n",
      "\tSelecting features\n",
      "\t1 features have been removed\n",
      "\t ['rho_120']\n",
      "\t66 features left\n",
      "\n",
      "Iteration 15\n",
      "\tClasifying residuals\n",
      "\tGiving weights to features\n",
      "\tSelecting features\n",
      "\t1 features have been removed\n",
      "\t ['VPdef_24']\n",
      "\t65 features left\n",
      "\n",
      "Iteration 16\n",
      "\tClasifying residuals\n",
      "\tGiving weights to features\n",
      "\tSelecting features\n",
      "\t1 features have been removed\n",
      "\t ['max_valocidad_viento_96']\n",
      "\t64 features left\n",
      "\n",
      "Iteration 17\n",
      "\tClasifying residuals\n",
      "\tGiving weights to features\n",
      "\tSelecting features\n",
      "\t1 features have been removed\n",
      "\t ['rho_96']\n",
      "\t63 features left\n",
      "\n",
      "Iteration 18\n",
      "\tClasifying residuals\n",
      "\tGiving weights to features\n",
      "\tSelecting features\n",
      "\t1 features have been removed\n",
      "\t ['max_valocidad_viento_72']\n",
      "\t62 features left\n",
      "\n",
      "Iteration 19\n",
      "\tClasifying residuals\n",
      "\tGiving weights to features\n",
      "\tSelecting features\n",
      "\t1 features have been removed\n",
      "\t ['mes']\n",
      "\t61 features left\n",
      "\n",
      "Iteration 20\n",
      "\tClasifying residuals\n",
      "\tGiving weights to features\n",
      "\tSelecting features\n",
      "\t1 features have been removed\n",
      "\t ['rho_144']\n",
      "\t60 features left\n",
      "\n",
      "Iteration 21\n",
      "\tClasifying residuals\n",
      "\tGiving weights to features\n",
      "\tSelecting features\n",
      "\t1 features have been removed\n",
      "\t ['max_valocidad_viento_144']\n",
      "\t59 features left\n",
      "\n",
      "Iteration 22\n",
      "\tClasifying residuals\n",
      "\tGiving weights to features\n",
      "\tSelecting features\n",
      "\t1 features have been removed\n",
      "\t ['velocidad_viento_144']\n",
      "\t58 features left\n",
      "\n",
      "Iteration 23\n",
      "\tClasifying residuals\n",
      "\tGiving weights to features\n",
      "\tSelecting features\n",
      "\t1 features have been removed\n",
      "\t ['VPdef_72']\n",
      "\t57 features left\n",
      "\n",
      "Iteration 24\n",
      "\tClasifying residuals\n",
      "\tGiving weights to features\n",
      "\tSelecting features\n",
      "\t1 features have been removed\n",
      "\t ['humedad_relativa_72']\n",
      "\t56 features left\n",
      "\n",
      "Iteration 25\n",
      "\tClasifying residuals\n",
      "\tGiving weights to features\n",
      "\tSelecting features\n",
      "\t1 features have been removed\n",
      "\t ['rho_48']\n",
      "\t55 features left\n",
      "\n",
      "Iteration 26\n",
      "\tClasifying residuals\n",
      "\tGiving weights to features\n",
      "\tSelecting features\n",
      "\t1 features have been removed\n",
      "\t ['concentracion_vapor_agua_24']\n",
      "\t54 features left\n",
      "\n",
      "Iteration 27\n",
      "\tClasifying residuals\n",
      "\tGiving weights to features\n",
      "\tSelecting features\n",
      "\t1 features have been removed\n",
      "\t ['rho_72']\n",
      "\t53 features left\n",
      "\n",
      "Iteration 28\n",
      "\tClasifying residuals\n",
      "\tGiving weights to features\n",
      "\tSelecting features\n",
      "\t1 features have been removed\n",
      "\t ['VPact_24']\n",
      "\t52 features left\n",
      "\n",
      "Iteration 29\n",
      "\tClasifying residuals\n",
      "\tGiving weights to features\n",
      "\tSelecting features\n",
      "\t1 features have been removed\n",
      "\t ['VPmax_120']\n",
      "\t51 features left\n",
      "\n",
      "Iteration 30\n",
      "\tClasifying residuals\n",
      "\tGiving weights to features\n",
      "\tSelecting features\n",
      "\t1 features have been removed\n",
      "\t ['VPmax_72']\n",
      "\t50 features left\n",
      "\n",
      "Iteration 31\n",
      "\tClasifying residuals\n",
      "\tGiving weights to features\n",
      "\tSelecting features\n",
      "\t1 features have been removed\n",
      "\t ['direccion_viento_48']\n",
      "\t49 features left\n",
      "\n",
      "Iteration 32\n",
      "\tClasifying residuals\n",
      "\tGiving weights to features\n",
      "\tSelecting features\n",
      "\t1 features have been removed\n",
      "\t ['VPdef_144']\n",
      "\t48 features left\n",
      "\n",
      "Iteration 33\n",
      "\tClasifying residuals\n",
      "\tGiving weights to features\n",
      "\tSelecting features\n",
      "\t0 features have been removed\n",
      "\t48 features left\n",
      "48 features have been selected out of 81\n"
     ]
    }
   ],
   "source": [
    "model = CatBoostRegressor(verbose=0, n_estimators=250,use_best_model=False, random_seed = 123)\n",
    "feat_sel = FeatureSelector()\n",
    "selected_features_shapeffects_09_01 = feat_sel.fit(X_train, y_train, X_val, y_val, model, 30, 0.1, 0.9)\n",
    "selected_features_shapeffects_09_01 = sorted(list(selected_features_shapeffects_09_01))"
   ]
  },
  {
   "cell_type": "code",
   "execution_count": 54,
   "metadata": {
    "ExecuteTime": {
     "end_time": "2023-01-02T16:34:40.348661Z",
     "start_time": "2023-01-02T16:34:40.053281Z"
    }
   },
   "outputs": [
    {
     "data": {
      "text/plain": [
       "<matplotlib.lines.Line2D at 0x29da483f100>"
      ]
     },
     "execution_count": 54,
     "metadata": {},
     "output_type": "execute_result"
    },
    {
     "data": {
      "image/png": "[encoded data removed]",
      "text/plain": [
       "<Figure size 1440x720 with 1 Axes>"
      ]
     },
     "metadata": {},
     "output_type": "display_data"
    }
   ],
   "source": [
    "fig, ax = plt.subplots(1, 1, figsize=(20, 10))\n",
    "ax.plot(range(len(feat_sel.maes)), feat_sel.maes.keys(), '-o')\n",
    "ax.title.set_text(\"MAE Change\")\n",
    "ax.title.set_size(15)\n",
    "plt.axvline(np.argmin(list(feat_sel.maes.keys())), color='red', linestyle='dashed', linewidth=1)"
   ]
  },
  {
   "cell_type": "code",
   "execution_count": 55,
   "metadata": {
    "ExecuteTime": {
     "end_time": "2023-01-02T16:34:40.364577Z",
     "start_time": "2023-01-02T16:34:40.351612Z"
    }
   },
   "outputs": [
    {
     "data": {
      "text/plain": [
       "['VPact_120',\n",
       " 'VPact_144',\n",
       " 'VPact_24',\n",
       " 'VPact_48',\n",
       " 'VPact_72',\n",
       " 'VPact_96',\n",
       " 'VPdef_120',\n",
       " 'VPdef_144',\n",
       " 'VPdef_24',\n",
       " 'VPdef_48',\n",
       " 'VPdef_72',\n",
       " 'VPdef_96',\n",
       " 'VPmax_120',\n",
       " 'VPmax_144',\n",
       " 'VPmax_24',\n",
       " 'VPmax_48',\n",
       " 'VPmax_72',\n",
       " 'VPmax_96',\n",
       " 'concentracion_vapor_agua_120',\n",
       " 'concentracion_vapor_agua_144',\n",
       " 'concentracion_vapor_agua_24',\n",
       " 'concentracion_vapor_agua_48',\n",
       " 'concentracion_vapor_agua_72',\n",
       " 'concentracion_vapor_agua_96',\n",
       " 'direccion_viento_120',\n",
       " 'direccion_viento_144',\n",
       " 'direccion_viento_24',\n",
       " 'direccion_viento_48',\n",
       " 'direccion_viento_72',\n",
       " 'direccion_viento_96',\n",
       " 'humedad_especifica_120',\n",
       " 'humedad_especifica_144',\n",
       " 'humedad_especifica_24',\n",
       " 'humedad_especifica_48',\n",
       " 'humedad_especifica_72',\n",
       " 'humedad_especifica_96',\n",
       " 'humedad_relativa_120',\n",
       " 'humedad_relativa_144',\n",
       " 'humedad_relativa_24',\n",
       " 'humedad_relativa_48',\n",
       " 'humedad_relativa_72',\n",
       " 'humedad_relativa_96',\n",
       " 'max_valocidad_viento_144',\n",
       " 'max_valocidad_viento_72',\n",
       " 'max_valocidad_viento_96',\n",
       " 'mes',\n",
       " 'presion_144',\n",
       " 'presion_24',\n",
       " 'rho_120',\n",
       " 'rho_144',\n",
       " 'rho_24',\n",
       " 'rho_48',\n",
       " 'rho_72',\n",
       " 'rho_96',\n",
       " 'temperaturaDew_120',\n",
       " 'temperaturaDew_144',\n",
       " 'temperaturaDew_24',\n",
       " 'temperaturaDew_48',\n",
       " 'temperaturaDew_72',\n",
       " 'temperaturaDew_96',\n",
       " 'temperatura_120',\n",
       " 'temperatura_144',\n",
       " 'temperatura_24',\n",
       " 'temperatura_48',\n",
       " 'temperatura_72',\n",
       " 'temperatura_96',\n",
       " 'velocidad_viento_144',\n",
       " 'velocidad_viento_24',\n",
       " 'velocidad_viento_72',\n",
       " 'velocidad_viento_96']"
      ]
     },
     "execution_count": 55,
     "metadata": {},
     "output_type": "execute_result"
    }
   ],
   "source": [
    "selected_features_shapeffects_09_01"
   ]
  },
  {
   "cell_type": "code",
   "execution_count": 56,
   "metadata": {
    "ExecuteTime": {
     "end_time": "2023-01-02T16:34:40.380534Z",
     "start_time": "2023-01-02T16:34:40.367569Z"
    }
   },
   "outputs": [],
   "source": [
    "dict_results_shapeffects_09_01 = {'rmse':[], 'mae':[], 'r2':[]}"
   ]
  },
  {
   "cell_type": "code",
   "execution_count": 57,
   "metadata": {
    "ExecuteTime": {
     "end_time": "2023-01-02T16:42:46.187100Z",
     "start_time": "2023-01-02T16:34:40.382529Z"
    },
    "scrolled": true
   },
   "outputs": [
    {
     "name": "stdout",
     "output_type": "stream",
     "text": [
      "0\n",
      "1\n",
      "2\n",
      "3\n",
      "4\n",
      "5\n",
      "6\n",
      "7\n",
      "8\n",
      "9\n",
      "10\n",
      "11\n",
      "12\n",
      "13\n",
      "14\n",
      "15\n",
      "16\n",
      "17\n",
      "18\n",
      "19\n",
      "20\n",
      "21\n",
      "22\n",
      "23\n",
      "24\n",
      "25\n",
      "26\n",
      "27\n",
      "28\n",
      "29\n",
      "30\n",
      "31\n",
      "32\n",
      "33\n",
      "34\n",
      "35\n",
      "36\n",
      "37\n",
      "38\n",
      "39\n",
      "40\n",
      "41\n",
      "42\n",
      "43\n",
      "44\n",
      "45\n",
      "46\n",
      "47\n",
      "48\n",
      "49\n"
     ]
    }
   ],
   "source": [
    "X_test_shapeffects = X_test[selected_features_shapeffects_09_01]\n",
    "X_train_shapeffects= X_train[selected_features_shapeffects_09_01]\n",
    "X_val_shapeffects = X_val[selected_features_shapeffects_09_01]\n",
    "for iteration in range(50):\n",
    "    print(iteration)\n",
    "    model = CatBoostRegressor(verbose=0, n_estimators=250,use_best_model=True, random_seed=seeds[iteration])\n",
    "    model.fit(\n",
    "        X_train_shapeffects, y_train,\n",
    "        eval_set=(X_val_shapeffects, y_val),\n",
    "        verbose = 0,\n",
    "        plot=False\n",
    "    );\n",
    "    \n",
    "    test_results = scores_calc_print(y_test, model.predict(X_test_shapeffects), print_bool=False)\n",
    "    \n",
    "    dict_results_shapeffects_09_01[\"r2\"].append(test_results[\"R2\"])\n",
    "    dict_results_shapeffects_09_01[\"rmse\"].append(test_results[\"RMSE\"])\n",
    "    dict_results_shapeffects_09_01[\"mae\"].append(test_results[\"MAE\"])"
   ]
  },
  {
   "cell_type": "code",
   "execution_count": 58,
   "metadata": {
    "ExecuteTime": {
     "end_time": "2023-01-02T16:42:46.203087Z",
     "start_time": "2023-01-02T16:42:46.189096Z"
    }
   },
   "outputs": [],
   "source": [
    "results_shapeffects_09_01_df = pd.DataFrame(dict_results_shapeffects_09_01)\n",
    "mean_shapeffects_09_01_test = results_shapeffects_09_01_df.mean()\n",
    "std_shapeffects_09_01_test = results_shapeffects_09_01_df.std()\n",
    "max_shapeffects_09_01_test = results_shapeffects_09_01_df.max()\n",
    "min_shapeffects_09_01_test = results_shapeffects_09_01_df.min()"
   ]
  },
  {
   "cell_type": "code",
   "execution_count": 59,
   "metadata": {
    "ExecuteTime": {
     "end_time": "2023-01-02T16:42:46.241088Z",
     "start_time": "2023-01-02T16:42:46.206115Z"
    }
   },
   "outputs": [
    {
     "data": {
      "text/plain": [
       "(rmse    1.416082\n",
       " mae     1.056653\n",
       " r2      0.151050\n",
       " dtype: float64,\n",
       " rmse    0.003980\n",
       " mae     0.002682\n",
       " r2      0.004774\n",
       " dtype: float64,\n",
       " rmse    1.427596\n",
       " mae     1.061737\n",
       " r2      0.163013\n",
       " dtype: float64,\n",
       " rmse    1.406074\n",
       " mae     1.049372\n",
       " r2      0.137194\n",
       " dtype: float64)"
      ]
     },
     "execution_count": 59,
     "metadata": {},
     "output_type": "execute_result"
    }
   ],
   "source": [
    "mean_shapeffects_09_01_test, std_shapeffects_09_01_test, max_shapeffects_09_01_test, min_shapeffects_09_01_test"
   ]
  },
  {
   "cell_type": "markdown",
   "metadata": {},
   "source": [
    "## SHAPEffects 0.95-0.05"
   ]
  },
  {
   "cell_type": "code",
   "execution_count": 60,
   "metadata": {
    "ExecuteTime": {
     "end_time": "2023-01-02T16:58:48.175971Z",
     "start_time": "2023-01-02T16:42:46.244117Z"
    },
    "scrolled": true
   },
   "outputs": [
    {
     "name": "stdout",
     "output_type": "stream",
     "text": [
      "Preprocessing\n",
      "-------------\n",
      "\n",
      "Introducing a random variable\n",
      "Calculating Shapley values\n",
      "Removing the first features\n",
      "0 features have been removed\n",
      "\n",
      "Starting core module\n",
      "--------------------\n",
      "\n",
      "Iteration 1\n",
      "\tClasifying residuals\n",
      "\tGiving weights to features\n",
      "\tSelecting features\n",
      "\t1 features have been removed\n",
      "\t ['presion_96']\n",
      "\t79 features left\n",
      "\n",
      "Iteration 2\n",
      "\tClasifying residuals\n",
      "\tGiving weights to features\n",
      "\tSelecting features\n",
      "\t1 features have been removed\n",
      "\t ['presion_72']\n",
      "\t78 features left\n",
      "\n",
      "Iteration 3\n",
      "\tClasifying residuals\n",
      "\tGiving weights to features\n",
      "\tSelecting features\n",
      "\t1 features have been removed\n",
      "\t ['max_valocidad_viento_120']\n",
      "\t77 features left\n",
      "\n",
      "Iteration 4\n",
      "\tClasifying residuals\n",
      "\tGiving weights to features\n",
      "\tSelecting features\n",
      "\t1 features have been removed\n",
      "\t ['VPact_24']\n",
      "\t76 features left\n",
      "\n",
      "Iteration 5\n",
      "\tClasifying residuals\n",
      "\tGiving weights to features\n",
      "\tSelecting features\n",
      "\t1 features have been removed\n",
      "\t ['VPmax_48']\n",
      "\t75 features left\n",
      "\n",
      "Iteration 6\n",
      "\tClasifying residuals\n",
      "\tGiving weights to features\n",
      "\tSelecting features\n",
      "\t1 features have been removed\n",
      "\t ['max_valocidad_viento_24']\n",
      "\t74 features left\n",
      "\n",
      "Iteration 7\n",
      "\tClasifying residuals\n",
      "\tGiving weights to features\n",
      "\tSelecting features\n",
      "\t1 features have been removed\n",
      "\t ['temperaturaDew_72']\n",
      "\t73 features left\n",
      "\n",
      "Iteration 8\n",
      "\tClasifying residuals\n",
      "\tGiving weights to features\n",
      "\tSelecting features\n",
      "\t1 features have been removed\n",
      "\t ['mes']\n",
      "\t72 features left\n",
      "\n",
      "Iteration 9\n",
      "\tClasifying residuals\n",
      "\tGiving weights to features\n",
      "\tSelecting features\n",
      "\t1 features have been removed\n",
      "\t ['rho_120']\n",
      "\t71 features left\n",
      "\n",
      "Iteration 10\n",
      "\tClasifying residuals\n",
      "\tGiving weights to features\n",
      "\tSelecting features\n",
      "\t1 features have been removed\n",
      "\t ['VPmax_72']\n",
      "\t70 features left\n",
      "\n",
      "Iteration 11\n",
      "\tClasifying residuals\n",
      "\tGiving weights to features\n",
      "\tSelecting features\n",
      "\t1 features have been removed\n",
      "\t ['rho_96']\n",
      "\t69 features left\n",
      "\n",
      "Iteration 12\n",
      "\tClasifying residuals\n",
      "\tGiving weights to features\n",
      "\tSelecting features\n",
      "\t1 features have been removed\n",
      "\t ['max_valocidad_viento_48']\n",
      "\t68 features left\n",
      "\n",
      "Iteration 13\n",
      "\tClasifying residuals\n",
      "\tGiving weights to features\n",
      "\tSelecting features\n",
      "\t1 features have been removed\n",
      "\t ['VPact_144']\n",
      "\t67 features left\n",
      "\n",
      "Iteration 14\n",
      "\tClasifying residuals\n",
      "\tGiving weights to features\n",
      "\tSelecting features\n",
      "\t1 features have been removed\n",
      "\t ['rho_72']\n",
      "\t66 features left\n",
      "\n",
      "Iteration 15\n",
      "\tClasifying residuals\n",
      "\tGiving weights to features\n",
      "\tSelecting features\n",
      "\t1 features have been removed\n",
      "\t ['concentracion_vapor_agua_24']\n",
      "\t65 features left\n",
      "\n",
      "Iteration 16\n",
      "\tClasifying residuals\n",
      "\tGiving weights to features\n",
      "\tSelecting features\n",
      "\t1 features have been removed\n",
      "\t ['rho_144']\n",
      "\t64 features left\n",
      "\n",
      "Iteration 17\n",
      "\tClasifying residuals\n",
      "\tGiving weights to features\n",
      "\tSelecting features\n",
      "\t1 features have been removed\n",
      "\t ['VPact_48']\n",
      "\t63 features left\n",
      "\n",
      "Iteration 18\n",
      "\tClasifying residuals\n",
      "\tGiving weights to features\n",
      "\tSelecting features\n",
      "\t1 features have been removed\n",
      "\t ['VPact_120']\n",
      "\t62 features left\n",
      "\n",
      "Iteration 19\n",
      "\tClasifying residuals\n",
      "\tGiving weights to features\n",
      "\tSelecting features\n",
      "\t1 features have been removed\n",
      "\t ['VPdef_24']\n",
      "\t61 features left\n",
      "\n",
      "Iteration 20\n",
      "\tClasifying residuals\n",
      "\tGiving weights to features\n",
      "\tSelecting features\n",
      "\t1 features have been removed\n",
      "\t ['VPmax_24']\n",
      "\t60 features left\n",
      "\n",
      "Iteration 21\n",
      "\tClasifying residuals\n",
      "\tGiving weights to features\n",
      "\tSelecting features\n",
      "\t1 features have been removed\n",
      "\t ['presion_48']\n",
      "\t59 features left\n",
      "\n",
      "Iteration 22\n",
      "\tClasifying residuals\n",
      "\tGiving weights to features\n",
      "\tSelecting features\n",
      "\t1 features have been removed\n",
      "\t ['VPdef_48']\n",
      "\t58 features left\n",
      "\n",
      "Iteration 23\n",
      "\tClasifying residuals\n",
      "\tGiving weights to features\n",
      "\tSelecting features\n",
      "\t1 features have been removed\n",
      "\t ['concentracion_vapor_agua_48']\n",
      "\t57 features left\n",
      "\n",
      "Iteration 24\n",
      "\tClasifying residuals\n",
      "\tGiving weights to features\n",
      "\tSelecting features\n",
      "\t1 features have been removed\n",
      "\t ['VPdef_96']\n",
      "\t56 features left\n",
      "\n",
      "Iteration 25\n",
      "\tClasifying residuals\n",
      "\tGiving weights to features\n",
      "\tSelecting features\n",
      "\t1 features have been removed\n",
      "\t ['humedad_especifica_72']\n",
      "\t55 features left\n",
      "\n",
      "Iteration 26\n",
      "\tClasifying residuals\n",
      "\tGiving weights to features\n",
      "\tSelecting features\n",
      "\t1 features have been removed\n",
      "\t ['direccion_viento_24']\n",
      "\t54 features left\n",
      "\n",
      "Iteration 27\n",
      "\tClasifying residuals\n",
      "\tGiving weights to features\n",
      "\tSelecting features\n",
      "\t1 features have been removed\n",
      "\t ['humedad_especifica_48']\n",
      "\t53 features left\n",
      "\n",
      "Iteration 28\n",
      "\tClasifying residuals\n",
      "\tGiving weights to features\n",
      "\tSelecting features\n",
      "\t1 features have been removed\n",
      "\t ['temperaturaDew_144']\n",
      "\t52 features left\n",
      "\n",
      "Iteration 29\n",
      "\tClasifying residuals\n",
      "\tGiving weights to features\n",
      "\tSelecting features\n",
      "\t1 features have been removed\n",
      "\t ['direccion_viento_72']\n",
      "\t51 features left\n",
      "\n",
      "Iteration 30\n",
      "\tClasifying residuals\n",
      "\tGiving weights to features\n",
      "\tSelecting features\n",
      "\t1 features have been removed\n",
      "\t ['humedad_relativa_96']\n",
      "\t50 features left\n",
      "\n",
      "Iteration 31\n",
      "\tClasifying residuals\n",
      "\tGiving weights to features\n",
      "\tSelecting features\n",
      "\t1 features have been removed\n",
      "\t ['humedad_relativa_48']\n",
      "\t49 features left\n",
      "\n",
      "Iteration 32\n",
      "\tClasifying residuals\n",
      "\tGiving weights to features\n",
      "\tSelecting features\n",
      "\t1 features have been removed\n",
      "\t ['humedad_especifica_96']\n",
      "\t48 features left\n",
      "\n",
      "Iteration 33\n",
      "\tClasifying residuals\n",
      "\tGiving weights to features\n",
      "\tSelecting features\n",
      "\t1 features have been removed\n",
      "\t ['VPmax_144']\n",
      "\t47 features left\n",
      "\n",
      "Iteration 34\n",
      "\tClasifying residuals\n",
      "\tGiving weights to features\n",
      "\tSelecting features\n",
      "\t1 features have been removed\n",
      "\t ['direccion_viento_96']\n",
      "\t46 features left\n",
      "\n",
      "Iteration 35\n",
      "\tClasifying residuals\n",
      "\tGiving weights to features\n",
      "\tSelecting features\n",
      "\t1 features have been removed\n",
      "\t ['rho_24']\n",
      "\t45 features left\n",
      "\n",
      "Iteration 36\n",
      "\tClasifying residuals\n",
      "\tGiving weights to features\n",
      "\tSelecting features\n",
      "\t1 features have been removed\n",
      "\t ['temperatura_144']\n",
      "\t44 features left\n",
      "\n",
      "Iteration 37\n",
      "\tClasifying residuals\n",
      "\tGiving weights to features\n",
      "\tSelecting features\n",
      "\t1 features have been removed\n",
      "\t ['VPact_72']\n",
      "\t43 features left\n",
      "\n",
      "Iteration 38\n",
      "\tClasifying residuals\n",
      "\tGiving weights to features\n",
      "\tSelecting features\n",
      "\t0 features have been removed\n",
      "\t43 features left\n",
      "43 features have been selected out of 81\n"
     ]
    }
   ],
   "source": [
    "model = CatBoostRegressor(verbose=0, n_estimators=250,use_best_model=False, random_seed = 123)\n",
    "feat_sel = FeatureSelector()\n",
    "selected_features_shapeffects_095_005 = feat_sel.fit(X_train, y_train, X_val, y_val, model, 30, 0.05, 0.95)\n",
    "selected_features_shapeffects_095_005 = sorted(list(selected_features_shapeffects_095_005))"
   ]
  },
  {
   "cell_type": "code",
   "execution_count": 61,
   "metadata": {
    "ExecuteTime": {
     "end_time": "2023-01-02T16:58:48.426069Z",
     "start_time": "2023-01-02T16:58:48.175971Z"
    }
   },
   "outputs": [
    {
     "data": {
      "text/plain": [
       "<matplotlib.lines.Line2D at 0x29d9a850ac0>"
      ]
     },
     "execution_count": 61,
     "metadata": {},
     "output_type": "execute_result"
    },
    {
     "data": {
      "image/png": "[encoded data removed]",
      "text/plain": [
       "<Figure size 1440x720 with 1 Axes>"
      ]
     },
     "metadata": {},
     "output_type": "display_data"
    }
   ],
   "source": [
    "fig, ax = plt.subplots(1, 1, figsize=(20, 10))\n",
    "ax.plot(range(len(feat_sel.maes)), feat_sel.maes.keys(), '-o')\n",
    "ax.title.set_text(\"MAE Change\")\n",
    "ax.title.set_size(15)\n",
    "plt.axvline(np.argmin(list(feat_sel.maes.keys())), color='red', linestyle='dashed', linewidth=1)"
   ]
  },
  {
   "cell_type": "code",
   "execution_count": 62,
   "metadata": {
    "ExecuteTime": {
     "end_time": "2023-01-02T16:58:48.450713Z",
     "start_time": "2023-01-02T16:58:48.428065Z"
    }
   },
   "outputs": [
    {
     "data": {
      "text/plain": [
       "['VPact_120',\n",
       " 'VPact_72',\n",
       " 'VPact_96',\n",
       " 'VPdef_120',\n",
       " 'VPdef_144',\n",
       " 'VPdef_24',\n",
       " 'VPdef_48',\n",
       " 'VPdef_72',\n",
       " 'VPdef_96',\n",
       " 'VPmax_120',\n",
       " 'VPmax_144',\n",
       " 'VPmax_24',\n",
       " 'VPmax_96',\n",
       " 'concentracion_vapor_agua_120',\n",
       " 'concentracion_vapor_agua_144',\n",
       " 'concentracion_vapor_agua_48',\n",
       " 'concentracion_vapor_agua_72',\n",
       " 'concentracion_vapor_agua_96',\n",
       " 'direccion_viento_120',\n",
       " 'direccion_viento_144',\n",
       " 'direccion_viento_24',\n",
       " 'direccion_viento_48',\n",
       " 'direccion_viento_72',\n",
       " 'direccion_viento_96',\n",
       " 'hora',\n",
       " 'humedad_especifica_120',\n",
       " 'humedad_especifica_144',\n",
       " 'humedad_especifica_24',\n",
       " 'humedad_especifica_48',\n",
       " 'humedad_especifica_72',\n",
       " 'humedad_especifica_96',\n",
       " 'humedad_relativa_120',\n",
       " 'humedad_relativa_144',\n",
       " 'humedad_relativa_24',\n",
       " 'humedad_relativa_48',\n",
       " 'humedad_relativa_72',\n",
       " 'humedad_relativa_96',\n",
       " 'max_valocidad_viento_144',\n",
       " 'max_valocidad_viento_72',\n",
       " 'max_valocidad_viento_96',\n",
       " 'presion_120',\n",
       " 'presion_144',\n",
       " 'presion_24',\n",
       " 'presion_48',\n",
       " 'rho_24',\n",
       " 'rho_48',\n",
       " 'temperaturaDew_120',\n",
       " 'temperaturaDew_144',\n",
       " 'temperaturaDew_24',\n",
       " 'temperaturaDew_48',\n",
       " 'temperaturaDew_96',\n",
       " 'temperatura_120',\n",
       " 'temperatura_144',\n",
       " 'temperatura_24',\n",
       " 'temperatura_48',\n",
       " 'temperatura_72',\n",
       " 'temperatura_96',\n",
       " 'velocidad_viento_120',\n",
       " 'velocidad_viento_144',\n",
       " 'velocidad_viento_24',\n",
       " 'velocidad_viento_48',\n",
       " 'velocidad_viento_72',\n",
       " 'velocidad_viento_96']"
      ]
     },
     "execution_count": 62,
     "metadata": {},
     "output_type": "execute_result"
    }
   ],
   "source": [
    "selected_features_shapeffects_095_005"
   ]
  },
  {
   "cell_type": "code",
   "execution_count": 63,
   "metadata": {
    "ExecuteTime": {
     "end_time": "2023-01-02T16:58:48.466336Z",
     "start_time": "2023-01-02T16:58:48.450713Z"
    }
   },
   "outputs": [],
   "source": [
    "dict_results_shapeffects_095_005 = {'rmse':[], 'mae':[], 'r2':[]}"
   ]
  },
  {
   "cell_type": "code",
   "execution_count": 64,
   "metadata": {
    "ExecuteTime": {
     "end_time": "2023-01-02T17:04:18.531032Z",
     "start_time": "2023-01-02T16:58:48.466336Z"
    },
    "scrolled": true
   },
   "outputs": [
    {
     "name": "stdout",
     "output_type": "stream",
     "text": [
      "0\n",
      "1\n",
      "2\n",
      "3\n",
      "4\n",
      "5\n",
      "6\n",
      "7\n",
      "8\n",
      "9\n",
      "10\n",
      "11\n",
      "12\n",
      "13\n",
      "14\n",
      "15\n",
      "16\n",
      "17\n",
      "18\n",
      "19\n",
      "20\n",
      "21\n",
      "22\n",
      "23\n",
      "24\n",
      "25\n",
      "26\n",
      "27\n",
      "28\n",
      "29\n",
      "30\n",
      "31\n",
      "32\n",
      "33\n",
      "34\n",
      "35\n",
      "36\n",
      "37\n",
      "38\n",
      "39\n",
      "40\n",
      "41\n",
      "42\n",
      "43\n",
      "44\n",
      "45\n",
      "46\n",
      "47\n",
      "48\n",
      "49\n"
     ]
    }
   ],
   "source": [
    "X_test_shapeffects = X_test[selected_features_shapeffects_095_005]\n",
    "X_train_shapeffects= X_train[selected_features_shapeffects_095_005]\n",
    "X_val_shapeffects = X_val[selected_features_shapeffects_095_005]\n",
    "for iteration in range(50):\n",
    "    print(iteration)\n",
    "    model = CatBoostRegressor(verbose=0, n_estimators=250,use_best_model=True, random_seed=seeds[iteration])\n",
    "    model.fit(\n",
    "        X_train_shapeffects, y_train,\n",
    "        eval_set=(X_val_shapeffects, y_val),\n",
    "        verbose = 0,\n",
    "        plot=False\n",
    "    );\n",
    "    \n",
    "    test_results = scores_calc_print(y_test, model.predict(X_test_shapeffects), print_bool=False)\n",
    "    \n",
    "    dict_results_shapeffects_095_005[\"r2\"].append(test_results[\"R2\"])\n",
    "    dict_results_shapeffects_095_005[\"rmse\"].append(test_results[\"RMSE\"])\n",
    "    dict_results_shapeffects_095_005[\"mae\"].append(test_results[\"MAE\"])"
   ]
  },
  {
   "cell_type": "code",
   "execution_count": 65,
   "metadata": {
    "ExecuteTime": {
     "end_time": "2023-01-02T17:04:18.544996Z",
     "start_time": "2023-01-02T17:04:18.535021Z"
    }
   },
   "outputs": [],
   "source": [
    "results_shapeffects_095_005_df = pd.DataFrame(dict_results_shapeffects_095_005)\n",
    "mean_shapeffects_095_005_test = results_shapeffects_095_005_df.mean()\n",
    "std_shapeffects_095_005_test = results_shapeffects_095_005_df.std()\n",
    "max_shapeffects_095_005_test = results_shapeffects_095_005_df.max()\n",
    "min_shapeffects_095_005_test = results_shapeffects_095_005_df.min()"
   ]
  },
  {
   "cell_type": "code",
   "execution_count": 66,
   "metadata": {
    "ExecuteTime": {
     "end_time": "2023-01-02T17:04:18.560954Z",
     "start_time": "2023-01-02T17:04:18.547986Z"
    }
   },
   "outputs": [
    {
     "data": {
      "text/plain": [
       "(rmse    1.398058\n",
       " mae     1.042759\n",
       " r2      0.172527\n",
       " dtype: float64,\n",
       " rmse    0.002563\n",
       " mae     0.002877\n",
       " r2      0.003035\n",
       " dtype: float64,\n",
       " rmse    1.406546\n",
       " mae     1.050689\n",
       " r2      0.179092\n",
       " dtype: float64,\n",
       " rmse    1.392503\n",
       " mae     1.037323\n",
       " r2      0.162451\n",
       " dtype: float64)"
      ]
     },
     "execution_count": 66,
     "metadata": {},
     "output_type": "execute_result"
    }
   ],
   "source": [
    "mean_shapeffects_095_005_test, std_shapeffects_095_005_test, max_shapeffects_095_005_test, min_shapeffects_095_005_test"
   ]
  },
  {
   "cell_type": "markdown",
   "metadata": {},
   "source": [
    "## PowerSHAP"
   ]
  },
  {
   "cell_type": "code",
   "execution_count": 67,
   "metadata": {
    "ExecuteTime": {
     "end_time": "2023-01-02T17:06:14.526467Z",
     "start_time": "2023-01-02T17:04:18.563944Z"
    }
   },
   "outputs": [
    {
     "name": "stdout",
     "output_type": "stream",
     "text": [
      "Starting powershap\n",
      "Automatic mode enabled: Finding the minimal required powershap iterations for significance of 0.01.\n"
     ]
    },
    {
     "data": {
      "application/vnd.jupyter.widget-view+json": {
       "model_id": "2e5a45fc3f3345fca752b8fa79786951",
       "version_major": 2,
       "version_minor": 0
      },
      "text/plain": [
       "HBox(children=(HTML(value=''), FloatProgress(value=0.0, max=10.0), HTML(value='')))"
      ]
     },
     "metadata": {},
     "output_type": "display_data"
    },
    {
     "name": "stdout",
     "output_type": "stream",
     "text": [
      "\n",
      "Automatic mode: Powershap requires 12 iterations; Adding 2  powershap iterations.\n"
     ]
    },
    {
     "data": {
      "application/vnd.jupyter.widget-view+json": {
       "model_id": "ffd06e310f49465495b41bf095365568",
       "version_major": 2,
       "version_minor": 0
      },
      "text/plain": [
       "HBox(children=(HTML(value=''), FloatProgress(value=0.0, max=2.0), HTML(value='')))"
      ]
     },
     "metadata": {},
     "output_type": "display_data"
    },
    {
     "name": "stdout",
     "output_type": "stream",
     "text": [
      "\n",
      "Done!\n"
     ]
    },
    {
     "data": {
      "text/plain": [
       "PowerShap(model=<catboost.core.CatBoostRegressor object at 0x0000029D9B049430>,\n",
       "          verbose=True)"
      ]
     },
     "execution_count": 67,
     "metadata": {},
     "output_type": "execute_result"
    }
   ],
   "source": [
    "selector = PowerShap(\n",
    "    model = CatBoostRegressor(verbose=0, n_estimators=250,use_best_model=False, random_seed = 123),\n",
    "    power_iterations=10,automatic=True, limit_automatic=10,verbose=True,target_col=target_col,index_col=Index_col,\n",
    ")\n",
    "selector.fit(current_db_train_val[list(selected_columns)], current_db_train_val[target_col])"
   ]
  },
  {
   "cell_type": "code",
   "execution_count": 68,
   "metadata": {
    "ExecuteTime": {
     "end_time": "2023-01-02T17:06:14.542574Z",
     "start_time": "2023-01-02T17:06:14.529609Z"
    }
   },
   "outputs": [
    {
     "data": {
      "text/plain": [
       "array(['hora', 'max_valocidad_viento_24', 'presion_24', 'presion_72',\n",
       "       'mes', 'presion_120', 'max_valocidad_viento_48',\n",
       "       'humedad_relativa_24', 'velocidad_viento_24', 'presion_96',\n",
       "       'presion_48', 'presion_144', 'direccion_viento_48', 'VPact_48',\n",
       "       'humedad_relativa_144', 'rho_72', 'direccion_viento_24', 'rho_144',\n",
       "       'concentracion_vapor_agua_48', 'max_valocidad_viento_120',\n",
       "       'concentracion_vapor_agua_24', 'humedad_especifica_24',\n",
       "       'humedad_especifica_72', 'temperaturaDew_48', 'VPact_24',\n",
       "       'VPdef_24', 'rho_48', 'direccion_viento_144', 'temperaturaDew_24',\n",
       "       'direccion_viento_120', 'temperaturaDew_72',\n",
       "       'max_valocidad_viento_144', 'concentracion_vapor_agua_72',\n",
       "       'rho_96', 'humedad_especifica_48', 'VPact_72', 'rho_24',\n",
       "       'velocidad_viento_48', 'rho_120', 'humedad_relativa_72',\n",
       "       'humedad_relativa_120', 'VPdef_48', 'humedad_especifica_144',\n",
       "       'concentracion_vapor_agua_144', 'concentracion_vapor_agua_96',\n",
       "       'temperaturaDew_144', 'VPmax_48', 'temperatura_120',\n",
       "       'temperatura_48', 'humedad_relativa_48', 'VPdef_96', 'VPact_144',\n",
       "       'temperaturaDew_96', 'temperaturaDew_120', 'humedad_especifica_96',\n",
       "       'temperatura_24', 'temperatura_72', 'VPmax_144', 'VPact_96',\n",
       "       'velocidad_viento_144', 'humedad_relativa_96', 'VPmax_120',\n",
       "       'velocidad_viento_120', 'VPmax_72', 'direccion_viento_72',\n",
       "       'humedad_especifica_120', 'concentracion_vapor_agua_120',\n",
       "       'VPact_120', 'VPdef_72', 'velocidad_viento_72',\n",
       "       'max_valocidad_viento_96', 'VPmax_24', 'VPdef_120',\n",
       "       'temperatura_96', 'VPdef_144', 'velocidad_viento_96',\n",
       "       'temperatura_144', 'direccion_viento_96', 'VPmax_96'], dtype=object)"
      ]
     },
     "execution_count": 68,
     "metadata": {},
     "output_type": "execute_result"
    }
   ],
   "source": [
    "t = selector._processed_shaps_df\n",
    "selected_features_powershap = t[(t.p_value<0.01)].index.values\n",
    "selected_features_powershap"
   ]
  },
  {
   "cell_type": "code",
   "execution_count": 69,
   "metadata": {
    "ExecuteTime": {
     "end_time": "2023-01-02T17:06:14.558532Z",
     "start_time": "2023-01-02T17:06:14.547560Z"
    }
   },
   "outputs": [],
   "source": [
    "selected_features_powershap = sorted(selected_features_powershap)"
   ]
  },
  {
   "cell_type": "code",
   "execution_count": 29,
   "metadata": {
    "ExecuteTime": {
     "end_time": "2023-01-03T16:51:56.031348Z",
     "start_time": "2023-01-03T16:51:56.017811Z"
    }
   },
   "outputs": [],
   "source": [
    "selected_features_powershap = sorted(['hora', 'max_valocidad_viento_24', 'presion_24', 'presion_72',\n",
    "       'mes', 'presion_120', 'max_valocidad_viento_48',\n",
    "       'humedad_relativa_24', 'velocidad_viento_24', 'presion_96',\n",
    "       'presion_48', 'presion_144', 'direccion_viento_48', 'VPact_48',\n",
    "       'humedad_relativa_144', 'rho_72', 'direccion_viento_24', 'rho_144',\n",
    "       'concentracion_vapor_agua_48', 'max_valocidad_viento_120',\n",
    "       'concentracion_vapor_agua_24', 'humedad_especifica_24',\n",
    "       'humedad_especifica_72', 'temperaturaDew_48', 'VPact_24',\n",
    "       'VPdef_24', 'rho_48', 'direccion_viento_144', 'temperaturaDew_24',\n",
    "       'direccion_viento_120', 'temperaturaDew_72',\n",
    "       'max_valocidad_viento_144', 'concentracion_vapor_agua_72',\n",
    "       'rho_96', 'humedad_especifica_48', 'VPact_72', 'rho_24',\n",
    "       'velocidad_viento_48', 'rho_120', 'humedad_relativa_72',\n",
    "       'humedad_relativa_120', 'VPdef_48', 'humedad_especifica_144',\n",
    "       'concentracion_vapor_agua_144', 'concentracion_vapor_agua_96',\n",
    "       'temperaturaDew_144', 'VPmax_48', 'temperatura_120',\n",
    "       'temperatura_48', 'humedad_relativa_48', 'VPdef_96', 'VPact_144',\n",
    "       'temperaturaDew_96', 'temperaturaDew_120', 'humedad_especifica_96',\n",
    "       'temperatura_24', 'temperatura_72', 'VPmax_144', 'VPact_96',\n",
    "       'velocidad_viento_144', 'humedad_relativa_96', 'VPmax_120',\n",
    "       'velocidad_viento_120', 'VPmax_72', 'direccion_viento_72',\n",
    "       'humedad_especifica_120', 'concentracion_vapor_agua_120',\n",
    "       'VPact_120', 'VPdef_72', 'velocidad_viento_72',\n",
    "       'max_valocidad_viento_96', 'VPmax_24', 'VPdef_120',\n",
    "       'temperatura_96', 'VPdef_144', 'velocidad_viento_96',\n",
    "       'temperatura_144', 'direccion_viento_96', 'VPmax_96'])"
   ]
  },
  {
   "cell_type": "code",
   "execution_count": 32,
   "metadata": {
    "ExecuteTime": {
     "end_time": "2023-01-03T16:54:11.402123Z",
     "start_time": "2023-01-03T16:54:11.398132Z"
    }
   },
   "outputs": [],
   "source": [
    "dict_results_powershap = {'rmse':[], 'mae':[], 'r2':[]}"
   ]
  },
  {
   "cell_type": "code",
   "execution_count": 33,
   "metadata": {
    "ExecuteTime": {
     "end_time": "2023-01-03T16:58:38.202244Z",
     "start_time": "2023-01-03T16:54:11.498141Z"
    },
    "scrolled": true
   },
   "outputs": [
    {
     "name": "stdout",
     "output_type": "stream",
     "text": [
      "0\n",
      "1\n",
      "2\n",
      "3\n",
      "4\n",
      "5\n",
      "6\n",
      "7\n",
      "8\n",
      "9\n",
      "10\n",
      "11\n",
      "12\n",
      "13\n",
      "14\n",
      "15\n",
      "16\n",
      "17\n",
      "18\n",
      "19\n",
      "20\n",
      "21\n",
      "22\n",
      "23\n",
      "24\n",
      "25\n",
      "26\n",
      "27\n",
      "28\n",
      "29\n",
      "30\n",
      "31\n",
      "32\n",
      "33\n",
      "34\n",
      "35\n",
      "36\n",
      "37\n",
      "38\n",
      "39\n",
      "40\n",
      "41\n",
      "42\n",
      "43\n",
      "44\n",
      "45\n",
      "46\n",
      "47\n",
      "48\n",
      "49\n"
     ]
    }
   ],
   "source": [
    "X_test_powershap = X_test[selected_features_powershap]\n",
    "X_train_powershap = X_train[selected_features_powershap]\n",
    "X_val_powershap = X_val[selected_features_powershap]\n",
    "for iteration in range(50):\n",
    "    print(iteration)\n",
    "    model = CatBoostRegressor(verbose=0, n_estimators=250,use_best_model=True, random_seed=seeds[iteration])\n",
    "    model.fit(\n",
    "        X_train_powershap, y_train,\n",
    "        eval_set=(X_val_powershap, y_val),\n",
    "        verbose = 0,\n",
    "        plot=False\n",
    "    );\n",
    "    \n",
    "    test_results = scores_calc_print(y_test, model.predict(X_test_powershap), print_bool=False)\n",
    "    \n",
    "    dict_results_powershap[\"r2\"].append(test_results[\"R2\"])\n",
    "    dict_results_powershap[\"rmse\"].append(test_results[\"RMSE\"])\n",
    "    dict_results_powershap[\"mae\"].append(test_results[\"MAE\"])"
   ]
  },
  {
   "cell_type": "code",
   "execution_count": 34,
   "metadata": {
    "ExecuteTime": {
     "end_time": "2023-01-03T16:58:38.217715Z",
     "start_time": "2023-01-03T16:58:38.204809Z"
    }
   },
   "outputs": [],
   "source": [
    "results_powershap_df = pd.DataFrame(dict_results_powershap)\n",
    "mean_powershap_test = results_powershap_df.mean()\n",
    "std_powershap_test = results_powershap_df.std()\n",
    "max_powershap_test = results_powershap_df.max()\n",
    "min_powershap_test = results_powershap_df.min()"
   ]
  },
  {
   "cell_type": "code",
   "execution_count": 35,
   "metadata": {
    "ExecuteTime": {
     "end_time": "2023-01-03T16:58:38.233697Z",
     "start_time": "2023-01-03T16:58:38.221703Z"
    }
   },
   "outputs": [
    {
     "data": {
      "text/plain": [
       "(rmse    1.401855\n",
       " mae     1.044146\n",
       " r2      0.168024\n",
       " dtype: float64,\n",
       " rmse    0.003509\n",
       " mae     0.003435\n",
       " r2      0.004167\n",
       " dtype: float64,\n",
       " rmse    1.410189\n",
       " mae     1.052529\n",
       " r2      0.175983\n",
       " dtype: float64,\n",
       " rmse    1.395137\n",
       " mae     1.036662\n",
       " r2      0.158108\n",
       " dtype: float64)"
      ]
     },
     "execution_count": 35,
     "metadata": {},
     "output_type": "execute_result"
    }
   ],
   "source": [
    "mean_powershap_test, std_powershap_test, max_powershap_test, min_powershap_test"
   ]
  },
  {
   "cell_type": "markdown",
   "metadata": {},
   "source": [
    "## BorutaSHAP"
   ]
  },
  {
   "cell_type": "code",
   "execution_count": 76,
   "metadata": {
    "ExecuteTime": {
     "end_time": "2023-01-02T17:21:56.292208Z",
     "start_time": "2023-01-02T17:16:43.945386Z"
    }
   },
   "outputs": [
    {
     "data": {
      "application/vnd.jupyter.widget-view+json": {
       "model_id": "194851c7c9eb4f1090b6a5b2526dfb37",
       "version_major": 2,
       "version_minor": 0
      },
      "text/plain": [
       "HBox(children=(HTML(value=''), FloatProgress(value=0.0, max=20.0), HTML(value='')))"
      ]
     },
     "metadata": {},
     "output_type": "display_data"
    },
    {
     "name": "stdout",
     "output_type": "stream",
     "text": [
      "\n",
      "33 attributes confirmed important: ['concentracion_vapor_agua_120', 'humedad_relativa_24', 'rho_144', 'humedad_relativa_144', 'direccion_viento_24', 'concentracion_vapor_agua_24', 'presion_96', 'presion_120', 'mes', 'rho_24', 'presion_24', 'VPact_24', 'hora', 'velocidad_viento_24', 'humedad_especifica_48', 'concentracion_vapor_agua_72', 'rho_96', 'temperaturaDew_48', 'presion_144', 'velocidad_viento_48', 'max_valocidad_viento_144', 'presion_48', 'direccion_viento_48', 'temperaturaDew_24', 'direccion_viento_144', 'presion_72', 'direccion_viento_120', 'humedad_especifica_24', 'max_valocidad_viento_48', 'VPdef_24', 'max_valocidad_viento_24', 'rho_72', 'max_valocidad_viento_120']\n",
      "1 attributes confirmed unimportant: ['max_valocidad_viento_72']\n",
      "46 tentative attributes remains: ['temperaturaDew_144', 'temperatura_144', 'VPmax_144', 'humedad_especifica_120', 'VPdef_96', 'temperaturaDew_120', 'velocidad_viento_144', 'VPmax_48', 'rho_48', 'temperatura_72', 'concentracion_vapor_agua_144', 'temperatura_48', 'VPdef_72', 'humedad_especifica_144', 'temperatura_24', 'concentracion_vapor_agua_48', 'humedad_relativa_72', 'VPdef_120', 'VPmax_120', 'VPmax_24', 'VPact_96', 'rho_120', 'direccion_viento_96', 'humedad_relativa_120', 'humedad_relativa_48', 'VPdef_144', 'VPact_48', 'temperaturaDew_72', 'velocidad_viento_96', 'velocidad_viento_120', 'humedad_especifica_96', 'VPmax_96', 'humedad_especifica_72', 'humedad_relativa_96', 'velocidad_viento_72', 'VPact_120', 'VPact_144', 'direccion_viento_72', 'temperatura_120', 'concentracion_vapor_agua_96', 'max_valocidad_viento_96', 'temperaturaDew_96', 'temperatura_96', 'VPact_72', 'VPdef_48', 'VPmax_72']\n"
     ]
    }
   ],
   "source": [
    "model = CatBoostRegressor(verbose=0, n_estimators=250,use_best_model=False, random_seed = 123)\n",
    "\n",
    "# if classification is False it is a Regression problem\n",
    "Feature_Selector = BorutaShap(model=model,\n",
    "                              importance_measure='shap',\n",
    "                              classification=False)\n",
    "\n",
    "Feature_Selector.fit(X=X_train_val, y=y_train_val, sample=False,\n",
    "                        train_or_test = 'test', normalize=True,verbose=True)"
   ]
  },
  {
   "cell_type": "code",
   "execution_count": 77,
   "metadata": {
    "ExecuteTime": {
     "end_time": "2023-01-02T17:21:56.316974Z",
     "start_time": "2023-01-02T17:21:56.294231Z"
    }
   },
   "outputs": [
    {
     "data": {
      "text/plain": [
       "['VPact_24',\n",
       " 'VPdef_24',\n",
       " 'concentracion_vapor_agua_120',\n",
       " 'concentracion_vapor_agua_24',\n",
       " 'concentracion_vapor_agua_72',\n",
       " 'direccion_viento_120',\n",
       " 'direccion_viento_144',\n",
       " 'direccion_viento_24',\n",
       " 'direccion_viento_48',\n",
       " 'hora',\n",
       " 'humedad_especifica_24',\n",
       " 'humedad_especifica_48',\n",
       " 'humedad_relativa_144',\n",
       " 'humedad_relativa_24',\n",
       " 'max_valocidad_viento_120',\n",
       " 'max_valocidad_viento_144',\n",
       " 'max_valocidad_viento_24',\n",
       " 'max_valocidad_viento_48',\n",
       " 'mes',\n",
       " 'presion_120',\n",
       " 'presion_144',\n",
       " 'presion_24',\n",
       " 'presion_48',\n",
       " 'presion_72',\n",
       " 'presion_96',\n",
       " 'rho_144',\n",
       " 'rho_24',\n",
       " 'rho_72',\n",
       " 'rho_96',\n",
       " 'temperaturaDew_24',\n",
       " 'temperaturaDew_48',\n",
       " 'velocidad_viento_24',\n",
       " 'velocidad_viento_48']"
      ]
     },
     "execution_count": 77,
     "metadata": {},
     "output_type": "execute_result"
    }
   ],
   "source": [
    "subset = Feature_Selector.Subset()\n",
    "selected_features_borutashap = sorted(subset.columns.values)\n",
    "selected_features_borutashap"
   ]
  },
  {
   "cell_type": "code",
   "execution_count": 36,
   "metadata": {
    "ExecuteTime": {
     "end_time": "2023-01-03T16:58:38.249801Z",
     "start_time": "2023-01-03T16:58:38.236690Z"
    }
   },
   "outputs": [],
   "source": [
    "selected_features_borutashap = sorted(['concentracion_vapor_agua_120', 'humedad_relativa_24', 'rho_144', 'humedad_relativa_144', 'direccion_viento_24', 'concentracion_vapor_agua_24', 'presion_96', 'presion_120', 'mes', 'rho_24', 'presion_24', 'VPact_24', 'hora', 'velocidad_viento_24', 'humedad_especifica_48', 'concentracion_vapor_agua_72', 'rho_96', 'temperaturaDew_48', 'presion_144', 'velocidad_viento_48', 'max_valocidad_viento_144', 'presion_48', 'direccion_viento_48', 'temperaturaDew_24', 'direccion_viento_144', 'presion_72', 'direccion_viento_120', 'humedad_especifica_24', 'max_valocidad_viento_48', 'VPdef_24', 'max_valocidad_viento_24', 'rho_72', 'max_valocidad_viento_120'])"
   ]
  },
  {
   "cell_type": "code",
   "execution_count": 37,
   "metadata": {
    "ExecuteTime": {
     "end_time": "2023-01-03T16:58:38.265759Z",
     "start_time": "2023-01-03T16:58:38.251796Z"
    }
   },
   "outputs": [],
   "source": [
    "dict_results_borutashap = {'rmse':[], 'mae':[], 'r2':[]}"
   ]
  },
  {
   "cell_type": "code",
   "execution_count": 38,
   "metadata": {
    "ExecuteTime": {
     "end_time": "2023-01-03T17:01:44.366157Z",
     "start_time": "2023-01-03T16:58:38.267754Z"
    },
    "scrolled": true
   },
   "outputs": [
    {
     "name": "stdout",
     "output_type": "stream",
     "text": [
      "0\n",
      "1\n",
      "2\n",
      "3\n",
      "4\n",
      "5\n",
      "6\n",
      "7\n",
      "8\n",
      "9\n",
      "10\n",
      "11\n",
      "12\n",
      "13\n",
      "14\n",
      "15\n",
      "16\n",
      "17\n",
      "18\n",
      "19\n",
      "20\n",
      "21\n",
      "22\n",
      "23\n",
      "24\n",
      "25\n",
      "26\n",
      "27\n",
      "28\n",
      "29\n",
      "30\n",
      "31\n",
      "32\n",
      "33\n",
      "34\n",
      "35\n",
      "36\n",
      "37\n",
      "38\n",
      "39\n",
      "40\n",
      "41\n",
      "42\n",
      "43\n",
      "44\n",
      "45\n",
      "46\n",
      "47\n",
      "48\n",
      "49\n"
     ]
    }
   ],
   "source": [
    "X_test_borutashap = X_test[selected_features_borutashap]\n",
    "X_train_borutashap = X_train[selected_features_borutashap]\n",
    "X_val_borutashap = X_val[selected_features_borutashap]\n",
    "for iteration in range(50):\n",
    "    print(iteration)\n",
    "    model = CatBoostRegressor(verbose=0, n_estimators=250,use_best_model=True, random_seed=seeds[iteration])\n",
    "    model.fit(\n",
    "        X_train_borutashap, y_train,\n",
    "        eval_set=(X_val_borutashap, y_val),\n",
    "        verbose = 0,\n",
    "        plot=False\n",
    "    );\n",
    "    \n",
    "    test_results = scores_calc_print(y_test, model.predict(X_test_borutashap), print_bool=False)\n",
    "    \n",
    "    dict_results_borutashap[\"r2\"].append(test_results[\"R2\"])\n",
    "    dict_results_borutashap[\"rmse\"].append(test_results[\"RMSE\"])\n",
    "    dict_results_borutashap[\"mae\"].append(test_results[\"MAE\"])"
   ]
  },
  {
   "cell_type": "code",
   "execution_count": 39,
   "metadata": {
    "ExecuteTime": {
     "end_time": "2023-01-03T17:01:44.382145Z",
     "start_time": "2023-01-03T17:01:44.369150Z"
    }
   },
   "outputs": [],
   "source": [
    "results_borutashap_df = pd.DataFrame(dict_results_borutashap)\n",
    "mean_borutashap_test = results_borutashap_df.mean()\n",
    "std_borutashap_test = results_borutashap_df.std()\n",
    "max_borutashap_test = results_borutashap_df.max()\n",
    "min_borutashap_test = results_borutashap_df.min()"
   ]
  },
  {
   "cell_type": "code",
   "execution_count": 40,
   "metadata": {
    "ExecuteTime": {
     "end_time": "2023-01-03T17:01:44.398163Z",
     "start_time": "2023-01-03T17:01:44.386166Z"
    }
   },
   "outputs": [
    {
     "data": {
      "text/plain": [
       "(rmse    1.401890\n",
       " mae     1.043999\n",
       " r2      0.167985\n",
       " dtype: float64,\n",
       " rmse    0.002535\n",
       " mae     0.002615\n",
       " r2      0.003010\n",
       " dtype: float64,\n",
       " rmse    1.407676\n",
       " mae     1.051450\n",
       " r2      0.173105\n",
       " dtype: float64,\n",
       " rmse    1.397572\n",
       " mae     1.037718\n",
       " r2      0.161105\n",
       " dtype: float64)"
      ]
     },
     "execution_count": 40,
     "metadata": {},
     "output_type": "execute_result"
    }
   ],
   "source": [
    "mean_borutashap_test, std_borutashap_test, max_borutashap_test, min_borutashap_test"
   ]
  },
  {
   "cell_type": "markdown",
   "metadata": {},
   "source": [
    "## Shapicant"
   ]
  },
  {
   "cell_type": "code",
   "execution_count": 82,
   "metadata": {
    "ExecuteTime": {
     "end_time": "2023-01-02T17:40:58.963096Z",
     "start_time": "2023-01-02T17:25:54.887116Z"
    }
   },
   "outputs": [
    {
     "name": "stderr",
     "output_type": "stream",
     "text": [
      "Computing null SHAP values: 100%|████████████████████████████████████████████████████| 100/100 [15:04<00:00,  9.04s/it]\n"
     ]
    }
   ],
   "source": [
    "# LightGBM in RandomForest-like mode (with rows subsampling), without columns subsampling\n",
    "model = CatBoostRegressor(verbose=0, n_estimators=250,use_best_model=False, random_seed = 123)\n",
    "\n",
    "\n",
    "# This is the class (not its instance) of SHAP's TreeExplainer\n",
    "explainer_type = shap.TreeExplainer\n",
    "\n",
    "# Use PandasSelector with 100 iterations\n",
    "selector = shapicant.PandasSelector(model, explainer_type, random_state=42)\n",
    "\n",
    "# Run the feature selection\n",
    "# If we provide a validation set, SHAP values are computed on it, otherwise they are computed on the training set\n",
    "# We can also provide additional parameters to the underlying estimator's fit method through estimator_params\n",
    "selector.fit(X_train, y_train, X_validation=X_val)#, estimator_params={\"categorical_feature\": None})\n",
    "\n",
    "# Just get the features list\n",
    "selected_features = selector.get_features()\n",
    "\n",
    "# We can also get the p-values as pandas Series\n",
    "p_values = selector.p_values_\n",
    "\n",
    "selected_features_shapicant = sorted(np.array(selected_features))"
   ]
  },
  {
   "cell_type": "code",
   "execution_count": 83,
   "metadata": {
    "ExecuteTime": {
     "end_time": "2023-01-02T17:40:58.978321Z",
     "start_time": "2023-01-02T17:40:58.963096Z"
    }
   },
   "outputs": [
    {
     "data": {
      "text/plain": [
       "['direccion_viento_24',\n",
       " 'direccion_viento_48',\n",
       " 'hora',\n",
       " 'humedad_relativa_144',\n",
       " 'humedad_relativa_24',\n",
       " 'max_valocidad_viento_24',\n",
       " 'mes',\n",
       " 'presion_120',\n",
       " 'presion_144',\n",
       " 'presion_24',\n",
       " 'presion_72',\n",
       " 'presion_96',\n",
       " 'temperaturaDew_24']"
      ]
     },
     "execution_count": 83,
     "metadata": {},
     "output_type": "execute_result"
    }
   ],
   "source": [
    "selected_features_shapicant"
   ]
  },
  {
   "cell_type": "code",
   "execution_count": 41,
   "metadata": {
    "ExecuteTime": {
     "end_time": "2023-01-03T17:01:44.414148Z",
     "start_time": "2023-01-03T17:01:44.401156Z"
    }
   },
   "outputs": [],
   "source": [
    "selected_features_shapicant = sorted(['direccion_viento_24',\n",
    " 'direccion_viento_48',\n",
    " 'hora',\n",
    " 'humedad_relativa_144',\n",
    " 'humedad_relativa_24',\n",
    " 'max_valocidad_viento_24',\n",
    " 'mes',\n",
    " 'presion_120',\n",
    " 'presion_144',\n",
    " 'presion_24',\n",
    " 'presion_72',\n",
    " 'presion_96',\n",
    " 'temperaturaDew_24'])"
   ]
  },
  {
   "cell_type": "code",
   "execution_count": 44,
   "metadata": {
    "ExecuteTime": {
     "end_time": "2023-01-03T17:06:24.314285Z",
     "start_time": "2023-01-03T17:06:24.295822Z"
    }
   },
   "outputs": [],
   "source": [
    "dict_results_shapicant = {'rmse':[], 'mae':[], 'r2':[]}"
   ]
  },
  {
   "cell_type": "code",
   "execution_count": 45,
   "metadata": {
    "ExecuteTime": {
     "end_time": "2023-01-03T17:08:52.297940Z",
     "start_time": "2023-01-03T17:06:24.446976Z"
    }
   },
   "outputs": [
    {
     "name": "stdout",
     "output_type": "stream",
     "text": [
      "0\n",
      "1\n",
      "2\n",
      "3\n",
      "4\n",
      "5\n",
      "6\n",
      "7\n",
      "8\n",
      "9\n",
      "10\n",
      "11\n",
      "12\n",
      "13\n",
      "14\n",
      "15\n",
      "16\n",
      "17\n",
      "18\n",
      "19\n",
      "20\n",
      "21\n",
      "22\n",
      "23\n",
      "24\n",
      "25\n",
      "26\n",
      "27\n",
      "28\n",
      "29\n",
      "30\n",
      "31\n",
      "32\n",
      "33\n",
      "34\n",
      "35\n",
      "36\n",
      "37\n",
      "38\n",
      "39\n",
      "40\n",
      "41\n",
      "42\n",
      "43\n",
      "44\n",
      "45\n",
      "46\n",
      "47\n",
      "48\n",
      "49\n"
     ]
    }
   ],
   "source": [
    "X_test_shapicant = X_test[selected_features_shapicant]\n",
    "X_train_shapicant= X_train[selected_features_shapicant]\n",
    "X_val_shapicant = X_val[selected_features_shapicant]\n",
    "for iteration in range(50):\n",
    "    print(iteration)\n",
    "    model = CatBoostRegressor(verbose=0, n_estimators=250,use_best_model=True, random_seed=seeds[iteration])\n",
    "    model.fit(\n",
    "        X_train_shapicant, y_train,\n",
    "        eval_set=(X_val_shapicant, y_val),\n",
    "        verbose = 0,\n",
    "        plot=False\n",
    "    );\n",
    "    \n",
    "    test_results = scores_calc_print(y_test, model.predict(X_test_shapicant), print_bool=False)\n",
    "    \n",
    "    dict_results_shapicant[\"r2\"].append(test_results[\"R2\"])\n",
    "    dict_results_shapicant[\"rmse\"].append(test_results[\"RMSE\"])\n",
    "    dict_results_shapicant[\"mae\"].append(test_results[\"MAE\"])"
   ]
  },
  {
   "cell_type": "code",
   "execution_count": 46,
   "metadata": {
    "ExecuteTime": {
     "end_time": "2023-01-03T17:08:52.313926Z",
     "start_time": "2023-01-03T17:08:52.299935Z"
    }
   },
   "outputs": [],
   "source": [
    "results_shapicant_df = pd.DataFrame(dict_results_shapicant)\n",
    "mean_shapicant_test = results_shapicant_df.mean()\n",
    "std_shapicant_test = results_shapicant_df.std()\n",
    "max_shapicant_test = results_shapicant_df.max()\n",
    "min_shapicant_test = results_shapicant_df.min()"
   ]
  },
  {
   "cell_type": "code",
   "execution_count": 47,
   "metadata": {
    "ExecuteTime": {
     "end_time": "2023-01-03T17:08:52.329938Z",
     "start_time": "2023-01-03T17:08:52.316944Z"
    }
   },
   "outputs": [
    {
     "data": {
      "text/plain": [
       "(rmse    1.407807\n",
       " mae     1.048562\n",
       " r2      0.160946\n",
       " dtype: float64,\n",
       " rmse    0.002358\n",
       " mae     0.003185\n",
       " r2      0.002809\n",
       " dtype: float64,\n",
       " rmse    1.411837\n",
       " mae     1.053893\n",
       " r2      0.167193\n",
       " dtype: float64,\n",
       " rmse    1.402559\n",
       " mae     1.040509\n",
       " r2      0.156139\n",
       " dtype: float64)"
      ]
     },
     "execution_count": 47,
     "metadata": {},
     "output_type": "execute_result"
    }
   ],
   "source": [
    "mean_shapicant_test, std_shapicant_test, max_shapicant_test, min_shapicant_test"
   ]
  },
  {
   "cell_type": "markdown",
   "metadata": {},
   "source": [
    "# Results"
   ]
  },
  {
   "cell_type": "code",
   "execution_count": 88,
   "metadata": {
    "ExecuteTime": {
     "end_time": "2023-01-02T17:43:49.914948Z",
     "start_time": "2023-01-02T17:43:49.899830Z"
    }
   },
   "outputs": [],
   "source": [
    "nombres = ['PowerSHAP', 'BorutaSHAP', 'Shapicant', 'SHAPEffects_075_025', 'SHAPEffects_08_02', 'SHAPEffects_085_015', 'SHAPEffects_09_01', 'SHAPEffects_095_005']"
   ]
  },
  {
   "cell_type": "markdown",
   "metadata": {},
   "source": [
    "## MAE"
   ]
  },
  {
   "cell_type": "code",
   "execution_count": 89,
   "metadata": {
    "ExecuteTime": {
     "end_time": "2023-01-02T17:43:49.934716Z",
     "start_time": "2023-01-02T17:43:49.916943Z"
    }
   },
   "outputs": [],
   "source": [
    "resultados_mae_mean = [mean_powershap_test['mae'], mean_borutashap_test['mae'], mean_shapicant_test['mae'], mean_shapeffects_075_025_test['mae'], mean_shapeffects_08_02_test['mae'], mean_shapeffects_085_015_test['mae'], mean_shapeffects_09_01_test['mae'], mean_shapeffects_095_005_test['mae']]\n",
    "resultados_mae_std = [std_powershap_test['mae'], std_borutashap_test['mae'], std_shapicant_test['mae'], std_shapeffects_075_025_test['mae'], std_shapeffects_08_02_test['mae'], std_shapeffects_085_015_test['mae'], std_shapeffects_09_01_test['mae'], std_shapeffects_095_005_test['mae']]\n",
    "resultados_mae_max = [max_powershap_test['mae'], max_borutashap_test['mae'], max_shapicant_test['mae'], max_shapeffects_075_025_test['mae'], max_shapeffects_08_02_test['mae'], max_shapeffects_085_015_test['mae'], max_shapeffects_09_01_test['mae'], max_shapeffects_095_005_test['mae']]\n",
    "resultados_mae_min = [min_powershap_test['mae'], min_borutashap_test['mae'], min_shapicant_test['mae'], min_shapeffects_075_025_test['mae'], min_shapeffects_08_02_test['mae'], min_shapeffects_085_015_test['mae'], min_shapeffects_09_01_test['mae'], min_shapeffects_095_005_test['mae']]"
   ]
  },
  {
   "cell_type": "code",
   "execution_count": 98,
   "metadata": {
    "ExecuteTime": {
     "end_time": "2023-01-02T19:29:59.528076Z",
     "start_time": "2023-01-02T19:29:59.335998Z"
    },
    "scrolled": false
   },
   "outputs": [
    {
     "data": {
      "text/plain": [
       "(1.02, 1.07)"
      ]
     },
     "execution_count": 98,
     "metadata": {},
     "output_type": "execute_result"
    },
    {
     "data": {
      "image/png": "[encoded data removed]",
      "text/plain": [
       "<Figure size 1440x720 with 1 Axes>"
      ]
     },
     "metadata": {},
     "output_type": "display_data"
    }
   ],
   "source": [
    "fig, ax = plt.subplots(1, 1, figsize = (20, 10))\n",
    "ax.bar(nombres, resultados_mae_mean, alpha = 0.7, width=0.3)\n",
    "ax.errorbar(nombres, resultados_mae_mean, resultados_mae_std, fmt='.', color='Black', elinewidth=2,capthick=10,errorevery=1, alpha=0.5, ms=4, capsize = 2)\n",
    "ax.plot(nombres, resultados_mae_max, color='red', alpha=0.8, linestyle='-', marker='.', markersize=10)\n",
    "ax.plot(nombres, resultados_mae_min, color='lime', alpha=0.8, linestyle='-', marker='.', markersize=10)\n",
    "ax.yaxis.grid(True,linestyle='--')\n",
    "ax.xaxis.grid(False)\n",
    "ax.title.set_text(\"MAE\")\n",
    "ax.title.set_size(15)\n",
    "for index,data in enumerate(resultados_mae_mean):\n",
    "    ax.text(x=index , y =data+0.001 , s=f\"{round(data, 3)}\" , fontdict=dict(fontsize=10), ha='center')\n",
    "ax.set_ylim([1.02, 1.07])\n"
   ]
  },
  {
   "cell_type": "markdown",
   "metadata": {},
   "source": [
    "## RMSE"
   ]
  },
  {
   "cell_type": "code",
   "execution_count": 91,
   "metadata": {
    "ExecuteTime": {
     "end_time": "2023-01-02T17:43:50.303769Z",
     "start_time": "2023-01-02T17:43:50.291868Z"
    }
   },
   "outputs": [],
   "source": [
    "resultados_rmse_mean = [mean_powershap_test['rmse'], mean_borutashap_test['rmse'], mean_shapicant_test['rmse'], mean_shapeffects_075_025_test['rmse'], mean_shapeffects_08_02_test['rmse'], mean_shapeffects_085_015_test['rmse'], mean_shapeffects_09_01_test['rmse'], mean_shapeffects_095_005_test['rmse']]\n",
    "resultados_rmse_std = [std_powershap_test['rmse'], std_borutashap_test['rmse'], std_shapicant_test['rmse'], std_shapeffects_075_025_test['rmse'], std_shapeffects_08_02_test['rmse'], std_shapeffects_085_015_test['rmse'], std_shapeffects_09_01_test['rmse'], std_shapeffects_095_005_test['rmse']]\n",
    "resultados_rmse_max = [max_powershap_test['rmse'], max_borutashap_test['rmse'], max_shapicant_test['rmse'], max_shapeffects_075_025_test['rmse'], max_shapeffects_08_02_test['rmse'], max_shapeffects_085_015_test['rmse'], max_shapeffects_09_01_test['rmse'], max_shapeffects_095_005_test['rmse']]\n",
    "resultados_rmse_min = [min_powershap_test['rmse'], min_borutashap_test['rmse'], min_shapicant_test['rmse'], min_shapeffects_075_025_test['rmse'], min_shapeffects_08_02_test['rmse'], min_shapeffects_085_015_test['rmse'], min_shapeffects_09_01_test['rmse'], min_shapeffects_095_005_test['rmse']]"
   ]
  },
  {
   "cell_type": "code",
   "execution_count": 100,
   "metadata": {
    "ExecuteTime": {
     "end_time": "2023-01-02T19:30:16.009087Z",
     "start_time": "2023-01-02T19:30:15.757583Z"
    },
    "scrolled": false
   },
   "outputs": [
    {
     "data": {
      "text/plain": [
       "(1.38, 1.43)"
      ]
     },
     "execution_count": 100,
     "metadata": {},
     "output_type": "execute_result"
    },
    {
     "data": {
      "image/png": "[encoded data removed]",
      "text/plain": [
       "<Figure size 1440x720 with 1 Axes>"
      ]
     },
     "metadata": {},
     "output_type": "display_data"
    }
   ],
   "source": [
    "fig, ax = plt.subplots(1, 1, figsize = (20, 10))\n",
    "ax.bar(nombres, resultados_rmse_mean, alpha = 0.7, width=0.3)\n",
    "ax.errorbar(nombres, resultados_rmse_mean, resultados_rmse_std, fmt='.', color='Black', elinewidth=2,capthick=10,errorevery=1, alpha=0.5, ms=4, capsize = 2)\n",
    "ax.plot(nombres, resultados_rmse_max, color='red', alpha=0.8, linestyle='-', marker='.', markersize=10)\n",
    "ax.plot(nombres, resultados_rmse_min, color='lime', alpha=0.8, linestyle='-', marker='.', markersize=10)\n",
    "ax.yaxis.grid(True,linestyle='--')\n",
    "ax.xaxis.grid(False)\n",
    "ax.title.set_text(\"RMSE\")\n",
    "ax.title.set_size(15)\n",
    "for index,data in enumerate(resultados_rmse_mean):\n",
    "    ax.text(x=index , y =data+0.001 , s=f\"{round(data, 3)}\" , fontdict=dict(fontsize=10), ha='center')\n",
    "ax.set_ylim([1.38, 1.43])"
   ]
  },
  {
   "cell_type": "markdown",
   "metadata": {},
   "source": [
    "## R2"
   ]
  },
  {
   "cell_type": "code",
   "execution_count": 93,
   "metadata": {
    "ExecuteTime": {
     "end_time": "2023-01-02T17:43:50.667450Z",
     "start_time": "2023-01-02T17:43:50.654592Z"
    }
   },
   "outputs": [],
   "source": [
    "resultados_r2_mean = [mean_powershap_test['r2'], mean_borutashap_test['r2'], mean_shapicant_test['r2'], mean_shapeffects_075_025_test['r2'], mean_shapeffects_08_02_test['r2'], mean_shapeffects_085_015_test['r2'], mean_shapeffects_09_01_test['r2'], mean_shapeffects_095_005_test['r2']]\n",
    "resultados_r2_std = [std_powershap_test['r2'], std_borutashap_test['r2'], std_shapicant_test['r2'], std_shapeffects_075_025_test['r2'], std_shapeffects_08_02_test['r2'], std_shapeffects_085_015_test['r2'], std_shapeffects_09_01_test['r2'], std_shapeffects_095_005_test['r2']]\n",
    "resultados_r2_max = [max_powershap_test['r2'], max_borutashap_test['r2'], max_shapicant_test['r2'], max_shapeffects_075_025_test['r2'], max_shapeffects_08_02_test['r2'], max_shapeffects_085_015_test['r2'], max_shapeffects_09_01_test['r2'], max_shapeffects_095_005_test['r2']]\n",
    "resultados_r2_min = [min_powershap_test['r2'], min_borutashap_test['r2'], min_shapicant_test['r2'], min_shapeffects_075_025_test['r2'], min_shapeffects_08_02_test['r2'], min_shapeffects_085_015_test['r2'], min_shapeffects_09_01_test['r2'], min_shapeffects_095_005_test['r2']]"
   ]
  },
  {
   "cell_type": "code",
   "execution_count": 94,
   "metadata": {
    "ExecuteTime": {
     "end_time": "2023-01-02T17:43:50.682611Z",
     "start_time": "2023-01-02T17:43:50.667450Z"
    }
   },
   "outputs": [
    {
     "data": {
      "text/plain": [
       "([0.17598330916949056,\n",
       "  0.17310454501795092,\n",
       "  0.1671925703353172,\n",
       "  0.18367483568750853,\n",
       "  0.1819391489615405,\n",
       "  0.17852666174004295,\n",
       "  0.16301320939908648,\n",
       "  0.17909192617102432],\n",
       " [0.1581078537090953,\n",
       "  0.1611053219962999,\n",
       "  0.15613858068927444,\n",
       "  0.16970329686174623,\n",
       "  0.15486779669514217,\n",
       "  0.15729455926939684,\n",
       "  0.1371944566319072,\n",
       "  0.16245119084414017])"
      ]
     },
     "execution_count": 94,
     "metadata": {},
     "output_type": "execute_result"
    }
   ],
   "source": [
    "resultados_r2_max, resultados_r2_min"
   ]
  },
  {
   "cell_type": "code",
   "execution_count": 101,
   "metadata": {
    "ExecuteTime": {
     "end_time": "2023-01-02T19:30:28.342777Z",
     "start_time": "2023-01-02T19:30:28.148621Z"
    }
   },
   "outputs": [
    {
     "data": {
      "text/plain": [
       "(0.13, 0.19)"
      ]
     },
     "execution_count": 101,
     "metadata": {},
     "output_type": "execute_result"
    },
    {
     "data": {
      "image/png": "[encoded data removed]",
      "text/plain": [
       "<Figure size 1440x720 with 1 Axes>"
      ]
     },
     "metadata": {},
     "output_type": "display_data"
    }
   ],
   "source": [
    "fig, ax = plt.subplots(1, 1, figsize = (20, 10))\n",
    "ax.bar(nombres, resultados_r2_mean, alpha = 0.7, width=0.3)\n",
    "ax.errorbar(nombres, resultados_r2_mean, resultados_r2_std, fmt='.', color='Black', elinewidth=2,capthick=10,errorevery=1, alpha=0.5, ms=4, capsize = 2)\n",
    "ax.plot(nombres, resultados_r2_max, color='lime', alpha=0.8, linestyle='-', marker='.', markersize=10)\n",
    "ax.plot(nombres, resultados_r2_min, color='red', alpha=0.8, linestyle='-', marker='.', markersize=10)\n",
    "ax.yaxis.grid(True,linestyle='--')\n",
    "ax.xaxis.grid(False)\n",
    "ax.title.set_text(\"R2\")\n",
    "ax.title.set_size(15)\n",
    "for index,data in enumerate(resultados_r2_mean):\n",
    "    ax.text(x=index , y =data+0.0001 , s=f\"{round(data, 3)}\" , fontdict=dict(fontsize=10), ha='center')\n",
    "ax.set_ylim([0.13, 0.19])"
   ]
  },
  {
   "cell_type": "markdown",
   "metadata": {},
   "source": [
    "## Number of variables"
   ]
  },
  {
   "cell_type": "code",
   "execution_count": 96,
   "metadata": {
    "ExecuteTime": {
     "end_time": "2023-01-02T17:43:51.032953Z",
     "start_time": "2023-01-02T17:43:51.018990Z"
    }
   },
   "outputs": [],
   "source": [
    "n_var = [len(selected_features_powershap), len(selected_features_borutashap), len(selected_features_shapicant), len(selected_features_shapeffects_075_025), len(selected_features_shapeffects_08_02), len(selected_features_shapeffects_085_015), len(selected_features_shapeffects_09_01), len(selected_features_shapeffects_095_005)]"
   ]
  },
  {
   "cell_type": "code",
   "execution_count": 97,
   "metadata": {
    "ExecuteTime": {
     "end_time": "2023-01-02T17:43:51.352317Z",
     "start_time": "2023-01-02T17:43:51.033825Z"
    }
   },
   "outputs": [
    {
     "data": {
      "text/plain": [
       "(0.0, 85.0)"
      ]
     },
     "execution_count": 97,
     "metadata": {},
     "output_type": "execute_result"
    },
    {
     "data": {
      "image/png": "[encoded data removed]",
      "text/plain": [
       "<Figure size 1440x720 with 1 Axes>"
      ]
     },
     "metadata": {},
     "output_type": "display_data"
    }
   ],
   "source": [
    "fig, ax = plt.subplots(1, 1, figsize = (20, 10))\n",
    "bars = ax.bar(nombres, n_var, alpha = 0.7, width=0.3)\n",
    "ax.yaxis.grid(True,linestyle='--')\n",
    "ax.xaxis.grid(False)\n",
    "ax.title.set_text(\"N Var\")\n",
    "ax.title.set_size(15)\n",
    "for index,data in enumerate(n_var):\n",
    "    ax.text(x=index , y =data+0.1 , s=f\"{round(data, 3)}\" , fontdict=dict(fontsize=10), ha='center')\n",
    "ax.set_ylim([0, 85])"
   ]
  },
  {
   "cell_type": "code",
   "execution_count": null,
   "metadata": {},
   "outputs": [],
   "source": []
  },
  {
   "cell_type": "code",
   "execution_count": null,
   "metadata": {},
   "outputs": [],
   "source": []
  }
 ],
 "metadata": {
  "kernelspec": {
   "display_name": "BrainEN_v1",
   "language": "python",
   "name": "brainen_v1"
  },
  "language_info": {
   "codemirror_mode": {
    "name": "ipython",
    "version": 3
   },
   "file_extension": ".py",
   "mimetype": "text/x-python",
   "name": "python",
   "nbconvert_exporter": "python",
   "pygments_lexer": "ipython3",
   "version": "3.9.7"
  }
 },
 "nbformat": 4,
 "nbformat_minor": 4
}
