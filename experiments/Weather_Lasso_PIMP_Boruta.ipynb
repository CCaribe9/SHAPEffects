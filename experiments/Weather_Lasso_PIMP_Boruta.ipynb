{
 "cells": [
  {
   "cell_type": "markdown",
   "metadata": {},
   "source": [
    "### Libraries and functions"
   ]
  },
  {
   "cell_type": "code",
   "execution_count": 1,
   "metadata": {
    "ExecuteTime": {
     "end_time": "2023-01-05T10:39:58.147615Z",
     "start_time": "2023-01-05T10:39:45.398782Z"
    }
   },
   "outputs": [
    {
     "name": "stderr",
     "output_type": "stream",
     "text": [
      "C:\\Users\\csebastian\\.conda\\envs\\BrainEN_v1\\lib\\site-packages\\tqdm\\auto.py:22: TqdmWarning: IProgress not found. Please update jupyter and ipywidgets. See https://ipywidgets.readthedocs.io/en/stable/user_install.html\n",
      "  from .autonotebook import tqdm as notebook_tqdm\n"
     ]
    }
   ],
   "source": [
    "import pandas as pd\n",
    "import numpy as np\n",
    "from catboost import CatBoostRegressor\n",
    "from sklearn.model_selection import train_test_split\n",
    "from sklearn.metrics import r2_score,mean_squared_error, mean_absolute_error\n",
    "from sklearn.preprocessing import MinMaxScaler\n",
    "from sklearn.linear_model import Lasso\n",
    "from tabulate import tabulate\n",
    "import seaborn as sns\n",
    "import matplotlib.pyplot as plt\n",
    "from BorutaShap import BorutaShap\n",
    "from powershap  import PowerShap\n",
    "import shapicant\n",
    "from tqdm import tqdm\n",
    "from SHAPEffects import FeatureSelector\n",
    "import random\n",
    "import shap\n",
    "import os\n",
    "import sys\n",
    "from eli5.sklearn import PermutationImportance\n",
    "from sklearn.feature_selection import SelectFromModel\n",
    "os.environ['PYTHONHASHSEED'] = str(1234)\n",
    "random.seed(1234)\n",
    "np.random.seed(1234)\n",
    "plt.style.use('seaborn-whitegrid')\n",
    "plt.rcParams['font.family'] = 'serif'"
   ]
  },
  {
   "cell_type": "code",
   "execution_count": 2,
   "metadata": {
    "ExecuteTime": {
     "end_time": "2023-01-05T10:39:58.187260Z",
     "start_time": "2023-01-05T10:39:58.152871Z"
    }
   },
   "outputs": [],
   "source": [
    "# Taken from PowerSHAP paper\n",
    "def scores_calc_print(Y,Y_pred,print_bool):\n",
    "    if len(Y_pred) > 1:\n",
    "        R2_total = r2_score(Y,Y_pred)\n",
    "    else:\n",
    "        R2_total = -1\n",
    "    RMSE_total = mean_squared_error(Y,Y_pred, squared=False)\n",
    "    MAE_total = mean_absolute_error(Y,Y_pred)\n",
    "    \n",
    "    if print_bool:\n",
    "        print(tabulate([[RMSE_total, MAE_total,R2_total]], [\"RMSE\",\"MAE\",\"R²\"], tablefmt=\"grid\"))\n",
    "    else:\n",
    "        return {\"R2\":R2_total,\"RMSE\":RMSE_total,\"MAE\":MAE_total}"
   ]
  },
  {
   "cell_type": "markdown",
   "metadata": {},
   "source": [
    "### Data"
   ]
  },
  {
   "cell_type": "code",
   "execution_count": 3,
   "metadata": {
    "ExecuteTime": {
     "end_time": "2023-01-05T10:41:47.480927Z",
     "start_time": "2023-01-05T10:39:58.190704Z"
    }
   },
   "outputs": [],
   "source": [
    "current_db = pd.read_csv(r\"Data/max_planck_weather_ts.csv\")\n",
    "# current_db = current_db.reset_index()\n",
    "current_db['Date Time'] = pd.to_datetime(current_db['Date Time'])\n",
    "\n",
    "# Index_col = \"fecha_completa\"\n",
    "# target_col = \"md_espana\"\n",
    "\n",
    "# current_db = current_db.reset_index(drop=True)"
   ]
  },
  {
   "cell_type": "code",
   "execution_count": 4,
   "metadata": {
    "ExecuteTime": {
     "end_time": "2023-01-05T10:41:47.501157Z",
     "start_time": "2023-01-05T10:41:47.486585Z"
    }
   },
   "outputs": [],
   "source": [
    "current_db.columns = ['fecha_completa', 'presion', 'temperatura', 'temperaturaK', 'temperaturaDew', 'humedad_relativa', 'VPmax', 'VPact', 'VPdef', 'humedad_especifica', 'concentracion_vapor_agua', 'rho', 'velocidad_viento', 'max_valocidad_viento', 'direccion_viento']"
   ]
  },
  {
   "cell_type": "code",
   "execution_count": 5,
   "metadata": {
    "ExecuteTime": {
     "end_time": "2023-01-05T10:41:54.318897Z",
     "start_time": "2023-01-05T10:41:47.504178Z"
    }
   },
   "outputs": [
    {
     "data": {
      "text/html": [
       "<div>\n",
       "<style scoped>\n",
       "    .dataframe tbody tr th:only-of-type {\n",
       "        vertical-align: middle;\n",
       "    }\n",
       "\n",
       "    .dataframe tbody tr th {\n",
       "        vertical-align: top;\n",
       "    }\n",
       "\n",
       "    .dataframe thead th {\n",
       "        text-align: right;\n",
       "    }\n",
       "</style>\n",
       "<table border=\"1\" class=\"dataframe\">\n",
       "  <thead>\n",
       "    <tr style=\"text-align: right;\">\n",
       "      <th></th>\n",
       "      <th>fecha_completa</th>\n",
       "      <th>presion</th>\n",
       "      <th>temperatura</th>\n",
       "      <th>temperaturaK</th>\n",
       "      <th>temperaturaDew</th>\n",
       "      <th>humedad_relativa</th>\n",
       "      <th>VPmax</th>\n",
       "      <th>VPact</th>\n",
       "      <th>VPdef</th>\n",
       "      <th>humedad_especifica</th>\n",
       "      <th>concentracion_vapor_agua</th>\n",
       "      <th>rho</th>\n",
       "      <th>velocidad_viento</th>\n",
       "      <th>max_valocidad_viento</th>\n",
       "      <th>direccion_viento</th>\n",
       "    </tr>\n",
       "  </thead>\n",
       "  <tbody>\n",
       "    <tr>\n",
       "      <th>0</th>\n",
       "      <td>2009-01-01 00:10:00</td>\n",
       "      <td>996.52</td>\n",
       "      <td>-8.02</td>\n",
       "      <td>265.40</td>\n",
       "      <td>-8.90</td>\n",
       "      <td>93.30</td>\n",
       "      <td>3.33</td>\n",
       "      <td>3.11</td>\n",
       "      <td>0.22</td>\n",
       "      <td>1.94</td>\n",
       "      <td>3.12</td>\n",
       "      <td>1307.75</td>\n",
       "      <td>1.03</td>\n",
       "      <td>1.75</td>\n",
       "      <td>152.3</td>\n",
       "    </tr>\n",
       "    <tr>\n",
       "      <th>1</th>\n",
       "      <td>2009-01-01 00:20:00</td>\n",
       "      <td>996.57</td>\n",
       "      <td>-8.41</td>\n",
       "      <td>265.01</td>\n",
       "      <td>-9.28</td>\n",
       "      <td>93.40</td>\n",
       "      <td>3.23</td>\n",
       "      <td>3.02</td>\n",
       "      <td>0.21</td>\n",
       "      <td>1.89</td>\n",
       "      <td>3.03</td>\n",
       "      <td>1309.80</td>\n",
       "      <td>0.72</td>\n",
       "      <td>1.50</td>\n",
       "      <td>136.1</td>\n",
       "    </tr>\n",
       "    <tr>\n",
       "      <th>2</th>\n",
       "      <td>2009-01-01 00:30:00</td>\n",
       "      <td>996.53</td>\n",
       "      <td>-8.51</td>\n",
       "      <td>264.91</td>\n",
       "      <td>-9.31</td>\n",
       "      <td>93.90</td>\n",
       "      <td>3.21</td>\n",
       "      <td>3.01</td>\n",
       "      <td>0.20</td>\n",
       "      <td>1.88</td>\n",
       "      <td>3.02</td>\n",
       "      <td>1310.24</td>\n",
       "      <td>0.19</td>\n",
       "      <td>0.63</td>\n",
       "      <td>171.6</td>\n",
       "    </tr>\n",
       "    <tr>\n",
       "      <th>3</th>\n",
       "      <td>2009-01-01 00:40:00</td>\n",
       "      <td>996.51</td>\n",
       "      <td>-8.31</td>\n",
       "      <td>265.12</td>\n",
       "      <td>-9.07</td>\n",
       "      <td>94.20</td>\n",
       "      <td>3.26</td>\n",
       "      <td>3.07</td>\n",
       "      <td>0.19</td>\n",
       "      <td>1.92</td>\n",
       "      <td>3.08</td>\n",
       "      <td>1309.19</td>\n",
       "      <td>0.34</td>\n",
       "      <td>0.50</td>\n",
       "      <td>198.0</td>\n",
       "    </tr>\n",
       "    <tr>\n",
       "      <th>4</th>\n",
       "      <td>2009-01-01 00:50:00</td>\n",
       "      <td>996.51</td>\n",
       "      <td>-8.27</td>\n",
       "      <td>265.15</td>\n",
       "      <td>-9.04</td>\n",
       "      <td>94.10</td>\n",
       "      <td>3.27</td>\n",
       "      <td>3.08</td>\n",
       "      <td>0.19</td>\n",
       "      <td>1.92</td>\n",
       "      <td>3.09</td>\n",
       "      <td>1309.00</td>\n",
       "      <td>0.32</td>\n",
       "      <td>0.63</td>\n",
       "      <td>214.3</td>\n",
       "    </tr>\n",
       "    <tr>\n",
       "      <th>...</th>\n",
       "      <td>...</td>\n",
       "      <td>...</td>\n",
       "      <td>...</td>\n",
       "      <td>...</td>\n",
       "      <td>...</td>\n",
       "      <td>...</td>\n",
       "      <td>...</td>\n",
       "      <td>...</td>\n",
       "      <td>...</td>\n",
       "      <td>...</td>\n",
       "      <td>...</td>\n",
       "      <td>...</td>\n",
       "      <td>...</td>\n",
       "      <td>...</td>\n",
       "      <td>...</td>\n",
       "    </tr>\n",
       "    <tr>\n",
       "      <th>420546</th>\n",
       "      <td>2016-12-31 23:20:00</td>\n",
       "      <td>1000.07</td>\n",
       "      <td>-4.05</td>\n",
       "      <td>269.10</td>\n",
       "      <td>-8.13</td>\n",
       "      <td>73.10</td>\n",
       "      <td>4.52</td>\n",
       "      <td>3.30</td>\n",
       "      <td>1.22</td>\n",
       "      <td>2.06</td>\n",
       "      <td>3.30</td>\n",
       "      <td>1292.98</td>\n",
       "      <td>0.67</td>\n",
       "      <td>1.52</td>\n",
       "      <td>240.0</td>\n",
       "    </tr>\n",
       "    <tr>\n",
       "      <th>420547</th>\n",
       "      <td>2016-12-31 23:30:00</td>\n",
       "      <td>999.93</td>\n",
       "      <td>-3.35</td>\n",
       "      <td>269.81</td>\n",
       "      <td>-8.06</td>\n",
       "      <td>69.71</td>\n",
       "      <td>4.77</td>\n",
       "      <td>3.32</td>\n",
       "      <td>1.44</td>\n",
       "      <td>2.07</td>\n",
       "      <td>3.32</td>\n",
       "      <td>1289.44</td>\n",
       "      <td>1.14</td>\n",
       "      <td>1.92</td>\n",
       "      <td>234.3</td>\n",
       "    </tr>\n",
       "    <tr>\n",
       "      <th>420548</th>\n",
       "      <td>2016-12-31 23:40:00</td>\n",
       "      <td>999.82</td>\n",
       "      <td>-3.16</td>\n",
       "      <td>270.01</td>\n",
       "      <td>-8.21</td>\n",
       "      <td>67.91</td>\n",
       "      <td>4.84</td>\n",
       "      <td>3.28</td>\n",
       "      <td>1.55</td>\n",
       "      <td>2.05</td>\n",
       "      <td>3.28</td>\n",
       "      <td>1288.39</td>\n",
       "      <td>1.08</td>\n",
       "      <td>2.00</td>\n",
       "      <td>215.2</td>\n",
       "    </tr>\n",
       "    <tr>\n",
       "      <th>420549</th>\n",
       "      <td>2016-12-31 23:50:00</td>\n",
       "      <td>999.81</td>\n",
       "      <td>-4.23</td>\n",
       "      <td>268.94</td>\n",
       "      <td>-8.53</td>\n",
       "      <td>71.80</td>\n",
       "      <td>4.46</td>\n",
       "      <td>3.20</td>\n",
       "      <td>1.26</td>\n",
       "      <td>1.99</td>\n",
       "      <td>3.20</td>\n",
       "      <td>1293.56</td>\n",
       "      <td>1.49</td>\n",
       "      <td>2.16</td>\n",
       "      <td>225.8</td>\n",
       "    </tr>\n",
       "    <tr>\n",
       "      <th>420550</th>\n",
       "      <td>2017-01-01 00:00:00</td>\n",
       "      <td>999.82</td>\n",
       "      <td>-4.82</td>\n",
       "      <td>268.36</td>\n",
       "      <td>-8.42</td>\n",
       "      <td>75.70</td>\n",
       "      <td>4.27</td>\n",
       "      <td>3.23</td>\n",
       "      <td>1.04</td>\n",
       "      <td>2.01</td>\n",
       "      <td>3.23</td>\n",
       "      <td>1296.38</td>\n",
       "      <td>1.23</td>\n",
       "      <td>1.96</td>\n",
       "      <td>184.9</td>\n",
       "    </tr>\n",
       "  </tbody>\n",
       "</table>\n",
       "<p>420551 rows × 15 columns</p>\n",
       "</div>"
      ],
      "text/plain": [
       "            fecha_completa  presion  temperatura  temperaturaK  \\\n",
       "0      2009-01-01 00:10:00   996.52        -8.02        265.40   \n",
       "1      2009-01-01 00:20:00   996.57        -8.41        265.01   \n",
       "2      2009-01-01 00:30:00   996.53        -8.51        264.91   \n",
       "3      2009-01-01 00:40:00   996.51        -8.31        265.12   \n",
       "4      2009-01-01 00:50:00   996.51        -8.27        265.15   \n",
       "...                    ...      ...          ...           ...   \n",
       "420546 2016-12-31 23:20:00  1000.07        -4.05        269.10   \n",
       "420547 2016-12-31 23:30:00   999.93        -3.35        269.81   \n",
       "420548 2016-12-31 23:40:00   999.82        -3.16        270.01   \n",
       "420549 2016-12-31 23:50:00   999.81        -4.23        268.94   \n",
       "420550 2017-01-01 00:00:00   999.82        -4.82        268.36   \n",
       "\n",
       "        temperaturaDew  humedad_relativa  VPmax  VPact  VPdef  \\\n",
       "0                -8.90             93.30   3.33   3.11   0.22   \n",
       "1                -9.28             93.40   3.23   3.02   0.21   \n",
       "2                -9.31             93.90   3.21   3.01   0.20   \n",
       "3                -9.07             94.20   3.26   3.07   0.19   \n",
       "4                -9.04             94.10   3.27   3.08   0.19   \n",
       "...                ...               ...    ...    ...    ...   \n",
       "420546           -8.13             73.10   4.52   3.30   1.22   \n",
       "420547           -8.06             69.71   4.77   3.32   1.44   \n",
       "420548           -8.21             67.91   4.84   3.28   1.55   \n",
       "420549           -8.53             71.80   4.46   3.20   1.26   \n",
       "420550           -8.42             75.70   4.27   3.23   1.04   \n",
       "\n",
       "        humedad_especifica  concentracion_vapor_agua      rho  \\\n",
       "0                     1.94                      3.12  1307.75   \n",
       "1                     1.89                      3.03  1309.80   \n",
       "2                     1.88                      3.02  1310.24   \n",
       "3                     1.92                      3.08  1309.19   \n",
       "4                     1.92                      3.09  1309.00   \n",
       "...                    ...                       ...      ...   \n",
       "420546                2.06                      3.30  1292.98   \n",
       "420547                2.07                      3.32  1289.44   \n",
       "420548                2.05                      3.28  1288.39   \n",
       "420549                1.99                      3.20  1293.56   \n",
       "420550                2.01                      3.23  1296.38   \n",
       "\n",
       "        velocidad_viento  max_valocidad_viento  direccion_viento  \n",
       "0                   1.03                  1.75             152.3  \n",
       "1                   0.72                  1.50             136.1  \n",
       "2                   0.19                  0.63             171.6  \n",
       "3                   0.34                  0.50             198.0  \n",
       "4                   0.32                  0.63             214.3  \n",
       "...                  ...                   ...               ...  \n",
       "420546              0.67                  1.52             240.0  \n",
       "420547              1.14                  1.92             234.3  \n",
       "420548              1.08                  2.00             215.2  \n",
       "420549              1.49                  2.16             225.8  \n",
       "420550              1.23                  1.96             184.9  \n",
       "\n",
       "[420551 rows x 15 columns]"
      ]
     },
     "execution_count": 5,
     "metadata": {},
     "output_type": "execute_result"
    }
   ],
   "source": [
    "current_db"
   ]
  },
  {
   "cell_type": "code",
   "execution_count": 6,
   "metadata": {
    "ExecuteTime": {
     "end_time": "2023-01-05T10:41:55.593683Z",
     "start_time": "2023-01-05T10:41:54.323454Z"
    }
   },
   "outputs": [],
   "source": [
    "current_db = current_db[~current_db.duplicated()]"
   ]
  },
  {
   "cell_type": "code",
   "execution_count": 7,
   "metadata": {
    "ExecuteTime": {
     "end_time": "2023-01-05T10:41:55.959624Z",
     "start_time": "2023-01-05T10:41:55.596331Z"
    }
   },
   "outputs": [],
   "source": [
    "current_db['hora'] = current_db.fecha_completa.dt.hour\n",
    "current_db['mes'] = current_db.fecha_completa.dt.month"
   ]
  },
  {
   "cell_type": "code",
   "execution_count": 8,
   "metadata": {
    "ExecuteTime": {
     "end_time": "2023-01-05T10:41:56.112164Z",
     "start_time": "2023-01-05T10:41:55.961485Z"
    }
   },
   "outputs": [],
   "source": [
    "current_db = current_db[(current_db.fecha_completa.dt.minute == 0)]\n",
    "current_db = current_db.drop('temperaturaK', axis = 1)\n",
    "current_db = current_db.reset_index(drop=True)"
   ]
  },
  {
   "cell_type": "code",
   "execution_count": 9,
   "metadata": {
    "ExecuteTime": {
     "end_time": "2023-01-05T10:41:59.063000Z",
     "start_time": "2023-01-05T10:41:56.114447Z"
    }
   },
   "outputs": [
    {
     "data": {
      "text/html": [
       "<div>\n",
       "<style scoped>\n",
       "    .dataframe tbody tr th:only-of-type {\n",
       "        vertical-align: middle;\n",
       "    }\n",
       "\n",
       "    .dataframe tbody tr th {\n",
       "        vertical-align: top;\n",
       "    }\n",
       "\n",
       "    .dataframe thead th {\n",
       "        text-align: right;\n",
       "    }\n",
       "</style>\n",
       "<table border=\"1\" class=\"dataframe\">\n",
       "  <thead>\n",
       "    <tr style=\"text-align: right;\">\n",
       "      <th></th>\n",
       "      <th>fecha_completa</th>\n",
       "      <th>presion</th>\n",
       "      <th>temperatura</th>\n",
       "      <th>temperaturaDew</th>\n",
       "      <th>humedad_relativa</th>\n",
       "      <th>VPmax</th>\n",
       "      <th>VPact</th>\n",
       "      <th>VPdef</th>\n",
       "      <th>humedad_especifica</th>\n",
       "      <th>concentracion_vapor_agua</th>\n",
       "      <th>rho</th>\n",
       "      <th>velocidad_viento</th>\n",
       "      <th>max_valocidad_viento</th>\n",
       "      <th>direccion_viento</th>\n",
       "      <th>hora</th>\n",
       "      <th>mes</th>\n",
       "    </tr>\n",
       "  </thead>\n",
       "  <tbody>\n",
       "    <tr>\n",
       "      <th>0</th>\n",
       "      <td>2009-01-01 01:00:00</td>\n",
       "      <td>996.50</td>\n",
       "      <td>-8.05</td>\n",
       "      <td>-8.78</td>\n",
       "      <td>94.40</td>\n",
       "      <td>3.33</td>\n",
       "      <td>3.14</td>\n",
       "      <td>0.19</td>\n",
       "      <td>1.96</td>\n",
       "      <td>3.15</td>\n",
       "      <td>1307.86</td>\n",
       "      <td>0.21</td>\n",
       "      <td>0.63</td>\n",
       "      <td>192.70</td>\n",
       "      <td>1</td>\n",
       "      <td>1</td>\n",
       "    </tr>\n",
       "    <tr>\n",
       "      <th>1</th>\n",
       "      <td>2009-01-01 02:00:00</td>\n",
       "      <td>996.62</td>\n",
       "      <td>-8.88</td>\n",
       "      <td>-9.77</td>\n",
       "      <td>93.20</td>\n",
       "      <td>3.12</td>\n",
       "      <td>2.90</td>\n",
       "      <td>0.21</td>\n",
       "      <td>1.81</td>\n",
       "      <td>2.91</td>\n",
       "      <td>1312.25</td>\n",
       "      <td>0.25</td>\n",
       "      <td>0.63</td>\n",
       "      <td>190.30</td>\n",
       "      <td>2</td>\n",
       "      <td>1</td>\n",
       "    </tr>\n",
       "    <tr>\n",
       "      <th>2</th>\n",
       "      <td>2009-01-01 03:00:00</td>\n",
       "      <td>996.84</td>\n",
       "      <td>-8.81</td>\n",
       "      <td>-9.66</td>\n",
       "      <td>93.50</td>\n",
       "      <td>3.13</td>\n",
       "      <td>2.93</td>\n",
       "      <td>0.20</td>\n",
       "      <td>1.83</td>\n",
       "      <td>2.94</td>\n",
       "      <td>1312.18</td>\n",
       "      <td>0.18</td>\n",
       "      <td>0.63</td>\n",
       "      <td>167.20</td>\n",
       "      <td>3</td>\n",
       "      <td>1</td>\n",
       "    </tr>\n",
       "    <tr>\n",
       "      <th>3</th>\n",
       "      <td>2009-01-01 04:00:00</td>\n",
       "      <td>996.99</td>\n",
       "      <td>-9.05</td>\n",
       "      <td>-10.02</td>\n",
       "      <td>92.60</td>\n",
       "      <td>3.07</td>\n",
       "      <td>2.85</td>\n",
       "      <td>0.23</td>\n",
       "      <td>1.78</td>\n",
       "      <td>2.85</td>\n",
       "      <td>1313.61</td>\n",
       "      <td>0.10</td>\n",
       "      <td>0.38</td>\n",
       "      <td>240.00</td>\n",
       "      <td>4</td>\n",
       "      <td>1</td>\n",
       "    </tr>\n",
       "    <tr>\n",
       "      <th>4</th>\n",
       "      <td>2009-01-01 05:00:00</td>\n",
       "      <td>997.46</td>\n",
       "      <td>-9.63</td>\n",
       "      <td>-10.65</td>\n",
       "      <td>92.20</td>\n",
       "      <td>2.94</td>\n",
       "      <td>2.71</td>\n",
       "      <td>0.23</td>\n",
       "      <td>1.69</td>\n",
       "      <td>2.71</td>\n",
       "      <td>1317.19</td>\n",
       "      <td>0.40</td>\n",
       "      <td>0.88</td>\n",
       "      <td>157.00</td>\n",
       "      <td>5</td>\n",
       "      <td>1</td>\n",
       "    </tr>\n",
       "    <tr>\n",
       "      <th>...</th>\n",
       "      <td>...</td>\n",
       "      <td>...</td>\n",
       "      <td>...</td>\n",
       "      <td>...</td>\n",
       "      <td>...</td>\n",
       "      <td>...</td>\n",
       "      <td>...</td>\n",
       "      <td>...</td>\n",
       "      <td>...</td>\n",
       "      <td>...</td>\n",
       "      <td>...</td>\n",
       "      <td>...</td>\n",
       "      <td>...</td>\n",
       "      <td>...</td>\n",
       "      <td>...</td>\n",
       "      <td>...</td>\n",
       "    </tr>\n",
       "    <tr>\n",
       "      <th>70032</th>\n",
       "      <td>2016-12-31 20:00:00</td>\n",
       "      <td>1001.47</td>\n",
       "      <td>-1.52</td>\n",
       "      <td>-7.13</td>\n",
       "      <td>65.42</td>\n",
       "      <td>5.46</td>\n",
       "      <td>3.57</td>\n",
       "      <td>1.89</td>\n",
       "      <td>2.22</td>\n",
       "      <td>3.57</td>\n",
       "      <td>1282.60</td>\n",
       "      <td>1.24</td>\n",
       "      <td>1.96</td>\n",
       "      <td>232.00</td>\n",
       "      <td>20</td>\n",
       "      <td>12</td>\n",
       "    </tr>\n",
       "    <tr>\n",
       "      <th>70033</th>\n",
       "      <td>2016-12-31 21:00:00</td>\n",
       "      <td>1001.29</td>\n",
       "      <td>-3.09</td>\n",
       "      <td>-7.09</td>\n",
       "      <td>73.70</td>\n",
       "      <td>4.86</td>\n",
       "      <td>3.58</td>\n",
       "      <td>1.28</td>\n",
       "      <td>2.23</td>\n",
       "      <td>3.58</td>\n",
       "      <td>1289.78</td>\n",
       "      <td>0.61</td>\n",
       "      <td>1.48</td>\n",
       "      <td>207.50</td>\n",
       "      <td>21</td>\n",
       "      <td>12</td>\n",
       "    </tr>\n",
       "    <tr>\n",
       "      <th>70034</th>\n",
       "      <td>2016-12-31 22:00:00</td>\n",
       "      <td>1000.70</td>\n",
       "      <td>-2.59</td>\n",
       "      <td>-7.04</td>\n",
       "      <td>71.30</td>\n",
       "      <td>5.04</td>\n",
       "      <td>3.60</td>\n",
       "      <td>1.45</td>\n",
       "      <td>2.24</td>\n",
       "      <td>3.59</td>\n",
       "      <td>1286.67</td>\n",
       "      <td>0.38</td>\n",
       "      <td>0.72</td>\n",
       "      <td>8.15</td>\n",
       "      <td>22</td>\n",
       "      <td>12</td>\n",
       "    </tr>\n",
       "    <tr>\n",
       "      <th>70035</th>\n",
       "      <td>2016-12-31 23:00:00</td>\n",
       "      <td>1000.21</td>\n",
       "      <td>-3.76</td>\n",
       "      <td>-7.95</td>\n",
       "      <td>72.50</td>\n",
       "      <td>4.62</td>\n",
       "      <td>3.35</td>\n",
       "      <td>1.27</td>\n",
       "      <td>2.09</td>\n",
       "      <td>3.35</td>\n",
       "      <td>1291.71</td>\n",
       "      <td>0.89</td>\n",
       "      <td>1.30</td>\n",
       "      <td>223.70</td>\n",
       "      <td>23</td>\n",
       "      <td>12</td>\n",
       "    </tr>\n",
       "    <tr>\n",
       "      <th>70036</th>\n",
       "      <td>2017-01-01 00:00:00</td>\n",
       "      <td>999.82</td>\n",
       "      <td>-4.82</td>\n",
       "      <td>-8.42</td>\n",
       "      <td>75.70</td>\n",
       "      <td>4.27</td>\n",
       "      <td>3.23</td>\n",
       "      <td>1.04</td>\n",
       "      <td>2.01</td>\n",
       "      <td>3.23</td>\n",
       "      <td>1296.38</td>\n",
       "      <td>1.23</td>\n",
       "      <td>1.96</td>\n",
       "      <td>184.90</td>\n",
       "      <td>0</td>\n",
       "      <td>1</td>\n",
       "    </tr>\n",
       "  </tbody>\n",
       "</table>\n",
       "<p>70037 rows × 16 columns</p>\n",
       "</div>"
      ],
      "text/plain": [
       "           fecha_completa  presion  temperatura  temperaturaDew  \\\n",
       "0     2009-01-01 01:00:00   996.50        -8.05           -8.78   \n",
       "1     2009-01-01 02:00:00   996.62        -8.88           -9.77   \n",
       "2     2009-01-01 03:00:00   996.84        -8.81           -9.66   \n",
       "3     2009-01-01 04:00:00   996.99        -9.05          -10.02   \n",
       "4     2009-01-01 05:00:00   997.46        -9.63          -10.65   \n",
       "...                   ...      ...          ...             ...   \n",
       "70032 2016-12-31 20:00:00  1001.47        -1.52           -7.13   \n",
       "70033 2016-12-31 21:00:00  1001.29        -3.09           -7.09   \n",
       "70034 2016-12-31 22:00:00  1000.70        -2.59           -7.04   \n",
       "70035 2016-12-31 23:00:00  1000.21        -3.76           -7.95   \n",
       "70036 2017-01-01 00:00:00   999.82        -4.82           -8.42   \n",
       "\n",
       "       humedad_relativa  VPmax  VPact  VPdef  humedad_especifica  \\\n",
       "0                 94.40   3.33   3.14   0.19                1.96   \n",
       "1                 93.20   3.12   2.90   0.21                1.81   \n",
       "2                 93.50   3.13   2.93   0.20                1.83   \n",
       "3                 92.60   3.07   2.85   0.23                1.78   \n",
       "4                 92.20   2.94   2.71   0.23                1.69   \n",
       "...                 ...    ...    ...    ...                 ...   \n",
       "70032             65.42   5.46   3.57   1.89                2.22   \n",
       "70033             73.70   4.86   3.58   1.28                2.23   \n",
       "70034             71.30   5.04   3.60   1.45                2.24   \n",
       "70035             72.50   4.62   3.35   1.27                2.09   \n",
       "70036             75.70   4.27   3.23   1.04                2.01   \n",
       "\n",
       "       concentracion_vapor_agua      rho  velocidad_viento  \\\n",
       "0                          3.15  1307.86              0.21   \n",
       "1                          2.91  1312.25              0.25   \n",
       "2                          2.94  1312.18              0.18   \n",
       "3                          2.85  1313.61              0.10   \n",
       "4                          2.71  1317.19              0.40   \n",
       "...                         ...      ...               ...   \n",
       "70032                      3.57  1282.60              1.24   \n",
       "70033                      3.58  1289.78              0.61   \n",
       "70034                      3.59  1286.67              0.38   \n",
       "70035                      3.35  1291.71              0.89   \n",
       "70036                      3.23  1296.38              1.23   \n",
       "\n",
       "       max_valocidad_viento  direccion_viento  hora  mes  \n",
       "0                      0.63            192.70     1    1  \n",
       "1                      0.63            190.30     2    1  \n",
       "2                      0.63            167.20     3    1  \n",
       "3                      0.38            240.00     4    1  \n",
       "4                      0.88            157.00     5    1  \n",
       "...                     ...               ...   ...  ...  \n",
       "70032                  1.96            232.00    20   12  \n",
       "70033                  1.48            207.50    21   12  \n",
       "70034                  0.72              8.15    22   12  \n",
       "70035                  1.30            223.70    23   12  \n",
       "70036                  1.96            184.90     0    1  \n",
       "\n",
       "[70037 rows x 16 columns]"
      ]
     },
     "execution_count": 9,
     "metadata": {},
     "output_type": "execute_result"
    }
   ],
   "source": [
    "current_db"
   ]
  },
  {
   "cell_type": "code",
   "execution_count": 10,
   "metadata": {
    "ExecuteTime": {
     "end_time": "2023-01-05T10:41:59.096278Z",
     "start_time": "2023-01-05T10:41:59.068363Z"
    }
   },
   "outputs": [],
   "source": [
    "lags = sorted(([24, 48, 72, 96, 120, 144, 168])*len(current_db.columns))"
   ]
  },
  {
   "cell_type": "code",
   "execution_count": 11,
   "metadata": {
    "ExecuteTime": {
     "end_time": "2023-01-05T10:41:59.251755Z",
     "start_time": "2023-01-05T10:41:59.106471Z"
    }
   },
   "outputs": [],
   "source": [
    "for col, lag in list(zip(list(current_db.columns)*6, lags)):\n",
    "    if col not in ['fecha_completa', 'hora', 'mes']:\n",
    "        current_db[col+\"_\"+str(lag)] = current_db[col].shift(lag)"
   ]
  },
  {
   "cell_type": "code",
   "execution_count": 12,
   "metadata": {
    "ExecuteTime": {
     "end_time": "2023-01-05T10:41:59.679549Z",
     "start_time": "2023-01-05T10:41:59.256488Z"
    }
   },
   "outputs": [],
   "source": [
    "current_db = current_db.dropna()"
   ]
  },
  {
   "cell_type": "code",
   "execution_count": 14,
   "metadata": {
    "ExecuteTime": {
     "end_time": "2023-01-05T10:42:00.122510Z",
     "start_time": "2023-01-05T10:41:59.832133Z"
    }
   },
   "outputs": [
    {
     "data": {
      "text/html": [
       "<div>\n",
       "<style scoped>\n",
       "    .dataframe tbody tr th:only-of-type {\n",
       "        vertical-align: middle;\n",
       "    }\n",
       "\n",
       "    .dataframe tbody tr th {\n",
       "        vertical-align: top;\n",
       "    }\n",
       "\n",
       "    .dataframe thead th {\n",
       "        text-align: right;\n",
       "    }\n",
       "</style>\n",
       "<table border=\"1\" class=\"dataframe\">\n",
       "  <thead>\n",
       "    <tr style=\"text-align: right;\">\n",
       "      <th></th>\n",
       "      <th>fecha_completa</th>\n",
       "      <th>velocidad_viento</th>\n",
       "      <th>hora</th>\n",
       "      <th>mes</th>\n",
       "      <th>presion_24</th>\n",
       "      <th>temperatura_24</th>\n",
       "      <th>temperaturaDew_24</th>\n",
       "      <th>humedad_relativa_24</th>\n",
       "      <th>VPmax_24</th>\n",
       "      <th>VPact_24</th>\n",
       "      <th>...</th>\n",
       "      <th>humedad_relativa_144</th>\n",
       "      <th>VPmax_144</th>\n",
       "      <th>VPact_144</th>\n",
       "      <th>VPdef_144</th>\n",
       "      <th>humedad_especifica_144</th>\n",
       "      <th>concentracion_vapor_agua_144</th>\n",
       "      <th>rho_144</th>\n",
       "      <th>velocidad_viento_144</th>\n",
       "      <th>max_valocidad_viento_144</th>\n",
       "      <th>direccion_viento_144</th>\n",
       "    </tr>\n",
       "  </thead>\n",
       "  <tbody>\n",
       "    <tr>\n",
       "      <th>144</th>\n",
       "      <td>2009-07-01 01:00:00</td>\n",
       "      <td>0.68</td>\n",
       "      <td>1</td>\n",
       "      <td>7</td>\n",
       "      <td>997.71</td>\n",
       "      <td>-13.34</td>\n",
       "      <td>-15.46</td>\n",
       "      <td>83.9</td>\n",
       "      <td>2.18</td>\n",
       "      <td>1.83</td>\n",
       "      <td>...</td>\n",
       "      <td>94.4</td>\n",
       "      <td>3.33</td>\n",
       "      <td>3.14</td>\n",
       "      <td>0.19</td>\n",
       "      <td>1.96</td>\n",
       "      <td>3.15</td>\n",
       "      <td>1307.86</td>\n",
       "      <td>0.21</td>\n",
       "      <td>0.63</td>\n",
       "      <td>192.7</td>\n",
       "    </tr>\n",
       "    <tr>\n",
       "      <th>145</th>\n",
       "      <td>2009-07-01 02:00:00</td>\n",
       "      <td>0.38</td>\n",
       "      <td>2</td>\n",
       "      <td>7</td>\n",
       "      <td>997.96</td>\n",
       "      <td>-13.64</td>\n",
       "      <td>-15.63</td>\n",
       "      <td>84.8</td>\n",
       "      <td>2.12</td>\n",
       "      <td>1.80</td>\n",
       "      <td>...</td>\n",
       "      <td>93.2</td>\n",
       "      <td>3.12</td>\n",
       "      <td>2.90</td>\n",
       "      <td>0.21</td>\n",
       "      <td>1.81</td>\n",
       "      <td>2.91</td>\n",
       "      <td>1312.25</td>\n",
       "      <td>0.25</td>\n",
       "      <td>0.63</td>\n",
       "      <td>190.3</td>\n",
       "    </tr>\n",
       "    <tr>\n",
       "      <th>146</th>\n",
       "      <td>2009-07-01 03:00:00</td>\n",
       "      <td>1.83</td>\n",
       "      <td>3</td>\n",
       "      <td>7</td>\n",
       "      <td>998.22</td>\n",
       "      <td>-13.89</td>\n",
       "      <td>-15.80</td>\n",
       "      <td>85.3</td>\n",
       "      <td>2.08</td>\n",
       "      <td>1.77</td>\n",
       "      <td>...</td>\n",
       "      <td>93.5</td>\n",
       "      <td>3.13</td>\n",
       "      <td>2.93</td>\n",
       "      <td>0.20</td>\n",
       "      <td>1.83</td>\n",
       "      <td>2.94</td>\n",
       "      <td>1312.18</td>\n",
       "      <td>0.18</td>\n",
       "      <td>0.63</td>\n",
       "      <td>167.2</td>\n",
       "    </tr>\n",
       "    <tr>\n",
       "      <th>147</th>\n",
       "      <td>2009-07-01 04:00:00</td>\n",
       "      <td>1.10</td>\n",
       "      <td>4</td>\n",
       "      <td>7</td>\n",
       "      <td>998.24</td>\n",
       "      <td>-14.29</td>\n",
       "      <td>-16.03</td>\n",
       "      <td>86.5</td>\n",
       "      <td>2.01</td>\n",
       "      <td>1.74</td>\n",
       "      <td>...</td>\n",
       "      <td>92.6</td>\n",
       "      <td>3.07</td>\n",
       "      <td>2.85</td>\n",
       "      <td>0.23</td>\n",
       "      <td>1.78</td>\n",
       "      <td>2.85</td>\n",
       "      <td>1313.61</td>\n",
       "      <td>0.10</td>\n",
       "      <td>0.38</td>\n",
       "      <td>240.0</td>\n",
       "    </tr>\n",
       "    <tr>\n",
       "      <th>148</th>\n",
       "      <td>2009-07-01 05:00:00</td>\n",
       "      <td>0.70</td>\n",
       "      <td>5</td>\n",
       "      <td>7</td>\n",
       "      <td>998.14</td>\n",
       "      <td>-15.13</td>\n",
       "      <td>-16.75</td>\n",
       "      <td>87.3</td>\n",
       "      <td>1.88</td>\n",
       "      <td>1.64</td>\n",
       "      <td>...</td>\n",
       "      <td>92.2</td>\n",
       "      <td>2.94</td>\n",
       "      <td>2.71</td>\n",
       "      <td>0.23</td>\n",
       "      <td>1.69</td>\n",
       "      <td>2.71</td>\n",
       "      <td>1317.19</td>\n",
       "      <td>0.40</td>\n",
       "      <td>0.88</td>\n",
       "      <td>157.0</td>\n",
       "    </tr>\n",
       "    <tr>\n",
       "      <th>...</th>\n",
       "      <td>...</td>\n",
       "      <td>...</td>\n",
       "      <td>...</td>\n",
       "      <td>...</td>\n",
       "      <td>...</td>\n",
       "      <td>...</td>\n",
       "      <td>...</td>\n",
       "      <td>...</td>\n",
       "      <td>...</td>\n",
       "      <td>...</td>\n",
       "      <td>...</td>\n",
       "      <td>...</td>\n",
       "      <td>...</td>\n",
       "      <td>...</td>\n",
       "      <td>...</td>\n",
       "      <td>...</td>\n",
       "      <td>...</td>\n",
       "      <td>...</td>\n",
       "      <td>...</td>\n",
       "      <td>...</td>\n",
       "      <td>...</td>\n",
       "    </tr>\n",
       "    <tr>\n",
       "      <th>70032</th>\n",
       "      <td>2016-12-31 20:00:00</td>\n",
       "      <td>1.24</td>\n",
       "      <td>20</td>\n",
       "      <td>12</td>\n",
       "      <td>1008.99</td>\n",
       "      <td>-1.80</td>\n",
       "      <td>-2.78</td>\n",
       "      <td>93.0</td>\n",
       "      <td>5.35</td>\n",
       "      <td>4.98</td>\n",
       "      <td>...</td>\n",
       "      <td>80.5</td>\n",
       "      <td>11.81</td>\n",
       "      <td>9.51</td>\n",
       "      <td>2.30</td>\n",
       "      <td>5.96</td>\n",
       "      <td>9.54</td>\n",
       "      <td>1223.53</td>\n",
       "      <td>1.93</td>\n",
       "      <td>4.65</td>\n",
       "      <td>224.3</td>\n",
       "    </tr>\n",
       "    <tr>\n",
       "      <th>70033</th>\n",
       "      <td>2016-12-31 21:00:00</td>\n",
       "      <td>0.61</td>\n",
       "      <td>21</td>\n",
       "      <td>12</td>\n",
       "      <td>1009.24</td>\n",
       "      <td>-2.21</td>\n",
       "      <td>-3.75</td>\n",
       "      <td>89.1</td>\n",
       "      <td>5.19</td>\n",
       "      <td>4.62</td>\n",
       "      <td>...</td>\n",
       "      <td>82.1</td>\n",
       "      <td>11.60</td>\n",
       "      <td>9.53</td>\n",
       "      <td>2.08</td>\n",
       "      <td>5.97</td>\n",
       "      <td>9.56</td>\n",
       "      <td>1224.99</td>\n",
       "      <td>1.91</td>\n",
       "      <td>4.18</td>\n",
       "      <td>342.9</td>\n",
       "    </tr>\n",
       "    <tr>\n",
       "      <th>70034</th>\n",
       "      <td>2016-12-31 22:00:00</td>\n",
       "      <td>0.38</td>\n",
       "      <td>22</td>\n",
       "      <td>12</td>\n",
       "      <td>1008.93</td>\n",
       "      <td>-2.63</td>\n",
       "      <td>-4.99</td>\n",
       "      <td>83.7</td>\n",
       "      <td>5.03</td>\n",
       "      <td>4.21</td>\n",
       "      <td>...</td>\n",
       "      <td>83.0</td>\n",
       "      <td>11.38</td>\n",
       "      <td>9.44</td>\n",
       "      <td>1.93</td>\n",
       "      <td>5.91</td>\n",
       "      <td>9.47</td>\n",
       "      <td>1227.02</td>\n",
       "      <td>2.58</td>\n",
       "      <td>6.25</td>\n",
       "      <td>236.7</td>\n",
       "    </tr>\n",
       "    <tr>\n",
       "      <th>70035</th>\n",
       "      <td>2016-12-31 23:00:00</td>\n",
       "      <td>0.89</td>\n",
       "      <td>23</td>\n",
       "      <td>12</td>\n",
       "      <td>1008.82</td>\n",
       "      <td>-2.98</td>\n",
       "      <td>-4.85</td>\n",
       "      <td>86.9</td>\n",
       "      <td>4.90</td>\n",
       "      <td>4.26</td>\n",
       "      <td>...</td>\n",
       "      <td>82.1</td>\n",
       "      <td>11.35</td>\n",
       "      <td>9.32</td>\n",
       "      <td>2.03</td>\n",
       "      <td>5.83</td>\n",
       "      <td>9.34</td>\n",
       "      <td>1227.50</td>\n",
       "      <td>2.80</td>\n",
       "      <td>4.61</td>\n",
       "      <td>239.6</td>\n",
       "    </tr>\n",
       "    <tr>\n",
       "      <th>70036</th>\n",
       "      <td>2017-01-01 00:00:00</td>\n",
       "      <td>1.23</td>\n",
       "      <td>0</td>\n",
       "      <td>1</td>\n",
       "      <td>1008.67</td>\n",
       "      <td>-4.09</td>\n",
       "      <td>-5.22</td>\n",
       "      <td>91.8</td>\n",
       "      <td>4.51</td>\n",
       "      <td>4.14</td>\n",
       "      <td>...</td>\n",
       "      <td>79.8</td>\n",
       "      <td>11.43</td>\n",
       "      <td>9.12</td>\n",
       "      <td>2.31</td>\n",
       "      <td>5.71</td>\n",
       "      <td>9.15</td>\n",
       "      <td>1227.11</td>\n",
       "      <td>2.98</td>\n",
       "      <td>5.49</td>\n",
       "      <td>234.8</td>\n",
       "    </tr>\n",
       "  </tbody>\n",
       "</table>\n",
       "<p>69893 rows × 82 columns</p>\n",
       "</div>"
      ],
      "text/plain": [
       "           fecha_completa  velocidad_viento  hora  mes  presion_24  \\\n",
       "144   2009-07-01 01:00:00              0.68     1    7      997.71   \n",
       "145   2009-07-01 02:00:00              0.38     2    7      997.96   \n",
       "146   2009-07-01 03:00:00              1.83     3    7      998.22   \n",
       "147   2009-07-01 04:00:00              1.10     4    7      998.24   \n",
       "148   2009-07-01 05:00:00              0.70     5    7      998.14   \n",
       "...                   ...               ...   ...  ...         ...   \n",
       "70032 2016-12-31 20:00:00              1.24    20   12     1008.99   \n",
       "70033 2016-12-31 21:00:00              0.61    21   12     1009.24   \n",
       "70034 2016-12-31 22:00:00              0.38    22   12     1008.93   \n",
       "70035 2016-12-31 23:00:00              0.89    23   12     1008.82   \n",
       "70036 2017-01-01 00:00:00              1.23     0    1     1008.67   \n",
       "\n",
       "       temperatura_24  temperaturaDew_24  humedad_relativa_24  VPmax_24  \\\n",
       "144            -13.34             -15.46                 83.9      2.18   \n",
       "145            -13.64             -15.63                 84.8      2.12   \n",
       "146            -13.89             -15.80                 85.3      2.08   \n",
       "147            -14.29             -16.03                 86.5      2.01   \n",
       "148            -15.13             -16.75                 87.3      1.88   \n",
       "...               ...                ...                  ...       ...   \n",
       "70032           -1.80              -2.78                 93.0      5.35   \n",
       "70033           -2.21              -3.75                 89.1      5.19   \n",
       "70034           -2.63              -4.99                 83.7      5.03   \n",
       "70035           -2.98              -4.85                 86.9      4.90   \n",
       "70036           -4.09              -5.22                 91.8      4.51   \n",
       "\n",
       "       VPact_24  ...  humedad_relativa_144  VPmax_144  VPact_144  VPdef_144  \\\n",
       "144        1.83  ...                  94.4       3.33       3.14       0.19   \n",
       "145        1.80  ...                  93.2       3.12       2.90       0.21   \n",
       "146        1.77  ...                  93.5       3.13       2.93       0.20   \n",
       "147        1.74  ...                  92.6       3.07       2.85       0.23   \n",
       "148        1.64  ...                  92.2       2.94       2.71       0.23   \n",
       "...         ...  ...                   ...        ...        ...        ...   \n",
       "70032      4.98  ...                  80.5      11.81       9.51       2.30   \n",
       "70033      4.62  ...                  82.1      11.60       9.53       2.08   \n",
       "70034      4.21  ...                  83.0      11.38       9.44       1.93   \n",
       "70035      4.26  ...                  82.1      11.35       9.32       2.03   \n",
       "70036      4.14  ...                  79.8      11.43       9.12       2.31   \n",
       "\n",
       "       humedad_especifica_144  concentracion_vapor_agua_144  rho_144  \\\n",
       "144                      1.96                          3.15  1307.86   \n",
       "145                      1.81                          2.91  1312.25   \n",
       "146                      1.83                          2.94  1312.18   \n",
       "147                      1.78                          2.85  1313.61   \n",
       "148                      1.69                          2.71  1317.19   \n",
       "...                       ...                           ...      ...   \n",
       "70032                    5.96                          9.54  1223.53   \n",
       "70033                    5.97                          9.56  1224.99   \n",
       "70034                    5.91                          9.47  1227.02   \n",
       "70035                    5.83                          9.34  1227.50   \n",
       "70036                    5.71                          9.15  1227.11   \n",
       "\n",
       "       velocidad_viento_144  max_valocidad_viento_144  direccion_viento_144  \n",
       "144                    0.21                      0.63                 192.7  \n",
       "145                    0.25                      0.63                 190.3  \n",
       "146                    0.18                      0.63                 167.2  \n",
       "147                    0.10                      0.38                 240.0  \n",
       "148                    0.40                      0.88                 157.0  \n",
       "...                     ...                       ...                   ...  \n",
       "70032                  1.93                      4.65                 224.3  \n",
       "70033                  1.91                      4.18                 342.9  \n",
       "70034                  2.58                      6.25                 236.7  \n",
       "70035                  2.80                      4.61                 239.6  \n",
       "70036                  2.98                      5.49                 234.8  \n",
       "\n",
       "[69893 rows x 82 columns]"
      ]
     },
     "execution_count": 14,
     "metadata": {},
     "output_type": "execute_result"
    }
   ],
   "source": [
    "current_db.drop(['temperatura', 'presion', 'temperaturaDew', 'humedad_relativa', 'VPmax', 'VPact', 'VPdef', 'humedad_especifica', 'concentracion_vapor_agua', 'rho', 'max_valocidad_viento', 'direccion_viento'],\n",
    "                axis = 1)"
   ]
  },
  {
   "cell_type": "code",
   "execution_count": 15,
   "metadata": {
    "ExecuteTime": {
     "end_time": "2023-01-05T10:42:06.017008Z",
     "start_time": "2023-01-05T10:42:00.125676Z"
    }
   },
   "outputs": [],
   "source": [
    "current_db = current_db.sort_values('fecha_completa')"
   ]
  },
  {
   "cell_type": "code",
   "execution_count": 16,
   "metadata": {
    "ExecuteTime": {
     "end_time": "2023-01-05T10:42:06.254002Z",
     "start_time": "2023-01-05T10:42:06.021271Z"
    }
   },
   "outputs": [],
   "source": [
    "current_db = current_db.reset_index(drop=True)"
   ]
  },
  {
   "cell_type": "code",
   "execution_count": 17,
   "metadata": {
    "ExecuteTime": {
     "end_time": "2023-01-05T10:42:06.302025Z",
     "start_time": "2023-01-05T10:42:06.288548Z"
    }
   },
   "outputs": [],
   "source": [
    "Index_col = \"fecha_completa\"\n",
    "target_col = \"velocidad_viento\""
   ]
  },
  {
   "cell_type": "code",
   "execution_count": 18,
   "metadata": {
    "ExecuteTime": {
     "end_time": "2023-01-05T10:42:06.387943Z",
     "start_time": "2023-01-05T10:42:06.308075Z"
    }
   },
   "outputs": [
    {
     "data": {
      "text/plain": [
       "Series([], Name: fecha_completa, dtype: datetime64[ns])"
      ]
     },
     "execution_count": 18,
     "metadata": {},
     "output_type": "execute_result"
    }
   ],
   "source": [
    "current_db.fecha_completa[current_db.fecha_completa.duplicated()]"
   ]
  },
  {
   "cell_type": "code",
   "execution_count": 19,
   "metadata": {
    "ExecuteTime": {
     "end_time": "2023-01-05T10:42:06.428864Z",
     "start_time": "2023-01-05T10:42:06.392429Z"
    }
   },
   "outputs": [
    {
     "data": {
      "text/plain": [
       "57066   -9999.00\n",
       "57064   -9999.00\n",
       "57065   -9999.00\n",
       "631         0.00\n",
       "6282        0.00\n",
       "          ...   \n",
       "57354      12.05\n",
       "45586      12.21\n",
       "10022      12.37\n",
       "42131      12.49\n",
       "27591      12.58\n",
       "Name: velocidad_viento, Length: 69893, dtype: float64"
      ]
     },
     "execution_count": 19,
     "metadata": {},
     "output_type": "execute_result"
    }
   ],
   "source": [
    "current_db.velocidad_viento.sort_values()"
   ]
  },
  {
   "cell_type": "code",
   "execution_count": 20,
   "metadata": {
    "ExecuteTime": {
     "end_time": "2023-01-05T10:42:07.904036Z",
     "start_time": "2023-01-05T10:42:06.433479Z"
    }
   },
   "outputs": [],
   "source": [
    "current_db = current_db[current_db.velocidad_viento >= 0]"
   ]
  },
  {
   "cell_type": "code",
   "execution_count": 21,
   "metadata": {
    "ExecuteTime": {
     "end_time": "2023-01-05T10:42:15.522542Z",
     "start_time": "2023-01-05T10:42:07.915351Z"
    }
   },
   "outputs": [
    {
     "data": {
      "image/png": "[encoded data removed]",
      "text/plain": [
       "<Figure size 2000x1000 with 1 Axes>"
      ]
     },
     "metadata": {},
     "output_type": "display_data"
    }
   ],
   "source": [
    "fig, ax = plt.subplots(1, 1, figsize = (20, 10))\n",
    "ax.plot(current_db.fecha_completa, current_db.velocidad_viento)\n",
    "ax.grid()"
   ]
  },
  {
   "cell_type": "code",
   "execution_count": 23,
   "metadata": {
    "ExecuteTime": {
     "end_time": "2023-01-05T10:42:17.445412Z",
     "start_time": "2023-01-05T10:42:15.581150Z"
    }
   },
   "outputs": [],
   "source": [
    "current_db_train = current_db[current_db.fecha_completa.dt.year < 2015]\n",
    "current_db_val = current_db[current_db.fecha_completa.dt.year == 2015]\n",
    "current_db_test = current_db[current_db.fecha_completa.dt.year == 2016]\n",
    "\n",
    "train_idx = current_db_train[Index_col].unique()\n",
    "val_idx = current_db_val[Index_col].unique()\n",
    "test_idx = current_db_test[Index_col].unique()"
   ]
  },
  {
   "cell_type": "code",
   "execution_count": 24,
   "metadata": {
    "ExecuteTime": {
     "end_time": "2023-01-05T10:42:19.049909Z",
     "start_time": "2023-01-05T10:42:17.449703Z"
    }
   },
   "outputs": [
    {
     "data": {
      "image/png": "[encoded data removed]",
      "text/plain": [
       "<Figure size 2000x1000 with 1 Axes>"
      ]
     },
     "metadata": {},
     "output_type": "display_data"
    }
   ],
   "source": [
    "fig, ax = plt.subplots(1, 1, figsize = (20, 10))\n",
    "ax.plot(current_db_train.fecha_completa, current_db_train.velocidad_viento)\n",
    "ax.plot(current_db_val.fecha_completa, current_db_val.velocidad_viento)\n",
    "ax.plot(current_db_test.fecha_completa, current_db_test.velocidad_viento)\n",
    "ax.grid()"
   ]
  },
  {
   "cell_type": "code",
   "execution_count": 25,
   "metadata": {
    "ExecuteTime": {
     "end_time": "2023-01-05T10:42:22.334910Z",
     "start_time": "2023-01-05T10:42:19.053514Z"
    }
   },
   "outputs": [],
   "source": [
    "selected_features = list(current_db.columns)\n",
    "selected_features.remove('fecha_completa')\n",
    "selected_features.remove('temperatura')\n",
    "selected_features.remove('presion')\n",
    "selected_features.remove('temperaturaDew')\n",
    "selected_features.remove('humedad_relativa')\n",
    "selected_features.remove('VPmax')\n",
    "selected_features.remove('VPact')\n",
    "selected_features.remove('VPdef')\n",
    "selected_features.remove('humedad_especifica')\n",
    "selected_features.remove('concentracion_vapor_agua')\n",
    "selected_features.remove('rho')\n",
    "selected_features.remove('velocidad_viento')\n",
    "selected_features.remove('direccion_viento')\n",
    "selected_features.remove('max_valocidad_viento')"
   ]
  },
  {
   "cell_type": "code",
   "execution_count": 26,
   "metadata": {
    "ExecuteTime": {
     "end_time": "2023-01-05T10:42:22.386664Z",
     "start_time": "2023-01-05T10:42:22.338896Z"
    }
   },
   "outputs": [
    {
     "data": {
      "text/plain": [
       "['hora',\n",
       " 'mes',\n",
       " 'presion_24',\n",
       " 'temperatura_24',\n",
       " 'temperaturaDew_24',\n",
       " 'humedad_relativa_24',\n",
       " 'VPmax_24',\n",
       " 'VPact_24',\n",
       " 'VPdef_24',\n",
       " 'humedad_especifica_24',\n",
       " 'concentracion_vapor_agua_24',\n",
       " 'rho_24',\n",
       " 'velocidad_viento_24',\n",
       " 'max_valocidad_viento_24',\n",
       " 'direccion_viento_24',\n",
       " 'presion_48',\n",
       " 'temperatura_48',\n",
       " 'temperaturaDew_48',\n",
       " 'humedad_relativa_48',\n",
       " 'VPmax_48',\n",
       " 'VPact_48',\n",
       " 'VPdef_48',\n",
       " 'humedad_especifica_48',\n",
       " 'concentracion_vapor_agua_48',\n",
       " 'rho_48',\n",
       " 'velocidad_viento_48',\n",
       " 'max_valocidad_viento_48',\n",
       " 'direccion_viento_48',\n",
       " 'presion_72',\n",
       " 'temperatura_72',\n",
       " 'temperaturaDew_72',\n",
       " 'humedad_relativa_72',\n",
       " 'VPmax_72',\n",
       " 'VPact_72',\n",
       " 'VPdef_72',\n",
       " 'humedad_especifica_72',\n",
       " 'concentracion_vapor_agua_72',\n",
       " 'rho_72',\n",
       " 'velocidad_viento_72',\n",
       " 'max_valocidad_viento_72',\n",
       " 'direccion_viento_72',\n",
       " 'presion_96',\n",
       " 'temperatura_96',\n",
       " 'temperaturaDew_96',\n",
       " 'humedad_relativa_96',\n",
       " 'VPmax_96',\n",
       " 'VPact_96',\n",
       " 'VPdef_96',\n",
       " 'humedad_especifica_96',\n",
       " 'concentracion_vapor_agua_96',\n",
       " 'rho_96',\n",
       " 'velocidad_viento_96',\n",
       " 'max_valocidad_viento_96',\n",
       " 'direccion_viento_96',\n",
       " 'presion_120',\n",
       " 'temperatura_120',\n",
       " 'temperaturaDew_120',\n",
       " 'humedad_relativa_120',\n",
       " 'VPmax_120',\n",
       " 'VPact_120',\n",
       " 'VPdef_120',\n",
       " 'humedad_especifica_120',\n",
       " 'concentracion_vapor_agua_120',\n",
       " 'rho_120',\n",
       " 'velocidad_viento_120',\n",
       " 'max_valocidad_viento_120',\n",
       " 'direccion_viento_120',\n",
       " 'presion_144',\n",
       " 'temperatura_144',\n",
       " 'temperaturaDew_144',\n",
       " 'humedad_relativa_144',\n",
       " 'VPmax_144',\n",
       " 'VPact_144',\n",
       " 'VPdef_144',\n",
       " 'humedad_especifica_144',\n",
       " 'concentracion_vapor_agua_144',\n",
       " 'rho_144',\n",
       " 'velocidad_viento_144',\n",
       " 'max_valocidad_viento_144',\n",
       " 'direccion_viento_144']"
      ]
     },
     "execution_count": 26,
     "metadata": {},
     "output_type": "execute_result"
    }
   ],
   "source": [
    "selected_features"
   ]
  },
  {
   "cell_type": "code",
   "execution_count": 27,
   "metadata": {
    "ExecuteTime": {
     "end_time": "2023-01-05T10:42:22.520125Z",
     "start_time": "2023-01-05T10:42:22.392031Z"
    }
   },
   "outputs": [],
   "source": [
    "X_train = current_db_train[selected_features]\n",
    "y_train = current_db_train[target_col]\n",
    "\n",
    "X_val = current_db_val[selected_features]\n",
    "y_val = current_db_val[target_col]\n",
    "\n",
    "X_test = current_db_test[selected_features]\n",
    "y_test = current_db_test[target_col]"
   ]
  },
  {
   "cell_type": "code",
   "execution_count": 28,
   "metadata": {
    "ExecuteTime": {
     "end_time": "2023-01-05T10:42:22.602608Z",
     "start_time": "2023-01-05T10:42:22.529362Z"
    }
   },
   "outputs": [],
   "source": [
    "X_train_val = X_train.append(X_val)\n",
    "y_train_val = y_train.append(y_val)"
   ]
  },
  {
   "cell_type": "code",
   "execution_count": 29,
   "metadata": {
    "ExecuteTime": {
     "end_time": "2023-01-05T10:42:22.735562Z",
     "start_time": "2023-01-05T10:42:22.606961Z"
    }
   },
   "outputs": [],
   "source": [
    "current_db_train_val = current_db_train.append(current_db_val)"
   ]
  },
  {
   "cell_type": "code",
   "execution_count": 30,
   "metadata": {
    "ExecuteTime": {
     "end_time": "2023-01-05T10:42:22.769428Z",
     "start_time": "2023-01-05T10:42:22.738812Z"
    }
   },
   "outputs": [],
   "source": [
    "seeds = np.random.randint(1, 999999, 50)"
   ]
  },
  {
   "cell_type": "code",
   "execution_count": 31,
   "metadata": {
    "ExecuteTime": {
     "end_time": "2023-01-05T10:42:28.508418Z",
     "start_time": "2023-01-05T10:42:22.772420Z"
    }
   },
   "outputs": [],
   "source": [
    "scaler = MinMaxScaler()\n",
    "scaler_obj = MinMaxScaler()\n",
    "scaler.fit(X_train)\n",
    "scaler_obj.fit(y_train.to_numpy().reshape(-1, 1))\n",
    "\n",
    "X_train_norm = scaler.transform(X_train)\n",
    "X_val_norm = scaler.transform(X_val)\n",
    "X_test_norm = scaler.transform(X_test)\n",
    "\n",
    "y_train_norm = scaler_obj.transform(y_train.to_numpy().reshape(-1, 1)).reshape(len(y_train))\n",
    "y_val_norm = scaler_obj.transform(y_val.to_numpy().reshape(-1, 1)).reshape(len(y_val))\n",
    "y_test_norm = scaler_obj.transform(y_test.to_numpy().reshape(-1, 1)).reshape(len(y_test))"
   ]
  },
  {
   "cell_type": "markdown",
   "metadata": {},
   "source": [
    "## Lasso 0.01"
   ]
  },
  {
   "cell_type": "code",
   "execution_count": 32,
   "metadata": {
    "ExecuteTime": {
     "end_time": "2023-01-05T10:42:28.742120Z",
     "start_time": "2023-01-05T10:42:28.512098Z"
    }
   },
   "outputs": [
    {
     "data": {
      "text/html": [
       "<style>#sk-container-id-1 {color: black;background-color: white;}#sk-container-id-1 pre{padding: 0;}#sk-container-id-1 div.sk-toggleable {background-color: white;}#sk-container-id-1 label.sk-toggleable__label {cursor: pointer;display: block;width: 100%;margin-bottom: 0;padding: 0.3em;box-sizing: border-box;text-align: center;}#sk-container-id-1 label.sk-toggleable__label-arrow:before {content: \"▸\";float: left;margin-right: 0.25em;color: #696969;}#sk-container-id-1 label.sk-toggleable__label-arrow:hover:before {color: black;}#sk-container-id-1 div.sk-estimator:hover label.sk-toggleable__label-arrow:before {color: black;}#sk-container-id-1 div.sk-toggleable__content {max-height: 0;max-width: 0;overflow: hidden;text-align: left;background-color: #f0f8ff;}#sk-container-id-1 div.sk-toggleable__content pre {margin: 0.2em;color: black;border-radius: 0.25em;background-color: #f0f8ff;}#sk-container-id-1 input.sk-toggleable__control:checked~div.sk-toggleable__content {max-height: 200px;max-width: 100%;overflow: auto;}#sk-container-id-1 input.sk-toggleable__control:checked~label.sk-toggleable__label-arrow:before {content: \"▾\";}#sk-container-id-1 div.sk-estimator input.sk-toggleable__control:checked~label.sk-toggleable__label {background-color: #d4ebff;}#sk-container-id-1 div.sk-label input.sk-toggleable__control:checked~label.sk-toggleable__label {background-color: #d4ebff;}#sk-container-id-1 input.sk-hidden--visually {border: 0;clip: rect(1px 1px 1px 1px);clip: rect(1px, 1px, 1px, 1px);height: 1px;margin: -1px;overflow: hidden;padding: 0;position: absolute;width: 1px;}#sk-container-id-1 div.sk-estimator {font-family: monospace;background-color: #f0f8ff;border: 1px dotted black;border-radius: 0.25em;box-sizing: border-box;margin-bottom: 0.5em;}#sk-container-id-1 div.sk-estimator:hover {background-color: #d4ebff;}#sk-container-id-1 div.sk-parallel-item::after {content: \"\";width: 100%;border-bottom: 1px solid gray;flex-grow: 1;}#sk-container-id-1 div.sk-label:hover label.sk-toggleable__label {background-color: #d4ebff;}#sk-container-id-1 div.sk-serial::before {content: \"\";position: absolute;border-left: 1px solid gray;box-sizing: border-box;top: 0;bottom: 0;left: 50%;z-index: 0;}#sk-container-id-1 div.sk-serial {display: flex;flex-direction: column;align-items: center;background-color: white;padding-right: 0.2em;padding-left: 0.2em;position: relative;}#sk-container-id-1 div.sk-item {position: relative;z-index: 1;}#sk-container-id-1 div.sk-parallel {display: flex;align-items: stretch;justify-content: center;background-color: white;position: relative;}#sk-container-id-1 div.sk-item::before, #sk-container-id-1 div.sk-parallel-item::before {content: \"\";position: absolute;border-left: 1px solid gray;box-sizing: border-box;top: 0;bottom: 0;left: 50%;z-index: -1;}#sk-container-id-1 div.sk-parallel-item {display: flex;flex-direction: column;z-index: 1;position: relative;background-color: white;}#sk-container-id-1 div.sk-parallel-item:first-child::after {align-self: flex-end;width: 50%;}#sk-container-id-1 div.sk-parallel-item:last-child::after {align-self: flex-start;width: 50%;}#sk-container-id-1 div.sk-parallel-item:only-child::after {width: 0;}#sk-container-id-1 div.sk-dashed-wrapped {border: 1px dashed gray;margin: 0 0.4em 0.5em 0.4em;box-sizing: border-box;padding-bottom: 0.4em;background-color: white;}#sk-container-id-1 div.sk-label label {font-family: monospace;font-weight: bold;display: inline-block;line-height: 1.2em;}#sk-container-id-1 div.sk-label-container {text-align: center;}#sk-container-id-1 div.sk-container {/* jupyter's `normalize.less` sets `[hidden] { display: none; }` but bootstrap.min.css set `[hidden] { display: none !important; }` so we also need the `!important` here to be able to override the default hidden behavior on the sphinx rendered scikit-learn.org. See: https://github.com/scikit-learn/scikit-learn/issues/21755 */display: inline-block !important;position: relative;}#sk-container-id-1 div.sk-text-repr-fallback {display: none;}</style><div id=\"sk-container-id-1\" class=\"sk-top-container\"><div class=\"sk-text-repr-fallback\"><pre>Lasso(alpha=0.01)</pre><b>In a Jupyter environment, please rerun this cell to show the HTML representation or trust the notebook. <br />On GitHub, the HTML representation is unable to render, please try loading this page with nbviewer.org.</b></div><div class=\"sk-container\" hidden><div class=\"sk-item\"><div class=\"sk-estimator sk-toggleable\"><input class=\"sk-toggleable__control sk-hidden--visually\" id=\"sk-estimator-id-1\" type=\"checkbox\" checked><label for=\"sk-estimator-id-1\" class=\"sk-toggleable__label sk-toggleable__label-arrow\">Lasso</label><div class=\"sk-toggleable__content\"><pre>Lasso(alpha=0.01)</pre></div></div></div></div></div>"
      ],
      "text/plain": [
       "Lasso(alpha=0.01)"
      ]
     },
     "execution_count": 32,
     "metadata": {},
     "output_type": "execute_result"
    }
   ],
   "source": [
    "model = Lasso(alpha = 0.01)\n",
    "model.fit(X_train_norm, y_train_norm)"
   ]
  },
  {
   "cell_type": "code",
   "execution_count": 33,
   "metadata": {
    "ExecuteTime": {
     "end_time": "2023-01-05T10:42:30.475733Z",
     "start_time": "2023-01-05T10:42:28.744942Z"
    }
   },
   "outputs": [
    {
     "data": {
      "text/plain": [
       "[]"
      ]
     },
     "execution_count": 33,
     "metadata": {},
     "output_type": "execute_result"
    }
   ],
   "source": [
    "features_lasso_001 = sorted(list(X_train.columns[np.abs(model.coef_) > sys.float_info.epsilon]))\n",
    "features_lasso_001"
   ]
  },
  {
   "cell_type": "code",
   "execution_count": 34,
   "metadata": {
    "ExecuteTime": {
     "end_time": "2023-01-05T10:42:30.609352Z",
     "start_time": "2023-01-05T10:42:30.479511Z"
    }
   },
   "outputs": [],
   "source": [
    "# dict_results_lasso_001 = {'rmse':[], 'mae':[], 'r2':[]}"
   ]
  },
  {
   "cell_type": "code",
   "execution_count": 35,
   "metadata": {
    "ExecuteTime": {
     "end_time": "2023-01-05T10:42:33.615088Z",
     "start_time": "2023-01-05T10:42:30.612715Z"
    },
    "scrolled": true
   },
   "outputs": [],
   "source": [
    "# X_test_lasso_001 = X_test[features_lasso_001]\n",
    "# X_train_lasso_001= X_train[features_lasso_001]\n",
    "# X_val_lasso_001 = X_val[features_lasso_001]\n",
    "# for iteration in range(50):\n",
    "#     print(iteration)\n",
    "#     model = CatBoostRegressor(verbose=0, n_estimators=250,use_best_model=True, random_seed=seeds[iteration])\n",
    "#     model.fit(\n",
    "#         X_train_lasso_001, y_train,\n",
    "#         eval_set=(X_val_lasso_001, y_val),\n",
    "#         verbose = 0,\n",
    "#         plot=False\n",
    "#     );\n",
    "    \n",
    "#     test_results = scores_calc_print(y_test, model.predict(X_test_lasso_001), print_bool=False)\n",
    "    \n",
    "#     dict_results_lasso_001[\"r2\"].append(test_results[\"R2\"])\n",
    "#     dict_results_lasso_001[\"rmse\"].append(test_results[\"RMSE\"])\n",
    "#     dict_results_lasso_001[\"mae\"].append(test_results[\"MAE\"])"
   ]
  },
  {
   "cell_type": "code",
   "execution_count": 36,
   "metadata": {
    "ExecuteTime": {
     "end_time": "2023-01-05T10:42:37.914662Z",
     "start_time": "2023-01-05T10:42:33.618136Z"
    }
   },
   "outputs": [],
   "source": [
    "# results_lasso_001_df = pd.DataFrame(dict_results_lasso_001)\n",
    "# mean_lasso_001_test = results_lasso_001_df.mean()\n",
    "# std_lasso_001_test = results_lasso_001_df.std()\n",
    "# max_lasso_001_test = results_lasso_001_df.max()\n",
    "# min_lasso_001_test = results_lasso_001_df.min()"
   ]
  },
  {
   "cell_type": "code",
   "execution_count": 37,
   "metadata": {
    "ExecuteTime": {
     "end_time": "2023-01-05T10:42:38.015387Z",
     "start_time": "2023-01-05T10:42:37.920671Z"
    }
   },
   "outputs": [],
   "source": [
    "# mean_lasso_001_test, std_lasso_001_test, max_lasso_001_test, min_lasso_001_test"
   ]
  },
  {
   "cell_type": "markdown",
   "metadata": {},
   "source": [
    "## Lasso 0.001"
   ]
  },
  {
   "cell_type": "code",
   "execution_count": 38,
   "metadata": {
    "ExecuteTime": {
     "end_time": "2023-01-05T10:42:42.857814Z",
     "start_time": "2023-01-05T10:42:38.020167Z"
    }
   },
   "outputs": [
    {
     "data": {
      "text/html": [
       "<style>#sk-container-id-2 {color: black;background-color: white;}#sk-container-id-2 pre{padding: 0;}#sk-container-id-2 div.sk-toggleable {background-color: white;}#sk-container-id-2 label.sk-toggleable__label {cursor: pointer;display: block;width: 100%;margin-bottom: 0;padding: 0.3em;box-sizing: border-box;text-align: center;}#sk-container-id-2 label.sk-toggleable__label-arrow:before {content: \"▸\";float: left;margin-right: 0.25em;color: #696969;}#sk-container-id-2 label.sk-toggleable__label-arrow:hover:before {color: black;}#sk-container-id-2 div.sk-estimator:hover label.sk-toggleable__label-arrow:before {color: black;}#sk-container-id-2 div.sk-toggleable__content {max-height: 0;max-width: 0;overflow: hidden;text-align: left;background-color: #f0f8ff;}#sk-container-id-2 div.sk-toggleable__content pre {margin: 0.2em;color: black;border-radius: 0.25em;background-color: #f0f8ff;}#sk-container-id-2 input.sk-toggleable__control:checked~div.sk-toggleable__content {max-height: 200px;max-width: 100%;overflow: auto;}#sk-container-id-2 input.sk-toggleable__control:checked~label.sk-toggleable__label-arrow:before {content: \"▾\";}#sk-container-id-2 div.sk-estimator input.sk-toggleable__control:checked~label.sk-toggleable__label {background-color: #d4ebff;}#sk-container-id-2 div.sk-label input.sk-toggleable__control:checked~label.sk-toggleable__label {background-color: #d4ebff;}#sk-container-id-2 input.sk-hidden--visually {border: 0;clip: rect(1px 1px 1px 1px);clip: rect(1px, 1px, 1px, 1px);height: 1px;margin: -1px;overflow: hidden;padding: 0;position: absolute;width: 1px;}#sk-container-id-2 div.sk-estimator {font-family: monospace;background-color: #f0f8ff;border: 1px dotted black;border-radius: 0.25em;box-sizing: border-box;margin-bottom: 0.5em;}#sk-container-id-2 div.sk-estimator:hover {background-color: #d4ebff;}#sk-container-id-2 div.sk-parallel-item::after {content: \"\";width: 100%;border-bottom: 1px solid gray;flex-grow: 1;}#sk-container-id-2 div.sk-label:hover label.sk-toggleable__label {background-color: #d4ebff;}#sk-container-id-2 div.sk-serial::before {content: \"\";position: absolute;border-left: 1px solid gray;box-sizing: border-box;top: 0;bottom: 0;left: 50%;z-index: 0;}#sk-container-id-2 div.sk-serial {display: flex;flex-direction: column;align-items: center;background-color: white;padding-right: 0.2em;padding-left: 0.2em;position: relative;}#sk-container-id-2 div.sk-item {position: relative;z-index: 1;}#sk-container-id-2 div.sk-parallel {display: flex;align-items: stretch;justify-content: center;background-color: white;position: relative;}#sk-container-id-2 div.sk-item::before, #sk-container-id-2 div.sk-parallel-item::before {content: \"\";position: absolute;border-left: 1px solid gray;box-sizing: border-box;top: 0;bottom: 0;left: 50%;z-index: -1;}#sk-container-id-2 div.sk-parallel-item {display: flex;flex-direction: column;z-index: 1;position: relative;background-color: white;}#sk-container-id-2 div.sk-parallel-item:first-child::after {align-self: flex-end;width: 50%;}#sk-container-id-2 div.sk-parallel-item:last-child::after {align-self: flex-start;width: 50%;}#sk-container-id-2 div.sk-parallel-item:only-child::after {width: 0;}#sk-container-id-2 div.sk-dashed-wrapped {border: 1px dashed gray;margin: 0 0.4em 0.5em 0.4em;box-sizing: border-box;padding-bottom: 0.4em;background-color: white;}#sk-container-id-2 div.sk-label label {font-family: monospace;font-weight: bold;display: inline-block;line-height: 1.2em;}#sk-container-id-2 div.sk-label-container {text-align: center;}#sk-container-id-2 div.sk-container {/* jupyter's `normalize.less` sets `[hidden] { display: none; }` but bootstrap.min.css set `[hidden] { display: none !important; }` so we also need the `!important` here to be able to override the default hidden behavior on the sphinx rendered scikit-learn.org. See: https://github.com/scikit-learn/scikit-learn/issues/21755 */display: inline-block !important;position: relative;}#sk-container-id-2 div.sk-text-repr-fallback {display: none;}</style><div id=\"sk-container-id-2\" class=\"sk-top-container\"><div class=\"sk-text-repr-fallback\"><pre>Lasso(alpha=0.001)</pre><b>In a Jupyter environment, please rerun this cell to show the HTML representation or trust the notebook. <br />On GitHub, the HTML representation is unable to render, please try loading this page with nbviewer.org.</b></div><div class=\"sk-container\" hidden><div class=\"sk-item\"><div class=\"sk-estimator sk-toggleable\"><input class=\"sk-toggleable__control sk-hidden--visually\" id=\"sk-estimator-id-2\" type=\"checkbox\" checked><label for=\"sk-estimator-id-2\" class=\"sk-toggleable__label sk-toggleable__label-arrow\">Lasso</label><div class=\"sk-toggleable__content\"><pre>Lasso(alpha=0.001)</pre></div></div></div></div></div>"
      ],
      "text/plain": [
       "Lasso(alpha=0.001)"
      ]
     },
     "execution_count": 38,
     "metadata": {},
     "output_type": "execute_result"
    }
   ],
   "source": [
    "model = Lasso(alpha = 0.001)\n",
    "model.fit(X_train_norm, y_train_norm)"
   ]
  },
  {
   "cell_type": "code",
   "execution_count": 39,
   "metadata": {
    "ExecuteTime": {
     "end_time": "2023-01-05T10:42:42.873243Z",
     "start_time": "2023-01-05T10:42:42.860361Z"
    }
   },
   "outputs": [
    {
     "data": {
      "text/plain": [
       "['VPact_144',\n",
       " 'VPact_72',\n",
       " 'hora',\n",
       " 'humedad_relativa_120',\n",
       " 'humedad_relativa_144',\n",
       " 'humedad_relativa_24',\n",
       " 'humedad_relativa_72',\n",
       " 'max_valocidad_viento_120',\n",
       " 'max_valocidad_viento_144',\n",
       " 'max_valocidad_viento_24',\n",
       " 'max_valocidad_viento_48',\n",
       " 'velocidad_viento_144',\n",
       " 'velocidad_viento_24',\n",
       " 'velocidad_viento_48',\n",
       " 'velocidad_viento_96']"
      ]
     },
     "execution_count": 39,
     "metadata": {},
     "output_type": "execute_result"
    }
   ],
   "source": [
    "features_lasso_0001 = sorted(list(X_train.columns[np.abs(model.coef_) > sys.float_info.epsilon]))\n",
    "features_lasso_0001"
   ]
  },
  {
   "cell_type": "code",
   "execution_count": 40,
   "metadata": {
    "ExecuteTime": {
     "end_time": "2023-01-05T10:42:45.706050Z",
     "start_time": "2023-01-05T10:42:42.876688Z"
    }
   },
   "outputs": [],
   "source": [
    "dict_results_lasso_0001 = {'rmse':[], 'mae':[], 'r2':[]}"
   ]
  },
  {
   "cell_type": "code",
   "execution_count": 41,
   "metadata": {
    "ExecuteTime": {
     "end_time": "2023-01-05T10:54:26.910151Z",
     "start_time": "2023-01-05T10:42:45.708052Z"
    },
    "scrolled": true
   },
   "outputs": [
    {
     "name": "stdout",
     "output_type": "stream",
     "text": [
      "0\n",
      "1\n",
      "2\n",
      "3\n",
      "4\n",
      "5\n",
      "6\n",
      "7\n",
      "8\n",
      "9\n",
      "10\n",
      "11\n",
      "12\n",
      "13\n",
      "14\n",
      "15\n",
      "16\n",
      "17\n",
      "18\n",
      "19\n",
      "20\n",
      "21\n",
      "22\n",
      "23\n",
      "24\n",
      "25\n",
      "26\n",
      "27\n",
      "28\n",
      "29\n",
      "30\n",
      "31\n",
      "32\n",
      "33\n",
      "34\n",
      "35\n",
      "36\n",
      "37\n",
      "38\n",
      "39\n",
      "40\n",
      "41\n",
      "42\n",
      "43\n",
      "44\n",
      "45\n",
      "46\n",
      "47\n",
      "48\n",
      "49\n"
     ]
    }
   ],
   "source": [
    "X_test_lasso_0001 = X_test[features_lasso_0001]\n",
    "X_train_lasso_0001= X_train[features_lasso_0001]\n",
    "X_val_lasso_0001 = X_val[features_lasso_0001]\n",
    "for iteration in range(50):\n",
    "    print(iteration)\n",
    "    model = CatBoostRegressor(verbose=0, n_estimators=250,use_best_model=True, random_seed=seeds[iteration])\n",
    "    model.fit(\n",
    "        X_train_lasso_0001, y_train,\n",
    "        eval_set=(X_val_lasso_0001, y_val),\n",
    "        verbose = 0,\n",
    "        plot=False\n",
    "    );\n",
    "    \n",
    "    test_results = scores_calc_print(y_test, model.predict(X_test_lasso_0001), print_bool=False)\n",
    "    \n",
    "    dict_results_lasso_0001[\"r2\"].append(test_results[\"R2\"])\n",
    "    dict_results_lasso_0001[\"rmse\"].append(test_results[\"RMSE\"])\n",
    "    dict_results_lasso_0001[\"mae\"].append(test_results[\"MAE\"])"
   ]
  },
  {
   "cell_type": "code",
   "execution_count": 42,
   "metadata": {
    "ExecuteTime": {
     "end_time": "2023-01-05T10:54:26.935072Z",
     "start_time": "2023-01-05T10:54:26.910151Z"
    }
   },
   "outputs": [],
   "source": [
    "results_lasso_0001_df = pd.DataFrame(dict_results_lasso_0001)\n",
    "mean_lasso_0001_test = results_lasso_0001_df.mean()\n",
    "std_lasso_0001_test = results_lasso_0001_df.std()\n",
    "max_lasso_0001_test = results_lasso_0001_df.max()\n",
    "min_lasso_0001_test = results_lasso_0001_df.min()"
   ]
  },
  {
   "cell_type": "code",
   "execution_count": 43,
   "metadata": {
    "ExecuteTime": {
     "end_time": "2023-01-05T10:54:31.733940Z",
     "start_time": "2023-01-05T10:54:26.938126Z"
    }
   },
   "outputs": [
    {
     "data": {
      "text/plain": [
       "(rmse    1.394337\n",
       " mae     1.042243\n",
       " r2      0.176927\n",
       " dtype: float64,\n",
       " rmse    0.001327\n",
       " mae     0.001438\n",
       " r2      0.001566\n",
       " dtype: float64,\n",
       " rmse    1.396986\n",
       " mae     1.045980\n",
       " r2      0.180350\n",
       " dtype: float64,\n",
       " rmse    1.391436\n",
       " mae     1.039115\n",
       " r2      0.173798\n",
       " dtype: float64)"
      ]
     },
     "execution_count": 43,
     "metadata": {},
     "output_type": "execute_result"
    }
   ],
   "source": [
    "mean_lasso_0001_test, std_lasso_0001_test, max_lasso_0001_test, min_lasso_0001_test"
   ]
  },
  {
   "cell_type": "markdown",
   "metadata": {},
   "source": [
    "## Lasso 0.0001"
   ]
  },
  {
   "cell_type": "code",
   "execution_count": 44,
   "metadata": {
    "ExecuteTime": {
     "end_time": "2023-01-05T10:54:37.853400Z",
     "start_time": "2023-01-05T10:54:31.735983Z"
    }
   },
   "outputs": [
    {
     "data": {
      "text/html": [
       "<style>#sk-container-id-3 {color: black;background-color: white;}#sk-container-id-3 pre{padding: 0;}#sk-container-id-3 div.sk-toggleable {background-color: white;}#sk-container-id-3 label.sk-toggleable__label {cursor: pointer;display: block;width: 100%;margin-bottom: 0;padding: 0.3em;box-sizing: border-box;text-align: center;}#sk-container-id-3 label.sk-toggleable__label-arrow:before {content: \"▸\";float: left;margin-right: 0.25em;color: #696969;}#sk-container-id-3 label.sk-toggleable__label-arrow:hover:before {color: black;}#sk-container-id-3 div.sk-estimator:hover label.sk-toggleable__label-arrow:before {color: black;}#sk-container-id-3 div.sk-toggleable__content {max-height: 0;max-width: 0;overflow: hidden;text-align: left;background-color: #f0f8ff;}#sk-container-id-3 div.sk-toggleable__content pre {margin: 0.2em;color: black;border-radius: 0.25em;background-color: #f0f8ff;}#sk-container-id-3 input.sk-toggleable__control:checked~div.sk-toggleable__content {max-height: 200px;max-width: 100%;overflow: auto;}#sk-container-id-3 input.sk-toggleable__control:checked~label.sk-toggleable__label-arrow:before {content: \"▾\";}#sk-container-id-3 div.sk-estimator input.sk-toggleable__control:checked~label.sk-toggleable__label {background-color: #d4ebff;}#sk-container-id-3 div.sk-label input.sk-toggleable__control:checked~label.sk-toggleable__label {background-color: #d4ebff;}#sk-container-id-3 input.sk-hidden--visually {border: 0;clip: rect(1px 1px 1px 1px);clip: rect(1px, 1px, 1px, 1px);height: 1px;margin: -1px;overflow: hidden;padding: 0;position: absolute;width: 1px;}#sk-container-id-3 div.sk-estimator {font-family: monospace;background-color: #f0f8ff;border: 1px dotted black;border-radius: 0.25em;box-sizing: border-box;margin-bottom: 0.5em;}#sk-container-id-3 div.sk-estimator:hover {background-color: #d4ebff;}#sk-container-id-3 div.sk-parallel-item::after {content: \"\";width: 100%;border-bottom: 1px solid gray;flex-grow: 1;}#sk-container-id-3 div.sk-label:hover label.sk-toggleable__label {background-color: #d4ebff;}#sk-container-id-3 div.sk-serial::before {content: \"\";position: absolute;border-left: 1px solid gray;box-sizing: border-box;top: 0;bottom: 0;left: 50%;z-index: 0;}#sk-container-id-3 div.sk-serial {display: flex;flex-direction: column;align-items: center;background-color: white;padding-right: 0.2em;padding-left: 0.2em;position: relative;}#sk-container-id-3 div.sk-item {position: relative;z-index: 1;}#sk-container-id-3 div.sk-parallel {display: flex;align-items: stretch;justify-content: center;background-color: white;position: relative;}#sk-container-id-3 div.sk-item::before, #sk-container-id-3 div.sk-parallel-item::before {content: \"\";position: absolute;border-left: 1px solid gray;box-sizing: border-box;top: 0;bottom: 0;left: 50%;z-index: -1;}#sk-container-id-3 div.sk-parallel-item {display: flex;flex-direction: column;z-index: 1;position: relative;background-color: white;}#sk-container-id-3 div.sk-parallel-item:first-child::after {align-self: flex-end;width: 50%;}#sk-container-id-3 div.sk-parallel-item:last-child::after {align-self: flex-start;width: 50%;}#sk-container-id-3 div.sk-parallel-item:only-child::after {width: 0;}#sk-container-id-3 div.sk-dashed-wrapped {border: 1px dashed gray;margin: 0 0.4em 0.5em 0.4em;box-sizing: border-box;padding-bottom: 0.4em;background-color: white;}#sk-container-id-3 div.sk-label label {font-family: monospace;font-weight: bold;display: inline-block;line-height: 1.2em;}#sk-container-id-3 div.sk-label-container {text-align: center;}#sk-container-id-3 div.sk-container {/* jupyter's `normalize.less` sets `[hidden] { display: none; }` but bootstrap.min.css set `[hidden] { display: none !important; }` so we also need the `!important` here to be able to override the default hidden behavior on the sphinx rendered scikit-learn.org. See: https://github.com/scikit-learn/scikit-learn/issues/21755 */display: inline-block !important;position: relative;}#sk-container-id-3 div.sk-text-repr-fallback {display: none;}</style><div id=\"sk-container-id-3\" class=\"sk-top-container\"><div class=\"sk-text-repr-fallback\"><pre>Lasso(alpha=0.0001)</pre><b>In a Jupyter environment, please rerun this cell to show the HTML representation or trust the notebook. <br />On GitHub, the HTML representation is unable to render, please try loading this page with nbviewer.org.</b></div><div class=\"sk-container\" hidden><div class=\"sk-item\"><div class=\"sk-estimator sk-toggleable\"><input class=\"sk-toggleable__control sk-hidden--visually\" id=\"sk-estimator-id-3\" type=\"checkbox\" checked><label for=\"sk-estimator-id-3\" class=\"sk-toggleable__label sk-toggleable__label-arrow\">Lasso</label><div class=\"sk-toggleable__content\"><pre>Lasso(alpha=0.0001)</pre></div></div></div></div></div>"
      ],
      "text/plain": [
       "Lasso(alpha=0.0001)"
      ]
     },
     "execution_count": 44,
     "metadata": {},
     "output_type": "execute_result"
    }
   ],
   "source": [
    "model = Lasso(alpha = 0.0001)\n",
    "model.fit(X_train_norm, y_train_norm)"
   ]
  },
  {
   "cell_type": "code",
   "execution_count": 45,
   "metadata": {
    "ExecuteTime": {
     "end_time": "2023-01-05T10:54:37.868776Z",
     "start_time": "2023-01-05T10:54:37.855673Z"
    }
   },
   "outputs": [
    {
     "data": {
      "text/plain": [
       "['VPact_120',\n",
       " 'VPact_72',\n",
       " 'VPact_96',\n",
       " 'VPdef_120',\n",
       " 'VPdef_96',\n",
       " 'concentracion_vapor_agua_144',\n",
       " 'direccion_viento_144',\n",
       " 'direccion_viento_24',\n",
       " 'direccion_viento_96',\n",
       " 'hora',\n",
       " 'humedad_especifica_144',\n",
       " 'humedad_relativa_120',\n",
       " 'humedad_relativa_144',\n",
       " 'humedad_relativa_24',\n",
       " 'humedad_relativa_48',\n",
       " 'humedad_relativa_72',\n",
       " 'max_valocidad_viento_120',\n",
       " 'max_valocidad_viento_144',\n",
       " 'max_valocidad_viento_24',\n",
       " 'max_valocidad_viento_48',\n",
       " 'max_valocidad_viento_72',\n",
       " 'max_valocidad_viento_96',\n",
       " 'mes',\n",
       " 'presion_24',\n",
       " 'presion_72',\n",
       " 'presion_96',\n",
       " 'temperaturaDew_24',\n",
       " 'temperaturaDew_72',\n",
       " 'velocidad_viento_48']"
      ]
     },
     "execution_count": 45,
     "metadata": {},
     "output_type": "execute_result"
    }
   ],
   "source": [
    "features_lasso_00001 = sorted(list(X_train.columns[np.abs(model.coef_) > sys.float_info.epsilon]))\n",
    "features_lasso_00001"
   ]
  },
  {
   "cell_type": "code",
   "execution_count": 46,
   "metadata": {
    "ExecuteTime": {
     "end_time": "2023-01-05T10:54:47.892895Z",
     "start_time": "2023-01-05T10:54:37.870384Z"
    }
   },
   "outputs": [],
   "source": [
    "dict_results_lasso_00001 = {'rmse':[], 'mae':[], 'r2':[]}"
   ]
  },
  {
   "cell_type": "code",
   "execution_count": 47,
   "metadata": {
    "ExecuteTime": {
     "end_time": "2023-01-05T11:15:56.166474Z",
     "start_time": "2023-01-05T10:54:47.896654Z"
    },
    "scrolled": true
   },
   "outputs": [
    {
     "name": "stdout",
     "output_type": "stream",
     "text": [
      "0\n",
      "1\n",
      "2\n",
      "3\n",
      "4\n",
      "5\n",
      "6\n",
      "7\n",
      "8\n",
      "9\n",
      "10\n",
      "11\n",
      "12\n",
      "13\n",
      "14\n",
      "15\n",
      "16\n",
      "17\n",
      "18\n",
      "19\n",
      "20\n",
      "21\n",
      "22\n",
      "23\n",
      "24\n",
      "25\n",
      "26\n",
      "27\n",
      "28\n",
      "29\n",
      "30\n",
      "31\n",
      "32\n",
      "33\n",
      "34\n",
      "35\n",
      "36\n",
      "37\n",
      "38\n",
      "39\n",
      "40\n",
      "41\n",
      "42\n",
      "43\n",
      "44\n",
      "45\n",
      "46\n",
      "47\n",
      "48\n",
      "49\n"
     ]
    }
   ],
   "source": [
    "X_test_lasso_00001 = X_test[features_lasso_00001]\n",
    "X_train_lasso_00001= X_train[features_lasso_00001]\n",
    "X_val_lasso_00001 = X_val[features_lasso_00001]\n",
    "for iteration in range(50):\n",
    "    print(iteration)\n",
    "    model = CatBoostRegressor(verbose=0, n_estimators=250,use_best_model=True, random_seed=seeds[iteration])\n",
    "    model.fit(\n",
    "        X_train_lasso_00001, y_train,\n",
    "        eval_set=(X_val_lasso_00001, y_val),\n",
    "        verbose = 0,\n",
    "        plot=False\n",
    "    );\n",
    "    \n",
    "    test_results = scores_calc_print(y_test, model.predict(X_test_lasso_00001), print_bool=False)\n",
    "    \n",
    "    dict_results_lasso_00001[\"r2\"].append(test_results[\"R2\"])\n",
    "    dict_results_lasso_00001[\"rmse\"].append(test_results[\"RMSE\"])\n",
    "    dict_results_lasso_00001[\"mae\"].append(test_results[\"MAE\"])"
   ]
  },
  {
   "cell_type": "code",
   "execution_count": 48,
   "metadata": {
    "ExecuteTime": {
     "end_time": "2023-01-05T11:15:56.201627Z",
     "start_time": "2023-01-05T11:15:56.170322Z"
    }
   },
   "outputs": [],
   "source": [
    "results_lasso_00001_df = pd.DataFrame(dict_results_lasso_00001)\n",
    "mean_lasso_00001_test = results_lasso_00001_df.mean()\n",
    "std_lasso_00001_test = results_lasso_00001_df.std()\n",
    "max_lasso_00001_test = results_lasso_00001_df.max()\n",
    "min_lasso_00001_test = results_lasso_00001_df.min()"
   ]
  },
  {
   "cell_type": "code",
   "execution_count": 49,
   "metadata": {
    "ExecuteTime": {
     "end_time": "2023-01-05T11:15:57.869616Z",
     "start_time": "2023-01-05T11:15:56.204069Z"
    }
   },
   "outputs": [
    {
     "data": {
      "text/plain": [
       "(rmse    1.399224\n",
       " mae     1.042222\n",
       " r2      0.171144\n",
       " dtype: float64,\n",
       " rmse    0.003502\n",
       " mae     0.002283\n",
       " r2      0.004157\n",
       " dtype: float64,\n",
       " rmse    1.413060\n",
       " mae     1.048650\n",
       " r2      0.178446\n",
       " dtype: float64,\n",
       " rmse    1.393051\n",
       " mae     1.037793\n",
       " r2      0.154675\n",
       " dtype: float64)"
      ]
     },
     "execution_count": 49,
     "metadata": {},
     "output_type": "execute_result"
    }
   ],
   "source": [
    "mean_lasso_00001_test, std_lasso_00001_test, max_lasso_00001_test, min_lasso_00001_test"
   ]
  },
  {
   "cell_type": "markdown",
   "metadata": {},
   "source": [
    "## Lasso 0.00001"
   ]
  },
  {
   "cell_type": "code",
   "execution_count": 50,
   "metadata": {
    "ExecuteTime": {
     "end_time": "2023-01-05T11:17:57.995223Z",
     "start_time": "2023-01-05T11:15:57.870617Z"
    }
   },
   "outputs": [
    {
     "data": {
      "text/html": [
       "<style>#sk-container-id-4 {color: black;background-color: white;}#sk-container-id-4 pre{padding: 0;}#sk-container-id-4 div.sk-toggleable {background-color: white;}#sk-container-id-4 label.sk-toggleable__label {cursor: pointer;display: block;width: 100%;margin-bottom: 0;padding: 0.3em;box-sizing: border-box;text-align: center;}#sk-container-id-4 label.sk-toggleable__label-arrow:before {content: \"▸\";float: left;margin-right: 0.25em;color: #696969;}#sk-container-id-4 label.sk-toggleable__label-arrow:hover:before {color: black;}#sk-container-id-4 div.sk-estimator:hover label.sk-toggleable__label-arrow:before {color: black;}#sk-container-id-4 div.sk-toggleable__content {max-height: 0;max-width: 0;overflow: hidden;text-align: left;background-color: #f0f8ff;}#sk-container-id-4 div.sk-toggleable__content pre {margin: 0.2em;color: black;border-radius: 0.25em;background-color: #f0f8ff;}#sk-container-id-4 input.sk-toggleable__control:checked~div.sk-toggleable__content {max-height: 200px;max-width: 100%;overflow: auto;}#sk-container-id-4 input.sk-toggleable__control:checked~label.sk-toggleable__label-arrow:before {content: \"▾\";}#sk-container-id-4 div.sk-estimator input.sk-toggleable__control:checked~label.sk-toggleable__label {background-color: #d4ebff;}#sk-container-id-4 div.sk-label input.sk-toggleable__control:checked~label.sk-toggleable__label {background-color: #d4ebff;}#sk-container-id-4 input.sk-hidden--visually {border: 0;clip: rect(1px 1px 1px 1px);clip: rect(1px, 1px, 1px, 1px);height: 1px;margin: -1px;overflow: hidden;padding: 0;position: absolute;width: 1px;}#sk-container-id-4 div.sk-estimator {font-family: monospace;background-color: #f0f8ff;border: 1px dotted black;border-radius: 0.25em;box-sizing: border-box;margin-bottom: 0.5em;}#sk-container-id-4 div.sk-estimator:hover {background-color: #d4ebff;}#sk-container-id-4 div.sk-parallel-item::after {content: \"\";width: 100%;border-bottom: 1px solid gray;flex-grow: 1;}#sk-container-id-4 div.sk-label:hover label.sk-toggleable__label {background-color: #d4ebff;}#sk-container-id-4 div.sk-serial::before {content: \"\";position: absolute;border-left: 1px solid gray;box-sizing: border-box;top: 0;bottom: 0;left: 50%;z-index: 0;}#sk-container-id-4 div.sk-serial {display: flex;flex-direction: column;align-items: center;background-color: white;padding-right: 0.2em;padding-left: 0.2em;position: relative;}#sk-container-id-4 div.sk-item {position: relative;z-index: 1;}#sk-container-id-4 div.sk-parallel {display: flex;align-items: stretch;justify-content: center;background-color: white;position: relative;}#sk-container-id-4 div.sk-item::before, #sk-container-id-4 div.sk-parallel-item::before {content: \"\";position: absolute;border-left: 1px solid gray;box-sizing: border-box;top: 0;bottom: 0;left: 50%;z-index: -1;}#sk-container-id-4 div.sk-parallel-item {display: flex;flex-direction: column;z-index: 1;position: relative;background-color: white;}#sk-container-id-4 div.sk-parallel-item:first-child::after {align-self: flex-end;width: 50%;}#sk-container-id-4 div.sk-parallel-item:last-child::after {align-self: flex-start;width: 50%;}#sk-container-id-4 div.sk-parallel-item:only-child::after {width: 0;}#sk-container-id-4 div.sk-dashed-wrapped {border: 1px dashed gray;margin: 0 0.4em 0.5em 0.4em;box-sizing: border-box;padding-bottom: 0.4em;background-color: white;}#sk-container-id-4 div.sk-label label {font-family: monospace;font-weight: bold;display: inline-block;line-height: 1.2em;}#sk-container-id-4 div.sk-label-container {text-align: center;}#sk-container-id-4 div.sk-container {/* jupyter's `normalize.less` sets `[hidden] { display: none; }` but bootstrap.min.css set `[hidden] { display: none !important; }` so we also need the `!important` here to be able to override the default hidden behavior on the sphinx rendered scikit-learn.org. See: https://github.com/scikit-learn/scikit-learn/issues/21755 */display: inline-block !important;position: relative;}#sk-container-id-4 div.sk-text-repr-fallback {display: none;}</style><div id=\"sk-container-id-4\" class=\"sk-top-container\"><div class=\"sk-text-repr-fallback\"><pre>Lasso(alpha=1e-05)</pre><b>In a Jupyter environment, please rerun this cell to show the HTML representation or trust the notebook. <br />On GitHub, the HTML representation is unable to render, please try loading this page with nbviewer.org.</b></div><div class=\"sk-container\" hidden><div class=\"sk-item\"><div class=\"sk-estimator sk-toggleable\"><input class=\"sk-toggleable__control sk-hidden--visually\" id=\"sk-estimator-id-4\" type=\"checkbox\" checked><label for=\"sk-estimator-id-4\" class=\"sk-toggleable__label sk-toggleable__label-arrow\">Lasso</label><div class=\"sk-toggleable__content\"><pre>Lasso(alpha=1e-05)</pre></div></div></div></div></div>"
      ],
      "text/plain": [
       "Lasso(alpha=1e-05)"
      ]
     },
     "execution_count": 50,
     "metadata": {},
     "output_type": "execute_result"
    }
   ],
   "source": [
    "model = Lasso(alpha = 0.00001)\n",
    "model.fit(X_train_norm, y_train_norm)"
   ]
  },
  {
   "cell_type": "code",
   "execution_count": 51,
   "metadata": {
    "ExecuteTime": {
     "end_time": "2023-01-05T11:17:58.018566Z",
     "start_time": "2023-01-05T11:17:57.999157Z"
    }
   },
   "outputs": [
    {
     "data": {
      "text/plain": [
       "['VPact_120',\n",
       " 'VPact_144',\n",
       " 'VPact_96',\n",
       " 'VPdef_120',\n",
       " 'VPdef_144',\n",
       " 'VPdef_24',\n",
       " 'VPdef_72',\n",
       " 'VPdef_96',\n",
       " 'concentracion_vapor_agua_120',\n",
       " 'direccion_viento_120',\n",
       " 'direccion_viento_144',\n",
       " 'direccion_viento_24',\n",
       " 'direccion_viento_72',\n",
       " 'direccion_viento_96',\n",
       " 'hora',\n",
       " 'humedad_especifica_24',\n",
       " 'humedad_especifica_48',\n",
       " 'humedad_relativa_120',\n",
       " 'humedad_relativa_144',\n",
       " 'humedad_relativa_24',\n",
       " 'humedad_relativa_48',\n",
       " 'humedad_relativa_72',\n",
       " 'humedad_relativa_96',\n",
       " 'max_valocidad_viento_120',\n",
       " 'max_valocidad_viento_144',\n",
       " 'max_valocidad_viento_24',\n",
       " 'max_valocidad_viento_48',\n",
       " 'max_valocidad_viento_72',\n",
       " 'max_valocidad_viento_96',\n",
       " 'mes',\n",
       " 'presion_144',\n",
       " 'presion_24',\n",
       " 'presion_48',\n",
       " 'presion_72',\n",
       " 'presion_96',\n",
       " 'temperaturaDew_120',\n",
       " 'temperaturaDew_144',\n",
       " 'temperaturaDew_24',\n",
       " 'temperaturaDew_96',\n",
       " 'temperatura_120',\n",
       " 'temperatura_48',\n",
       " 'temperatura_72',\n",
       " 'velocidad_viento_120',\n",
       " 'velocidad_viento_48']"
      ]
     },
     "execution_count": 51,
     "metadata": {},
     "output_type": "execute_result"
    }
   ],
   "source": [
    "features_lasso_000001 = sorted(list(X_train.columns[np.abs(model.coef_) > sys.float_info.epsilon]))\n",
    "features_lasso_000001"
   ]
  },
  {
   "cell_type": "code",
   "execution_count": 52,
   "metadata": {
    "ExecuteTime": {
     "end_time": "2023-01-05T11:18:03.789021Z",
     "start_time": "2023-01-05T11:17:58.022803Z"
    }
   },
   "outputs": [],
   "source": [
    "dict_results_lasso_000001 = {'rmse':[], 'mae':[], 'r2':[]}"
   ]
  },
  {
   "cell_type": "code",
   "execution_count": 53,
   "metadata": {
    "ExecuteTime": {
     "end_time": "2023-01-05T11:40:04.373206Z",
     "start_time": "2023-01-05T11:18:03.792643Z"
    },
    "scrolled": true
   },
   "outputs": [
    {
     "name": "stdout",
     "output_type": "stream",
     "text": [
      "0\n",
      "1\n",
      "2\n",
      "3\n",
      "4\n",
      "5\n",
      "6\n",
      "7\n",
      "8\n",
      "9\n",
      "10\n",
      "11\n",
      "12\n",
      "13\n",
      "14\n",
      "15\n",
      "16\n",
      "17\n",
      "18\n",
      "19\n",
      "20\n",
      "21\n",
      "22\n",
      "23\n",
      "24\n",
      "25\n",
      "26\n",
      "27\n",
      "28\n",
      "29\n",
      "30\n",
      "31\n",
      "32\n",
      "33\n",
      "34\n",
      "35\n",
      "36\n",
      "37\n",
      "38\n",
      "39\n",
      "40\n",
      "41\n",
      "42\n",
      "43\n",
      "44\n",
      "45\n",
      "46\n",
      "47\n",
      "48\n",
      "49\n"
     ]
    }
   ],
   "source": [
    "X_test_lasso_000001 = X_test[features_lasso_000001]\n",
    "X_train_lasso_000001= X_train[features_lasso_000001]\n",
    "X_val_lasso_000001 = X_val[features_lasso_000001]\n",
    "for iteration in range(50):\n",
    "    print(iteration)\n",
    "    model = CatBoostRegressor(verbose=0, n_estimators=250,use_best_model=True, random_seed=seeds[iteration])\n",
    "    model.fit(\n",
    "        X_train_lasso_000001, y_train,\n",
    "        eval_set=(X_val_lasso_000001, y_val),\n",
    "        verbose = 0,\n",
    "        plot=False\n",
    "    );\n",
    "    \n",
    "    test_results = scores_calc_print(y_test, model.predict(X_test_lasso_000001), print_bool=False)\n",
    "    \n",
    "    dict_results_lasso_000001[\"r2\"].append(test_results[\"R2\"])\n",
    "    dict_results_lasso_000001[\"rmse\"].append(test_results[\"RMSE\"])\n",
    "    dict_results_lasso_000001[\"mae\"].append(test_results[\"MAE\"])"
   ]
  },
  {
   "cell_type": "code",
   "execution_count": 54,
   "metadata": {
    "ExecuteTime": {
     "end_time": "2023-01-05T11:40:04.390572Z",
     "start_time": "2023-01-05T11:40:04.375950Z"
    }
   },
   "outputs": [],
   "source": [
    "results_lasso_000001_df = pd.DataFrame(dict_results_lasso_000001)\n",
    "mean_lasso_000001_test = results_lasso_000001_df.mean()\n",
    "std_lasso_000001_test = results_lasso_000001_df.std()\n",
    "max_lasso_000001_test = results_lasso_000001_df.max()\n",
    "min_lasso_000001_test = results_lasso_000001_df.min()"
   ]
  },
  {
   "cell_type": "code",
   "execution_count": 55,
   "metadata": {
    "ExecuteTime": {
     "end_time": "2023-01-05T11:40:10.213338Z",
     "start_time": "2023-01-05T11:40:04.392570Z"
    }
   },
   "outputs": [
    {
     "data": {
      "text/plain": [
       "(rmse    1.399191\n",
       " mae     1.041702\n",
       " r2      0.171185\n",
       " dtype: float64,\n",
       " rmse    0.002739\n",
       " mae     0.002248\n",
       " r2      0.003249\n",
       " dtype: float64,\n",
       " rmse    1.407569\n",
       " mae     1.047248\n",
       " r2      0.175367\n",
       " dtype: float64,\n",
       " rmse    1.395659\n",
       " mae     1.037737\n",
       " r2      0.161233\n",
       " dtype: float64)"
      ]
     },
     "execution_count": 55,
     "metadata": {},
     "output_type": "execute_result"
    }
   ],
   "source": [
    "mean_lasso_000001_test, std_lasso_000001_test, max_lasso_000001_test, min_lasso_000001_test"
   ]
  },
  {
   "cell_type": "markdown",
   "metadata": {},
   "source": [
    "## Boruta"
   ]
  },
  {
   "cell_type": "code",
   "execution_count": 56,
   "metadata": {
    "ExecuteTime": {
     "end_time": "2023-01-05T11:48:31.053377Z",
     "start_time": "2023-01-05T11:40:10.216247Z"
    }
   },
   "outputs": [
    {
     "name": "stderr",
     "output_type": "stream",
     "text": [
      "100%|██████████████████████████████████████████████████████████████████████████████████| 20/20 [08:16<00:00, 24.80s/it]"
     ]
    },
    {
     "name": "stdout",
     "output_type": "stream",
     "text": [
      "48 attributes confirmed important: ['direccion_viento_48', 'humedad_relativa_48', 'presion_144', 'direccion_viento_144', 'VPact_24', 'rho_48', 'max_valocidad_viento_24', 'presion_72', 'rho_72', 'rho_24', 'hora', 'humedad_relativa_120', 'rho_120', 'max_valocidad_viento_120', 'max_valocidad_viento_48', 'velocidad_viento_24', 'VPmax_72', 'temperaturaDew_120', 'presion_48', 'temperaturaDew_48', 'humedad_relativa_144', 'VPdef_144', 'humedad_especifica_24', 'humedad_relativa_24', 'humedad_especifica_48', 'concentracion_vapor_agua_24', 'mes', 'rho_144', 'direccion_viento_96', 'concentracion_vapor_agua_96', 'temperatura_120', 'VPact_48', 'concentracion_vapor_agua_120', 'velocidad_viento_120', 'humedad_relativa_72', 'direccion_viento_120', 'VPact_72', 'concentracion_vapor_agua_72', 'VPdef_72', 'presion_24', 'temperaturaDew_24', 'presion_120', 'presion_96', 'VPdef_24', 'rho_96', 'velocidad_viento_48', 'direccion_viento_24', 'VPdef_48']\n",
      "1 attributes confirmed unimportant: ['temperatura_72']\n",
      "31 tentative attributes remains: ['VPact_96', 'velocidad_viento_72', 'VPmax_24', 'VPmax_96', 'humedad_relativa_96', 'VPact_144', 'VPdef_120', 'VPmax_48', 'max_valocidad_viento_144', 'temperatura_96', 'humedad_especifica_120', 'humedad_especifica_144', 'concentracion_vapor_agua_48', 'direccion_viento_72', 'temperaturaDew_72', 'VPmax_144', 'humedad_especifica_96', 'temperaturaDew_144', 'humedad_especifica_72', 'velocidad_viento_96', 'temperatura_48', 'VPmax_120', 'velocidad_viento_144', 'VPdef_96', 'temperatura_24', 'temperatura_144', 'VPact_120', 'max_valocidad_viento_72', 'max_valocidad_viento_96', 'temperaturaDew_96', 'concentracion_vapor_agua_144']\n"
     ]
    },
    {
     "name": "stderr",
     "output_type": "stream",
     "text": [
      "\n"
     ]
    }
   ],
   "source": [
    "model = CatBoostRegressor(verbose=0, n_estimators=250,use_best_model=False, random_seed = 123)\n",
    "\n",
    "# if classification is False it is a Regression problem\n",
    "Feature_Selector = BorutaShap(model=model,\n",
    "                              importance_measure='gini',\n",
    "                              classification=False)\n",
    "\n",
    "Feature_Selector.fit(X=X_train_val, y=y_train_val, sample=False,\n",
    "                        train_or_test = 'test', normalize=True,verbose=True)\n",
    "\n",
    "# 1 minutos 46 segundos"
   ]
  },
  {
   "cell_type": "code",
   "execution_count": 57,
   "metadata": {
    "ExecuteTime": {
     "end_time": "2023-01-05T11:48:31.103613Z",
     "start_time": "2023-01-05T11:48:31.063014Z"
    }
   },
   "outputs": [
    {
     "data": {
      "text/plain": [
       "['VPact_24',\n",
       " 'VPact_48',\n",
       " 'VPact_72',\n",
       " 'VPdef_144',\n",
       " 'VPdef_24',\n",
       " 'VPdef_48',\n",
       " 'VPdef_72',\n",
       " 'VPmax_72',\n",
       " 'concentracion_vapor_agua_120',\n",
       " 'concentracion_vapor_agua_24',\n",
       " 'concentracion_vapor_agua_72',\n",
       " 'concentracion_vapor_agua_96',\n",
       " 'direccion_viento_120',\n",
       " 'direccion_viento_144',\n",
       " 'direccion_viento_24',\n",
       " 'direccion_viento_48',\n",
       " 'direccion_viento_96',\n",
       " 'hora',\n",
       " 'humedad_especifica_24',\n",
       " 'humedad_especifica_48',\n",
       " 'humedad_relativa_120',\n",
       " 'humedad_relativa_144',\n",
       " 'humedad_relativa_24',\n",
       " 'humedad_relativa_48',\n",
       " 'humedad_relativa_72',\n",
       " 'max_valocidad_viento_120',\n",
       " 'max_valocidad_viento_24',\n",
       " 'max_valocidad_viento_48',\n",
       " 'mes',\n",
       " 'presion_120',\n",
       " 'presion_144',\n",
       " 'presion_24',\n",
       " 'presion_48',\n",
       " 'presion_72',\n",
       " 'presion_96',\n",
       " 'rho_120',\n",
       " 'rho_144',\n",
       " 'rho_24',\n",
       " 'rho_48',\n",
       " 'rho_72',\n",
       " 'rho_96',\n",
       " 'temperaturaDew_120',\n",
       " 'temperaturaDew_24',\n",
       " 'temperaturaDew_48',\n",
       " 'temperatura_120',\n",
       " 'velocidad_viento_120',\n",
       " 'velocidad_viento_24',\n",
       " 'velocidad_viento_48']"
      ]
     },
     "execution_count": 57,
     "metadata": {},
     "output_type": "execute_result"
    }
   ],
   "source": [
    "subset = Feature_Selector.Subset()\n",
    "selected_features_boruta = sorted(subset.columns.values)\n",
    "selected_features_boruta"
   ]
  },
  {
   "cell_type": "code",
   "execution_count": 58,
   "metadata": {
    "ExecuteTime": {
     "end_time": "2023-01-05T11:48:41.116055Z",
     "start_time": "2023-01-05T11:48:31.106274Z"
    }
   },
   "outputs": [],
   "source": [
    "dict_results_boruta = {'rmse':[], 'mae':[], 'r2':[]}"
   ]
  },
  {
   "cell_type": "code",
   "execution_count": 59,
   "metadata": {
    "ExecuteTime": {
     "end_time": "2023-01-05T12:02:27.776099Z",
     "start_time": "2023-01-05T11:48:41.119007Z"
    },
    "scrolled": true
   },
   "outputs": [
    {
     "name": "stdout",
     "output_type": "stream",
     "text": [
      "0\n",
      "1\n",
      "2\n",
      "3\n",
      "4\n",
      "5\n",
      "6\n",
      "7\n",
      "8\n",
      "9\n",
      "10\n",
      "11\n",
      "12\n",
      "13\n",
      "14\n",
      "15\n",
      "16\n",
      "17\n",
      "18\n",
      "19\n",
      "20\n",
      "21\n",
      "22\n",
      "23\n",
      "24\n",
      "25\n",
      "26\n",
      "27\n",
      "28\n",
      "29\n",
      "30\n",
      "31\n",
      "32\n",
      "33\n",
      "34\n",
      "35\n",
      "36\n",
      "37\n",
      "38\n",
      "39\n",
      "40\n",
      "41\n",
      "42\n",
      "43\n",
      "44\n",
      "45\n",
      "46\n",
      "47\n",
      "48\n",
      "49\n"
     ]
    }
   ],
   "source": [
    "X_test_boruta = X_test[selected_features_boruta]\n",
    "X_train_boruta = X_train[selected_features_boruta]\n",
    "X_val_boruta = X_val[selected_features_boruta]\n",
    "for iteration in range(50):\n",
    "    print(iteration)\n",
    "    model = CatBoostRegressor(verbose=0, n_estimators=250,use_best_model=True, random_seed=seeds[iteration])\n",
    "    model.fit(\n",
    "        X_train_boruta, y_train,\n",
    "        eval_set=(X_val_boruta, y_val),\n",
    "        verbose = 0,\n",
    "        plot=False\n",
    "    );\n",
    "    \n",
    "    test_results = scores_calc_print(y_test, model.predict(X_test_boruta), print_bool=False)\n",
    "    \n",
    "    dict_results_boruta[\"r2\"].append(test_results[\"R2\"])\n",
    "    dict_results_boruta[\"rmse\"].append(test_results[\"RMSE\"])\n",
    "    dict_results_boruta[\"mae\"].append(test_results[\"MAE\"])"
   ]
  },
  {
   "cell_type": "code",
   "execution_count": 60,
   "metadata": {
    "ExecuteTime": {
     "end_time": "2023-01-05T12:02:27.791595Z",
     "start_time": "2023-01-05T12:02:27.779076Z"
    }
   },
   "outputs": [],
   "source": [
    "results_boruta_df = pd.DataFrame(dict_results_boruta)\n",
    "mean_boruta_test = results_boruta_df.mean()\n",
    "std_boruta_test = results_boruta_df.std()\n",
    "max_boruta_test = results_boruta_df.max()\n",
    "min_boruta_test = results_boruta_df.min()"
   ]
  },
  {
   "cell_type": "code",
   "execution_count": 61,
   "metadata": {
    "ExecuteTime": {
     "end_time": "2023-01-05T12:02:27.925135Z",
     "start_time": "2023-01-05T12:02:27.795372Z"
    },
    "scrolled": true
   },
   "outputs": [
    {
     "data": {
      "text/plain": [
       "(rmse    1.401415\n",
       " mae     1.043805\n",
       " r2      0.168549\n",
       " dtype: float64,\n",
       " rmse    0.002263\n",
       " mae     0.003309\n",
       " r2      0.002684\n",
       " dtype: float64,\n",
       " rmse    1.406657\n",
       " mae     1.050983\n",
       " r2      0.176181\n",
       " dtype: float64,\n",
       " rmse    1.39497\n",
       " mae     1.03719\n",
       " r2      0.16232\n",
       " dtype: float64)"
      ]
     },
     "execution_count": 61,
     "metadata": {},
     "output_type": "execute_result"
    }
   ],
   "source": [
    "mean_boruta_test, std_boruta_test, max_boruta_test, min_boruta_test"
   ]
  },
  {
   "cell_type": "markdown",
   "metadata": {},
   "source": [
    "## PIMP"
   ]
  },
  {
   "cell_type": "code",
   "execution_count": 62,
   "metadata": {
    "ExecuteTime": {
     "end_time": "2023-01-05T12:02:40.439747Z",
     "start_time": "2023-01-05T12:02:27.929013Z"
    }
   },
   "outputs": [],
   "source": [
    "model = CatBoostRegressor(verbose=0, n_estimators=250,use_best_model=False, random_seed = 123)\n",
    "model = model.fit(\n",
    "    X_train, y_train,\n",
    "    verbose = 0,\n",
    "    plot=False\n",
    ")"
   ]
  },
  {
   "cell_type": "code",
   "execution_count": 63,
   "metadata": {
    "ExecuteTime": {
     "end_time": "2023-01-05T12:02:54.880568Z",
     "start_time": "2023-01-05T12:02:40.442754Z"
    }
   },
   "outputs": [],
   "source": [
    "pimp = PermutationImportance(model, cv='prefit').fit(X_val, y_val)"
   ]
  },
  {
   "cell_type": "code",
   "execution_count": 64,
   "metadata": {
    "ExecuteTime": {
     "end_time": "2023-01-05T12:02:54.900703Z",
     "start_time": "2023-01-05T12:02:54.884605Z"
    }
   },
   "outputs": [
    {
     "data": {
      "text/plain": [
       "array([ 7.87239975e-02, -1.33988296e-03,  8.21719574e-03,  3.14812638e-03,\n",
       "        9.91459017e-05,  4.83681562e-03,  1.73804639e-03,  1.58666937e-02,\n",
       "        2.92051205e-03,  4.12972268e-03,  7.17771963e-03,  3.09576334e-03,\n",
       "        3.91355293e-03,  7.31385562e-02,  1.79105645e-03,  1.66037348e-02,\n",
       "        7.34937950e-03,  1.86759094e-02, -2.36009800e-04,  3.49649545e-03,\n",
       "        2.99315909e-03, -2.95059451e-03,  2.43913028e-02,  9.81197541e-03,\n",
       "        7.56746984e-03,  1.37036003e-03,  2.22588598e-03,  3.60410780e-03,\n",
       "        1.62927743e-02,  5.20791391e-04,  7.64818634e-03, -1.46089160e-03,\n",
       "        2.87635551e-02,  2.01010206e-02, -4.57014568e-04,  4.74877291e-03,\n",
       "        5.68444905e-04,  5.56237971e-03,  2.34024964e-05, -7.57814901e-04,\n",
       "       -2.91640263e-05, -2.68446272e-04,  3.05305956e-03,  2.27607477e-03,\n",
       "       -3.02938676e-04, -6.99576652e-05,  5.32502187e-04, -4.92423589e-04,\n",
       "        1.22108643e-03,  1.09402249e-03,  1.09908554e-02,  2.61851420e-04,\n",
       "       -3.85619999e-04, -2.46871255e-05, -2.00934936e-03, -1.02869805e-03,\n",
       "        3.11832916e-03, -9.27712172e-04,  3.91886625e-03,  4.57972139e-03,\n",
       "        1.31130574e-03, -1.16769184e-03,  2.66712182e-03,  4.44740571e-03,\n",
       "       -1.64085524e-03, -1.55634875e-04,  1.69665993e-03,  5.95969142e-03,\n",
       "        1.30702739e-03,  7.89720683e-03,  2.37469918e-03,  4.47382019e-03,\n",
       "       -1.38881089e-03, -4.44906363e-04, -1.87146927e-04,  9.48302700e-03,\n",
       "       -3.88797279e-05, -3.62850422e-04, -1.61561964e-03,  8.87531278e-04])"
      ]
     },
     "execution_count": 64,
     "metadata": {},
     "output_type": "execute_result"
    }
   ],
   "source": [
    "pimp.feature_importances_"
   ]
  },
  {
   "cell_type": "code",
   "execution_count": 65,
   "metadata": {
    "ExecuteTime": {
     "end_time": "2023-01-05T12:02:54.984168Z",
     "start_time": "2023-01-05T12:02:54.903216Z"
    }
   },
   "outputs": [],
   "source": [
    "sel = SelectFromModel(pimp,threshold=None, prefit=True)"
   ]
  },
  {
   "cell_type": "code",
   "execution_count": 66,
   "metadata": {
    "ExecuteTime": {
     "end_time": "2023-01-05T12:02:55.044884Z",
     "start_time": "2023-01-05T12:02:54.988175Z"
    }
   },
   "outputs": [
    {
     "data": {
      "text/plain": [
       "(52422, 18)"
      ]
     },
     "execution_count": 66,
     "metadata": {},
     "output_type": "execute_result"
    }
   ],
   "source": [
    "sel.transform(X_train).shape"
   ]
  },
  {
   "cell_type": "code",
   "execution_count": 67,
   "metadata": {
    "ExecuteTime": {
     "end_time": "2023-01-05T12:02:55.059861Z",
     "start_time": "2023-01-05T12:02:55.048215Z"
    }
   },
   "outputs": [
    {
     "data": {
      "text/plain": [
       "['VPact_24',\n",
       " 'VPact_72',\n",
       " 'VPmax_72',\n",
       " 'concentracion_vapor_agua_144',\n",
       " 'concentracion_vapor_agua_24',\n",
       " 'concentracion_vapor_agua_48',\n",
       " 'hora',\n",
       " 'humedad_especifica_48',\n",
       " 'max_valocidad_viento_24',\n",
       " 'presion_24',\n",
       " 'presion_48',\n",
       " 'presion_72',\n",
       " 'rho_48',\n",
       " 'rho_96',\n",
       " 'temperaturaDew_144',\n",
       " 'temperaturaDew_48',\n",
       " 'temperaturaDew_72',\n",
       " 'temperatura_48']"
      ]
     },
     "execution_count": 67,
     "metadata": {},
     "output_type": "execute_result"
    }
   ],
   "source": [
    "selected_features_pimp = sorted(list(X_train.columns[sel.get_support()]))\n",
    "selected_features_pimp"
   ]
  },
  {
   "cell_type": "code",
   "execution_count": 68,
   "metadata": {
    "ExecuteTime": {
     "end_time": "2023-01-05T12:02:55.094572Z",
     "start_time": "2023-01-05T12:02:55.062374Z"
    }
   },
   "outputs": [],
   "source": [
    "dict_results_pimp = {'rmse':[], 'mae':[], 'r2':[]}"
   ]
  },
  {
   "cell_type": "code",
   "execution_count": 69,
   "metadata": {
    "ExecuteTime": {
     "end_time": "2023-01-05T12:08:57.394061Z",
     "start_time": "2023-01-05T12:02:55.099562Z"
    },
    "scrolled": true
   },
   "outputs": [
    {
     "name": "stdout",
     "output_type": "stream",
     "text": [
      "0\n",
      "1\n",
      "2\n",
      "3\n",
      "4\n",
      "5\n",
      "6\n",
      "7\n",
      "8\n",
      "9\n",
      "10\n",
      "11\n",
      "12\n",
      "13\n",
      "14\n",
      "15\n",
      "16\n",
      "17\n",
      "18\n",
      "19\n",
      "20\n",
      "21\n",
      "22\n",
      "23\n",
      "24\n",
      "25\n",
      "26\n",
      "27\n",
      "28\n",
      "29\n",
      "30\n",
      "31\n",
      "32\n",
      "33\n",
      "34\n",
      "35\n",
      "36\n",
      "37\n",
      "38\n",
      "39\n",
      "40\n",
      "41\n",
      "42\n",
      "43\n",
      "44\n",
      "45\n",
      "46\n",
      "47\n",
      "48\n",
      "49\n"
     ]
    }
   ],
   "source": [
    "X_test_pimp = X_test[selected_features_pimp]\n",
    "X_train_pimp = X_train[selected_features_pimp]\n",
    "X_val_pimp = X_val[selected_features_pimp]\n",
    "for iteration in range(50):\n",
    "    print(iteration)\n",
    "    model = CatBoostRegressor(verbose=0, n_estimators=250,use_best_model=True, random_seed=seeds[iteration])\n",
    "    model.fit(\n",
    "        X_train_pimp, y_train,\n",
    "        eval_set=(X_val_pimp, y_val),\n",
    "        verbose = 0,\n",
    "        plot=False\n",
    "    );\n",
    "    \n",
    "    test_results = scores_calc_print(y_test, model.predict(X_test_pimp), print_bool=False)\n",
    "    \n",
    "    dict_results_pimp[\"r2\"].append(test_results[\"R2\"])\n",
    "    dict_results_pimp[\"rmse\"].append(test_results[\"RMSE\"])\n",
    "    dict_results_pimp[\"mae\"].append(test_results[\"MAE\"])"
   ]
  },
  {
   "cell_type": "code",
   "execution_count": 70,
   "metadata": {
    "ExecuteTime": {
     "end_time": "2023-01-05T12:08:57.409486Z",
     "start_time": "2023-01-05T12:08:57.398220Z"
    }
   },
   "outputs": [],
   "source": [
    "results_pimp_df = pd.DataFrame(dict_results_pimp)\n",
    "mean_pimp_test = results_pimp_df.mean()\n",
    "std_pimp_test = results_pimp_df.std()\n",
    "max_pimp_test = results_pimp_df.max()\n",
    "min_pimp_test = results_pimp_df.min()"
   ]
  },
  {
   "cell_type": "code",
   "execution_count": 71,
   "metadata": {
    "ExecuteTime": {
     "end_time": "2023-01-05T12:08:57.448574Z",
     "start_time": "2023-01-05T12:08:57.414243Z"
    },
    "scrolled": true
   },
   "outputs": [
    {
     "data": {
      "text/plain": [
       "(rmse    1.406439\n",
       " mae     1.045242\n",
       " r2      0.162557\n",
       " dtype: float64,\n",
       " rmse    0.007341\n",
       " mae     0.003848\n",
       " r2      0.008783\n",
       " dtype: float64,\n",
       " rmse    1.435925\n",
       " mae     1.060802\n",
       " r2      0.174084\n",
       " dtype: float64,\n",
       " rmse    1.396744\n",
       " mae     1.040274\n",
       " r2      0.127097\n",
       " dtype: float64)"
      ]
     },
     "execution_count": 71,
     "metadata": {},
     "output_type": "execute_result"
    }
   ],
   "source": [
    "mean_pimp_test, std_pimp_test, max_pimp_test, min_pimp_test"
   ]
  },
  {
   "cell_type": "markdown",
   "metadata": {},
   "source": [
    "# Results"
   ]
  },
  {
   "cell_type": "code",
   "execution_count": 72,
   "metadata": {
    "ExecuteTime": {
     "end_time": "2023-01-05T12:08:57.471281Z",
     "start_time": "2023-01-05T12:08:57.451937Z"
    }
   },
   "outputs": [],
   "source": [
    "nombres = ['Lasso_0.001', 'Lasso_0.0001', 'Lasso_0.00001', 'Boruta', 'PIMP']"
   ]
  },
  {
   "cell_type": "markdown",
   "metadata": {},
   "source": [
    "## MAE"
   ]
  },
  {
   "cell_type": "code",
   "execution_count": 73,
   "metadata": {
    "ExecuteTime": {
     "end_time": "2023-01-05T12:08:57.485587Z",
     "start_time": "2023-01-05T12:08:57.476647Z"
    }
   },
   "outputs": [],
   "source": [
    "resultados_mae_mean = [mean_lasso_0001_test['mae'], mean_lasso_00001_test['mae'], mean_lasso_000001_test['mae'], mean_boruta_test['mae'], mean_pimp_test['mae']]\n",
    "resultados_mae_std = [std_lasso_0001_test['mae'], std_lasso_00001_test['mae'], std_lasso_000001_test['mae'], std_boruta_test['mae'], std_pimp_test['mae']]\n",
    "resultados_mae_max = [max_lasso_0001_test['mae'], max_lasso_00001_test['mae'], max_lasso_000001_test['mae'], max_boruta_test['mae'], max_pimp_test['mae']]\n",
    "resultados_mae_min = [min_lasso_0001_test['mae'], min_lasso_00001_test['mae'], min_lasso_000001_test['mae'], min_boruta_test['mae'], min_pimp_test['mae']]"
   ]
  },
  {
   "cell_type": "code",
   "execution_count": 82,
   "metadata": {
    "ExecuteTime": {
     "end_time": "2023-01-05T12:14:40.480306Z",
     "start_time": "2023-01-05T12:14:40.324493Z"
    },
    "scrolled": false
   },
   "outputs": [
    {
     "data": {
      "text/plain": [
       "(1.02, 1.07)"
      ]
     },
     "execution_count": 82,
     "metadata": {},
     "output_type": "execute_result"
    },
    {
     "data": {
      "image/png": "[encoded data removed]",
      "text/plain": [
       "<Figure size 2000x1000 with 1 Axes>"
      ]
     },
     "metadata": {},
     "output_type": "display_data"
    }
   ],
   "source": [
    "fig, ax = plt.subplots(1, 1, figsize = (20, 10))\n",
    "ax.bar(nombres, resultados_mae_mean, alpha = 0.7, width=0.3)\n",
    "ax.errorbar(nombres, resultados_mae_mean, resultados_mae_std, fmt='.', color='Black', elinewidth=2,capthick=10,errorevery=1, alpha=0.5, ms=4, capsize = 2)\n",
    "ax.plot(nombres, resultados_mae_max, color='red', alpha=0.8, linestyle='-', marker='.', markersize=10)\n",
    "ax.plot(nombres, resultados_mae_min, color='lime', alpha=0.8, linestyle='-', marker='.', markersize=10)\n",
    "ax.yaxis.grid(True,linestyle='--')\n",
    "ax.xaxis.grid(False)\n",
    "ax.title.set_text(\"MAE\")\n",
    "ax.title.set_size(15)\n",
    "for index,data in enumerate(resultados_mae_mean):\n",
    "    ax.text(x=index , y =data+0.001 , s=f\"{round(data, 3)}\" , fontdict=dict(fontsize=10), ha='center')\n",
    "ax.set_ylim([1.02, 1.07])\n"
   ]
  },
  {
   "cell_type": "markdown",
   "metadata": {},
   "source": [
    "## RMSE"
   ]
  },
  {
   "cell_type": "code",
   "execution_count": 75,
   "metadata": {
    "ExecuteTime": {
     "end_time": "2023-01-05T12:08:57.999872Z",
     "start_time": "2023-01-05T12:08:57.988610Z"
    }
   },
   "outputs": [],
   "source": [
    "resultados_rmse_mean = [mean_lasso_0001_test['rmse'], mean_lasso_00001_test['rmse'], mean_lasso_000001_test['rmse'], mean_boruta_test['rmse'], mean_pimp_test['rmse']]\n",
    "resultados_rmse_std = [std_lasso_0001_test['rmse'], std_lasso_00001_test['rmse'], std_lasso_000001_test['rmse'], std_boruta_test['rmse'], std_pimp_test['rmse']]\n",
    "resultados_rmse_max = [max_lasso_0001_test['rmse'], max_lasso_00001_test['rmse'], max_lasso_000001_test['rmse'], max_boruta_test['rmse'], max_pimp_test['rmse']]\n",
    "resultados_rmse_min = [min_lasso_0001_test['rmse'], min_lasso_00001_test['rmse'], min_lasso_000001_test['rmse'], min_boruta_test['rmse'], min_pimp_test['rmse']]"
   ]
  },
  {
   "cell_type": "code",
   "execution_count": 85,
   "metadata": {
    "ExecuteTime": {
     "end_time": "2023-01-05T12:14:53.191512Z",
     "start_time": "2023-01-05T12:14:53.039628Z"
    },
    "scrolled": false
   },
   "outputs": [
    {
     "data": {
      "text/plain": [
       "(1.38, 1.44)"
      ]
     },
     "execution_count": 85,
     "metadata": {},
     "output_type": "execute_result"
    },
    {
     "data": {
      "image/png": "[encoded data removed]",
      "text/plain": [
       "<Figure size 2000x1000 with 1 Axes>"
      ]
     },
     "metadata": {},
     "output_type": "display_data"
    }
   ],
   "source": [
    "fig, ax = plt.subplots(1, 1, figsize = (20, 10))\n",
    "ax.bar(nombres, resultados_rmse_mean, alpha = 0.7, width=0.3)\n",
    "ax.errorbar(nombres, resultados_rmse_mean, resultados_rmse_std, fmt='.', color='Black', elinewidth=2,capthick=10,errorevery=1, alpha=0.5, ms=4, capsize = 2)\n",
    "ax.plot(nombres, resultados_rmse_max, color='red', alpha=0.8, linestyle='-', marker='.', markersize=10)\n",
    "ax.plot(nombres, resultados_rmse_min, color='lime', alpha=0.8, linestyle='-', marker='.', markersize=10)\n",
    "ax.yaxis.grid(True,linestyle='--')\n",
    "ax.xaxis.grid(False)\n",
    "ax.title.set_text(\"RMSE\")\n",
    "ax.title.set_size(15)\n",
    "for index,data in enumerate(resultados_rmse_mean):\n",
    "    ax.text(x=index , y =data+0.001 , s=f\"{round(data, 3)}\" , fontdict=dict(fontsize=10), ha='center')\n",
    "ax.set_ylim([1.38, 1.44])"
   ]
  },
  {
   "cell_type": "markdown",
   "metadata": {},
   "source": [
    "## R2"
   ]
  },
  {
   "cell_type": "code",
   "execution_count": 77,
   "metadata": {
    "ExecuteTime": {
     "end_time": "2023-01-05T12:08:58.445740Z",
     "start_time": "2023-01-05T12:08:58.422764Z"
    }
   },
   "outputs": [],
   "source": [
    "resultados_r2_mean = [mean_lasso_0001_test['r2'], mean_lasso_00001_test['r2'], mean_lasso_000001_test['r2'], mean_boruta_test['r2'], mean_pimp_test['r2']]\n",
    "resultados_r2_std = [std_lasso_0001_test['r2'], std_lasso_00001_test['r2'], std_lasso_000001_test['r2'], std_boruta_test['r2'], std_pimp_test['r2']]\n",
    "resultados_r2_max = [max_lasso_0001_test['r2'], max_lasso_00001_test['r2'], max_lasso_000001_test['r2'], max_boruta_test['r2'], max_pimp_test['r2']]\n",
    "resultados_r2_min = [min_lasso_0001_test['r2'], min_lasso_00001_test['r2'], min_lasso_000001_test['r2'], min_boruta_test['r2'], min_pimp_test['r2']]"
   ]
  },
  {
   "cell_type": "code",
   "execution_count": 78,
   "metadata": {
    "ExecuteTime": {
     "end_time": "2023-01-05T12:08:58.463354Z",
     "start_time": "2023-01-05T12:08:58.447468Z"
    }
   },
   "outputs": [
    {
     "data": {
      "text/plain": [
       "([0.18034979849744304,\n",
       "  0.17844635829926037,\n",
       "  0.17536719863187222,\n",
       "  0.17618081071336977,\n",
       "  0.17408414933067073],\n",
       " [0.17379797924972784,\n",
       "  0.15467549221963506,\n",
       "  0.16123265551084087,\n",
       "  0.16231982882030294,\n",
       "  0.12709740094272115])"
      ]
     },
     "execution_count": 78,
     "metadata": {},
     "output_type": "execute_result"
    }
   ],
   "source": [
    "resultados_r2_max, resultados_r2_min"
   ]
  },
  {
   "cell_type": "code",
   "execution_count": 86,
   "metadata": {
    "ExecuteTime": {
     "end_time": "2023-01-05T12:15:05.405774Z",
     "start_time": "2023-01-05T12:15:05.248974Z"
    }
   },
   "outputs": [
    {
     "data": {
      "text/plain": [
       "(0.12, 0.19)"
      ]
     },
     "execution_count": 86,
     "metadata": {},
     "output_type": "execute_result"
    },
    {
     "data": {
      "image/png": "[encoded data removed]",
      "text/plain": [
       "<Figure size 2000x1000 with 1 Axes>"
      ]
     },
     "metadata": {},
     "output_type": "display_data"
    }
   ],
   "source": [
    "fig, ax = plt.subplots(1, 1, figsize = (20, 10))\n",
    "ax.bar(nombres, resultados_r2_mean, alpha = 0.7, width=0.3)\n",
    "ax.errorbar(nombres, resultados_r2_mean, resultados_r2_std, fmt='.', color='Black', elinewidth=2,capthick=10,errorevery=1, alpha=0.5, ms=4, capsize = 2)\n",
    "ax.plot(nombres, resultados_r2_max, color='lime', alpha=0.8, linestyle='-', marker='.', markersize=10)\n",
    "ax.plot(nombres, resultados_r2_min, color='red', alpha=0.8, linestyle='-', marker='.', markersize=10)\n",
    "ax.yaxis.grid(True,linestyle='--')\n",
    "ax.xaxis.grid(False)\n",
    "ax.title.set_text(\"R2\")\n",
    "ax.title.set_size(15)\n",
    "for index,data in enumerate(resultados_r2_mean):\n",
    "    ax.text(x=index , y =data+0.001 , s=f\"{round(data, 3)}\" , fontdict=dict(fontsize=10), ha='center')\n",
    "ax.set_ylim([0.12, 0.19])"
   ]
  },
  {
   "cell_type": "markdown",
   "metadata": {},
   "source": [
    "## Number of variables"
   ]
  },
  {
   "cell_type": "code",
   "execution_count": 80,
   "metadata": {
    "ExecuteTime": {
     "end_time": "2023-01-05T12:08:58.930939Z",
     "start_time": "2023-01-05T12:08:58.919447Z"
    }
   },
   "outputs": [],
   "source": [
    "n_var = [len(features_lasso_0001), len(features_lasso_00001), len(features_lasso_000001), len(selected_features_boruta), len(selected_features_pimp)]"
   ]
  },
  {
   "cell_type": "code",
   "execution_count": 81,
   "metadata": {
    "ExecuteTime": {
     "end_time": "2023-01-05T12:08:59.323262Z",
     "start_time": "2023-01-05T12:08:58.935213Z"
    }
   },
   "outputs": [
    {
     "data": {
      "text/plain": [
       "(0.0, 60.0)"
      ]
     },
     "execution_count": 81,
     "metadata": {},
     "output_type": "execute_result"
    },
    {
     "data": {
      "image/png": "[encoded data removed]",
      "text/plain": [
       "<Figure size 2000x1000 with 1 Axes>"
      ]
     },
     "metadata": {},
     "output_type": "display_data"
    }
   ],
   "source": [
    "fig, ax = plt.subplots(1, 1, figsize = (20, 10))\n",
    "bars = ax.bar(nombres, n_var, alpha = 0.7, width=0.3)\n",
    "ax.yaxis.grid(True,linestyle='--')\n",
    "ax.xaxis.grid(False)\n",
    "ax.title.set_text(\"N Var\")\n",
    "ax.title.set_size(15)\n",
    "for index,data in enumerate(n_var):\n",
    "    ax.text(x=index , y =data+0.01 , s=f\"{round(data, 3)}\" , fontdict=dict(fontsize=10), ha='center')\n",
    "ax.set_ylim([0, 60])"
   ]
  },
  {
   "cell_type": "code",
   "execution_count": null,
   "metadata": {},
   "outputs": [],
   "source": []
  },
  {
   "cell_type": "code",
   "execution_count": null,
   "metadata": {},
   "outputs": [],
   "source": []
  }
 ],
 "metadata": {
  "kernelspec": {
   "display_name": "BrainEN_v1",
   "language": "python",
   "name": "brainen_v1"
  },
  "language_info": {
   "codemirror_mode": {
    "name": "ipython",
    "version": 3
   },
   "file_extension": ".py",
   "mimetype": "text/x-python",
   "name": "python",
   "nbconvert_exporter": "python",
   "pygments_lexer": "ipython3",
   "version": "3.9.7"
  }
 },
 "nbformat": 4,
 "nbformat_minor": 4
}
