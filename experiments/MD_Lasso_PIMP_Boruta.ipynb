{
 "cells": [
  {
   "cell_type": "markdown",
   "metadata": {},
   "source": [
    "### Libraries and functions"
   ]
  },
  {
   "cell_type": "code",
   "execution_count": 1,
   "metadata": {
    "ExecuteTime": {
     "end_time": "2023-01-05T10:33:13.493427Z",
     "start_time": "2023-01-05T10:33:02.927932Z"
    }
   },
   "outputs": [
    {
     "name": "stderr",
     "output_type": "stream",
     "text": [
      "C:\\Users\\csebastian\\.conda\\envs\\BrainEN_v1\\lib\\site-packages\\tqdm\\auto.py:22: TqdmWarning: IProgress not found. Please update jupyter and ipywidgets. See https://ipywidgets.readthedocs.io/en/stable/user_install.html\n",
      "  from .autonotebook import tqdm as notebook_tqdm\n"
     ]
    }
   ],
   "source": [
    "import pandas as pd\n",
    "import numpy as np\n",
    "from catboost import CatBoostRegressor\n",
    "from sklearn.model_selection import train_test_split\n",
    "from sklearn.metrics import r2_score,mean_squared_error, mean_absolute_error\n",
    "from sklearn.preprocessing import MinMaxScaler\n",
    "from sklearn.linear_model import Lasso\n",
    "from tabulate import tabulate\n",
    "import seaborn as sns\n",
    "import matplotlib.pyplot as plt\n",
    "from BorutaShap import BorutaShap\n",
    "from powershap  import PowerShap\n",
    "import shapicant\n",
    "from tqdm import tqdm\n",
    "from SHAPEffects import FeatureSelector\n",
    "import random\n",
    "import shap\n",
    "import os\n",
    "import sys\n",
    "from eli5.sklearn import PermutationImportance\n",
    "from sklearn.feature_selection import SelectFromModel\n",
    "os.environ['PYTHONHASHSEED'] = str(1234)\n",
    "random.seed(1234)\n",
    "np.random.seed(1234)\n",
    "plt.style.use('seaborn-whitegrid')\n",
    "plt.rcParams['font.family'] = 'serif'"
   ]
  },
  {
   "cell_type": "code",
   "execution_count": 2,
   "metadata": {
    "ExecuteTime": {
     "end_time": "2023-01-05T10:33:13.531373Z",
     "start_time": "2023-01-05T10:33:13.499219Z"
    }
   },
   "outputs": [],
   "source": [
    "# Taken from PowerSHAP paper\n",
    "def scores_calc_print(Y,Y_pred,print_bool):\n",
    "    if len(Y_pred) > 1:\n",
    "        R2_total = r2_score(Y,Y_pred)\n",
    "    else:\n",
    "        R2_total = -1\n",
    "    RMSE_total = mean_squared_error(Y,Y_pred, squared=False)\n",
    "    MAE_total = mean_absolute_error(Y,Y_pred)\n",
    "    \n",
    "    if print_bool:\n",
    "        print(tabulate([[RMSE_total, MAE_total,R2_total]], [\"RMSE\",\"MAE\",\"R²\"], tablefmt=\"grid\"))\n",
    "    else:\n",
    "        return {\"R2\":R2_total,\"RMSE\":RMSE_total,\"MAE\":MAE_total}"
   ]
  },
  {
   "cell_type": "markdown",
   "metadata": {},
   "source": [
    "### Data"
   ]
  },
  {
   "cell_type": "code",
   "execution_count": 3,
   "metadata": {
    "ExecuteTime": {
     "end_time": "2023-01-05T10:33:25.498172Z",
     "start_time": "2023-01-05T10:33:13.536621Z"
    }
   },
   "outputs": [],
   "source": [
    "current_db = pd.read_csv(r\"Data/datos_2019_v0.csv\", index_col = 0)\n",
    "# current_db = current_db.reset_index()\n",
    "current_db['fecha_completa'] = pd.to_datetime(current_db.fecha_completa)\n",
    "\n",
    "Index_col = \"fecha_completa\"\n",
    "target_col = \"md_espana\"\n",
    "\n",
    "current_db = current_db.reset_index(drop=True)"
   ]
  },
  {
   "cell_type": "code",
   "execution_count": 4,
   "metadata": {
    "ExecuteTime": {
     "end_time": "2023-01-05T10:33:25.515450Z",
     "start_time": "2023-01-05T10:33:25.504072Z"
    }
   },
   "outputs": [],
   "source": [
    "current_db['hora'] = current_db.fecha_completa.dt.hour"
   ]
  },
  {
   "cell_type": "code",
   "execution_count": 5,
   "metadata": {
    "ExecuteTime": {
     "end_time": "2023-01-05T10:33:27.050308Z",
     "start_time": "2023-01-05T10:33:25.520804Z"
    }
   },
   "outputs": [
    {
     "data": {
      "text/plain": [
       "['fecha',\n",
       " 'hora',\n",
       " 'pbf_hidraulica_ugh',\n",
       " 'pbf_hidraulica_no_ugh',\n",
       " 'pbf_nuclear',\n",
       " 'pbf_ciclo_combinado',\n",
       " 'pbf_eolica_terrestre',\n",
       " 'pbf_solar_fotovoltaica',\n",
       " 'pbf_solar_termica',\n",
       " 'pbf_biomasa',\n",
       " 'pbf_biogas',\n",
       " 'potencia_indisponible_de_generacion_en_pbf',\n",
       " 'capacidad_intercambio_francia_importacion',\n",
       " 'capacidad_intercambio_francia_exportacion',\n",
       " 'prevision_de_la_produccion_eolica',\n",
       " 'generacion_prevista_solar_fotovoltaica',\n",
       " 'generacion_prevista_solar_termica',\n",
       " 'demanda_prevista',\n",
       " 'demanda_programada',\n",
       " 'md_espana',\n",
       " 'mi1_espana',\n",
       " 'mi2_espana',\n",
       " 'mi3_espana',\n",
       " 'asignacion_banda_de_regulacion_secundaria_a_subir',\n",
       " 'asignacion_banda_de_regulacion_secundaria_a_bajar',\n",
       " 'precio_banda_de_regulacion_secundaria',\n",
       " 'asignacion_gestion_de_desvios_subir',\n",
       " 'asignacion_gestion_de_desvios_bajar',\n",
       " 'asignacion_regulacion_terciaria_subir',\n",
       " 'precio_regulacion_terciaria_bajar',\n",
       " 'precio_regulacion_terciaria_subir',\n",
       " 'energia_utilizada_de_regulacion_secundaria_subir',\n",
       " 'energia_utilizada_de_regulacion_secundaria_bajar',\n",
       " 'precio_de_utilizacion_de_secundaria_subir',\n",
       " 'precio_de_utilizacion_de_secundaria_bajar',\n",
       " 'precio_de_los_desvios_medidos_a_subir',\n",
       " 'precio_de_los_desvios_medidos_a_bajar',\n",
       " 'demanda_real',\n",
       " 'desvios_generacion_demanda',\n",
       " 'energia_asignada_en_spot_intradiario',\n",
       " 'intercambio_comercial_francia_importacion',\n",
       " 'intercambio_comercial_francia_exportacion',\n",
       " 'prevision_de_la_demanda_residual',\n",
       " 'pbf_total',\n",
       " 'pbf_demanda',\n",
       " 'pbf_generacion',\n",
       " 'pbf_saldo_francia',\n",
       " 'md_francia',\n",
       " 'volumen_mic',\n",
       " 'potencia_disponible_nuclear',\n",
       " 'prevision_eolica_diaria_d1',\n",
       " 'prevision_eolica_intradia_h3',\n",
       " 'prevision_renovable_diaria_d1',\n",
       " 'prevision_renovable_intradia_h3',\n",
       " 'prevision_fotovoltaica_intradia_h3',\n",
       " 'asignacion_regulacion_terciaria_bajar',\n",
       " 'prevision_h3_demanda',\n",
       " 'phfc_demanda_programada',\n",
       " 'coste_asignacion_de_banda_secundaria',\n",
       " 'pbf_cogeneracion',\n",
       " 'pbf_residuos',\n",
       " 'generacion_treal_eolica',\n",
       " 'generacion_treal_solar_termica',\n",
       " 'generacion_treal_solar_fotovoltaica',\n",
       " 'prevision_diaria_d1_demanda',\n",
       " 'phf3_eolica_terrestre',\n",
       " 'phf3_solar_fotovoltaica',\n",
       " 'fecha_completa',\n",
       " 'tempesp',\n",
       " 'tempespnorm',\n",
       " 'pmd',\n",
       " 'dia_semana',\n",
       " 'Lunes',\n",
       " 'Martes',\n",
       " 'Miercoles',\n",
       " 'Jueves',\n",
       " 'Viernes',\n",
       " 'Sabado',\n",
       " 'Domingo',\n",
       " 'error_prevision_demanda_1d',\n",
       " 'error_prevision_demanda_3h',\n",
       " 'error_prevision_eolica_1d',\n",
       " 'error_prevision_eolica_3h',\n",
       " 'error_prevision_fotovoltaica_1d',\n",
       " 'error_prevision_fotovoltaica_3h',\n",
       " 'variacion_prevision_demanda',\n",
       " 'variacion_prevision_eolica',\n",
       " 'variacion_prevision_fotovoltaica',\n",
       " 'error_prevision_demanda_1d_casacion',\n",
       " 'error_prevision_demanda_3h_casacion',\n",
       " 'error_prevision_eolica_1d_casacion',\n",
       " 'error_prevision_eolica_3h_casacion',\n",
       " 'error_prevision_fotovoltaica_1d_casacion',\n",
       " 'error_prevision_fotovoltaica_3h_casacion',\n",
       " 'rampa_eolica',\n",
       " 'precio_petroleo',\n",
       " 'precio_gas',\n",
       " 'precio_carbon',\n",
       " 'precio_co2',\n",
       " 'hora_3',\n",
       " 'hora_24',\n",
       " 'hora_48',\n",
       " 'hora_72',\n",
       " 'hora_96',\n",
       " 'hora_120',\n",
       " 'hora_144',\n",
       " 'hora_168',\n",
       " 'pbf_hidraulica_ugh_3',\n",
       " 'pbf_hidraulica_ugh_24',\n",
       " 'pbf_hidraulica_ugh_48',\n",
       " 'pbf_hidraulica_ugh_72',\n",
       " 'pbf_hidraulica_ugh_96',\n",
       " 'pbf_hidraulica_ugh_120',\n",
       " 'pbf_hidraulica_ugh_144',\n",
       " 'pbf_hidraulica_ugh_168',\n",
       " 'pbf_hidraulica_no_ugh_3',\n",
       " 'pbf_hidraulica_no_ugh_24',\n",
       " 'pbf_hidraulica_no_ugh_48',\n",
       " 'pbf_hidraulica_no_ugh_72',\n",
       " 'pbf_hidraulica_no_ugh_96',\n",
       " 'pbf_hidraulica_no_ugh_120',\n",
       " 'pbf_hidraulica_no_ugh_144',\n",
       " 'pbf_hidraulica_no_ugh_168',\n",
       " 'pbf_nuclear_3',\n",
       " 'pbf_nuclear_24',\n",
       " 'pbf_nuclear_48',\n",
       " 'pbf_nuclear_72',\n",
       " 'pbf_nuclear_96',\n",
       " 'pbf_nuclear_120',\n",
       " 'pbf_nuclear_144',\n",
       " 'pbf_nuclear_168',\n",
       " 'pbf_ciclo_combinado_3',\n",
       " 'pbf_ciclo_combinado_24',\n",
       " 'pbf_ciclo_combinado_48',\n",
       " 'pbf_ciclo_combinado_72',\n",
       " 'pbf_ciclo_combinado_96',\n",
       " 'pbf_ciclo_combinado_120',\n",
       " 'pbf_ciclo_combinado_144',\n",
       " 'pbf_ciclo_combinado_168',\n",
       " 'pbf_eolica_terrestre_3',\n",
       " 'pbf_eolica_terrestre_24',\n",
       " 'pbf_eolica_terrestre_48',\n",
       " 'pbf_eolica_terrestre_72',\n",
       " 'pbf_eolica_terrestre_96',\n",
       " 'pbf_eolica_terrestre_120',\n",
       " 'pbf_eolica_terrestre_144',\n",
       " 'pbf_eolica_terrestre_168',\n",
       " 'pbf_solar_fotovoltaica_3',\n",
       " 'pbf_solar_fotovoltaica_24',\n",
       " 'pbf_solar_fotovoltaica_48',\n",
       " 'pbf_solar_fotovoltaica_72',\n",
       " 'pbf_solar_fotovoltaica_96',\n",
       " 'pbf_solar_fotovoltaica_120',\n",
       " 'pbf_solar_fotovoltaica_144',\n",
       " 'pbf_solar_fotovoltaica_168',\n",
       " 'pbf_solar_termica_3',\n",
       " 'pbf_solar_termica_24',\n",
       " 'pbf_solar_termica_48',\n",
       " 'pbf_solar_termica_72',\n",
       " 'pbf_solar_termica_96',\n",
       " 'pbf_solar_termica_120',\n",
       " 'pbf_solar_termica_144',\n",
       " 'pbf_solar_termica_168',\n",
       " 'pbf_biomasa_3',\n",
       " 'pbf_biomasa_24',\n",
       " 'pbf_biomasa_48',\n",
       " 'pbf_biomasa_72',\n",
       " 'pbf_biomasa_96',\n",
       " 'pbf_biomasa_120',\n",
       " 'pbf_biomasa_144',\n",
       " 'pbf_biomasa_168',\n",
       " 'pbf_biogas_3',\n",
       " 'pbf_biogas_24',\n",
       " 'pbf_biogas_48',\n",
       " 'pbf_biogas_72',\n",
       " 'pbf_biogas_96',\n",
       " 'pbf_biogas_120',\n",
       " 'pbf_biogas_144',\n",
       " 'pbf_biogas_168',\n",
       " 'potencia_indisponible_de_generacion_en_pbf_3',\n",
       " 'potencia_indisponible_de_generacion_en_pbf_24',\n",
       " 'potencia_indisponible_de_generacion_en_pbf_48',\n",
       " 'potencia_indisponible_de_generacion_en_pbf_72',\n",
       " 'potencia_indisponible_de_generacion_en_pbf_96',\n",
       " 'potencia_indisponible_de_generacion_en_pbf_120',\n",
       " 'potencia_indisponible_de_generacion_en_pbf_144',\n",
       " 'potencia_indisponible_de_generacion_en_pbf_168',\n",
       " 'capacidad_intercambio_francia_importacion_3',\n",
       " 'capacidad_intercambio_francia_importacion_24',\n",
       " 'capacidad_intercambio_francia_importacion_48',\n",
       " 'capacidad_intercambio_francia_importacion_72',\n",
       " 'capacidad_intercambio_francia_importacion_96',\n",
       " 'capacidad_intercambio_francia_importacion_120',\n",
       " 'capacidad_intercambio_francia_importacion_144',\n",
       " 'capacidad_intercambio_francia_importacion_168',\n",
       " 'capacidad_intercambio_francia_exportacion_3',\n",
       " 'capacidad_intercambio_francia_exportacion_24',\n",
       " 'capacidad_intercambio_francia_exportacion_48',\n",
       " 'capacidad_intercambio_francia_exportacion_72',\n",
       " 'capacidad_intercambio_francia_exportacion_96',\n",
       " 'capacidad_intercambio_francia_exportacion_120',\n",
       " 'capacidad_intercambio_francia_exportacion_144',\n",
       " 'capacidad_intercambio_francia_exportacion_168',\n",
       " 'prevision_de_la_produccion_eolica_3',\n",
       " 'prevision_de_la_produccion_eolica_24',\n",
       " 'prevision_de_la_produccion_eolica_48',\n",
       " 'prevision_de_la_produccion_eolica_72',\n",
       " 'prevision_de_la_produccion_eolica_96',\n",
       " 'prevision_de_la_produccion_eolica_120',\n",
       " 'prevision_de_la_produccion_eolica_144',\n",
       " 'prevision_de_la_produccion_eolica_168',\n",
       " 'generacion_prevista_solar_fotovoltaica_3',\n",
       " 'generacion_prevista_solar_fotovoltaica_24',\n",
       " 'generacion_prevista_solar_fotovoltaica_48',\n",
       " 'generacion_prevista_solar_fotovoltaica_72',\n",
       " 'generacion_prevista_solar_fotovoltaica_96',\n",
       " 'generacion_prevista_solar_fotovoltaica_120',\n",
       " 'generacion_prevista_solar_fotovoltaica_144',\n",
       " 'generacion_prevista_solar_fotovoltaica_168',\n",
       " 'generacion_prevista_solar_termica_3',\n",
       " 'generacion_prevista_solar_termica_24',\n",
       " 'generacion_prevista_solar_termica_48',\n",
       " 'generacion_prevista_solar_termica_72',\n",
       " 'generacion_prevista_solar_termica_96',\n",
       " 'generacion_prevista_solar_termica_120',\n",
       " 'generacion_prevista_solar_termica_144',\n",
       " 'generacion_prevista_solar_termica_168',\n",
       " 'demanda_prevista_3',\n",
       " 'demanda_prevista_24',\n",
       " 'demanda_prevista_48',\n",
       " 'demanda_prevista_72',\n",
       " 'demanda_prevista_96',\n",
       " 'demanda_prevista_120',\n",
       " 'demanda_prevista_144',\n",
       " 'demanda_prevista_168',\n",
       " 'demanda_programada_3',\n",
       " 'demanda_programada_24',\n",
       " 'demanda_programada_48',\n",
       " 'demanda_programada_72',\n",
       " 'demanda_programada_96',\n",
       " 'demanda_programada_120',\n",
       " 'demanda_programada_144',\n",
       " 'demanda_programada_168',\n",
       " 'md_espana_3',\n",
       " 'md_espana_24',\n",
       " 'md_espana_48',\n",
       " 'md_espana_72',\n",
       " 'md_espana_96',\n",
       " 'md_espana_120',\n",
       " 'md_espana_144',\n",
       " 'md_espana_168',\n",
       " 'mi1_espana_3',\n",
       " 'mi1_espana_24',\n",
       " 'mi1_espana_48',\n",
       " 'mi1_espana_72',\n",
       " 'mi1_espana_96',\n",
       " 'mi1_espana_120',\n",
       " 'mi1_espana_144',\n",
       " 'mi1_espana_168',\n",
       " 'mi2_espana_3',\n",
       " 'mi2_espana_24',\n",
       " 'mi2_espana_48',\n",
       " 'mi2_espana_72',\n",
       " 'mi2_espana_96',\n",
       " 'mi2_espana_120',\n",
       " 'mi2_espana_144',\n",
       " 'mi2_espana_168',\n",
       " 'mi3_espana_3',\n",
       " 'mi3_espana_24',\n",
       " 'mi3_espana_48',\n",
       " 'mi3_espana_72',\n",
       " 'mi3_espana_96',\n",
       " 'mi3_espana_120',\n",
       " 'mi3_espana_144',\n",
       " 'mi3_espana_168',\n",
       " 'asignacion_banda_de_regulacion_secundaria_a_subir_3',\n",
       " 'asignacion_banda_de_regulacion_secundaria_a_subir_24',\n",
       " 'asignacion_banda_de_regulacion_secundaria_a_subir_48',\n",
       " 'asignacion_banda_de_regulacion_secundaria_a_subir_72',\n",
       " 'asignacion_banda_de_regulacion_secundaria_a_subir_96',\n",
       " 'asignacion_banda_de_regulacion_secundaria_a_subir_120',\n",
       " 'asignacion_banda_de_regulacion_secundaria_a_subir_144',\n",
       " 'asignacion_banda_de_regulacion_secundaria_a_subir_168',\n",
       " 'asignacion_banda_de_regulacion_secundaria_a_bajar_3',\n",
       " 'asignacion_banda_de_regulacion_secundaria_a_bajar_24',\n",
       " 'asignacion_banda_de_regulacion_secundaria_a_bajar_48',\n",
       " 'asignacion_banda_de_regulacion_secundaria_a_bajar_72',\n",
       " 'asignacion_banda_de_regulacion_secundaria_a_bajar_96',\n",
       " 'asignacion_banda_de_regulacion_secundaria_a_bajar_120',\n",
       " 'asignacion_banda_de_regulacion_secundaria_a_bajar_144',\n",
       " 'asignacion_banda_de_regulacion_secundaria_a_bajar_168',\n",
       " 'precio_banda_de_regulacion_secundaria_3',\n",
       " 'precio_banda_de_regulacion_secundaria_24',\n",
       " 'precio_banda_de_regulacion_secundaria_48',\n",
       " 'precio_banda_de_regulacion_secundaria_72',\n",
       " 'precio_banda_de_regulacion_secundaria_96',\n",
       " 'precio_banda_de_regulacion_secundaria_120',\n",
       " 'precio_banda_de_regulacion_secundaria_144',\n",
       " 'precio_banda_de_regulacion_secundaria_168',\n",
       " 'asignacion_gestion_de_desvios_subir_3',\n",
       " 'asignacion_gestion_de_desvios_subir_24',\n",
       " 'asignacion_gestion_de_desvios_subir_48',\n",
       " 'asignacion_gestion_de_desvios_subir_72',\n",
       " 'asignacion_gestion_de_desvios_subir_96',\n",
       " 'asignacion_gestion_de_desvios_subir_120',\n",
       " 'asignacion_gestion_de_desvios_subir_144',\n",
       " 'asignacion_gestion_de_desvios_subir_168',\n",
       " 'asignacion_gestion_de_desvios_bajar_3',\n",
       " 'asignacion_gestion_de_desvios_bajar_24',\n",
       " 'asignacion_gestion_de_desvios_bajar_48',\n",
       " 'asignacion_gestion_de_desvios_bajar_72',\n",
       " 'asignacion_gestion_de_desvios_bajar_96',\n",
       " 'asignacion_gestion_de_desvios_bajar_120',\n",
       " 'asignacion_gestion_de_desvios_bajar_144',\n",
       " 'asignacion_gestion_de_desvios_bajar_168',\n",
       " 'asignacion_regulacion_terciaria_subir_3',\n",
       " 'asignacion_regulacion_terciaria_subir_24',\n",
       " 'asignacion_regulacion_terciaria_subir_48',\n",
       " 'asignacion_regulacion_terciaria_subir_72',\n",
       " 'asignacion_regulacion_terciaria_subir_96',\n",
       " 'asignacion_regulacion_terciaria_subir_120',\n",
       " 'asignacion_regulacion_terciaria_subir_144',\n",
       " 'asignacion_regulacion_terciaria_subir_168',\n",
       " 'precio_regulacion_terciaria_bajar_3',\n",
       " 'precio_regulacion_terciaria_bajar_24',\n",
       " 'precio_regulacion_terciaria_bajar_48',\n",
       " 'precio_regulacion_terciaria_bajar_72',\n",
       " 'precio_regulacion_terciaria_bajar_96',\n",
       " 'precio_regulacion_terciaria_bajar_120',\n",
       " 'precio_regulacion_terciaria_bajar_144',\n",
       " 'precio_regulacion_terciaria_bajar_168',\n",
       " 'precio_regulacion_terciaria_subir_3',\n",
       " 'precio_regulacion_terciaria_subir_24',\n",
       " 'precio_regulacion_terciaria_subir_48',\n",
       " 'precio_regulacion_terciaria_subir_72',\n",
       " 'precio_regulacion_terciaria_subir_96',\n",
       " 'precio_regulacion_terciaria_subir_120',\n",
       " 'precio_regulacion_terciaria_subir_144',\n",
       " 'precio_regulacion_terciaria_subir_168',\n",
       " 'energia_utilizada_de_regulacion_secundaria_subir_3',\n",
       " 'energia_utilizada_de_regulacion_secundaria_subir_24',\n",
       " 'energia_utilizada_de_regulacion_secundaria_subir_48',\n",
       " 'energia_utilizada_de_regulacion_secundaria_subir_72',\n",
       " 'energia_utilizada_de_regulacion_secundaria_subir_96',\n",
       " 'energia_utilizada_de_regulacion_secundaria_subir_120',\n",
       " 'energia_utilizada_de_regulacion_secundaria_subir_144',\n",
       " 'energia_utilizada_de_regulacion_secundaria_subir_168',\n",
       " 'energia_utilizada_de_regulacion_secundaria_bajar_3',\n",
       " 'energia_utilizada_de_regulacion_secundaria_bajar_24',\n",
       " 'energia_utilizada_de_regulacion_secundaria_bajar_48',\n",
       " 'energia_utilizada_de_regulacion_secundaria_bajar_72',\n",
       " 'energia_utilizada_de_regulacion_secundaria_bajar_96',\n",
       " 'energia_utilizada_de_regulacion_secundaria_bajar_120',\n",
       " 'energia_utilizada_de_regulacion_secundaria_bajar_144',\n",
       " 'energia_utilizada_de_regulacion_secundaria_bajar_168',\n",
       " 'precio_de_utilizacion_de_secundaria_subir_3',\n",
       " 'precio_de_utilizacion_de_secundaria_subir_24',\n",
       " 'precio_de_utilizacion_de_secundaria_subir_48',\n",
       " 'precio_de_utilizacion_de_secundaria_subir_72',\n",
       " 'precio_de_utilizacion_de_secundaria_subir_96',\n",
       " 'precio_de_utilizacion_de_secundaria_subir_120',\n",
       " 'precio_de_utilizacion_de_secundaria_subir_144',\n",
       " 'precio_de_utilizacion_de_secundaria_subir_168',\n",
       " 'precio_de_utilizacion_de_secundaria_bajar_3',\n",
       " 'precio_de_utilizacion_de_secundaria_bajar_24',\n",
       " 'precio_de_utilizacion_de_secundaria_bajar_48',\n",
       " 'precio_de_utilizacion_de_secundaria_bajar_72',\n",
       " 'precio_de_utilizacion_de_secundaria_bajar_96',\n",
       " 'precio_de_utilizacion_de_secundaria_bajar_120',\n",
       " 'precio_de_utilizacion_de_secundaria_bajar_144',\n",
       " 'precio_de_utilizacion_de_secundaria_bajar_168',\n",
       " 'precio_de_los_desvios_medidos_a_subir_3',\n",
       " 'precio_de_los_desvios_medidos_a_subir_24',\n",
       " 'precio_de_los_desvios_medidos_a_subir_48',\n",
       " 'precio_de_los_desvios_medidos_a_subir_72',\n",
       " 'precio_de_los_desvios_medidos_a_subir_96',\n",
       " 'precio_de_los_desvios_medidos_a_subir_120',\n",
       " 'precio_de_los_desvios_medidos_a_subir_144',\n",
       " 'precio_de_los_desvios_medidos_a_subir_168',\n",
       " 'precio_de_los_desvios_medidos_a_bajar_3',\n",
       " 'precio_de_los_desvios_medidos_a_bajar_24',\n",
       " 'precio_de_los_desvios_medidos_a_bajar_48',\n",
       " 'precio_de_los_desvios_medidos_a_bajar_72',\n",
       " 'precio_de_los_desvios_medidos_a_bajar_96',\n",
       " 'precio_de_los_desvios_medidos_a_bajar_120',\n",
       " 'precio_de_los_desvios_medidos_a_bajar_144',\n",
       " 'precio_de_los_desvios_medidos_a_bajar_168',\n",
       " 'demanda_real_3',\n",
       " 'demanda_real_24',\n",
       " 'demanda_real_48',\n",
       " 'demanda_real_72',\n",
       " 'demanda_real_96',\n",
       " 'demanda_real_120',\n",
       " 'demanda_real_144',\n",
       " 'demanda_real_168',\n",
       " 'desvios_generacion_demanda_3',\n",
       " 'desvios_generacion_demanda_24',\n",
       " 'desvios_generacion_demanda_48',\n",
       " 'desvios_generacion_demanda_72',\n",
       " 'desvios_generacion_demanda_96',\n",
       " 'desvios_generacion_demanda_120',\n",
       " 'desvios_generacion_demanda_144',\n",
       " 'desvios_generacion_demanda_168',\n",
       " 'energia_asignada_en_spot_intradiario_3',\n",
       " 'energia_asignada_en_spot_intradiario_24',\n",
       " 'energia_asignada_en_spot_intradiario_48',\n",
       " 'energia_asignada_en_spot_intradiario_72',\n",
       " 'energia_asignada_en_spot_intradiario_96',\n",
       " 'energia_asignada_en_spot_intradiario_120',\n",
       " 'energia_asignada_en_spot_intradiario_144',\n",
       " 'energia_asignada_en_spot_intradiario_168',\n",
       " 'intercambio_comercial_francia_importacion_3',\n",
       " 'intercambio_comercial_francia_importacion_24',\n",
       " 'intercambio_comercial_francia_importacion_48',\n",
       " 'intercambio_comercial_francia_importacion_72',\n",
       " 'intercambio_comercial_francia_importacion_96',\n",
       " 'intercambio_comercial_francia_importacion_120',\n",
       " 'intercambio_comercial_francia_importacion_144',\n",
       " 'intercambio_comercial_francia_importacion_168',\n",
       " 'intercambio_comercial_francia_exportacion_3',\n",
       " 'intercambio_comercial_francia_exportacion_24',\n",
       " 'intercambio_comercial_francia_exportacion_48',\n",
       " 'intercambio_comercial_francia_exportacion_72',\n",
       " 'intercambio_comercial_francia_exportacion_96',\n",
       " 'intercambio_comercial_francia_exportacion_120',\n",
       " 'intercambio_comercial_francia_exportacion_144',\n",
       " 'intercambio_comercial_francia_exportacion_168',\n",
       " 'prevision_de_la_demanda_residual_3',\n",
       " 'prevision_de_la_demanda_residual_24',\n",
       " 'prevision_de_la_demanda_residual_48',\n",
       " 'prevision_de_la_demanda_residual_72',\n",
       " 'prevision_de_la_demanda_residual_96',\n",
       " 'prevision_de_la_demanda_residual_120',\n",
       " 'prevision_de_la_demanda_residual_144',\n",
       " 'prevision_de_la_demanda_residual_168',\n",
       " 'pbf_total_3',\n",
       " 'pbf_total_24',\n",
       " 'pbf_total_48',\n",
       " 'pbf_total_72',\n",
       " 'pbf_total_96',\n",
       " 'pbf_total_120',\n",
       " 'pbf_total_144',\n",
       " 'pbf_total_168',\n",
       " 'pbf_demanda_3',\n",
       " 'pbf_demanda_24',\n",
       " 'pbf_demanda_48',\n",
       " 'pbf_demanda_72',\n",
       " 'pbf_demanda_96',\n",
       " 'pbf_demanda_120',\n",
       " 'pbf_demanda_144',\n",
       " 'pbf_demanda_168',\n",
       " 'pbf_generacion_3',\n",
       " 'pbf_generacion_24',\n",
       " 'pbf_generacion_48',\n",
       " 'pbf_generacion_72',\n",
       " 'pbf_generacion_96',\n",
       " 'pbf_generacion_120',\n",
       " 'pbf_generacion_144',\n",
       " 'pbf_generacion_168',\n",
       " 'pbf_saldo_francia_3',\n",
       " 'pbf_saldo_francia_24',\n",
       " 'pbf_saldo_francia_48',\n",
       " 'pbf_saldo_francia_72',\n",
       " 'pbf_saldo_francia_96',\n",
       " 'pbf_saldo_francia_120',\n",
       " 'pbf_saldo_francia_144',\n",
       " 'pbf_saldo_francia_168',\n",
       " 'md_francia_3',\n",
       " 'md_francia_24',\n",
       " 'md_francia_48',\n",
       " 'md_francia_72',\n",
       " 'md_francia_96',\n",
       " 'md_francia_120',\n",
       " 'md_francia_144',\n",
       " 'md_francia_168',\n",
       " 'volumen_mic_3',\n",
       " 'volumen_mic_24',\n",
       " 'volumen_mic_48',\n",
       " 'volumen_mic_72',\n",
       " 'volumen_mic_96',\n",
       " 'volumen_mic_120',\n",
       " 'volumen_mic_144',\n",
       " 'volumen_mic_168',\n",
       " 'potencia_disponible_nuclear_3',\n",
       " 'potencia_disponible_nuclear_24',\n",
       " 'potencia_disponible_nuclear_48',\n",
       " 'potencia_disponible_nuclear_72',\n",
       " 'potencia_disponible_nuclear_96',\n",
       " 'potencia_disponible_nuclear_120',\n",
       " 'potencia_disponible_nuclear_144',\n",
       " 'potencia_disponible_nuclear_168',\n",
       " 'prevision_eolica_diaria_d1_3',\n",
       " 'prevision_eolica_diaria_d1_24',\n",
       " 'prevision_eolica_diaria_d1_48',\n",
       " 'prevision_eolica_diaria_d1_72',\n",
       " 'prevision_eolica_diaria_d1_96',\n",
       " 'prevision_eolica_diaria_d1_120',\n",
       " 'prevision_eolica_diaria_d1_144',\n",
       " 'prevision_eolica_diaria_d1_168',\n",
       " 'prevision_eolica_intradia_h3_3',\n",
       " 'prevision_eolica_intradia_h3_24',\n",
       " 'prevision_eolica_intradia_h3_48',\n",
       " 'prevision_eolica_intradia_h3_72',\n",
       " 'prevision_eolica_intradia_h3_96',\n",
       " 'prevision_eolica_intradia_h3_120',\n",
       " 'prevision_eolica_intradia_h3_144',\n",
       " 'prevision_eolica_intradia_h3_168',\n",
       " 'prevision_renovable_diaria_d1_3',\n",
       " 'prevision_renovable_diaria_d1_24',\n",
       " 'prevision_renovable_diaria_d1_48',\n",
       " 'prevision_renovable_diaria_d1_72',\n",
       " 'prevision_renovable_diaria_d1_96',\n",
       " 'prevision_renovable_diaria_d1_120',\n",
       " 'prevision_renovable_diaria_d1_144',\n",
       " 'prevision_renovable_diaria_d1_168',\n",
       " 'prevision_renovable_intradia_h3_3',\n",
       " 'prevision_renovable_intradia_h3_24',\n",
       " 'prevision_renovable_intradia_h3_48',\n",
       " 'prevision_renovable_intradia_h3_72',\n",
       " 'prevision_renovable_intradia_h3_96',\n",
       " 'prevision_renovable_intradia_h3_120',\n",
       " 'prevision_renovable_intradia_h3_144',\n",
       " 'prevision_renovable_intradia_h3_168',\n",
       " 'prevision_fotovoltaica_intradia_h3_3',\n",
       " 'prevision_fotovoltaica_intradia_h3_24',\n",
       " 'prevision_fotovoltaica_intradia_h3_48',\n",
       " 'prevision_fotovoltaica_intradia_h3_72',\n",
       " 'prevision_fotovoltaica_intradia_h3_96',\n",
       " 'prevision_fotovoltaica_intradia_h3_120',\n",
       " 'prevision_fotovoltaica_intradia_h3_144',\n",
       " 'prevision_fotovoltaica_intradia_h3_168',\n",
       " 'asignacion_regulacion_terciaria_bajar_3',\n",
       " 'asignacion_regulacion_terciaria_bajar_24',\n",
       " 'asignacion_regulacion_terciaria_bajar_48',\n",
       " 'asignacion_regulacion_terciaria_bajar_72',\n",
       " 'asignacion_regulacion_terciaria_bajar_96',\n",
       " 'asignacion_regulacion_terciaria_bajar_120',\n",
       " 'asignacion_regulacion_terciaria_bajar_144',\n",
       " 'asignacion_regulacion_terciaria_bajar_168',\n",
       " 'prevision_h3_demanda_3',\n",
       " 'prevision_h3_demanda_24',\n",
       " 'prevision_h3_demanda_48',\n",
       " 'prevision_h3_demanda_72',\n",
       " 'prevision_h3_demanda_96',\n",
       " 'prevision_h3_demanda_120',\n",
       " 'prevision_h3_demanda_144',\n",
       " 'prevision_h3_demanda_168',\n",
       " 'phfc_demanda_programada_3',\n",
       " 'phfc_demanda_programada_24',\n",
       " 'phfc_demanda_programada_48',\n",
       " 'phfc_demanda_programada_72',\n",
       " 'phfc_demanda_programada_96',\n",
       " 'phfc_demanda_programada_120',\n",
       " 'phfc_demanda_programada_144',\n",
       " 'phfc_demanda_programada_168',\n",
       " 'coste_asignacion_de_banda_secundaria_3',\n",
       " 'coste_asignacion_de_banda_secundaria_24',\n",
       " 'coste_asignacion_de_banda_secundaria_48',\n",
       " 'coste_asignacion_de_banda_secundaria_72',\n",
       " 'coste_asignacion_de_banda_secundaria_96',\n",
       " 'coste_asignacion_de_banda_secundaria_120',\n",
       " 'coste_asignacion_de_banda_secundaria_144',\n",
       " 'coste_asignacion_de_banda_secundaria_168',\n",
       " 'pbf_cogeneracion_3',\n",
       " 'pbf_cogeneracion_24',\n",
       " 'pbf_cogeneracion_48',\n",
       " 'pbf_cogeneracion_72',\n",
       " 'pbf_cogeneracion_96',\n",
       " 'pbf_cogeneracion_120',\n",
       " 'pbf_cogeneracion_144',\n",
       " 'pbf_cogeneracion_168',\n",
       " 'pbf_residuos_3',\n",
       " 'pbf_residuos_24',\n",
       " 'pbf_residuos_48',\n",
       " 'pbf_residuos_72',\n",
       " 'pbf_residuos_96',\n",
       " 'pbf_residuos_120',\n",
       " 'pbf_residuos_144',\n",
       " 'pbf_residuos_168',\n",
       " 'generacion_treal_eolica_3',\n",
       " 'generacion_treal_eolica_24',\n",
       " 'generacion_treal_eolica_48',\n",
       " 'generacion_treal_eolica_72',\n",
       " 'generacion_treal_eolica_96',\n",
       " 'generacion_treal_eolica_120',\n",
       " 'generacion_treal_eolica_144',\n",
       " 'generacion_treal_eolica_168',\n",
       " 'generacion_treal_solar_termica_3',\n",
       " 'generacion_treal_solar_termica_24',\n",
       " 'generacion_treal_solar_termica_48',\n",
       " 'generacion_treal_solar_termica_72',\n",
       " 'generacion_treal_solar_termica_96',\n",
       " 'generacion_treal_solar_termica_120',\n",
       " 'generacion_treal_solar_termica_144',\n",
       " 'generacion_treal_solar_termica_168',\n",
       " 'generacion_treal_solar_fotovoltaica_3',\n",
       " 'generacion_treal_solar_fotovoltaica_24',\n",
       " 'generacion_treal_solar_fotovoltaica_48',\n",
       " 'generacion_treal_solar_fotovoltaica_72',\n",
       " 'generacion_treal_solar_fotovoltaica_96',\n",
       " 'generacion_treal_solar_fotovoltaica_120',\n",
       " 'generacion_treal_solar_fotovoltaica_144',\n",
       " 'generacion_treal_solar_fotovoltaica_168',\n",
       " 'prevision_diaria_d1_demanda_3',\n",
       " 'prevision_diaria_d1_demanda_24',\n",
       " 'prevision_diaria_d1_demanda_48',\n",
       " 'prevision_diaria_d1_demanda_72',\n",
       " 'prevision_diaria_d1_demanda_96',\n",
       " 'prevision_diaria_d1_demanda_120',\n",
       " 'prevision_diaria_d1_demanda_144',\n",
       " 'prevision_diaria_d1_demanda_168',\n",
       " 'phf3_eolica_terrestre_3',\n",
       " 'phf3_eolica_terrestre_24',\n",
       " 'phf3_eolica_terrestre_48',\n",
       " 'phf3_eolica_terrestre_72',\n",
       " 'phf3_eolica_terrestre_96',\n",
       " 'phf3_eolica_terrestre_120',\n",
       " 'phf3_eolica_terrestre_144',\n",
       " 'phf3_eolica_terrestre_168',\n",
       " 'phf3_solar_fotovoltaica_3',\n",
       " 'phf3_solar_fotovoltaica_24',\n",
       " 'phf3_solar_fotovoltaica_48',\n",
       " 'phf3_solar_fotovoltaica_72',\n",
       " 'phf3_solar_fotovoltaica_96',\n",
       " 'phf3_solar_fotovoltaica_120',\n",
       " 'phf3_solar_fotovoltaica_144',\n",
       " 'phf3_solar_fotovoltaica_168',\n",
       " 'tempesp_3',\n",
       " 'tempesp_24',\n",
       " 'tempesp_48',\n",
       " 'tempesp_72',\n",
       " 'tempesp_96',\n",
       " 'tempesp_120',\n",
       " 'tempesp_144',\n",
       " 'tempesp_168',\n",
       " 'tempespnorm_3',\n",
       " 'tempespnorm_24',\n",
       " 'tempespnorm_48',\n",
       " 'tempespnorm_72',\n",
       " 'tempespnorm_96',\n",
       " 'tempespnorm_120',\n",
       " 'tempespnorm_144',\n",
       " 'tempespnorm_168',\n",
       " 'pmd_3',\n",
       " 'pmd_24',\n",
       " 'pmd_48',\n",
       " 'pmd_72',\n",
       " 'pmd_96',\n",
       " 'pmd_120',\n",
       " 'pmd_144',\n",
       " 'pmd_168',\n",
       " 'dia_semana_3',\n",
       " 'dia_semana_24',\n",
       " 'dia_semana_48',\n",
       " 'dia_semana_72',\n",
       " 'dia_semana_96',\n",
       " 'dia_semana_120',\n",
       " 'dia_semana_144',\n",
       " 'dia_semana_168',\n",
       " 'Lunes_3',\n",
       " 'Lunes_24',\n",
       " 'Lunes_48',\n",
       " 'Lunes_72',\n",
       " 'Lunes_96',\n",
       " 'Lunes_120',\n",
       " 'Lunes_144',\n",
       " 'Lunes_168',\n",
       " 'Martes_3',\n",
       " 'Martes_24',\n",
       " 'Martes_48',\n",
       " 'Martes_72',\n",
       " 'Martes_96',\n",
       " 'Martes_120',\n",
       " 'Martes_144',\n",
       " 'Martes_168',\n",
       " 'Miercoles_3',\n",
       " 'Miercoles_24',\n",
       " 'Miercoles_48',\n",
       " 'Miercoles_72',\n",
       " 'Miercoles_96',\n",
       " 'Miercoles_120',\n",
       " 'Miercoles_144',\n",
       " 'Miercoles_168',\n",
       " 'Jueves_3',\n",
       " 'Jueves_24',\n",
       " 'Jueves_48',\n",
       " 'Jueves_72',\n",
       " 'Jueves_96',\n",
       " 'Jueves_120',\n",
       " 'Jueves_144',\n",
       " 'Jueves_168',\n",
       " 'Viernes_3',\n",
       " 'Viernes_24',\n",
       " 'Viernes_48',\n",
       " 'Viernes_72',\n",
       " 'Viernes_96',\n",
       " 'Viernes_120',\n",
       " 'Viernes_144',\n",
       " 'Viernes_168',\n",
       " 'Sabado_3',\n",
       " 'Sabado_24',\n",
       " 'Sabado_48',\n",
       " 'Sabado_72',\n",
       " 'Sabado_96',\n",
       " 'Sabado_120',\n",
       " 'Sabado_144',\n",
       " 'Sabado_168',\n",
       " 'Domingo_3',\n",
       " 'Domingo_24',\n",
       " 'Domingo_48',\n",
       " 'Domingo_72',\n",
       " 'Domingo_96',\n",
       " 'Domingo_120',\n",
       " 'Domingo_144',\n",
       " 'Domingo_168',\n",
       " 'error_prevision_demanda_1d_3',\n",
       " 'error_prevision_demanda_1d_24',\n",
       " 'error_prevision_demanda_1d_48',\n",
       " 'error_prevision_demanda_1d_72',\n",
       " 'error_prevision_demanda_1d_96',\n",
       " 'error_prevision_demanda_1d_120',\n",
       " 'error_prevision_demanda_1d_144',\n",
       " 'error_prevision_demanda_1d_168',\n",
       " 'error_prevision_demanda_3h_3',\n",
       " 'error_prevision_demanda_3h_24',\n",
       " 'error_prevision_demanda_3h_48',\n",
       " 'error_prevision_demanda_3h_72',\n",
       " 'error_prevision_demanda_3h_96',\n",
       " 'error_prevision_demanda_3h_120',\n",
       " 'error_prevision_demanda_3h_144',\n",
       " 'error_prevision_demanda_3h_168',\n",
       " 'error_prevision_eolica_1d_3',\n",
       " 'error_prevision_eolica_1d_24',\n",
       " 'error_prevision_eolica_1d_48',\n",
       " 'error_prevision_eolica_1d_72',\n",
       " 'error_prevision_eolica_1d_96',\n",
       " 'error_prevision_eolica_1d_120',\n",
       " 'error_prevision_eolica_1d_144',\n",
       " 'error_prevision_eolica_1d_168',\n",
       " 'error_prevision_eolica_3h_3',\n",
       " 'error_prevision_eolica_3h_24',\n",
       " 'error_prevision_eolica_3h_48',\n",
       " 'error_prevision_eolica_3h_72',\n",
       " 'error_prevision_eolica_3h_96',\n",
       " 'error_prevision_eolica_3h_120',\n",
       " 'error_prevision_eolica_3h_144',\n",
       " 'error_prevision_eolica_3h_168',\n",
       " 'error_prevision_fotovoltaica_1d_3',\n",
       " 'error_prevision_fotovoltaica_1d_24',\n",
       " 'error_prevision_fotovoltaica_1d_48',\n",
       " 'error_prevision_fotovoltaica_1d_72',\n",
       " 'error_prevision_fotovoltaica_1d_96',\n",
       " 'error_prevision_fotovoltaica_1d_120',\n",
       " 'error_prevision_fotovoltaica_1d_144',\n",
       " 'error_prevision_fotovoltaica_1d_168',\n",
       " 'error_prevision_fotovoltaica_3h_3',\n",
       " 'error_prevision_fotovoltaica_3h_24',\n",
       " 'error_prevision_fotovoltaica_3h_48',\n",
       " 'error_prevision_fotovoltaica_3h_72',\n",
       " 'error_prevision_fotovoltaica_3h_96',\n",
       " 'error_prevision_fotovoltaica_3h_120',\n",
       " 'error_prevision_fotovoltaica_3h_144',\n",
       " 'error_prevision_fotovoltaica_3h_168',\n",
       " 'variacion_prevision_demanda_3',\n",
       " 'variacion_prevision_demanda_24',\n",
       " 'variacion_prevision_demanda_48',\n",
       " 'variacion_prevision_demanda_72',\n",
       " 'variacion_prevision_demanda_96',\n",
       " 'variacion_prevision_demanda_120',\n",
       " 'variacion_prevision_demanda_144',\n",
       " 'variacion_prevision_demanda_168',\n",
       " 'variacion_prevision_eolica_3',\n",
       " 'variacion_prevision_eolica_24',\n",
       " 'variacion_prevision_eolica_48',\n",
       " 'variacion_prevision_eolica_72',\n",
       " 'variacion_prevision_eolica_96',\n",
       " 'variacion_prevision_eolica_120',\n",
       " 'variacion_prevision_eolica_144',\n",
       " 'variacion_prevision_eolica_168',\n",
       " 'variacion_prevision_fotovoltaica_3',\n",
       " 'variacion_prevision_fotovoltaica_24',\n",
       " 'variacion_prevision_fotovoltaica_48',\n",
       " 'variacion_prevision_fotovoltaica_72',\n",
       " 'variacion_prevision_fotovoltaica_96',\n",
       " 'variacion_prevision_fotovoltaica_120',\n",
       " 'variacion_prevision_fotovoltaica_144',\n",
       " 'variacion_prevision_fotovoltaica_168',\n",
       " 'error_prevision_demanda_1d_casacion_3',\n",
       " 'error_prevision_demanda_1d_casacion_24',\n",
       " 'error_prevision_demanda_1d_casacion_48',\n",
       " 'error_prevision_demanda_1d_casacion_72',\n",
       " 'error_prevision_demanda_1d_casacion_96',\n",
       " 'error_prevision_demanda_1d_casacion_120',\n",
       " 'error_prevision_demanda_1d_casacion_144',\n",
       " 'error_prevision_demanda_1d_casacion_168',\n",
       " 'error_prevision_demanda_3h_casacion_3',\n",
       " 'error_prevision_demanda_3h_casacion_24',\n",
       " 'error_prevision_demanda_3h_casacion_48',\n",
       " 'error_prevision_demanda_3h_casacion_72',\n",
       " 'error_prevision_demanda_3h_casacion_96',\n",
       " 'error_prevision_demanda_3h_casacion_120',\n",
       " 'error_prevision_demanda_3h_casacion_144',\n",
       " 'error_prevision_demanda_3h_casacion_168',\n",
       " 'error_prevision_eolica_1d_casacion_3',\n",
       " 'error_prevision_eolica_1d_casacion_24',\n",
       " 'error_prevision_eolica_1d_casacion_48',\n",
       " 'error_prevision_eolica_1d_casacion_72',\n",
       " 'error_prevision_eolica_1d_casacion_96',\n",
       " 'error_prevision_eolica_1d_casacion_120',\n",
       " 'error_prevision_eolica_1d_casacion_144',\n",
       " 'error_prevision_eolica_1d_casacion_168',\n",
       " 'error_prevision_eolica_3h_casacion_3',\n",
       " 'error_prevision_eolica_3h_casacion_24',\n",
       " 'error_prevision_eolica_3h_casacion_48',\n",
       " 'error_prevision_eolica_3h_casacion_72',\n",
       " 'error_prevision_eolica_3h_casacion_96',\n",
       " 'error_prevision_eolica_3h_casacion_120',\n",
       " 'error_prevision_eolica_3h_casacion_144',\n",
       " 'error_prevision_eolica_3h_casacion_168',\n",
       " 'error_prevision_fotovoltaica_1d_casacion_3',\n",
       " 'error_prevision_fotovoltaica_1d_casacion_24',\n",
       " 'error_prevision_fotovoltaica_1d_casacion_48',\n",
       " 'error_prevision_fotovoltaica_1d_casacion_72',\n",
       " 'error_prevision_fotovoltaica_1d_casacion_96',\n",
       " 'error_prevision_fotovoltaica_1d_casacion_120',\n",
       " 'error_prevision_fotovoltaica_1d_casacion_144',\n",
       " 'error_prevision_fotovoltaica_1d_casacion_168',\n",
       " 'error_prevision_fotovoltaica_3h_casacion_3',\n",
       " 'error_prevision_fotovoltaica_3h_casacion_24',\n",
       " 'error_prevision_fotovoltaica_3h_casacion_48',\n",
       " 'error_prevision_fotovoltaica_3h_casacion_72',\n",
       " 'error_prevision_fotovoltaica_3h_casacion_96',\n",
       " 'error_prevision_fotovoltaica_3h_casacion_120',\n",
       " 'error_prevision_fotovoltaica_3h_casacion_144',\n",
       " 'error_prevision_fotovoltaica_3h_casacion_168',\n",
       " 'rampa_eolica_3',\n",
       " 'rampa_eolica_24',\n",
       " 'rampa_eolica_48',\n",
       " 'rampa_eolica_72',\n",
       " 'rampa_eolica_96',\n",
       " 'rampa_eolica_120',\n",
       " 'rampa_eolica_144',\n",
       " 'rampa_eolica_168',\n",
       " 'precio_petroleo_3',\n",
       " 'precio_petroleo_24',\n",
       " 'precio_petroleo_48',\n",
       " 'precio_petroleo_72',\n",
       " 'precio_petroleo_96',\n",
       " 'precio_petroleo_120',\n",
       " 'precio_petroleo_144',\n",
       " 'precio_petroleo_168',\n",
       " 'precio_gas_3',\n",
       " 'precio_gas_24',\n",
       " 'precio_gas_48',\n",
       " 'precio_gas_72',\n",
       " 'precio_gas_96',\n",
       " 'precio_gas_120',\n",
       " 'precio_gas_144',\n",
       " 'precio_gas_168',\n",
       " 'precio_carbon_3',\n",
       " 'precio_carbon_24',\n",
       " 'precio_carbon_48',\n",
       " 'precio_carbon_72',\n",
       " 'precio_carbon_96',\n",
       " 'precio_carbon_120',\n",
       " 'precio_carbon_144',\n",
       " 'precio_carbon_168',\n",
       " 'precio_co2_3',\n",
       " 'precio_co2_24',\n",
       " 'precio_co2_48',\n",
       " 'precio_co2_72',\n",
       " 'precio_co2_96',\n",
       " 'precio_co2_120',\n",
       " 'precio_co2_144',\n",
       " 'precio_co2_168',\n",
       " 'precio_de_los_desvios_medidos_a_subir_4',\n",
       " 'precio_de_los_desvios_medidos_a_subir_5',\n",
       " 'precio_de_los_desvios_medidos_a_bajar_4',\n",
       " 'precio_de_los_desvios_medidos_a_bajar_5',\n",
       " 'media_precios_subir',\n",
       " 'mediana_precios_subir',\n",
       " 'std_precios_subir',\n",
       " 'q1_precios_subir',\n",
       " 'q3_precios_subir',\n",
       " 'min_precios_subir',\n",
       " 'max_precios_subir',\n",
       " 'curtosis_precios_subir',\n",
       " 'skew_precios_subir',\n",
       " 'media_precios_bajar',\n",
       " 'mediana_precios_bajar',\n",
       " 'std_precios_bajar',\n",
       " 'q1_precios_bajar',\n",
       " 'q3_precios_bajar',\n",
       " 'min_precios_bajar',\n",
       " 'max_precios_bajar',\n",
       " 'curtosis_precios_bajar',\n",
       " 'skew_precios_bajar',\n",
       " 'media_eolica',\n",
       " 'mediana_eolica',\n",
       " 'std_eolica',\n",
       " 'q1_eolica',\n",
       " 'q3_eolica',\n",
       " 'min_eolica',\n",
       " 'max_eolica',\n",
       " 'curtosis_eolica',\n",
       " 'skew_eolica',\n",
       " 'media_fotovoltaica',\n",
       " 'mediana_fotovoltaica',\n",
       " 'std_fotovoltaica',\n",
       " 'q1_fotovoltaica',\n",
       " 'q3_fotovoltaica',\n",
       " 'min_fotovoltaica',\n",
       " 'max_fotovoltaica',\n",
       " 'curtosis_fotovoltaica',\n",
       " 'skew_fotovoltaica',\n",
       " 'media_residual',\n",
       " 'mediana_residual',\n",
       " 'std_residual',\n",
       " 'q1_residual',\n",
       " 'q3_residual',\n",
       " 'min_residual',\n",
       " 'max_residual',\n",
       " 'curtosis_residual',\n",
       " 'skew_residual',\n",
       " 'media_md_espana',\n",
       " 'mediana_md_espana',\n",
       " 'std_md_espana',\n",
       " 'q1_md_espana',\n",
       " 'q3_md_espana',\n",
       " 'min_md_espana',\n",
       " 'max_md_espana',\n",
       " 'curtosis_md_espana',\n",
       " 'skew_md_espana',\n",
       " 'media_md_francia',\n",
       " 'mediana_md_francia',\n",
       " 'std_md_francia',\n",
       " 'q1_md_francia',\n",
       " 'q3_md_francia',\n",
       " 'min_md_francia',\n",
       " 'max_md_francia',\n",
       " 'curtosis_md_francia',\n",
       " 'skew_md_francia',\n",
       " 'media_gas',\n",
       " 'mediana_gas',\n",
       " 'std_gas',\n",
       " 'q1_gas',\n",
       " 'q3_gas',\n",
       " 'min_gas',\n",
       " 'max_gas',\n",
       " 'curtosis_gas',\n",
       " 'skew_gas',\n",
       " 'media_co2',\n",
       " 'mediana_co2',\n",
       " 'std_co2',\n",
       " 'q1_co2',\n",
       " 'q3_co2',\n",
       " 'min_co2',\n",
       " 'max_co2',\n",
       " 'curtosis_co2',\n",
       " 'skew_co2',\n",
       " 'media_petroleo',\n",
       " 'mediana_petroleo',\n",
       " 'std_petroleo',\n",
       " 'q3_petroleo',\n",
       " 'min_petroleo',\n",
       " 'max_petroleo',\n",
       " 'curtosis_petroleo',\n",
       " 'skew_petroleo',\n",
       " 'media_carbon',\n",
       " 'mediana_carbon',\n",
       " 'std_carbon',\n",
       " 'q1_carbon',\n",
       " 'q3_carbon',\n",
       " 'min_carbon',\n",
       " 'max_carbon',\n",
       " 'curtosis_carbon',\n",
       " 'skew_carbon',\n",
       " 'variacion_intra1',\n",
       " 'variacion_intra2',\n",
       " 'variacion_intra3',\n",
       " 'variacion_temperatura']"
      ]
     },
     "execution_count": 5,
     "metadata": {},
     "output_type": "execute_result"
    }
   ],
   "source": [
    "list(current_db.columns)"
   ]
  },
  {
   "cell_type": "code",
   "execution_count": 6,
   "metadata": {
    "ExecuteTime": {
     "end_time": "2023-01-05T10:33:27.373993Z",
     "start_time": "2023-01-05T10:33:27.055422Z"
    }
   },
   "outputs": [
    {
     "data": {
      "text/html": [
       "<div>\n",
       "<style scoped>\n",
       "    .dataframe tbody tr th:only-of-type {\n",
       "        vertical-align: middle;\n",
       "    }\n",
       "\n",
       "    .dataframe tbody tr th {\n",
       "        vertical-align: top;\n",
       "    }\n",
       "\n",
       "    .dataframe thead th {\n",
       "        text-align: right;\n",
       "    }\n",
       "</style>\n",
       "<table border=\"1\" class=\"dataframe\">\n",
       "  <thead>\n",
       "    <tr style=\"text-align: right;\">\n",
       "      <th></th>\n",
       "      <th>fecha</th>\n",
       "      <th>hora</th>\n",
       "      <th>pbf_hidraulica_ugh</th>\n",
       "      <th>pbf_hidraulica_no_ugh</th>\n",
       "      <th>pbf_nuclear</th>\n",
       "      <th>pbf_ciclo_combinado</th>\n",
       "      <th>pbf_eolica_terrestre</th>\n",
       "      <th>pbf_solar_fotovoltaica</th>\n",
       "      <th>pbf_solar_termica</th>\n",
       "      <th>pbf_biomasa</th>\n",
       "      <th>...</th>\n",
       "      <th>q1_carbon</th>\n",
       "      <th>q3_carbon</th>\n",
       "      <th>min_carbon</th>\n",
       "      <th>max_carbon</th>\n",
       "      <th>curtosis_carbon</th>\n",
       "      <th>skew_carbon</th>\n",
       "      <th>variacion_intra1</th>\n",
       "      <th>variacion_intra2</th>\n",
       "      <th>variacion_intra3</th>\n",
       "      <th>variacion_temperatura</th>\n",
       "    </tr>\n",
       "  </thead>\n",
       "  <tbody>\n",
       "    <tr>\n",
       "      <th>0</th>\n",
       "      <td>2019-01-09</td>\n",
       "      <td>1</td>\n",
       "      <td>626.1</td>\n",
       "      <td>539.4</td>\n",
       "      <td>7097.2</td>\n",
       "      <td>906.0</td>\n",
       "      <td>10504.9</td>\n",
       "      <td>7.1</td>\n",
       "      <td>42.0</td>\n",
       "      <td>315.6</td>\n",
       "      <td>...</td>\n",
       "      <td>81.901020</td>\n",
       "      <td>83.225000</td>\n",
       "      <td>80.95</td>\n",
       "      <td>85.15</td>\n",
       "      <td>-0.490645</td>\n",
       "      <td>0.409297</td>\n",
       "      <td>-1.00</td>\n",
       "      <td>1.74</td>\n",
       "      <td>-0.85</td>\n",
       "      <td>-2.39</td>\n",
       "    </tr>\n",
       "    <tr>\n",
       "      <th>1</th>\n",
       "      <td>2019-01-09</td>\n",
       "      <td>2</td>\n",
       "      <td>708.4</td>\n",
       "      <td>529.7</td>\n",
       "      <td>7098.1</td>\n",
       "      <td>565.0</td>\n",
       "      <td>10330.0</td>\n",
       "      <td>7.1</td>\n",
       "      <td>66.0</td>\n",
       "      <td>313.0</td>\n",
       "      <td>...</td>\n",
       "      <td>81.878061</td>\n",
       "      <td>83.225000</td>\n",
       "      <td>80.95</td>\n",
       "      <td>85.15</td>\n",
       "      <td>-0.485770</td>\n",
       "      <td>0.431687</td>\n",
       "      <td>0.00</td>\n",
       "      <td>1.25</td>\n",
       "      <td>-0.68</td>\n",
       "      <td>-2.42</td>\n",
       "    </tr>\n",
       "    <tr>\n",
       "      <th>2</th>\n",
       "      <td>2019-01-09</td>\n",
       "      <td>3</td>\n",
       "      <td>697.0</td>\n",
       "      <td>517.6</td>\n",
       "      <td>7097.2</td>\n",
       "      <td>554.0</td>\n",
       "      <td>10150.0</td>\n",
       "      <td>7.1</td>\n",
       "      <td>90.0</td>\n",
       "      <td>313.8</td>\n",
       "      <td>...</td>\n",
       "      <td>81.855102</td>\n",
       "      <td>83.225000</td>\n",
       "      <td>80.95</td>\n",
       "      <td>85.15</td>\n",
       "      <td>-0.482014</td>\n",
       "      <td>0.453319</td>\n",
       "      <td>0.30</td>\n",
       "      <td>0.50</td>\n",
       "      <td>-2.02</td>\n",
       "      <td>-2.78</td>\n",
       "    </tr>\n",
       "    <tr>\n",
       "      <th>3</th>\n",
       "      <td>2019-01-09</td>\n",
       "      <td>4</td>\n",
       "      <td>730.7</td>\n",
       "      <td>519.4</td>\n",
       "      <td>7098.1</td>\n",
       "      <td>404.0</td>\n",
       "      <td>9971.9</td>\n",
       "      <td>7.1</td>\n",
       "      <td>66.0</td>\n",
       "      <td>313.4</td>\n",
       "      <td>...</td>\n",
       "      <td>81.832143</td>\n",
       "      <td>83.225000</td>\n",
       "      <td>80.95</td>\n",
       "      <td>85.15</td>\n",
       "      <td>-0.479371</td>\n",
       "      <td>0.474127</td>\n",
       "      <td>0.99</td>\n",
       "      <td>1.00</td>\n",
       "      <td>-0.06</td>\n",
       "      <td>-3.39</td>\n",
       "    </tr>\n",
       "    <tr>\n",
       "      <th>4</th>\n",
       "      <td>2019-01-09</td>\n",
       "      <td>5</td>\n",
       "      <td>713.8</td>\n",
       "      <td>521.8</td>\n",
       "      <td>7098.1</td>\n",
       "      <td>404.0</td>\n",
       "      <td>9931.5</td>\n",
       "      <td>7.1</td>\n",
       "      <td>98.0</td>\n",
       "      <td>313.6</td>\n",
       "      <td>...</td>\n",
       "      <td>81.809184</td>\n",
       "      <td>83.225000</td>\n",
       "      <td>80.95</td>\n",
       "      <td>85.15</td>\n",
       "      <td>-0.477829</td>\n",
       "      <td>0.494049</td>\n",
       "      <td>0.50</td>\n",
       "      <td>0.00</td>\n",
       "      <td>1.50</td>\n",
       "      <td>-3.69</td>\n",
       "    </tr>\n",
       "    <tr>\n",
       "      <th>...</th>\n",
       "      <td>...</td>\n",
       "      <td>...</td>\n",
       "      <td>...</td>\n",
       "      <td>...</td>\n",
       "      <td>...</td>\n",
       "      <td>...</td>\n",
       "      <td>...</td>\n",
       "      <td>...</td>\n",
       "      <td>...</td>\n",
       "      <td>...</td>\n",
       "      <td>...</td>\n",
       "      <td>...</td>\n",
       "      <td>...</td>\n",
       "      <td>...</td>\n",
       "      <td>...</td>\n",
       "      <td>...</td>\n",
       "      <td>...</td>\n",
       "      <td>...</td>\n",
       "      <td>...</td>\n",
       "      <td>...</td>\n",
       "      <td>...</td>\n",
       "    </tr>\n",
       "    <tr>\n",
       "      <th>31839</th>\n",
       "      <td>2022-08-27</td>\n",
       "      <td>20</td>\n",
       "      <td>919.0</td>\n",
       "      <td>362.7</td>\n",
       "      <td>6880.9</td>\n",
       "      <td>10269.2</td>\n",
       "      <td>4548.0</td>\n",
       "      <td>3779.4</td>\n",
       "      <td>1485.7</td>\n",
       "      <td>514.8</td>\n",
       "      <td>...</td>\n",
       "      <td>377.975000</td>\n",
       "      <td>401.138776</td>\n",
       "      <td>374.25</td>\n",
       "      <td>406.10</td>\n",
       "      <td>-1.672178</td>\n",
       "      <td>0.281929</td>\n",
       "      <td>-0.10</td>\n",
       "      <td>3.00</td>\n",
       "      <td>30.00</td>\n",
       "      <td>1.29</td>\n",
       "    </tr>\n",
       "    <tr>\n",
       "      <th>31840</th>\n",
       "      <td>2022-08-27</td>\n",
       "      <td>21</td>\n",
       "      <td>2322.0</td>\n",
       "      <td>383.1</td>\n",
       "      <td>6876.9</td>\n",
       "      <td>10344.0</td>\n",
       "      <td>4910.3</td>\n",
       "      <td>830.8</td>\n",
       "      <td>959.9</td>\n",
       "      <td>485.3</td>\n",
       "      <td>...</td>\n",
       "      <td>377.975000</td>\n",
       "      <td>401.430612</td>\n",
       "      <td>374.25</td>\n",
       "      <td>406.10</td>\n",
       "      <td>-1.682748</td>\n",
       "      <td>0.277390</td>\n",
       "      <td>0.00</td>\n",
       "      <td>3.98</td>\n",
       "      <td>11.70</td>\n",
       "      <td>1.57</td>\n",
       "    </tr>\n",
       "    <tr>\n",
       "      <th>31841</th>\n",
       "      <td>2022-08-27</td>\n",
       "      <td>22</td>\n",
       "      <td>2694.1</td>\n",
       "      <td>397.1</td>\n",
       "      <td>6881.9</td>\n",
       "      <td>10374.3</td>\n",
       "      <td>5154.6</td>\n",
       "      <td>53.2</td>\n",
       "      <td>520.6</td>\n",
       "      <td>485.3</td>\n",
       "      <td>...</td>\n",
       "      <td>377.975000</td>\n",
       "      <td>401.722449</td>\n",
       "      <td>374.25</td>\n",
       "      <td>406.10</td>\n",
       "      <td>-1.692465</td>\n",
       "      <td>0.273280</td>\n",
       "      <td>-1.86</td>\n",
       "      <td>2.00</td>\n",
       "      <td>7.99</td>\n",
       "      <td>1.79</td>\n",
       "    </tr>\n",
       "    <tr>\n",
       "      <th>31842</th>\n",
       "      <td>2022-08-27</td>\n",
       "      <td>23</td>\n",
       "      <td>2586.7</td>\n",
       "      <td>392.4</td>\n",
       "      <td>6903.9</td>\n",
       "      <td>10393.7</td>\n",
       "      <td>5236.6</td>\n",
       "      <td>7.7</td>\n",
       "      <td>463.8</td>\n",
       "      <td>487.0</td>\n",
       "      <td>...</td>\n",
       "      <td>377.975000</td>\n",
       "      <td>402.014286</td>\n",
       "      <td>374.25</td>\n",
       "      <td>406.10</td>\n",
       "      <td>-1.701361</td>\n",
       "      <td>0.269585</td>\n",
       "      <td>5.14</td>\n",
       "      <td>11.96</td>\n",
       "      <td>24.46</td>\n",
       "      <td>1.76</td>\n",
       "    </tr>\n",
       "    <tr>\n",
       "      <th>31843</th>\n",
       "      <td>2022-08-27</td>\n",
       "      <td>0</td>\n",
       "      <td>1953.7</td>\n",
       "      <td>379.1</td>\n",
       "      <td>6903.9</td>\n",
       "      <td>10409.1</td>\n",
       "      <td>5113.2</td>\n",
       "      <td>7.0</td>\n",
       "      <td>456.0</td>\n",
       "      <td>515.7</td>\n",
       "      <td>...</td>\n",
       "      <td>377.975000</td>\n",
       "      <td>402.306122</td>\n",
       "      <td>374.25</td>\n",
       "      <td>406.10</td>\n",
       "      <td>-1.709470</td>\n",
       "      <td>0.266291</td>\n",
       "      <td>0.00</td>\n",
       "      <td>-0.01</td>\n",
       "      <td>2.00</td>\n",
       "      <td>1.84</td>\n",
       "    </tr>\n",
       "  </tbody>\n",
       "</table>\n",
       "<p>31844 rows × 981 columns</p>\n",
       "</div>"
      ],
      "text/plain": [
       "            fecha  hora  pbf_hidraulica_ugh  pbf_hidraulica_no_ugh  \\\n",
       "0      2019-01-09     1               626.1                  539.4   \n",
       "1      2019-01-09     2               708.4                  529.7   \n",
       "2      2019-01-09     3               697.0                  517.6   \n",
       "3      2019-01-09     4               730.7                  519.4   \n",
       "4      2019-01-09     5               713.8                  521.8   \n",
       "...           ...   ...                 ...                    ...   \n",
       "31839  2022-08-27    20               919.0                  362.7   \n",
       "31840  2022-08-27    21              2322.0                  383.1   \n",
       "31841  2022-08-27    22              2694.1                  397.1   \n",
       "31842  2022-08-27    23              2586.7                  392.4   \n",
       "31843  2022-08-27     0              1953.7                  379.1   \n",
       "\n",
       "       pbf_nuclear  pbf_ciclo_combinado  pbf_eolica_terrestre  \\\n",
       "0           7097.2                906.0               10504.9   \n",
       "1           7098.1                565.0               10330.0   \n",
       "2           7097.2                554.0               10150.0   \n",
       "3           7098.1                404.0                9971.9   \n",
       "4           7098.1                404.0                9931.5   \n",
       "...            ...                  ...                   ...   \n",
       "31839       6880.9              10269.2                4548.0   \n",
       "31840       6876.9              10344.0                4910.3   \n",
       "31841       6881.9              10374.3                5154.6   \n",
       "31842       6903.9              10393.7                5236.6   \n",
       "31843       6903.9              10409.1                5113.2   \n",
       "\n",
       "       pbf_solar_fotovoltaica  pbf_solar_termica  pbf_biomasa  ...  \\\n",
       "0                         7.1               42.0        315.6  ...   \n",
       "1                         7.1               66.0        313.0  ...   \n",
       "2                         7.1               90.0        313.8  ...   \n",
       "3                         7.1               66.0        313.4  ...   \n",
       "4                         7.1               98.0        313.6  ...   \n",
       "...                       ...                ...          ...  ...   \n",
       "31839                  3779.4             1485.7        514.8  ...   \n",
       "31840                   830.8              959.9        485.3  ...   \n",
       "31841                    53.2              520.6        485.3  ...   \n",
       "31842                     7.7              463.8        487.0  ...   \n",
       "31843                     7.0              456.0        515.7  ...   \n",
       "\n",
       "        q1_carbon   q3_carbon  min_carbon  max_carbon  curtosis_carbon  \\\n",
       "0       81.901020   83.225000       80.95       85.15        -0.490645   \n",
       "1       81.878061   83.225000       80.95       85.15        -0.485770   \n",
       "2       81.855102   83.225000       80.95       85.15        -0.482014   \n",
       "3       81.832143   83.225000       80.95       85.15        -0.479371   \n",
       "4       81.809184   83.225000       80.95       85.15        -0.477829   \n",
       "...           ...         ...         ...         ...              ...   \n",
       "31839  377.975000  401.138776      374.25      406.10        -1.672178   \n",
       "31840  377.975000  401.430612      374.25      406.10        -1.682748   \n",
       "31841  377.975000  401.722449      374.25      406.10        -1.692465   \n",
       "31842  377.975000  402.014286      374.25      406.10        -1.701361   \n",
       "31843  377.975000  402.306122      374.25      406.10        -1.709470   \n",
       "\n",
       "       skew_carbon  variacion_intra1  variacion_intra2  variacion_intra3  \\\n",
       "0         0.409297             -1.00              1.74             -0.85   \n",
       "1         0.431687              0.00              1.25             -0.68   \n",
       "2         0.453319              0.30              0.50             -2.02   \n",
       "3         0.474127              0.99              1.00             -0.06   \n",
       "4         0.494049              0.50              0.00              1.50   \n",
       "...            ...               ...               ...               ...   \n",
       "31839     0.281929             -0.10              3.00             30.00   \n",
       "31840     0.277390              0.00              3.98             11.70   \n",
       "31841     0.273280             -1.86              2.00              7.99   \n",
       "31842     0.269585              5.14             11.96             24.46   \n",
       "31843     0.266291              0.00             -0.01              2.00   \n",
       "\n",
       "       variacion_temperatura  \n",
       "0                      -2.39  \n",
       "1                      -2.42  \n",
       "2                      -2.78  \n",
       "3                      -3.39  \n",
       "4                      -3.69  \n",
       "...                      ...  \n",
       "31839                   1.29  \n",
       "31840                   1.57  \n",
       "31841                   1.79  \n",
       "31842                   1.76  \n",
       "31843                   1.84  \n",
       "\n",
       "[31844 rows x 981 columns]"
      ]
     },
     "execution_count": 6,
     "metadata": {},
     "output_type": "execute_result"
    }
   ],
   "source": [
    "current_db"
   ]
  },
  {
   "cell_type": "code",
   "execution_count": 7,
   "metadata": {
    "ExecuteTime": {
     "end_time": "2023-01-05T10:33:27.426096Z",
     "start_time": "2023-01-05T10:33:27.377994Z"
    }
   },
   "outputs": [],
   "source": [
    "current_db['hueco_termico_real'] = current_db.demanda_real - current_db.generacion_treal_eolica - current_db.generacion_treal_solar_fotovoltaica\n",
    "current_db['hueco_termico_casado'] = current_db.phfc_demanda_programada - current_db.phf3_eolica_terrestre - current_db.phf3_solar_fotovoltaica\n",
    "current_db['hueco_termico_previsto_1d'] = current_db.prevision_diaria_d1_demanda - current_db.prevision_eolica_diaria_d1 - current_db.generacion_prevista_solar_fotovoltaica\n",
    "current_db['hueco_termico_previsto_3h'] = current_db.prevision_h3_demanda - current_db.prevision_eolica_intradia_h3 - current_db.prevision_fotovoltaica_intradia_h3"
   ]
  },
  {
   "cell_type": "code",
   "execution_count": 8,
   "metadata": {
    "ExecuteTime": {
     "end_time": "2023-01-05T10:33:27.606926Z",
     "start_time": "2023-01-05T10:33:27.431035Z"
    }
   },
   "outputs": [],
   "source": [
    "current_db['hueco_termico_real_24'] = current_db['hueco_termico_real'].shift(24)\n",
    "current_db['hueco_termico_real_48'] = current_db['hueco_termico_real'].shift(48)\n",
    "current_db['hueco_termico_real_72'] = current_db['hueco_termico_real'].shift(72)\n",
    "current_db['hueco_termico_real_168'] = current_db['hueco_termico_real'].shift(168)\n",
    "\n",
    "current_db['hueco_termico_casado_24'] = current_db['hueco_termico_casado'].shift(24)\n",
    "current_db['hueco_termico_casado_48'] = current_db['hueco_termico_casado'].shift(48)\n",
    "current_db['hueco_termico_casado_72'] = current_db['hueco_termico_casado'].shift(72)\n",
    "current_db['hueco_termico_casado_168'] = current_db['hueco_termico_casado'].shift(168)\n",
    "\n",
    "current_db['hueco_termico_previsto_1d_24'] = current_db['hueco_termico_previsto_1d'].shift(24)\n",
    "current_db['hueco_termico_previsto_1d_48'] = current_db['hueco_termico_previsto_1d'].shift(48)\n",
    "current_db['hueco_termico_previsto_1d_72'] = current_db['hueco_termico_previsto_1d'].shift(72)\n",
    "current_db['hueco_termico_previsto_1d_168'] = current_db['hueco_termico_previsto_1d'].shift(168)\n",
    "\n",
    "current_db['hueco_termico_previsto_3h_24'] = current_db['hueco_termico_previsto_3h'].shift(24)\n",
    "current_db['hueco_termico_previsto_3h_48'] = current_db['hueco_termico_previsto_3h'].shift(48)\n",
    "current_db['hueco_termico_previsto_3h_72'] = current_db['hueco_termico_previsto_3h'].shift(72)\n",
    "current_db['hueco_termico_previsto_3h_168'] = current_db['hueco_termico_previsto_3h'].shift(168)"
   ]
  },
  {
   "cell_type": "code",
   "execution_count": 9,
   "metadata": {
    "ExecuteTime": {
     "end_time": "2023-01-05T10:33:29.277915Z",
     "start_time": "2023-01-05T10:33:27.610179Z"
    }
   },
   "outputs": [],
   "source": [
    "current_db = current_db.dropna()"
   ]
  },
  {
   "cell_type": "code",
   "execution_count": 10,
   "metadata": {
    "ExecuteTime": {
     "end_time": "2023-01-05T10:33:29.325300Z",
     "start_time": "2023-01-05T10:33:29.282489Z"
    }
   },
   "outputs": [],
   "source": [
    "selected_features = ['hora',\n",
    "#  'capacidad_intercambio_francia_importacion',\n",
    "#  'capacidad_intercambio_francia_exportacion',\n",
    " 'prevision_de_la_produccion_eolica',\n",
    " 'generacion_prevista_solar_fotovoltaica',\n",
    " 'generacion_prevista_solar_termica',\n",
    "#  'precio_de_los_desvios_medidos_a_subir',\n",
    "#  'precio_de_los_desvios_medidos_a_bajar',\n",
    "#  'intercambio_comercial_francia_importacion',\n",
    "#  'intercambio_comercial_francia_exportacion',\n",
    "#  'prevision_de_la_demanda_residual',\n",
    "#  'potencia_disponible_nuclear',\n",
    " 'prevision_eolica_diaria_d1',\n",
    " 'prevision_renovable_diaria_d1',\n",
    " 'prevision_diaria_d1_demanda',\n",
    "#  'fecha_completa',\n",
    "#  'pmd',\n",
    " 'dia_semana',\n",
    "#  'potencia_indisponible_de_generacion_en_pbf_24',\n",
    "#  'potencia_indisponible_de_generacion_en_pbf_48',\n",
    "#  'potencia_indisponible_de_generacion_en_pbf_72',\n",
    "#  'potencia_indisponible_de_generacion_en_pbf_168',\n",
    "#  'capacidad_intercambio_francia_importacion_24',\n",
    "#  'capacidad_intercambio_francia_importacion_48',\n",
    "#  'capacidad_intercambio_francia_importacion_72',\n",
    "#  'capacidad_intercambio_francia_importacion_168',\n",
    "#  'capacidad_intercambio_francia_exportacion_24',\n",
    "#  'capacidad_intercambio_francia_exportacion_48',\n",
    "#  'capacidad_intercambio_francia_exportacion_72',\n",
    "#  'capacidad_intercambio_francia_exportacion_168',\n",
    " 'prevision_de_la_produccion_eolica_24',\n",
    " 'prevision_de_la_produccion_eolica_48',\n",
    " 'prevision_de_la_produccion_eolica_72',\n",
    " 'prevision_de_la_produccion_eolica_168',\n",
    " 'generacion_prevista_solar_fotovoltaica_24',\n",
    " 'generacion_prevista_solar_fotovoltaica_48',\n",
    " 'generacion_prevista_solar_fotovoltaica_72',\n",
    " 'generacion_prevista_solar_fotovoltaica_168',\n",
    " 'generacion_prevista_solar_termica_24',\n",
    " 'generacion_prevista_solar_termica_48',\n",
    " 'generacion_prevista_solar_termica_72',\n",
    " 'generacion_prevista_solar_termica_168',\n",
    "#  'demanda_programada_24',\n",
    "#  'demanda_programada_48',\n",
    "#  'demanda_programada_72',\n",
    "#  'demanda_programada_168',\n",
    " 'md_espana_24',\n",
    " 'md_espana_48',\n",
    " 'md_espana_72',\n",
    " 'md_espana_168',\n",
    " 'mi1_espana_24',\n",
    " 'mi1_espana_48',\n",
    " 'mi1_espana_72',\n",
    " 'mi1_espana_168',\n",
    " 'mi2_espana_24',\n",
    " 'mi2_espana_48',\n",
    " 'mi2_espana_72',\n",
    " 'mi2_espana_168',\n",
    " 'mi3_espana_24',\n",
    " 'mi3_espana_48',\n",
    " 'mi3_espana_72',\n",
    " 'mi3_espana_168',\n",
    " 'asignacion_banda_de_regulacion_secundaria_a_subir_24',\n",
    " 'asignacion_banda_de_regulacion_secundaria_a_subir_48',\n",
    " 'asignacion_banda_de_regulacion_secundaria_a_subir_72',\n",
    " 'asignacion_banda_de_regulacion_secundaria_a_subir_168',\n",
    " 'asignacion_banda_de_regulacion_secundaria_a_bajar_24',\n",
    " 'asignacion_banda_de_regulacion_secundaria_a_bajar_48',\n",
    " 'asignacion_banda_de_regulacion_secundaria_a_bajar_72',\n",
    " 'asignacion_banda_de_regulacion_secundaria_a_bajar_168',\n",
    " 'precio_banda_de_regulacion_secundaria_24',\n",
    " 'precio_banda_de_regulacion_secundaria_48',\n",
    " 'precio_banda_de_regulacion_secundaria_72',\n",
    " 'precio_banda_de_regulacion_secundaria_168',\n",
    " 'asignacion_gestion_de_desvios_subir_24',\n",
    " 'asignacion_gestion_de_desvios_subir_48',\n",
    " 'asignacion_gestion_de_desvios_subir_72',\n",
    " 'asignacion_gestion_de_desvios_subir_168',\n",
    " 'asignacion_gestion_de_desvios_bajar_24',\n",
    " 'asignacion_gestion_de_desvios_bajar_48',\n",
    " 'asignacion_gestion_de_desvios_bajar_72',\n",
    " 'asignacion_gestion_de_desvios_bajar_168',\n",
    " 'asignacion_regulacion_terciaria_subir_24',\n",
    " 'asignacion_regulacion_terciaria_subir_48',\n",
    " 'asignacion_regulacion_terciaria_subir_72',\n",
    " 'asignacion_regulacion_terciaria_subir_168',\n",
    " 'precio_regulacion_terciaria_bajar_24',\n",
    " 'precio_regulacion_terciaria_bajar_48',\n",
    " 'precio_regulacion_terciaria_bajar_72',\n",
    " 'precio_regulacion_terciaria_bajar_168',\n",
    " 'precio_regulacion_terciaria_subir_24',\n",
    " 'precio_regulacion_terciaria_subir_48',\n",
    " 'precio_regulacion_terciaria_subir_72',\n",
    " 'precio_regulacion_terciaria_subir_168',\n",
    " 'energia_utilizada_de_regulacion_secundaria_subir_24',\n",
    " 'energia_utilizada_de_regulacion_secundaria_subir_48',\n",
    " 'energia_utilizada_de_regulacion_secundaria_subir_72',\n",
    " 'energia_utilizada_de_regulacion_secundaria_subir_168',\n",
    " 'energia_utilizada_de_regulacion_secundaria_bajar_24',\n",
    " 'energia_utilizada_de_regulacion_secundaria_bajar_48',\n",
    " 'energia_utilizada_de_regulacion_secundaria_bajar_72',\n",
    " 'energia_utilizada_de_regulacion_secundaria_bajar_168',\n",
    " 'precio_de_utilizacion_de_secundaria_subir_24',\n",
    " 'precio_de_utilizacion_de_secundaria_subir_48',\n",
    " 'precio_de_utilizacion_de_secundaria_subir_72',\n",
    " 'precio_de_utilizacion_de_secundaria_subir_168',\n",
    " 'precio_de_utilizacion_de_secundaria_bajar_24',\n",
    " 'precio_de_utilizacion_de_secundaria_bajar_48',\n",
    " 'precio_de_utilizacion_de_secundaria_bajar_72',\n",
    " 'precio_de_utilizacion_de_secundaria_bajar_168',\n",
    " 'precio_de_los_desvios_medidos_a_subir_24',\n",
    " 'precio_de_los_desvios_medidos_a_subir_48',\n",
    " 'precio_de_los_desvios_medidos_a_subir_72',\n",
    " 'precio_de_los_desvios_medidos_a_subir_168',\n",
    " 'precio_de_los_desvios_medidos_a_bajar_24',\n",
    " 'precio_de_los_desvios_medidos_a_bajar_48',\n",
    " 'precio_de_los_desvios_medidos_a_bajar_72',\n",
    " 'precio_de_los_desvios_medidos_a_bajar_168',\n",
    "#  'demanda_real_24',\n",
    "#  'demanda_real_48',\n",
    "#  'demanda_real_72',\n",
    "#  'demanda_real_168',\n",
    " 'desvios_generacion_demanda_24',\n",
    " 'desvios_generacion_demanda_48',\n",
    " 'desvios_generacion_demanda_72',\n",
    " 'desvios_generacion_demanda_168',\n",
    "#  'energia_asignada_en_spot_intradiario_24',\n",
    "#  'energia_asignada_en_spot_intradiario_48',\n",
    "#  'energia_asignada_en_spot_intradiario_72',\n",
    "#  'energia_asignada_en_spot_intradiario_168',\n",
    "#  'intercambio_comercial_francia_importacion_24',\n",
    "#  'intercambio_comercial_francia_importacion_48',\n",
    "#  'intercambio_comercial_francia_importacion_72',\n",
    "#  'intercambio_comercial_francia_importacion_168',\n",
    "#  'intercambio_comercial_francia_exportacion_24',\n",
    "#  'intercambio_comercial_francia_exportacion_48',\n",
    "#  'intercambio_comercial_francia_exportacion_72',\n",
    "#  'intercambio_comercial_francia_exportacion_168',\n",
    "#  'prevision_de_la_demanda_residual_24',\n",
    "#  'prevision_de_la_demanda_residual_48',\n",
    "#  'prevision_de_la_demanda_residual_72',\n",
    "#  'prevision_de_la_demanda_residual_168',\n",
    "#  'pbf_demanda_24',\n",
    "#  'pbf_demanda_48',\n",
    "#  'pbf_demanda_72',\n",
    "#  'pbf_demanda_168',\n",
    "#  'pbf_generacion_24',\n",
    "#  'pbf_generacion_48',\n",
    "#  'pbf_generacion_72',\n",
    "#  'pbf_generacion_168',\n",
    " 'md_francia_24',\n",
    " 'md_francia_48',\n",
    " 'md_francia_72',\n",
    " 'md_francia_168',\n",
    "#  'volumen_mic_24',\n",
    "#  'volumen_mic_48',\n",
    "#  'volumen_mic_72',\n",
    "#  'volumen_mic_168',\n",
    "#  'potencia_disponible_nuclear_24',\n",
    "#  'potencia_disponible_nuclear_48',\n",
    "#  'potencia_disponible_nuclear_72',\n",
    "#  'potencia_disponible_nuclear_168',\n",
    " 'prevision_eolica_diaria_d1_24',\n",
    " 'prevision_eolica_diaria_d1_48',\n",
    " 'prevision_eolica_diaria_d1_72',\n",
    " 'prevision_eolica_diaria_d1_168',\n",
    " 'prevision_eolica_intradia_h3_24',\n",
    " 'prevision_eolica_intradia_h3_48',\n",
    " 'prevision_eolica_intradia_h3_72',\n",
    " 'prevision_eolica_intradia_h3_168',\n",
    " 'prevision_renovable_diaria_d1_24',\n",
    " 'prevision_renovable_diaria_d1_48',\n",
    " 'prevision_renovable_diaria_d1_72',\n",
    " 'prevision_renovable_diaria_d1_168',\n",
    " 'prevision_renovable_intradia_h3_24',\n",
    " 'prevision_renovable_intradia_h3_48',\n",
    " 'prevision_renovable_intradia_h3_72',\n",
    " 'prevision_renovable_intradia_h3_168',\n",
    " 'prevision_fotovoltaica_intradia_h3_24',\n",
    " 'prevision_fotovoltaica_intradia_h3_48',\n",
    " 'prevision_fotovoltaica_intradia_h3_72',\n",
    " 'prevision_fotovoltaica_intradia_h3_168',\n",
    " 'asignacion_regulacion_terciaria_bajar_24',\n",
    " 'asignacion_regulacion_terciaria_bajar_48',\n",
    " 'asignacion_regulacion_terciaria_bajar_72',\n",
    " 'asignacion_regulacion_terciaria_bajar_168',\n",
    " 'prevision_h3_demanda_24',\n",
    " 'prevision_h3_demanda_48',\n",
    " 'prevision_h3_demanda_72',\n",
    " 'prevision_h3_demanda_168',\n",
    " 'phfc_demanda_programada_24',\n",
    " 'phfc_demanda_programada_48',\n",
    " 'phfc_demanda_programada_72',\n",
    " 'phfc_demanda_programada_168',\n",
    " 'coste_asignacion_de_banda_secundaria_24',\n",
    " 'coste_asignacion_de_banda_secundaria_48',\n",
    " 'coste_asignacion_de_banda_secundaria_72',\n",
    " 'coste_asignacion_de_banda_secundaria_168',\n",
    " 'generacion_treal_eolica_24',\n",
    " 'generacion_treal_eolica_48',\n",
    " 'generacion_treal_eolica_72',\n",
    " 'generacion_treal_eolica_168',\n",
    " 'generacion_treal_solar_termica_24',\n",
    " 'generacion_treal_solar_termica_48',\n",
    " 'generacion_treal_solar_termica_72',\n",
    " 'generacion_treal_solar_termica_168',\n",
    " 'generacion_treal_solar_fotovoltaica_24',\n",
    " 'generacion_treal_solar_fotovoltaica_48',\n",
    " 'generacion_treal_solar_fotovoltaica_72',\n",
    " 'generacion_treal_solar_fotovoltaica_168',\n",
    " 'prevision_diaria_d1_demanda_24',\n",
    " 'prevision_diaria_d1_demanda_48',\n",
    " 'prevision_diaria_d1_demanda_72',\n",
    " 'prevision_diaria_d1_demanda_168',\n",
    " 'phf3_eolica_terrestre_24',\n",
    " 'phf3_eolica_terrestre_48',\n",
    " 'phf3_eolica_terrestre_72',\n",
    " 'phf3_eolica_terrestre_168',\n",
    " 'phf3_solar_fotovoltaica_24',\n",
    " 'phf3_solar_fotovoltaica_48',\n",
    " 'phf3_solar_fotovoltaica_72',\n",
    " 'phf3_solar_fotovoltaica_168',\n",
    "#  'pmd_24',\n",
    "#  'pmd_48',\n",
    "#  'pmd_72',\n",
    "#  'pmd_168',\n",
    " 'error_prevision_demanda_1d_24',\n",
    " 'error_prevision_demanda_1d_48',\n",
    " 'error_prevision_demanda_1d_72',\n",
    " 'error_prevision_demanda_1d_168',\n",
    " 'error_prevision_demanda_3h_24',\n",
    " 'error_prevision_demanda_3h_48',\n",
    " 'error_prevision_demanda_3h_72',\n",
    " 'error_prevision_demanda_3h_168',\n",
    " 'error_prevision_eolica_1d_24',\n",
    " 'error_prevision_eolica_1d_48',\n",
    " 'error_prevision_eolica_1d_72',\n",
    " 'error_prevision_eolica_1d_168',\n",
    " 'error_prevision_eolica_3h_24',\n",
    " 'error_prevision_eolica_3h_48',\n",
    " 'error_prevision_eolica_3h_72',\n",
    " 'error_prevision_eolica_3h_168',\n",
    " 'error_prevision_fotovoltaica_1d_24',\n",
    " 'error_prevision_fotovoltaica_1d_48',\n",
    " 'error_prevision_fotovoltaica_1d_72',\n",
    " 'error_prevision_fotovoltaica_1d_168',\n",
    " 'error_prevision_fotovoltaica_3h_24',\n",
    " 'error_prevision_fotovoltaica_3h_48',\n",
    " 'error_prevision_fotovoltaica_3h_72',\n",
    " 'error_prevision_fotovoltaica_3h_168',\n",
    " 'variacion_prevision_demanda_24',\n",
    " 'variacion_prevision_demanda_48',\n",
    " 'variacion_prevision_demanda_72',\n",
    " 'variacion_prevision_demanda_168',\n",
    " 'variacion_prevision_eolica_24',\n",
    " 'variacion_prevision_eolica_48',\n",
    " 'variacion_prevision_eolica_72',\n",
    " 'variacion_prevision_eolica_168',\n",
    " 'variacion_prevision_fotovoltaica_24',\n",
    " 'variacion_prevision_fotovoltaica_48',\n",
    " 'variacion_prevision_fotovoltaica_72',\n",
    " 'variacion_prevision_fotovoltaica_168',\n",
    " 'error_prevision_demanda_1d_casacion_24',\n",
    " 'error_prevision_demanda_1d_casacion_48',\n",
    " 'error_prevision_demanda_1d_casacion_72',\n",
    " 'error_prevision_demanda_1d_casacion_168',\n",
    " 'error_prevision_demanda_3h_casacion_24',\n",
    " 'error_prevision_demanda_3h_casacion_48',\n",
    " 'error_prevision_demanda_3h_casacion_72',\n",
    " 'error_prevision_demanda_3h_casacion_168',\n",
    " 'error_prevision_eolica_1d_casacion_24',\n",
    " 'error_prevision_eolica_1d_casacion_48',\n",
    " 'error_prevision_eolica_1d_casacion_72',\n",
    " 'error_prevision_eolica_1d_casacion_168',\n",
    " 'error_prevision_eolica_3h_casacion_24',\n",
    " 'error_prevision_eolica_3h_casacion_48',\n",
    " 'error_prevision_eolica_3h_casacion_72',\n",
    " 'error_prevision_eolica_3h_casacion_168',\n",
    " 'error_prevision_fotovoltaica_1d_casacion_24',\n",
    " 'error_prevision_fotovoltaica_1d_casacion_48',\n",
    " 'error_prevision_fotovoltaica_1d_casacion_72',\n",
    " 'error_prevision_fotovoltaica_1d_casacion_168',\n",
    " 'error_prevision_fotovoltaica_3h_casacion_24',\n",
    " 'error_prevision_fotovoltaica_3h_casacion_48',\n",
    " 'error_prevision_fotovoltaica_3h_casacion_72',\n",
    " 'error_prevision_fotovoltaica_3h_casacion_168',\n",
    " 'precio_petroleo_24',\n",
    " 'precio_petroleo_48',\n",
    " 'precio_petroleo_72',\n",
    " 'precio_petroleo_168',\n",
    " 'precio_gas_24',\n",
    " 'precio_gas_48',\n",
    " 'precio_gas_72',\n",
    " 'precio_gas_168',\n",
    " 'precio_carbon_24',\n",
    " 'precio_carbon_48',\n",
    " 'precio_carbon_72',\n",
    " 'precio_carbon_168',\n",
    " 'precio_co2_24',\n",
    " 'precio_co2_48',\n",
    " 'precio_co2_72',\n",
    " 'precio_co2_168',\n",
    "#  'media_precios_subir',\n",
    "#  'mediana_precios_subir',\n",
    "#  'std_precios_subir',\n",
    "#  'q1_precios_subir',\n",
    "#  'q3_precios_subir',\n",
    "#  'min_precios_subir',\n",
    "#  'max_precios_subir',\n",
    "#  'curtosis_precios_subir',\n",
    "#  'skew_precios_subir',\n",
    "#  'media_precios_bajar',\n",
    "#  'mediana_precios_bajar',\n",
    "#  'std_precios_bajar',\n",
    "#  'q1_precios_bajar',\n",
    "#  'q3_precios_bajar',\n",
    "#  'min_precios_bajar',\n",
    "#  'max_precios_bajar',\n",
    "#  'curtosis_precios_bajar',\n",
    "#  'skew_precios_bajar',\n",
    " 'media_eolica',\n",
    " 'mediana_eolica',\n",
    " 'std_eolica',\n",
    " 'q1_eolica',\n",
    " 'q3_eolica',\n",
    " 'min_eolica',\n",
    " 'max_eolica',\n",
    " 'curtosis_eolica',\n",
    " 'skew_eolica',\n",
    " 'media_fotovoltaica',\n",
    " 'mediana_fotovoltaica',\n",
    " 'std_fotovoltaica',\n",
    " 'q1_fotovoltaica',\n",
    " 'q3_fotovoltaica',\n",
    " 'min_fotovoltaica',\n",
    " 'max_fotovoltaica',\n",
    "#  'curtosis_fotovoltaica',\n",
    "#  'skew_fotovoltaica',\n",
    " 'media_residual',\n",
    " 'mediana_residual',\n",
    " 'std_residual',\n",
    " 'q1_residual',\n",
    " 'q3_residual',\n",
    " 'min_residual',\n",
    " 'max_residual',\n",
    " 'curtosis_residual',\n",
    " 'skew_residual',\n",
    " 'media_md_espana',\n",
    " 'mediana_md_espana',\n",
    " 'std_md_espana',\n",
    " 'q1_md_espana',\n",
    " 'q3_md_espana',\n",
    " 'min_md_espana',\n",
    " 'max_md_espana',\n",
    " 'curtosis_md_espana',\n",
    " 'skew_md_espana',\n",
    " 'media_md_francia',\n",
    " 'mediana_md_francia',\n",
    " 'std_md_francia',\n",
    " 'q1_md_francia',\n",
    " 'q3_md_francia',\n",
    " 'min_md_francia',\n",
    " 'max_md_francia',\n",
    " 'curtosis_md_francia',\n",
    " 'skew_md_francia',\n",
    " 'media_gas',\n",
    " 'mediana_gas',\n",
    " 'std_gas',\n",
    " 'q1_gas',\n",
    " 'q3_gas',\n",
    " 'min_gas',\n",
    " 'max_gas',\n",
    " 'curtosis_gas',\n",
    " 'skew_gas',\n",
    " 'media_co2',\n",
    " 'mediana_co2',\n",
    " 'std_co2',\n",
    " 'q1_co2',\n",
    " 'q3_co2',\n",
    " 'min_co2',\n",
    " 'max_co2',\n",
    " 'curtosis_co2',\n",
    " 'skew_co2',\n",
    " 'media_petroleo',\n",
    " 'mediana_petroleo',\n",
    " 'std_petroleo',\n",
    " 'q3_petroleo',\n",
    " 'min_petroleo',\n",
    " 'max_petroleo',\n",
    " 'curtosis_petroleo',\n",
    " 'skew_petroleo',\n",
    " 'media_carbon',\n",
    " 'mediana_carbon',\n",
    " 'std_carbon',\n",
    " 'q1_carbon',\n",
    " 'q3_carbon',\n",
    " 'min_carbon',\n",
    " 'max_carbon',\n",
    " 'curtosis_carbon',\n",
    " 'skew_carbon',\n",
    " 'precio_petroleo',\n",
    " 'precio_gas',\n",
    " 'precio_carbon',\n",
    " 'precio_co2',\n",
    " 'hueco_termico_previsto_1d',\n",
    " 'hueco_termico_real_24',\n",
    " 'hueco_termico_casado_24',\n",
    " 'hueco_termico_real_48',\n",
    " 'hueco_termico_casado_48',\n",
    " 'hueco_termico_real_72',\n",
    " 'hueco_termico_casado_72',\n",
    " 'hueco_termico_real_168',\n",
    " 'hueco_termico_casado_168',\n",
    " 'hueco_termico_previsto_1d_24',\n",
    " 'hueco_termico_previsto_1d_48',\n",
    " 'hueco_termico_previsto_1d_72',\n",
    " 'hueco_termico_previsto_1d_168',\n",
    " 'hueco_termico_previsto_3h_24',\n",
    " 'hueco_termico_previsto_3h_48',\n",
    " 'hueco_termico_previsto_3h_72',\n",
    " 'hueco_termico_previsto_3h_168',]"
   ]
  },
  {
   "cell_type": "code",
   "execution_count": 11,
   "metadata": {
    "ExecuteTime": {
     "end_time": "2023-01-05T10:33:29.528245Z",
     "start_time": "2023-01-05T10:33:29.328743Z"
    }
   },
   "outputs": [
    {
     "data": {
      "text/plain": [
       "168     2019-01-16 01:00:00\n",
       "169     2019-01-16 02:00:00\n",
       "170     2019-01-16 03:00:00\n",
       "171     2019-01-16 04:00:00\n",
       "172     2019-01-16 05:00:00\n",
       "                ...        \n",
       "31839   2022-08-27 20:00:00\n",
       "31840   2022-08-27 21:00:00\n",
       "31841   2022-08-27 22:00:00\n",
       "31842   2022-08-27 23:00:00\n",
       "31843   2022-08-28 00:00:00\n",
       "Name: fecha_completa, Length: 31676, dtype: datetime64[ns]"
      ]
     },
     "execution_count": 11,
     "metadata": {},
     "output_type": "execute_result"
    }
   ],
   "source": [
    "current_db.fecha_completa"
   ]
  },
  {
   "cell_type": "code",
   "execution_count": 12,
   "metadata": {
    "ExecuteTime": {
     "end_time": "2023-01-05T10:33:29.772191Z",
     "start_time": "2023-01-05T10:33:29.531852Z"
    }
   },
   "outputs": [],
   "source": [
    "current_db_train = current_db[(current_db.fecha_completa.dt.year == 2021) | ((current_db.fecha_completa.dt.year == 2022) & (current_db.fecha_completa.dt.month < 6))]\n",
    "current_db_val = current_db[(current_db.fecha_completa.dt.year == 2022) & (current_db.fecha_completa.dt.month < 8) & (current_db.fecha_completa.dt.month >= 6)]\n",
    "current_db_test = current_db[((current_db.fecha_completa.dt.year == 2022) & (current_db.fecha_completa.dt.month == 8))]\n",
    "\n",
    "train_idx = current_db_train[Index_col].unique()\n",
    "val_idx = current_db_val[Index_col].unique()\n",
    "test_idx = current_db_test[Index_col].unique()"
   ]
  },
  {
   "cell_type": "code",
   "execution_count": 18,
   "metadata": {
    "ExecuteTime": {
     "end_time": "2023-01-05T10:33:35.406843Z",
     "start_time": "2023-01-05T10:33:34.818679Z"
    }
   },
   "outputs": [
    {
     "data": {
      "image/png": "[encoded data removed]",
      "text/plain": [
       "<Figure size 2000x1000 with 1 Axes>"
      ]
     },
     "metadata": {},
     "output_type": "display_data"
    }
   ],
   "source": [
    "fig, ax = plt.subplots(1, 1, figsize = (20, 10))\n",
    "ax.plot(current_db_train.fecha_completa, current_db_train.md_espana)\n",
    "ax.plot(current_db_val.fecha_completa, current_db_val.md_espana)\n",
    "ax.plot(current_db_test.fecha_completa, current_db_test.md_espana)\n",
    "ax.plot(current_db_train.fecha_completa, current_db_train.precio_gas, '--')\n",
    "ax.plot(current_db_val.fecha_completa, current_db_val.precio_gas, '--')\n",
    "ax.plot(current_db_test.fecha_completa, current_db_test.precio_gas, '--')\n",
    "ax.grid()"
   ]
  },
  {
   "cell_type": "markdown",
   "metadata": {},
   "source": [
    "Train-test split"
   ]
  },
  {
   "cell_type": "code",
   "execution_count": 20,
   "metadata": {
    "ExecuteTime": {
     "end_time": "2023-01-05T10:33:35.972398Z",
     "start_time": "2023-01-05T10:33:35.938574Z"
    }
   },
   "outputs": [
    {
     "data": {
      "text/plain": [
       "(12382, 1464, 649)"
      ]
     },
     "execution_count": 20,
     "metadata": {},
     "output_type": "execute_result"
    }
   ],
   "source": [
    "len(current_db_train), len(current_db_val), len(current_db_test)"
   ]
  },
  {
   "cell_type": "code",
   "execution_count": 22,
   "metadata": {
    "ExecuteTime": {
     "end_time": "2023-01-05T10:33:36.035622Z",
     "start_time": "2023-01-05T10:33:35.991966Z"
    }
   },
   "outputs": [],
   "source": [
    "X_train = current_db_train[selected_features]\n",
    "y_train = current_db_train[target_col]\n",
    "\n",
    "X_val = current_db_val[selected_features]\n",
    "y_val = current_db_val[target_col]\n",
    "\n",
    "X_test = current_db_test[selected_features]\n",
    "y_test = current_db_test[target_col]"
   ]
  },
  {
   "cell_type": "code",
   "execution_count": 23,
   "metadata": {
    "ExecuteTime": {
     "end_time": "2023-01-05T10:33:36.785861Z",
     "start_time": "2023-01-05T10:33:36.039312Z"
    }
   },
   "outputs": [],
   "source": [
    "X_train_val = X_train.append(X_val)\n",
    "y_train_val = y_train.append(y_val)"
   ]
  },
  {
   "cell_type": "code",
   "execution_count": 24,
   "metadata": {
    "ExecuteTime": {
     "end_time": "2023-01-05T10:33:37.002479Z",
     "start_time": "2023-01-05T10:33:36.790184Z"
    }
   },
   "outputs": [],
   "source": [
    "current_db_train_val = current_db_train.append(current_db_val)"
   ]
  },
  {
   "cell_type": "code",
   "execution_count": 25,
   "metadata": {
    "ExecuteTime": {
     "end_time": "2023-01-05T10:33:37.479674Z",
     "start_time": "2023-01-05T10:33:37.006396Z"
    }
   },
   "outputs": [],
   "source": [
    "seeds = np.random.randint(1, 999999, 50)"
   ]
  },
  {
   "cell_type": "code",
   "execution_count": 26,
   "metadata": {
    "ExecuteTime": {
     "end_time": "2023-01-05T10:33:38.682302Z",
     "start_time": "2023-01-05T10:33:37.484028Z"
    }
   },
   "outputs": [],
   "source": [
    "scaler = MinMaxScaler()\n",
    "scaler_obj = MinMaxScaler()\n",
    "scaler.fit(X_train)\n",
    "scaler_obj.fit(y_train.to_numpy().reshape(-1, 1))\n",
    "\n",
    "X_train_norm = scaler.transform(X_train)\n",
    "X_val_norm = scaler.transform(X_val)\n",
    "X_test_norm = scaler.transform(X_test)\n",
    "\n",
    "y_train_norm = scaler_obj.transform(y_train.to_numpy().reshape(-1, 1)).reshape(len(y_train))\n",
    "y_val_norm = scaler_obj.transform(y_val.to_numpy().reshape(-1, 1)).reshape(len(y_val))\n",
    "y_test_norm = scaler_obj.transform(y_test.to_numpy().reshape(-1, 1)).reshape(len(y_test))"
   ]
  },
  {
   "cell_type": "markdown",
   "metadata": {},
   "source": [
    "## Lasso 0.01"
   ]
  },
  {
   "cell_type": "code",
   "execution_count": 27,
   "metadata": {
    "ExecuteTime": {
     "end_time": "2023-01-05T10:33:41.338642Z",
     "start_time": "2023-01-05T10:33:38.684723Z"
    }
   },
   "outputs": [
    {
     "data": {
      "text/html": [
       "<style>#sk-container-id-1 {color: black;background-color: white;}#sk-container-id-1 pre{padding: 0;}#sk-container-id-1 div.sk-toggleable {background-color: white;}#sk-container-id-1 label.sk-toggleable__label {cursor: pointer;display: block;width: 100%;margin-bottom: 0;padding: 0.3em;box-sizing: border-box;text-align: center;}#sk-container-id-1 label.sk-toggleable__label-arrow:before {content: \"▸\";float: left;margin-right: 0.25em;color: #696969;}#sk-container-id-1 label.sk-toggleable__label-arrow:hover:before {color: black;}#sk-container-id-1 div.sk-estimator:hover label.sk-toggleable__label-arrow:before {color: black;}#sk-container-id-1 div.sk-toggleable__content {max-height: 0;max-width: 0;overflow: hidden;text-align: left;background-color: #f0f8ff;}#sk-container-id-1 div.sk-toggleable__content pre {margin: 0.2em;color: black;border-radius: 0.25em;background-color: #f0f8ff;}#sk-container-id-1 input.sk-toggleable__control:checked~div.sk-toggleable__content {max-height: 200px;max-width: 100%;overflow: auto;}#sk-container-id-1 input.sk-toggleable__control:checked~label.sk-toggleable__label-arrow:before {content: \"▾\";}#sk-container-id-1 div.sk-estimator input.sk-toggleable__control:checked~label.sk-toggleable__label {background-color: #d4ebff;}#sk-container-id-1 div.sk-label input.sk-toggleable__control:checked~label.sk-toggleable__label {background-color: #d4ebff;}#sk-container-id-1 input.sk-hidden--visually {border: 0;clip: rect(1px 1px 1px 1px);clip: rect(1px, 1px, 1px, 1px);height: 1px;margin: -1px;overflow: hidden;padding: 0;position: absolute;width: 1px;}#sk-container-id-1 div.sk-estimator {font-family: monospace;background-color: #f0f8ff;border: 1px dotted black;border-radius: 0.25em;box-sizing: border-box;margin-bottom: 0.5em;}#sk-container-id-1 div.sk-estimator:hover {background-color: #d4ebff;}#sk-container-id-1 div.sk-parallel-item::after {content: \"\";width: 100%;border-bottom: 1px solid gray;flex-grow: 1;}#sk-container-id-1 div.sk-label:hover label.sk-toggleable__label {background-color: #d4ebff;}#sk-container-id-1 div.sk-serial::before {content: \"\";position: absolute;border-left: 1px solid gray;box-sizing: border-box;top: 0;bottom: 0;left: 50%;z-index: 0;}#sk-container-id-1 div.sk-serial {display: flex;flex-direction: column;align-items: center;background-color: white;padding-right: 0.2em;padding-left: 0.2em;position: relative;}#sk-container-id-1 div.sk-item {position: relative;z-index: 1;}#sk-container-id-1 div.sk-parallel {display: flex;align-items: stretch;justify-content: center;background-color: white;position: relative;}#sk-container-id-1 div.sk-item::before, #sk-container-id-1 div.sk-parallel-item::before {content: \"\";position: absolute;border-left: 1px solid gray;box-sizing: border-box;top: 0;bottom: 0;left: 50%;z-index: -1;}#sk-container-id-1 div.sk-parallel-item {display: flex;flex-direction: column;z-index: 1;position: relative;background-color: white;}#sk-container-id-1 div.sk-parallel-item:first-child::after {align-self: flex-end;width: 50%;}#sk-container-id-1 div.sk-parallel-item:last-child::after {align-self: flex-start;width: 50%;}#sk-container-id-1 div.sk-parallel-item:only-child::after {width: 0;}#sk-container-id-1 div.sk-dashed-wrapped {border: 1px dashed gray;margin: 0 0.4em 0.5em 0.4em;box-sizing: border-box;padding-bottom: 0.4em;background-color: white;}#sk-container-id-1 div.sk-label label {font-family: monospace;font-weight: bold;display: inline-block;line-height: 1.2em;}#sk-container-id-1 div.sk-label-container {text-align: center;}#sk-container-id-1 div.sk-container {/* jupyter's `normalize.less` sets `[hidden] { display: none; }` but bootstrap.min.css set `[hidden] { display: none !important; }` so we also need the `!important` here to be able to override the default hidden behavior on the sphinx rendered scikit-learn.org. See: https://github.com/scikit-learn/scikit-learn/issues/21755 */display: inline-block !important;position: relative;}#sk-container-id-1 div.sk-text-repr-fallback {display: none;}</style><div id=\"sk-container-id-1\" class=\"sk-top-container\"><div class=\"sk-text-repr-fallback\"><pre>Lasso(alpha=0.01)</pre><b>In a Jupyter environment, please rerun this cell to show the HTML representation or trust the notebook. <br />On GitHub, the HTML representation is unable to render, please try loading this page with nbviewer.org.</b></div><div class=\"sk-container\" hidden><div class=\"sk-item\"><div class=\"sk-estimator sk-toggleable\"><input class=\"sk-toggleable__control sk-hidden--visually\" id=\"sk-estimator-id-1\" type=\"checkbox\" checked><label for=\"sk-estimator-id-1\" class=\"sk-toggleable__label sk-toggleable__label-arrow\">Lasso</label><div class=\"sk-toggleable__content\"><pre>Lasso(alpha=0.01)</pre></div></div></div></div></div>"
      ],
      "text/plain": [
       "Lasso(alpha=0.01)"
      ]
     },
     "execution_count": 27,
     "metadata": {},
     "output_type": "execute_result"
    }
   ],
   "source": [
    "model = Lasso(alpha = 0.01)\n",
    "model.fit(X_train_norm, y_train_norm)"
   ]
  },
  {
   "cell_type": "code",
   "execution_count": 28,
   "metadata": {
    "ExecuteTime": {
     "end_time": "2023-01-05T10:33:41.369439Z",
     "start_time": "2023-01-05T10:33:41.347129Z"
    }
   },
   "outputs": [
    {
     "data": {
      "text/plain": [
       "['max_co2', 'max_gas', 'min_gas']"
      ]
     },
     "execution_count": 28,
     "metadata": {},
     "output_type": "execute_result"
    }
   ],
   "source": [
    "features_lasso_001 = sorted(list(X_train.columns[np.abs(model.coef_) > sys.float_info.epsilon]))\n",
    "features_lasso_001"
   ]
  },
  {
   "cell_type": "code",
   "execution_count": 29,
   "metadata": {
    "ExecuteTime": {
     "end_time": "2023-01-05T10:33:41.423042Z",
     "start_time": "2023-01-05T10:33:41.374050Z"
    }
   },
   "outputs": [],
   "source": [
    "dict_results_lasso_001 = {'rmse':[], 'mae':[], 'r2':[]}"
   ]
  },
  {
   "cell_type": "code",
   "execution_count": 30,
   "metadata": {
    "ExecuteTime": {
     "end_time": "2023-01-05T10:35:21.009632Z",
     "start_time": "2023-01-05T10:33:41.425831Z"
    },
    "scrolled": true
   },
   "outputs": [
    {
     "name": "stdout",
     "output_type": "stream",
     "text": [
      "0\n",
      "1\n",
      "2\n",
      "3\n",
      "4\n",
      "5\n",
      "6\n",
      "7\n",
      "8\n",
      "9\n",
      "10\n",
      "11\n",
      "12\n",
      "13\n",
      "14\n",
      "15\n",
      "16\n",
      "17\n",
      "18\n",
      "19\n",
      "20\n",
      "21\n",
      "22\n",
      "23\n",
      "24\n",
      "25\n",
      "26\n",
      "27\n",
      "28\n",
      "29\n",
      "30\n",
      "31\n",
      "32\n",
      "33\n",
      "34\n",
      "35\n",
      "36\n",
      "37\n",
      "38\n",
      "39\n",
      "40\n",
      "41\n",
      "42\n",
      "43\n",
      "44\n",
      "45\n",
      "46\n",
      "47\n",
      "48\n",
      "49\n"
     ]
    }
   ],
   "source": [
    "X_test_lasso_001 = X_test[features_lasso_001]\n",
    "X_train_lasso_001= X_train[features_lasso_001]\n",
    "X_val_lasso_001 = X_val[features_lasso_001]\n",
    "for iteration in range(50):\n",
    "    print(iteration)\n",
    "    model = CatBoostRegressor(verbose=0, n_estimators=250,use_best_model=True, random_seed=seeds[iteration])\n",
    "    model.fit(\n",
    "        X_train_lasso_001, y_train,\n",
    "        eval_set=(X_val_lasso_001, y_val),\n",
    "        verbose = 0,\n",
    "        plot=False\n",
    "    );\n",
    "    \n",
    "    test_results = scores_calc_print(y_test, model.predict(X_test_lasso_001), print_bool=False)\n",
    "    \n",
    "    dict_results_lasso_001[\"r2\"].append(test_results[\"R2\"])\n",
    "    dict_results_lasso_001[\"rmse\"].append(test_results[\"RMSE\"])\n",
    "    dict_results_lasso_001[\"mae\"].append(test_results[\"MAE\"])"
   ]
  },
  {
   "cell_type": "code",
   "execution_count": 31,
   "metadata": {
    "ExecuteTime": {
     "end_time": "2023-01-05T10:35:21.040690Z",
     "start_time": "2023-01-05T10:35:21.012038Z"
    }
   },
   "outputs": [],
   "source": [
    "results_lasso_001_df = pd.DataFrame(dict_results_lasso_001)\n",
    "mean_lasso_001_test = results_lasso_001_df.mean()\n",
    "std_lasso_001_test = results_lasso_001_df.std()\n",
    "max_lasso_001_test = results_lasso_001_df.max()\n",
    "min_lasso_001_test = results_lasso_001_df.min()"
   ]
  },
  {
   "cell_type": "code",
   "execution_count": 32,
   "metadata": {
    "ExecuteTime": {
     "end_time": "2023-01-05T10:35:21.070002Z",
     "start_time": "2023-01-05T10:35:21.043574Z"
    }
   },
   "outputs": [
    {
     "data": {
      "text/plain": [
       "(rmse    36.997832\n",
       " mae     29.782763\n",
       " r2      -0.436198\n",
       " dtype: float64,\n",
       " rmse    2.512259\n",
       " mae     2.558360\n",
       " r2      0.194020\n",
       " dtype: float64,\n",
       " rmse    43.553970\n",
       " mae     36.020285\n",
       " r2      -0.033578\n",
       " dtype: float64,\n",
       " rmse    31.457175\n",
       " mae     24.399723\n",
       " r2      -0.981341\n",
       " dtype: float64)"
      ]
     },
     "execution_count": 32,
     "metadata": {},
     "output_type": "execute_result"
    }
   ],
   "source": [
    "mean_lasso_001_test, std_lasso_001_test, max_lasso_001_test, min_lasso_001_test"
   ]
  },
  {
   "cell_type": "markdown",
   "metadata": {},
   "source": [
    "## Lasso 0.001"
   ]
  },
  {
   "cell_type": "code",
   "execution_count": 33,
   "metadata": {
    "ExecuteTime": {
     "end_time": "2023-01-05T10:35:22.184134Z",
     "start_time": "2023-01-05T10:35:21.072050Z"
    }
   },
   "outputs": [
    {
     "data": {
      "text/html": [
       "<style>#sk-container-id-2 {color: black;background-color: white;}#sk-container-id-2 pre{padding: 0;}#sk-container-id-2 div.sk-toggleable {background-color: white;}#sk-container-id-2 label.sk-toggleable__label {cursor: pointer;display: block;width: 100%;margin-bottom: 0;padding: 0.3em;box-sizing: border-box;text-align: center;}#sk-container-id-2 label.sk-toggleable__label-arrow:before {content: \"▸\";float: left;margin-right: 0.25em;color: #696969;}#sk-container-id-2 label.sk-toggleable__label-arrow:hover:before {color: black;}#sk-container-id-2 div.sk-estimator:hover label.sk-toggleable__label-arrow:before {color: black;}#sk-container-id-2 div.sk-toggleable__content {max-height: 0;max-width: 0;overflow: hidden;text-align: left;background-color: #f0f8ff;}#sk-container-id-2 div.sk-toggleable__content pre {margin: 0.2em;color: black;border-radius: 0.25em;background-color: #f0f8ff;}#sk-container-id-2 input.sk-toggleable__control:checked~div.sk-toggleable__content {max-height: 200px;max-width: 100%;overflow: auto;}#sk-container-id-2 input.sk-toggleable__control:checked~label.sk-toggleable__label-arrow:before {content: \"▾\";}#sk-container-id-2 div.sk-estimator input.sk-toggleable__control:checked~label.sk-toggleable__label {background-color: #d4ebff;}#sk-container-id-2 div.sk-label input.sk-toggleable__control:checked~label.sk-toggleable__label {background-color: #d4ebff;}#sk-container-id-2 input.sk-hidden--visually {border: 0;clip: rect(1px 1px 1px 1px);clip: rect(1px, 1px, 1px, 1px);height: 1px;margin: -1px;overflow: hidden;padding: 0;position: absolute;width: 1px;}#sk-container-id-2 div.sk-estimator {font-family: monospace;background-color: #f0f8ff;border: 1px dotted black;border-radius: 0.25em;box-sizing: border-box;margin-bottom: 0.5em;}#sk-container-id-2 div.sk-estimator:hover {background-color: #d4ebff;}#sk-container-id-2 div.sk-parallel-item::after {content: \"\";width: 100%;border-bottom: 1px solid gray;flex-grow: 1;}#sk-container-id-2 div.sk-label:hover label.sk-toggleable__label {background-color: #d4ebff;}#sk-container-id-2 div.sk-serial::before {content: \"\";position: absolute;border-left: 1px solid gray;box-sizing: border-box;top: 0;bottom: 0;left: 50%;z-index: 0;}#sk-container-id-2 div.sk-serial {display: flex;flex-direction: column;align-items: center;background-color: white;padding-right: 0.2em;padding-left: 0.2em;position: relative;}#sk-container-id-2 div.sk-item {position: relative;z-index: 1;}#sk-container-id-2 div.sk-parallel {display: flex;align-items: stretch;justify-content: center;background-color: white;position: relative;}#sk-container-id-2 div.sk-item::before, #sk-container-id-2 div.sk-parallel-item::before {content: \"\";position: absolute;border-left: 1px solid gray;box-sizing: border-box;top: 0;bottom: 0;left: 50%;z-index: -1;}#sk-container-id-2 div.sk-parallel-item {display: flex;flex-direction: column;z-index: 1;position: relative;background-color: white;}#sk-container-id-2 div.sk-parallel-item:first-child::after {align-self: flex-end;width: 50%;}#sk-container-id-2 div.sk-parallel-item:last-child::after {align-self: flex-start;width: 50%;}#sk-container-id-2 div.sk-parallel-item:only-child::after {width: 0;}#sk-container-id-2 div.sk-dashed-wrapped {border: 1px dashed gray;margin: 0 0.4em 0.5em 0.4em;box-sizing: border-box;padding-bottom: 0.4em;background-color: white;}#sk-container-id-2 div.sk-label label {font-family: monospace;font-weight: bold;display: inline-block;line-height: 1.2em;}#sk-container-id-2 div.sk-label-container {text-align: center;}#sk-container-id-2 div.sk-container {/* jupyter's `normalize.less` sets `[hidden] { display: none; }` but bootstrap.min.css set `[hidden] { display: none !important; }` so we also need the `!important` here to be able to override the default hidden behavior on the sphinx rendered scikit-learn.org. See: https://github.com/scikit-learn/scikit-learn/issues/21755 */display: inline-block !important;position: relative;}#sk-container-id-2 div.sk-text-repr-fallback {display: none;}</style><div id=\"sk-container-id-2\" class=\"sk-top-container\"><div class=\"sk-text-repr-fallback\"><pre>Lasso(alpha=0.001)</pre><b>In a Jupyter environment, please rerun this cell to show the HTML representation or trust the notebook. <br />On GitHub, the HTML representation is unable to render, please try loading this page with nbviewer.org.</b></div><div class=\"sk-container\" hidden><div class=\"sk-item\"><div class=\"sk-estimator sk-toggleable\"><input class=\"sk-toggleable__control sk-hidden--visually\" id=\"sk-estimator-id-2\" type=\"checkbox\" checked><label for=\"sk-estimator-id-2\" class=\"sk-toggleable__label sk-toggleable__label-arrow\">Lasso</label><div class=\"sk-toggleable__content\"><pre>Lasso(alpha=0.001)</pre></div></div></div></div></div>"
      ],
      "text/plain": [
       "Lasso(alpha=0.001)"
      ]
     },
     "execution_count": 33,
     "metadata": {},
     "output_type": "execute_result"
    }
   ],
   "source": [
    "model = Lasso(alpha = 0.001)\n",
    "model.fit(X_train_norm, y_train_norm)"
   ]
  },
  {
   "cell_type": "code",
   "execution_count": 34,
   "metadata": {
    "ExecuteTime": {
     "end_time": "2023-01-05T10:35:22.199951Z",
     "start_time": "2023-01-05T10:35:22.186179Z"
    }
   },
   "outputs": [
    {
     "data": {
      "text/plain": [
       "['hueco_termico_previsto_1d',\n",
       " 'max_carbon',\n",
       " 'max_co2',\n",
       " 'min_md_espana',\n",
       " 'precio_de_utilizacion_de_secundaria_subir_24',\n",
       " 'precio_gas_24',\n",
       " 'precio_gas_48',\n",
       " 'precio_regulacion_terciaria_subir_24',\n",
       " 'prevision_eolica_diaria_d1',\n",
       " 'prevision_renovable_diaria_d1',\n",
       " 'q1_gas',\n",
       " 'q1_md_espana',\n",
       " 'q1_md_francia']"
      ]
     },
     "execution_count": 34,
     "metadata": {},
     "output_type": "execute_result"
    }
   ],
   "source": [
    "features_lasso_0001 = sorted(list(X_train.columns[np.abs(model.coef_) > sys.float_info.epsilon]))\n",
    "features_lasso_0001"
   ]
  },
  {
   "cell_type": "code",
   "execution_count": 35,
   "metadata": {
    "ExecuteTime": {
     "end_time": "2023-01-05T10:35:22.234773Z",
     "start_time": "2023-01-05T10:35:22.203102Z"
    }
   },
   "outputs": [],
   "source": [
    "dict_results_lasso_0001 = {'rmse':[], 'mae':[], 'r2':[]}"
   ]
  },
  {
   "cell_type": "code",
   "execution_count": 36,
   "metadata": {
    "ExecuteTime": {
     "end_time": "2023-01-05T10:38:26.037144Z",
     "start_time": "2023-01-05T10:35:22.236854Z"
    },
    "scrolled": true
   },
   "outputs": [
    {
     "name": "stdout",
     "output_type": "stream",
     "text": [
      "0\n",
      "1\n",
      "2\n",
      "3\n",
      "4\n",
      "5\n",
      "6\n",
      "7\n",
      "8\n",
      "9\n",
      "10\n",
      "11\n",
      "12\n",
      "13\n",
      "14\n",
      "15\n",
      "16\n",
      "17\n",
      "18\n",
      "19\n",
      "20\n",
      "21\n",
      "22\n",
      "23\n",
      "24\n",
      "25\n",
      "26\n",
      "27\n",
      "28\n",
      "29\n",
      "30\n",
      "31\n",
      "32\n",
      "33\n",
      "34\n",
      "35\n",
      "36\n",
      "37\n",
      "38\n",
      "39\n",
      "40\n",
      "41\n",
      "42\n",
      "43\n",
      "44\n",
      "45\n",
      "46\n",
      "47\n",
      "48\n",
      "49\n"
     ]
    }
   ],
   "source": [
    "X_test_lasso_0001 = X_test[features_lasso_0001]\n",
    "X_train_lasso_0001= X_train[features_lasso_0001]\n",
    "X_val_lasso_0001 = X_val[features_lasso_0001]\n",
    "for iteration in range(50):\n",
    "    print(iteration)\n",
    "    model = CatBoostRegressor(verbose=0, n_estimators=250,use_best_model=True, random_seed=seeds[iteration])\n",
    "    model.fit(\n",
    "        X_train_lasso_0001, y_train,\n",
    "        eval_set=(X_val_lasso_0001, y_val),\n",
    "        verbose = 0,\n",
    "        plot=False\n",
    "    );\n",
    "    \n",
    "    test_results = scores_calc_print(y_test, model.predict(X_test_lasso_0001), print_bool=False)\n",
    "    \n",
    "    dict_results_lasso_0001[\"r2\"].append(test_results[\"R2\"])\n",
    "    dict_results_lasso_0001[\"rmse\"].append(test_results[\"RMSE\"])\n",
    "    dict_results_lasso_0001[\"mae\"].append(test_results[\"MAE\"])"
   ]
  },
  {
   "cell_type": "code",
   "execution_count": 37,
   "metadata": {
    "ExecuteTime": {
     "end_time": "2023-01-05T10:38:26.060913Z",
     "start_time": "2023-01-05T10:38:26.041582Z"
    }
   },
   "outputs": [],
   "source": [
    "results_lasso_0001_df = pd.DataFrame(dict_results_lasso_0001)\n",
    "mean_lasso_0001_test = results_lasso_0001_df.mean()\n",
    "std_lasso_0001_test = results_lasso_0001_df.std()\n",
    "max_lasso_0001_test = results_lasso_0001_df.max()\n",
    "min_lasso_0001_test = results_lasso_0001_df.min()"
   ]
  },
  {
   "cell_type": "code",
   "execution_count": 38,
   "metadata": {
    "ExecuteTime": {
     "end_time": "2023-01-05T10:38:26.113034Z",
     "start_time": "2023-01-05T10:38:26.066214Z"
    }
   },
   "outputs": [
    {
     "data": {
      "text/plain": [
       "(rmse    31.451442\n",
       " mae     25.000788\n",
       " r2      -0.045924\n",
       " dtype: float64,\n",
       " rmse    3.525595\n",
       " mae     3.561164\n",
       " r2      0.246576\n",
       " dtype: float64,\n",
       " rmse    42.493306\n",
       " mae     35.484746\n",
       " r2       0.300293\n",
       " dtype: float64,\n",
       " rmse    25.882507\n",
       " mae     20.103016\n",
       " r2      -0.886013\n",
       " dtype: float64)"
      ]
     },
     "execution_count": 38,
     "metadata": {},
     "output_type": "execute_result"
    }
   ],
   "source": [
    "mean_lasso_0001_test, std_lasso_0001_test, max_lasso_0001_test, min_lasso_0001_test"
   ]
  },
  {
   "cell_type": "markdown",
   "metadata": {},
   "source": [
    "## Lasso 0.0001"
   ]
  },
  {
   "cell_type": "code",
   "execution_count": 39,
   "metadata": {
    "ExecuteTime": {
     "end_time": "2023-01-05T10:38:41.295521Z",
     "start_time": "2023-01-05T10:38:26.116445Z"
    }
   },
   "outputs": [
    {
     "data": {
      "text/html": [
       "<style>#sk-container-id-3 {color: black;background-color: white;}#sk-container-id-3 pre{padding: 0;}#sk-container-id-3 div.sk-toggleable {background-color: white;}#sk-container-id-3 label.sk-toggleable__label {cursor: pointer;display: block;width: 100%;margin-bottom: 0;padding: 0.3em;box-sizing: border-box;text-align: center;}#sk-container-id-3 label.sk-toggleable__label-arrow:before {content: \"▸\";float: left;margin-right: 0.25em;color: #696969;}#sk-container-id-3 label.sk-toggleable__label-arrow:hover:before {color: black;}#sk-container-id-3 div.sk-estimator:hover label.sk-toggleable__label-arrow:before {color: black;}#sk-container-id-3 div.sk-toggleable__content {max-height: 0;max-width: 0;overflow: hidden;text-align: left;background-color: #f0f8ff;}#sk-container-id-3 div.sk-toggleable__content pre {margin: 0.2em;color: black;border-radius: 0.25em;background-color: #f0f8ff;}#sk-container-id-3 input.sk-toggleable__control:checked~div.sk-toggleable__content {max-height: 200px;max-width: 100%;overflow: auto;}#sk-container-id-3 input.sk-toggleable__control:checked~label.sk-toggleable__label-arrow:before {content: \"▾\";}#sk-container-id-3 div.sk-estimator input.sk-toggleable__control:checked~label.sk-toggleable__label {background-color: #d4ebff;}#sk-container-id-3 div.sk-label input.sk-toggleable__control:checked~label.sk-toggleable__label {background-color: #d4ebff;}#sk-container-id-3 input.sk-hidden--visually {border: 0;clip: rect(1px 1px 1px 1px);clip: rect(1px, 1px, 1px, 1px);height: 1px;margin: -1px;overflow: hidden;padding: 0;position: absolute;width: 1px;}#sk-container-id-3 div.sk-estimator {font-family: monospace;background-color: #f0f8ff;border: 1px dotted black;border-radius: 0.25em;box-sizing: border-box;margin-bottom: 0.5em;}#sk-container-id-3 div.sk-estimator:hover {background-color: #d4ebff;}#sk-container-id-3 div.sk-parallel-item::after {content: \"\";width: 100%;border-bottom: 1px solid gray;flex-grow: 1;}#sk-container-id-3 div.sk-label:hover label.sk-toggleable__label {background-color: #d4ebff;}#sk-container-id-3 div.sk-serial::before {content: \"\";position: absolute;border-left: 1px solid gray;box-sizing: border-box;top: 0;bottom: 0;left: 50%;z-index: 0;}#sk-container-id-3 div.sk-serial {display: flex;flex-direction: column;align-items: center;background-color: white;padding-right: 0.2em;padding-left: 0.2em;position: relative;}#sk-container-id-3 div.sk-item {position: relative;z-index: 1;}#sk-container-id-3 div.sk-parallel {display: flex;align-items: stretch;justify-content: center;background-color: white;position: relative;}#sk-container-id-3 div.sk-item::before, #sk-container-id-3 div.sk-parallel-item::before {content: \"\";position: absolute;border-left: 1px solid gray;box-sizing: border-box;top: 0;bottom: 0;left: 50%;z-index: -1;}#sk-container-id-3 div.sk-parallel-item {display: flex;flex-direction: column;z-index: 1;position: relative;background-color: white;}#sk-container-id-3 div.sk-parallel-item:first-child::after {align-self: flex-end;width: 50%;}#sk-container-id-3 div.sk-parallel-item:last-child::after {align-self: flex-start;width: 50%;}#sk-container-id-3 div.sk-parallel-item:only-child::after {width: 0;}#sk-container-id-3 div.sk-dashed-wrapped {border: 1px dashed gray;margin: 0 0.4em 0.5em 0.4em;box-sizing: border-box;padding-bottom: 0.4em;background-color: white;}#sk-container-id-3 div.sk-label label {font-family: monospace;font-weight: bold;display: inline-block;line-height: 1.2em;}#sk-container-id-3 div.sk-label-container {text-align: center;}#sk-container-id-3 div.sk-container {/* jupyter's `normalize.less` sets `[hidden] { display: none; }` but bootstrap.min.css set `[hidden] { display: none !important; }` so we also need the `!important` here to be able to override the default hidden behavior on the sphinx rendered scikit-learn.org. See: https://github.com/scikit-learn/scikit-learn/issues/21755 */display: inline-block !important;position: relative;}#sk-container-id-3 div.sk-text-repr-fallback {display: none;}</style><div id=\"sk-container-id-3\" class=\"sk-top-container\"><div class=\"sk-text-repr-fallback\"><pre>Lasso(alpha=0.0001)</pre><b>In a Jupyter environment, please rerun this cell to show the HTML representation or trust the notebook. <br />On GitHub, the HTML representation is unable to render, please try loading this page with nbviewer.org.</b></div><div class=\"sk-container\" hidden><div class=\"sk-item\"><div class=\"sk-estimator sk-toggleable\"><input class=\"sk-toggleable__control sk-hidden--visually\" id=\"sk-estimator-id-3\" type=\"checkbox\" checked><label for=\"sk-estimator-id-3\" class=\"sk-toggleable__label sk-toggleable__label-arrow\">Lasso</label><div class=\"sk-toggleable__content\"><pre>Lasso(alpha=0.0001)</pre></div></div></div></div></div>"
      ],
      "text/plain": [
       "Lasso(alpha=0.0001)"
      ]
     },
     "execution_count": 39,
     "metadata": {},
     "output_type": "execute_result"
    }
   ],
   "source": [
    "model = Lasso(alpha = 0.0001)\n",
    "model.fit(X_train_norm, y_train_norm)"
   ]
  },
  {
   "cell_type": "code",
   "execution_count": 40,
   "metadata": {
    "ExecuteTime": {
     "end_time": "2023-01-05T10:38:41.310679Z",
     "start_time": "2023-01-05T10:38:41.298185Z"
    }
   },
   "outputs": [
    {
     "data": {
      "text/plain": [
       "['asignacion_banda_de_regulacion_secundaria_a_bajar_24',\n",
       " 'asignacion_banda_de_regulacion_secundaria_a_bajar_72',\n",
       " 'asignacion_banda_de_regulacion_secundaria_a_subir_168',\n",
       " 'asignacion_gestion_de_desvios_bajar_72',\n",
       " 'curtosis_md_francia',\n",
       " 'curtosis_petroleo',\n",
       " 'dia_semana',\n",
       " 'error_prevision_demanda_1d_48',\n",
       " 'error_prevision_demanda_1d_casacion_24',\n",
       " 'generacion_treal_solar_termica_48',\n",
       " 'generacion_treal_solar_termica_72',\n",
       " 'hora',\n",
       " 'hueco_termico_casado_24',\n",
       " 'hueco_termico_previsto_1d',\n",
       " 'hueco_termico_previsto_1d_24',\n",
       " 'max_residual',\n",
       " 'md_espana_72',\n",
       " 'mediana_co2',\n",
       " 'mediana_md_espana',\n",
       " 'mi2_espana_24',\n",
       " 'mi3_espana_24',\n",
       " 'min_md_espana',\n",
       " 'phf3_eolica_terrestre_24',\n",
       " 'precio_banda_de_regulacion_secundaria_168',\n",
       " 'precio_banda_de_regulacion_secundaria_24',\n",
       " 'precio_de_los_desvios_medidos_a_bajar_24',\n",
       " 'precio_de_utilizacion_de_secundaria_subir_24',\n",
       " 'precio_gas_168',\n",
       " 'precio_gas_24',\n",
       " 'precio_gas_48',\n",
       " 'precio_petroleo',\n",
       " 'precio_petroleo_168',\n",
       " 'precio_regulacion_terciaria_subir_24',\n",
       " 'prevision_eolica_diaria_d1',\n",
       " 'prevision_eolica_intradia_h3_24',\n",
       " 'prevision_renovable_diaria_d1',\n",
       " 'q1_gas',\n",
       " 'q1_md_francia',\n",
       " 'skew_carbon',\n",
       " 'skew_gas',\n",
       " 'skew_md_espana',\n",
       " 'skew_md_francia',\n",
       " 'skew_residual',\n",
       " 'std_carbon',\n",
       " 'std_eolica',\n",
       " 'std_fotovoltaica',\n",
       " 'std_gas']"
      ]
     },
     "execution_count": 40,
     "metadata": {},
     "output_type": "execute_result"
    }
   ],
   "source": [
    "features_lasso_00001 = sorted(list(X_train.columns[np.abs(model.coef_) > sys.float_info.epsilon]))\n",
    "features_lasso_00001"
   ]
  },
  {
   "cell_type": "code",
   "execution_count": 41,
   "metadata": {
    "ExecuteTime": {
     "end_time": "2023-01-05T10:38:41.323901Z",
     "start_time": "2023-01-05T10:38:41.314426Z"
    }
   },
   "outputs": [],
   "source": [
    "dict_results_lasso_00001 = {'rmse':[], 'mae':[], 'r2':[]}"
   ]
  },
  {
   "cell_type": "code",
   "execution_count": 42,
   "metadata": {
    "ExecuteTime": {
     "end_time": "2023-01-05T10:45:16.441366Z",
     "start_time": "2023-01-05T10:38:41.330132Z"
    },
    "scrolled": true
   },
   "outputs": [
    {
     "name": "stdout",
     "output_type": "stream",
     "text": [
      "0\n",
      "1\n",
      "2\n",
      "3\n",
      "4\n",
      "5\n",
      "6\n",
      "7\n",
      "8\n",
      "9\n",
      "10\n",
      "11\n",
      "12\n",
      "13\n",
      "14\n",
      "15\n",
      "16\n",
      "17\n",
      "18\n",
      "19\n",
      "20\n",
      "21\n",
      "22\n",
      "23\n",
      "24\n",
      "25\n",
      "26\n",
      "27\n",
      "28\n",
      "29\n",
      "30\n",
      "31\n",
      "32\n",
      "33\n",
      "34\n",
      "35\n",
      "36\n",
      "37\n",
      "38\n",
      "39\n",
      "40\n",
      "41\n",
      "42\n",
      "43\n",
      "44\n",
      "45\n",
      "46\n",
      "47\n",
      "48\n",
      "49\n"
     ]
    }
   ],
   "source": [
    "X_test_lasso_00001 = X_test[features_lasso_00001]\n",
    "X_train_lasso_00001= X_train[features_lasso_00001]\n",
    "X_val_lasso_00001 = X_val[features_lasso_00001]\n",
    "for iteration in range(50):\n",
    "    print(iteration)\n",
    "    model = CatBoostRegressor(verbose=0, n_estimators=250,use_best_model=True, random_seed=seeds[iteration])\n",
    "    model.fit(\n",
    "        X_train_lasso_00001, y_train,\n",
    "        eval_set=(X_val_lasso_00001, y_val),\n",
    "        verbose = 0,\n",
    "        plot=False\n",
    "    );\n",
    "    \n",
    "    test_results = scores_calc_print(y_test, model.predict(X_test_lasso_00001), print_bool=False)\n",
    "    \n",
    "    dict_results_lasso_00001[\"r2\"].append(test_results[\"R2\"])\n",
    "    dict_results_lasso_00001[\"rmse\"].append(test_results[\"RMSE\"])\n",
    "    dict_results_lasso_00001[\"mae\"].append(test_results[\"MAE\"])"
   ]
  },
  {
   "cell_type": "code",
   "execution_count": 43,
   "metadata": {
    "ExecuteTime": {
     "end_time": "2023-01-05T10:45:16.457825Z",
     "start_time": "2023-01-05T10:45:16.443408Z"
    }
   },
   "outputs": [],
   "source": [
    "results_lasso_00001_df = pd.DataFrame(dict_results_lasso_00001)\n",
    "mean_lasso_00001_test = results_lasso_00001_df.mean()\n",
    "std_lasso_00001_test = results_lasso_00001_df.std()\n",
    "max_lasso_00001_test = results_lasso_00001_df.max()\n",
    "min_lasso_00001_test = results_lasso_00001_df.min()"
   ]
  },
  {
   "cell_type": "code",
   "execution_count": 44,
   "metadata": {
    "ExecuteTime": {
     "end_time": "2023-01-05T10:45:18.729070Z",
     "start_time": "2023-01-05T10:45:16.463145Z"
    }
   },
   "outputs": [
    {
     "data": {
      "text/plain": [
       "(rmse    29.221246\n",
       " mae     22.786294\n",
       " r2       0.104188\n",
       " dtype: float64,\n",
       " rmse    1.962737\n",
       " mae     1.814431\n",
       " r2      0.125364\n",
       " dtype: float64,\n",
       " rmse    36.032574\n",
       " mae     30.013286\n",
       " r2       0.296176\n",
       " dtype: float64,\n",
       " rmse    25.958545\n",
       " mae     19.498882\n",
       " r2      -0.356108\n",
       " dtype: float64)"
      ]
     },
     "execution_count": 44,
     "metadata": {},
     "output_type": "execute_result"
    }
   ],
   "source": [
    "mean_lasso_00001_test, std_lasso_00001_test, max_lasso_00001_test, min_lasso_00001_test"
   ]
  },
  {
   "cell_type": "markdown",
   "metadata": {},
   "source": [
    "## Lasso 0.00001"
   ]
  },
  {
   "cell_type": "code",
   "execution_count": 45,
   "metadata": {
    "ExecuteTime": {
     "end_time": "2023-01-05T10:46:43.169381Z",
     "start_time": "2023-01-05T10:45:18.732773Z"
    }
   },
   "outputs": [
    {
     "data": {
      "text/html": [
       "<style>#sk-container-id-4 {color: black;background-color: white;}#sk-container-id-4 pre{padding: 0;}#sk-container-id-4 div.sk-toggleable {background-color: white;}#sk-container-id-4 label.sk-toggleable__label {cursor: pointer;display: block;width: 100%;margin-bottom: 0;padding: 0.3em;box-sizing: border-box;text-align: center;}#sk-container-id-4 label.sk-toggleable__label-arrow:before {content: \"▸\";float: left;margin-right: 0.25em;color: #696969;}#sk-container-id-4 label.sk-toggleable__label-arrow:hover:before {color: black;}#sk-container-id-4 div.sk-estimator:hover label.sk-toggleable__label-arrow:before {color: black;}#sk-container-id-4 div.sk-toggleable__content {max-height: 0;max-width: 0;overflow: hidden;text-align: left;background-color: #f0f8ff;}#sk-container-id-4 div.sk-toggleable__content pre {margin: 0.2em;color: black;border-radius: 0.25em;background-color: #f0f8ff;}#sk-container-id-4 input.sk-toggleable__control:checked~div.sk-toggleable__content {max-height: 200px;max-width: 100%;overflow: auto;}#sk-container-id-4 input.sk-toggleable__control:checked~label.sk-toggleable__label-arrow:before {content: \"▾\";}#sk-container-id-4 div.sk-estimator input.sk-toggleable__control:checked~label.sk-toggleable__label {background-color: #d4ebff;}#sk-container-id-4 div.sk-label input.sk-toggleable__control:checked~label.sk-toggleable__label {background-color: #d4ebff;}#sk-container-id-4 input.sk-hidden--visually {border: 0;clip: rect(1px 1px 1px 1px);clip: rect(1px, 1px, 1px, 1px);height: 1px;margin: -1px;overflow: hidden;padding: 0;position: absolute;width: 1px;}#sk-container-id-4 div.sk-estimator {font-family: monospace;background-color: #f0f8ff;border: 1px dotted black;border-radius: 0.25em;box-sizing: border-box;margin-bottom: 0.5em;}#sk-container-id-4 div.sk-estimator:hover {background-color: #d4ebff;}#sk-container-id-4 div.sk-parallel-item::after {content: \"\";width: 100%;border-bottom: 1px solid gray;flex-grow: 1;}#sk-container-id-4 div.sk-label:hover label.sk-toggleable__label {background-color: #d4ebff;}#sk-container-id-4 div.sk-serial::before {content: \"\";position: absolute;border-left: 1px solid gray;box-sizing: border-box;top: 0;bottom: 0;left: 50%;z-index: 0;}#sk-container-id-4 div.sk-serial {display: flex;flex-direction: column;align-items: center;background-color: white;padding-right: 0.2em;padding-left: 0.2em;position: relative;}#sk-container-id-4 div.sk-item {position: relative;z-index: 1;}#sk-container-id-4 div.sk-parallel {display: flex;align-items: stretch;justify-content: center;background-color: white;position: relative;}#sk-container-id-4 div.sk-item::before, #sk-container-id-4 div.sk-parallel-item::before {content: \"\";position: absolute;border-left: 1px solid gray;box-sizing: border-box;top: 0;bottom: 0;left: 50%;z-index: -1;}#sk-container-id-4 div.sk-parallel-item {display: flex;flex-direction: column;z-index: 1;position: relative;background-color: white;}#sk-container-id-4 div.sk-parallel-item:first-child::after {align-self: flex-end;width: 50%;}#sk-container-id-4 div.sk-parallel-item:last-child::after {align-self: flex-start;width: 50%;}#sk-container-id-4 div.sk-parallel-item:only-child::after {width: 0;}#sk-container-id-4 div.sk-dashed-wrapped {border: 1px dashed gray;margin: 0 0.4em 0.5em 0.4em;box-sizing: border-box;padding-bottom: 0.4em;background-color: white;}#sk-container-id-4 div.sk-label label {font-family: monospace;font-weight: bold;display: inline-block;line-height: 1.2em;}#sk-container-id-4 div.sk-label-container {text-align: center;}#sk-container-id-4 div.sk-container {/* jupyter's `normalize.less` sets `[hidden] { display: none; }` but bootstrap.min.css set `[hidden] { display: none !important; }` so we also need the `!important` here to be able to override the default hidden behavior on the sphinx rendered scikit-learn.org. See: https://github.com/scikit-learn/scikit-learn/issues/21755 */display: inline-block !important;position: relative;}#sk-container-id-4 div.sk-text-repr-fallback {display: none;}</style><div id=\"sk-container-id-4\" class=\"sk-top-container\"><div class=\"sk-text-repr-fallback\"><pre>Lasso(alpha=1e-05)</pre><b>In a Jupyter environment, please rerun this cell to show the HTML representation or trust the notebook. <br />On GitHub, the HTML representation is unable to render, please try loading this page with nbviewer.org.</b></div><div class=\"sk-container\" hidden><div class=\"sk-item\"><div class=\"sk-estimator sk-toggleable\"><input class=\"sk-toggleable__control sk-hidden--visually\" id=\"sk-estimator-id-4\" type=\"checkbox\" checked><label for=\"sk-estimator-id-4\" class=\"sk-toggleable__label sk-toggleable__label-arrow\">Lasso</label><div class=\"sk-toggleable__content\"><pre>Lasso(alpha=1e-05)</pre></div></div></div></div></div>"
      ],
      "text/plain": [
       "Lasso(alpha=1e-05)"
      ]
     },
     "execution_count": 45,
     "metadata": {},
     "output_type": "execute_result"
    }
   ],
   "source": [
    "model = Lasso(alpha = 0.00001)\n",
    "model.fit(X_train_norm, y_train_norm)"
   ]
  },
  {
   "cell_type": "code",
   "execution_count": 46,
   "metadata": {
    "ExecuteTime": {
     "end_time": "2023-01-05T10:46:43.185096Z",
     "start_time": "2023-01-05T10:46:43.170380Z"
    }
   },
   "outputs": [
    {
     "data": {
      "text/plain": [
       "['asignacion_banda_de_regulacion_secundaria_a_bajar_24',\n",
       " 'asignacion_banda_de_regulacion_secundaria_a_bajar_72',\n",
       " 'asignacion_banda_de_regulacion_secundaria_a_subir_168',\n",
       " 'asignacion_banda_de_regulacion_secundaria_a_subir_24',\n",
       " 'asignacion_banda_de_regulacion_secundaria_a_subir_48',\n",
       " 'asignacion_banda_de_regulacion_secundaria_a_subir_72',\n",
       " 'asignacion_gestion_de_desvios_bajar_24',\n",
       " 'asignacion_gestion_de_desvios_bajar_48',\n",
       " 'asignacion_gestion_de_desvios_bajar_72',\n",
       " 'asignacion_gestion_de_desvios_subir_168',\n",
       " 'asignacion_gestion_de_desvios_subir_48',\n",
       " 'asignacion_gestion_de_desvios_subir_72',\n",
       " 'asignacion_regulacion_terciaria_bajar_24',\n",
       " 'asignacion_regulacion_terciaria_bajar_72',\n",
       " 'asignacion_regulacion_terciaria_subir_168',\n",
       " 'asignacion_regulacion_terciaria_subir_24',\n",
       " 'asignacion_regulacion_terciaria_subir_48',\n",
       " 'asignacion_regulacion_terciaria_subir_72',\n",
       " 'coste_asignacion_de_banda_secundaria_48',\n",
       " 'curtosis_carbon',\n",
       " 'curtosis_co2',\n",
       " 'curtosis_eolica',\n",
       " 'curtosis_gas',\n",
       " 'curtosis_md_espana',\n",
       " 'curtosis_md_francia',\n",
       " 'curtosis_petroleo',\n",
       " 'curtosis_residual',\n",
       " 'desvios_generacion_demanda_48',\n",
       " 'dia_semana',\n",
       " 'energia_utilizada_de_regulacion_secundaria_bajar_24',\n",
       " 'energia_utilizada_de_regulacion_secundaria_bajar_72',\n",
       " 'energia_utilizada_de_regulacion_secundaria_subir_168',\n",
       " 'energia_utilizada_de_regulacion_secundaria_subir_48',\n",
       " 'energia_utilizada_de_regulacion_secundaria_subir_72',\n",
       " 'error_prevision_demanda_1d_168',\n",
       " 'error_prevision_demanda_1d_24',\n",
       " 'error_prevision_demanda_1d_48',\n",
       " 'error_prevision_demanda_1d_72',\n",
       " 'error_prevision_demanda_1d_casacion_168',\n",
       " 'error_prevision_demanda_1d_casacion_24',\n",
       " 'error_prevision_demanda_1d_casacion_48',\n",
       " 'error_prevision_demanda_1d_casacion_72',\n",
       " 'error_prevision_demanda_3h_72',\n",
       " 'error_prevision_eolica_1d_casacion_48',\n",
       " 'error_prevision_eolica_1d_casacion_72',\n",
       " 'error_prevision_eolica_3h_168',\n",
       " 'error_prevision_eolica_3h_24',\n",
       " 'error_prevision_eolica_3h_48',\n",
       " 'error_prevision_eolica_3h_72',\n",
       " 'error_prevision_eolica_3h_casacion_48',\n",
       " 'error_prevision_fotovoltaica_1d_168',\n",
       " 'error_prevision_fotovoltaica_3h_casacion_168',\n",
       " 'error_prevision_fotovoltaica_3h_casacion_48',\n",
       " 'generacion_prevista_solar_fotovoltaica_24',\n",
       " 'generacion_prevista_solar_fotovoltaica_72',\n",
       " 'generacion_prevista_solar_termica',\n",
       " 'generacion_prevista_solar_termica_168',\n",
       " 'generacion_treal_solar_fotovoltaica_168',\n",
       " 'generacion_treal_solar_fotovoltaica_72',\n",
       " 'generacion_treal_solar_termica_168',\n",
       " 'generacion_treal_solar_termica_48',\n",
       " 'generacion_treal_solar_termica_72',\n",
       " 'hora',\n",
       " 'hueco_termico_casado_168',\n",
       " 'hueco_termico_casado_24',\n",
       " 'hueco_termico_casado_48',\n",
       " 'hueco_termico_previsto_1d',\n",
       " 'hueco_termico_previsto_1d_168',\n",
       " 'hueco_termico_previsto_3h_168',\n",
       " 'max_md_espana',\n",
       " 'max_md_francia',\n",
       " 'max_residual',\n",
       " 'md_espana_48',\n",
       " 'md_espana_72',\n",
       " 'media_co2',\n",
       " 'media_gas',\n",
       " 'media_md_espana',\n",
       " 'mediana_carbon',\n",
       " 'mediana_co2',\n",
       " 'mediana_eolica',\n",
       " 'mediana_fotovoltaica',\n",
       " 'mediana_md_espana',\n",
       " 'mediana_residual',\n",
       " 'mi1_espana_168',\n",
       " 'mi1_espana_24',\n",
       " 'mi1_espana_48',\n",
       " 'mi1_espana_72',\n",
       " 'mi2_espana_24',\n",
       " 'mi3_espana_168',\n",
       " 'mi3_espana_24',\n",
       " 'min_carbon',\n",
       " 'min_eolica',\n",
       " 'min_gas',\n",
       " 'min_md_espana',\n",
       " 'min_md_francia',\n",
       " 'min_petroleo',\n",
       " 'min_residual',\n",
       " 'phf3_eolica_terrestre_24',\n",
       " 'phf3_solar_fotovoltaica_48',\n",
       " 'phf3_solar_fotovoltaica_72',\n",
       " 'phfc_demanda_programada_72',\n",
       " 'precio_banda_de_regulacion_secundaria_168',\n",
       " 'precio_banda_de_regulacion_secundaria_24',\n",
       " 'precio_banda_de_regulacion_secundaria_48',\n",
       " 'precio_banda_de_regulacion_secundaria_72',\n",
       " 'precio_carbon',\n",
       " 'precio_carbon_48',\n",
       " 'precio_carbon_72',\n",
       " 'precio_co2_168',\n",
       " 'precio_co2_24',\n",
       " 'precio_co2_72',\n",
       " 'precio_de_los_desvios_medidos_a_bajar_24',\n",
       " 'precio_de_los_desvios_medidos_a_bajar_48',\n",
       " 'precio_de_los_desvios_medidos_a_subir_72',\n",
       " 'precio_de_utilizacion_de_secundaria_bajar_72',\n",
       " 'precio_de_utilizacion_de_secundaria_subir_48',\n",
       " 'precio_gas_168',\n",
       " 'precio_gas_24',\n",
       " 'precio_gas_48',\n",
       " 'precio_petroleo',\n",
       " 'precio_petroleo_168',\n",
       " 'precio_petroleo_24',\n",
       " 'precio_regulacion_terciaria_bajar_48',\n",
       " 'precio_regulacion_terciaria_subir_168',\n",
       " 'precio_regulacion_terciaria_subir_24',\n",
       " 'precio_regulacion_terciaria_subir_48',\n",
       " 'prevision_de_la_produccion_eolica',\n",
       " 'prevision_de_la_produccion_eolica_72',\n",
       " 'prevision_diaria_d1_demanda',\n",
       " 'prevision_diaria_d1_demanda_168',\n",
       " 'prevision_fotovoltaica_intradia_h3_168',\n",
       " 'prevision_fotovoltaica_intradia_h3_48',\n",
       " 'prevision_renovable_diaria_d1',\n",
       " 'prevision_renovable_intradia_h3_24',\n",
       " 'q1_carbon',\n",
       " 'q1_eolica',\n",
       " 'q1_md_francia',\n",
       " 'q3_eolica',\n",
       " 'q3_gas',\n",
       " 'q3_petroleo',\n",
       " 'q3_residual',\n",
       " 'skew_carbon',\n",
       " 'skew_co2',\n",
       " 'skew_eolica',\n",
       " 'skew_gas',\n",
       " 'skew_md_francia',\n",
       " 'skew_petroleo',\n",
       " 'skew_residual',\n",
       " 'std_carbon',\n",
       " 'std_co2',\n",
       " 'std_gas',\n",
       " 'std_md_espana',\n",
       " 'std_petroleo',\n",
       " 'variacion_prevision_demanda_24',\n",
       " 'variacion_prevision_eolica_24']"
      ]
     },
     "execution_count": 46,
     "metadata": {},
     "output_type": "execute_result"
    }
   ],
   "source": [
    "features_lasso_000001 = sorted(list(X_train.columns[np.abs(model.coef_) > sys.float_info.epsilon]))\n",
    "features_lasso_000001"
   ]
  },
  {
   "cell_type": "code",
   "execution_count": 47,
   "metadata": {
    "ExecuteTime": {
     "end_time": "2023-01-05T10:46:44.686611Z",
     "start_time": "2023-01-05T10:46:43.188598Z"
    }
   },
   "outputs": [],
   "source": [
    "dict_results_lasso_000001 = {'rmse':[], 'mae':[], 'r2':[]}"
   ]
  },
  {
   "cell_type": "code",
   "execution_count": 48,
   "metadata": {
    "ExecuteTime": {
     "end_time": "2023-01-05T11:09:08.019987Z",
     "start_time": "2023-01-05T10:46:44.688611Z"
    },
    "scrolled": true
   },
   "outputs": [
    {
     "name": "stdout",
     "output_type": "stream",
     "text": [
      "0\n",
      "1\n",
      "2\n",
      "3\n",
      "4\n",
      "5\n",
      "6\n",
      "7\n",
      "8\n",
      "9\n",
      "10\n",
      "11\n",
      "12\n",
      "13\n",
      "14\n",
      "15\n",
      "16\n",
      "17\n",
      "18\n",
      "19\n",
      "20\n",
      "21\n",
      "22\n",
      "23\n",
      "24\n",
      "25\n",
      "26\n",
      "27\n",
      "28\n",
      "29\n",
      "30\n",
      "31\n",
      "32\n",
      "33\n",
      "34\n",
      "35\n",
      "36\n",
      "37\n",
      "38\n",
      "39\n",
      "40\n",
      "41\n",
      "42\n",
      "43\n",
      "44\n",
      "45\n",
      "46\n",
      "47\n",
      "48\n",
      "49\n"
     ]
    }
   ],
   "source": [
    "X_test_lasso_000001 = X_test[features_lasso_000001]\n",
    "X_train_lasso_000001= X_train[features_lasso_000001]\n",
    "X_val_lasso_000001 = X_val[features_lasso_000001]\n",
    "for iteration in range(50):\n",
    "    print(iteration)\n",
    "    model = CatBoostRegressor(verbose=0, n_estimators=250,use_best_model=True, random_seed=seeds[iteration])\n",
    "    model.fit(\n",
    "        X_train_lasso_000001, y_train,\n",
    "        eval_set=(X_val_lasso_000001, y_val),\n",
    "        verbose = 0,\n",
    "        plot=False\n",
    "    );\n",
    "    \n",
    "    test_results = scores_calc_print(y_test, model.predict(X_test_lasso_000001), print_bool=False)\n",
    "    \n",
    "    dict_results_lasso_000001[\"r2\"].append(test_results[\"R2\"])\n",
    "    dict_results_lasso_000001[\"rmse\"].append(test_results[\"RMSE\"])\n",
    "    dict_results_lasso_000001[\"mae\"].append(test_results[\"MAE\"])"
   ]
  },
  {
   "cell_type": "code",
   "execution_count": 49,
   "metadata": {
    "ExecuteTime": {
     "end_time": "2023-01-05T11:09:08.050652Z",
     "start_time": "2023-01-05T11:09:08.024124Z"
    }
   },
   "outputs": [],
   "source": [
    "results_lasso_000001_df = pd.DataFrame(dict_results_lasso_000001)\n",
    "mean_lasso_000001_test = results_lasso_000001_df.mean()\n",
    "std_lasso_000001_test = results_lasso_000001_df.std()\n",
    "max_lasso_000001_test = results_lasso_000001_df.max()\n",
    "min_lasso_000001_test = results_lasso_000001_df.min()"
   ]
  },
  {
   "cell_type": "code",
   "execution_count": 50,
   "metadata": {
    "ExecuteTime": {
     "end_time": "2023-01-05T11:09:12.157212Z",
     "start_time": "2023-01-05T11:09:08.054286Z"
    }
   },
   "outputs": [
    {
     "data": {
      "text/plain": [
       "(rmse    29.151504\n",
       " mae     22.893073\n",
       " r2       0.104731\n",
       " dtype: float64,\n",
       " rmse    2.734215\n",
       " mae     2.802102\n",
       " r2      0.185166\n",
       " dtype: float64,\n",
       " rmse    42.446838\n",
       " mae     37.144017\n",
       " r2       0.372188\n",
       " dtype: float64,\n",
       " rmse    24.516747\n",
       " mae     18.932671\n",
       " r2      -0.881891\n",
       " dtype: float64)"
      ]
     },
     "execution_count": 50,
     "metadata": {},
     "output_type": "execute_result"
    }
   ],
   "source": [
    "mean_lasso_000001_test, std_lasso_000001_test, max_lasso_000001_test, min_lasso_000001_test"
   ]
  },
  {
   "cell_type": "markdown",
   "metadata": {},
   "source": [
    "## Boruta"
   ]
  },
  {
   "cell_type": "code",
   "execution_count": 51,
   "metadata": {
    "ExecuteTime": {
     "end_time": "2023-01-05T11:30:04.777397Z",
     "start_time": "2023-01-05T11:09:12.159252Z"
    }
   },
   "outputs": [
    {
     "name": "stderr",
     "output_type": "stream",
     "text": [
      "100%|██████████████████████████████████████████████████████████████████████████████████| 20/20 [20:52<00:00, 62.60s/it]"
     ]
    },
    {
     "name": "stdout",
     "output_type": "stream",
     "text": [
      "68 attributes confirmed important: ['precio_carbon_48', 'mediana_carbon', 'precio_co2', 'precio_de_utilizacion_de_secundaria_bajar_168', 'phf3_eolica_terrestre_24', 'q1_co2', 'precio_regulacion_terciaria_bajar_48', 'max_gas', 'q3_petroleo', 'std_petroleo', 'curtosis_co2', 'skew_petroleo', 'mi3_espana_24', 'max_md_francia', 'hueco_termico_casado_24', 'precio_co2_48', 'precio_co2_24', 'precio_petroleo_168', 'skew_residual', 'precio_co2_72', 'skew_gas', 'hueco_termico_previsto_1d_24', 'precio_regulacion_terciaria_bajar_72', 'md_espana_48', 'max_co2', 'precio_gas_24', 'precio_gas_48', 'precio_banda_de_regulacion_secundaria_24', 'precio_co2_168', 'mediana_co2', 'q3_md_espana', 'error_prevision_eolica_1d_casacion_24', 'prevision_diaria_d1_demanda', 'prevision_renovable_diaria_d1', 'precio_petroleo_24', 'precio_de_los_desvios_medidos_a_bajar_48', 'curtosis_petroleo', 'precio_regulacion_terciaria_subir_24', 'std_carbon', 'generacion_treal_eolica_24', 'mi2_espana_24', 'precio_gas', 'skew_co2', 'curtosis_carbon', 'q3_carbon', 'skew_carbon', 'min_petroleo', 'hueco_termico_previsto_1d', 'prevision_eolica_diaria_d1', 'hueco_termico_real_24', 'precio_carbon', 'mi1_espana_24', 'std_gas', 'precio_gas_72', 'precio_gas_168', 'dia_semana', 'media_carbon', 'curtosis_gas', 'std_co2', 'asignacion_banda_de_regulacion_secundaria_a_bajar_48', 'precio_petroleo', 'asignacion_banda_de_regulacion_secundaria_a_bajar_168', 'md_francia_24', 'error_prevision_eolica_3h_casacion_72', 'precio_carbon_24', 'precio_carbon_168', 'prevision_de_la_produccion_eolica', 'error_prevision_demanda_1d_casacion_24']\n",
      "116 attributes confirmed unimportant: ['energia_utilizada_de_regulacion_secundaria_subir_24', 'error_prevision_eolica_3h_casacion_24', 'error_prevision_fotovoltaica_3h_casacion_72', 'asignacion_banda_de_regulacion_secundaria_a_subir_72', 'asignacion_banda_de_regulacion_secundaria_a_subir_24', 'error_prevision_fotovoltaica_1d_casacion_24', 'media_fotovoltaica', 'asignacion_gestion_de_desvios_subir_24', 'desvios_generacion_demanda_48', 'prevision_h3_demanda_24', 'energia_utilizada_de_regulacion_secundaria_bajar_48', 'error_prevision_fotovoltaica_1d_casacion_48', 'max_fotovoltaica', 'energia_utilizada_de_regulacion_secundaria_bajar_168', 'energia_utilizada_de_regulacion_secundaria_subir_48', 'error_prevision_fotovoltaica_1d_casacion_72', 'phf3_solar_fotovoltaica_24', 'error_prevision_demanda_3h_casacion_24', 'mediana_md_francia', 'precio_de_utilizacion_de_secundaria_subir_48', 'variacion_prevision_fotovoltaica_168', 'phf3_solar_fotovoltaica_168', 'asignacion_gestion_de_desvios_bajar_72', 'phf3_solar_fotovoltaica_72', 'min_eolica', 'asignacion_regulacion_terciaria_subir_24', 'asignacion_gestion_de_desvios_subir_72', 'media_md_francia', 'generacion_prevista_solar_fotovoltaica_168', 'error_prevision_fotovoltaica_3h_168', 'mi1_espana_48', 'phf3_eolica_terrestre_48', 'mediana_fotovoltaica', 'precio_de_los_desvios_medidos_a_subir_168', 'error_prevision_fotovoltaica_1d_casacion_168', 'error_prevision_fotovoltaica_3h_48', 'hueco_termico_previsto_3h_48', 'error_prevision_demanda_3h_168', 'min_fotovoltaica', 'error_prevision_eolica_3h_48', 'precio_de_utilizacion_de_secundaria_subir_72', 'error_prevision_fotovoltaica_3h_24', 'curtosis_md_francia', 'precio_de_utilizacion_de_secundaria_subir_168', 'asignacion_regulacion_terciaria_bajar_168', 'error_prevision_demanda_3h_casacion_72', 'media_residual', 'variacion_prevision_eolica_48', 'q1_md_espana', 'desvios_generacion_demanda_24', 'curtosis_residual', 'asignacion_gestion_de_desvios_subir_48', 'asignacion_regulacion_terciaria_subir_72', 'prevision_diaria_d1_demanda_48', 'prevision_de_la_produccion_eolica_168', 'variacion_prevision_fotovoltaica_24', 'error_prevision_eolica_3h_72', 'asignacion_regulacion_terciaria_bajar_72', 'prevision_diaria_d1_demanda_72', 'prevision_fotovoltaica_intradia_h3_72', 'precio_de_los_desvios_medidos_a_bajar_168', 'prevision_h3_demanda_72', 'prevision_fotovoltaica_intradia_h3_24', 'error_prevision_fotovoltaica_1d_48', 'energia_utilizada_de_regulacion_secundaria_bajar_72', 'variacion_prevision_fotovoltaica_72', 'energia_utilizada_de_regulacion_secundaria_subir_168', 'energia_utilizada_de_regulacion_secundaria_subir_72', 'curtosis_md_espana', 'error_prevision_fotovoltaica_3h_casacion_24', 'generacion_prevista_solar_fotovoltaica_24', 'asignacion_regulacion_terciaria_subir_168', 'asignacion_banda_de_regulacion_secundaria_a_subir_48', 'min_residual', 'error_prevision_demanda_3h_72', 'asignacion_regulacion_terciaria_bajar_24', 'skew_md_francia', 'error_prevision_fotovoltaica_1d_24', 'error_prevision_fotovoltaica_3h_casacion_168', 'energia_utilizada_de_regulacion_secundaria_bajar_24', 'asignacion_banda_de_regulacion_secundaria_a_subir_168', 'asignacion_gestion_de_desvios_bajar_24', 'variacion_prevision_demanda_24', 'asignacion_gestion_de_desvios_bajar_168', 'asignacion_gestion_de_desvios_subir_168', 'phfc_demanda_programada_72', 'q3_residual', 'asignacion_gestion_de_desvios_bajar_48', 'error_prevision_eolica_3h_168', 'hueco_termico_previsto_3h_72', 'prevision_renovable_intradia_h3_48', 'generacion_prevista_solar_fotovoltaica_48', 'error_prevision_fotovoltaica_1d_72', 'error_prevision_demanda_3h_casacion_168', 'asignacion_regulacion_terciaria_subir_48', 'asignacion_regulacion_terciaria_bajar_48', 'error_prevision_demanda_3h_casacion_48', 'error_prevision_eolica_3h_24', 'error_prevision_fotovoltaica_3h_casacion_48', 'generacion_treal_solar_fotovoltaica_24', 'generacion_prevista_solar_termica_72', 'prevision_renovable_diaria_d1_168', 'variacion_prevision_eolica_24', 'prevision_renovable_diaria_d1_48', 'error_prevision_demanda_3h_24', 'variacion_prevision_fotovoltaica_48', 'error_prevision_demanda_1d_168', 'generacion_prevista_solar_fotovoltaica_72', 'q3_fotovoltaica', 'hueco_termico_casado_72', 'q1_fotovoltaica', 'error_prevision_demanda_1d_casacion_168', 'error_prevision_fotovoltaica_1d_168', 'generacion_prevista_solar_fotovoltaica', 'hueco_termico_previsto_1d_48', 'error_prevision_eolica_1d_168']\n",
      "151 tentative attributes remains: ['asignacion_banda_de_regulacion_secundaria_a_bajar_24', 'max_md_espana', 'mediana_eolica', 'hueco_termico_real_72', 'prevision_eolica_diaria_d1_168', 'precio_carbon_72', 'mi1_espana_72', 'coste_asignacion_de_banda_secundaria_48', 'precio_de_los_desvios_medidos_a_bajar_24', 'variacion_prevision_eolica_72', 'media_md_espana', 'precio_petroleo_48', 'media_gas', 'q1_eolica', 'generacion_treal_eolica_48', 'precio_regulacion_terciaria_bajar_24', 'error_prevision_eolica_1d_24', 'prevision_eolica_diaria_d1_48', 'media_co2', 'max_carbon', 'prevision_diaria_d1_demanda_168', 'std_fotovoltaica', 'precio_banda_de_regulacion_secundaria_168', 'prevision_eolica_intradia_h3_168', 'error_prevision_demanda_1d_48', 'prevision_renovable_intradia_h3_72', 'q3_md_francia', 'mi3_espana_48', 'prevision_renovable_intradia_h3_168', 'q1_residual', 'prevision_h3_demanda_168', 'precio_regulacion_terciaria_subir_72', 'error_prevision_eolica_1d_72', 'precio_banda_de_regulacion_secundaria_72', 'precio_regulacion_terciaria_subir_168', 'md_francia_168', 'generacion_prevista_solar_termica_24', 'precio_petroleo_72', 'min_md_francia', 'hueco_termico_previsto_3h_24', 'precio_de_utilizacion_de_secundaria_subir_24', 'curtosis_eolica', 'skew_md_espana', 'hueco_termico_previsto_1d_72', 'precio_de_utilizacion_de_secundaria_bajar_48', 'precio_de_los_desvios_medidos_a_subir_24', 'hueco_termico_real_48', 'generacion_treal_eolica_72', 'prevision_eolica_diaria_d1_24', 'prevision_renovable_intradia_h3_24', 'desvios_generacion_demanda_168', 'phfc_demanda_programada_168', 'generacion_treal_solar_fotovoltaica_168', 'error_prevision_eolica_3h_casacion_168', 'asignacion_banda_de_regulacion_secundaria_a_bajar_72', 'error_prevision_demanda_1d_72', 'prevision_de_la_produccion_eolica_24', 'precio_de_los_desvios_medidos_a_subir_48', 'max_petroleo', 'std_residual', 'error_prevision_eolica_1d_casacion_168', 'md_espana_168', 'q1_carbon', 'q3_eolica', 'mediana_md_espana', 'error_prevision_eolica_1d_casacion_72', 'generacion_treal_solar_fotovoltaica_72', 'min_md_espana', 'error_prevision_eolica_3h_casacion_48', 'q1_gas', 'prevision_de_la_produccion_eolica_48', 'error_prevision_fotovoltaica_3h_72', 'generacion_treal_solar_termica_24', 'hueco_termico_previsto_1d_168', 'error_prevision_demanda_1d_casacion_72', 'generacion_prevista_solar_termica_48', 'mi2_espana_168', 'prevision_renovable_diaria_d1_24', 'variacion_prevision_demanda_48', 'media_petroleo', 'media_eolica', 'q3_co2', 'coste_asignacion_de_banda_secundaria_24', 'precio_de_los_desvios_medidos_a_subir_72', 'variacion_prevision_eolica_168', 'prevision_de_la_produccion_eolica_72', 'q1_md_francia', 'std_md_espana', 'desvios_generacion_demanda_72', 'phf3_solar_fotovoltaica_48', 'precio_regulacion_terciaria_bajar_168', 'mi2_espana_72', 'mediana_gas', 'min_co2', 'coste_asignacion_de_banda_secundaria_72', 'prevision_eolica_intradia_h3_48', 'prevision_renovable_diaria_d1_72', 'precio_banda_de_regulacion_secundaria_48', 'phf3_eolica_terrestre_72', 'md_francia_72', 'max_eolica', 'prevision_fotovoltaica_intradia_h3_48', 'precio_de_los_desvios_medidos_a_bajar_72', 'precio_regulacion_terciaria_subir_48', 'min_gas', 'hora', 'hueco_termico_casado_168', 'generacion_treal_solar_termica_168', 'md_francia_48', 'variacion_prevision_demanda_72', 'generacion_treal_eolica_168', 'min_carbon', 'hueco_termico_casado_48', 'error_prevision_eolica_1d_48', 'prevision_eolica_intradia_h3_72', 'error_prevision_demanda_1d_casacion_48', 'prevision_eolica_intradia_h3_24', 'phfc_demanda_programada_24', 'md_espana_72', 'error_prevision_demanda_3h_48', 'mediana_petroleo', 'coste_asignacion_de_banda_secundaria_168', 'mi2_espana_48', 'std_eolica', 'error_prevision_eolica_1d_casacion_48', 'mi3_espana_168', 'max_residual', 'mediana_residual', 'generacion_prevista_solar_termica_168', 'generacion_treal_solar_termica_72', 'generacion_treal_solar_termica_48', 'phfc_demanda_programada_48', 'prevision_fotovoltaica_intradia_h3_168', 'prevision_h3_demanda_48', 'mi1_espana_168', 'mi3_espana_72', 'generacion_prevista_solar_termica', 'prevision_eolica_diaria_d1_72', 'error_prevision_demanda_1d_24', 'precio_de_utilizacion_de_secundaria_bajar_24', 'md_espana_24', 'precio_de_utilizacion_de_secundaria_bajar_72', 'std_md_francia', 'variacion_prevision_demanda_168', 'hueco_termico_real_168', 'skew_eolica', 'hueco_termico_previsto_3h_168', 'generacion_treal_solar_fotovoltaica_48', 'prevision_diaria_d1_demanda_24', 'q3_gas', 'phf3_eolica_terrestre_168']\n"
     ]
    },
    {
     "name": "stderr",
     "output_type": "stream",
     "text": [
      "\n"
     ]
    }
   ],
   "source": [
    "model = CatBoostRegressor(verbose=0, n_estimators=250,use_best_model=False, random_seed = 123)\n",
    "\n",
    "# if classification is False it is a Regression problem\n",
    "Feature_Selector = BorutaShap(model=model,\n",
    "                              importance_measure='gini',\n",
    "                              classification=False)\n",
    "\n",
    "Feature_Selector.fit(X=X_train_val, y=y_train_val, sample=False,\n",
    "                        train_or_test = 'test', normalize=True,verbose=True)\n",
    "\n",
    "# 1 minutos 46 segundos"
   ]
  },
  {
   "cell_type": "code",
   "execution_count": 52,
   "metadata": {
    "ExecuteTime": {
     "end_time": "2023-01-05T11:30:04.807093Z",
     "start_time": "2023-01-05T11:30:04.780338Z"
    }
   },
   "outputs": [
    {
     "data": {
      "text/plain": [
       "['asignacion_banda_de_regulacion_secundaria_a_bajar_168',\n",
       " 'asignacion_banda_de_regulacion_secundaria_a_bajar_48',\n",
       " 'curtosis_carbon',\n",
       " 'curtosis_co2',\n",
       " 'curtosis_gas',\n",
       " 'curtosis_petroleo',\n",
       " 'dia_semana',\n",
       " 'error_prevision_demanda_1d_casacion_24',\n",
       " 'error_prevision_eolica_1d_casacion_24',\n",
       " 'error_prevision_eolica_3h_casacion_72',\n",
       " 'generacion_treal_eolica_24',\n",
       " 'hueco_termico_casado_24',\n",
       " 'hueco_termico_previsto_1d',\n",
       " 'hueco_termico_previsto_1d_24',\n",
       " 'hueco_termico_real_24',\n",
       " 'max_co2',\n",
       " 'max_gas',\n",
       " 'max_md_francia',\n",
       " 'md_espana_48',\n",
       " 'md_francia_24',\n",
       " 'media_carbon',\n",
       " 'mediana_carbon',\n",
       " 'mediana_co2',\n",
       " 'mi1_espana_24',\n",
       " 'mi2_espana_24',\n",
       " 'mi3_espana_24',\n",
       " 'min_petroleo',\n",
       " 'phf3_eolica_terrestre_24',\n",
       " 'precio_banda_de_regulacion_secundaria_24',\n",
       " 'precio_carbon',\n",
       " 'precio_carbon_168',\n",
       " 'precio_carbon_24',\n",
       " 'precio_carbon_48',\n",
       " 'precio_co2',\n",
       " 'precio_co2_168',\n",
       " 'precio_co2_24',\n",
       " 'precio_co2_48',\n",
       " 'precio_co2_72',\n",
       " 'precio_de_los_desvios_medidos_a_bajar_48',\n",
       " 'precio_de_utilizacion_de_secundaria_bajar_168',\n",
       " 'precio_gas',\n",
       " 'precio_gas_168',\n",
       " 'precio_gas_24',\n",
       " 'precio_gas_48',\n",
       " 'precio_gas_72',\n",
       " 'precio_petroleo',\n",
       " 'precio_petroleo_168',\n",
       " 'precio_petroleo_24',\n",
       " 'precio_regulacion_terciaria_bajar_48',\n",
       " 'precio_regulacion_terciaria_bajar_72',\n",
       " 'precio_regulacion_terciaria_subir_24',\n",
       " 'prevision_de_la_produccion_eolica',\n",
       " 'prevision_diaria_d1_demanda',\n",
       " 'prevision_eolica_diaria_d1',\n",
       " 'prevision_renovable_diaria_d1',\n",
       " 'q1_co2',\n",
       " 'q3_carbon',\n",
       " 'q3_md_espana',\n",
       " 'q3_petroleo',\n",
       " 'skew_carbon',\n",
       " 'skew_co2',\n",
       " 'skew_gas',\n",
       " 'skew_petroleo',\n",
       " 'skew_residual',\n",
       " 'std_carbon',\n",
       " 'std_co2',\n",
       " 'std_gas',\n",
       " 'std_petroleo']"
      ]
     },
     "execution_count": 52,
     "metadata": {},
     "output_type": "execute_result"
    }
   ],
   "source": [
    "subset = Feature_Selector.Subset()\n",
    "selected_features_boruta = sorted(subset.columns.values)\n",
    "selected_features_boruta"
   ]
  },
  {
   "cell_type": "code",
   "execution_count": 53,
   "metadata": {
    "ExecuteTime": {
     "end_time": "2023-01-05T11:30:12.270403Z",
     "start_time": "2023-01-05T11:30:04.810660Z"
    }
   },
   "outputs": [],
   "source": [
    "dict_results_boruta = {'rmse':[], 'mae':[], 'r2':[]}"
   ]
  },
  {
   "cell_type": "code",
   "execution_count": 54,
   "metadata": {
    "ExecuteTime": {
     "end_time": "2023-01-05T11:39:57.430301Z",
     "start_time": "2023-01-05T11:30:12.273031Z"
    },
    "scrolled": true
   },
   "outputs": [
    {
     "name": "stdout",
     "output_type": "stream",
     "text": [
      "0\n",
      "1\n",
      "2\n",
      "3\n",
      "4\n",
      "5\n",
      "6\n",
      "7\n",
      "8\n",
      "9\n",
      "10\n",
      "11\n",
      "12\n",
      "13\n",
      "14\n",
      "15\n",
      "16\n",
      "17\n",
      "18\n",
      "19\n",
      "20\n",
      "21\n",
      "22\n",
      "23\n",
      "24\n",
      "25\n",
      "26\n",
      "27\n",
      "28\n",
      "29\n",
      "30\n",
      "31\n",
      "32\n",
      "33\n",
      "34\n",
      "35\n",
      "36\n",
      "37\n",
      "38\n",
      "39\n",
      "40\n",
      "41\n",
      "42\n",
      "43\n",
      "44\n",
      "45\n",
      "46\n",
      "47\n",
      "48\n",
      "49\n"
     ]
    }
   ],
   "source": [
    "X_test_boruta = X_test[selected_features_boruta]\n",
    "X_train_boruta = X_train[selected_features_boruta]\n",
    "X_val_boruta = X_val[selected_features_boruta]\n",
    "for iteration in range(50):\n",
    "    print(iteration)\n",
    "    model = CatBoostRegressor(verbose=0, n_estimators=250,use_best_model=True, random_seed=seeds[iteration])\n",
    "    model.fit(\n",
    "        X_train_boruta, y_train,\n",
    "        eval_set=(X_val_boruta, y_val),\n",
    "        verbose = 0,\n",
    "        plot=False\n",
    "    );\n",
    "    \n",
    "    test_results = scores_calc_print(y_test, model.predict(X_test_boruta), print_bool=False)\n",
    "    \n",
    "    dict_results_boruta[\"r2\"].append(test_results[\"R2\"])\n",
    "    dict_results_boruta[\"rmse\"].append(test_results[\"RMSE\"])\n",
    "    dict_results_boruta[\"mae\"].append(test_results[\"MAE\"])"
   ]
  },
  {
   "cell_type": "code",
   "execution_count": 55,
   "metadata": {
    "ExecuteTime": {
     "end_time": "2023-01-05T11:39:57.445878Z",
     "start_time": "2023-01-05T11:39:57.434110Z"
    }
   },
   "outputs": [],
   "source": [
    "results_boruta_df = pd.DataFrame(dict_results_boruta)\n",
    "mean_boruta_test = results_boruta_df.mean()\n",
    "std_boruta_test = results_boruta_df.std()\n",
    "max_boruta_test = results_boruta_df.max()\n",
    "min_boruta_test = results_boruta_df.min()"
   ]
  },
  {
   "cell_type": "code",
   "execution_count": 56,
   "metadata": {
    "ExecuteTime": {
     "end_time": "2023-01-05T11:39:59.412524Z",
     "start_time": "2023-01-05T11:39:57.449128Z"
    },
    "scrolled": true
   },
   "outputs": [
    {
     "data": {
      "text/plain": [
       "(rmse    29.838211\n",
       " mae     23.486189\n",
       " r2       0.059271\n",
       " dtype: float64,\n",
       " rmse    3.248398\n",
       " mae     3.164922\n",
       " r2      0.215790\n",
       " dtype: float64,\n",
       " rmse    40.550732\n",
       " mae     33.855821\n",
       " r2       0.412309\n",
       " dtype: float64,\n",
       " rmse    23.720442\n",
       " mae     18.351271\n",
       " r2      -0.717517\n",
       " dtype: float64)"
      ]
     },
     "execution_count": 56,
     "metadata": {},
     "output_type": "execute_result"
    }
   ],
   "source": [
    "mean_boruta_test, std_boruta_test, max_boruta_test, min_boruta_test"
   ]
  },
  {
   "cell_type": "markdown",
   "metadata": {},
   "source": [
    "## PIMP"
   ]
  },
  {
   "cell_type": "code",
   "execution_count": 57,
   "metadata": {
    "ExecuteTime": {
     "end_time": "2023-01-05T11:40:27.362519Z",
     "start_time": "2023-01-05T11:39:59.415616Z"
    }
   },
   "outputs": [],
   "source": [
    "model = CatBoostRegressor(verbose=0, n_estimators=250,use_best_model=False, random_seed = 123)\n",
    "model = model.fit(\n",
    "    X_train, y_train,\n",
    "    verbose = 0,\n",
    "    plot=False\n",
    ")"
   ]
  },
  {
   "cell_type": "code",
   "execution_count": 58,
   "metadata": {
    "ExecuteTime": {
     "end_time": "2023-01-05T11:42:02.076923Z",
     "start_time": "2023-01-05T11:40:27.364921Z"
    }
   },
   "outputs": [],
   "source": [
    "pimp = PermutationImportance(model, cv='prefit').fit(X_val, y_val)"
   ]
  },
  {
   "cell_type": "code",
   "execution_count": 59,
   "metadata": {
    "ExecuteTime": {
     "end_time": "2023-01-05T11:42:02.093049Z",
     "start_time": "2023-01-05T11:42:02.077920Z"
    }
   },
   "outputs": [
    {
     "data": {
      "text/plain": [
       "array([ 2.55809275e-02,  1.56826572e-03,  5.83453239e-03,  4.23070099e-02,\n",
       "        1.69576236e-02,  2.05399831e-02,  2.56241200e-02,  3.38484603e-02,\n",
       "        0.00000000e+00, -1.40817589e-03,  0.00000000e+00,  0.00000000e+00,\n",
       "       -5.08744285e-03,  5.94851852e-03,  0.00000000e+00,  0.00000000e+00,\n",
       "       -8.69073877e-04, -1.39496181e-04,  1.87000427e-02,  9.72826097e-04,\n",
       "        1.32649257e-02,  7.06770125e-03,  2.13544879e-05, -9.88117616e-04,\n",
       "        2.07172415e-01,  5.75937841e-03,  2.95320923e-03, -9.73151064e-03,\n",
       "       -1.66590852e-02,  2.93052084e-02,  0.00000000e+00,  2.04549643e-04,\n",
       "        1.26520468e-02,  3.04302006e-03,  1.14488818e-02,  3.83118977e-04,\n",
       "       -1.56847859e-04,  5.64695058e-04,  3.02119049e-03,  6.74444425e-04,\n",
       "        0.00000000e+00,  0.00000000e+00,  0.00000000e+00,  0.00000000e+00,\n",
       "        3.01028055e-03, -1.47078961e-04,  3.07536136e-03,  1.09306007e-03,\n",
       "       -2.28695307e-03, -1.00812753e-03, -1.13283396e-05,  0.00000000e+00,\n",
       "        0.00000000e+00, -2.18936255e-03,  0.00000000e+00,  0.00000000e+00,\n",
       "        1.00800936e-03,  0.00000000e+00,  0.00000000e+00,  4.02818734e-04,\n",
       "        5.33903395e-04,  2.62300018e-03, -3.44407265e-04,  7.82800546e-04,\n",
       "        1.91924191e-01, -1.79701191e-02, -3.47207901e-03,  7.45719415e-03,\n",
       "        0.00000000e+00, -4.40373993e-03, -1.04199306e-03,  0.00000000e+00,\n",
       "        4.91776413e-04,  4.20643518e-04,  4.29818406e-03, -1.77207583e-03,\n",
       "        1.72452310e-02,  3.33734692e-03,  3.18309841e-03,  2.24920396e-03,\n",
       "       -7.36540239e-03,  7.69908010e-04,  7.14627660e-03,  1.65790646e-02,\n",
       "        0.00000000e+00,  0.00000000e+00,  0.00000000e+00,  7.23376992e-03,\n",
       "        2.32718765e-02,  7.82390809e-02,  3.63010324e-03,  0.00000000e+00,\n",
       "       -1.24985587e-03, -1.11332487e-03,  0.00000000e+00,  4.77166369e-04,\n",
       "        3.32201614e-03,  2.04681675e-02, -2.22498327e-04, -2.40952783e-02,\n",
       "        1.70225846e-02,  1.12660800e-04, -4.33457716e-03, -9.28706526e-04,\n",
       "       -8.65180638e-03,  1.70593580e-03,  2.76965270e-02, -1.70763464e-03,\n",
       "        1.23206421e-03,  6.28812169e-03,  0.00000000e+00,  6.71778084e-04,\n",
       "        1.03687487e-03, -1.48863003e-03,  4.41405786e-04, -1.35325991e-02,\n",
       "        0.00000000e+00,  6.24100208e-03,  1.14544643e-02, -1.13167277e-02,\n",
       "        0.00000000e+00,  0.00000000e+00, -2.08418397e-04,  6.94121675e-04,\n",
       "        7.74938499e-03,  1.26168892e-03,  9.69797001e-03, -2.46366966e-03,\n",
       "        1.15938214e-02,  2.01506662e-03, -3.32223913e-03,  1.31907423e-03,\n",
       "        8.74651789e-06, -1.06295321e-03,  0.00000000e+00,  2.05882859e-03,\n",
       "        0.00000000e+00,  1.48061549e-04, -8.51897159e-04,  9.42082003e-05,\n",
       "       -2.52201446e-03,  3.84430801e-05, -4.38898017e-04, -2.08221514e-04,\n",
       "        0.00000000e+00,  0.00000000e+00, -5.82307244e-04,  2.56226007e-02,\n",
       "        0.00000000e+00, -4.87063990e-03,  0.00000000e+00, -7.45735649e-03,\n",
       "       -3.32595168e-03, -3.25642365e-03, -3.85129987e-03,  5.74664161e-04,\n",
       "       -9.59058375e-03, -1.10254977e-02, -5.29391607e-02, -2.91061065e-03,\n",
       "        2.23868839e-03, -5.45628354e-03,  5.20629475e-03,  1.71007583e-03,\n",
       "        5.45575524e-04,  1.99215404e-03, -6.53305105e-04, -4.18695819e-03,\n",
       "       -2.39720682e-03, -4.02804756e-03, -1.06548708e-03,  9.86290029e-03,\n",
       "        1.17071979e-03, -2.20494554e-03, -3.29032325e-04,  3.32015845e-04,\n",
       "       -1.64924346e-04,  0.00000000e+00, -4.86178916e-03,  8.66520285e-04,\n",
       "        9.07291355e-04,  7.11639301e-03, -3.43074455e-04,  2.44432091e-04,\n",
       "        4.96034560e-04,  1.58411112e-03,  1.17426491e-03, -1.19513112e-03,\n",
       "       -7.82847856e-04, -2.17772396e-03,  2.46722438e-03, -6.26089083e-03,\n",
       "        2.92198537e-04,  2.71321044e-04,  2.29130104e-05,  5.26665161e-04,\n",
       "        1.54127456e-04,  4.17733345e-03, -4.46778159e-03, -6.16017363e-03,\n",
       "        4.91691210e-03,  3.06776629e-04, -4.05539805e-03,  0.00000000e+00,\n",
       "       -4.93201040e-04, -5.62637885e-04, -3.07439560e-03, -2.57565663e-03,\n",
       "       -4.08621028e-03, -5.21923280e-04,  0.00000000e+00, -2.87311059e-03,\n",
       "        3.13135774e-05,  0.00000000e+00, -4.43945540e-04,  4.98416707e-03,\n",
       "       -4.14432430e-04,  3.88449772e-03, -3.46052976e-03,  0.00000000e+00,\n",
       "       -1.82366058e-02,  0.00000000e+00,  0.00000000e+00, -2.76040186e-02,\n",
       "       -7.11214054e-01, -5.47978969e-01,  3.21923395e-02,  6.27037143e-03,\n",
       "        2.73509541e-03,  0.00000000e+00,  0.00000000e+00,  0.00000000e+00,\n",
       "       -2.20184203e-03,  1.34159982e-04,  3.77551389e-02,  6.35798415e-03,\n",
       "       -1.01923966e-02,  0.00000000e+00,  1.59381320e-03, -4.57557153e-05,\n",
       "        6.84045018e-04, -1.08020668e-02, -6.31298551e-03,  2.44325362e-03,\n",
       "        3.27279648e-03,  0.00000000e+00,  0.00000000e+00,  7.96625471e-04,\n",
       "       -2.07678547e-04,  0.00000000e+00,  0.00000000e+00, -9.30580856e-03,\n",
       "        2.41755605e-03, -6.41333305e-03, -1.69779611e-03, -4.82376704e-03,\n",
       "        1.03453966e-03, -8.97224957e-03,  1.50296342e-03, -3.80326495e-03,\n",
       "       -6.52797187e-03,  0.00000000e+00,  0.00000000e+00,  8.37215171e-03,\n",
       "        1.02515028e-02,  9.09028628e-04,  2.11677725e-02,  4.60354873e-04,\n",
       "       -2.22400970e-04, -9.17780118e-04,  0.00000000e+00, -1.40932638e-02,\n",
       "       -2.30709218e-02, -1.68004771e-02,  1.11790291e-03,  1.61779225e-03,\n",
       "        3.22258909e-03,  1.45517512e-03,  5.11564996e-04, -4.89247154e-03,\n",
       "       -1.02407443e-01, -2.43768190e-02, -2.27635740e-02,  1.69545359e-02,\n",
       "       -6.26029475e-03,  6.95918539e-02,  1.44011766e-02,  1.52329391e-02,\n",
       "        0.00000000e+00,  0.00000000e+00, -1.36747662e-03, -5.41754521e-04,\n",
       "        3.28977604e-02,  0.00000000e+00,  1.83910846e-03,  3.06147259e-03,\n",
       "       -5.29147505e-03,  0.00000000e+00,  1.99805455e-03, -2.31311903e-02,\n",
       "        0.00000000e+00,  1.73805462e-02,  0.00000000e+00,  1.33989993e-03,\n",
       "        1.93702323e-03,  0.00000000e+00,  0.00000000e+00, -1.98874229e-02,\n",
       "        0.00000000e+00,  0.00000000e+00,  2.82107895e-02,  1.73191651e-02,\n",
       "        1.46587706e-02, -4.06959949e-03,  3.31492257e-03, -2.45882807e-02,\n",
       "        0.00000000e+00,  0.00000000e+00,  1.74232654e-01,  2.46880126e-03,\n",
       "        4.99994571e-05, -1.10742465e-02, -1.23056708e-03,  0.00000000e+00,\n",
       "        0.00000000e+00, -2.94419432e-03, -3.02922372e-04,  2.93223018e-03,\n",
       "        0.00000000e+00,  3.94683722e-04, -2.87182564e-04,  0.00000000e+00,\n",
       "       -6.12685399e-04,  4.08721169e-04, -3.43486182e-02])"
      ]
     },
     "execution_count": 59,
     "metadata": {},
     "output_type": "execute_result"
    }
   ],
   "source": [
    "pimp.feature_importances_"
   ]
  },
  {
   "cell_type": "code",
   "execution_count": 65,
   "metadata": {
    "ExecuteTime": {
     "end_time": "2023-01-05T11:43:31.416637Z",
     "start_time": "2023-01-05T11:43:31.408442Z"
    }
   },
   "outputs": [],
   "source": [
    "sel = SelectFromModel(pimp,threshold=None, prefit=True)"
   ]
  },
  {
   "cell_type": "code",
   "execution_count": 66,
   "metadata": {
    "ExecuteTime": {
     "end_time": "2023-01-05T11:43:32.795037Z",
     "start_time": "2023-01-05T11:43:31.420220Z"
    }
   },
   "outputs": [
    {
     "data": {
      "text/plain": [
       "(12382, 56)"
      ]
     },
     "execution_count": 66,
     "metadata": {},
     "output_type": "execute_result"
    }
   ],
   "source": [
    "sel.transform(X_train).shape"
   ]
  },
  {
   "cell_type": "code",
   "execution_count": 67,
   "metadata": {
    "ExecuteTime": {
     "end_time": "2023-01-05T11:43:32.821249Z",
     "start_time": "2023-01-05T11:43:32.800533Z"
    }
   },
   "outputs": [
    {
     "data": {
      "text/plain": [
       "['curtosis_carbon',\n",
       " 'curtosis_gas',\n",
       " 'dia_semana',\n",
       " 'generacion_prevista_solar_termica',\n",
       " 'generacion_prevista_solar_termica_72',\n",
       " 'generacion_treal_solar_fotovoltaica_168',\n",
       " 'hora',\n",
       " 'hueco_termico_previsto_1d',\n",
       " 'hueco_termico_previsto_3h_168',\n",
       " 'max_carbon',\n",
       " 'max_gas',\n",
       " 'md_espana_24',\n",
       " 'md_francia_168',\n",
       " 'md_francia_48',\n",
       " 'mediana_gas',\n",
       " 'mediana_md_francia',\n",
       " 'mi1_espana_24',\n",
       " 'mi2_espana_24',\n",
       " 'mi2_espana_48',\n",
       " 'mi3_espana_24',\n",
       " 'mi3_espana_72',\n",
       " 'min_carbon',\n",
       " 'min_md_espana',\n",
       " 'min_petroleo',\n",
       " 'phf3_solar_fotovoltaica_72',\n",
       " 'phfc_demanda_programada_24',\n",
       " 'precio_co2_72',\n",
       " 'precio_de_los_desvios_medidos_a_bajar_24',\n",
       " 'precio_de_los_desvios_medidos_a_bajar_48',\n",
       " 'precio_de_utilizacion_de_secundaria_bajar_168',\n",
       " 'precio_de_utilizacion_de_secundaria_subir_24',\n",
       " 'precio_gas',\n",
       " 'precio_gas_24',\n",
       " 'precio_gas_48',\n",
       " 'precio_gas_72',\n",
       " 'precio_petroleo_168',\n",
       " 'precio_petroleo_24',\n",
       " 'precio_regulacion_terciaria_subir_24',\n",
       " 'precio_regulacion_terciaria_subir_48',\n",
       " 'prevision_diaria_d1_demanda',\n",
       " 'prevision_eolica_diaria_d1',\n",
       " 'prevision_eolica_diaria_d1_24',\n",
       " 'prevision_eolica_intradia_h3_72',\n",
       " 'prevision_fotovoltaica_intradia_h3_168',\n",
       " 'prevision_fotovoltaica_intradia_h3_72',\n",
       " 'prevision_renovable_diaria_d1',\n",
       " 'prevision_renovable_intradia_h3_168',\n",
       " 'q1_gas',\n",
       " 'q1_md_francia',\n",
       " 'q3_co2',\n",
       " 'q3_gas',\n",
       " 'skew_gas',\n",
       " 'std_carbon',\n",
       " 'std_gas',\n",
       " 'std_md_francia',\n",
       " 'std_petroleo']"
      ]
     },
     "execution_count": 67,
     "metadata": {},
     "output_type": "execute_result"
    }
   ],
   "source": [
    "selected_features_pimp = sorted(list(X_train.columns[sel.get_support()]))\n",
    "selected_features_pimp"
   ]
  },
  {
   "cell_type": "code",
   "execution_count": 68,
   "metadata": {
    "ExecuteTime": {
     "end_time": "2023-01-05T11:43:32.851431Z",
     "start_time": "2023-01-05T11:43:32.826585Z"
    }
   },
   "outputs": [],
   "source": [
    "dict_results_pimp = {'rmse':[], 'mae':[], 'r2':[]}"
   ]
  },
  {
   "cell_type": "code",
   "execution_count": 69,
   "metadata": {
    "ExecuteTime": {
     "end_time": "2023-01-05T11:55:28.730846Z",
     "start_time": "2023-01-05T11:43:32.855085Z"
    },
    "scrolled": true
   },
   "outputs": [
    {
     "name": "stdout",
     "output_type": "stream",
     "text": [
      "0\n",
      "1\n",
      "2\n",
      "3\n",
      "4\n",
      "5\n",
      "6\n",
      "7\n",
      "8\n",
      "9\n",
      "10\n",
      "11\n",
      "12\n",
      "13\n",
      "14\n",
      "15\n",
      "16\n",
      "17\n",
      "18\n",
      "19\n",
      "20\n",
      "21\n",
      "22\n",
      "23\n",
      "24\n",
      "25\n",
      "26\n",
      "27\n",
      "28\n",
      "29\n",
      "30\n",
      "31\n",
      "32\n",
      "33\n",
      "34\n",
      "35\n",
      "36\n",
      "37\n",
      "38\n",
      "39\n",
      "40\n",
      "41\n",
      "42\n",
      "43\n",
      "44\n",
      "45\n",
      "46\n",
      "47\n",
      "48\n",
      "49\n"
     ]
    }
   ],
   "source": [
    "X_test_pimp = X_test[selected_features_pimp]\n",
    "X_train_pimp = X_train[selected_features_pimp]\n",
    "X_val_pimp = X_val[selected_features_pimp]\n",
    "for iteration in range(50):\n",
    "    print(iteration)\n",
    "    model = CatBoostRegressor(verbose=0, n_estimators=250,use_best_model=True, random_seed=seeds[iteration])\n",
    "    model.fit(\n",
    "        X_train_pimp, y_train,\n",
    "        eval_set=(X_val_pimp, y_val),\n",
    "        verbose = 0,\n",
    "        plot=False\n",
    "    );\n",
    "    \n",
    "    test_results = scores_calc_print(y_test, model.predict(X_test_pimp), print_bool=False)\n",
    "    \n",
    "    dict_results_pimp[\"r2\"].append(test_results[\"R2\"])\n",
    "    dict_results_pimp[\"rmse\"].append(test_results[\"RMSE\"])\n",
    "    dict_results_pimp[\"mae\"].append(test_results[\"MAE\"])"
   ]
  },
  {
   "cell_type": "code",
   "execution_count": 70,
   "metadata": {
    "ExecuteTime": {
     "end_time": "2023-01-05T11:55:28.748370Z",
     "start_time": "2023-01-05T11:55:28.734346Z"
    }
   },
   "outputs": [],
   "source": [
    "results_pimp_df = pd.DataFrame(dict_results_pimp)\n",
    "mean_pimp_test = results_pimp_df.mean()\n",
    "std_pimp_test = results_pimp_df.std()\n",
    "max_pimp_test = results_pimp_df.max()\n",
    "min_pimp_test = results_pimp_df.min()"
   ]
  },
  {
   "cell_type": "code",
   "execution_count": 71,
   "metadata": {
    "ExecuteTime": {
     "end_time": "2023-01-05T11:55:28.904142Z",
     "start_time": "2023-01-05T11:55:28.751371Z"
    },
    "scrolled": true
   },
   "outputs": [
    {
     "data": {
      "text/plain": [
       "(rmse    29.489386\n",
       " mae     23.313851\n",
       " r2       0.088565\n",
       " dtype: float64,\n",
       " rmse    1.746684\n",
       " mae     1.733948\n",
       " r2      0.108469\n",
       " dtype: float64,\n",
       " rmse    33.963192\n",
       " mae     27.721661\n",
       " r2       0.283513\n",
       " dtype: float64,\n",
       " rmse    26.191008\n",
       " mae     20.108880\n",
       " r2      -0.204816\n",
       " dtype: float64)"
      ]
     },
     "execution_count": 71,
     "metadata": {},
     "output_type": "execute_result"
    }
   ],
   "source": [
    "mean_pimp_test, std_pimp_test, max_pimp_test, min_pimp_test"
   ]
  },
  {
   "cell_type": "markdown",
   "metadata": {},
   "source": [
    "# Results"
   ]
  },
  {
   "cell_type": "code",
   "execution_count": 72,
   "metadata": {
    "ExecuteTime": {
     "end_time": "2023-01-05T11:55:29.275083Z",
     "start_time": "2023-01-05T11:55:28.907143Z"
    }
   },
   "outputs": [],
   "source": [
    "nombres = ['Lasso_0.01', 'Lasso_0.001', 'Lasso_0.0001', 'Lasso_0.00001', 'Boruta', 'PIMP']"
   ]
  },
  {
   "cell_type": "markdown",
   "metadata": {},
   "source": [
    "## MAE"
   ]
  },
  {
   "cell_type": "code",
   "execution_count": 73,
   "metadata": {
    "ExecuteTime": {
     "end_time": "2023-01-05T11:55:29.382060Z",
     "start_time": "2023-01-05T11:55:29.279190Z"
    }
   },
   "outputs": [],
   "source": [
    "resultados_mae_mean = [mean_lasso_001_test['mae'], mean_lasso_0001_test['mae'], mean_lasso_00001_test['mae'], mean_lasso_000001_test['mae'], mean_boruta_test['mae'], mean_pimp_test['mae']]\n",
    "resultados_mae_std = [std_lasso_001_test['mae'], std_lasso_0001_test['mae'], std_lasso_00001_test['mae'], std_lasso_000001_test['mae'], std_boruta_test['mae'], std_pimp_test['mae']]\n",
    "resultados_mae_max = [max_lasso_001_test['mae'], max_lasso_0001_test['mae'], max_lasso_00001_test['mae'], max_lasso_000001_test['mae'], max_boruta_test['mae'], max_pimp_test['mae']]\n",
    "resultados_mae_min = [min_lasso_001_test['mae'], min_lasso_0001_test['mae'], min_lasso_00001_test['mae'], min_lasso_000001_test['mae'], min_boruta_test['mae'], min_pimp_test['mae']]"
   ]
  },
  {
   "cell_type": "code",
   "execution_count": 74,
   "metadata": {
    "ExecuteTime": {
     "end_time": "2023-01-05T11:55:30.222251Z",
     "start_time": "2023-01-05T11:55:29.387061Z"
    },
    "scrolled": false
   },
   "outputs": [
    {
     "data": {
      "text/plain": [
       "(17.0, 38.0)"
      ]
     },
     "execution_count": 74,
     "metadata": {},
     "output_type": "execute_result"
    },
    {
     "data": {
      "image/png": "[encoded data removed]",
      "text/plain": [
       "<Figure size 2000x1000 with 1 Axes>"
      ]
     },
     "metadata": {},
     "output_type": "display_data"
    }
   ],
   "source": [
    "fig, ax = plt.subplots(1, 1, figsize = (20, 10))\n",
    "ax.bar(nombres, resultados_mae_mean, alpha = 0.7, width=0.3)\n",
    "ax.errorbar(nombres, resultados_mae_mean, resultados_mae_std, fmt='.', color='Black', elinewidth=2,capthick=10,errorevery=1, alpha=0.5, ms=4, capsize = 2)\n",
    "ax.plot(nombres, resultados_mae_max, color='red', alpha=0.8, linestyle='-', marker='.', markersize=10)\n",
    "ax.plot(nombres, resultados_mae_min, color='lime', alpha=0.8, linestyle='-', marker='.', markersize=10)\n",
    "ax.yaxis.grid(True,linestyle='--')\n",
    "ax.xaxis.grid(False)\n",
    "ax.title.set_text(\"MAE\")\n",
    "ax.title.set_size(15)\n",
    "for index,data in enumerate(resultados_mae_mean):\n",
    "    ax.text(x=index , y =data+0.01 , s=f\"{round(data, 3)}\" , fontdict=dict(fontsize=10), ha='center')\n",
    "ax.set_ylim([17, 38])\n"
   ]
  },
  {
   "cell_type": "markdown",
   "metadata": {},
   "source": [
    "## RMSE"
   ]
  },
  {
   "cell_type": "code",
   "execution_count": 75,
   "metadata": {
    "ExecuteTime": {
     "end_time": "2023-01-05T11:55:30.237525Z",
     "start_time": "2023-01-05T11:55:30.225752Z"
    }
   },
   "outputs": [],
   "source": [
    "resultados_rmse_mean = [mean_lasso_001_test['rmse'], mean_lasso_0001_test['rmse'], mean_lasso_00001_test['rmse'], mean_lasso_000001_test['rmse'], mean_boruta_test['rmse'], mean_pimp_test['rmse']]\n",
    "resultados_rmse_std = [std_lasso_001_test['rmse'], std_lasso_0001_test['rmse'], std_lasso_00001_test['rmse'], std_lasso_000001_test['rmse'], std_boruta_test['rmse'], std_pimp_test['rmse']]\n",
    "resultados_rmse_max = [max_lasso_001_test['rmse'], max_lasso_0001_test['rmse'], max_lasso_00001_test['rmse'], max_lasso_000001_test['rmse'], max_boruta_test['rmse'], max_pimp_test['rmse']]\n",
    "resultados_rmse_min = [min_lasso_001_test['rmse'], min_lasso_0001_test['rmse'], min_lasso_00001_test['rmse'], min_lasso_000001_test['rmse'], min_boruta_test['rmse'], min_pimp_test['rmse']]"
   ]
  },
  {
   "cell_type": "code",
   "execution_count": 76,
   "metadata": {
    "ExecuteTime": {
     "end_time": "2023-01-05T11:55:30.900326Z",
     "start_time": "2023-01-05T11:55:30.240526Z"
    },
    "scrolled": false
   },
   "outputs": [
    {
     "data": {
      "text/plain": [
       "(22.0, 44.0)"
      ]
     },
     "execution_count": 76,
     "metadata": {},
     "output_type": "execute_result"
    },
    {
     "data": {
      "image/png": "[encoded data removed]",
      "text/plain": [
       "<Figure size 2000x1000 with 1 Axes>"
      ]
     },
     "metadata": {},
     "output_type": "display_data"
    }
   ],
   "source": [
    "fig, ax = plt.subplots(1, 1, figsize = (20, 10))\n",
    "ax.bar(nombres, resultados_rmse_mean, alpha = 0.7, width=0.3)\n",
    "ax.errorbar(nombres, resultados_rmse_mean, resultados_rmse_std, fmt='.', color='Black', elinewidth=2,capthick=10,errorevery=1, alpha=0.5, ms=4, capsize = 2)\n",
    "ax.plot(nombres, resultados_rmse_max, color='red', alpha=0.8, linestyle='-', marker='.', markersize=10)\n",
    "ax.plot(nombres, resultados_rmse_min, color='lime', alpha=0.8, linestyle='-', marker='.', markersize=10)\n",
    "ax.yaxis.grid(True,linestyle='--')\n",
    "ax.xaxis.grid(False)\n",
    "ax.title.set_text(\"RMSE\")\n",
    "ax.title.set_size(15)\n",
    "for index,data in enumerate(resultados_rmse_mean):\n",
    "    ax.text(x=index , y =data+0.01 , s=f\"{round(data, 3)}\" , fontdict=dict(fontsize=10), ha='center')\n",
    "ax.set_ylim([22, 44])"
   ]
  },
  {
   "cell_type": "markdown",
   "metadata": {},
   "source": [
    "## R2"
   ]
  },
  {
   "cell_type": "code",
   "execution_count": 77,
   "metadata": {
    "ExecuteTime": {
     "end_time": "2023-01-05T11:55:30.915931Z",
     "start_time": "2023-01-05T11:55:30.903826Z"
    }
   },
   "outputs": [],
   "source": [
    "resultados_r2_mean = [mean_lasso_001_test['r2'], mean_lasso_0001_test['r2'], mean_lasso_00001_test['r2'], mean_lasso_000001_test['r2'], mean_boruta_test['r2'], mean_pimp_test['r2']]\n",
    "resultados_r2_std = [std_lasso_001_test['r2'], std_lasso_0001_test['r2'], std_lasso_00001_test['r2'], std_lasso_000001_test['r2'], std_boruta_test['r2'], std_pimp_test['r2']]\n",
    "resultados_r2_max = [max_lasso_001_test['r2'], max_lasso_0001_test['r2'], max_lasso_00001_test['r2'], max_lasso_000001_test['r2'], max_boruta_test['r2'], max_pimp_test['r2']]\n",
    "resultados_r2_min = [min_lasso_001_test['r2'], min_lasso_0001_test['r2'], min_lasso_00001_test['r2'], min_lasso_000001_test['r2'], min_boruta_test['r2'], min_pimp_test['r2']]"
   ]
  },
  {
   "cell_type": "code",
   "execution_count": 78,
   "metadata": {
    "ExecuteTime": {
     "end_time": "2023-01-05T11:55:31.744074Z",
     "start_time": "2023-01-05T11:55:30.918932Z"
    }
   },
   "outputs": [
    {
     "data": {
      "text/plain": [
       "([-0.03357762322395885,\n",
       "  0.3002927899034019,\n",
       "  0.2961755397045073,\n",
       "  0.3721883944396488,\n",
       "  0.41230876279412976,\n",
       "  0.2835133923614923],\n",
       " [-0.9813406891064724,\n",
       "  -0.8860130694998734,\n",
       "  -0.3561079005051737,\n",
       "  -0.8818905332623985,\n",
       "  -0.7175170265806874,\n",
       "  -0.20481579881368273])"
      ]
     },
     "execution_count": 78,
     "metadata": {},
     "output_type": "execute_result"
    }
   ],
   "source": [
    "resultados_r2_max, resultados_r2_min"
   ]
  },
  {
   "cell_type": "code",
   "execution_count": 79,
   "metadata": {
    "ExecuteTime": {
     "end_time": "2023-01-05T11:55:35.901978Z",
     "start_time": "2023-01-05T11:55:31.747132Z"
    }
   },
   "outputs": [
    {
     "data": {
      "text/plain": [
       "(-1.0, 0.5)"
      ]
     },
     "execution_count": 79,
     "metadata": {},
     "output_type": "execute_result"
    },
    {
     "data": {
      "image/png": "[encoded data removed]",
      "text/plain": [
       "<Figure size 2000x1000 with 1 Axes>"
      ]
     },
     "metadata": {},
     "output_type": "display_data"
    }
   ],
   "source": [
    "fig, ax = plt.subplots(1, 1, figsize = (20, 10))\n",
    "ax.bar(nombres, resultados_r2_mean, alpha = 0.7, width=0.3)\n",
    "ax.errorbar(nombres, resultados_r2_mean, resultados_r2_std, fmt='.', color='Black', elinewidth=2,capthick=10,errorevery=1, alpha=0.5, ms=4, capsize = 2)\n",
    "ax.plot(nombres, resultados_r2_max, color='lime', alpha=0.8, linestyle='-', marker='.', markersize=10)\n",
    "ax.plot(nombres, resultados_r2_min, color='red', alpha=0.8, linestyle='-', marker='.', markersize=10)\n",
    "ax.yaxis.grid(True,linestyle='--')\n",
    "ax.xaxis.grid(False)\n",
    "ax.title.set_text(\"R2\")\n",
    "ax.title.set_size(15)\n",
    "for index,data in enumerate(resultados_r2_mean):\n",
    "    ax.text(x=index , y =data+0.001 , s=f\"{round(data, 3)}\" , fontdict=dict(fontsize=10), ha='center')\n",
    "ax.set_ylim([-1, 0.5])"
   ]
  },
  {
   "cell_type": "markdown",
   "metadata": {},
   "source": [
    "## Number of variables"
   ]
  },
  {
   "cell_type": "code",
   "execution_count": 80,
   "metadata": {
    "ExecuteTime": {
     "end_time": "2023-01-05T11:55:35.987597Z",
     "start_time": "2023-01-05T11:55:35.904404Z"
    }
   },
   "outputs": [],
   "source": [
    "n_var = [len(features_lasso_001), len(features_lasso_0001), len(features_lasso_00001), len(features_lasso_000001), len(selected_features_boruta), len(selected_features_pimp)]"
   ]
  },
  {
   "cell_type": "code",
   "execution_count": 81,
   "metadata": {
    "ExecuteTime": {
     "end_time": "2023-01-05T11:55:36.635743Z",
     "start_time": "2023-01-05T11:55:35.989599Z"
    }
   },
   "outputs": [
    {
     "data": {
      "text/plain": [
       "(0.0, 160.0)"
      ]
     },
     "execution_count": 81,
     "metadata": {},
     "output_type": "execute_result"
    },
    {
     "data": {
      "image/png": "[encoded data removed]",
      "text/plain": [
       "<Figure size 2000x1000 with 1 Axes>"
      ]
     },
     "metadata": {},
     "output_type": "display_data"
    }
   ],
   "source": [
    "fig, ax = plt.subplots(1, 1, figsize = (20, 10))\n",
    "bars = ax.bar(nombres, n_var, alpha = 0.7, width=0.3)\n",
    "ax.yaxis.grid(True,linestyle='--')\n",
    "ax.xaxis.grid(False)\n",
    "ax.title.set_text(\"N Var\")\n",
    "ax.title.set_size(15)\n",
    "for index,data in enumerate(n_var):\n",
    "    ax.text(x=index , y =data+0.01 , s=f\"{round(data, 3)}\" , fontdict=dict(fontsize=10), ha='center')\n",
    "ax.set_ylim([0, 160])"
   ]
  },
  {
   "cell_type": "code",
   "execution_count": null,
   "metadata": {},
   "outputs": [],
   "source": []
  },
  {
   "cell_type": "code",
   "execution_count": null,
   "metadata": {},
   "outputs": [],
   "source": []
  }
 ],
 "metadata": {
  "kernelspec": {
   "display_name": "BrainEN_v1",
   "language": "python",
   "name": "brainen_v1"
  },
  "language_info": {
   "codemirror_mode": {
    "name": "ipython",
    "version": 3
   },
   "file_extension": ".py",
   "mimetype": "text/x-python",
   "name": "python",
   "nbconvert_exporter": "python",
   "pygments_lexer": "ipython3",
   "version": "3.9.7"
  }
 },
 "nbformat": 4,
 "nbformat_minor": 4
}
